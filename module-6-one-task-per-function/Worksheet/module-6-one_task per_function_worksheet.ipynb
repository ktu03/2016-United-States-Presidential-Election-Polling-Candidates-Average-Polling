{
 "cells": [
  {
   "cell_type": "code",
   "execution_count": 2,
   "metadata": {
    "editable": false
   },
   "outputs": [],
   "source": [
    "from cs103 import *\n",
    "from typing import NamedTuple, List, Optional\n",
    "from enum import Enum\n",
    "import math  # for math.sqrt, the square root function."
   ]
  },
  {
   "cell_type": "markdown",
   "metadata": {
    "editable": false
   },
   "source": [
    "## One Task Per Function Worksheet\n",
    "\n",
    "### Problem 1\n",
    "Below are several descriptions of function designs which might require a helper function. For each, either write that no helper function is required, or write the rule that dictates the need for a helper function: **reference** to other non-primitive data, function **composition**, knowledge **domain shift**, or **one task per** function. Use the bolded words as shorthand.\n",
    "\n",
    "**Some of these rules overlap** (e.g., **reference** is a subtype of **domain shift** which is a subtype of **one task per**); when they do, **write the most specific that applies**.\n",
    "\n",
    "This can be challenging to do without actually designing the functions, so you may find it helpful to partially work through a function design.\n",
    "\n",
    "**a.** You are designing a function to make name tags for a list of employees that will have their name and department on them. The partial data definitions for `Employee` and `List[Employee]` are included below:\n",
    "\n",
    "```python\n",
    "Employee = NamedTuple('Employee', [('name', str),\n",
    "                                   ('id', float),\n",
    "                                   ('dept', str)])\n",
    "# interp. an employee with name, id number, and department\n",
    "\n",
    "# List[Employee]\n",
    "# interp. a list of employees\n",
    "```\n"
   ]
  },
  {
   "cell_type": "markdown",
   "metadata": {},
   "source": [
    "*reference to Employee*"
   ]
  },
  {
   "cell_type": "markdown",
   "metadata": {
    "editable": false
   },
   "source": [
    "**b.** A function that takes a list of strings and adds a question mark to every string that starts with a 'w"
   ]
  },
  {
   "cell_type": "markdown",
   "metadata": {},
   "source": [
    "*Composition*"
   ]
  },
  {
   "cell_type": "markdown",
   "metadata": {
    "editable": false
   },
   "source": [
    "### Problem 2\n",
    "Suppose you are analyzing survey responses and want to design a function called `keep_valid_responses` that takes a list of strings; and returns a list of the strings that both (a) are at least fifteen characters long and (b) start with the string “response:”. You also want to strip the prefix “response:” out of each of the strings in the list that you’ll return.\n",
    "\n",
    "So if this input is the list:\n",
    "\n",
    "    ['response:', 'response:I like it', 'I like it', 'response: x',\n",
    "    'response:I don’t like it']\n",
    "the list below is returned\n",
    "\n",
    "    ['I like it', 'I don’t like it']\n",
    "Below is a data definition for a list of strings. We’ve also given you one fully designed helper function.\n",
    "\n",
    "As you go, and especially at the templating stage (for composition) and the coding the body stage (for helpers in general), think carefully about whether a helper function might be required or just a good idea."
   ]
  },
  {
   "cell_type": "code",
   "execution_count": 4,
   "metadata": {
    "editable": false
   },
   "outputs": [
    {
     "name": "stdout",
     "output_type": "stream",
     "text": [
      "\u001b[92m4 of 4 tests passed\u001b[0m\n"
     ]
    }
   ],
   "source": [
    "# List[str]\n",
    "# interp. a list of strings\n",
    "\n",
    "LOI0 = []\n",
    "LOI1 = ['hello', 'starfish', 'it', 'a', 'apple', 'sit', 'Santa']\n",
    "\n",
    "@typecheck\n",
    "def fn_for_los(los: List[str]) -> ...: # template based on arb. sized\n",
    "    # description of the acc\n",
    "    acc = ... # type: ...\n",
    "    for s in los:\n",
    "        acc = ...(s, acc)\n",
    "    return acc\n",
    "\n",
    "@typecheck\n",
    "def starts_with_response(s: str) -> bool:\n",
    "    \"\"\"\n",
    "    produce True if the string starts with 'response:'\n",
    "    \"\"\"\n",
    "    #return False # stub\n",
    "    # Template based on atomic, non-distinct\n",
    "    prefix = \"response:\"\n",
    "    return s[:len(prefix)] == prefix\n",
    "\n",
    "start_testing()\n",
    "expect(starts_with_response(''), False)\n",
    "expect(starts_with_response('response:'), True)\n",
    "expect(starts_with_response('response:xyz'), True)\n",
    "expect(starts_with_response('response I like it'), False)\n",
    "summary()"
   ]
  },
  {
   "cell_type": "code",
   "execution_count": 16,
   "metadata": {},
   "outputs": [
    {
     "name": "stdout",
     "output_type": "stream",
     "text": [
      "\u001b[92m2 of 2 tests passed\u001b[0m\n",
      "\u001b[92m4 of 4 tests passed\u001b[0m\n"
     ]
    }
   ],
   "source": [
    "@typecheck\n",
    "def is_at_least_fifteen_characters(s: str) -> bool:\n",
    "    \"\"\"returns True if the given string (s) is at least 15 characters, False otherwise.\"\"\"\n",
    "    #return True #stub\n",
    "    #return...(s) #template\n",
    "    return len(s)>=15\n",
    "start_testing()\n",
    "expect(is_at_least_fifteen_characters(\"president\"), False)\n",
    "expect(is_at_least_fifteen_characters(\"instantaneously\"), True)\n",
    "summary()\n",
    "\n",
    "\n",
    "@typecheck\n",
    "def keep_valid_responses(los: List[str]) -> List[str]:\n",
    "    \"\"\"returns a list of strings from los that are at least 15 characters long and begin with 'response:'\"\"\"\n",
    "    #return [] #stub\n",
    "    #template from List[str]\n",
    "    #valid_responses is the list of strings that have met the requirements indicated in the purpose above seen so far\n",
    "    valid_responses = [] #type: List[str]\n",
    "    \n",
    "    for s in los:\n",
    "        if (starts_with_response(s)) and (is_at_least_fifteen_characters(s)):\n",
    "            valid_responses.append(s[9:])\n",
    "    return valid_responses\n",
    "\n",
    "start_testing()\n",
    "expect(keep_valid_responses([\"\"]),[])\n",
    "expect(keep_valid_responses(['response:', 'response:I eat food', 'response:I do not eat food',\n",
    "'x','I eat food']),['I eat food', 'I do not eat food'])\n",
    "expect(keep_valid_responses(['response:I drink water', 'response:I eat food', 'response:I do not eat food',\n",
    "'response:I do not drink water','response:I drink coffee']),['I drink water','I eat food', 'I do not eat food','I do not drink water', 'I drink coffee'])\n",
    "expect(keep_valid_responses(['a', 'response:b', 'v',\n",
    "'x','y']),[])\n",
    "summary()\n"
   ]
  },
  {
   "cell_type": "markdown",
   "metadata": {
    "editable": false
   },
   "source": [
    "### Problem 3\n",
    "For each helper you used in designing `keep_valid_responses` explain why you chose to design a helper:"
   ]
  },
  {
   "cell_type": "markdown",
   "metadata": {},
   "source": [
    "*Knowledge Domain shift is needed for this function because it is singular strings that are being worked with when determining if each string in the list is at least 15 characters long*"
   ]
  },
  {
   "cell_type": "markdown",
   "metadata": {
    "editable": false
   },
   "source": [
    "### Problem 4\n",
    "For this question, assume you have a API that creates a circle with the following function:\n",
    "\n",
    "`circle(radius: float, mode: str, color: str) -> Image:`\n",
    "\n",
    "* outline is either going to be \"solid\" or \"outline\" depending on if you want the circle filled in with colour or not\n",
    "\n",
    "(We no longer use Images in the course but we'll bring it back for this question so we can run the code)\n",
    "\n",
    "Your friend Riley wrote the following working but slightly hard to read code:"
   ]
  },
  {
   "cell_type": "code",
   "execution_count": null,
   "metadata": {
    "editable": false
   },
   "outputs": [],
   "source": [
    "from cs103 import *\n",
    "from typing import List, NamedTuple\n",
    "from enum import Enum\n",
    "import math  # for math.sqrt, the square root function.\n",
    "\n",
    "### Data definitions\n",
    "\n",
    "Palette = List[str]\n",
    "# interp. a palette (collection) of colors. Each color in a palette is a\n",
    "# recognized color name (from the so-called \"X11 colors\") or a \"#\" followed by 6\n",
    "# 6 letters that must be a digit (\"0\" through \"9\") or one of the first 6 letters\n",
    "# (\"A\" through \"F\" or \"a\" through \"f\"). With \"#\" colors, the 6 letters come in\n",
    "# three pairs that indicate the amount of red (first pair), green (second pair), \n",
    "# and blue (third pair) in a color.\n",
    "P0 = []\n",
    "P_BLACK = [\"black\", \"#000000\"]  # black in two different ways\n",
    "P_UBC_V1 = [\"blue\", \"gold\"]\n",
    "P_UBC_V2 = [\"#0000FF\", \"#FFD700\"]\n",
    "\n",
    "@typecheck    # template based on arbitrary-sized\n",
    "def fn_for_palette(p: Palette) -> ...:\n",
    "    # description of accumulator\n",
    "    acc = ...    # type: ...\n",
    "    \n",
    "    for color in p:\n",
    "        acc = ...(color, acc)\n",
    "    \n",
    "    return ...(acc)\n",
    "\n",
    "\n",
    "ColorPreference = Enum('ColorPreference', ['grayscale', 'color', 'any'])\n",
    "# interp. a color preference for display, one of grayscale (black, white, or a \n",
    "# shade of gray), color (NOT grayscale), or any (any color is acceptable)\n",
    "# examples are redundant for enumerations\n",
    "\n",
    "@typecheck  # template based on enumeration (3 cases)\n",
    "def fn_for_color_preference(cp: ColorPreference) -> ...:\n",
    "    if cp == ColorPreference.grayscale:\n",
    "        return ...\n",
    "    elif cp == ColorPreference.color:\n",
    "        return ...\n",
    "    elif cp == ColorPreference.any:\n",
    "        return ..."
   ]
  },
  {
   "cell_type": "markdown",
   "metadata": {
    "editable": false
   },
   "source": [
    "```python\n",
    "# RILEY'S ORIGINAL VERSION:\n",
    "\n",
    "@typecheck\n",
    "def make_sticker(height: int, width: int, cp: ColorPreference, p: Palette) -> Image:\n",
    "    \"\"\"\n",
    "    returns a circle that is (1) in the first color acceptable for the given \n",
    "    color preference and (2) big enough to hold the image (i.e., a box of the \n",
    "    image's height and width). If the palette has no acceptable colors, \n",
    "    chooses a default color (white, if it matches cp, and red otherwise).\n",
    "    \"\"\"\n",
    "    # return create_circle(1, \"red\")  #stub\n",
    "    # template from ColorPreference and Palette with additional \n",
    "    # parameters height and width\n",
    "\n",
    "    # bg_color is the first color seen so far acceptable to cp\n",
    "    # or an acceptable default color\n",
    "    if cp == ColorPreference.grayscale:\n",
    "        bg_color = \"white\"  # type: str\n",
    "    elif cp == ColorPreference.color:\n",
    "        bg_color = \"red\"    # type: str\n",
    "    elif cp == ColorPreference.any:\n",
    "        bg_color = \"white\"  # type: str\n",
    "\n",
    "    # found is True if an acceptable color has been seen so far in cp\n",
    "    found = False  # type: bool\n",
    "\n",
    "    for color in p:\n",
    "        if cp == ColorPreference.grayscale:\n",
    "            # We don't care about lower- vs. upper-case.\n",
    "            lc_color = color.lower()\n",
    "            if lc_color[0] == \"#\":\n",
    "                # Colors that start with # are grayscale if the three\n",
    "                # parts are equal.\n",
    "                if lc_color[1:3] == lc_color[3:5] and \\\n",
    "                   lc_color[3:5] == lc_color[5:7]:\n",
    "                    if not found:\n",
    "                        found = True\n",
    "                        bg_color = color\n",
    "            else:\n",
    "                # Otherwise, the color is grayscale if it contains\n",
    "                # \"gray\", \"grey\", \"black\", \"white\", \"silver\", or\n",
    "                # \"gainsboro\".\n",
    "\n",
    "                for word in [\"gray\", \"grey\", \"black\", \"white\", \n",
    "                             \"silver\", \"gainsboro\"]:\n",
    "                    if word in lc_color:\n",
    "                        if not found:\n",
    "                            found = True\n",
    "                            bg_color = color\n",
    "\n",
    "        elif cp == ColorPreference.color:\n",
    "            # We don't care about lower- vs. upper-case.\n",
    "            lc_color = color.lower()\n",
    "            if lc_color[0] == \"#\":\n",
    "                # Colors that start with # are grayscale if the three\n",
    "                # parts are equal.\n",
    "                if not (lc_color[1:3] == lc_color[3:5] and \\\n",
    "                        lc_color[3:5] == lc_color[5:7]):\n",
    "                    if not found:\n",
    "                        found = True\n",
    "                        bg_color = color\n",
    "            else:\n",
    "                # Otherwise, the color is grayscale if it contains\n",
    "                # \"gray\", \"grey\", \"black\", \"white\", \"silver\", or\n",
    "                # \"gainsboro\".\n",
    "\n",
    "                # is_grayscale is True if one of the grayscale words\n",
    "                # has been seen in lc_color so far\n",
    "                is_grayscale = False  # type: bool\n",
    "\n",
    "                for word in [\"gray\", \"grey\", \"black\", \"white\", \n",
    "                             \"silver\", \"gainsboro\"]:\n",
    "                    if word in lc_color:\n",
    "                        is_grayscale = True\n",
    "\n",
    "                if not is_grayscale and not found:\n",
    "                    found = True\n",
    "                    bg_color = color\n",
    "\n",
    "        elif cp == ColorPreference.any:\n",
    "            if len(p) > 0:\n",
    "                found = True\n",
    "                bg_color = p[0]\n",
    "\n",
    "    return circle(math.sqrt(width*width + height*height) / 2, \"solid\", bg_color)\n",
    "\n",
    "\n",
    "start_testing()\n",
    "expect(make_sticker(40, 20, ColorPreference.grayscale, []), \n",
    "       circle(math.sqrt(40*40 + 20*20) / 2, \"white\"))\n",
    "expect(make_sticker(40, 20, ColorPreference.color, []), \n",
    "       circle(math.sqrt(40*40 + 20*20) / 2, \"red\"))\n",
    "expect(make_sticker(40, 20, ColorPreference.any, []), \n",
    "       circle(math.sqrt(40*40 + 20*20) / 2, \"white\"))\n",
    "\n",
    "expect(make_sticker(10, 80, ColorPreference.grayscale, []), \n",
    "       circle(math.sqrt(10*10 + 80*80) / 2, \"white\"))\n",
    "expect(make_sticker(10, 80, ColorPreference.color, []), \n",
    "       circle(math.sqrt(10*10 + 80*80) / 2, \"red\"))\n",
    "expect(make_sticker(10, 80, ColorPreference.any, []), \n",
    "       circle(math.sqrt(10*10 + 80*80) / 2, \"white\"))\n",
    "\n",
    "expect(make_sticker(40, 20, ColorPreference.grayscale, [\"blue\", \"gray\", \"silver\"]), \n",
    "       circle(math.sqrt(40*40 + 20*20) / 2, \"gray\"))\n",
    "expect(make_sticker(40, 20, ColorPreference.color, [\"purple\", \"gray\", \"silver\"]), \n",
    "       circle(math.sqrt(40*40 + 20*20) / 2, \"purple\"))\n",
    "expect(make_sticker(40, 20, ColorPreference.any, [\"purple\", \"gray\", \"silver\"]), \n",
    "       circle(math.sqrt(40*40 + 20*20) / 2, \"purple\"))\n",
    "\n",
    "expect(make_sticker(40, 20, ColorPreference.color, [\"gray\", \"silver\"]), \n",
    "       circle(math.sqrt(40*40 + 20*20) / 2, \"red\"))\n",
    "expect(make_sticker(I1, ColorPreference.grayscale, [\"purple\", \"gold\"]), \n",
    "       circle(math.sqrt(40*40 + 20*20) / 2, \"white\"))\n",
    "summary()\n",
    "```\n",
    "\n",
    "As you can see, Riley did not follow any of the helper rules, and the program is extremely difficult to read and understand. \n",
    "\n",
    "Refactor Riley’s program to follow all of the helper rules.\n",
    "\n",
    "As you go, write down your thoughts about why you are taking each redesign step.\n",
    "\n",
    "To help, here’s one set of helper functions we “extracted” from Riley’s big function:\n"
   ]
  },
  {
   "cell_type": "code",
   "execution_count": null,
   "metadata": {
    "editable": false
   },
   "outputs": [],
   "source": [
    "@typecheck\n",
    "def is_grayscale_color_word(color: str) -> bool:\n",
    "    \"\"\"\n",
    "    returns True if the given color contains any of the grayscale\n",
    "    color words (gray, grey, black, white, silver, or gainsboro),\n",
    "    ignoring case (upper vs lower)\n",
    "    \"\"\"\n",
    "    #return True  #stub\n",
    "    # template from Palette based on GRAYSCALE_COLOR_PALETTE below rather\n",
    "    # than on parameter. Added parameter color.\n",
    "\n",
    "    GRAYSCALE_COLOR_PALETTE = [\"gray\", \"grey\", \"black\", \"white\", \n",
    "                               \"silver\", \"gainsboro\"]\n",
    "\n",
    "    lc_color = color.lower()\n",
    "    \n",
    "    for word in GRAYSCALE_COLOR_PALETTE:\n",
    "        if word in lc_color:\n",
    "            return True\n",
    "\n",
    "    return False    \n",
    "\n",
    "\n",
    "start_testing()\n",
    "\n",
    "expect(is_grayscale_color_word(\"purple\"), False)\n",
    "expect(is_grayscale_color_word(\"grey\"), True)\n",
    "expect(is_grayscale_color_word(\"silver\"), True)\n",
    "expect(is_grayscale_color_word(\"gold\"), False)\n",
    "\n",
    "# Color words inside larger \"phrases\", if possible.\n",
    "expect(is_grayscale_color_word(\"black\"), True)\n",
    "expect(is_grayscale_color_word(\"gainsboro\"), True)\n",
    "expect(is_grayscale_color_word(\"light gray\"), True)\n",
    "expect(is_grayscale_color_word(\"dark grey\"), True)\n",
    "expect(is_grayscale_color_word(\"white smoke\"), True)\n",
    "\n",
    "# Case issues\n",
    "expect(is_grayscale_color_word(\"Grey\"), True)\n",
    "\n",
    "summary()\n",
    "\n",
    "@typecheck\n",
    "def is_grayscale_color_code(color_code: str) -> bool:\n",
    "    \"\"\"\n",
    "    returns True if the given color is grayscale.\n",
    "    \n",
    "    color must be \"#\" followed by 6 letters that must be\n",
    "    a digit (\"0\" through \"9\") or one of the first 6 letters\n",
    "    (\"A\" through \"F\" or \"a\" through \"f\").\n",
    "    \n",
    "    The 6 letters come in three pairs that indicate the\n",
    "    amount of red (first pair), green (second pair), \n",
    "    and blue (third pair) in a color. All three pairs are the\n",
    "    same for a grayscale color.\n",
    "    \"\"\"\n",
    "    #return True   #stub\n",
    "    #return ...(color_code)  #template\n",
    "\n",
    "    # We don't care about lower- vs. upper-case.\n",
    "    lc_color = color_code.lower()\n",
    "    return lc_color[1:3] == lc_color[3:5] and \\\n",
    "           lc_color[3:5] == lc_color[5:7]\n",
    "\n",
    "start_testing()\n",
    "\n",
    "# Basic tests:\n",
    "expect(is_grayscale_color_code(\"#000000\"), True)\n",
    "expect(is_grayscale_color_code(\"#010000\"), False)\n",
    "expect(is_grayscale_color_code(\"#000100\"), False)\n",
    "expect(is_grayscale_color_code(\"#000101\"), False)\n",
    "\n",
    "# Case doesn't matter:\n",
    "expect(is_grayscale_color_code(\"#f3f3F3\"), True)\n",
    "\n",
    "summary()\n",
    "\n",
    "@typecheck\n",
    "def is_grayscale_color(color: str) -> bool:\n",
    "    \"\"\"\n",
    "    returns True if the given color is grayscale.\n",
    "    \n",
    "    color must be a recognized color name (from the so-called \n",
    "    \"X11 colors\") or a \"#\" followed by 6 letters that must be\n",
    "    a digit (\"0\" through \"9\") or one of the first 6 letters\n",
    "    (\"A\" through \"F\" or \"a\" through \"f\").\n",
    "    \n",
    "    With the \"#\" colors, the 6 letters come in three pairs that\n",
    "    indicate the amount of red (first pair), green (second pair), \n",
    "    and blue (third pair) in a color.\n",
    "    \"\"\"\n",
    "    #return True   #stub\n",
    "    #return ...(color)  #template\n",
    "\n",
    "    if color[0] == \"#\":\n",
    "        return is_grayscale_color_code(color)\n",
    "    else:\n",
    "        return is_grayscale_color_word(color)\n",
    "    \n",
    "\n",
    "start_testing()\n",
    "\n",
    "# We clearly need more tests than this, but this is probably\n",
    "# enough given that we've decided to break this into separate\n",
    "# functions for color words and color \"codes\". \n",
    "expect(is_grayscale_color(\"purple\"), False)\n",
    "expect(is_grayscale_color(\"grey\"), True)\n",
    "expect(is_grayscale_color(\"silver\"), True)\n",
    "expect(is_grayscale_color(\"gold\"), False)\n",
    "\n",
    "expect(is_grayscale_color(\"#112233\"), False)\n",
    "expect(is_grayscale_color(\"#222222\"), True)\n",
    "\n",
    "summary()"
   ]
  },
  {
   "cell_type": "code",
   "execution_count": 17,
   "metadata": {},
   "outputs": [
    {
     "ename": "SyntaxError",
     "evalue": "incomplete input (2454943900.py, line 5)",
     "output_type": "error",
     "traceback": [
      "\u001b[0;36m  Cell \u001b[0;32mIn[17], line 5\u001b[0;36m\u001b[0m\n\u001b[0;31m    \u001b[0m\n\u001b[0m    ^\u001b[0m\n\u001b[0;31mSyntaxError\u001b[0m\u001b[0;31m:\u001b[0m incomplete input\n"
     ]
    }
   ],
   "source": [
    "# Write your refactored code here\n"
   ]
  },
  {
   "cell_type": "markdown",
   "metadata": {
    "editable": false
   },
   "source": [
    "### Problem 5\n",
    "It turns out that any color word containing “slate gray” or “slate grey” actually is **not** grayscale. (The slate colors are a little blue.) How hard would it be to fix Riley’s original code, given this observation? How hard would it be to fix your refactored code? What explains the difference?"
   ]
  },
  {
   "cell_type": "markdown",
   "metadata": {},
   "source": [
    "*your solution goes here*"
   ]
  },
  {
   "cell_type": "markdown",
   "metadata": {
    "editable": false
   },
   "source": [
    "### Problem 6\n",
    "Which of the helper rules are you having the most trouble with?"
   ]
  },
  {
   "cell_type": "markdown",
   "metadata": {},
   "source": [
    "*your solution goes here*"
   ]
  },
  {
   "cell_type": "markdown",
   "metadata": {
    "editable": false
   },
   "source": [
    "### Problem 7\n",
    "Why?"
   ]
  },
  {
   "cell_type": "markdown",
   "metadata": {},
   "source": [
    "*your solution goes here*"
   ]
  },
  {
   "cell_type": "markdown",
   "metadata": {
    "editable": false
   },
   "source": [
    "### Problem 8\n",
    "What will you do to increase your comfort level in applying this helper rule?"
   ]
  },
  {
   "cell_type": "markdown",
   "metadata": {
    "editable": false
   },
   "source": [
    "*your solution goes here*"
   ]
  },
  {
   "cell_type": "code",
   "execution_count": 18,
   "metadata": {
    "editable": false
   },
   "outputs": [
    {
     "data": {
      "application/vnd.jupyter.widget-view+json": {
       "model_id": "9aa127b814174ffb9a3264dc730f1ee9",
       "version_major": 2,
       "version_minor": 0
      },
      "text/plain": [
       "Valid(value=True, description='Token')"
      ]
     },
     "metadata": {},
     "output_type": "display_data"
    },
    {
     "data": {
      "application/vnd.jupyter.widget-view+json": {
       "model_id": "57ca5264f9e54c8384dcc45bd4dcc0bd",
       "version_major": 2,
       "version_minor": 0
      },
      "text/plain": [
       "SelectMultiple(description='Files', index=(0,), layout=Layout(height='100%', width='50%'), options=('module-6-…"
      ]
     },
     "metadata": {},
     "output_type": "display_data"
    },
    {
     "data": {
      "application/vnd.jupyter.widget-view+json": {
       "model_id": "4371169ba272494991c3bcfe7a83b656",
       "version_major": 2,
       "version_minor": 0
      },
      "text/plain": [
       "Button(description='submit', icon='check', style=ButtonStyle(), tooltip='submit')"
      ]
     },
     "metadata": {},
     "output_type": "display_data"
    }
   ],
   "source": [
    "# NOTE: You should not be able to edit this cell. Just run it to start the process of submiting your code.\n",
    "from cs103 import submit\n",
    "\n",
    "COURSE = 123409\n",
    "ASSIGNMENT = 1615230\n",
    "\n",
    "submit(COURSE, ASSIGNMENT)\n",
    "\n",
    "# If something has gone wrong and you still are not able to submit by running the code above, SUBMIT ANYWAY \n",
    "# by downloading your files and uploading them to Canvas. You can learn how on the page \n",
    "# \"How to submit your Jupyter notebook\" on our Canvas site."
   ]
  },
  {
   "cell_type": "code",
   "execution_count": null,
   "metadata": {},
   "outputs": [],
   "source": []
  }
 ],
 "metadata": {
  "celltoolbar": "Edit Metadata",
  "kernelspec": {
   "display_name": "Python 3 (ipykernel)",
   "language": "python",
   "name": "python3"
  },
  "language_info": {
   "codemirror_mode": {
    "name": "ipython",
    "version": 3
   },
   "file_extension": ".py",
   "mimetype": "text/x-python",
   "name": "python",
   "nbconvert_exporter": "python",
   "pygments_lexer": "ipython3",
   "version": "3.11.4"
  }
 },
 "nbformat": 4,
 "nbformat_minor": 4
}
