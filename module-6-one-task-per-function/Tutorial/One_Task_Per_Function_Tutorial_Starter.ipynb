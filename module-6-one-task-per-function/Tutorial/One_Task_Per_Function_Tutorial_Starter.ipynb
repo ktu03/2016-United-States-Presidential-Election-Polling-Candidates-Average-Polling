{
 "cells": [
  {
   "cell_type": "code",
   "execution_count": 9,
   "metadata": {},
   "outputs": [],
   "source": [
    "from cs103 import *"
   ]
  },
  {
   "cell_type": "markdown",
   "metadata": {},
   "source": [
    "## Pre-Tutorial Work:\n",
    "\n",
    "Answer the \"**thought question for pre-tutorial work**\" below."
   ]
  },
  {
   "cell_type": "markdown",
   "metadata": {},
   "source": [
    "## Setup\n",
    "\n",
    "We are going to continue to use the `GovernmentGrant` and `List[GovernmentGrant]` types (given below) in this problem set.\n",
    "\n",
    "Reminder: the GovernmentGrant type is based on the information about government grants in BC between April 1, 2017 to July 13, 2018. Government grants are grants that the government gives to community organizations with lottery funds.\n",
    "\n",
    "|City|Organization|Payment Amount|Grant Type|Grant Area|Grant Subarea|\n",
    "|---|---|---|---|---|---|\n",
    "|Abbotsford | Abbotsford Agrifair | 80000|\tGovernment Grant | Arts and Culture | Fairs, Festivals, Museums\t|\n",
    "|Abbotsford | Abbotsford BMX Society | 29500|\tGovernment Grant | Sport | Sports for Youth |\n",
    "|Abbotsford | Fraser Valley Brain Injury Association | 60000|\tGovernment Grant | Human and Social Services | Disadvantage Distress Poverty | 60000|\n",
    "|Abbotsford | Abbotsford International Airshow Society | 60000| Government Grant | Arts and Culture | Fairs, Festivals, Museums\t|\n",
    "|Burnaby | Burnaby Arts Council | 15100| Government Grant | Arts and Culture | Adult Arts and Culture |\n",
    "|Burnaby | Burnaby Barracuda Summer Aquatics Club | 51900| Government Grant | Sport | Sports for Youth |\n",
    "|Vancouver | African Descent Society British Columbia | 25000| Government Grant | Arts and Culture | Fairs, Festivals, Museums |\n",
    "|Vancouver | All Bodies Dance Society | 12000| Government Grant | Arts and Culture | Adult Arts and Culture |\n",
    "|Richmond | BC Youth Music Society | 31500| Government Grant | Arts and Culture | Adult Arts and Culture |\n",
    "|Richmond | Canadian YC Chinese Orchestra Association | 5000| Government Grant | Arts and Culture | Adult Arts and Culture |\n",
    "\n",
    "\n",
    "Source: [DataBC](https://catalogue.data.gov.bc.ca/dataset/gaming-grants-paid-to-community-organizations) (accessed: April 22, 2019) "
   ]
  },
  {
   "cell_type": "code",
   "execution_count": 10,
   "metadata": {},
   "outputs": [],
   "source": [
    "from typing import NamedTuple, List\n",
    "\n",
    "GovernmentGrant = NamedTuple('GovernmentGrant', [('city', str),      \n",
    "                                                 ('org', str),   \n",
    "                                                 ('type', str), \n",
    "                                                 ('area', str),    \n",
    "                                                 ('subarea', str),      \n",
    "                                                 ('amt', int)])     # in range[0, ...)\n",
    "# interp. government grant data from BC. includes the city, organization ('org'), grant type ('type'),\n",
    "#         grant area ('area'), grant subarea ('subarea'), and payment amount ('amt') in CAD\n",
    "\n",
    "AGRIFAIR = GovernmentGrant(\"Abbotsford\", \n",
    "                           \"Abbotsford Agrifair\", \n",
    "                           \"Government Grant\", \n",
    "                           \"Arts and Culture\", \n",
    "                           \"Fairs, Festivals, Museums\", \n",
    "                           80000)\n",
    "BMX = GovernmentGrant(\"Abbotsford\", \n",
    "                      \"Abbotsford BMX Society\", \n",
    "                      \"Government Grant\", \n",
    "                      \"Sport\", \n",
    "                      \"Sports for Youth\", \n",
    "                      29500)\n",
    "BIA = GovernmentGrant(\"Abbotsford\", \n",
    "                      \"Fraser Valley Brain Injury Association\", \n",
    "                      \"Government Grant\", \n",
    "                      \"Human and Social Services\", \n",
    "                      \"Disadvantage Distress Poverty\", \n",
    "                      60000)\n",
    "AIRSHOW = GovernmentGrant(\"Abbotsford\", \n",
    "                          \"Abbotsford International Airshow Society\", \n",
    "                          \"Government Grant\", \n",
    "                          \"Arts and Culture\", \n",
    "                          \"Fairs, Festivals, Museums\", \n",
    "                          60000)\n",
    "ARTS_COUNCIL = GovernmentGrant(\"Burnaby\",\n",
    "                               \"Burnaby Arts Council\", \n",
    "                               \"Government Grant\", \n",
    "                               \"Arts and Culture\", \n",
    "                               \"Adult Arts and Culture\", \n",
    "                               15100)\n",
    "BARRACUDAS = GovernmentGrant(\"Burnaby\", \n",
    "                             \"Burnaby Barracuda Summer Aquatics Club\", \n",
    "                             \"Government Grant\", \n",
    "                             \"Sport\", \n",
    "                             \"Sports for Youth\", \n",
    "                             51900)\n",
    "AFRICAN_DESCENT_SOCIETY = GovernmentGrant(\"Vancouver\", \n",
    "                                          \"African Descent Society British Columbia\", \n",
    "                                          \"Government Grant\", \n",
    "                                          \"Arts and Culture\", \n",
    "                                          \"Fairs, Festivals, Museums\", \n",
    "                                          25000)\n",
    "ALL_BODIES = GovernmentGrant(\"Vancouver\", \n",
    "                             \"All Bodies Dance Society\", \n",
    "                             \"Government Grant\", \n",
    "                             \"Arts and Culture\", \n",
    "                             \"Adult Arts and Culture\",   \n",
    "                             12000)\n",
    "YOUTH_MUSIC = GovernmentGrant(\"Richmond\", \n",
    "                              \"BC Youth Music Society\", \n",
    "                              \"Government Grant\", \n",
    "                              \"Arts and Culture\", \n",
    "                              \"Adult Arts and Culture\",   \n",
    "                              31500)\n",
    "CHINESE_ORCHESTRA = GovernmentGrant(\"Richmond\", \n",
    "                                    \"Canadian YC Chinese Orchestra Association\",\n",
    "                                    \"Government Grant\", \n",
    "                                    \"Arts and Culture\", \n",
    "                                    \"Adult Arts and Culture\",   \n",
    "                                    5000)\n",
    "\n",
    "# template based on compound\n",
    "def fn_for_government_grant(gg: GovernmentGrant) -> ...:\n",
    "    return ...(gg.city,\n",
    "               gg.org,\n",
    "               gg.type,\n",
    "               gg.area,\n",
    "               gg.subarea,\n",
    "               gg.amt)\n",
    "\n",
    "\n",
    "# List[GovernmentGrant]\n",
    "# interp. a list of government grants\n",
    "\n",
    "L0 = []\n",
    "L1 = [AGRIFAIR, \n",
    "      BMX, \n",
    "      BIA, \n",
    "      AIRSHOW, \n",
    "      ARTS_COUNCIL, \n",
    "      BARRACUDAS, \n",
    "      AFRICAN_DESCENT_SOCIETY, \n",
    "      ALL_BODIES, \n",
    "      YOUTH_MUSIC, \n",
    "      CHINESE_ORCHESTRA]\n",
    "\n",
    "# template based on arbitrary-sized and the reference rule\n",
    "def fn_for_logg(logg: List[GovernmentGrant]) -> ...:\n",
    "    # description of the acc\n",
    "    acc = ... # type: ...\n",
    "    for gg in logg:\n",
    "        acc = ...(acc, fn_for_government_grant(gg))\n",
    "    return ...(acc)"
   ]
  },
  {
   "cell_type": "markdown",
   "metadata": {},
   "source": [
    "## Problem 1\n",
    "\n",
    "Design a function that takes a city, a grant range (in the form of a minimum and a maximum grant amount), and a list of government grants and returns **all the government grants** in the list within the grant range (including the limits) awarded in that city.\n",
    "\n",
    "In particular, the **function MUST clearly implement these three steps**:\n",
    "1. First, it will find the government grants in the given city,\n",
    "2. Then it will find which of those government grants received grant amounts **no more than** a maximum value, and\n",
    "3. Then it will find which of those government grants received grant amounts **no less than** a minimum value.\n",
    "\n",
    "Remember to follow the HtDF recipe and the helper rules.\n",
    "\n",
    "**Thought question for pre-tutorial work:** Which helper rule applies because of the requirement to operate in three steps?"
   ]
  },
  {
   "cell_type": "markdown",
   "metadata": {},
   "source": [
    "## Submit your solution"
   ]
  },
  {
   "cell_type": "code",
   "execution_count": 11,
   "metadata": {},
   "outputs": [
    {
     "name": "stdout",
     "output_type": "stream",
     "text": [
      "\u001b[92m2 of 2 tests passed\u001b[0m\n",
      "\u001b[92m2 of 2 tests passed\u001b[0m\n",
      "\u001b[92m2 of 2 tests passed\u001b[0m\n",
      "\u001b[92m5 of 5 tests passed\u001b[0m\n",
      "\u001b[92m5 of 5 tests passed\u001b[0m\n",
      "\u001b[92m5 of 5 tests passed\u001b[0m\n",
      "\u001b[92m9 of 9 tests passed\u001b[0m\n"
     ]
    }
   ],
   "source": [
    "# your solution goes here\n",
    "@typecheck\n",
    "def no_less_than_minimum(gg: GovernmentGrant, minimum: int) -> bool:\n",
    "    \"\"\"returns True if the government grant (gg) has a grant amount of above or equal to the minimum grant amount, False otherwise\"\"\"\n",
    "    #return False #stub\n",
    "    #template from GovernmentGrant with additional parameter int\n",
    "    return gg.amt>=minimum\n",
    "start_testing()\n",
    "expect(no_less_than_minimum(AGRIFAIR, 70000), True)\n",
    "expect(no_less_than_minimum(YOUTH_MUSIC, 40000), False)\n",
    "summary()\n",
    "\n",
    "@typecheck\n",
    "def no_more_than_maximum(gg: GovernmentGrant, maximum: int) -> bool:\n",
    "    \"\"\"returns True if the government grant (gg) has a grant amount of below or equal to the maxmimum grant amount, False otherwise\"\"\"\n",
    "    #return False #stub\n",
    "    #template from GovernmentGrant with additional parameter int\n",
    "    return gg.amt<=maximum\n",
    "start_testing()\n",
    "expect(no_more_than_maximum(CHINESE_ORCHESTRA, 7000), True)\n",
    "expect(no_more_than_maximum(ALL_BODIES, 10000), False)\n",
    "summary()\n",
    "\n",
    "@typecheck\n",
    "def in_city(gg: GovernmentGrant, city: str) -> bool:\n",
    "    \"\"\"returns True if the government grant (gg) is in the given city (city), False otherwise\"\"\"\n",
    "    #return False #stub\n",
    "    #template from GovernmentGrant with additional parameter str\n",
    "    return gg.city==city\n",
    "start_testing()\n",
    "expect(in_city(BARRACUDAS, \"Burnaby\"), True)\n",
    "expect(in_city(BMX, \"Calgary\"), False)\n",
    "summary()\n",
    "\n",
    "@typecheck\n",
    "def find_grants_in_city(logg: List[GovernmentGrant], city: str) -> List[GovernmentGrant]:\n",
    "    \"\"\"returns a list of government grants from logg within the given city (city)\"\"\"\n",
    "    #return [] #stub\n",
    "    #template from List[GovernmentGrant] with additional parameter str\n",
    "    #within_city_grants is the list of government grants within the given city seen so far in logg\n",
    "    within_city_grants = [] #type: List[GovernmentGrant]\n",
    "    for gg in logg:\n",
    "        if (in_city(gg,city)):\n",
    "            within_city_grants.append(gg)\n",
    "    return within_city_grants\n",
    "start_testing()\n",
    "expect(find_grants_in_city(L0, \"Vancouver\"),[])\n",
    "expect(find_grants_in_city(L1, \"Abbotsford\"),[AGRIFAIR,BMX,BIA,AIRSHOW])\n",
    "expect(find_grants_in_city([YOUTH_MUSIC,CHINESE_ORCHESTRA], \"Richmond\"),[YOUTH_MUSIC,CHINESE_ORCHESTRA])\n",
    "expect(find_grants_in_city([AFRICAN_DESCENT_SOCIETY,ARTS_COUNCIL,BIA], \"Salt Lake City\"),[])\n",
    "expect(find_grants_in_city([BARRACUDAS,AIRSHOW], \"Burnaby\"),[BARRACUDAS])\n",
    "summary()\n",
    "    \n",
    "\n",
    "\n",
    "@typecheck\n",
    "def find_grants_no_more_than_maximum(logg: List[GovernmentGrant],maximum: int) -> List[GovernmentGrant]:\n",
    "    \"\"\"returns a list of government grants from logg with a grant amount of less than or equal to the given maximum amount (maximum)\"\"\"\n",
    "    #return [stub]\n",
    "    #template from List[GovernmentGrant] with additional parameter int\n",
    "    #under_or_equal_to_maximum_grants is the list of government grants with grant amounts below or equal to the given maximum seen so far in logg\n",
    "    under_or_equal_to_maximum_grants = [] #type: List[GovernmentGrant]\n",
    "    for gg in logg:\n",
    "        if (no_more_than_maximum(gg,maximum)):\n",
    "            under_or_equal_to_maximum_grants.append(gg)\n",
    "    return under_or_equal_to_maximum_grants\n",
    "start_testing()\n",
    "expect(find_grants_no_more_than_maximum(L0, 1000),[])\n",
    "expect(find_grants_no_more_than_maximum(L1, 10),[])\n",
    "expect(find_grants_no_more_than_maximum(L1, 25000),[ARTS_COUNCIL,AFRICAN_DESCENT_SOCIETY,ALL_BODIES,CHINESE_ORCHESTRA])\n",
    "expect(find_grants_no_more_than_maximum([AFRICAN_DESCENT_SOCIETY,ARTS_COUNCIL,BIA], 20000000),[AFRICAN_DESCENT_SOCIETY,ARTS_COUNCIL,BIA])\n",
    "expect(find_grants_no_more_than_maximum([BARRACUDAS,AIRSHOW], 55000),[BARRACUDAS])\n",
    "summary()\n",
    "\n",
    "@typecheck\n",
    "def find_grants_no_less_than_minimum(logg: List[GovernmentGrant],minimum: int) -> List[GovernmentGrant]:\n",
    "    \"\"\"returns a list of government grants from logg with a grant amount of more than or equal to the given minimum amount (minimum)\"\"\"\n",
    "    #return [stub]\n",
    "    #template from List[GovernmentGrant] with additional parameter int\n",
    "    #above_or_equal_to_minimum_grants is the list of government grants with grant amounts above or equal to the given minimum seen so far in logg\n",
    "    above_or_equal_to_minimum_grants = [] #type: List[GovernmentGrant]\n",
    "    for gg in logg:\n",
    "        if (no_less_than_minimum(gg,minimum)):\n",
    "            above_or_equal_to_minimum_grants.append(gg)\n",
    "    return above_or_equal_to_minimum_grants\n",
    "start_testing()\n",
    "expect(find_grants_no_less_than_minimum(L0, 1000),[])\n",
    "expect(find_grants_no_less_than_minimum(L1, 30000),[AGRIFAIR,BIA,AIRSHOW,BARRACUDAS,YOUTH_MUSIC])\n",
    "expect(find_grants_no_less_than_minimum(L1, 200000),[])\n",
    "expect(find_grants_no_less_than_minimum([AFRICAN_DESCENT_SOCIETY,ARTS_COUNCIL,BIA], 10),[AFRICAN_DESCENT_SOCIETY,ARTS_COUNCIL,BIA])\n",
    "expect(find_grants_no_less_than_minimum([BARRACUDAS,AIRSHOW], 55000),[AIRSHOW])\n",
    "summary()\n",
    "\n",
    "\n",
    "@typecheck\n",
    "def within_city_and_grant_range(city: str, minimum: int, maximum: int, logg: List[GovernmentGrant]) -> List[GovernmentGrant]:\n",
    "    \"\"\"returns a list of all government grants awarded within a city within the minimum and maximum range of logg\"\"\"\n",
    "    #return [] #stub\n",
    "    #template from composition\n",
    "    \n",
    "    grants_in_city = find_grants_in_city(logg, city)\n",
    "    grants_no_more_than_maximum = find_grants_no_more_than_maximum(grants_in_city,maximum)\n",
    "    grants_no_less_than_minimum = find_grants_no_less_than_minimum(grants_no_more_than_maximum,minimum)\n",
    "    return grants_no_less_than_minimum\n",
    "\n",
    "start_testing()\n",
    "expect(within_city_and_grant_range(\"Vancouver\", 1000, 50000, L1),[AFRICAN_DESCENT_SOCIETY, ALL_BODIES])\n",
    "expect(within_city_and_grant_range(\"Richmond\", 100000, 50000000, L1),[])\n",
    "expect(within_city_and_grant_range(\"Calgary\", 100, 2000, L0),[])\n",
    "expect(within_city_and_grant_range(\"Burnaby\", 12000, 16000, L1),[ARTS_COUNCIL])\n",
    "expect(within_city_and_grant_range(\"Abbotsford\", 25000, 100000, [AGRIFAIR,BMX,BIA,AIRSHOW]),[AGRIFAIR,BMX,BIA,AIRSHOW])\n",
    "expect(within_city_and_grant_range(\"Calgary\", 1000, 50000, L1),[])\n",
    "expect(within_city_and_grant_range(\"Abbotsford\", 100000, 20000000, [AGRIFAIR,BMX,BIA,AIRSHOW]),[])\n",
    "expect(within_city_and_grant_range(\"Abbotsford\", 50000, 70000, [AGRIFAIR,BMX,BIA,AIRSHOW]),[BIA, AIRSHOW])\n",
    "expect(within_city_and_grant_range(\"New York\", 7000000, 1000000000, L1),[])\n",
    "summary()\n"
   ]
  },
  {
   "cell_type": "code",
   "execution_count": 12,
   "metadata": {
    "deletable": false,
    "editable": false
   },
   "outputs": [
    {
     "data": {
      "application/vnd.jupyter.widget-view+json": {
       "model_id": "e24590edd84b4038b85a373ead4b3805",
       "version_major": 2,
       "version_minor": 0
      },
      "text/plain": [
       "Valid(value=True, description='Token')"
      ]
     },
     "metadata": {},
     "output_type": "display_data"
    },
    {
     "data": {
      "application/vnd.jupyter.widget-view+json": {
       "model_id": "2bfe33e6e8d940aa830a4830ab30d0e3",
       "version_major": 2,
       "version_minor": 0
      },
      "text/plain": [
       "SelectMultiple(description='Files', index=(0,), layout=Layout(height='100%', width='50%'), options=('One_Task_…"
      ]
     },
     "metadata": {},
     "output_type": "display_data"
    },
    {
     "data": {
      "application/vnd.jupyter.widget-view+json": {
       "model_id": "5e91e8ab976349c1baf0b959be9879d6",
       "version_major": 2,
       "version_minor": 0
      },
      "text/plain": [
       "Button(description='submit', icon='check', style=ButtonStyle(), tooltip='submit')"
      ]
     },
     "metadata": {},
     "output_type": "display_data"
    }
   ],
   "source": [
    "# NOTE: You should not be able to edit this cell. Just run it to start the process of submiting your code.\n",
    "from cs103 import submit\n",
    "\n",
    "COURSE = 123409\n",
    "ASSIGNMENT = 1615227\n",
    "\n",
    "submit(COURSE, ASSIGNMENT)\n",
    "\n",
    "# If your submission fails, SUBMIT ANYWAY by downloading your files and uploading \n",
    "# them to Canvas. You can learn how on the page \"How to submit your Jupyter notebook\" \n",
    "# on our Canvas site."
   ]
  },
  {
   "cell_type": "code",
   "execution_count": null,
   "metadata": {},
   "outputs": [],
   "source": []
  },
  {
   "cell_type": "code",
   "execution_count": null,
   "metadata": {},
   "outputs": [],
   "source": []
  },
  {
   "cell_type": "code",
   "execution_count": null,
   "metadata": {},
   "outputs": [],
   "source": []
  },
  {
   "cell_type": "code",
   "execution_count": null,
   "metadata": {},
   "outputs": [],
   "source": []
  }
 ],
 "metadata": {
  "kernelspec": {
   "display_name": "Python 3 (ipykernel)",
   "language": "python",
   "name": "python3"
  },
  "language_info": {
   "codemirror_mode": {
    "name": "ipython",
    "version": 3
   },
   "file_extension": ".py",
   "mimetype": "text/x-python",
   "name": "python",
   "nbconvert_exporter": "python",
   "pygments_lexer": "ipython3",
   "version": "3.11.4"
  }
 },
 "nbformat": 4,
 "nbformat_minor": 2
}
