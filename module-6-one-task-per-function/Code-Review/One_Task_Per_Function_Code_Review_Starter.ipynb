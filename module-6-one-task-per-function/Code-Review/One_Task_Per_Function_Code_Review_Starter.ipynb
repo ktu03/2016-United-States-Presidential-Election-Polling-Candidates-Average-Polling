{
 "cells": [
  {
   "cell_type": "markdown",
   "metadata": {
    "editable": false
   },
   "source": [
    "## Problem:\n",
    "\n",
    "Given the following data definitions, design a function that takes a list of students and a program and returns a list of students that are in the given program.\n",
    "\n",
    "You must also design any helper functions needed according to the helper rules. "
   ]
  },
  {
   "cell_type": "code",
   "execution_count": null,
   "metadata": {
    "editable": false
   },
   "outputs": [],
   "source": [
    "# This cell is uneditable so you can refer back to the original version of the solution.\n",
    "\n",
    "from enum import Enum\n",
    "from typing import NamedTuple, List, Optional\n",
    "from cs103 import *\n",
    "\n",
    "Program = str\n",
    "# interp. a program at UBC\n",
    "P1 = \"BMUS\"\n",
    "P2 = \"BKIN\"\n",
    "P3 = \"BSC\"\n",
    "P4 = \"BMS\"\n",
    "\n",
    "@typecheck\n",
    "def fn_for_program(p: Program) -> ...: # template based on simple atomic\n",
    "    return ...(p)\n",
    "\n",
    "    \n",
    "\n",
    "CourseRecord = NamedTuple('CourseRecord', [('dept', str),    # four characters\n",
    "                                           ('code', int),    # in range [100, 999]\n",
    "                                           ('grade', Optional[int])]) # in range [0, 100]\n",
    "# interp. a course record for a student at UBC with their final grade ('grade') where None \n",
    "#         means the course is not yet complete, and the course's department ('dept') and course \n",
    "#         code ('code'). \n",
    "CR1 = CourseRecord('CPSC', 103, 99)\n",
    "CR2 = CourseRecord('ENGL', 112, 84)\n",
    "\n",
    "@typecheck\n",
    "def fn_for_course_record(cr: CourseRecord) -> ...: # template based on compound\n",
    "    return ...(cr.dept,\n",
    "               cr.code,\n",
    "               cr.grade)\n",
    "\n",
    "# List[CourseRecord]\n",
    "# interp. a list of course records\n",
    "\n",
    "L0 = []\n",
    "L1 = [CR1, CR2]\n",
    "\n",
    "@typecheck\n",
    "def fn_for_locr(locr: List[CourseRecord]) -> ...: # template based on arbitrary-sized and the\n",
    "    # description of the acc                      # reference rule\n",
    "    acc = ... # type: ...\n",
    "    for cr in locr:\n",
    "        acc = ...(acc, fn_for_course_record(cr))\n",
    "    return ...(acc)\n",
    "\n",
    "\n",
    "Student = NamedTuple ('Student', [('name', str), \n",
    "                                  ('stu_num', int),  # in range [11111111, 99999999] \n",
    "                                  ('course_records', List[CourseRecord]), \n",
    "                                  ('program', Program)])\n",
    "# interp. a student with their name, student number, course records, and program\n",
    "\n",
    "S1 = Student(\"Jessica Jones\", 25252325, [], \"BSC\")\n",
    "S2 = Student(\"Cindy Lu\", 87774488, [CR1, CR2], \"BMUS\")\n",
    "S3 = Student(\"Raven Quan\", 99996699, [CR1], \"BSC\")\n",
    "\n",
    "@typecheck\n",
    "def fn_for_student(s: Student) -> ...: # template based on compound and reference rule (two times)\n",
    "    return ...(s.name,\n",
    "               s.stu_num,\n",
    "               fn_for_locr(s.course_records),\n",
    "               fn_for_program(s.program))\n",
    "\n",
    "\n",
    "# List[Student]\n",
    "# interp. a list of students\n",
    "\n",
    "LOS1 = []\n",
    "LOS2 = [S1, S2]\n",
    "\n",
    "@typecheck\n",
    "def fn_for_los(los: List[Student]) -> ...: # template based on arbitrary-sized and the reference rule\n",
    "    # description of the acc\n",
    "    acc = ... # type: ...\n",
    "    for s in los:\n",
    "        acc = ...(acc, fn_for_student(s))\n",
    "    return ...(acc)\n"
   ]
  },
  {
   "cell_type": "code",
   "execution_count": null,
   "metadata": {},
   "outputs": [],
   "source": [
    "# Your solution goes here"
   ]
  }
 ],
 "metadata": {
  "kernelspec": {
   "display_name": "Python 3",
   "language": "python",
   "name": "python3"
  },
  "language_info": {
   "codemirror_mode": {
    "name": "ipython",
    "version": 3
   },
   "file_extension": ".py",
   "mimetype": "text/x-python",
   "name": "python",
   "nbconvert_exporter": "python",
   "pygments_lexer": "ipython3",
   "version": "3.9.1"
  }
 },
 "nbformat": 4,
 "nbformat_minor": 2
}
