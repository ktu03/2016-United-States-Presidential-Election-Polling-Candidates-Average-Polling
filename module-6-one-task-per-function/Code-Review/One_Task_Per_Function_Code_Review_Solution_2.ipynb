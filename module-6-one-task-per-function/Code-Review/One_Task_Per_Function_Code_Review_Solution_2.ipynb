{
 "cells": [
  {
   "cell_type": "markdown",
   "metadata": {
    "editable": false
   },
   "source": [
    "## Problem:\n",
    "\n",
    "Given the following data definitions, design a function that takes a list of students and a program and returns a list of students that are in the given program.\n",
    "\n",
    "You must also design any helper functions needed according to the helper rules. "
   ]
  },
  {
   "cell_type": "code",
   "execution_count": 1,
   "metadata": {
    "editable": false
   },
   "outputs": [],
   "source": [
    "# This cell is uneditable so you can refer back to the original version of the solution.\n",
    "\n",
    "from enum import Enum\n",
    "from typing import NamedTuple, List, Optional\n",
    "from cs103 import *\n",
    "\n",
    "Program = str\n",
    "# interp. a program at UBC\n",
    "P1 = \"BMUS\"\n",
    "P2 = \"BKIN\"\n",
    "P3 = \"BSC\"\n",
    "P4 = \"BMS\"\n",
    "\n",
    "@typecheck\n",
    "def fn_for_program(p: Program) -> ...: # template based on simple atomic\n",
    "    return ...(p)\n",
    "\n",
    "    \n",
    "\n",
    "CourseRecord = NamedTuple('CourseRecord', [('dept', str),    # four characters\n",
    "                                           ('code', int),    # in range [100, 999]\n",
    "                                           ('grade', Optional[int])]) # in range [0, 100]\n",
    "# interp. a course record for a student at UBC with their final grade ('grade') where None \n",
    "#         means the course is not yet complete, and the course's department ('dept') and course \n",
    "#         code ('code'). \n",
    "CR1 = CourseRecord('CPSC', 103, 99)\n",
    "CR2 = CourseRecord('ENGL', 112, 84)\n",
    "\n",
    "@typecheck\n",
    "def fn_for_course_record(cr: CourseRecord) -> ...: # template based on compound\n",
    "    return ...(cr.dept,\n",
    "               cr.code,\n",
    "               cr.grade)\n",
    "\n",
    "# List[CourseRecord]\n",
    "# interp. a list of course records\n",
    "\n",
    "L0 = []\n",
    "L1 = [CR1, CR2]\n",
    "\n",
    "@typecheck\n",
    "def fn_for_locr(locr: List[CourseRecord]) -> ...: # template based on arbitrary-sized and the\n",
    "    # description of the acc                      # reference rule\n",
    "    acc = ... # type: ...\n",
    "    for cr in locr:\n",
    "        acc = ...(acc, fn_for_course_record(cr))\n",
    "    return ...(acc)\n",
    "\n",
    "\n",
    "Student = NamedTuple ('Student', [('name', str), \n",
    "                                  ('stu_num', int),  # in range [11111111, 99999999] \n",
    "                                  ('course_records', List[CourseRecord]), \n",
    "                                  ('program', Program)])\n",
    "# interp. a student with their name, student number, course records, and program\n",
    "\n",
    "S1 = Student(\"Jessica Jones\", 25252325, [], \"BSC\")\n",
    "S2 = Student(\"Cindy Lu\", 87774488, [CR1, CR2], \"BMUS\")\n",
    "S3 = Student(\"Raven Quan\", 99996699, [CR1], \"BSC\")\n",
    "\n",
    "@typecheck\n",
    "def fn_for_student(s: Student) -> ...: # template based on compound and reference rule (two times)\n",
    "    return ...(s.name,\n",
    "               s.stu_num,\n",
    "               fn_for_locr(s.course_records),\n",
    "               fn_for_program(s.program))\n",
    "\n",
    "\n",
    "# List[Student]\n",
    "# interp. a list of students\n",
    "\n",
    "LOS1 = []\n",
    "LOS2 = [S1, S2]\n",
    "\n",
    "@typecheck\n",
    "def fn_for_los(los: List[Student]) -> ...: # template based on arbitrary-sized and the reference rule\n",
    "    # description of the acc\n",
    "    acc = ... # type: ...\n",
    "    for s in los:\n",
    "        acc = ...(acc, fn_for_student(s))\n",
    "    return ...(acc)\n"
   ]
  },
  {
   "cell_type": "code",
   "execution_count": 2,
   "metadata": {
    "editable": false
   },
   "outputs": [
    {
     "ename": "TypeError",
     "evalue": "The function \u001b[34mstudents_program\u001b[0m expects 2 parameter(s) but was called with 1 argument(s). Be sure to supply one argument for each parameter!",
     "output_type": "error",
     "traceback": [
      "\u001b[0;31m---------------------------------------------------------------------------\u001b[0m",
      "\u001b[0;31mTypeError\u001b[0m                                 Traceback (most recent call last)",
      "Cell \u001b[0;32mIn[2], line 23\u001b[0m\n\u001b[1;32m     20\u001b[0m start_testing\n\u001b[1;32m     22\u001b[0m \u001b[38;5;66;03m# examples and tests for students_program()\u001b[39;00m\n\u001b[0;32m---> 23\u001b[0m expect(\u001b[43mstudents_program\u001b[49m\u001b[43m(\u001b[49m\u001b[43mP1\u001b[49m\u001b[43m)\u001b[49m,\u001b[38;5;124m\"\u001b[39m\u001b[38;5;124mCindy Lu\u001b[39m\u001b[38;5;124m\"\u001b[39m   )\n\u001b[1;32m     24\u001b[0m expect(students_program(P2),\u001b[38;5;124m\"\u001b[39m\u001b[38;5;124m\"\u001b[39m )\n\u001b[1;32m     25\u001b[0m expect(students_program(P3),\u001b[38;5;124m\"\u001b[39m\u001b[38;5;124mJessica Jones\u001b[39m\u001b[38;5;124m\"\u001b[39m,\u001b[38;5;124m\"\u001b[39m\u001b[38;5;124mRaven Quan\u001b[39m\u001b[38;5;124m\"\u001b[39m )\n",
      "File \u001b[0;32m/opt/conda/lib/python3.11/site-packages/cs103/typecheck/typecheck.py:125\u001b[0m, in \u001b[0;36mtypecheck.<locals>.wrapper\u001b[0;34m(*args)\u001b[0m\n\u001b[1;32m    123\u001b[0m parm_names \u001b[38;5;241m=\u001b[39m sig\u001b[38;5;241m.\u001b[39mparameters\u001b[38;5;241m.\u001b[39mkeys()\n\u001b[1;32m    124\u001b[0m \u001b[38;5;28;01mif\u001b[39;00m \u001b[38;5;28mlen\u001b[39m(parm_names) \u001b[38;5;241m!=\u001b[39m \u001b[38;5;28mlen\u001b[39m(args):\n\u001b[0;32m--> 125\u001b[0m     \u001b[38;5;28;01mraise\u001b[39;00m \u001b[38;5;167;01mTypeError\u001b[39;00m((\u001b[38;5;124m\"\u001b[39m\u001b[38;5;124mThe function \u001b[39m\u001b[38;5;130;01m\\x1b\u001b[39;00m\u001b[38;5;124m[34m\u001b[39m\u001b[38;5;132;01m%s\u001b[39;00m\u001b[38;5;130;01m\\x1b\u001b[39;00m\u001b[38;5;124m[0m expects \u001b[39m\u001b[38;5;132;01m%s\u001b[39;00m\u001b[38;5;124m parameter(s) but was called with \u001b[39m\u001b[38;5;132;01m%s\u001b[39;00m\u001b[38;5;124m argument(s).\u001b[39m\u001b[38;5;124m\"\u001b[39m \u001b[38;5;241m+\u001b[39m \\\n\u001b[1;32m    126\u001b[0m                      \u001b[38;5;124m\"\u001b[39m\u001b[38;5;124m Be sure to supply one argument for each parameter!\u001b[39m\u001b[38;5;124m\"\u001b[39m)\n\u001b[1;32m    127\u001b[0m                      \u001b[38;5;241m%\u001b[39m (fn\u001b[38;5;241m.\u001b[39m\u001b[38;5;18m__name__\u001b[39m, \u001b[38;5;28mstr\u001b[39m(\u001b[38;5;28mlen\u001b[39m(parm_names)), \u001b[38;5;28mstr\u001b[39m(\u001b[38;5;28mlen\u001b[39m(args))))\n\u001b[1;32m    128\u001b[0m \u001b[38;5;28;01mfor\u001b[39;00m (name, val) \u001b[38;5;129;01min\u001b[39;00m \u001b[38;5;28mzip\u001b[39m(parm_names, args):\n\u001b[1;32m    129\u001b[0m     \u001b[38;5;28;01mif\u001b[39;00m name \u001b[38;5;129;01min\u001b[39;00m types:\n",
      "\u001b[0;31mTypeError\u001b[0m: The function \u001b[34mstudents_program\u001b[0m expects 2 parameter(s) but was called with 1 argument(s). Be sure to supply one argument for each parameter!"
     ]
    }
   ],
   "source": [
    "# This cell is uneditable so you can refer back to the original version of the solution.\n",
    "\n",
    "@typecheck\n",
    "def students_program(LOS:List[Student],P:Program)-> str:\n",
    "    \"\"\"\n",
    "    returns a list of students that are in the given program\n",
    "    \"\"\"\n",
    "    \n",
    "    return \"\" #stub\n",
    "\n",
    "    #template taken from List[Student]\n",
    "    \n",
    "    #student = \"\" #type:str \n",
    "    #for S in LOS:\n",
    "    #    if S.program==P:\n",
    "    #        student=S.name\n",
    "    #return student\n",
    "\n",
    "#Begin Testing\n",
    "start_testing\n",
    "\n",
    "# examples and tests for students_program()\n",
    "expect(students_program(P1),\"Cindy Lu\"   )\n",
    "expect(students_program(P2),\"\" )\n",
    "expect(students_program(P3),\"Jessica Jones\",\"Raven Quan\" )\n",
    "expect(students_program(P4),\"\" )\n",
    "# Show testing summary\n",
    "summary()"
   ]
  },
  {
   "cell_type": "code",
   "execution_count": 3,
   "metadata": {},
   "outputs": [
    {
     "ename": "TypeError",
     "evalue": "The function \u001b[34mstudents_program\u001b[0m expects 2 parameter(s) but was called with 1 argument(s). Be sure to supply one argument for each parameter!",
     "output_type": "error",
     "traceback": [
      "\u001b[0;31m---------------------------------------------------------------------------\u001b[0m",
      "\u001b[0;31mTypeError\u001b[0m                                 Traceback (most recent call last)",
      "Cell \u001b[0;32mIn[3], line 21\u001b[0m\n\u001b[1;32m     18\u001b[0m start_testing\n\u001b[1;32m     20\u001b[0m \u001b[38;5;66;03m# examples and tests for students_program()\u001b[39;00m\n\u001b[0;32m---> 21\u001b[0m expect(\u001b[43mstudents_program\u001b[49m\u001b[43m(\u001b[49m\u001b[43mP1\u001b[49m\u001b[43m)\u001b[49m,\u001b[38;5;124m\"\u001b[39m\u001b[38;5;124mCindy Lu\u001b[39m\u001b[38;5;124m\"\u001b[39m   )\n\u001b[1;32m     22\u001b[0m expect(students_program(P2),\u001b[38;5;124m\"\u001b[39m\u001b[38;5;124m\"\u001b[39m )\n\u001b[1;32m     23\u001b[0m expect(students_program(P3),\u001b[38;5;124m\"\u001b[39m\u001b[38;5;124mJessica Jones\u001b[39m\u001b[38;5;124m\"\u001b[39m,\u001b[38;5;124m\"\u001b[39m\u001b[38;5;124mRaven Quan\u001b[39m\u001b[38;5;124m\"\u001b[39m )\n",
      "File \u001b[0;32m/opt/conda/lib/python3.11/site-packages/cs103/typecheck/typecheck.py:125\u001b[0m, in \u001b[0;36mtypecheck.<locals>.wrapper\u001b[0;34m(*args)\u001b[0m\n\u001b[1;32m    123\u001b[0m parm_names \u001b[38;5;241m=\u001b[39m sig\u001b[38;5;241m.\u001b[39mparameters\u001b[38;5;241m.\u001b[39mkeys()\n\u001b[1;32m    124\u001b[0m \u001b[38;5;28;01mif\u001b[39;00m \u001b[38;5;28mlen\u001b[39m(parm_names) \u001b[38;5;241m!=\u001b[39m \u001b[38;5;28mlen\u001b[39m(args):\n\u001b[0;32m--> 125\u001b[0m     \u001b[38;5;28;01mraise\u001b[39;00m \u001b[38;5;167;01mTypeError\u001b[39;00m((\u001b[38;5;124m\"\u001b[39m\u001b[38;5;124mThe function \u001b[39m\u001b[38;5;130;01m\\x1b\u001b[39;00m\u001b[38;5;124m[34m\u001b[39m\u001b[38;5;132;01m%s\u001b[39;00m\u001b[38;5;130;01m\\x1b\u001b[39;00m\u001b[38;5;124m[0m expects \u001b[39m\u001b[38;5;132;01m%s\u001b[39;00m\u001b[38;5;124m parameter(s) but was called with \u001b[39m\u001b[38;5;132;01m%s\u001b[39;00m\u001b[38;5;124m argument(s).\u001b[39m\u001b[38;5;124m\"\u001b[39m \u001b[38;5;241m+\u001b[39m \\\n\u001b[1;32m    126\u001b[0m                      \u001b[38;5;124m\"\u001b[39m\u001b[38;5;124m Be sure to supply one argument for each parameter!\u001b[39m\u001b[38;5;124m\"\u001b[39m)\n\u001b[1;32m    127\u001b[0m                      \u001b[38;5;241m%\u001b[39m (fn\u001b[38;5;241m.\u001b[39m\u001b[38;5;18m__name__\u001b[39m, \u001b[38;5;28mstr\u001b[39m(\u001b[38;5;28mlen\u001b[39m(parm_names)), \u001b[38;5;28mstr\u001b[39m(\u001b[38;5;28mlen\u001b[39m(args))))\n\u001b[1;32m    128\u001b[0m \u001b[38;5;28;01mfor\u001b[39;00m (name, val) \u001b[38;5;129;01min\u001b[39;00m \u001b[38;5;28mzip\u001b[39m(parm_names, args):\n\u001b[1;32m    129\u001b[0m     \u001b[38;5;28;01mif\u001b[39;00m name \u001b[38;5;129;01min\u001b[39;00m types:\n",
      "\u001b[0;31mTypeError\u001b[0m: The function \u001b[34mstudents_program\u001b[0m expects 2 parameter(s) but was called with 1 argument(s). Be sure to supply one argument for each parameter!"
     ]
    }
   ],
   "source": [
    "@typecheck\n",
    "def students_program(LOS:List[Student],P:Program)-> str:\n",
    "    \"\"\"\n",
    "    returns a list of students that are in the given program\n",
    "    \"\"\"\n",
    "    \n",
    "    return \"\" #stub\n",
    "\n",
    "    #template taken from List[Student]\n",
    "    \n",
    "    #student = \"\" #type:str\n",
    "    #for S in LOS:\n",
    "    #    if S.program==P:\n",
    "    #        student=S.name\n",
    "    #return student\n",
    "\n",
    "#Begin Testing\n",
    "start_testing\n",
    "\n",
    "# examples and tests for students_program()\n",
    "expect(students_program(P1),\"Cindy Lu\"   )\n",
    "expect(students_program(P2),\"\" )\n",
    "expect(students_program(P3),\"Jessica Jones\",\"Raven Quan\" )\n",
    "expect(students_program(P4),\"\" )\n",
    "# Show testing summary\n",
    "summary()"
   ]
  },
  {
   "cell_type": "code",
   "execution_count": null,
   "metadata": {},
   "outputs": [],
   "source": []
  }
 ],
 "metadata": {
  "kernelspec": {
   "display_name": "Python 3 (ipykernel)",
   "language": "python",
   "name": "python3"
  },
  "language_info": {
   "codemirror_mode": {
    "name": "ipython",
    "version": 3
   },
   "file_extension": ".py",
   "mimetype": "text/x-python",
   "name": "python",
   "nbconvert_exporter": "python",
   "pygments_lexer": "ipython3",
   "version": "3.11.4"
  }
 },
 "nbformat": 4,
 "nbformat_minor": 2
}
