{
 "cells": [
  {
   "cell_type": "code",
   "execution_count": 1,
   "metadata": {},
   "outputs": [],
   "source": [
    "from cs103 import *\n",
    "from typing import List"
   ]
  },
  {
   "cell_type": "markdown",
   "metadata": {},
   "source": [
    "## Problem:\n",
    "\n",
    "Design a function that squares every element in a list of number, and removes every resulting element that is greater than a number n. Be sure to follow all of the helper rules. We have provided the a data definition for a list of integers and a stub (including signature and purpose) and some examples for the function design. "
   ]
  },
  {
   "cell_type": "code",
   "execution_count": 2,
   "metadata": {},
   "outputs": [],
   "source": [
    "# List[int] \n",
    "# interp. a list of integers\n",
    "LOB0 = []\n",
    "LOB1 = [1, -33, 875332]\n",
    "\n",
    "# template based on arbitrary-sized \n",
    "@typecheck\n",
    "def fn_for_loi(loi: List[int]) -> ...:\n",
    "    # description of the acc\n",
    "    acc = ... # type: ...\n",
    "    for i in loi:\n",
    "        ...(acc, i)\n",
    "    return ...(acc)"
   ]
  },
  {
   "cell_type": "code",
   "execution_count": 3,
   "metadata": {},
   "outputs": [
    {
     "name": "stdout",
     "output_type": "stream",
     "text": [
      "\u001b[92m8 of 8 tests passed\u001b[0m\n"
     ]
    }
   ],
   "source": [
    "@typecheck\n",
    "def square_and_filter(loi: List[int], n: int) -> List[int]:\n",
    "    \"\"\"\n",
    "    square every element in loi, then remove those that are greater than n\n",
    "    \"\"\"\n",
    "    # return loi       #stub\n",
    "    # template as function composition\n",
    "    \n",
    "    return filter_list(square_list(loi), n)\n",
    "\n",
    "@typecheck\n",
    "def filter_list(loi: List[int], n: int) -> List[int]:\n",
    "    \"\"\"\n",
    "    remove elements in loi greater than n\n",
    "    \"\"\"\n",
    "    # return loi #stub\n",
    "    # template from List[int], added atomic parameter\n",
    "    \n",
    "    # acc contains the result so far\n",
    "    acc = [] # type: List[int]\n",
    "    for i in loi:\n",
    "        if i <= n:\n",
    "            acc.append(i)\n",
    "    return acc\n",
    "\n",
    "\n",
    "@typecheck\n",
    "def square_list(loi: List[int]) -> List[int]:\n",
    "    \"\"\"\n",
    "    square every element in loi\n",
    "    \"\"\"\n",
    "    # return loi       #stub\n",
    "    # template from List[int]\n",
    "    \n",
    "    # acc contains the result so far\n",
    "    acc = [] # type: List[int]\n",
    "    for i in loi:\n",
    "        acc.append(i*i)\n",
    "    return acc\n",
    "\n",
    "start_testing()\n",
    "\n",
    "# examples and tests for square_and_filter\n",
    "expect(square_and_filter([], 5), [])\n",
    "expect(square_and_filter([1, 3, 9, 2, 5], 20), [1, 9, 4])\n",
    "expect(square_and_filter([6, 7, 8, 9], 30), [])\n",
    "\n",
    "# examples and tests for filter_list\n",
    "expect(filter_list([], 10), [])\n",
    "expect(filter_list([1, 2, 3, 4], 1), [1])\n",
    "expect(filter_list([1, 2, 3, 4], 10), [1, 2, 3, 4])\n",
    "\n",
    "# examples and tests for square_list\n",
    "expect(square_list([]), [])\n",
    "expect(square_list([4, 3, 10, 5]), [16, 9, 100, 25])\n",
    "\n",
    "# show testing summary\n",
    "summary()"
   ]
  }
 ],
 "metadata": {
  "kernelspec": {
   "display_name": "Python 3 (ipykernel)",
   "language": "python",
   "name": "python3"
  },
  "language_info": {
   "codemirror_mode": {
    "name": "ipython",
    "version": 3
   },
   "file_extension": ".py",
   "mimetype": "text/x-python",
   "name": "python",
   "nbconvert_exporter": "python",
   "pygments_lexer": "ipython3",
   "version": "3.9.9"
  }
 },
 "nbformat": 4,
 "nbformat_minor": 2
}
