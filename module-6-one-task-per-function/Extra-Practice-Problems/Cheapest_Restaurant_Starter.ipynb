{
 "cells": [
  {
   "cell_type": "markdown",
   "metadata": {},
   "source": [
    "First, read the data definitions below."
   ]
  },
  {
   "cell_type": "code",
   "execution_count": 1,
   "metadata": {},
   "outputs": [],
   "source": [
    "from cs103 import * \n",
    "from typing import NamedTuple\n",
    "from typing import List\n",
    "\n",
    "MenuItem = NamedTuple('MenuItem', [('name', str), \n",
    "                                   ('price', int)]) \n",
    "# interp. a menu item with its name and price in cents\n",
    "M1 = MenuItem('coffee', 200)\n",
    "M2 = MenuItem('muffin', 250)\n",
    "M3 = MenuItem('sandwich', 675)\n",
    "M4 = MenuItem('pizza', 250)\n",
    "M5 = MenuItem('pop', 100)\n",
    "M6 = MenuItem('beer', 650)\n",
    "M7 = MenuItem('wings', 1200)\n",
    "M8 = MenuItem('burger and fries', 1500)\n",
    "M9 = MenuItem('Nachos', 1650)\n",
    "\n",
    "# template based on compound\n",
    "@typecheck\n",
    "def fn_for_menu_item(mi: MenuItem) -> ...:\n",
    "    return ... (mi.name,\n",
    "                mi.price)\n",
    "\n",
    "\n",
    "# List[MenuItem] \n",
    "# interp. a list of menu items\n",
    "LOMI0 = []\n",
    "LOMI1 = [M1, M2, M3]\n",
    "LOMI2 = [M4, M5]\n",
    "LOMI3 = [M6, M7, M8, M9]\n",
    "\n",
    "# template based on arbitrary-sized and the reference rule\n",
    "@typecheck\n",
    "def fn_for_lomi(lomi: List[MenuItem]) -> ...:\n",
    "    # description of the acc\n",
    "    acc = ... # type: ...\n",
    "    for mi in lomi:\n",
    "        ...(acc,fn_for_menu_item(mi))\n",
    "    return ...(acc)\n",
    "\n",
    "\n",
    "Restaurant = NamedTuple('Restuarant', [('name', str), ('menu', List[MenuItem])])\n",
    "# interp. A restaurant with name and list of menu items\n",
    "# ASSUME: a restuarant has at least one menu item\n",
    "R1 = Restaurant('Arbutus Coffee', LOMI1)\n",
    "R2 = Restaurant('Uncle Fatihs Pizza', LOMI2)\n",
    "R3 = Restaurant('Darbys Public House', LOMI3)\n",
    "\n",
    "# template based on compound and the reference rule\n",
    "@typecheck\n",
    "def fn_for_restaurant(r: Restaurant) -> ...:\n",
    "    return ... (r.name,\n",
    "                fn_for_lomi(r.menu))"
   ]
  },
  {
   "cell_type": "markdown",
   "metadata": {},
   "source": [
    "## Problem: \n",
    "\n",
    "Design a function that takes two restuarants and produces the name of the restaurant that has the lowest priced item on its menu. Be sure to follow all of the helper rules. "
   ]
  },
  {
   "cell_type": "code",
   "execution_count": 9,
   "metadata": {},
   "outputs": [
    {
     "name": "stdout",
     "output_type": "stream",
     "text": [
      "\u001b[91mTest failed:\u001b[0m expected Uncle Fatihs Pizza but got Darbys Public House\n",
      "    \u001b[1mLine 59: \u001b[0mexpect(cheapest_restaurant(R2, R3), R2.name)\n",
      "\u001b[91m0 of 1 tests passed\u001b[0m\n"
     ]
    }
   ],
   "source": [
    "# your solution goes here\n",
    "@typecheck\n",
    "def filter_for_prices(lomi: List[MenuItem]) -> List[int]:\n",
    "    \"\"\"\n",
    "    filters and returns a list of integers (prices) given lomi\n",
    "    \"\"\"\n",
    "    #return [] #stub\n",
    "    #template from List[MenuItem]\n",
    "    #prices is the list of integers/prices seen so far from lomi\n",
    "    prices = [] #type: List[int]\n",
    "    for mi in lomi:\n",
    "        prices.append(mi.price)\n",
    "    return prices\n",
    "\n",
    "@typecheck \n",
    "def find_cheapest_price(loi: List[int]) -> int:\n",
    "    \"\"\"\n",
    "    returns the cheapest price, an integer from loi\n",
    "    \"\"\"\n",
    "    #return 1 #stub\n",
    "    #template from List[int]\n",
    "    #cheapest_price is the smallest integer seen so far in loi\n",
    "    cheapest_price = 0 #type: int\n",
    "    for i in loi:\n",
    "        if i<cheapest_price:\n",
    "            cheapest_price = i\n",
    "    return cheapest_price\n",
    "\n",
    "\n",
    "@typecheck\n",
    "def find_cheaper_restaurant(r1: str, r2: str, p1: int, p2: int) -> str:\n",
    "    \"\"\"\n",
    "    returns r1 if p1 is smaller than p2. If p2 is smaller than p1, r2 is returned. In the case of a tie, \n",
    "    r2 is returned\n",
    "    \"\"\"\n",
    "    #template from atomic non-distinct\n",
    "    #return...(r1,r2,p1,p2)\n",
    "    if p1<p2:\n",
    "        return r1\n",
    "    else:\n",
    "        return r2\n",
    "\n",
    "@typecheck\n",
    "def cheapest_restaurant(r1: Restaurant, r2: Restaurant)-> str:\n",
    "    \"\"\"\n",
    "    takes two restaurants (r1, r2) and returns the name of the restaurant with the cheapest item on its menu. \n",
    "    In the case of a tie, r2 is returned\n",
    "    \"\"\"\n",
    "    #return \"\" #stub\n",
    "    #template from composition\n",
    "    first_menu_prices = filter_for_prices(r1.menu)\n",
    "    second_menu_prices = filter_for_prices(r2.menu)\n",
    "    first_cheap_price = find_cheapest_price(first_menu_prices)\n",
    "    second_cheap_price = find_cheapest_price(second_menu_prices)\n",
    "    cheaper_restaurant = find_cheaper_restaurant(r1.name, r2.name, first_cheap_price, second_cheap_price)\n",
    "    return cheaper_restaurant\n",
    "\n",
    "start_testing()\n",
    "expect(cheapest_restaurant(R2, R3), R2.name)\n",
    "summary()\n"
   ]
  },
  {
   "cell_type": "code",
   "execution_count": null,
   "metadata": {},
   "outputs": [],
   "source": []
  },
  {
   "cell_type": "code",
   "execution_count": null,
   "metadata": {},
   "outputs": [],
   "source": []
  }
 ],
 "metadata": {
  "kernelspec": {
   "display_name": "Python 3 (ipykernel)",
   "language": "python",
   "name": "python3"
  },
  "language_info": {
   "codemirror_mode": {
    "name": "ipython",
    "version": 3
   },
   "file_extension": ".py",
   "mimetype": "text/x-python",
   "name": "python",
   "nbconvert_exporter": "python",
   "pygments_lexer": "ipython3",
   "version": "3.11.4"
  }
 },
 "nbformat": 4,
 "nbformat_minor": 2
}
