{
 "cells": [
  {
   "cell_type": "markdown",
   "metadata": {},
   "source": [
    "First, read the data definitions below."
   ]
  },
  {
   "cell_type": "code",
   "execution_count": null,
   "metadata": {},
   "outputs": [],
   "source": [
    "from cs103 import * \n",
    "from typing import NamedTuple\n",
    "from typing import List\n",
    "\n",
    "MenuItem = NamedTuple('MenuItem', [('name', str), \n",
    "                                   ('price', int)]) \n",
    "# interp. a menu item with its name and price in cents\n",
    "M1 = MenuItem('coffee', 200)\n",
    "M2 = MenuItem('muffin', 250)\n",
    "M3 = MenuItem('sandwich', 675)\n",
    "M4 = MenuItem('pizza', 250)\n",
    "M5 = MenuItem('pop', 100)\n",
    "M6 = MenuItem('beer', 650)\n",
    "M7 = MenuItem('wings', 1200)\n",
    "M8 = MenuItem('burger and fries', 1500)\n",
    "M9 = MenuItem('Nachos', 1650)\n",
    "\n",
    "# template based on compound\n",
    "@typecheck\n",
    "def fn_for_menu_item(mi: MenuItem) -> ...:\n",
    "    return ... (mi.name,\n",
    "                mi.price)\n",
    "\n",
    "\n",
    "# List[MenuItem] \n",
    "# interp. a list of menu items\n",
    "LOMI0 = []\n",
    "LOMI1 = [M1, M2, M3]\n",
    "LOMI2 = [M4, M5]\n",
    "LOMI3 = [M6, M7, M8, M9]\n",
    "\n",
    "# template based on arbitrary-sized and the reference rule\n",
    "@typecheck\n",
    "def fn_for_lomi(lomi: List[MenuItem]) -> ...:\n",
    "    # description of the acc\n",
    "    acc = ... # type: ...\n",
    "    for mi in lomi:\n",
    "        ...(acc,fn_for_menu_item(mi))\n",
    "    return ...(acc)\n",
    "\n",
    "\n",
    "Restaurant = NamedTuple('Restuarant', [('name', str), ('menu', List[MenuItem])])\n",
    "# interp. A restaurant with name and list of menu items\n",
    "# ASSUME: a restuarant has at least one menu item\n",
    "R1 = Restaurant('Arbutus Coffee', LOMI1)\n",
    "R2 = Restaurant('Uncle Fatihs Pizza', LOMI2)\n",
    "R3 = Restaurant('Darbys Public House', LOMI3)\n",
    "\n",
    "# template based on compound and the reference rule\n",
    "@typecheck\n",
    "def fn_for_restaurant(r: Restaurant) -> ...:\n",
    "    return ... (r.name,\n",
    "                fn_for_lomi(r.menu))"
   ]
  },
  {
   "cell_type": "markdown",
   "metadata": {},
   "source": [
    "## Problem: \n",
    "\n",
    "Design a function that takes two restuarants and produces the name of the restaurant that has the lowest priced item on its menu. Be sure to follow all of the helper rules. "
   ]
  },
  {
   "cell_type": "code",
   "execution_count": null,
   "metadata": {},
   "outputs": [],
   "source": [
    "# your solution goes here"
   ]
  }
 ],
 "metadata": {
  "kernelspec": {
   "display_name": "Python 3 (ipykernel)",
   "language": "python",
   "name": "python3"
  },
  "language_info": {
   "codemirror_mode": {
    "name": "ipython",
    "version": 3
   },
   "file_extension": ".py",
   "mimetype": "text/x-python",
   "name": "python",
   "nbconvert_exporter": "python",
   "pygments_lexer": "ipython3",
   "version": "3.9.9"
  }
 },
 "nbformat": 4,
 "nbformat_minor": 2
}
