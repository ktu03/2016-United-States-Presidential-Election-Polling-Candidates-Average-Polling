{
 "cells": [
  {
   "cell_type": "markdown",
   "metadata": {},
   "source": [
    "## Problem:\n",
    "\n",
    "Design a function named square_and_filter that squares every element in a list of numbers, and removes every resulting element that is greater than a number n. Be sure to follow all of the helper rules. We have provided the a data definition for a list of integers and a stub (including signature and purpose) and some examples for the function design. "
   ]
  },
  {
   "cell_type": "code",
   "execution_count": null,
   "metadata": {},
   "outputs": [],
   "source": [
    "from cs103 import *\n",
    "from typing import List\n",
    "\n",
    "# List[int] \n",
    "# interp. a list of integers\n",
    "LOB0 = []\n",
    "LOB1 = [1, -33, 875332]\n",
    "\n",
    "# template based on arbitrary-sized \n",
    "@typecheck\n",
    "def fn_for_loi(loi: List[int]) -> ...:\n",
    "    # description of the acc\n",
    "    acc = ... # type: ...\n",
    "    for i in loi:\n",
    "        ...(acc, i)\n",
    "    return ...(acc)\n",
    "\n",
    "@typecheck\n",
    "def square_and_filter(loi: List[int], n: int) -> List[int]:\n",
    "    \"\"\"\n",
    "    square every element in loi, then remove those that are greater than n\n",
    "    \"\"\"\n",
    "    return loi       #stub\n",
    "\n",
    "\n",
    "start_testing()\n",
    "\n",
    "# examples and tests for square_and_filter\n",
    "expect(square_and_filter([], 5), [])\n",
    "expect(square_and_filter([1, 3, 9, 2, 5], 20), [1, 9, 4])\n",
    "expect(square_and_filter([6, 7, 8, 9], 30), [])\n",
    "\n",
    "# show testing summary\n",
    "summary()"
   ]
  }
 ],
 "metadata": {
  "kernelspec": {
   "display_name": "Python 3 (ipykernel)",
   "language": "python",
   "name": "python3"
  },
  "language_info": {
   "codemirror_mode": {
    "name": "ipython",
    "version": 3
   },
   "file_extension": ".py",
   "mimetype": "text/x-python",
   "name": "python",
   "nbconvert_exporter": "python",
   "pygments_lexer": "ipython3",
   "version": "3.9.9"
  }
 },
 "nbformat": 4,
 "nbformat_minor": 2
}
