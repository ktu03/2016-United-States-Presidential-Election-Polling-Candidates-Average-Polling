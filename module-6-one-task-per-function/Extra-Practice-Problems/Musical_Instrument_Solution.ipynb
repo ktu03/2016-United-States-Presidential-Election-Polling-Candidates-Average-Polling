{
 "cells": [
  {
   "cell_type": "code",
   "execution_count": 2,
   "metadata": {},
   "outputs": [],
   "source": [
    "from cs103 import *\n",
    "from enum import Enum\n",
    "from typing import NamedTuple"
   ]
  },
  {
   "cell_type": "markdown",
   "metadata": {},
   "source": [
    "## Problem 1:\n",
    "Design a data definition to help a music store owner keep track of musical instruments in her inventory. For each instrument, the owner needs to track the name, the musical instrument family it belongs to, how much it costs (in dollars) to purchase the instrument from her supplier, and the price (in dollars) she charges her customers for the instrument. \n",
    "\n",
    "A data definition for MusicalFamily has been provided for you to use in your solution."
   ]
  },
  {
   "cell_type": "code",
   "execution_count": 3,
   "metadata": {},
   "outputs": [],
   "source": [
    "MusicalFamily = Enum('MusicalFamily', ['brass', 'strings', 'woodwind',\n",
    "                                       'percussion', 'keyboard'])\n",
    "# interp. a musical instrument family is either brass, strings, woodwind, \n",
    "# percussion, or keyboard. \n",
    "# examples are redundant for enumerations\n",
    "\n",
    "@typecheck\n",
    "def fn_for_musical_family(mf: MusicalFamily) -> ...: # template rules used: \n",
    "    if (mf == MusicalFamily.brass):                  # One-Of (5 cases), \n",
    "        return ...                                   # atomic-distinct (5 times)\n",
    "    elif (mf == MusicalFamily.strings):\n",
    "        return ...\n",
    "    elif (mf == MusicalFamily.woodwind):\n",
    "        return ...\n",
    "    elif (mf == MusicalFamily.percussion):\n",
    "        return ...\n",
    "    elif (mf == MusicalFamily.keyboard):\n",
    "        return ...\n",
    "\n",
    "# your solution to Problem 1 goes here\n",
    "\n",
    "MusicalInstrument = NamedTuple('MusicalInstrument', [('name', str),\n",
    "                                                     ('family', MusicalFamily),\n",
    "                                                     ('supply_cost', float),\n",
    "                                                     ('price_charged', float)])\n",
    "# interp. a musical instrument with a name ('name'), a musical instrument family ('family'),\n",
    "# a supply cost ('supply-cost'), and a price charged to customers ('price-charged') \n",
    "\n",
    "MI1 = MusicalInstrument('Trumpet', MusicalFamily.brass, 1099.99, 2099.79)\n",
    "MI2 = MusicalInstrument('Violin', MusicalFamily.strings, 559.59, 1759.99)\n",
    "MI3 = MusicalInstrument('Clarinet', MusicalFamily.woodwind, 700.15, 2000.0)\n",
    "MI4 = MusicalInstrument('Drums', MusicalFamily.percussion, 3200.0, 6450.50)\n",
    "MI5 = MusicalInstrument('Piano', MusicalFamily.keyboard, 4000.0, 10999.99)\n",
    "\n",
    "# template based on Compound (4 fields) and Reference\n",
    "@typecheck\n",
    "def fn_for_musical_instrument(mi: MusicalInstrument) -> ...:\n",
    "    return ...(mi.name,          # str \n",
    "               fn_for_musical_family(mi.family),        # MusicalFamily \n",
    "               mi.supply_cost,   # float\n",
    "               mi.price_charged) # float\n"
   ]
  },
  {
   "cell_type": "markdown",
   "metadata": {},
   "source": [
    "## Problem 2:\n",
    "To help her accountant, the music store owner would like to know how much profit she is making from each musical instrument that she sells. Design a function that consumes an instrument and returns the amount of profit (in dollars) from selling the given instrument."
   ]
  },
  {
   "cell_type": "code",
   "execution_count": 4,
   "metadata": {},
   "outputs": [
    {
     "name": "stdout",
     "output_type": "stream",
     "text": [
      "\u001b[92m2 of 2 tests passed\u001b[0m\n"
     ]
    }
   ],
   "source": [
    "# your solution to Problem 2 goes here\n",
    "\n",
    "@typecheck\n",
    "def profit(mi: MusicalInstrument) -> float:\n",
    "    \"\"\"\n",
    "    return the price charged minus the supply cost for mi\n",
    "    \"\"\"\n",
    "    \n",
    "    # return 0.0 # stub\n",
    "    # template from MusicalInstrument\n",
    "    return mi.price_charged - mi.supply_cost\n",
    "    \n",
    "    \n",
    "# Start testing\n",
    "start_testing()\n",
    "\n",
    "expect(profit(MusicalInstrument('Trumpet', MusicalFamily.brass, 1099.99, 2099.79)), 2099.79 - 1099.99)\n",
    "expect(profit(MI2), 1759.99 - 559.59)\n",
    "\n",
    "# Show testing summary\n",
    "summary()"
   ]
  },
  {
   "cell_type": "markdown",
   "metadata": {},
   "source": [
    "## Problem 3:\n",
    "The music store owner would like to add a recommendation feature to her store's website. This feature would recommend instruments which are similar to an instrument currently being viewed by a customer on the site. One way to determine similar instruments is by checking their musical instrument family. Design a function that consumes two instruments and determines whether they share the same musical instrument family. "
   ]
  },
  {
   "cell_type": "code",
   "execution_count": 5,
   "metadata": {},
   "outputs": [
    {
     "name": "stdout",
     "output_type": "stream",
     "text": [
      "\u001b[92m8 of 8 tests passed\u001b[0m\n"
     ]
    }
   ],
   "source": [
    "# your solution to Problem 3 goes here\n",
    "\n",
    "@typecheck\n",
    "def same_instruments(mi1: MusicalInstrument, mi2: MusicalInstrument) -> bool:\n",
    "    \"\"\"\n",
    "    returns True if mi1 and mi2 share the same musical instrument family\n",
    "    \"\"\"\n",
    "    # return False #stub\n",
    "    # template from MusicalInstrument with added parameter\n",
    "    return same_family(mi1.family, mi2.family)\n",
    "\n",
    "@typecheck\n",
    "def same_family(mf1: MusicalFamily, mf2: MusicalFamily) -> bool:\n",
    "    \"\"\"\n",
    "    returns True if mf1 and mf2 are the same musical instrument family\n",
    "    \"\"\"\n",
    "    # return False # stub\n",
    "    # template from MusicalFamily with added parameter\n",
    "    if (mf1 == MusicalFamily.brass):                   \n",
    "        return mf2 == MusicalFamily.brass                                   \n",
    "    elif (mf1 == MusicalFamily.strings):\n",
    "        return mf2 == MusicalFamily.strings\n",
    "    elif (mf1 == MusicalFamily.woodwind):\n",
    "        return mf2 == MusicalFamily.woodwind\n",
    "    elif (mf1 == MusicalFamily.percussion):\n",
    "        return mf2 == MusicalFamily.percussion\n",
    "    elif (mf1 == MusicalFamily.keyboard):\n",
    "        return mf2 == MusicalFamily.keyboard\n",
    "\n",
    "    \n",
    "# Start testing\n",
    "start_testing()\n",
    "\n",
    "# Tests for same_instruments\n",
    "expect(same_instruments(MI3, MI4), False)\n",
    "expect(same_instruments(MI1, MusicalInstrument('Saxophone', MusicalFamily.brass, 900.15, 2500.0)), True)\n",
    "\n",
    "# Tests for same_family\n",
    "expect(same_family(MusicalFamily.woodwind, MusicalFamily.percussion), False)\n",
    "expect(same_family(MusicalFamily.brass, MusicalFamily.brass), True)\n",
    "expect(same_family(MusicalFamily.strings, MusicalFamily.strings), True)\n",
    "expect(same_family(MusicalFamily.woodwind, MusicalFamily.woodwind), True)\n",
    "expect(same_family(MusicalFamily.percussion, MusicalFamily.percussion), True)\n",
    "expect(same_family(MusicalFamily.keyboard, MusicalFamily.keyboard), True)\n",
    "\n",
    "# Show testing summary\n",
    "summary()"
   ]
  }
 ],
 "metadata": {
  "kernelspec": {
   "display_name": "Python 3 (ipykernel)",
   "language": "python",
   "name": "python3"
  },
  "language_info": {
   "codemirror_mode": {
    "name": "ipython",
    "version": 3
   },
   "file_extension": ".py",
   "mimetype": "text/x-python",
   "name": "python",
   "nbconvert_exporter": "python",
   "pygments_lexer": "ipython3",
   "version": "3.9.9"
  }
 },
 "nbformat": 4,
 "nbformat_minor": 2
}
