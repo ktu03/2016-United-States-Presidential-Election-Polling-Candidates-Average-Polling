{
 "cells": [
  {
   "cell_type": "code",
   "execution_count": null,
   "metadata": {
    "collapsed": true
   },
   "outputs": [],
   "source": [
    "from cs103 import *\n",
    "from enum import Enum\n",
    "from typing import NamedTuple"
   ]
  },
  {
   "cell_type": "markdown",
   "metadata": {},
   "source": [
    "## Problem 1:\n",
    "Design a data definition to help a music store owner keep track of musical instruments in her inventory. For each instrument, the owner needs to track the name, the musical instrument family it belongs to, how much it costs (in dollars) to purchase the instrument from her supplier, and the price (in dollars) she charges her customers for the instrument. \n",
    "\n",
    "A data definition for MusicalFamily has been provided for you to use in your solution."
   ]
  },
  {
   "cell_type": "code",
   "execution_count": null,
   "metadata": {
    "collapsed": true
   },
   "outputs": [],
   "source": [
    "MusicalFamily = Enum('MusicalFamily', ['brass', 'strings', 'woodwind',\n",
    "                                       'percussion', 'keyboard'])\n",
    "# interp. a musical instrument family is either brass, strings, woodwind, \n",
    "# percussion, or keyboard. \n",
    "# examples are redundant for enumerations\n",
    "\n",
    "@typecheck\n",
    "def fn_for_musical_family(mf: MusicalFamily) -> ...: # template rules used: \n",
    "    if (mf == MusicalFamily.brass):                  # One-Of (5 cases), \n",
    "        return ...                                   # atomic-distinct (5 times)\n",
    "    elif (mf == MusicalFamily.strings):\n",
    "        return ...\n",
    "    elif (mf == MusicalFamily.woodwind):\n",
    "        return ...\n",
    "    elif (mf == MusicalFamily.percussion):\n",
    "        return ...\n",
    "    elif (mf == MusicalFamily.keyboard):\n",
    "        return ...\n",
    "\n",
    "# your solution to Problem 1 goes here\n"
   ]
  },
  {
   "cell_type": "markdown",
   "metadata": {},
   "source": [
    "## Problem 2:\n",
    "To help her accountant, the music store owner would like to know how much profit she is making from each musical instrument that she sells. Design a function that consumes an instrument and returns the amount of profit (in dollars) from selling the given instrument."
   ]
  },
  {
   "cell_type": "code",
   "execution_count": null,
   "metadata": {},
   "outputs": [],
   "source": [
    "# your solution to Problem 2 goes here\n"
   ]
  },
  {
   "cell_type": "markdown",
   "metadata": {},
   "source": [
    "## Problem 3:\n",
    "The music store owner would like to add a recommendation feature to her store's website. This feature would recommend instruments which are similar to an instrument currently being viewed by a customer on the site. One way to determine similar instruments is by checking their musical instrument family. Design a function that consumes two instruments and determines whether they share the same musical instrument family. "
   ]
  },
  {
   "cell_type": "code",
   "execution_count": null,
   "metadata": {},
   "outputs": [],
   "source": [
    "# your solution to Problem 3 goes here\n"
   ]
  }
 ],
 "metadata": {
  "kernelspec": {
   "display_name": "Python 3 (ipykernel)",
   "language": "python",
   "name": "python3"
  },
  "language_info": {
   "codemirror_mode": {
    "name": "ipython",
    "version": 3
   },
   "file_extension": ".py",
   "mimetype": "text/x-python",
   "name": "python",
   "nbconvert_exporter": "python",
   "pygments_lexer": "ipython3",
   "version": "3.9.9"
  }
 },
 "nbformat": 4,
 "nbformat_minor": 2
}
