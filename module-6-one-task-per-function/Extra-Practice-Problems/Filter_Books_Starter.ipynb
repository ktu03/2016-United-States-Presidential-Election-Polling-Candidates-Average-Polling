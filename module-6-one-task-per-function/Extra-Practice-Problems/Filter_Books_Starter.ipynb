{
 "cells": [
  {
   "cell_type": "markdown",
   "metadata": {},
   "source": [
    "## Problem 1: \n",
    "\n",
    "Design a data definition for a fiction book with a title, author, genre, and year of publication. You should use the provided data definition for Genre.\n",
    "\n",
    "Be sure to follow all steps of the HtDD recipe."
   ]
  },
  {
   "cell_type": "code",
   "execution_count": null,
   "metadata": {},
   "outputs": [],
   "source": [
    "from cs103 import *\n",
    "from enum import Enum\n",
    "from typing import NamedTuple\n",
    "from typing import List\n",
    "\n",
    "Genre = Enum('Genre', ['classic', 'drama', 'fantasy','historical', \n",
    "                       'mystery', 'scifi'])\n",
    "# interp. a genre is either classic, drama, fantasy, historical, \n",
    "# mystery, or science fiction.\n",
    "# examples are redundant for enumerations\n",
    "\n",
    "# template based on One Of (6 cases) and atomic distinct (6 times)\n",
    "@typecheck\n",
    "def fn_for_genre(g):\n",
    "    if (g == Genre.classic):\n",
    "        return ...\n",
    "    elif (g == Genre.drama):\n",
    "        return ...\n",
    "    elif (g == Genre.fantasy):\n",
    "        return ...\n",
    "    elif (g == Genre.historical):\n",
    "        return ...\n",
    "    elif (g == Genre.mystery):\n",
    "        return ...\n",
    "    elif (g == Genre.scifi):\n",
    "        return ...\n",
    "\n",
    "\n",
    "# your solution goes here"
   ]
  },
  {
   "cell_type": "markdown",
   "metadata": {},
   "source": [
    "## Problem 2: \n",
    "\n",
    "Using your data definition from Problem 1, design a data definition for a list of books.\n",
    "\n",
    "Be sure to follow all steps of the HtDD recipe."
   ]
  },
  {
   "cell_type": "code",
   "execution_count": null,
   "metadata": {},
   "outputs": [],
   "source": [
    "# your solution goes here\n"
   ]
  },
  {
   "cell_type": "markdown",
   "metadata": {},
   "source": [
    "## Problem 3:\n",
    "\n",
    "Design a function that consumes a list of books and a genre, and filters the list to only include books with the given genre. \n",
    "\n",
    "Be sure to follow all steps of the HtDF recipe and the helper rules. "
   ]
  },
  {
   "cell_type": "code",
   "execution_count": null,
   "metadata": {},
   "outputs": [],
   "source": [
    "# your solution goes here"
   ]
  }
 ],
 "metadata": {
  "kernelspec": {
   "display_name": "Python 3 (ipykernel)",
   "language": "python",
   "name": "python3"
  },
  "language_info": {
   "codemirror_mode": {
    "name": "ipython",
    "version": 3
   },
   "file_extension": ".py",
   "mimetype": "text/x-python",
   "name": "python",
   "nbconvert_exporter": "python",
   "pygments_lexer": "ipython3",
   "version": "3.9.9"
  }
 },
 "nbformat": 4,
 "nbformat_minor": 2
}
