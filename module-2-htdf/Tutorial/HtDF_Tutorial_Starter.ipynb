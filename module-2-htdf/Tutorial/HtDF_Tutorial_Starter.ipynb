{
 "cells": [
  {
   "cell_type": "code",
   "execution_count": null,
   "metadata": {},
   "outputs": [],
   "source": [
    "from cs103 import *\n",
    "# import pokemon_data.ipynb from current folder\n",
    "from ipynb.fs.full.pokemon_data import *"
   ]
  },
  {
   "cell_type": "markdown",
   "metadata": {},
   "source": [
    "If you encounter a \"ModuleNotFound: No module named ipynb\" error when you run the cell above, be sure to run the `setup/Misc/setup.ipynb` file. Then, come back to this file and restart your kernel (Kernel → Restart). After that, the error should go away when you run the cell with the import statements."
   ]
  },
  {
   "cell_type": "markdown",
   "metadata": {
    "collapsed": true
   },
   "source": [
    "# HtDF Tutorial Solution\n",
    "\n",
    "## Pre-Tutorial Questions:\n",
    "\n",
    "For each problem, write the signature, purpose, and stub. This work will not be graded but is highly recommended as preparation for your tutorial."
   ]
  },
  {
   "cell_type": "markdown",
   "metadata": {
    "collapsed": true
   },
   "source": [
    "### Problem 1:\n",
    "    \n",
    "Design a function that accepts a string and returns the string with 'Hello world! ' at the beginning of the string.\n",
    "\n",
    "For example, if you call the function with \"Good Morning\", the function should return \"Hello world! Good Morning\".\n",
    "\n",
    "When designing your function, be sure to follow all steps of the HtDF recipe."
   ]
  },
  {
   "cell_type": "code",
   "execution_count": null,
   "metadata": {},
   "outputs": [],
   "source": [
    "# Put your solution to Problem 1 here\n"
   ]
  },
  {
   "cell_type": "markdown",
   "metadata": {
    "collapsed": true
   },
   "source": [
    "### Problem 2:\n",
    "\n",
    "Recall our work with APIs in the module 1 lectures. This time, we are working with a different API - https://pokeapi.co/. This API allows us to fetch different types (e.g., name, type, height, weight, base_stat) of information on Pokemon.\n",
    "\n",
    "Here are some functions of interest:\n",
    "\n",
    "- `get_pokemon_name(pokemon_id: int) -> str`\n",
    "\n",
    "\n",
    "- `get_pokemon_attack(pokemon_name: str) -> int`\n",
    "\n",
    "\n",
    "- `get_pokemon_defense(pokemon_name: str) -> int`\n",
    "\n",
    "\n",
    "- `get_pokemon_height(pokemon_name: str) -> int`\n",
    "\n",
    "\n",
    "- `get_pokemon_weight(pokemon_name: str) -> int`\n",
    "\n",
    "\n",
    "- `get_pokemon_num_types(pokemon_name: str) -> int`\n",
    "\n",
    "\n",
    "- `get_pokemon_type1(country_name: str) -> str`\n",
    "\n",
    "\n",
    "- `get_pokemon_type2(country_name: str) -> str`\n"
   ]
  },
  {
   "cell_type": "markdown",
   "metadata": {},
   "source": [
    "Complete the following table with information about three different Pokemon. Each Pokemon has a unique ID number. If you are not familiar with Pokemon, just choose three random numbers from 1 to 898 (inclusive).\n",
    "\n",
    "The first row is provided as an example and does not count towards the three rows you have to fill out yourself. Double click this cell to start editing the table.\n",
    "\n",
    "\n",
    "| ID  | Name       | Attack | Defense | Number of Types | Type 1  | Type 2  |\n",
    "| --- | ---        | ---    | ---     | ---             | ---     | ---     |\n",
    "| 132 | ditto      | 48     | 48      | 1               | normal  | None    |\n"
   ]
  },
  {
   "cell_type": "code",
   "execution_count": null,
   "metadata": {},
   "outputs": [],
   "source": [
    "# Example of how the first row was completed.\n",
    "# Don't forget: when running this cell, you will only see the result from the last uncommented function.\n",
    "# Comment out functions you do not want to run.\n",
    "\n",
    "get_pokemon_name(132)\n",
    "get_pokemon_attack(\"ditto\")\n",
    "get_pokemon_defense(\"ditto\")\n",
    "get_pokemon_num_types(\"ditto\")\n",
    "get_pokemon_type1(\"ditto\")\n",
    "get_pokemon_type2(\"ditto\")"
   ]
  },
  {
   "cell_type": "markdown",
   "metadata": {},
   "source": [
    "### Problem 3:\n",
    "\n",
    "As indicated by the table in Problem 2, Pokemon have a given type and on occasion, a secondary type. Every Pokemon also has an associated attack value.\n",
    "\n",
    "In this problem, we will work with something called a modified attack value. The modified attack value is the attack value of a Pokemon multiplied by the number of types that it has.\n",
    "\n",
    "Design a function that accepts a Pokemon ID number and returns the modified attack value.\n",
    "\n",
    "When designing your function, be sure to follow all steps of the HtDF recipe **including designing your tests first**."
   ]
  },
  {
   "cell_type": "code",
   "execution_count": null,
   "metadata": {},
   "outputs": [],
   "source": [
    "# Put your solution to Problem 3 here\n"
   ]
  },
  {
   "cell_type": "markdown",
   "metadata": {},
   "source": [
    "### Problem 4:\n",
    "\n",
    "Given two Pokemons IDs, design a function that returns the name of the Pokemon with the largest modified attack. If possible, try to call your function from Problem 3.\n",
    "    \n",
    "When designing your function, be sure to follow all steps of the HtDF recipe **including designing your tests first**. "
   ]
  },
  {
   "cell_type": "code",
   "execution_count": null,
   "metadata": {},
   "outputs": [],
   "source": [
    "# Put your solution to Problem 4 here\n"
   ]
  },
  {
   "cell_type": "markdown",
   "metadata": {},
   "source": [
    "### Problem 5:\n",
    "\n",
    "In one-on-one battle, an attacking Pokemon inflicts damage if its modified attack is strictly greater than the other Pokemon's defense.  Given the ID of the attacking Pokemon and the ID of the defending Pokemon, design a function to determine if the attacking Pokemon inflicts damage. \n",
    "\n",
    "For this problem, you should consider the attack of a Pokemon as its modified attack as calculated in Problem 3.\n",
    "    \n",
    "When designing your function, be sure to follow all steps of the HtDF recipe **including designing your tests first**."
   ]
  },
  {
   "cell_type": "code",
   "execution_count": null,
   "metadata": {},
   "outputs": [],
   "source": [
    "# Put your solution to Problem 5 here\n"
   ]
  },
  {
   "cell_type": "markdown",
   "metadata": {},
   "source": [
    "## Submit your solution"
   ]
  },
  {
   "cell_type": "code",
   "execution_count": null,
   "metadata": {
    "editable": false
   },
   "outputs": [],
   "source": [
    "# NOTE: You should not be able to edit this cell. Just run it to start the process of submiting your code.\n",
    "\n",
    "# When submitting your work, please submit this file AND the pokemon_data.ipynb file. Otherwise, you will\n",
    "# get an error message when you try to submit your work.\n",
    "\n",
    "from cs103 import submit\n",
    "\n",
    "COURSE = 123409\n",
    "ASSIGNMENT = 1615206\n",
    "\n",
    "submit(COURSE, ASSIGNMENT)\n",
    "\n",
    "# If something has gone wrong and you still are not able to submit by running the code above, SUBMIT ANYWAY \n",
    "# by downloading your files and uploading them to Canvas. You can learn how on the page \n",
    "# \"How to submit your Jupyter notebook\" on our Canvas site."
   ]
  }
 ],
 "metadata": {
  "kernelspec": {
   "display_name": "Python 3 (ipykernel)",
   "language": "python",
   "name": "python3"
  },
  "language_info": {
   "codemirror_mode": {
    "name": "ipython",
    "version": 3
   },
   "file_extension": ".py",
   "mimetype": "text/x-python",
   "name": "python",
   "nbconvert_exporter": "python",
   "pygments_lexer": "ipython3",
   "version": "3.9.13"
  }
 },
 "nbformat": 4,
 "nbformat_minor": 2
}
