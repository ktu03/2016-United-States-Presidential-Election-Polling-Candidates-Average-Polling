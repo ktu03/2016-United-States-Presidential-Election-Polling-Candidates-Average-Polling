{
 "cells": [
  {
   "cell_type": "code",
   "execution_count": 1,
   "metadata": {},
   "outputs": [],
   "source": [
    "from cs103 import *\n",
    "# import pokemon_data.ipynb from current folder\n",
    "from ipynb.fs.full.pokemon_data import *"
   ]
  },
  {
   "cell_type": "markdown",
   "metadata": {},
   "source": [
    "If you encounter a \"ModuleNotFound: No module named ipynb\" error when you run the cell above, be sure to run the `setup/Misc/setup.ipynb` file. Then, come back to this file and restart your kernel (Kernel → Restart). After that, the error should go away when you run the cell with the import statements."
   ]
  },
  {
   "cell_type": "markdown",
   "metadata": {
    "collapsed": true
   },
   "source": [
    "# HtDF Tutorial Solution\n",
    "\n",
    "## Pre-Tutorial Questions:\n",
    "\n",
    "For each problem, write the signature, purpose, and stub. This work will not be graded but is highly recommended as preparation for your tutorial."
   ]
  },
  {
   "cell_type": "markdown",
   "metadata": {
    "collapsed": true
   },
   "source": [
    "### Problem 1:\n",
    "    \n",
    "Design a function that accepts a string and returns the string with 'Hello world! ' at the beginning of the string.\n",
    "\n",
    "For example, if you call the function with \"Good Morning\", the function should return \"Hello world! Good Morning\".\n",
    "\n",
    "When designing your function, be sure to follow all steps of the HtDF recipe."
   ]
  },
  {
   "cell_type": "code",
   "execution_count": 4,
   "metadata": {},
   "outputs": [
    {
     "name": "stdout",
     "output_type": "stream",
     "text": [
      "\u001b[92m4 of 4 tests passed\u001b[0m\n"
     ]
    }
   ],
   "source": [
    "# Put your solution to Problem 1 here\n",
    "@typecheck\n",
    "def hello_world(string: str) -> str:\n",
    "    \"\"\"takes a string and returns it with 'Hello world!' at the beginning\"\"\"\n",
    "    #return \"hi\" #stub\n",
    "    #return ...(string) #template\n",
    "    return \"Hello world! \" + string\n",
    "\n",
    "start_testing()\n",
    "expect(hello_world(\"Hi\"), \"Hello world! Hi\")\n",
    "expect(hello_world(\"My name is Kevin\"), \"Hello world! My name is Kevin\")\n",
    "expect(hello_world(\"Salutations\"), \"Hello world! Salutations\")\n",
    "expect(hello_world(\"How are you\"), \"Hello world! How are you\")\n",
    "summary()"
   ]
  },
  {
   "cell_type": "markdown",
   "metadata": {
    "collapsed": true
   },
   "source": [
    "### Problem 2:\n",
    "\n",
    "Recall our work with APIs in the module 1 lectures. This time, we are working with a different API - https://pokeapi.co/. This API allows us to fetch different types (e.g., name, type, height, weight, base_stat) of information on Pokemon.\n",
    "\n",
    "Here are some functions of interest:\n",
    "\n",
    "- `get_pokemon_name(pokemon_id: int) -> str`\n",
    "\n",
    "\n",
    "- `get_pokemon_attack(pokemon_name: str) -> int`\n",
    "\n",
    "\n",
    "- `get_pokemon_defense(pokemon_name: str) -> int`\n",
    "\n",
    "\n",
    "- `get_pokemon_height(pokemon_name: str) -> int`\n",
    "\n",
    "\n",
    "- `get_pokemon_weight(pokemon_name: str) -> int`\n",
    "\n",
    "\n",
    "- `get_pokemon_num_types(pokemon_name: str) -> int`\n",
    "\n",
    "\n",
    "- `get_pokemon_type1(country_name: str) -> str`\n",
    "\n",
    "\n",
    "- `get_pokemon_type2(country_name: str) -> str`\n"
   ]
  },
  {
   "cell_type": "markdown",
   "metadata": {},
   "source": [
    "Complete the following table with information about three different Pokemon. Each Pokemon has a unique ID number. If you are not familiar with Pokemon, just choose three random numbers from 1 to 898 (inclusive).\n",
    "\n",
    "The first row is provided as an example and does not count towards the three rows you have to fill out yourself. Double click this cell to start editing the table.\n",
    "\n",
    "\n",
    "| ID  | Name       | Attack | Defense | Number of Types | Type 1  | Type 2  |\n",
    "| --- | ---        | ---    | ---     | ---             | ---     | ---     |\n",
    "| 132 | ditto      | 48     | 48      | 1               | normal  | None    |\n",
    "| 100 | voltorb    | 30     | 50      | 1               | electric| None    |\n",
    "| 79  | slowpoke   | 65     | 65      | 2               | water   | psychic |\n",
    "| 67  | machoke    | 100    | 70      | 1               | fighting| Nonw.   |\n"
   ]
  },
  {
   "cell_type": "code",
   "execution_count": 33,
   "metadata": {},
   "outputs": [
    {
     "data": {
      "text/plain": [
       "'oddish'"
      ]
     },
     "execution_count": 33,
     "metadata": {},
     "output_type": "execute_result"
    }
   ],
   "source": [
    "# Example of how the first row was completed.\n",
    "# Don't forget: when running this cell, you will only see the result from the last uncommented function.\n",
    "# Comment out functions you do not want to run.\n",
    "\n",
    "# get_pokemon_name(67)\n",
    "# get_pokemon_attack(\"machoke\")\n",
    "# get_pokemon_defense(\"machoke\")\n",
    "# get_pokemon_num_types(\"machoke\")\n",
    "# get_pokemon_type1(\"machoke\")\n",
    "# get_pokemon_type2(\"machoke\")\n",
    "\n",
    "name = get_pokemon_name(43)\n",
    "modified_attack = get_pokemon_attack(name) * get_pokemon_num_types(name)\n",
    "modified_attack\n",
    "name"
   ]
  },
  {
   "cell_type": "markdown",
   "metadata": {},
   "source": [
    "### Problem 3:\n",
    "\n",
    "As indicated by the table in Problem 2, Pokemon have a given type and on occasion, a secondary type. Every Pokemon also has an associated attack value.\n",
    "\n",
    "In this problem, we will work with something called a modified attack value. The modified attack value is the attack value of a Pokemon multiplied by the number of types that it has.\n",
    "\n",
    "Design a function that accepts a Pokemon ID number and returns the modified attack value.\n",
    "\n",
    "When designing your function, be sure to follow all steps of the HtDF recipe **including designing your tests first**."
   ]
  },
  {
   "cell_type": "code",
   "execution_count": 31,
   "metadata": {},
   "outputs": [
    {
     "name": "stdout",
     "output_type": "stream",
     "text": [
      "\u001b[92m4 of 4 tests passed\u001b[0m\n"
     ]
    }
   ],
   "source": [
    "# Put your solution to Problem 3 here\n",
    "\n",
    "@typecheck\n",
    "def modified_attack_value(identity_number: int) -> float:\n",
    "    \"\"\"returns the modified attack value of a Pokemon by multiplying the attack value by the number of types\"\"\"\n",
    "    #return 55.7 #stub\n",
    "    #return ... (identity_number) #template\n",
    "    name = get_pokemon_name(identity_number)\n",
    "    attack_value = get_pokemon_attack(name)\n",
    "    num_types = get_pokemon_num_types(name)\n",
    "    return attack_value * num_types\n",
    "\n",
    "start_testing()\n",
    "expect(modified_attack_value(67), 100.0)\n",
    "expect(modified_attack_value(132), 48.0)\n",
    "expect(modified_attack_value(100), 30.0)\n",
    "expect(modified_attack_value(79), 130.0)\n",
    "summary()"
   ]
  },
  {
   "cell_type": "markdown",
   "metadata": {},
   "source": [
    "### Problem 4:\n",
    "\n",
    "Given two Pokemons IDs, design a function that returns the name of the Pokemon with the largest modified attack. If possible, try to call your function from Problem 3.\n",
    "    \n",
    "When designing your function, be sure to follow all steps of the HtDF recipe **including designing your tests first**. "
   ]
  },
  {
   "cell_type": "code",
   "execution_count": 35,
   "metadata": {},
   "outputs": [
    {
     "name": "stdout",
     "output_type": "stream",
     "text": [
      "\u001b[91mTest failed:\u001b[0m expected ditto but got Pikachu\n",
      "     \u001b[1mLine 8: \u001b[0mexpect(largest_modified_attack(132, 100), \"ditto\")\n",
      "\u001b[91mTest failed:\u001b[0m expected slowpoke but got Pikachu\n",
      "     \u001b[1mLine 9: \u001b[0mexpect(largest_modified_attack(79,67), \"slowpoke\")\n",
      "\u001b[91mTest failed:\u001b[0m expected oddish but got Pikachu\n",
      "    \u001b[1mLine 10: \u001b[0mexpect(largest_modified_attack(67,43),\"oddish\")\n",
      "\u001b[91m0 of 3 tests passed\u001b[0m\n"
     ]
    }
   ],
   "source": [
    "# Put your solution to Problem 4 here\n",
    "@typecheck\n",
    "def largest_modified_attack(first_identity: int, second_identity: int) -> str:\n",
    "    \"\"\"takes two Pokemon ID's and returns the name of the Pokemon with the largest modified attack value\"\"\"\n",
    "    #return \"Pikachu\" #stub\n",
    "    #return ...(first_identity, second_identity) #template\n",
    "    \n",
    "    if (get_pokemon_attack(get_pokemon_name(first_identity)) * get_pokemon_num_types((get_pokemon_name(first_identity)))) > (get_pokemon_attack(get_pokemon_name(second_identity)) * get_pokemon_num_types((get_pokemon_name(second_identity))))\n",
    "start_testing()\n",
    "expect(largest_modified_attack(132, 100), \"ditto\")\n",
    "expect(largest_modified_attack(79,67), \"slowpoke\")\n",
    "expect(largest_modified_attack(67,43),\"oddish\")\n",
    "summary()"
   ]
  },
  {
   "cell_type": "markdown",
   "metadata": {},
   "source": [
    "### Problem 5:\n",
    "\n",
    "In one-on-one battle, an attacking Pokemon inflicts damage if its modified attack is strictly greater than the other Pokemon's defense.  Given the ID of the attacking Pokemon and the ID of the defending Pokemon, design a function to determine if the attacking Pokemon inflicts damage. \n",
    "\n",
    "For this problem, you should consider the attack of a Pokemon as its modified attack as calculated in Problem 3.\n",
    "    \n",
    "When designing your function, be sure to follow all steps of the HtDF recipe **including designing your tests first**."
   ]
  },
  {
   "cell_type": "code",
   "execution_count": null,
   "metadata": {},
   "outputs": [],
   "source": [
    "# Put your solution to Problem 5 here\n"
   ]
  },
  {
   "cell_type": "markdown",
   "metadata": {},
   "source": [
    "## Submit your solution"
   ]
  },
  {
   "cell_type": "code",
   "execution_count": null,
   "metadata": {
    "editable": false
   },
   "outputs": [],
   "source": [
    "# NOTE: You should not be able to edit this cell. Just run it to start the process of submiting your code.\n",
    "\n",
    "# When submitting your work, please submit this file AND the pokemon_data.ipynb file. Otherwise, you will\n",
    "# get an error message when you try to submit your work.\n",
    "\n",
    "from cs103 import submit\n",
    "\n",
    "COURSE = 123409\n",
    "ASSIGNMENT = 1615206\n",
    "\n",
    "submit(COURSE, ASSIGNMENT)\n",
    "\n",
    "# If something has gone wrong and you still are not able to submit by running the code above, SUBMIT ANYWAY \n",
    "# by downloading your files and uploading them to Canvas. You can learn how on the page \n",
    "# \"How to submit your Jupyter notebook\" on our Canvas site."
   ]
  }
 ],
 "metadata": {
  "kernelspec": {
   "display_name": "Python 3 (ipykernel)",
   "language": "python",
   "name": "python3"
  },
  "language_info": {
   "codemirror_mode": {
    "name": "ipython",
    "version": 3
   },
   "file_extension": ".py",
   "mimetype": "text/x-python",
   "name": "python",
   "nbconvert_exporter": "python",
   "pygments_lexer": "ipython3",
   "version": "3.11.4"
  }
 },
 "nbformat": 4,
 "nbformat_minor": 2
}
