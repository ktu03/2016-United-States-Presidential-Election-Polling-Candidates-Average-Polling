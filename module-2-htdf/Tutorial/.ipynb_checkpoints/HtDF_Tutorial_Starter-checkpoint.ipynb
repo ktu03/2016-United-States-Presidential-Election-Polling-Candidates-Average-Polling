{
 "cells": [
  {
   "cell_type": "code",
   "execution_count": 2,
   "metadata": {},
   "outputs": [],
   "source": [
    "from cs103 import *\n",
    "# import pokemon_data.ipynb from current folder\n",
    "from ipynb.fs.full.pokemon_data import *"
   ]
  },
  {
   "cell_type": "markdown",
   "metadata": {},
   "source": [
    "If you encounter a \"ModuleNotFound: No module named ipynb\" error when you run the cell above, be sure to run the `setup/Misc/setup.ipynb` file. Then, come back to this file and restart your kernel (Kernel → Restart). After that, the error should go away when you run the cell with the import statements."
   ]
  },
  {
   "cell_type": "markdown",
   "metadata": {
    "collapsed": true
   },
   "source": [
    "# HtDF Tutorial Solution\n",
    "\n",
    "## Pre-Tutorial Questions:\n",
    "\n",
    "For each problem, write the signature, purpose, and stub. This work will not be graded but is highly recommended as preparation for your tutorial."
   ]
  },
  {
   "cell_type": "markdown",
   "metadata": {
    "collapsed": true
   },
   "source": [
    "### Problem 1:\n",
    "    \n",
    "Design a function that accepts a string and returns the string with 'Hello world! ' at the beginning of the string.\n",
    "\n",
    "For example, if you call the function with \"Good Morning\", the function should return \"Hello world! Good Morning\".\n",
    "\n",
    "When designing your function, be sure to follow all steps of the HtDF recipe."
   ]
  },
  {
   "cell_type": "code",
   "execution_count": 4,
   "metadata": {},
   "outputs": [
    {
     "name": "stdout",
     "output_type": "stream",
     "text": [
      "\u001b[92m4 of 4 tests passed\u001b[0m\n"
     ]
    }
   ],
   "source": [
    "# Put your solution to Problem 1 here\n",
    "@typecheck\n",
    "def hello_world(string: str) -> str:\n",
    "    \"\"\"takes a string and returns it with 'Hello world!' at the beginning\"\"\"\n",
    "    #return \"hi\" #stub\n",
    "    #return ...(string) #template\n",
    "    return \"Hello world! \" + string\n",
    "\n",
    "start_testing()\n",
    "expect(hello_world(\"Hi\"), \"Hello world! Hi\")\n",
    "expect(hello_world(\"My name is Kevin\"), \"Hello world! My name is Kevin\")\n",
    "expect(hello_world(\"Salutations\"), \"Hello world! Salutations\")\n",
    "expect(hello_world(\"How are you\"), \"Hello world! How are you\")\n",
    "summary()"
   ]
  },
  {
   "cell_type": "markdown",
   "metadata": {
    "collapsed": true
   },
   "source": [
    "### Problem 2:\n",
    "\n",
    "Recall our work with APIs in the module 1 lectures. This time, we are working with a different API - https://pokeapi.co/. This API allows us to fetch different types (e.g., name, type, height, weight, base_stat) of information on Pokemon.\n",
    "\n",
    "Here are some functions of interest:\n",
    "\n",
    "- `get_pokemon_name(pokemon_id: int) -> str`\n",
    "\n",
    "\n",
    "- `get_pokemon_attack(pokemon_name: str) -> int`\n",
    "\n",
    "\n",
    "- `get_pokemon_defense(pokemon_name: str) -> int`\n",
    "\n",
    "\n",
    "- `get_pokemon_height(pokemon_name: str) -> int`\n",
    "\n",
    "\n",
    "- `get_pokemon_weight(pokemon_name: str) -> int`\n",
    "\n",
    "\n",
    "- `get_pokemon_num_types(pokemon_name: str) -> int`\n",
    "\n",
    "\n",
    "- `get_pokemon_type1(country_name: str) -> str`\n",
    "\n",
    "\n",
    "- `get_pokemon_type2(country_name: str) -> str`\n"
   ]
  },
  {
   "cell_type": "markdown",
   "metadata": {},
   "source": [
    "Complete the following table with information about three different Pokemon. Each Pokemon has a unique ID number. If you are not familiar with Pokemon, just choose three random numbers from 1 to 898 (inclusive).\n",
    "\n",
    "The first row is provided as an example and does not count towards the three rows you have to fill out yourself. Double click this cell to start editing the table.\n",
    "\n",
    "\n",
    "| ID  | Name       | Attack | Defense | Number of Types | Type 1  | Type 2  |\n",
    "| --- | ---        | ---    | ---     | ---             | ---     | ---     |\n",
    "| 132 | ditto      | 48     | 48      | 1               | normal  | None    |\n",
    "| 100 | voltorb    | 30     | 50      | 1               | electric| None    |\n",
    "| 79  | slowpoke   | 65     | 65      | 2               | water   | psychic |\n",
    "| 67  | machoke    | 100    | 70      | 1               | fighting| Nonw.   |\n"
   ]
  },
  {
   "cell_type": "code",
   "execution_count": 33,
   "metadata": {},
   "outputs": [
    {
     "data": {
      "text/plain": [
       "'oddish'"
      ]
     },
     "execution_count": 33,
     "metadata": {},
     "output_type": "execute_result"
    }
   ],
   "source": [
    "# Example of how the first row was completed.\n",
    "# Don't forget: when running this cell, you will only see the result from the last uncommented function.\n",
    "# Comment out functions you do not want to run.\n",
    "\n",
    "# get_pokemon_name(67)\n",
    "# get_pokemon_attack(\"machoke\")\n",
    "# get_pokemon_defense(\"machoke\")\n",
    "# get_pokemon_num_types(\"machoke\")\n",
    "# get_pokemon_type1(\"machoke\")\n",
    "# get_pokemon_type2(\"machoke\")\n",
    "\n",
    "name = get_pokemon_name(43)\n",
    "modified_attack = get_pokemon_attack(name) * get_pokemon_num_types(name)\n",
    "modified_attack\n",
    "name"
   ]
  },
  {
   "cell_type": "markdown",
   "metadata": {},
   "source": [
    "### Problem 3:\n",
    "\n",
    "As indicated by the table in Problem 2, Pokemon have a given type and on occasion, a secondary type. Every Pokemon also has an associated attack value.\n",
    "\n",
    "In this problem, we will work with something called a modified attack value. The modified attack value is the attack value of a Pokemon multiplied by the number of types that it has.\n",
    "\n",
    "Design a function that accepts a Pokemon ID number and returns the modified attack value.\n",
    "\n",
    "When designing your function, be sure to follow all steps of the HtDF recipe **including designing your tests first**."
   ]
  },
  {
   "cell_type": "code",
   "execution_count": 4,
   "metadata": {},
   "outputs": [
    {
     "name": "stdout",
     "output_type": "stream",
     "text": [
      "\u001b[92m4 of 4 tests passed\u001b[0m\n"
     ]
    }
   ],
   "source": [
    "# Put your solution to Problem 3 here\n",
    "\n",
    "@typecheck\n",
    "def modified_attack_value(identity_number: int) -> float:\n",
    "    \"\"\"returns the modified attack value of a Pokemon by multiplying the attack value by the number of types\"\"\"\n",
    "    #return 55.7 #stub\n",
    "    #return ... (identity_number) #template\n",
    "    name = get_pokemon_name(identity_number)\n",
    "    attack_value = get_pokemon_attack(name)\n",
    "    num_types = get_pokemon_num_types(name)\n",
    "    return attack_value * num_types\n",
    "\n",
    "start_testing()\n",
    "expect(modified_attack_value(67), 100.0)\n",
    "expect(modified_attack_value(132), 48.0)\n",
    "expect(modified_attack_value(100), 30.0)\n",
    "expect(modified_attack_value(79), 130.0)\n",
    "summary()"
   ]
  },
  {
   "cell_type": "markdown",
   "metadata": {},
   "source": [
    "### Problem 4:\n",
    "\n",
    "Given two Pokemons IDs, design a function that returns the name of the Pokemon with the largest modified attack. If possible, try to call your function from Problem 3.\n",
    "    \n",
    "When designing your function, be sure to follow all steps of the HtDF recipe **including designing your tests first**. "
   ]
  },
  {
   "cell_type": "code",
   "execution_count": 6,
   "metadata": {},
   "outputs": [
    {
     "name": "stdout",
     "output_type": "stream",
     "text": [
      "\u001b[92m3 of 3 tests passed\u001b[0m\n"
     ]
    }
   ],
   "source": [
    "# Put your solution to Problem 4 here\n",
    "@typecheck\n",
    "def largest_modified_attack(first_identity: int, second_identity: int) -> str:\n",
    "    \"\"\"takes two Pokemon ID's and returns the name of the Pokemon with the largest modified attack value\"\"\"\n",
    "    #return \"Pikachu\" #stub\n",
    "    #return ...(first_identity, second_identity) #template\n",
    "    name1 = get_pokemon_name(first_identity)\n",
    "    name2 = get_pokemon_name(second_identity)\n",
    "    modified_attack1 = modified_attack_value(first_identity)\n",
    "    modified_attack2 = modified_attack_value(second_identity)\n",
    "    if modified_attack1 > modified_attack2:\n",
    "        return name1\n",
    "    elif modified_attack2 > modified_attack1:\n",
    "        return name2\n",
    "    else:\n",
    "        return name1\n",
    "start_testing()\n",
    "expect(largest_modified_attack(132, 100), \"ditto\")\n",
    "expect(largest_modified_attack(79,67), \"slowpoke\")\n",
    "expect(largest_modified_attack(67,43),\"machoke\")\n",
    "summary()"
   ]
  },
  {
   "cell_type": "markdown",
   "metadata": {},
   "source": [
    "### Problem 5:\n",
    "\n",
    "In one-on-one battle, an attacking Pokemon inflicts damage if its modified attack is strictly greater than the other Pokemon's defense.  Given the ID of the attacking Pokemon and the ID of the defending Pokemon, design a function to determine if the attacking Pokemon inflicts damage. \n",
    "\n",
    "For this problem, you should consider the attack of a Pokemon as its modified attack as calculated in Problem 3.\n",
    "    \n",
    "When designing your function, be sure to follow all steps of the HtDF recipe **including designing your tests first**."
   ]
  },
  {
   "cell_type": "code",
   "execution_count": 10,
   "metadata": {},
   "outputs": [
    {
     "name": "stdout",
     "output_type": "stream",
     "text": [
      "\u001b[92m2 of 2 tests passed\u001b[0m\n"
     ]
    }
   ],
   "source": [
    "# Put your solution to Problem 5 here\n",
    "@typecheck\n",
    "def inflicts_damage(attacking_pokemon: int, defending_pokemon: int) -> bool:\n",
    "    \"\"\"determines if the attacking pokemon will inflict damage on the defending pokemon based on \n",
    "    if the modified attack value is greater than the defense value\"\"\"\n",
    "    #return True #stub\n",
    "    #return ...(attacking_pokemon, defending_pokemon) #template\n",
    "    if modified_attack_value(attacking_pokemon) > get_pokemon_defense(get_pokemon_name(defending_pokemon)):\n",
    "        return True\n",
    "    elif modified_attack_value(attacking_pokemon) <= get_pokemon_defense(get_pokemon_name(defending_pokemon)):\n",
    "        return False\n",
    "start_testing()\n",
    "expect(inflicts_damage(67,132), True)\n",
    "expect(inflicts_damage(100,79), False)\n",
    "summary()\n"
   ]
  },
  {
   "cell_type": "markdown",
   "metadata": {},
   "source": [
    "## Submit your solution"
   ]
  },
  {
   "cell_type": "code",
   "execution_count": 11,
   "metadata": {
    "editable": false
   },
   "outputs": [
    {
     "data": {
      "application/vnd.jupyter.widget-view+json": {
       "model_id": "d66d6370e3e449e7a185c23ee8ee3237",
       "version_major": 2,
       "version_minor": 0
      },
      "text/plain": [
       "Valid(value=True, description='Token')"
      ]
     },
     "metadata": {},
     "output_type": "display_data"
    },
    {
     "data": {
      "application/vnd.jupyter.widget-view+json": {
       "model_id": "94851c159d314a4eaecc54d68e53980e",
       "version_major": 2,
       "version_minor": 0
      },
      "text/plain": [
       "SelectMultiple(description='Files', index=(0,), layout=Layout(height='100%', width='50%'), options=('HtDF_Tuto…"
      ]
     },
     "metadata": {},
     "output_type": "display_data"
    },
    {
     "data": {
      "application/vnd.jupyter.widget-view+json": {
       "model_id": "2adf9e1789524c8f9679c653c185fa21",
       "version_major": 2,
       "version_minor": 0
      },
      "text/plain": [
       "Button(description='submit', icon='check', style=ButtonStyle(), tooltip='submit')"
      ]
     },
     "metadata": {},
     "output_type": "display_data"
    },
    {
     "name": "stdout",
     "output_type": "stream",
     "text": [
      "We are about to submit the files:\n",
      "HtDF_Tutorial_Starter.ipynb\n",
      "\n",
      "- We do this by moving only the files you selected to their own space, restarting a kernel,\n",
      "  and running them from top to bottom.\n",
      "- This ensures that the files you submit are exactly what the course staff needs to recreate your output.\n",
      "- We then submit these to Canvas for you and, if successful, give you a link where you can review your submission.\n",
      "- If there is an error, there will be a VERY LONG error message below.\n",
      "  Read our suggestions at the bottom and try to ream the error message bottom up.\n",
      "\n",
      "-----------------------------------------------------------------------------------------------\n",
      "\n",
      "[NbConvertApp] Converting notebook HtDF_Tutorial_Starter.ipynb to html\n",
      "0.00s - Debugger warning: It seems that frozen modules are being used, which may\n",
      "0.00s - make the debugger miss breakpoints. Please pass -Xfrozen_modules=off\n",
      "0.00s - to python to disable frozen modules.\n",
      "0.00s - Note: Debugging will proceed. Set PYDEVD_DISABLE_FILE_VALIDATION=1 to disable this validation.\n",
      "0.00s - Debugger warning: It seems that frozen modules are being used, which may\n",
      "0.00s - make the debugger miss breakpoints. Please pass -Xfrozen_modules=off\n",
      "0.00s - to python to disable frozen modules.\n",
      "0.00s - Note: Debugging will proceed. Set PYDEVD_DISABLE_FILE_VALIDATION=1 to disable this validation.\n",
      "Traceback (most recent call last):\n",
      "  File \"/opt/conda/bin/jupyter-nbconvert\", line 10, in <module>\n",
      "    sys.exit(main())\n",
      "             ^^^^^^\n",
      "  File \"/opt/conda/lib/python3.11/site-packages/jupyter_core/application.py\", line 285, in launch_instance\n",
      "    return super().launch_instance(argv=argv, **kwargs)\n",
      "           ^^^^^^^^^^^^^^^^^^^^^^^^^^^^^^^^^^^^^^^^^^^^\n",
      "  File \"/opt/conda/lib/python3.11/site-packages/traitlets/config/application.py\", line 1043, in launch_instance\n",
      "    app.start()\n",
      "  File \"/opt/conda/lib/python3.11/site-packages/nbconvert/nbconvertapp.py\", line 414, in start\n",
      "    self.convert_notebooks()\n",
      "  File \"/opt/conda/lib/python3.11/site-packages/nbconvert/nbconvertapp.py\", line 589, in convert_notebooks\n",
      "    self.convert_single_notebook(notebook_filename)\n",
      "  File \"/opt/conda/lib/python3.11/site-packages/nbconvert/nbconvertapp.py\", line 555, in convert_single_notebook\n",
      "    output, resources = self.export_single_notebook(\n",
      "                        ^^^^^^^^^^^^^^^^^^^^^^^^^^^^\n",
      "  File \"/opt/conda/lib/python3.11/site-packages/nbconvert/nbconvertapp.py\", line 481, in export_single_notebook\n",
      "    output, resources = self.exporter.from_filename(\n",
      "                        ^^^^^^^^^^^^^^^^^^^^^^^^^^^^\n",
      "  File \"/opt/conda/lib/python3.11/site-packages/nbconvert/exporters/templateexporter.py\", line 388, in from_filename\n",
      "    return super().from_filename(filename, resources, **kw)  # type:ignore\n",
      "           ^^^^^^^^^^^^^^^^^^^^^^^^^^^^^^^^^^^^^^^^^^^^^^^^\n",
      "  File \"/opt/conda/lib/python3.11/site-packages/nbconvert/exporters/exporter.py\", line 201, in from_filename\n",
      "    return self.from_file(f, resources=resources, **kw)\n",
      "           ^^^^^^^^^^^^^^^^^^^^^^^^^^^^^^^^^^^^^^^^^^^^\n",
      "  File \"/opt/conda/lib/python3.11/site-packages/nbconvert/exporters/templateexporter.py\", line 394, in from_file\n",
      "    return super().from_file(file_stream, resources, **kw)  # type:ignore\n",
      "           ^^^^^^^^^^^^^^^^^^^^^^^^^^^^^^^^^^^^^^^^^^^^^^^\n",
      "  File \"/opt/conda/lib/python3.11/site-packages/nbconvert/exporters/exporter.py\", line 220, in from_file\n",
      "    return self.from_notebook_node(\n",
      "           ^^^^^^^^^^^^^^^^^^^^^^^^\n",
      "  File \"/opt/conda/lib/python3.11/site-packages/nbconvert/exporters/html.py\", line 243, in from_notebook_node\n",
      "    return super().from_notebook_node(nb, resources, **kw)\n",
      "           ^^^^^^^^^^^^^^^^^^^^^^^^^^^^^^^^^^^^^^^^^^^^^^^\n",
      "  File \"/opt/conda/lib/python3.11/site-packages/nbconvert/exporters/templateexporter.py\", line 410, in from_notebook_node\n",
      "    nb_copy, resources = super().from_notebook_node(nb, resources, **kw)\n",
      "                         ^^^^^^^^^^^^^^^^^^^^^^^^^^^^^^^^^^^^^^^^^^^^^^^\n",
      "  File \"/opt/conda/lib/python3.11/site-packages/nbconvert/exporters/exporter.py\", line 154, in from_notebook_node\n",
      "    nb_copy, resources = self._preprocess(nb_copy, resources)\n",
      "                         ^^^^^^^^^^^^^^^^^^^^^^^^^^^^^^^^^^^^\n",
      "  File \"/opt/conda/lib/python3.11/site-packages/nbconvert/exporters/exporter.py\", line 352, in _preprocess\n",
      "    nbc, resc = preprocessor(nbc, resc)\n",
      "                ^^^^^^^^^^^^^^^^^^^^^^^\n",
      "  File \"/opt/conda/lib/python3.11/site-packages/nbconvert/preprocessors/base.py\", line 48, in __call__\n",
      "    return self.preprocess(nb, resources)\n",
      "           ^^^^^^^^^^^^^^^^^^^^^^^^^^^^^^\n",
      "  File \"/opt/conda/lib/python3.11/site-packages/nbconvert/preprocessors/execute.py\", line 100, in preprocess\n",
      "    self.preprocess_cell(cell, resources, index)\n",
      "  File \"/opt/conda/lib/python3.11/site-packages/nbconvert/preprocessors/execute.py\", line 121, in preprocess_cell\n",
      "    cell = self.execute_cell(cell, index, store_history=True)\n",
      "           ^^^^^^^^^^^^^^^^^^^^^^^^^^^^^^^^^^^^^^^^^^^^^^^^^^\n",
      "  File \"/opt/conda/lib/python3.11/site-packages/jupyter_core/utils/__init__.py\", line 166, in wrapped\n",
      "    return loop.run_until_complete(inner)\n",
      "           ^^^^^^^^^^^^^^^^^^^^^^^^^^^^^^\n",
      "  File \"/opt/conda/lib/python3.11/asyncio/base_events.py\", line 653, in run_until_complete\n",
      "    return future.result()\n",
      "           ^^^^^^^^^^^^^^^\n",
      "  File \"/opt/conda/lib/python3.11/site-packages/nbclient/client.py\", line 1058, in async_execute_cell\n",
      "    await self._check_raise_for_error(cell, cell_index, exec_reply)\n",
      "  File \"/opt/conda/lib/python3.11/site-packages/nbclient/client.py\", line 914, in _check_raise_for_error\n",
      "    raise CellExecutionError.from_cell_and_msg(cell, exec_reply_content)\n",
      "nbclient.exceptions.CellExecutionError: An error occurred while executing the following cell:\n",
      "------------------\n",
      "from cs103 import *\n",
      "# import pokemon_data.ipynb from current folder\n",
      "from ipynb.fs.full.pokemon_data import *\n",
      "------------------\n",
      "\n",
      "\n",
      "\u001b[0;31m---------------------------------------------------------------------------\u001b[0m\n",
      "\u001b[0;31mModuleNotFoundError\u001b[0m                       Traceback (most recent call last)\n",
      "Cell \u001b[0;32mIn[1], line 3\u001b[0m\n",
      "\u001b[1;32m      1\u001b[0m \u001b[38;5;28;01mfrom\u001b[39;00m \u001b[38;5;21;01mcs103\u001b[39;00m \u001b[38;5;28;01mimport\u001b[39;00m \u001b[38;5;241m*\u001b[39m\n",
      "\u001b[1;32m      2\u001b[0m \u001b[38;5;66;03m# import pokemon_data.ipynb from current folder\u001b[39;00m\n",
      "\u001b[0;32m----> 3\u001b[0m \u001b[38;5;28;01mfrom\u001b[39;00m \u001b[38;5;21;01mipynb\u001b[39;00m\u001b[38;5;21;01m.\u001b[39;00m\u001b[38;5;21;01mfs\u001b[39;00m\u001b[38;5;21;01m.\u001b[39;00m\u001b[38;5;21;01mfull\u001b[39;00m\u001b[38;5;21;01m.\u001b[39;00m\u001b[38;5;21;01mpokemon_data\u001b[39;00m \u001b[38;5;28;01mimport\u001b[39;00m \u001b[38;5;241m*\u001b[39m\n",
      "\n",
      "\u001b[0;31mModuleNotFoundError\u001b[0m: No module named 'ipynb.fs.full.pokemon_data'\n",
      "\n",
      "\n",
      "ERROR!\n",
      "We attempted to submit these selected files:\n",
      "HtDF_Tutorial_Starter.ipynb\n",
      "\n",
      "A jupyter notebook in the submission caused an error.\n",
      "\n",
      "Consider these possibilities:\n",
      "   1. Most likely, there is an error in your code. You might not even SEE this error unless you try 'Restart and Run All'\n",
      "      from the 'Kernel' menu.\n",
      "   2. If your code requires other files to run, you may be seeing a 'FileNotFoundException' above. \n",
      "      Resubmit, ensuring you have selected ALL files you need.\n",
      "   3. You may be seeing a TimeoutError. This could simply mean your code takes a long time to run. \n",
      "      Likely when you run your own code, some cell shows [*] next to it for a long time.\n",
      "      If you click the \"Submit even if there are errors\" button below, we'll try giving you much more time.\n",
      "      If that still doesn't work, you may need to debug or submit manually.\n",
      "   4. You may have made unsaved changes. Try to save and resubmit.\n",
      "\n",
      "If you really want to submit this assignment with the errors please click the \"Submit even if there are errors\" button\n"
     ]
    },
    {
     "data": {
      "application/vnd.jupyter.widget-view+json": {
       "model_id": "74025c270d534b74b2c86a193b71c1bd",
       "version_major": 2,
       "version_minor": 0
      },
      "text/plain": [
       "Button(description='Submit even if there are errors', icon='check', layout=Layout(height='80px', width='50%'),…"
      ]
     },
     "metadata": {},
     "output_type": "display_data"
    },
    {
     "name": "stdout",
     "output_type": "stream",
     "text": [
      "\n",
      "WARNING: We can only see saved changes. ANY UNSAVED CHANGES would not have been submitted.\n",
      "Save before each submission!\n",
      "-----------------------------------------------------------------------------------------------\n",
      "\n",
      "We are about to submit the files:\n",
      "HtDF_Tutorial_Starter.ipynb, pokemon_data.ipynb\n",
      "\n",
      "- We do this by moving only the files you selected to their own space, restarting a kernel,\n",
      "  and running them from top to bottom.\n",
      "- This ensures that the files you submit are exactly what the course staff needs to recreate your output.\n",
      "- We then submit these to Canvas for you and, if successful, give you a link where you can review your submission.\n",
      "- If there is an error, there will be a VERY LONG error message below.\n",
      "  Read our suggestions at the bottom and try to ream the error message bottom up.\n",
      "\n",
      "-----------------------------------------------------------------------------------------------\n",
      "\n",
      "Your assignment was submitted succesfully!\n",
      "Please check your submission at this link: https://canvas.ubc.ca/courses/123409/assignments/1615206/submissions/987277?preview=1&version=1\n",
      "It will be easiest to check your submission using the HTML file at that link.\n",
      "\n",
      "WARNING: We can only see saved changes. ANY UNSAVED CHANGES would not have been submitted.\n",
      "Save before each submission!\n",
      "-----------------------------------------------------------------------------------------------\n",
      "\n"
     ]
    }
   ],
   "source": [
    "# NOTE: You should not be able to edit this cell. Just run it to start the process of submiting your code.\n",
    "\n",
    "# When submitting your work, please submit this file AND the pokemon_data.ipynb file. Otherwise, you will\n",
    "# get an error message when you try to submit your work.\n",
    "\n",
    "from cs103 import submit\n",
    "\n",
    "COURSE = 123409\n",
    "ASSIGNMENT = 1615206\n",
    "\n",
    "submit(COURSE, ASSIGNMENT)\n",
    "\n",
    "# If something has gone wrong and you still are not able to submit by running the code above, SUBMIT ANYWAY \n",
    "# by downloading your files and uploading them to Canvas. You can learn how on the page \n",
    "# \"How to submit your Jupyter notebook\" on our Canvas site."
   ]
  },
  {
   "cell_type": "code",
   "execution_count": null,
   "metadata": {},
   "outputs": [],
   "source": []
  }
 ],
 "metadata": {
  "kernelspec": {
   "display_name": "Python 3 (ipykernel)",
   "language": "python",
   "name": "python3"
  },
  "language_info": {
   "codemirror_mode": {
    "name": "ipython",
    "version": 3
   },
   "file_extension": ".py",
   "mimetype": "text/x-python",
   "name": "python",
   "nbconvert_exporter": "python",
   "pygments_lexer": "ipython3",
   "version": "3.11.4"
  }
 },
 "nbformat": 4,
 "nbformat_minor": 2
}
