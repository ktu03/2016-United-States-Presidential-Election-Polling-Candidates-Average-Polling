{
 "cells": [
  {
   "cell_type": "code",
   "execution_count": 1,
   "metadata": {},
   "outputs": [],
   "source": [
    "from cs103 import * # needed (once per notebook) to enable incredible cs103 powers!!\n",
    "\n"
   ]
  },
  {
   "cell_type": "markdown",
   "metadata": {},
   "source": [
    "# CPSC 103 - Systematic Program Design\n",
    "# Module 02 Day 2\n",
    "Ian Mitchell, with thanks to Rik Blok and Giulia Toti\n",
    "\n",
    "---"
   ]
  },
  {
   "cell_type": "markdown",
   "metadata": {},
   "source": [
    "# Reminders\n",
    "- this Wed-Fri: Module 2 Tutorial Attendance\n",
    "- Mon: Module 3: Pre-Lecture Assignment\n",
    "- Mon: Module 2 (HtDF): Worksheet\n",
    "- Wed: Module 2 (HtDF): Code Review\n",
    "- Wed: Module 2 (HtDF): Tutorial Submission\n",
    "- next Wed-Fri: Module 3 Tutorial Attendance\n",
    "\n",
    "See your Canvas calendar (https://canvas.ubc.ca/calendar) for details.\n",
    "\n",
    "---"
   ]
  },
  {
   "cell_type": "markdown",
   "metadata": {},
   "source": [
    "# Module learning goals\n",
    "\n",
    "At the end of this module, you will be able to:\n",
    "\n",
    "- use the How to Design Functions (HtDF) recipe to design functions that operate on primitive data.\n",
    "- read a complete function design and identify its different elements.\n",
    "- evaluate the elements of a function design for clarity, simplicity, and consistency with each other.\n",
    "- evaluate an entire design for how well it solves the given problem.\n",
    "- explain the intended purpose of the HtDF recipe's steps in a way that generalizes to other design problems.\n",
    "\n",
    "---"
   ]
  },
  {
   "cell_type": "markdown",
   "metadata": {},
   "source": [
    "\n",
    "# How to Design Functions (HtDF) recipe\n",
    "\n",
    "The HtDF recipe consists of the following steps:\n",
    "1. Write the **s**tub, including signature and purpose\n",
    "2. Define **e**xamples\n",
    "3. Write the **t**emplate\n",
    "4. **I**mplement the function body\n",
    "5. **T**est and debug until correct\n",
    "\n",
    "Remember to run and check your program after each step. The program may throw errors or behave incorrectly, but its behaviour should align with your expectations.  Don't let bugs accumulate!\n",
    "\n",
    "---"
   ]
  },
  {
   "cell_type": "markdown",
   "metadata": {},
   "source": [
    "# Continuing...\n",
    "\n",
    "# Exercise: `is_palindrome` (similar to Pre-Lecture Assignment)\n",
    "\n",
    "**Problem:** Design a function that takes a string and determines whether it is a palindrome or not.  (A palindrome is a word or phrase that reads the same backwards and forwards - e.g., \"level\".)\n",
    "\n",
    "The first step of our HtDF recipe have already been completed below (with two possible purposes included):\n",
    "1. Done: Write the <u>**S**</u>tub, including signature and purpose\n",
    "2. Done: Define <u>**E**</u>xamples\n",
    "3. Done: Write the <u>**T**</u>emplate\n",
    "4. Done: <u>**I**</u>mplement the function body\n",
    "5. TODO: <u>**T**</u>est and debug until correct\n",
    "\n",
    "### Step 1: Write the <u>S</u>tub\n",
    "### Step 2: Define <u>E</u>xamples\n",
    "### Step 3: Write the <u>T</u>emplate\n",
    "### Step 4: <u>I</u>mplement the function body\n",
    "- Hint: Notice what the slice `[::-1]` does to a string.  (Try it! 🙂)\n",
    "- Compare returning a boolean to using `if else`\n",
    "- Use `str.lower()` and `str.upper()` to convert case\n",
    "\n",
    "### Step 5: <u>T</u>est and debug until correct"
   ]
  },
  {
   "cell_type": "code",
   "execution_count": 10,
   "metadata": {},
   "outputs": [
    {
     "name": "stdout",
     "output_type": "stream",
     "text": [
      "\u001b[92m8 of 8 tests passed\u001b[0m\n"
     ]
    }
   ],
   "source": [
    "# Design is_palindrome function here\n",
    "\n",
    "@typecheck\n",
    "def is_palindrome(word: str) -> bool:\n",
    "    \"\"\"\n",
    "    return True if the word is a palindrome, and False otherwise\n",
    "    \"\"\"\n",
    "    # return True  # stub\n",
    "    # return ...(word) # template\n",
    "    if str.lower(word) == str.lower(word[::-1]):\n",
    "        return True\n",
    "    else:\n",
    "        return False\n",
    "    \n",
    "# Starting point for any set of tests/examples:\n",
    "start_testing()\n",
    "expect(is_palindrome(\"racecar\"), True)\n",
    "expect(is_palindrome(\"Racecar\"), True) # neglect case\n",
    "expect(is_palindrome(\"motor\"), False)\n",
    "expect(is_palindrome(\"a\"), True)\n",
    "expect(is_palindrome(\"Hi mom!\"), False)\n",
    "expect(is_palindrome(\"race car\"), False)\n",
    "expect(is_palindrome(\"!level!\"), True)\n",
    "expect(is_palindrome(\"\"), True)\n",
    "\n",
    "summary()\n",
    "\n"
   ]
  },
  {
   "cell_type": "markdown",
   "metadata": {},
   "source": [
    "Now that `is_palindrome` has been designed and tested, we can use it!"
   ]
  },
  {
   "cell_type": "code",
   "execution_count": 31,
   "metadata": {},
   "outputs": [
    {
     "data": {
      "text/plain": [
       "True"
      ]
     },
     "execution_count": 31,
     "metadata": {},
     "output_type": "execute_result"
    }
   ],
   "source": [
    "# Write a call to is_palindrome here\n",
    "is_palindrome(\"!level!\")\n"
   ]
  },
  {
   "cell_type": "markdown",
   "metadata": {},
   "source": [
    "# Exercise: Multiply a number by 4\n",
    "\n",
    "**Problem**: Design a function that multiplies a number by 4."
   ]
  },
  {
   "cell_type": "code",
   "execution_count": null,
   "metadata": {},
   "outputs": [],
   "source": [
    "# Design your function here\n",
    "\n"
   ]
  },
  {
   "cell_type": "markdown",
   "metadata": {},
   "source": [
    "<details class=\"alert alert-info\"><summary style=\"cursor:pointer; display:list-item\">ℹ️ Sample solution (For later.  Don't peek if you want to learn 🙂)</summary>\n",
    "    \n",
    "```python\n",
    "@typecheck\n",
    "def times_4(n: float) -> float:\n",
    "    \"\"\"\n",
    "    returns n multiplied by 4\n",
    "    \"\"\"\n",
    "    # return -1  # stub\n",
    "    # return ... (n)   # template\n",
    "    return 4 * n\n",
    "\n",
    "start_testing()\n",
    "expect(times_4(0), 4 * 0)\n",
    "expect(times_4(2.6), 4 * 2.6)\n",
    "expect(times_4(-0.34), 4 * -0.34)\n",
    "summary()\n",
    "```\n",
    "    \n",
    "</details>\n",
    "\n",
    "---"
   ]
  },
  {
   "cell_type": "markdown",
   "metadata": {},
   "source": [
    "# Aside: Testing outside of CPSC 103\n",
    "\n",
    "`expect` is provided by `cs103` library and you're expected 😉 to use it in this course.  \n",
    "\n",
    "To test your own Python code outside of this course, you can use the `assert` keyword instead:"
   ]
  },
  {
   "cell_type": "code",
   "execution_count": 15,
   "metadata": {},
   "outputs": [
    {
     "ename": "AssertionError",
     "evalue": "Foobar",
     "output_type": "error",
     "traceback": [
      "\u001b[0;31m---------------------------------------------------------------------------\u001b[0m",
      "\u001b[0;31mAssertionError\u001b[0m                            Traceback (most recent call last)",
      "Cell \u001b[0;32mIn[15], line 1\u001b[0m\n\u001b[0;32m----> 1\u001b[0m \u001b[38;5;28;01massert\u001b[39;00m \u001b[38;5;241m5\u001b[39m\u001b[38;5;241m==\u001b[39m \u001b[38;5;241m2\u001b[39m, \u001b[38;5;124m\"\u001b[39m\u001b[38;5;124mFoobar\u001b[39m\u001b[38;5;124m\"\u001b[39m\n",
      "\u001b[0;31mAssertionError\u001b[0m: Foobar"
     ]
    }
   ],
   "source": [
    "assert 5 == 2, \"Foobar\"\n"
   ]
  },
  {
   "cell_type": "markdown",
   "metadata": {},
   "source": [
    "---\n",
    "\n",
    "# Python: Global vs local variables\n",
    "Variables are defined when they're first assigned.  Two types of variables:\n",
    "- **Global** - defined outside of any function.  Can be accessed anywhere after definition: in functions called later, or outside of functions\n",
    "- **Local** - defined within a function.  Can only be accessed within that function.  Lost when program leaves the function\n",
    "\n",
    "<div class=\"alert alert-danger\">\n",
    "    \n",
    "## ⛔ Don't use global variables in functions!\n",
    "\n",
    "To make the code easier to understand **avoid using global variables in functions**.\n",
    "    \n",
    "Maintain the \"boundaries\" of your functions.  The **only** data going into a function is through its arguments, and the only data coming out comes from the `return` statement.\n",
    "    \n",
    "Need to use a global variable in a function?  Pass it in as an argument!\n",
    "    \n",
    "For clarity, use different names for global variables and function parameters.\n",
    "\n",
    "</div>"
   ]
  },
  {
   "cell_type": "markdown",
   "metadata": {},
   "source": [
    "<div class=\"alert alert-danger\">\n",
    "    \n",
    "## ⛔ Example, using a global variable in a function (bad!)\n",
    "    \n",
    "</div>"
   ]
  },
  {
   "cell_type": "code",
   "execution_count": 16,
   "metadata": {},
   "outputs": [
    {
     "name": "stdout",
     "output_type": "stream",
     "text": [
      "\u001b[91mTest failed:\u001b[0m expected 6 but got 4\n",
      "    \u001b[1mLine 13: \u001b[0mexpect(step(5), 6) # Example 2 appears identical to Example 1, but the test fails\n",
      "\u001b[91m1 of 2 tests passed\u001b[0m\n"
     ]
    }
   ],
   "source": [
    "def step(a: float) -> float:\n",
    "    return a + step_size\n",
    "\n",
    "start_testing()\n",
    "\n",
    "step_size = 1\n",
    "expect(step(5), 6) # Example 1\n",
    "# The next statement could be much more complicated, \n",
    "# hiding the change to this global variable!\n",
    "step_size = -1 \n",
    "# Global variable in function breaks functional programming paradigm.\n",
    "# Function output not reliable, depends on more than just inputs.\n",
    "expect(step(5), 6) # Example 2 appears identical to Example 1, but the test fails\n",
    "\n",
    "summary()\n",
    "\n"
   ]
  },
  {
   "cell_type": "markdown",
   "metadata": {},
   "source": [
    "<div class=\"alert alert-success\">\n",
    "\n",
    "## ✅ Same example, let's fix it to pass global variable as an argument (good!)\n",
    "    \n",
    "</div>"
   ]
  },
  {
   "cell_type": "code",
   "execution_count": 20,
   "metadata": {},
   "outputs": [
    {
     "name": "stdout",
     "output_type": "stream",
     "text": [
      "\u001b[92m2 of 2 tests passed\u001b[0m\n"
     ]
    }
   ],
   "source": [
    "def step(a: float, step_size: float) -> float:\n",
    "    return a + step_size\n",
    "\n",
    "start_testing()\n",
    "\n",
    "step_size=1\n",
    "expect(step(5,step_size), 6) # Example 1\n",
    "# The next statement could be much more complicated, \n",
    "# hiding the change to this global variable!\n",
    "step_size = -1 \n",
    "# Global variable in function breaks functional programming paradigm.\n",
    "# Function output not reliable, depends on more than just inputs.\n",
    "expect(step(5,step_size), 4) # Example 2 appears identical to Example 1, but the test fails\n",
    "\n",
    "summary()\n"
   ]
  },
  {
   "cell_type": "markdown",
   "metadata": {},
   "source": [
    "<details class=\"alert alert-info\"><summary style=\"cursor:pointer; display:list-item\">ℹ️ Sample solution (For later.  Don't peek if you want to learn 🙂)</summary>\n",
    "    \n",
    "```python\n",
    "def step(a: float, increment: float) -> float:\n",
    "    return a + increment\n",
    "\n",
    "start_testing()\n",
    "\n",
    "step_size = 1\n",
    "expect(step(5, step_size), 6) # Example 1\n",
    "step_size = -1 \n",
    "expect(step(5, step_size), 4) # Example 2 clearly depends on step_size, so we don't expect the same result\n",
    "\n",
    "summary()\n",
    "```\n",
    "    \n",
    "</details>\n",
    "\n",
    "---"
   ]
  },
  {
   "cell_type": "markdown",
   "metadata": {},
   "source": [
    "<img style=\"float: right; width:10%\" src=\"https://lthub.ubc.ca/files/2020/07/iClicker-Cloud-Logo.png\">\n",
    "\n",
    "# iClicker question\n",
    "Why is it considered bad style to use global variables in functions?  Select **ALL** that apply. [iClicker: Multiple Answer question]\n",
    "\n",
    "Global variables can...\n",
    "\n",
    "A. make it difficult to understand the dependencies between different parts of a program. This can make it hard to change code  \n",
    "B. cause functions to be affected by external factors, other than their inputs  \n",
    "C. make it difficult to test a program, as they can lead to unexpected interactions between different parts of the code  "
   ]
  },
  {
   "cell_type": "markdown",
   "metadata": {},
   "source": [
    "<img style=\"float: right; width:10%\" src=\"https://lthub.ubc.ca/files/2020/07/iClicker-Cloud-Logo.png\">\n",
    "\n",
    "# iClicker question\n",
    "What is the output of the program to the right?  (Please forgive the improper function design 🙂)  [iClicker: Multiple Choice question]\n",
    "\n",
    "<div style=\"float: right; width: 70%\">\n",
    "\n",
    "```python\n",
    "def left_to_right(left:str, right:str)->str:\n",
    "    return left + \" to \" + right\n",
    "\n",
    "left = \"home\"\n",
    "right = \"class\"\n",
    "left_to_right(right, left)\n",
    "```\n",
    "\n",
    "</div>\n",
    "\n",
    "<!-- formatting: add two spaces at end of line to force linebreak -->\n",
    "A. `'home to class'`  \n",
    "B. `'home to home'`  \n",
    "C. `'class to home'`  \n",
    "D. `'class to class'`  \n",
    "E. Something else  \n",
    "\n",
    "<details class=\"alert alert-info\" style=\"clear: both;\"><summary style=\"cursor:pointer; display:list-item\">ℹ️ Hints (for your review after class)</summary>\n",
    "   \n",
    "- Notice the order of the arguments in the function call\n",
    "- Let's try it in [pythontutor.com](https://pythontutor.com/render.html#code=def%20left_to_right%28left%3Astr,%20right%3Astr%29-%3Estr%3A%0A%20%20%20%20return%20left%20%2B%20%22%20to%20%22%20%2B%20right%0A%0Aleft%20%3D%20%22home%22%0Aright%20%3D%20%22class%22%0Aleft_to_right%28right,%20left%29&cumulative=false&curInstr=0&heapPrimitives=nevernest&mode=display&origin=opt-frontend.js&py=3&rawInputLstJSON=%5B%5D&textReferences=false)\n",
    "- Would be **much** clearer to use different names for the global variables and function parameters!\n",
    "    \n",
    "</details>\n",
    "\n",
    "---"
   ]
  },
  {
   "cell_type": "markdown",
   "metadata": {},
   "source": [
    "# Exercise: Discount\n",
    "\n",
    "**Problem:** A store gives 5% off the most expensive product and 10% off the second most expensive product. Design a program that calculates the final purchase price of any two given products."
   ]
  },
  {
   "cell_type": "code",
   "execution_count": 30,
   "metadata": {},
   "outputs": [
    {
     "name": "stdout",
     "output_type": "stream",
     "text": [
      "\u001b[92m2 of 2 tests passed\u001b[0m\n"
     ]
    }
   ],
   "source": [
    "# An improperly designed function signature is provided here as a starter\n",
    "\n",
    "@typecheck\n",
    "def discount(price1: float, price2: float) -> float:\n",
    "    \"\"\"returns the final purchase price of two products including a 5% discount for the most expensive product and 10% for the second most expensive product\"\"\"\n",
    "    #return 1.0 #stub\n",
    "    #return...(price1, price2) #template\n",
    "    if price1>price2:\n",
    "        total_price = 0.95*price1 + 0.90*price2\n",
    "    else:\n",
    "        total_price = 0.95*price2 + 0.90*price1\n",
    "    return total_price\n",
    "start_testing()\n",
    "expect(discount(10,5),14.00000)\n",
    "expect(discount(50,100),140)\n",
    "summary()"
   ]
  },
  {
   "cell_type": "markdown",
   "metadata": {},
   "source": [
    "<details class=\"alert alert-info\"><summary style=\"cursor:pointer; display:list-item\">ℹ️ Sample solution (For later.  Don't peek if you want to learn 🙂)</summary>\n",
    "    \n",
    "```python\n",
    "@typecheck\n",
    "def discount(price1: float, price2: float) -> float:\n",
    "    \"\"\"\n",
    "    Give a discount of 10% on the smallest value and 5% on the biggest value.\n",
    "    Return the total price of the two items with the discount.\n",
    "    \"\"\"\n",
    "    #return 100.0  #stub\n",
    "    #return ...(price1, price2)  #template\n",
    "    \n",
    "    if price1 > price2:\n",
    "        return price1*(0.95) + price2*(0.9)\n",
    "    else:\n",
    "        return price1*(0.9) + price2*(0.95)\n",
    "\n",
    "start_testing()\n",
    "expect(discount(100, 100), 95 + 90)\n",
    "expect(discount(80, 100), 0.90*80 + 0.95*100)\n",
    "expect(discount(82.8, 42.6), 0.95*82.8 + 0.90*42.6)\n",
    "summary()\n",
    "```\n",
    "    \n",
    "</details>\n",
    "\n",
    "Now that our `discount` function has been designed and tested, we can use it!"
   ]
  },
  {
   "cell_type": "code",
   "execution_count": 33,
   "metadata": {},
   "outputs": [
    {
     "data": {
      "text/plain": [
       "116.25"
      ]
     },
     "execution_count": 33,
     "metadata": {},
     "output_type": "execute_result"
    }
   ],
   "source": [
    "p1 = 50\n",
    "p2 = 75\n",
    "\n",
    "total = discount(p1,p2)\n",
    "total"
   ]
  },
  {
   "cell_type": "markdown",
   "metadata": {},
   "source": [
    "---\n",
    "\n",
    "<img style=\"float: right; width:10%\" src=\"https://lthub.ubc.ca/files/2020/07/iClicker-Cloud-Logo.png\">\n",
    "\n",
    "# iClicker question\n",
    "In the function `discount` defined above, which function parameter receives the value 10 when the code to the right is run?\n",
    "\n",
    "<div style=\"float: right; width: 50%\">\n",
    "\n",
    "```python\n",
    "p1 = 20\n",
    "p2 = 10\n",
    "\n",
    "discount(p2, p1)\n",
    "```\n",
    "\n",
    "</div>\n",
    "\n",
    "<!-- formatting: add two spaces at end of line to force linebreak -->\n",
    "\n",
    "A. `p1`  \n",
    "B. `p2`  \n",
    "C. `price1`  \n",
    "D. `price2`  \n",
    "E. Two of the above  \n",
    "\n",
    "\n",
    "<details class=\"alert alert-info\" style=\"clear: both;\"><summary style=\"cursor:pointer; display:list-item\">ℹ️ Hints (for your review after class)</summary>\n",
    "   \n",
    "- What are the function's **parameters**?\n",
    "- Remember, the order of the parameters matters\n",
    "- Trace the code by hand or (for convenience only!) with [pythontutor.com](https://pythontutor.com)\n",
    "\n",
    "<details class=\"alert alert-info\"><summary style=\"cursor:pointer; display:list-item\">ℹ️ Answer</summary>\n",
    "    \n",
    "C. The global variable `p2` is assigned 10, which is then passed in as the first argument to `discount`, so it is assigned to the first parameter, `price1`.\n",
    "    \n",
    "</details>\n",
    "</details>\n",
    "\n",
    "---"
   ]
  },
  {
   "cell_type": "markdown",
   "metadata": {},
   "source": [
    "<img style=\"float: right; width:10%\" src=\"https://lthub.ubc.ca/files/2020/07/iClicker-Cloud-Logo.png\">\n",
    "\n",
    "# iClicker question\n",
    "The program on the right calculates the total value of a product after adding a 12% tax. Find the design\n",
    "errors of this program.  Select **ALL** that apply.  [iClicker: Multiple Answer question]  \n",
    "<div style=\"float: right; width: 70%\">\n",
    "\n",
    "```python\n",
    "@typecheck\n",
    "def AddTax(value: float) -> float:\n",
    "    \"\"\"\n",
    "    returns the total after adding a 12% tax on value\n",
    "    \"\"\"\n",
    "    return 0 # stub\n",
    "    #return value # template\n",
    "    return value*0.12 + value\n",
    "    \n",
    "start_testing()\n",
    "expect(AddTax(10), 11.2)\n",
    "expect(AddTax(12), 13.44)\n",
    "expect(AddTax(500), 560)\n",
    "summary()\n",
    "```\n",
    "\n",
    "</div>\n",
    "\n",
    "<!-- formatting: add two spaces at end of line to force linebreak -->\n",
    "\n",
    "A. Signature  \n",
    "B. Purpose  \n",
    "C. Stub return  \n",
    "D. Examples  \n",
    "E. Template  \n",
    "\n",
    "<details class=\"alert alert-info\" style=\"clear: both;\"><summary style=\"cursor:pointer; display:list-item\">ℹ️ Hints (for your review after class)</summary>\n",
    "   \n",
    "Look closely at:\n",
    "- The function name\n",
    "- The stub return\n",
    "- The template\n",
    "    \n",
    "<details class=\"alert alert-info\"><summary style=\"cursor:pointer; display:list-item\">ℹ️ Answer</summary>\n",
    "    \n",
    "There are three design errors:\n",
    "- The function name should be in [snake_case](https://en.wikipedia.org/wiki/Snake_case)\n",
    "- The stub return should be commented out\n",
    "- The template should indicate that the function depends on `value` with `#return ...(value) # template`\n",
    "\n",
    "The proper design would be:\n",
    "```python\n",
    "@typecheck\n",
    "def add_tax(value: float) -> float:\n",
    "    \"\"\"\n",
    "    returns the total after adding a 12% tax on value\n",
    "    \"\"\"\n",
    "    #return 0 # stub\n",
    "    #return ...(value) # template\n",
    "    return value*0.12 + value\n",
    "    \n",
    "start_testing()\n",
    "expect(add_tax(10), 11.2)\n",
    "expect(add_tax(12), 13.44)\n",
    "expect(add_tax(500), 560)\n",
    "summary()\n",
    "```\n",
    "</details>\n",
    "</details>\n",
    "\n",
    "---"
   ]
  },
  {
   "cell_type": "markdown",
   "metadata": {},
   "source": [
    "# CPSC 103 d-tective 😜\n",
    "\n",
    "**Problem:** Design a function that determines if a string starts with\n",
    "the letter *d*.\n",
    "\n",
    "<div class=\"alert alert-warning\">\n",
    "\n",
    "## ⚠️ Is the problem well-defined?\n",
    "\n",
    "As you start working through this problem, you may discover that the problem is slightly ambiguous.  Think about how you should deal with vague problems when designing programs.\n",
    "    \n",
    "<!-- Don't need a full answer here.  Should seek clarification when possible, otherwise document assumptions clearly. In any case, solution should satisfy original problem definition. -->\n",
    "    \n",
    "</div>"
   ]
  },
  {
   "cell_type": "code",
   "execution_count": null,
   "metadata": {},
   "outputs": [],
   "source": [
    "\n"
   ]
  },
  {
   "cell_type": "markdown",
   "metadata": {},
   "source": [
    "<details class=\"alert alert-info\"><summary style=\"cursor:pointer; display:list-item\">ℹ️ Sample solution (For later.  Don't peek if you want to learn 🙂)</summary>\n",
    "\n",
    "Let's say we made the design decision that \"starts with the letter d\" means \"lower- or upper-case\".  Then our purpose documents that assumption, our examples/tests illustrate and test it, and our code implements it.\n",
    "    \n",
    "```python\n",
    "@typecheck\n",
    "def starts_with_d(word: str) -> bool:\n",
    "    \"\"\"\n",
    "    Determines if a string starts with the letter d, lowercase or uppercase.\n",
    "    Returns True if so and False otherwise.\n",
    "    \"\"\"\n",
    "    # return True # stub\n",
    "    # return ...(word) # template based on atomic non-distinct\n",
    "\n",
    "    # We have to check that the string is not empty before we try to access \n",
    "    # the first character of the string with word[0]\n",
    "    if word == \"\":\n",
    "        return False\n",
    "    else:\n",
    "        return word[0] == \"d\" or word[0] == \"D\"\n",
    "\n",
    "start_testing()\n",
    "\n",
    "expect(starts_with_d(\"\"), False)\n",
    "\n",
    "expect(starts_with_d(\"dinosaur\"), True)\n",
    "expect(starts_with_d(\"car\"), False)\n",
    "\n",
    "expect(starts_with_d(\"David\"), True)\n",
    "expect(starts_with_d(\"Jessica\"), False)\n",
    "\n",
    "expect(starts_with_d(\"d\"), True)\n",
    "expect(starts_with_d(\"i\"), False)\n",
    "\n",
    "expect(starts_with_d(\"D\"), True)\n",
    "expect(starts_with_d(\"C\"), False)\n",
    "\n",
    "expect(starts_with_d(\"hello world!\"), False)\n",
    "expect(starts_with_d(\"doughnuts are on sale\"), True)\n",
    "\n",
    "expect(starts_with_d(\"Hello World!\"), False)\n",
    "expect(starts_with_d(\"Doughnuts Are On Sale\"), True)\n",
    "\n",
    "summary()\n",
    "```\n",
    "    \n",
    "</details>"
   ]
  }
 ],
 "metadata": {
  "kernelspec": {
   "display_name": "Python 3 (ipykernel)",
   "language": "python",
   "name": "python3"
  },
  "language_info": {
   "codemirror_mode": {
    "name": "ipython",
    "version": 3
   },
   "file_extension": ".py",
   "mimetype": "text/x-python",
   "name": "python",
   "nbconvert_exporter": "python",
   "pygments_lexer": "ipython3",
   "version": "3.11.4"
  }
 },
 "nbformat": 4,
 "nbformat_minor": 2
}
