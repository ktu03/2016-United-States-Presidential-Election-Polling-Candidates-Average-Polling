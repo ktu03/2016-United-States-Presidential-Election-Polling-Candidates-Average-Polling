{
 "cells": [
  {
   "cell_type": "code",
   "execution_count": 2,
   "metadata": {
    "editable": false
   },
   "outputs": [],
   "source": [
    "from cs103 import *"
   ]
  },
  {
   "cell_type": "markdown",
   "metadata": {
    "editable": false
   },
   "source": [
    "## How to Design Functions Worksheet\n",
    "\n",
    "### Problem 1\n",
    "For each of the functions described below, choose the best signature, and explain why you chose it. (We list the parameter and return types for each function. E.g., for the function `def string_fits(s: str, blank_size: int) -> bool` that determines whether the response to a question on a form will fit in the size of blank, we would list `str, int -> bool`.)\n",
    "\n",
    "**a.**  A function that multiplies a number by 4\n",
    "```python\n",
    "float -> 4 * float             float, float -> float\n",
    "\n",
    "number -> number                 float -> float\n",
    "```"
   ]
  },
  {
   "cell_type": "markdown",
   "metadata": {},
   "source": [
    "Double click to edit this cell\n",
    "\n",
    "- Insert signature: `[ float -> float ]`\n",
    "\n",
    "- Why is that the best signature?\n",
    " It indicates the parameter type and the return type. Nothing unneccessary is included and the types make sense. Multiplying a number by 4 returns a float and it makes sense to have the input as a float in this context."
   ]
  },
  {
   "cell_type": "markdown",
   "metadata": {
    "editable": false
   },
   "source": [
    "**b.** A function that determines if a number is greater than 6\n",
    "```python\n",
    "float -> str                     float -> bool\n",
    "\n",
    "float, float -> bool             float -> float\n",
    "```"
   ]
  },
  {
   "cell_type": "markdown",
   "metadata": {},
   "source": [
    "- Insert signature: `[ float -> bool ]`\n",
    "\n",
    "- Why is that the best signature?\n",
    "The return type should be a boolean of either True or False as it is supposed to determine if a number is greater than 6 (true or false scenario) "
   ]
  },
  {
   "cell_type": "markdown",
   "metadata": {
    "editable": false
   },
   "source": [
    "**c.** A function that checks whether a fact occurred in a given year\n",
    "```python\n",
    "int, str -> bool              str, int -> bool\n",
    "str -> bool                   int, str -> str\n",
    "```"
   ]
  },
  {
   "cell_type": "markdown",
   "metadata": {},
   "source": [
    "- Insert signature: `[ str, int  ]`\n",
    "\n",
    "- Why is that the best signature?\n",
    " We do not want to output a fact, we only want to know if a fact occurred, making this a true or false scenario. The first input is a string and the second input is an integer of year. The year should be the second input as the statement indicated \"in a given year\", which makes us think it should come second."
   ]
  },
  {
   "cell_type": "markdown",
   "metadata": {
    "editable": false
   },
   "source": [
    "**d.**  A function that doubles a string (`'cat'` becomes `'catcat'`)\n",
    "```python\n",
    "str -> str, str              str, float -> str\n",
    "str -> str                   int -> str\n",
    "```"
   ]
  },
  {
   "cell_type": "markdown",
   "metadata": {},
   "source": [
    "- Insert signature: `[ str -> str  ]`\n",
    "\n",
    "- Why is that the best signature?\n",
    "The function takes a string and outputs a string. That is all that is important in this context and this signature matches what we expect."
   ]
  },
  {
   "cell_type": "markdown",
   "metadata": {
    "editable": false
   },
   "source": [
    "### Problem 2\n",
    "For each of the problems above, indicate **either** the second-best response **or** that there is no good second-best response. Briefly explain your answer."
   ]
  },
  {
   "cell_type": "markdown",
   "metadata": {},
   "source": [
    "a. No good second-best response. The input is a float and the output is a float, that cannot be changed when we multiply a number by 4. The first choice indicates the output as 4 * float but that is wrong because it is only supposed to give the output type and not the operation on the output. The second choice takes 2 inputs which makes no sense because we are only supposed to multiply one number by 4. The third choice makes no sense as the input types and output types claimed aren't actual types.\n",
    "\n",
    "b. float -> str. Instead of a boolean mentioning True or False, we can have a string indicating \"yes\" or \"no\" as the output\n",
    "\n",
    "c. int, str -> bool. We can rearrange the order we provide the inputs as that does not affect the result and it is also acceptable.\n",
    "\n",
    "d. No good second-best response. The first choice does not make sense because doubling a string provides one string in total as the output whereas this choice indicates there are 2 outputs. The second choice also makes no sense because it takes two inputs which cannot happen when we are supposed to input only 1 string. One may argue that the float inputted could be 2 but that takes away the feature of the function which is multiplying strings by 2, since you can enter any float and it will still work. This function is supposed to only double a string. The fourth option also makes no sense because we are multiplying a string by 2 but the input is an integer."
   ]
  },
  {
   "cell_type": "markdown",
   "metadata": {
    "editable": false
   },
   "source": [
    "### Problem 3\n",
    "For parts a - d in question 1, write a clear and succinct purpose."
   ]
  },
  {
   "cell_type": "markdown",
   "metadata": {},
   "source": [
    "a. \"\"\"takes a number and multiplies it by 4\"\"\"\n",
    "\n",
    "b. \"\"\"takes a number and determines whether or not it is greater than 6\"\"\"\n",
    "\n",
    "c. \"\"\"takes a fact and a year as the inputs and determines whether or not that fact occurred during that year\"\n",
    "\n",
    "d. \"\"\"takes a string and doubles it\"\"\""
   ]
  },
  {
   "cell_type": "markdown",
   "metadata": {
    "editable": false
   },
   "source": [
    "### Problem 4\n",
    "Match each function from question 1 with an appropriate stub body. You may need some stub bodies more than once and others not at all. (We show only function and parameter names, but you can look back to your choice of signature on problem 1. For example, for the `string_fits` function described in Q1, we would match `string_fits(s, blank_size)` with `return False`.)\n",
    "\n",
    "```python\n",
    "A def times_four(x):\n",
    "\n",
    "B def greater_than_6(x):\n",
    "\n",
    "C def does_fact_happen_in_year(fact, year):\n",
    "\n",
    "D def double(x):\n",
    "    \n",
    "    \n",
    "return False\n",
    "return radius\n",
    "return x\n",
    "return fact\n",
    "return \"fact\"\n",
    "```"
   ]
  },
  {
   "cell_type": "markdown",
   "metadata": {},
   "source": [
    "Double click to edit this cell\n",
    "\n",
    "|Stub |Solution|\n",
    "|:---:|:---|\n",
    "|return False     |  # Matches with ` [ B, C ] `|\n",
    "|return radius    |  # Matches with ` [ letter here] `|\n",
    "|return x         |  # Matches with ` [ A ] `|\n",
    "|return fact    |  # Matches with ` [ letter here] `|\n",
    "|return \"fact\" | # Matches with ` [ D] `|"
   ]
  },
  {
   "cell_type": "markdown",
   "metadata": {
    "editable": false
   },
   "source": [
    "### Problem 5\n",
    "If you were designing a function to return a random number, could its stub return the same value as the stub for greater_than_6? Why or why not?"
   ]
  },
  {
   "cell_type": "markdown",
   "metadata": {},
   "source": [
    "No because a random number function returns an integer or float but the greater_than_6 function returns a boolean. This is because the greater_than_6 function is only supposed to check if a number is greater than 6 and not to output any number"
   ]
  },
  {
   "cell_type": "markdown",
   "metadata": {
    "editable": false
   },
   "source": [
    "### Problem 6\n",
    "Suppose you are designing a function that takes the height and width of two images and determines if the first is larger than the second. You get to decide what larger means – area, height, or both height and width. For each of the possible definitions for “larger image”, write a full set of examples/tests for the function `larger_image`. We have provided you with a signature/purpose/stub, although the final, correct purpose would need to be expanded to include what larger means in each case."
   ]
  },
  {
   "cell_type": "code",
   "execution_count": 3,
   "metadata": {},
   "outputs": [
    {
     "name": "stdout",
     "output_type": "stream",
     "text": [
      "\u001b[91mTest failed:\u001b[0m expected True but got False\n",
      "    \u001b[1mLine 12: \u001b[0mexpect(larger_image(20,21,12,11), True)\n",
      "\u001b[91mTest failed:\u001b[0m expected True but got False\n",
      "    \u001b[1mLine 17: \u001b[0mexpect(larger_image(23,30,45,20), True)\n",
      "\u001b[91mTest failed:\u001b[0m expected True but got False\n",
      "    \u001b[1mLine 21: \u001b[0mexpect(larger_image(67,34,32,21), True)\n",
      "\u001b[91m7 of 10 tests passed\u001b[0m\n"
     ]
    }
   ],
   "source": [
    "@typecheck\n",
    "def larger_image(width1: int, height1: int, width2: int, height2: int) -> bool: \n",
    "    \"\"\"\n",
    "    return True if the first image, with height1 and width1 is larger than the second one with heigh2 and width2, where larger means...\n",
    "    \"\"\"\n",
    "    return False #stub\n",
    "\n",
    "start_testing()\n",
    "\n",
    "#if larger means area is larger\n",
    "expect(larger_image(14,15,16,17), False)\n",
    "expect(larger_image(20,21,12,11), True)\n",
    "expect(larger_image(14,16,14,16), False)\n",
    "\n",
    "#if larger means height is larger\n",
    "expect(larger_image(13,15,17,16), False)\n",
    "expect(larger_image(23,30,45,20), True)\n",
    "expect(larger_image(34,12,25,12), False)\n",
    "\n",
    "#if larger means height and width are larger\n",
    "expect(larger_image(67,34,32,21), True)\n",
    "expect(larger_image(37,49,99,199), False)\n",
    "expect(larger_image(88,49,34,56), False)\n",
    "expect(larger_image(76,55,89,33), False)\n",
    "\n",
    "summary()"
   ]
  },
  {
   "cell_type": "markdown",
   "metadata": {
    "editable": false
   },
   "source": [
    "**a.** Write a full set of examples/tests for the function `larger_image` assuming that *larger means greater in area*. For simplicity, no matter what the shape is, we take its area to be its overall height times its overall width. For example, a circle of radius 5 will have an area of 100, which is 5+5 (height) times 5+5 (width)."
   ]
  },
  {
   "cell_type": "markdown",
   "metadata": {},
   "source": [
    "expect(larger_image(14,15,16,17), False)\n",
    "expect(larger_image(20,21,12,11), True)\n",
    "expect(larger_image(14,16,14,16), False)"
   ]
  },
  {
   "cell_type": "markdown",
   "metadata": {
    "editable": false
   },
   "source": [
    "**b.** Write a full set of examples/tests for the function `larger_image` assuming that *larger means taller*."
   ]
  },
  {
   "cell_type": "markdown",
   "metadata": {},
   "source": [
    "expect(larger_image(13,15,17,16), False)\n",
    "expect(larger_image(23,30,45,20), True)\n",
    "expect(larger_image(34,12,25,12), False)"
   ]
  },
  {
   "cell_type": "markdown",
   "metadata": {
    "editable": false
   },
   "source": [
    "### Problem 7\n",
    "Complete the function body of `larger_image`. (If you get stuck, go back and put more detail into your examples from the previous problem.)\n",
    "\n",
    "```python\n",
    "@typecheck\n",
    "def larger_image(width1: int, height1: int, width2: int, height2: int) -> bool:\n",
    "    \"\"\"\n",
    "    return True if the first image, with height1 and width1 has a bigger area than the second one with heigh2 and width2\n",
    "    \"\"\"\n",
    "    # return False #body of stub\n",
    "    # return ...(width1, height1, width2, height2) # template\n",
    "```"
   ]
  },
  {
   "cell_type": "code",
   "execution_count": 9,
   "metadata": {},
   "outputs": [
    {
     "name": "stdout",
     "output_type": "stream",
     "text": [
      "\u001b[92m3 of 3 tests passed\u001b[0m\n"
     ]
    }
   ],
   "source": [
    "@typecheck\n",
    "def larger_image(width1: int, height1: int, width2: int, height2: int) -> bool:\n",
    "    \"\"\"\n",
    "    return True if the first image, with height1 and width1 has a bigger area than the second one with heigh2 and width2\n",
    "    \"\"\"\n",
    "    # return False #body of stub\n",
    "    # return ...(width1, height1, width2, height2) # template\n",
    "    if width1 * height1 > width2 * height2:\n",
    "        return True\n",
    "    elif width1 * height1 < width2 * height2:\n",
    "        return False\n",
    "    else:\n",
    "        return False\n",
    "\n",
    "start_testing()\n",
    "expect(larger_image(14,15,16,17), False)\n",
    "expect(larger_image(20,21,12,11), True)\n",
    "expect(larger_image(14,16,14,16), False)\n",
    "summary()"
   ]
  },
  {
   "cell_type": "markdown",
   "metadata": {
    "editable": false
   },
   "source": [
    "### Problem 8\n",
    "Design a function that determines if a string starts with the letter d. Be sure to follow all steps of the recipe: stub, including signature, and purpose, examples/tests, template and the function body. Think carefully about any special issues particular input strings may cause!"
   ]
  },
  {
   "cell_type": "code",
   "execution_count": 8,
   "metadata": {},
   "outputs": [
    {
     "name": "stdout",
     "output_type": "stream",
     "text": [
      "\u001b[92m4 of 4 tests passed\u001b[0m\n"
     ]
    }
   ],
   "source": [
    "# This cell can be run \n",
    "# your solution goes here\n",
    "@typecheck\n",
    "def starts_with_d(string: str) -> bool:\n",
    "    \"\"\"determines if a string starts with the letter d\"\"\"\n",
    "    #return True #stub\n",
    "    #return ...(string) #template\n",
    "    \n",
    "    if string == '':\n",
    "        return False\n",
    "    elif string[0] == 'd' or string[0] == 'D':\n",
    "        return True\n",
    "    else:\n",
    "        return False\n",
    "\n",
    "start_testing()\n",
    "expect(starts_with_d(\"Derivative\"), True)\n",
    "expect(starts_with_d(\"drums\"), True)\n",
    "expect(starts_with_d(''), False)\n",
    "expect(starts_with_d(\" drums\"), False)\n",
    "summary()"
   ]
  },
  {
   "cell_type": "markdown",
   "metadata": {
    "editable": false
   },
   "source": [
    "### Problem 9\n",
    "Imagine you have been approached by a client to design a complex function. As you and your teammates start working through the design, you find that the specifications for the function are ambiguous (like the definition of larger in questions 5 and 6). How should you decide what behaviour your function should have?"
   ]
  },
  {
   "cell_type": "markdown",
   "metadata": {},
   "source": [
    "Base the behaviour off of common sense and real-world scenarios. For example, most people would say that an item is larger than another if it is taller, they would not focus on the area to determine if it's larger or not (after all that requires a calculation)."
   ]
  },
  {
   "cell_type": "markdown",
   "metadata": {
    "editable": false
   },
   "source": [
    "### Problem 10\n",
    "In each of the following function designs, identify and correct the piece of the function design that is inconsistent with the rest. Comment out the piece of code that is incorrect and correct it in the next line (See example bellow).\n",
    "\n",
    "```python\n",
    "\n",
    "@typecheck\n",
    "def divisible_by_3(n: int) -> bool:\n",
    "    \"\"\"\n",
    "    return True if n is divisible by 3, False otherwise\n",
    "    \"\"\"\n",
    "     \n",
    "    #return False #stub\n",
    "    # return ...(n) #template\n",
    "    return n % 3 == 0\n",
    "\n",
    "start_testing()\n",
    "expect(divisible_by_3(0), 'True')\n",
    "expect(divisible_by_3(21), 'True')\n",
    "expect(divisible_by_3(22), 'False')\n",
    "expect(divisible_by_3(-6), 'True')\n",
    "summary()\n",
    "\n",
    "@typecheck\n",
    "def same_first_and_last_letter(s: str) -> bool:\n",
    "    \"\"\"\n",
    "    return True if the first and last letter of s are the same,\n",
    "    False otherwise\n",
    "    \"\"\"\n",
    "    #return s #stub\n",
    "    #return ...(s) #template\n",
    "    if s == '':\n",
    "        return False\n",
    "    else:\n",
    "        return s[0] == s[–1]\n",
    " \n",
    "    \n",
    "start_testing()\n",
    "expect(same_first_and_last_letter(''), False)\n",
    "expect(same_first_and_last_letter('a'), True)\n",
    "expect(same_first_and_last_letter('hello'), False)\n",
    "expect(same_first_and_last_letter('mom'), True)\n",
    "summary()\n",
    "\n",
    "```\n",
    "\n",
    "Example: \n",
    "```\n",
    "Line 1:   # this is the piece of code [insert code here] that is incorrect \n",
    "Line 2:   replacing that piece with the correct code \n",
    "```\n",
    "**Note:** The functions in this cell are for reference only. Please edit the cell below."
   ]
  },
  {
   "cell_type": "markdown",
   "metadata": {},
   "source": [
    "```python\n",
    "\n",
    "\n",
    "\n",
    "@typecheck\n",
    "def divisible_by_3(n: int) -> bool:\n",
    "    \"\"\"\n",
    "    return True if n is divisible by 3, False otherwise\n",
    "    \"\"\"\n",
    "     \n",
    "    #return False #stub\n",
    "    # return ...(n) #template\n",
    "    return n % 3 == 0\n",
    "\n",
    "start_testing()\n",
    "#expect(divisible_by_3(0), 'True')\n",
    "expect(divisible_by_3(0), True)\n",
    "# expect(divisible_by_3(21), 'True')\n",
    "expect(divisible_by_3(21), True)\n",
    "# expect(divisible_by_3(22), 'False')\n",
    "expect(divisible_by_3(22), False)\n",
    "# expect(divisible_by_3(-6), 'True')\n",
    "expect(divisible_by_3(-6), True)\n",
    "summary()\n",
    "\n",
    "@typecheck\n",
    "def same_first_and_last_letter(s: str) -> bool:\n",
    "    \"\"\"\n",
    "    return True if the first and last letter of s are the same,\n",
    "    False otherwise\n",
    "    \"\"\"\n",
    "    # #return s #stub <- Incorrect\n",
    "    #return True #stub \n",
    "    #return ...(s) #template\n",
    "    if s == '':\n",
    "        return False\n",
    "    else:\n",
    "        return s[0] == s[–1]\n",
    " \n",
    "    \n",
    "start_testing()\n",
    "expect(same_first_and_last_letter(''), False)\n",
    "expect(same_first_and_last_letter('a'), True)\n",
    "expect(same_first_and_last_letter('hello'), False)\n",
    "expect(same_first_and_last_letter('mom'), True)\n",
    "summary()\n",
    "\n",
    "\n",
    "\n",
    "```"
   ]
  },
  {
   "cell_type": "markdown",
   "metadata": {
    "editable": false
   },
   "source": [
    "### Problem 11 \n",
    "You have been focusing on designing functions, but as programmers we spend most of our time **using** or **calling** functions that other programmers designed (e.g., the built-in len function).\n",
    "\n",
    "**a.** Which parts of your design will other programmers need to look at in order to use your functions?"
   ]
  },
  {
   "cell_type": "markdown",
   "metadata": {},
   "source": [
    "How to call the functions I created. They need to know the parameters and the order to put them in. "
   ]
  },
  {
   "cell_type": "markdown",
   "metadata": {
    "editable": false
   },
   "source": [
    "**b.** Which parts should they be able to ignore?"
   ]
  },
  {
   "cell_type": "markdown",
   "metadata": {},
   "source": [
    "Parts that include the use of built-in functions as I did not create them and they are already well known."
   ]
  },
  {
   "cell_type": "markdown",
   "metadata": {
    "editable": false
   },
   "source": [
    "**c.** In today's exercises, did you give other programmers enough\n",
    "information to be able to use your functions?"
   ]
  },
  {
   "cell_type": "markdown",
   "metadata": {},
   "source": [
    "Yes, a docstring was included in my functions so programmers will know what each of my functions do."
   ]
  },
  {
   "cell_type": "markdown",
   "metadata": {
    "editable": false
   },
   "source": [
    "### Problem 12\n",
    "How are you using the previous steps of the How to Design Functions recipe to help you complete the current step? For example, how are you using the stub, including signature and purpose, to help write examples, or using the stub, including signature and purpose, examples and template to help write the function definition."
   ]
  },
  {
   "cell_type": "markdown",
   "metadata": {},
   "source": [
    "The signature will allow you to understand what the inputs are and the order. That way you know what to put in your examples and tests. The template will show you which variables you will be working with so you know for sure what to include in your function body."
   ]
  },
  {
   "cell_type": "code",
   "execution_count": 10,
   "metadata": {
    "editable": false
   },
   "outputs": [
    {
     "data": {
      "application/vnd.jupyter.widget-view+json": {
       "model_id": "f2c47238ae2841178b65871b751644f5",
       "version_major": 2,
       "version_minor": 0
      },
      "text/plain": [
       "Valid(value=True, description='Token')"
      ]
     },
     "metadata": {},
     "output_type": "display_data"
    },
    {
     "data": {
      "application/vnd.jupyter.widget-view+json": {
       "model_id": "9634c9328b604de6829a9bfcc636ab04",
       "version_major": 2,
       "version_minor": 0
      },
      "text/plain": [
       "SelectMultiple(description='Files', index=(0,), layout=Layout(height='100%', width='50%'), options=('module-2-…"
      ]
     },
     "metadata": {},
     "output_type": "display_data"
    },
    {
     "data": {
      "application/vnd.jupyter.widget-view+json": {
       "model_id": "81bc4716dddc408bbf51c21c40040432",
       "version_major": 2,
       "version_minor": 0
      },
      "text/plain": [
       "Button(description='submit', icon='check', style=ButtonStyle(), tooltip='submit')"
      ]
     },
     "metadata": {},
     "output_type": "display_data"
    },
    {
     "name": "stdout",
     "output_type": "stream",
     "text": [
      "We are about to submit the files:\n",
      "module-2-htdf-worksheet.ipynb\n",
      "\n",
      "- We do this by moving only the files you selected to their own space, restarting a kernel,\n",
      "  and running them from top to bottom.\n",
      "- This ensures that the files you submit are exactly what the course staff needs to recreate your output.\n",
      "- We then submit these to Canvas for you and, if successful, give you a link where you can review your submission.\n",
      "- If there is an error, there will be a VERY LONG error message below.\n",
      "  Read our suggestions at the bottom and try to ream the error message bottom up.\n",
      "\n",
      "-----------------------------------------------------------------------------------------------\n",
      "\n",
      "Your assignment was submitted succesfully!\n",
      "Please check your submission at this link: https://canvas.ubc.ca/courses/123409/assignments/1615209/submissions/987277?preview=1&version=1\n",
      "It will be easiest to check your submission using the HTML file at that link.\n",
      "\n",
      "WARNING: We can only see saved changes. ANY UNSAVED CHANGES would not have been submitted.\n",
      "Save before each submission!\n",
      "-----------------------------------------------------------------------------------------------\n",
      "\n"
     ]
    }
   ],
   "source": [
    "# NOTE: You should not be able to edit this cell. Just run it to start the process of submiting your code.\n",
    "from cs103 import submit\n",
    "\n",
    "COURSE = 123409\n",
    "ASSIGNMENT = 1615209\n",
    "\n",
    "submit(COURSE, ASSIGNMENT)\n",
    "\n",
    "# If something has gone wrong and you still are not able to submit by running the code above, SUBMIT ANYWAY \n",
    "# by downloading your files and uploading them to Canvas. You can learn how on the page \n",
    "# \"How to submit your Jupyter notebook\" on our Canvas site."
   ]
  },
  {
   "cell_type": "code",
   "execution_count": null,
   "metadata": {},
   "outputs": [],
   "source": []
  }
 ],
 "metadata": {
  "kernelspec": {
   "display_name": "Python 3 (ipykernel)",
   "language": "python",
   "name": "python3"
  },
  "language_info": {
   "codemirror_mode": {
    "name": "ipython",
    "version": 3
   },
   "file_extension": ".py",
   "mimetype": "text/x-python",
   "name": "python",
   "nbconvert_exporter": "python",
   "pygments_lexer": "ipython3",
   "version": "3.11.4"
  }
 },
 "nbformat": 4,
 "nbformat_minor": 4
}
