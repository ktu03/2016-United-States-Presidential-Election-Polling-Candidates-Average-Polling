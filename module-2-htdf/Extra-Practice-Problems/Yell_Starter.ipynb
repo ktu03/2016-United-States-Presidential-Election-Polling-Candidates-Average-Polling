{
 "cells": [
  {
   "cell_type": "markdown",
   "metadata": {},
   "source": [
    "## Problem\n",
    "\n",
    "Design a function called yell that takes strings like \"hello\" and adds \"!\"  to produce strings like \"hello!\". Remember, when we say design, we mean follow the recipe. "
   ]
  },
  {
   "cell_type": "code",
   "execution_count": 1,
   "metadata": {},
   "outputs": [
    {
     "name": "stdout",
     "output_type": "stream",
     "text": [
      "\u001b[92m3 of 3 tests passed\u001b[0m\n"
     ]
    }
   ],
   "source": [
    "from cs103 import *\n",
    "\n",
    "# your solution goes here\n",
    "\n",
    "@typecheck\n",
    "def yell(string: str) -> str:\n",
    "    \"\"\"returns a string with an exclamation mark after it to indicate a yell\"\"\"\n",
    "    #return \"hi!\" #stub\n",
    "    #return...(string)#template\n",
    "    return string + \"!\"\n",
    "\n",
    "start_testing()\n",
    "expect(yell(\"\"), \"!\")\n",
    "expect(yell(\"hello\"), \"hello!\")\n",
    "expect(yell(\"h\"), \"h!\")\n",
    "summary()"
   ]
  },
  {
   "cell_type": "code",
   "execution_count": null,
   "metadata": {},
   "outputs": [],
   "source": []
  }
 ],
 "metadata": {
  "kernelspec": {
   "display_name": "Python 3 (ipykernel)",
   "language": "python",
   "name": "python3"
  },
  "language_info": {
   "codemirror_mode": {
    "name": "ipython",
    "version": 3
   },
   "file_extension": ".py",
   "mimetype": "text/x-python",
   "name": "python",
   "nbconvert_exporter": "python",
   "pygments_lexer": "ipython3",
   "version": "3.11.4"
  }
 },
 "nbformat": 4,
 "nbformat_minor": 2
}
