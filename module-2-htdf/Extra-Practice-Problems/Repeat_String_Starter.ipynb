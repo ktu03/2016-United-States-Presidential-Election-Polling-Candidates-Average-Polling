{
 "cells": [
  {
   "cell_type": "markdown",
   "metadata": {},
   "source": [
    "## Problem\n",
    "\n",
    "Design a function that takes a string and returns 3 repetitions of the\n",
    "given string, but only if the given string is at least 3 characters long.\n",
    "Otherwise, the function should return `None`.\n",
    "\n",
    "For example, if the function gets the string `\"hello\"`, it should return \n",
    "`\"hellohellohello\"`. But if the function takes the string `\"a\"`, it should \n",
    "return `None`.\n",
    "\n",
    "Be sure to follow all steps of the HtDF recipe. \n",
    "\n",
    "NOTE: We use `Optional[...]` to describe a value that may come back `None`.\n",
    "(`Optional` in the sense that it could be missing.) So, `Optional[int]`\n",
    "could either be an `int` like `0`, `5`, or `-2` or it could be `None`, while\n",
    "`Optional[float]` could be a `float` like `0.0`, `3.14`, or `-1.11` or it could be\n",
    "None. We haven't talked yet about how to design types like this. Fortunately,\n",
    "if the only thing we're doing with a type like `Optional[int]` that has no special\n",
    "name is returning a value of that type, we're allowed to simply use it directly as\n",
    "the type name."
   ]
  },
  {
   "cell_type": "code",
   "execution_count": 1,
   "metadata": {},
   "outputs": [
    {
     "ename": "NameError",
     "evalue": "name 'Optional' is not defined",
     "output_type": "error",
     "traceback": [
      "\u001b[0;31m---------------------------------------------------------------------------\u001b[0m",
      "\u001b[0;31mNameError\u001b[0m                                 Traceback (most recent call last)",
      "Cell \u001b[0;32mIn[1], line 6\u001b[0m\n\u001b[1;32m      1\u001b[0m \u001b[38;5;28;01mfrom\u001b[39;00m \u001b[38;5;21;01mcs103\u001b[39;00m \u001b[38;5;28;01mimport\u001b[39;00m \u001b[38;5;241m*\u001b[39m\n\u001b[1;32m      3\u001b[0m \u001b[38;5;66;03m# your solution goes here\u001b[39;00m\n\u001b[1;32m      5\u001b[0m \u001b[38;5;129m@typecheck\u001b[39m\n\u001b[0;32m----> 6\u001b[0m \u001b[38;5;28;01mdef\u001b[39;00m \u001b[38;5;21mrepeat\u001b[39m(string:\u001b[38;5;28mstr\u001b[39m) \u001b[38;5;241m-\u001b[39m\u001b[38;5;241m>\u001b[39m \u001b[43mOptional\u001b[49m[\u001b[38;5;28mstr\u001b[39m]:\n\u001b[1;32m      7\u001b[0m \u001b[38;5;250m    \u001b[39m\u001b[38;5;124;03m\"\"\"returns 3 repetitions of a string as long as it is at least 3 characters long, otherwise None is returned\"\"\"\u001b[39;00m\n\u001b[1;32m      8\u001b[0m     \u001b[38;5;66;03m#return \"hi\" #stub\u001b[39;00m\n\u001b[1;32m      9\u001b[0m     \u001b[38;5;66;03m#return...(string) #template\u001b[39;00m\n",
      "\u001b[0;31mNameError\u001b[0m: name 'Optional' is not defined"
     ]
    }
   ],
   "source": [
    "from cs103 import *\n",
    "\n",
    "# your solution goes here\n",
    "\n",
    "@typecheck\n",
    "def repeat(string:str) -> Optional[str]:\n",
    "    \"\"\"returns 3 repetitions of a string as long as it is at least 3 characters long, otherwise None is returned\"\"\"\n",
    "    #return \"hi\" #stub\n",
    "    #return...(string) #template\n",
    "    if len(string)>=3:\n",
    "        return 3*string\n",
    "    else:\n",
    "        return None\n",
    "\n",
    "start_testing()\n",
    "expect(repeat(\"\"), None)\n",
    "expect(repeat(\"hi\"), None)\n",
    "expect(repeat(\"games\"), \"gamesgamesgames\")\n",
    "expect(repeat(\"him\"), \"himhimhim\")\n",
    "summary()"
   ]
  },
  {
   "cell_type": "code",
   "execution_count": null,
   "metadata": {},
   "outputs": [],
   "source": []
  }
 ],
 "metadata": {
  "kernelspec": {
   "display_name": "Python 3 (ipykernel)",
   "language": "python",
   "name": "python3"
  },
  "language_info": {
   "codemirror_mode": {
    "name": "ipython",
    "version": 3
   },
   "file_extension": ".py",
   "mimetype": "text/x-python",
   "name": "python",
   "nbconvert_exporter": "python",
   "pygments_lexer": "ipython3",
   "version": "3.11.4"
  }
 },
 "nbformat": 4,
 "nbformat_minor": 2
}
