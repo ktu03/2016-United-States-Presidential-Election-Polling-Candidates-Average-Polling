{
 "cells": [
  {
   "cell_type": "markdown",
   "metadata": {},
   "source": [
    "# Problem\n",
    "\n",
    "Given an integer value, design a function that determines whether or not the value represents a valid month. For example, the value 12 would represent a valid month (it would represent December) but the value -4 would not."
   ]
  },
  {
   "cell_type": "code",
   "execution_count": null,
   "metadata": {},
   "outputs": [],
   "source": [
    "from cs103 import *\n",
    "\n",
    "@typecheck\n",
    "def is_valid_month(month: int) -> bool:\n",
    "    \"\"\"\n",
    "    return True if month is a valid representation \n",
    "    of a month (i.e., between 1 and 12 inclusive) and False otherwise\n",
    "    \"\"\"\n",
    "    \n",
    "    # return True   #stub\n",
    "    # return ...(month)  # template\n",
    "    \n",
    "    return month >= 1 and month <= 12\n",
    "\n",
    "# start testing\n",
    "start_testing()\n",
    "\n",
    "expect(is_valid_month(0), False)\n",
    "expect(is_valid_month(1), True)\n",
    "expect(is_valid_month(6), True)\n",
    "expect(is_valid_month(12), True)\n",
    "expect(is_valid_month(15), False)\n",
    "expect(is_valid_month(-8), False)\n",
    "\n",
    "# show testing summary\n",
    "summary()"
   ]
  }
 ],
 "metadata": {
  "kernelspec": {
   "display_name": "Python 3 (ipykernel)",
   "language": "python",
   "name": "python3"
  },
  "language_info": {
   "codemirror_mode": {
    "name": "ipython",
    "version": 3
   },
   "file_extension": ".py",
   "mimetype": "text/x-python",
   "name": "python",
   "nbconvert_exporter": "python",
   "pygments_lexer": "ipython3",
   "version": "3.9.6"
  }
 },
 "nbformat": 4,
 "nbformat_minor": 2
}
