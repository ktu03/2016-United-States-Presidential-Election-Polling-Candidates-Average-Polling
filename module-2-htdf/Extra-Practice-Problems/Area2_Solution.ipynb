{
 "cells": [
  {
   "cell_type": "markdown",
   "metadata": {},
   "source": [
    "# Problem\n",
    "\n",
    "Given the width and height of an image, design a function that returns the area. The area of an image is the width of the image multiplied by the height of the image. \n",
    "\n",
    "Be sure to follow all the steps in the HtDF recipe."
   ]
  },
  {
   "cell_type": "code",
   "execution_count": null,
   "metadata": {},
   "outputs": [],
   "source": [
    "from cs103 import *\n",
    "\n",
    "@typecheck\n",
    "def area(height: int, width: int) -> float:\n",
    "    \"\"\"\n",
    "    return the area of a image with given height and width\n",
    "    ASSUME: area is equal to width X height\n",
    "    \"\"\"\n",
    "    # return 0  #stub\n",
    "    # return ...(height, width)  #template based on Atomic Non-Distinct\n",
    "    return width * height\n",
    "\n",
    "# Start testing\n",
    "start_testing()\n",
    "\n",
    "expect(area(10, 20), 200)\n",
    "expect(area(30, 40), 30*40)\n",
    "expect(area(10, 10), 100)\n",
    "\n",
    "# Show testing summary\n",
    "summary()"
   ]
  }
 ],
 "metadata": {
  "kernelspec": {
   "display_name": "Python 3 (ipykernel)",
   "language": "python",
   "name": "python3"
  },
  "language_info": {
   "codemirror_mode": {
    "name": "ipython",
    "version": 3
   },
   "file_extension": ".py",
   "mimetype": "text/x-python",
   "name": "python",
   "nbconvert_exporter": "python",
   "pygments_lexer": "ipython3",
   "version": "3.9.6"
  }
 },
 "nbformat": 4,
 "nbformat_minor": 2
}
