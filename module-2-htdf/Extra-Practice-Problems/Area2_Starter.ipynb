{
 "cells": [
  {
   "cell_type": "markdown",
   "metadata": {},
   "source": [
    "# Problem\n",
    "\n",
    "Given the width and height of an image, design a function that returns the area. The area of an image is the width of the image multiplied by the height of the image. \n",
    "\n",
    "Be sure to follow all the steps in the HtDF recipe."
   ]
  },
  {
   "cell_type": "code",
   "execution_count": 1,
   "metadata": {},
   "outputs": [
    {
     "name": "stdout",
     "output_type": "stream",
     "text": [
      "\u001b[92m3 of 3 tests passed\u001b[0m\n"
     ]
    }
   ],
   "source": [
    "from cs103 import *\n",
    "\n",
    "# your solution goes here\n",
    "\n",
    "@typecheck\n",
    "def area(width: float, height: float) -> float:\n",
    "    \"\"\" returns the area of an image given the height and width\n",
    "    \"\"\"\n",
    "    #return 2.0 #stub\n",
    "    #return ... (width, height) #template\n",
    "    return width*height\n",
    "\n",
    "start_testing()\n",
    "expect(area(2.0,3.0),6.0)\n",
    "expect(area(4.0,6.0),24.0)\n",
    "expect(area(0.0,0.0),0.0)\n",
    "summary()\n"
   ]
  },
  {
   "cell_type": "code",
   "execution_count": null,
   "metadata": {},
   "outputs": [],
   "source": []
  }
 ],
 "metadata": {
  "kernelspec": {
   "display_name": "Python 3 (ipykernel)",
   "language": "python",
   "name": "python3"
  },
  "language_info": {
   "codemirror_mode": {
    "name": "ipython",
    "version": 3
   },
   "file_extension": ".py",
   "mimetype": "text/x-python",
   "name": "python",
   "nbconvert_exporter": "python",
   "pygments_lexer": "ipython3",
   "version": "3.11.4"
  }
 },
 "nbformat": 4,
 "nbformat_minor": 2
}
