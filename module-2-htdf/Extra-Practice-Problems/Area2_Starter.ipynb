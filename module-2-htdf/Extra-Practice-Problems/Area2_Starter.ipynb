{
 "cells": [
  {
   "cell_type": "markdown",
   "metadata": {},
   "source": [
    "# Problem\n",
    "\n",
    "Given the width and height of an image, design a function that returns the area. The area of an image is the width of the image multiplied by the height of the image. \n",
    "\n",
    "Be sure to follow all the steps in the HtDF recipe."
   ]
  },
  {
   "cell_type": "code",
   "execution_count": null,
   "metadata": {
    "collapsed": true
   },
   "outputs": [],
   "source": [
    "from cs103 import *\n",
    "\n",
    "# your solution goes here\n",
    "\n",
    "@typecheck\n",
    "def area(float: height, float: width) -> float:\n",
    "    \"\"\"returns the area of an image\n",
    "       given the width and height\n",
    "    \"\"\"\n",
    "    #return 2.0 #stub\n",
    "    #return ...(width, height) #template\n",
    "\n",
    "start_testing()\n",
    "expect(area(2.0,4.0), 8.0)\n",
    "expect(area(6.0,2.0), 12.0)\n",
    "summary()"
   ]
  }
 ],
 "metadata": {
  "kernelspec": {
   "display_name": "Python 3 (ipykernel)",
   "language": "python",
   "name": "python3"
  },
  "language_info": {
   "codemirror_mode": {
    "name": "ipython",
    "version": 3
   },
   "file_extension": ".py",
   "mimetype": "text/x-python",
   "name": "python",
   "nbconvert_exporter": "python",
   "pygments_lexer": "ipython3",
   "version": "3.11.4"
  }
 },
 "nbformat": 4,
 "nbformat_minor": 2
}
