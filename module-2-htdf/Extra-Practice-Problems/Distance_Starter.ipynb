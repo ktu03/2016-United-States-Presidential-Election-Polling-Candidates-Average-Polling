{
 "cells": [
  {
   "cell_type": "markdown",
   "metadata": {},
   "source": [
    "## Problem\n",
    "\n",
    "In interactive games it is often useful to be able to determine the distance between two points on the screen. We can describe those points using Cartesian coordinates as four numbers: (x1, y1) and (x2, y2).\n",
    "\n",
    "The formula for the distance between those points is: d = sqrt[(x1 - x2)^2 + (y1 - y2)^2]\n",
    "\n",
    "Use the How to Design Functions (HtDF) recipe to design a function called distance that takes four numbers representing two points and returns the distance between the two points.\n",
    "\n",
    "Use distance(3.0,0,0,4.0), which should produce 5.0, as your first example/test. Once your function works with that test, try distance(1.0,0,0,1.0) which should produce sqrt(2)."
   ]
  },
  {
   "cell_type": "code",
   "execution_count": 2,
   "metadata": {},
   "outputs": [
    {
     "name": "stdout",
     "output_type": "stream",
     "text": [
      "\u001b[92m2 of 2 tests passed\u001b[0m\n"
     ]
    }
   ],
   "source": [
    "from cs103 import *\n",
    "\n",
    "\n",
    "# your solution goes here\n",
    "from math import*\n",
    "@typecheck\n",
    "def distance(x1: float, y1: float, x2: float, y2: float) -> float:\n",
    "    \"\"\"returns the distance between two points given the coordinates of the first point (x1, y1) \n",
    "    and the second point (x2, y2)\"\"\"\n",
    "    #return 2.0 #stub\n",
    "    #return...(x1,y1,x2,y2) #template\n",
    "    return sqrt((x1-x2)**2 + (y1-y2)**2)\n",
    "start_testing()\n",
    "expect(distance(3.0,0,0,4.0),5.0)\n",
    "expect(distance(1.0,0,0,1.0),sqrt(2))\n",
    "summary()"
   ]
  },
  {
   "cell_type": "code",
   "execution_count": null,
   "metadata": {},
   "outputs": [],
   "source": []
  }
 ],
 "metadata": {
  "kernelspec": {
   "display_name": "Python 3 (ipykernel)",
   "language": "python",
   "name": "python3"
  },
  "language_info": {
   "codemirror_mode": {
    "name": "ipython",
    "version": 3
   },
   "file_extension": ".py",
   "mimetype": "text/x-python",
   "name": "python",
   "nbconvert_exporter": "python",
   "pygments_lexer": "ipython3",
   "version": "3.11.4"
  }
 },
 "nbformat": 4,
 "nbformat_minor": 2
}
