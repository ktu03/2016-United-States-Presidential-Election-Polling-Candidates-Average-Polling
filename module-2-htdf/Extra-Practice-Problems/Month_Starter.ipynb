{
 "cells": [
  {
   "cell_type": "markdown",
   "metadata": {},
   "source": [
    "# Problem\n",
    "\n",
    "Given an integer value, design a function that determines whether or not the value represents a valid month. For example, the value 12 would represent a valid month (it would represent December) but the value -4 would not."
   ]
  },
  {
   "cell_type": "code",
   "execution_count": 2,
   "metadata": {},
   "outputs": [
    {
     "name": "stdout",
     "output_type": "stream",
     "text": [
      "\u001b[92m4 of 4 tests passed\u001b[0m\n"
     ]
    }
   ],
   "source": [
    "from cs103 import *\n",
    "\n",
    "# your solution goes here\n",
    "\n",
    "@typecheck\n",
    "def valid_month(month:int)-> bool:\n",
    "    \"\"\"returns True if the given month value is valid (between 0 and 12), False otherwise\"\"\"\n",
    "    #return False #stub\n",
    "    #return...(month) #template\n",
    "    return (month<=12) and (month>0)\n",
    "\n",
    "start_testing()\n",
    "expect(valid_month(1), True)\n",
    "expect(valid_month(12), True)\n",
    "expect(valid_month(31), False)\n",
    "expect(valid_month(-2), False)\n",
    "summary()\n"
   ]
  },
  {
   "cell_type": "code",
   "execution_count": null,
   "metadata": {},
   "outputs": [],
   "source": []
  }
 ],
 "metadata": {
  "kernelspec": {
   "display_name": "Python 3 (ipykernel)",
   "language": "python",
   "name": "python3"
  },
  "language_info": {
   "codemirror_mode": {
    "name": "ipython",
    "version": 3
   },
   "file_extension": ".py",
   "mimetype": "text/x-python",
   "name": "python",
   "nbconvert_exporter": "python",
   "pygments_lexer": "ipython3",
   "version": "3.11.4"
  }
 },
 "nbformat": 4,
 "nbformat_minor": 2
}
