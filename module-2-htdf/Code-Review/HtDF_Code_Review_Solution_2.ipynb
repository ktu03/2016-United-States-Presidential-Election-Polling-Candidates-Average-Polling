{
 "cells": [
  {
   "cell_type": "code",
   "execution_count": 4,
   "metadata": {
    "editable": false
   },
   "outputs": [
    {
     "name": "stdout",
     "output_type": "stream",
     "text": [
      "\u001b[92m3 of 3 tests passed\u001b[0m\n"
     ]
    }
   ],
   "source": [
    "# This cell is uneditable so you can refer \n",
    "# back to the original version of the solution.\n",
    "\n",
    "from cs103 import *\n",
    "\n",
    "@typecheck\n",
    "def final_price_in_cents(original_price_in_cents: int) -> int:\n",
    "     \"\"\"\n",
    "     returns original_price_in_cents with 10 percent discount, and rounds up\n",
    "     \"\"\"\n",
    "    #return 500 #stub\n",
    "    #return... (original_price_in_cents) #template\n",
    "     return round(original_price_in_cents - (original_price_in_cents * 1/10)) \n",
    "\n",
    "#Begin testing \n",
    "start_testing()\n",
    "\n",
    "expect (final_price_in_cents(500), 450)\n",
    "expect (final_price_in_cents(24), 22)\n",
    "expect (final_price_in_cents(436),392)\n",
    "\n",
    "#Show testing summary\n",
    "summary()"
   ]
  },
  {
   "cell_type": "code",
   "execution_count": 7,
   "metadata": {},
   "outputs": [
    {
     "name": "stdout",
     "output_type": "stream",
     "text": [
      "\u001b[92m3 of 3 tests passed\u001b[0m\n"
     ]
    },
    {
     "data": {
      "text/plain": [
       "int"
      ]
     },
     "execution_count": 7,
     "metadata": {},
     "output_type": "execute_result"
    }
   ],
   "source": [
    "# This cell is editable\n",
    "\n",
    "from cs103 import *\n",
    "\n",
    "@typecheck\n",
    "def final_price_in_cents(original_price_in_cents: int) -> int:\n",
    "     \"\"\"\n",
    "     returns original_price_in_cents with 10 percent discount, and rounds up\n",
    "     \"\"\"\n",
    "    #return 500 #stub\n",
    "    #return... (original_price_in_cents) #template\n",
    "     return round(original_price_in_cents - (original_price_in_cents * 1/10)) \n",
    "\n",
    "#Begin testing \n",
    "start_testing()\n",
    "\n",
    "expect (final_price_in_cents(500), 450)\n",
    "expect (final_price_in_cents(24), 22)\n",
    "expect (final_price_in_cents(436),392)\n",
    "\n",
    "#Show testing summary\n",
    "summary()"
   ]
  },
  {
   "cell_type": "code",
   "execution_count": null,
   "metadata": {},
   "outputs": [],
   "source": []
  }
 ],
 "metadata": {
  "kernelspec": {
   "display_name": "Python 3 (ipykernel)",
   "language": "python",
   "name": "python3"
  },
  "language_info": {
   "codemirror_mode": {
    "name": "ipython",
    "version": 3
   },
   "file_extension": ".py",
   "mimetype": "text/x-python",
   "name": "python",
   "nbconvert_exporter": "python",
   "pygments_lexer": "ipython3",
   "version": "3.11.4"
  }
 },
 "nbformat": 4,
 "nbformat_minor": 2
}
