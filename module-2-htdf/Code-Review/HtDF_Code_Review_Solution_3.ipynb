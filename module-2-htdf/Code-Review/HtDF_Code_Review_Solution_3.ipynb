{
 "cells": [
  {
   "cell_type": "code",
   "execution_count": null,
   "metadata": {},
   "outputs": [],
   "source": [
    "# This cell is uneditable so you can refer \n",
    "# back to the original version of the solution.\n",
    "\n",
    "def ten_percent(x):\n",
    "    return x * 0.1\n",
    "\n",
    "x = 100\n",
    "y = ten_percent(x)\n",
    "\n",
    "price = x - y\n",
    "\n",
    "cost"
   ]
  },
  {
   "cell_type": "code",
   "execution_count": null,
   "metadata": {},
   "outputs": [],
   "source": [
    "def ten_percent(x):\n",
    "    return x * 0.1\n",
    "\n",
    "x = 100\n",
    "y = ten_percent(x)\n",
    "\n",
    "price = x - y\n",
    "\n",
    "cost"
   ]
  }
 ],
 "metadata": {
  "kernelspec": {
   "display_name": "Python 3",
   "language": "python",
   "name": "python3"
  },
  "language_info": {
   "codemirror_mode": {
    "name": "ipython",
    "version": 3
   },
   "file_extension": ".py",
   "mimetype": "text/x-python",
   "name": "python",
   "nbconvert_exporter": "python",
   "pygments_lexer": "ipython3",
   "version": "3.9.4"
  }
 },
 "nbformat": 4,
 "nbformat_minor": 2
}
