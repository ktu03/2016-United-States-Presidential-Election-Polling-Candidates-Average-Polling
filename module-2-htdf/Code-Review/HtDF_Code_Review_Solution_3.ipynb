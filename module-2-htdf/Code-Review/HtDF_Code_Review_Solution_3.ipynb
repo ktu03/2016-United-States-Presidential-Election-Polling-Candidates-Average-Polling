{
 "cells": [
  {
   "cell_type": "code",
   "execution_count": 1,
   "metadata": {},
   "outputs": [
    {
     "ename": "NameError",
     "evalue": "name 'cost' is not defined",
     "output_type": "error",
     "traceback": [
      "\u001b[0;31m---------------------------------------------------------------------------\u001b[0m",
      "\u001b[0;31mNameError\u001b[0m                                 Traceback (most recent call last)",
      "Cell \u001b[0;32mIn[1], line 12\u001b[0m\n\u001b[1;32m      8\u001b[0m y \u001b[38;5;241m=\u001b[39m ten_percent(x)\n\u001b[1;32m     10\u001b[0m price \u001b[38;5;241m=\u001b[39m x \u001b[38;5;241m-\u001b[39m y\n\u001b[0;32m---> 12\u001b[0m \u001b[43mcost\u001b[49m\n",
      "\u001b[0;31mNameError\u001b[0m: name 'cost' is not defined"
     ]
    }
   ],
   "source": [
    "# This cell is uneditable so you can refer \n",
    "# back to the original version of the solution.\n",
    "\n",
    "def ten_percent(x):\n",
    "    return x * 0.1\n",
    "\n",
    "x = 100\n",
    "y = ten_percent(x)\n",
    "\n",
    "price = x - y\n",
    "\n",
    "cost"
   ]
  },
  {
   "cell_type": "code",
   "execution_count": null,
   "metadata": {},
   "outputs": [],
   "source": [
    "def ten_percent(x):\n",
    "    return x * 0.1\n",
    "\n",
    "x = 100\n",
    "y = ten_percent(x)\n",
    "\n",
    "price = x - y\n",
    "\n",
    "cost"
   ]
  }
 ],
 "metadata": {
  "kernelspec": {
   "display_name": "Python 3 (ipykernel)",
   "language": "python",
   "name": "python3"
  },
  "language_info": {
   "codemirror_mode": {
    "name": "ipython",
    "version": 3
   },
   "file_extension": ".py",
   "mimetype": "text/x-python",
   "name": "python",
   "nbconvert_exporter": "python",
   "pygments_lexer": "ipython3",
   "version": "3.11.4"
  }
 },
 "nbformat": 4,
 "nbformat_minor": 2
}
