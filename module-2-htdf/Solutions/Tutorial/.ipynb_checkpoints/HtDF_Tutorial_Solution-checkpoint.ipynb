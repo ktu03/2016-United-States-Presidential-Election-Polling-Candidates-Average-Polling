{
 "cells": [
  {
   "cell_type": "code",
   "execution_count": 1,
   "metadata": {},
   "outputs": [],
   "source": [
    "from cs103 import *\n",
    "# import pokemon_data.ipynb from current folder\n",
    "from ipynb.fs.full.pokemon_data import *"
   ]
  },
  {
   "cell_type": "markdown",
   "metadata": {},
   "source": [
    "If you encounter a \"ModuleNotFound: No module named ipynb\" error when you run the cell above, be sure to run the `setup/Misc/setup.ipynb` file. Then, come back to this file and restart your kernel (Kernel → Restart). After that, the error should go away when you run the cell with the import statements."
   ]
  },
  {
   "cell_type": "markdown",
   "metadata": {
    "collapsed": true
   },
   "source": [
    "# HtDF Tutorial Solution\n",
    "\n",
    "## Pre-Tutorial Questions:\n",
    "\n",
    "For each problem, write the signature, purpose, and stub. This work will not be graded but is highly recommended as preparation for your tutorial."
   ]
  },
  {
   "cell_type": "markdown",
   "metadata": {
    "collapsed": true
   },
   "source": [
    "### Problem 1:\n",
    "    \n",
    "Design a function that accepts a string and returns the string with 'Hello world! ' at the beginning of the string.\n",
    "\n",
    "For example, if you call the function with \"Good Morning\", the function should return \"Hello world! Good Morning\".\n",
    "\n",
    "When designing your function, be sure to follow all steps of the HtDF recipe."
   ]
  },
  {
   "cell_type": "code",
   "execution_count": 2,
   "metadata": {},
   "outputs": [
    {
     "name": "stdout",
     "output_type": "stream",
     "text": [
      "\u001b[92m4 of 4 tests passed\u001b[0m\n"
     ]
    }
   ],
   "source": [
    "# Put your solution to Problem 1 here\n",
    "@typecheck\n",
    "def add_hello_world(s: str) -> str:\n",
    "    \"\"\"        \n",
    "    Adds \"Hello world! \" to the beginning of s\n",
    "    \"\"\"\n",
    "    # return s  # stub\n",
    "    # return ...(s)  # template based on Atomic Non-Distinct\n",
    "    \n",
    "    return \"Hello world! \" + s\n",
    "\n",
    "# Begin testing\n",
    "start_testing()\n",
    "\n",
    "# If the function takes a string, we should think about the empty string!\n",
    "expect(add_hello_world(\"\"), \"Hello world! \")   \n",
    "expect(add_hello_world(\"Good Morning\"), \"Hello world! Good Morning\")\n",
    "expect(add_hello_world(\"was written in a 1972 programming tutorial\"), \"Hello world! was written in a 1972 programming tutorial\")\n",
    "expect(add_hello_world(\"Hello\"), \"Hello world! Hello\")\n",
    "                         \n",
    "# Show testing summary\n",
    "summary()"
   ]
  },
  {
   "cell_type": "markdown",
   "metadata": {
    "collapsed": true
   },
   "source": [
    "### Problem 2:\n",
    "\n",
    "Recall our work with APIs in the module 1 lectures. This time, we are working with a different API - https://pokeapi.co/. This API allows us to fetch different types (e.g., name, type, height, weight, base_stat) of information on Pokemon.\n",
    "\n",
    "Here are some functions of interest:\n",
    "\n",
    "- `get_pokemon_name(pokemon_id: int) -> str`\n",
    "\n",
    "\n",
    "- `get_pokemon_attack(pokemon_name: str) -> int`\n",
    "\n",
    "\n",
    "- `get_pokemon_defense(pokemon_name: str) -> int`\n",
    "\n",
    "\n",
    "- `get_pokemon_height(pokemon_name: str) -> int`\n",
    "\n",
    "\n",
    "- `get_pokemon_weight(pokemon_name: str) -> int`\n",
    "\n",
    "\n",
    "- `get_pokemon_num_types(pokemon_name: str) -> int`\n",
    "\n",
    "\n",
    "- `get_pokemon_type1(country_name: str) -> str`\n",
    "\n",
    "\n",
    "- `get_pokemon_type2(country_name: str) -> str`\n"
   ]
  },
  {
   "cell_type": "markdown",
   "metadata": {},
   "source": [
    "Complete the following table with information about three different Pokemon. Each Pokemon has a unique ID number. If you are not familiar with Pokemon, just choose three random numbers from 1 to 898 (inclusive).\n",
    "\n",
    "\n",
    "| ID  | Name       | Attack | Defense | Number of Types | Type 1  | Type 2  |\n",
    "| --- | ---        | ---    | ---     | ---             | ---     | ---     |\n",
    "| 132 | ditto      | 48     | 48      | 1               | normal  | None    |\n",
    "| 436 | bronzor    | 24     | 86      | 2               | steel   | psychic |\n",
    "| 94  | gengar     | 65     | 60      | 2               | ghost   | poison  |\n",
    "| 12  | butterfree | 45     | 50      | 2               | bug     | flying  |\n",
    "| 735 | gumshoos   | 110    | 60      | 1               | normal  | None    |\n",
    "| 564 | tirtouga   | 78     | 103     | 2               | water   | rock    |\n",
    "| 576 | gothielle  | 55     | 95      | 1               | psychic | None    |\n"
   ]
  },
  {
   "cell_type": "code",
   "execution_count": 3,
   "metadata": {},
   "outputs": [
    {
     "data": {
      "text/plain": [
       "'None'"
      ]
     },
     "execution_count": 3,
     "metadata": {},
     "output_type": "execute_result"
    }
   ],
   "source": [
    "# Example of how the first row was completed.\n",
    "# Don't forget: when running this cell, you will only see the result from the last uncommented function.\n",
    "# Comment out functions you do not want to run.\n",
    "\n",
    "get_pokemon_name(132)\n",
    "get_pokemon_attack(\"ditto\")\n",
    "get_pokemon_defense(\"ditto\")\n",
    "get_pokemon_num_types(\"ditto\")\n",
    "get_pokemon_type1(\"ditto\")\n",
    "get_pokemon_type2(\"ditto\")"
   ]
  },
  {
   "cell_type": "markdown",
   "metadata": {},
   "source": [
    "### Problem 3:\n",
    "\n",
    "As indicated by the table in Problem 2, Pokemon have a given type and on occasion, a secondary type. Every Pokemon also has an associated attack value.\n",
    "\n",
    "In this problem, we will work with something called a modified attack value. The modified attack value is the attack value of a Pokemon multiplied by the number of types that it has.\n",
    "\n",
    "Design a function that accepts a Pokemon ID number and returns the modified attack value.\n",
    "\n",
    "When designing your function, be sure to follow all steps of the HtDF recipe **including designing your tests first**."
   ]
  },
  {
   "cell_type": "code",
   "execution_count": 4,
   "metadata": {},
   "outputs": [
    {
     "name": "stdout",
     "output_type": "stream",
     "text": [
      "\u001b[92m3 of 3 tests passed\u001b[0m\n"
     ]
    }
   ],
   "source": [
    "# Put your solution to Problem 3 here\n",
    "@typecheck\n",
    "def get_pokemon_modified_attack(pokemon_id: int) -> int:\n",
    "    \"\"\"\n",
    "    Return the base stats of the Pokemon with the given id.\n",
    "    \n",
    "    ASSUMES: pokemon_id is a value from 1 to 898 (inclusive).\n",
    "    \"\"\"\n",
    "    \n",
    "    # return 0  #stub\n",
    "    # return ...(pokemon_id)  # template based on Atomic Non-Distinct\n",
    "    return get_pokemon_attack(get_pokemon_name(pokemon_id))*get_pokemon_num_types(get_pokemon_name(pokemon_id))\n",
    "\n",
    "# Begin testing\n",
    "start_testing()\n",
    "\n",
    "# Examples and tests for get_pokemon_modified_attack\n",
    "expect(get_pokemon_modified_attack(132), 48)\n",
    "expect(get_pokemon_modified_attack(94), 130)\n",
    "expect(get_pokemon_modified_attack(564), 78*2)\n",
    "\n",
    "# Show testing summary\n",
    "summary()"
   ]
  },
  {
   "cell_type": "markdown",
   "metadata": {},
   "source": [
    "### Problem 4:\n",
    "\n",
    "Given two Pokemons IDs, design a function that returns the name of the Pokemon with the largest modified attack. If possible, try to call your function from Problem 3.\n",
    "    \n",
    "When designing your function, be sure to follow all steps of the HtDF recipe **including designing your tests first**. "
   ]
  },
  {
   "cell_type": "code",
   "execution_count": 5,
   "metadata": {},
   "outputs": [
    {
     "name": "stdout",
     "output_type": "stream",
     "text": [
      "\u001b[92m4 of 4 tests passed\u001b[0m\n"
     ]
    }
   ],
   "source": [
    "# Put your solution to Problem 4 here\n",
    "@typecheck\n",
    "def largest_attack(pokemon_id1: int, pokemon_id2: int) -> str:\n",
    "    \"\"\"\n",
    "    Return the name of the pokemon with the largest modified stats.\n",
    "    In case of a tie, it returns the name of the pokemon represented \n",
    "    by pokemon_id1.\n",
    "    \n",
    "    ASSUMES: pokemon_id1 and pokemon_id2 are values from 1 to 898 (inclusive).\n",
    "    \"\"\"\n",
    "    \n",
    "    # return \"ditto\"  #stub\n",
    "    # return ...(pokemon_id1, pokemon_id2)  # template based on Atomic Non-Distinct\n",
    "    if get_pokemon_modified_attack(pokemon_id1) >= get_pokemon_modified_attack(pokemon_id2):\n",
    "        return get_pokemon_name(pokemon_id1)\n",
    "    else:\n",
    "        return get_pokemon_name(pokemon_id2)\n",
    "\n",
    "# Begin testing\n",
    "start_testing()\n",
    "\n",
    "# Examples and tests for largest_attack\n",
    "expect(largest_attack(94, 94), \"gengar\")\n",
    "expect(largest_attack(735, 576), \"gumshoos\") \n",
    "expect(largest_attack(132, 436), \"ditto\")\n",
    "expect(largest_attack(576, 12), \"butterfree\")\n",
    "\n",
    "# Show testing summary\n",
    "summary()"
   ]
  },
  {
   "cell_type": "markdown",
   "metadata": {},
   "source": [
    "### Problem 5:\n",
    "\n",
    "In one-on-one battle, an attacking Pokemon inflicts damage if its modified attack is strictly greater than the other Pokemon's defense.  Given the ID of the attacking Pokemon and the ID of the defending Pokemon, design a function to determine if the attacking Pokemon inflicts damage. \n",
    "\n",
    "For this problem, you should consider the attack of a Pokemon as its modified attack as calculated in Problem 3.\n",
    "    \n",
    "When designing your function, be sure to follow all steps of the HtDF recipe **including designing your tests first**."
   ]
  },
  {
   "cell_type": "code",
   "execution_count": 6,
   "metadata": {},
   "outputs": [
    {
     "name": "stdout",
     "output_type": "stream",
     "text": [
      "\u001b[92m5 of 5 tests passed\u001b[0m\n"
     ]
    }
   ],
   "source": [
    "# Put your solution to Problem 5 here\n",
    "@typecheck\n",
    "def inflicts_damage(attacking_pokemon: int, defending_pokemon: int) -> bool:\n",
    "    \"\"\"\n",
    "    Return True if attacking Pokemon inflicts damage, i.e., the modifier attack \n",
    "    of the attacking Pokemon is strictly greater than the defense of the \n",
    "    defending Pokemon; otherwise, return False.\n",
    "    \n",
    "    ASSUMES: attacking_pokemon and defending_pokemon are values from 1 to 898 (inclusive).\n",
    "    \"\"\"\n",
    "    \n",
    "    # return True  #stub\n",
    "    # return ...(attacker, defenser)  # template based on Atomic Non-Distinct\n",
    "    attack = get_pokemon_modified_attack(attacking_pokemon)\n",
    "    defense = get_pokemon_defense(get_pokemon_name(defending_pokemon))\n",
    "    \n",
    "    if attack > defense:\n",
    "        return True\n",
    "    else:\n",
    "        return False\n",
    "\n",
    "# Begin testing\n",
    "start_testing()\n",
    "\n",
    "# Examples and tests for suffered_damage\n",
    "expect(inflicts_damage(132, 436), False)\n",
    "expect(inflicts_damage(436, 132), False)\n",
    "expect(inflicts_damage(94, 94), True)\n",
    "expect(inflicts_damage(576, 735), False)\n",
    "expect(inflicts_damage(12, 436), True)\n",
    "\n",
    "# Show testing summary\n",
    "summary()"
   ]
  },
  {
   "cell_type": "markdown",
   "metadata": {},
   "source": [
    "## Submit your solution"
   ]
  }
 ],
 "metadata": {
  "kernelspec": {
   "display_name": "Python 3 (ipykernel)",
   "language": "python",
   "name": "python3"
  },
  "language_info": {
   "codemirror_mode": {
    "name": "ipython",
    "version": 3
   },
   "file_extension": ".py",
   "mimetype": "text/x-python",
   "name": "python",
   "nbconvert_exporter": "python",
   "pygments_lexer": "ipython3",
   "version": "3.9.13"
  }
 },
 "nbformat": 4,
 "nbformat_minor": 2
}
