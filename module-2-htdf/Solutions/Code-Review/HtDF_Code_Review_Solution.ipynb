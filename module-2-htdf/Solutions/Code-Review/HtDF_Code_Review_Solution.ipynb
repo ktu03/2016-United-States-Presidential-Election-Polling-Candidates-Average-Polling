{
 "cells": [
  {
   "cell_type": "code",
   "execution_count": null,
   "metadata": {},
   "outputs": [],
   "source": [
    "from cs103 import *\n",
    "\n",
    "@typecheck\n",
    "def apply_discount(price: int) -> int:\n",
    "    \"\"\"\n",
    "    takes a price in cents and returns price - 10% (rounded to the nearest cent)\n",
    "    ASSUME: price >= 0\n",
    "    \"\"\"\n",
    "    \n",
    "    # return 0   #stub\n",
    "    # return ...(n)  #template based on Atomic Non-Distinct\n",
    "    \n",
    "    discount = price * 0.10\n",
    "    price = round(price - discount)\n",
    "    return price\n",
    "    \n",
    "# Begin testing\n",
    "start_testing()\n",
    "    \n",
    "expect(apply_discount(0), 0)\n",
    "expect(apply_discount(1), 1)\n",
    "expect(apply_discount(10), 9)\n",
    "expect(apply_discount(54), 49)\n",
    "expect(apply_discount(217), 195)\n",
    "\n",
    "# Show testing summary\n",
    "summary()"
   ]
  }
 ],
 "metadata": {
  "kernelspec": {
   "display_name": "Python 3",
   "language": "python",
   "name": "python3"
  },
  "language_info": {
   "codemirror_mode": {
    "name": "ipython",
    "version": 3
   },
   "file_extension": ".py",
   "mimetype": "text/x-python",
   "name": "python",
   "nbconvert_exporter": "python",
   "pygments_lexer": "ipython3",
   "version": "3.6.6"
  }
 },
 "nbformat": 4,
 "nbformat_minor": 2
}
