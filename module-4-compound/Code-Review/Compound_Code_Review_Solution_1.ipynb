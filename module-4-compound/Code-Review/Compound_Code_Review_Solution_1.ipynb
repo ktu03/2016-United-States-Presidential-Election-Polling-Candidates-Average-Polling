{
 "cells": [
  {
   "cell_type": "code",
   "execution_count": null,
   "metadata": {
    "collapsed": true,
    "editable": false,
    "scrolled": true
   },
   "outputs": [],
   "source": [
    "# This cell is uneditable so you can refer back to the original version of the solution.\n",
    "\n",
    "car = NamedTuple('car', [('model', str),\n",
    "                        ('price', int), # in range[25,000,250,000]\n",
    "                        ('powered', str)])    \n",
    "\n",
    "C1 = car(BMW, 150,000, gas Powered)\n",
    "C2 = car(Toyota, 50,000, gas Powered)\n",
    "C3 = car (Ford, 250,000, electric Powered)\n",
    "\n",
    "# interp. Types of cars in in the dealership \n",
    "@typecheck\n",
    "def fn_for_car(c: car) -> ...: # template based on Compound\n",
    "    return ...(c.model,\n",
    "               c.price,\n",
    "               c.powered)\n"
   ]
  },
  {
   "cell_type": "code",
   "execution_count": null,
   "metadata": {},
   "outputs": [],
   "source": [
    "# Feel free to edit this cell as needed.\n",
    "\n",
    "car = NamedTuple('car', [('model', str),\n",
    "                        ('price', int), # in range[25,000,250,000]\n",
    "                        ('powered', str)])    \n",
    "\n",
    "C1 = car(BMW, 150,000, gas Powered)\n",
    "C2 = car(Toyota, 50,000, gas Powered)\n",
    "C3 = car (Ford, 250,000, electric Powered)\n",
    "\n",
    "# interp. Types of cars in in the dealership \n",
    "@typecheck\n",
    "def fn_for_car(c: car) -> ...: # template based on Compound\n",
    "    return ...(c.model,\n",
    "               c.price,\n",
    "               c.powered)"
   ]
  },
  {
   "cell_type": "code",
   "execution_count": null,
   "metadata": {
    "collapsed": true,
    "editable": false,
    "scrolled": true
   },
   "outputs": [],
   "source": [
    "# This cell is uneditable so you can refer back to the original version of the solution.\n",
    "\n",
    "from cs103 import *\n",
    "\n",
    "@typecheck\n",
    "def affordable_and_electric(model:str, price:int, powered:str)-> bool:\n",
    "    \"\"\"\n",
    "    return true if the car is within budget and electric powered\n",
    "    \"\"\"\n",
    "    return true #stub\n",
    "    #template from car\n",
    "\n",
    "    #if c.powered = electric and budget > = c.price:\n",
    "    #    return true \n",
    "    #else:\n",
    "    #    return false \n",
    "    \n",
    "start_testing ()\n",
    "\n",
    "expect(car(BMW, 150,000, gas Powered)false)\n",
    "expect(car(Toyota, 50,000, gas Powered)false)\n",
    "expect(car(Ford, 250,000, electric Powered)true)\n",
    "            \n",
    "summary()"
   ]
  },
  {
   "cell_type": "code",
   "execution_count": null,
   "metadata": {},
   "outputs": [],
   "source": [
    "# Feel free to edit this cell as needed.\n",
    "\n",
    "from cs103 import *\n",
    "\n",
    "@typecheck\n",
    "def affordable_and_electric(model:str, price:int, powered:str)-> bool:\n",
    "    \"\"\"\n",
    "    return true if the car is within budget and electric powered\n",
    "    \"\"\"\n",
    "    return true #stub\n",
    "    #template from car\n",
    "\n",
    "    #if c.powered = electric and budget > = c.price:\n",
    "    #    return true \n",
    "    #else:\n",
    "    #    return false \n",
    "    \n",
    "start_testing ()\n",
    "\n",
    "expect(car(BMW, 150,000, gas Powered)false)\n",
    "expect(car(Toyota, 50,000, gas Powered)false)\n",
    "expect(car(Ford, 250,000, electric Powered)true)\n",
    "            \n",
    "summary()"
   ]
  }
 ],
 "metadata": {
  "kernelspec": {
   "display_name": "Python 3 (ipykernel)",
   "language": "python",
   "name": "python3"
  },
  "language_info": {
   "codemirror_mode": {
    "name": "ipython",
    "version": 3
   },
   "file_extension": ".py",
   "mimetype": "text/x-python",
   "name": "python",
   "nbconvert_exporter": "python",
   "pygments_lexer": "ipython3",
   "version": "3.9.9"
  }
 },
 "nbformat": 4,
 "nbformat_minor": 2
}
