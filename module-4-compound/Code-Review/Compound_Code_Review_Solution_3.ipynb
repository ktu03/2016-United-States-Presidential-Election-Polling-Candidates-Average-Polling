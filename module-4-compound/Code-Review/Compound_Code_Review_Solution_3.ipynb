{
 "cells": [
  {
   "cell_type": "code",
   "execution_count": null,
   "metadata": {
    "editable": false
   },
   "outputs": [],
   "source": [
    "# This cell is uneditable so you can refer back to the original version of the solution.\n",
    "\n",
    "from cs103 import *\n",
    "from typing import NamedTuple \n",
    "\n",
    "#problem 1\n",
    "\n",
    "Car= NamedTuple('Car', [('make', str), \n",
    "                        ('model',str),\n",
    "                        ('price', int ),\n",
    "                        ('energy_type', bool)])\n",
    "#interp. make (make), model(model), price (price) and energy type (energy_type) of a\n",
    "# given car which is True if it is electric and False otherwise.\n",
    "C1= Car('honda', 'civic', 25000, False)\n",
    "C2= Car('toyota', 'camry', 60000, True)\n",
    "\n",
    "#Template based on Compound (4 fields)\n",
    "def fn_for_car(c:Car)->...: \n",
    "    return...(c.make, \n",
    "              c.model,\n",
    "              c.price,\n",
    "              c.energy_type) "
   ]
  },
  {
   "cell_type": "code",
   "execution_count": null,
   "metadata": {},
   "outputs": [],
   "source": [
    "# Feel free to edit this cell as needed.\n",
    "\n",
    "from cs103 import *\n",
    "from typing import NamedTuple \n",
    "\n",
    "#problem 1\n",
    "\n",
    "Car= NamedTuple('Car', [('make', str), \n",
    "                        ('model',str),\n",
    "                        ('price', int ),\n",
    "                        ('energy_type', bool)])\n",
    "#interp. make (make), model(model), price (price) and energy type (energy_type) of a\n",
    "# given car which is True if it is electric and False otherwise.\n",
    "C1= Car('honda', 'civic', 25000, False)\n",
    "C2= Car('toyota', 'camry', 60000, True)\n",
    "\n",
    "#Template based on Compound (4 fields)\n",
    "def fn_for_car(c:Car)->...: \n",
    "    return...(c.make, \n",
    "              c.model,\n",
    "              c.price,\n",
    "              c.energy_type)"
   ]
  },
  {
   "cell_type": "code",
   "execution_count": null,
   "metadata": {
    "editable": false
   },
   "outputs": [],
   "source": [
    "# This cell is uneditable so you can refer back to the original version of the solution.\n",
    "\n",
    "#problem 2 \n",
    "\n",
    "\n",
    "def affordable_car(c:Car, b:float)-> bool: \n",
    "    '''\n",
    "    returns True if cost for a given car is less than inputed budget(b). \n",
    "    '''\n",
    "    #return True #stub\n",
    "    #Template from Car\n",
    "    \n",
    "    return (c.price< b)\n",
    "    \n",
    "start_testing()\n",
    "\n",
    "expect(affordable_car(C1, 25000), False)\n",
    "expect(affordable_car(C2, 40000), False)\n",
    "expect(affordable_car(C2, 65000), True)\n",
    "\n",
    "summary()"
   ]
  },
  {
   "cell_type": "code",
   "execution_count": null,
   "metadata": {},
   "outputs": [],
   "source": [
    "# Feel free to edit this cell as needed.\n",
    "\n",
    "#problem 2 \n",
    "\n",
    "\n",
    "def affordable_car(c:Car, b:float)-> bool: \n",
    "    '''\n",
    "    returns True if cost for a given car is less than inputed budget(b). \n",
    "    '''\n",
    "    #return True #stub\n",
    "    #Template from Car\n",
    "    \n",
    "    return (c.price< b)\n",
    "    \n",
    "start_testing()\n",
    "\n",
    "expect(affordable_car(C1, 25000), False)\n",
    "expect(affordable_car(C2, 40000), False)\n",
    "expect(affordable_car(C2, 65000), True)\n",
    "\n",
    "summary()"
   ]
  }
 ],
 "metadata": {
  "kernelspec": {
   "display_name": "Python 3 (ipykernel)",
   "language": "python",
   "name": "python3"
  },
  "language_info": {
   "codemirror_mode": {
    "name": "ipython",
    "version": 3
   },
   "file_extension": ".py",
   "mimetype": "text/x-python",
   "name": "python",
   "nbconvert_exporter": "python",
   "pygments_lexer": "ipython3",
   "version": "3.9.9"
  }
 },
 "nbformat": 4,
 "nbformat_minor": 2
}
