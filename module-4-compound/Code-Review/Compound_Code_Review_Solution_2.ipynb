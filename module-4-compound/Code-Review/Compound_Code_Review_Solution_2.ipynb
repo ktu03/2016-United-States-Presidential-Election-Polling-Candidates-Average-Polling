{
 "cells": [
  {
   "cell_type": "code",
   "execution_count": null,
   "metadata": {
    "editable": false
   },
   "outputs": [],
   "source": [
    "# This cell is uneditable so you can refer back to the original version of the solution.\n",
    "\n",
    "from typing import NamedTuple\n",
    "\n",
    "#Problem 1\n",
    "\n",
    "Car=NamedTuple('Car', [('make', str),       \n",
    "                       ('model', str),\n",
    "                       ('price', float),  #in range [0.00,...)\n",
    "                       ('is_electric', bool)])\n",
    "#interp. a car of a certain make ('make'), model ('model'), price in thousands of Canadian dollars ('price'), \n",
    "#and whether or not the car is electrically powered ('is_electric')\n",
    "\n",
    "C1=Car('Tesla', 'Model X', 120.5, True)\n",
    "C2=Car('Honda', 'Civic', 20.0, False)\n",
    "C3=Car('Acura', 'MDX', 50.0, False)\n",
    "C4=Car('Smart', 'Fortwo', 35.0, True)\n",
    "\n",
    "def fn_for_car(c: Car)->...:  #Template based on Compound\n",
    "    return...(c.make,    #str\n",
    "              c.model,   #str\n",
    "              c.price,   #float in range [0.00,...)\n",
    "              c.is_electric)#bool"
   ]
  },
  {
   "cell_type": "code",
   "execution_count": null,
   "metadata": {},
   "outputs": [],
   "source": [
    "# Feel free to edit this cell as needed.\n",
    "\n",
    "from typing import NamedTuple\n",
    "\n",
    "#Problem 1\n",
    "\n",
    "Car=NamedTuple('Car', [('make', str),       \n",
    "                       ('model', str),\n",
    "                       ('price', float),  #in range [0.00,...)\n",
    "                       ('is_electric', bool)])\n",
    "#interp. a car of a certain make ('make'), model ('model'), price in thousands of Canadian dollars ('price'), \n",
    "#and whether or not the car is electrically powered ('is_electric')\n",
    "\n",
    "C1=Car('Tesla', 'Model X', 120.5, True)\n",
    "C2=Car('Honda', 'Civic', 20.0, False)\n",
    "C3=Car('Acura', 'MDX', 50.0, False)\n",
    "C4=Car('Smart', 'Fortwo', 35.0, True)\n",
    "\n",
    "def fn_for_car(c: Car)->...:  #Template based on Compound\n",
    "    return...(c.make,    #str\n",
    "              c.model,   #str\n",
    "              c.price,   #float in range [0.00,...)\n",
    "              c.is_electric)#bool"
   ]
  },
  {
   "cell_type": "code",
   "execution_count": null,
   "metadata": {
    "editable": false
   },
   "outputs": [],
   "source": [
    "# This cell is uneditable so you can refer back to the original version of the solution.\n",
    "\n",
    "from cs103 import*\n",
    "\n",
    "#Problem 2\n",
    "\n",
    "def is_affordable_elec(b: float, c: Car) -> bool:\n",
    "    \"\"\"\n",
    "    returns True if c is within (less than or equal to) the given budget, b,\n",
    "    and is electric\n",
    "    \"\"\"\n",
    "    #return True\n",
    "    #Template from Car, with additional parameter b\n",
    "    return (c.price <= b) and c.is_electric\n",
    "\n",
    "start_testing()\n",
    "\n",
    "expect(is_affordable_elec(35, C4), True)\n",
    "expect(is_affordable_elec(50, C1), False)\n",
    "expect(is_affordable_elec(50, C2), False)\n",
    "expect(is_affordable_elec(49, C3), False)\n",
    "\n",
    "summary()"
   ]
  },
  {
   "cell_type": "code",
   "execution_count": null,
   "metadata": {},
   "outputs": [],
   "source": [
    "# Feel free to edit this cell as needed.\n",
    "\n",
    "from cs103 import*\n",
    "\n",
    "#Problem 2\n",
    "\n",
    "def is_affordable_elec(b: float, c: Car) -> bool:\n",
    "    \"\"\"\n",
    "    returns True if c is within (less than or equal to) the given budget, b,\n",
    "    and is electric\n",
    "    \"\"\"\n",
    "    #return True\n",
    "    #Template from Car, with additional parameter b\n",
    "    return (c.price <= b) and c.is_electric\n",
    "\n",
    "start_testing()\n",
    "\n",
    "expect(is_affordable_elec(35, C4), True)\n",
    "expect(is_affordable_elec(50, C1), False)\n",
    "expect(is_affordable_elec(50, C2), False)\n",
    "expect(is_affordable_elec(49, C3), False)\n",
    "\n",
    "summary()"
   ]
  }
 ],
 "metadata": {
  "kernelspec": {
   "display_name": "Python 3 (ipykernel)",
   "language": "python",
   "name": "python3"
  },
  "language_info": {
   "codemirror_mode": {
    "name": "ipython",
    "version": 3
   },
   "file_extension": ".py",
   "mimetype": "text/x-python",
   "name": "python",
   "nbconvert_exporter": "python",
   "pygments_lexer": "ipython3",
   "version": "3.9.9"
  }
 },
 "nbformat": 4,
 "nbformat_minor": 2
}
