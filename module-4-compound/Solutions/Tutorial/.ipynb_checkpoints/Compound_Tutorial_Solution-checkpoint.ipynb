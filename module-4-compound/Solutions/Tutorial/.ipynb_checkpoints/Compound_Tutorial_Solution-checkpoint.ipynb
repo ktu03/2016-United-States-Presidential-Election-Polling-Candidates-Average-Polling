{
 "cells": [
  {
   "cell_type": "code",
   "execution_count": 1,
   "metadata": {},
   "outputs": [],
   "source": [
    "from cs103 import *"
   ]
  },
  {
   "cell_type": "markdown",
   "metadata": {},
   "source": [
    "# Compound Tutorial Solution\n",
    "\n",
    "### Pre-Tutorial Work:\n",
    "\n",
    "Read the sample information below and start to think about how to best represent one of the rows as data (i.e. how to best represent the information for a *single year*).\n",
    "\n",
    "[Statistics Canada](https://www150.statcan.gc.ca/t1/tbl1/en/tv.action?pid=3210035801&pickMembers%5B0%5D=1.1&cubeTimeFrame.startYear=1990&cubeTimeFrame.endYear=1993&referencePeriods=19900101%2C19930101)<sup>*</sup> has some historical information about production of potatoes in Canada:\n",
    "\n",
    "|Year|Seeded Area (acres)|Harvested Area (acres)|Average yield (hundredweight per harvested acre)|Production of potatoes, total (hundredweight x 1,000)|Average farm price (dollars per hundredweight)|\n",
    "|---|---|---|---|---|---|\n",
    "|1990|\t300600|\t295800|\t223.9\t|66235\t|6.59|\n",
    "|1991|\t302500|\t293400|\t212.6   |62377\t|6.73|\n",
    "|1992|\t310600|\t305900|\t260.0\t|79528\t|5.28|\n",
    "|1993|\t315500|\t308600|\t236.9\t|73102\t|8.41|\n",
    "\n",
    "<sup>*</sup> Accessed 2023-01-12"
   ]
  },
  {
   "cell_type": "markdown",
   "metadata": {},
   "source": [
    "### Problem 1: \n",
    "\n",
    "Design a data definition called PotatoesHarvest to represent the information from one row (i.e., one year) shown above. \n",
    "\n",
    "Be sure to follow all steps of the HtDD recipe.\n",
    "\n",
    "(**Caution:** the word `yield` is a special word in Python, much like the words `return`, `def`, and `if`. So, you cannot name a variable or field `yield`. You can name it, for example `average_yield`, however!)"
   ]
  },
  {
   "cell_type": "code",
   "execution_count": 2,
   "metadata": {},
   "outputs": [],
   "source": [
    "# your solution goes here\n",
    "from typing import NamedTuple\n",
    "\n",
    "PotatoesHarvest = NamedTuple('PotatoesHarvest', [('year', int),       # in range[1900, ...)\n",
    "                                                 ('seeded', int),     # in range[0, ...)\n",
    "                                                 ('harvested', int),  # in range[0, seeded]\n",
    "                                                 ('yld', float),      # in range[0, ...)\n",
    "                                                 ('prod', int),       # in range[0, ...)\n",
    "                                                 ('price', float)])   # in range[0, ...)\n",
    "# interp. potatoes harvest data from one year ('year') in Canada. includes the total seeded area ('seeded'), \n",
    "# the the total harvested area ('harvested'), the average yield in hundredweights per arvested acre ('yld'),\n",
    "# the total production in hundredweights ('prod'), and the average price of potatoes at the farm in\n",
    "# dollars per hunderdweight ('price'). A hundredweight is equivalent to 100 pounds.\n",
    "\n",
    "#  SOLUTION COMMENT:\n",
    "#  What range is legitimate for years? We made a somewhat arbitrary decision that it should\n",
    "#  be 1900 or after. It probably makes sense to have SOME restriction on range (i.e., 0 and\n",
    "#  negative numbers are probably bad choices). Note the range for harvested: the maximum harvested \n",
    "#  area can not exceed the total seeded area.\n",
    "\n",
    "PH1990 = PotatoesHarvest(1990, 300600, 295800, 223.9, 66235, 6.59)\n",
    "PH1991 = PotatoesHarvest(1991, 302500, 293400, 212.6, 62377, 6.73)\n",
    "PH1992 = PotatoesHarvest(1992, 310600, 305900, 260.0, 79528, 5.28)\n",
    "PH1993 = PotatoesHarvest(1993, 315500, 308600, 236.9, 73102, 8.41)\n",
    "\n",
    "\n",
    "# template based on compound\n",
    "@typecheck\n",
    "def fn_for_potatoes_harvest(ph: PotatoesHarvest) -> ...:\n",
    "    return ...(ph.year, \n",
    "               ph.seeded,\n",
    "               ph.harvested,\n",
    "               ph.yld,\n",
    "               ph.prod, \n",
    "               ph.price)"
   ]
  },
  {
   "cell_type": "markdown",
   "metadata": {},
   "source": [
    "### Problem 2:\n",
    "\n",
    "You want to determine how many additional million of dollars could have been earned in a given year if the harvested area was equal to the seeded area. Design a function that takes a PotatoesHarvest and returns this value (million of dollars) rounded to two decimal points. \n",
    "\n",
    "**Hint:** To calculate this value, first compute how many acres were seeded but not harvested, then multiply this value by the average acre yield and the price of a hundredweight of potatoes. Make sure that the units used match and your returned value is in millions of dollars.\n",
    "\n",
    "Be sure to follow all steps of the HtDF recipe.  "
   ]
  },
  {
   "cell_type": "code",
   "execution_count": 3,
   "metadata": {},
   "outputs": [
    {
     "name": "stdout",
     "output_type": "stream",
     "text": [
      "\u001b[91mTest failed:\u001b[0m expected 7.07 but got 7.08\n",
      "    \u001b[1mLine 14: \u001b[0mexpect(missed_yield(PH1990),7.07)\n",
      "\u001b[91m1 of 2 tests passed\u001b[0m\n"
     ]
    }
   ],
   "source": [
    "# your solution goes here\n",
    "@typecheck\n",
    "def missed_yield(ph: PotatoesHarvest) -> float:\n",
    "    \"\"\"\n",
    "    returns the number of additional millions of dollars that could have been earned\n",
    "    if the harvested area was equal to the seeded area, rounded to two decimal points.\n",
    "    \"\"\"\n",
    "    #return 0.0 # stub\n",
    "    # template from PotatoesHarvest\n",
    "    return round(((ph.seeded - ph.harvested) * ph.yld * ph.price)/1000000, 2)\n",
    "\n",
    "start_testing()\n",
    "\n",
    "expect(missed_yield(PH1990),7.07)\n",
    "expect(missed_yield(PH1991),13.02)\n",
    "\n",
    "summary()"
   ]
  },
  {
   "cell_type": "markdown",
   "metadata": {},
   "source": [
    "### Problem 3:\n",
    "    \n",
    "Design a function that takes two PotatoesHarvest and returns True if the total production increased from the first to the second. Note that when a function takes in two compound parameters, the template should include all fields from both parameters.\n",
    " \n",
    "Be sure to follow all steps of the HtDF recipe."
   ]
  },
  {
   "cell_type": "code",
   "execution_count": 4,
   "metadata": {},
   "outputs": [
    {
     "name": "stdout",
     "output_type": "stream",
     "text": [
      "\u001b[92m3 of 3 tests passed\u001b[0m\n"
     ]
    }
   ],
   "source": [
    "# your solution goes here\n",
    "@typecheck\n",
    "def did_production_increase(ph1: PotatoesHarvest, ph2: PotatoesHarvest) -> bool:\n",
    "    \"\"\"\n",
    "    return True if production increased from ph1 to ph2, and False otherwise\n",
    "    \"\"\"\n",
    "    #return True # stub\n",
    "    # template from PotatoesHarvest (all fields from both parameters)\n",
    "    return ph1.prod < ph2.prod\n",
    "\n",
    "start_testing()\n",
    "\n",
    "\n",
    "expect(did_production_increase(PH1990, PH1991), False)\n",
    "expect(did_production_increase(PH1991, PH1990), True)\n",
    "expect(did_production_increase(PH1992, PH1992), False)\n",
    "\n",
    "summary()"
   ]
  },
  {
   "cell_type": "markdown",
   "metadata": {},
   "source": [
    "## Submit your solution"
   ]
  }
 ],
 "metadata": {
  "kernelspec": {
   "display_name": "Python 3 (ipykernel)",
   "language": "python",
   "name": "python3"
  },
  "language_info": {
   "codemirror_mode": {
    "name": "ipython",
    "version": 3
   },
   "file_extension": ".py",
   "mimetype": "text/x-python",
   "name": "python",
   "nbconvert_exporter": "python",
   "pygments_lexer": "ipython3",
   "version": "3.9.13"
  }
 },
 "nbformat": 4,
 "nbformat_minor": 2
}
