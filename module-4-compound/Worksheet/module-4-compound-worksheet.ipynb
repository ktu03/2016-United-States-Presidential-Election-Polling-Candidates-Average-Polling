{
 "cells": [
  {
   "cell_type": "code",
   "execution_count": 66,
   "metadata": {
    "editable": false
   },
   "outputs": [],
   "source": [
    "from cs103 import *\n",
    "from typing import NamedTuple, List, Optional\n",
    "from enum import Enum"
   ]
  },
  {
   "cell_type": "markdown",
   "metadata": {
    "editable": false
   },
   "source": [
    "## Compound Worksheet\n",
    "\n",
    "## Part One\n",
    "\n",
    "### Problem 1\n",
    "Suppose you want to design a data definition to represent a university course. A course has a name, a course number (between 0 and 699), a department, and a maximum number of students.\n",
    "\n",
    "**a.** Which of the following is the correct data type definition for Course?\n",
    "\n",
    "```python\n",
    "i.  Course = ['name', 'num', 'dept', 'max_stu']\n",
    "\n",
    "ii. Course = NamedTuple('Course', [('name', str),\n",
    "                                   ('num', int), # in range[0,699]\n",
    "                                   ('dept', str), # 4 uppercase letters\n",
    "                                   ('max_stu', int)]) # in range [0, …)\n",
    "\n",
    "iii. Course = NamedTuple('Course', ['name', 'num', 'dept', 'maxstu'])\n",
    "\n",
    "iv. Course = Enum('Course', ['name', 'num', 'dept', 'maxstu'])\n",
    "```\n",
    "\n",
    "The correct data type definition is:"
   ]
  },
  {
   "cell_type": "code",
   "execution_count": 67,
   "metadata": {},
   "outputs": [],
   "source": [
    "# This cell can be run \n",
    "# your solution goes here\n",
    "\n",
    "Course = NamedTuple('Course', [('name', str),\n",
    "                                   ('num', int), # in range[0,699]\n",
    "                                   ('dept', str), # 4 uppercase letters\n",
    "                                   ('max_stu', int)]) # in range [0, …)\n",
    "\n"
   ]
  },
  {
   "cell_type": "markdown",
   "metadata": {
    "editable": false
   },
   "source": [
    "**b.** Select all of the following that are valid examples for **Course**:\n",
    "\n",
    "    C1 = ['Algebra', 221, 'MATH', 200]\n",
    "    C2 = Course('Shakespeare', 520, 'ENGL', 45)\n",
    "    C3 = Course('Personality Psychology', 900, 'PSYC', 10)\n",
    "    C4 = Course('Algorithms', 221, 'CPSC', 300)\n",
    "    C5 = Course('Finance', '331', 'COMM', 100)\n",
    "    C6 = Course.name"
   ]
  },
  {
   "cell_type": "markdown",
   "metadata": {},
   "source": [
    "Your solution goes here\n",
    "C2, C3, C4"
   ]
  },
  {
   "cell_type": "markdown",
   "metadata": {
    "editable": false
   },
   "source": [
    "**c.** Write a clear and concise interpretation for **Course**."
   ]
  },
  {
   "cell_type": "code",
   "execution_count": 68,
   "metadata": {},
   "outputs": [],
   "source": [
    "# This cell can be run \n",
    "# your solution goes here\n",
    "\n",
    "#interp. a university course \n",
    "#name is the name of the course, num is the course number, dept is the course department, and max_stu is the maximum number of students in the course"
   ]
  },
  {
   "cell_type": "markdown",
   "metadata": {
    "editable": false
   },
   "source": [
    "**d.** What is the template for Course?"
   ]
  },
  {
   "cell_type": "code",
   "execution_count": 69,
   "metadata": {},
   "outputs": [],
   "source": [
    "# This cell can be run \n",
    "# your solution goes here\n",
    "\n",
    "@typecheck\n",
    "#template based on compound\n",
    "def fn_for_course(c: Course) -> ...:\n",
    "    return ...(c)"
   ]
  },
  {
   "cell_type": "markdown",
   "metadata": {
    "editable": false
   },
   "source": [
    "**e.** What template rules did you follow when you generated the template for **Course**?"
   ]
  },
  {
   "cell_type": "markdown",
   "metadata": {},
   "source": [
    "*The rules for Compound data*"
   ]
  },
  {
   "cell_type": "markdown",
   "metadata": {
    "editable": false
   },
   "source": [
    "### Problem 2\n",
    "Complete the design of a function that takes in a **Course** and determines whether it is an undergraduate course (has a course number <= 499). Be sure to use the HtDF recipe.\n",
    "```python\n",
    "@typecheck\n",
    "def is_undergraduate(c: Course) -> bool:\n",
    "\"\"\"\n",
    "\"\"\"\n",
    "return False #stub\n",
    "```"
   ]
  },
  {
   "cell_type": "code",
   "execution_count": 70,
   "metadata": {},
   "outputs": [
    {
     "name": "stdout",
     "output_type": "stream",
     "text": [
      "\u001b[92m2 of 2 tests passed\u001b[0m\n"
     ]
    }
   ],
   "source": [
    "# Note: Make sure that the  Course data definition from Q1 runs \n",
    "# with no errors before you design any function. You will need to run\n",
    "# the data definition from Q1 before working on this question; \n",
    "# otherwise, you will receive errors.\n",
    "\n",
    "# your solution goes here\n",
    "\n",
    "@typecheck\n",
    "def is_undergraduate(c: Course) -> bool:\n",
    "    \"\"\"returns true if the course is an undergraduate course and false if it is not\"\"\"\n",
    "    #return False #stub\n",
    "    #template from Course\n",
    "    return c.num<=499\n",
    "\n",
    "start_testing()\n",
    "expect(is_undergraduate(Course(\"Chemistry\", 121, \"CHEM\", 200)), True)\n",
    "expect(is_undergraduate(Course(\"Math\", 500, \"MATH\", 450)), False)\n",
    "summary()\n"
   ]
  },
  {
   "cell_type": "markdown",
   "metadata": {
    "editable": false
   },
   "source": [
    "### Problem 3\n",
    "What would need to change if we decided to represent the 'course code' (like 'CPSC 103') as a single string rather than a department and number? Do you think this is a better or worse choice? Why?\n"
   ]
  },
  {
   "cell_type": "markdown",
   "metadata": {},
   "source": [
    "    We would merge two fields into one (department and number into \"Course Code\"). This is not a better idea as it will be harder to determine if a course is undergraduate or not. It will also be harder to determine the department itself or the number itself"
   ]
  },
  {
   "cell_type": "markdown",
   "metadata": {
    "editable": false
   },
   "source": [
    "### Problem 4\n",
    "Some courses at UBC have a single letter after their number, like 'BIOL 448G', although most don't.\n",
    "Suggest two approaches to changing the Course data definition to allow this and explain which one you think is better."
   ]
  },
  {
   "cell_type": "code",
   "execution_count": 71,
   "metadata": {},
   "outputs": [],
   "source": [
    "# This cell can be run \n",
    "# your solution goes here\n",
    "Course = NamedTuple('Course', [('name', str), ('num', int), ('letter', str),('dept', str),('max_stu', int)])\n",
    "Course = NamedTuple('Course', [('name', str), ('num_with_letter', int),('dept', str),('max_stu', int)])"
   ]
  },
  {
   "cell_type": "markdown",
   "metadata": {},
   "source": [
    "One approach is to include letter as a field. Problems will arrise when there are no letters in the course, which makes no possible value for that field. The better option is to include the letter in the number field so that the last character is evaluated and it will be identified if the course includes a letter after the number."
   ]
  },
  {
   "cell_type": "markdown",
   "metadata": {
    "editable": false
   },
   "source": [
    "## Part Two\n",
    "\n",
    "### Problem 5\n",
    "For each of the kinds of data described, select the type that would best represent that data. If you choose compound, specify how many fields you will need.\n",
    "\n",
    "**a.** A song’s billboard ranking which can be 1-10 or None:\n",
    "\n",
    "    Enumeration      Compound         Optional        Simple Atomic"
   ]
  },
  {
   "cell_type": "markdown",
   "metadata": {},
   "source": [
    "The best Data Type is `[ Optional]`\n"
   ]
  },
  {
   "cell_type": "markdown",
   "metadata": {
    "editable": false
   },
   "source": [
    "**b.** An employee with a name, employee number, and department:\n",
    "\n",
    "    Enumeration      Compound         Optional        Simple Atomic"
   ]
  },
  {
   "cell_type": "markdown",
   "metadata": {},
   "source": [
    "The best Data Type is `[ Compound]`"
   ]
  },
  {
   "cell_type": "markdown",
   "metadata": {
    "editable": false
   },
   "source": [
    "**c.** The email address of an employee:\n",
    "\n",
    "    Enumeration      Compound         Optional        Simple Atomic"
   ]
  },
  {
   "cell_type": "markdown",
   "metadata": {},
   "source": [
    "The best Data Type is `[ Simple Atomic]`"
   ]
  },
  {
   "cell_type": "markdown",
   "metadata": {
    "editable": false
   },
   "source": [
    "**d.** The name, artist, album, and release date of a song:\n",
    "\n",
    "    Enumeration      Compound         Optional        Simple Atomic"
   ]
  },
  {
   "cell_type": "markdown",
   "metadata": {},
   "source": [
    "The best Data Type is `[ Compound]`"
   ]
  },
  {
   "cell_type": "markdown",
   "metadata": {
    "editable": false
   },
   "source": [
    "**e.** The options for someone’s gender on a New Zealand passport (M, F, and X):\n",
    "\n",
    "    Enumeration      Compound         Optional        Simple Atomic"
   ]
  },
  {
   "cell_type": "markdown",
   "metadata": {},
   "source": [
    "The best Data Type is `[ Enumeration]`"
   ]
  },
  {
   "cell_type": "markdown",
   "metadata": {
    "editable": false
   },
   "source": [
    "### Problem 6\n",
    "Design a function that takes a **Course** and a number of students currently enrolled and determines if there are still spaces available. You can assume that the number of students currently enrolled is less than or equal to the maximum number of students for the course. Be sure to use the HtDF recipe."
   ]
  },
  {
   "cell_type": "code",
   "execution_count": 72,
   "metadata": {},
   "outputs": [
    {
     "name": "stdout",
     "output_type": "stream",
     "text": [
      "\u001b[92m2 of 2 tests passed\u001b[0m\n"
     ]
    }
   ],
   "source": [
    "# This cell can be run \n",
    "# your solution goes here\n",
    "@typecheck\n",
    "def available_spaces(c: Course, numStudents: int) -> bool:\n",
    "    \"\"\"returns true if there are still spaces remaining in the course and false if there are none remaining.\"\"\"\n",
    "    #return True #stub\n",
    "    #template from Course\n",
    "    return numStudents<c.max_stu\n",
    "\n",
    "start_testing()\n",
    "expect(available_spaces(Course(\"Chemistry\", 121, \"CHEM\", 200),140), True)\n",
    "expect(available_spaces(Course(\"Chemistry\", 121, \"CHEM\", 200),200), False)\n",
    "summary()"
   ]
  },
  {
   "cell_type": "markdown",
   "metadata": {
    "editable": false
   },
   "source": [
    "### Problem 7\n",
    "We assume that the number of students enrolled is no larger than the maximum number of students in the class. Python has a built-in statement called an `assert` that both documents these assumptions and checks them. `assert name == \"Kofi\"` would check that the variable name had the value `\"Kofi\"` (and would fail with an error if it did not have that value). Design an `assert` you could put at the start of your function (just after your purpose) to document and check the assumption in this function."
   ]
  },
  {
   "cell_type": "markdown",
   "metadata": {},
   "source": [
    "*your solution goes here*\n",
    "assert numStudents<=c.max_stu                         "
   ]
  },
  {
   "cell_type": "markdown",
   "metadata": {
    "editable": false
   },
   "source": [
    "### Problem 8\n",
    "Design a data definition to represent a menu item which has a price (in whole dollars) and a description (e.g. “Latte”)."
   ]
  },
  {
   "cell_type": "code",
   "execution_count": 76,
   "metadata": {},
   "outputs": [],
   "source": [
    "# This cell can be run \n",
    "# your solution goes here\n",
    "Item = NamedTuple('Item',[('price', int), ('description',str)])"
   ]
  },
  {
   "cell_type": "markdown",
   "metadata": {
    "editable": false
   },
   "source": [
    "### Problem 9\n",
    "Which course activities have been the most helpful for your learning? Why?"
   ]
  },
  {
   "cell_type": "markdown",
   "metadata": {},
   "source": [
    "*Tutorials and worksheets because they give a lot of practice on the content covered in each module*"
   ]
  },
  {
   "cell_type": "markdown",
   "metadata": {
    "editable": false
   },
   "source": [
    "### Problem 10\n",
    "Which course activities have been the least helpful for your learning? Why?"
   ]
  },
  {
   "cell_type": "markdown",
   "metadata": {},
   "source": [
    "*Pre-lecture readings as it has been difficult to try out new concepts without it being introduced in the lecture first.*"
   ]
  },
  {
   "cell_type": "markdown",
   "metadata": {
    "editable": false
   },
   "source": [
    "### Problem 11\n",
    "If you’ve tried any new learning or study strategies in this class, what have you tried and to what degree is it working for you?"
   ]
  },
  {
   "cell_type": "markdown",
   "metadata": {},
   "source": [
    "*I have tried looking over the syntax and formatting for designing functions a couple times a day so I am ready to write code on paper. So far, it has been working well as the need to constantly refer back to notes is not as significant anymore*"
   ]
  },
  {
   "cell_type": "markdown",
   "metadata": {
    "editable": false
   },
   "source": [
    "## Optional Problem\n",
    "\n",
    "### Problem 12\n",
    "Complete the design of a function that returns the header for a calendar entry for a course. e.g.,'CPSC 103: Introduction to Systematic Program Design'. (Note that there's a function str—the same name as the type for strings—to convert values of many different types into strings.)\n",
    "```python\n",
    "@typecheck\n",
    "def calendar_entry(c: Course) -> str:\n",
    "\"\"\"\n",
    "\"\"\"\n",
    "return \"\" #stub\n",
    "```"
   ]
  },
  {
   "cell_type": "code",
   "execution_count": 74,
   "metadata": {},
   "outputs": [],
   "source": [
    "# This cell can be run \n",
    "# your solution goes here"
   ]
  },
  {
   "cell_type": "markdown",
   "metadata": {},
   "source": [
    "If problem 12 is generating an error similar to \"Missing one required positional argument: max_stu”, make sure the data definition in problem 4 has been commented out. Then, try submitting your work again."
   ]
  },
  {
   "cell_type": "code",
   "execution_count": 75,
   "metadata": {
    "editable": false
   },
   "outputs": [
    {
     "data": {
      "application/vnd.jupyter.widget-view+json": {
       "model_id": "fab12c56396a4ce39e99fbef19eca2b5",
       "version_major": 2,
       "version_minor": 0
      },
      "text/plain": [
       "Valid(value=True, description='Token')"
      ]
     },
     "metadata": {},
     "output_type": "display_data"
    },
    {
     "data": {
      "application/vnd.jupyter.widget-view+json": {
       "model_id": "7a37796007d748e481ca89a487195565",
       "version_major": 2,
       "version_minor": 0
      },
      "text/plain": [
       "SelectMultiple(description='Files', index=(0,), layout=Layout(height='100%', width='50%'), options=('module-4-…"
      ]
     },
     "metadata": {},
     "output_type": "display_data"
    },
    {
     "data": {
      "application/vnd.jupyter.widget-view+json": {
       "model_id": "c27b759e346547b8bf8bbb20b3c9f9e4",
       "version_major": 2,
       "version_minor": 0
      },
      "text/plain": [
       "Button(description='submit', icon='check', style=ButtonStyle(), tooltip='submit')"
      ]
     },
     "metadata": {},
     "output_type": "display_data"
    }
   ],
   "source": [
    "# NOTE: You should not be able to edit this cell. Just run it to start the process of submiting your code.\n",
    "from cs103 import submit\n",
    "\n",
    "COURSE = 123409\n",
    "ASSIGNMENT = 1615219\n",
    "\n",
    "submit(COURSE, ASSIGNMENT)\n",
    "\n",
    "# If something has gone wrong and you still are not able to submit by running the code above, SUBMIT ANYWAY \n",
    "# by downloading your files and uploading them to Canvas. You can learn how on the page \n",
    "# \"How to submit your Jupyter notebook\" on our Canvas site."
   ]
  },
  {
   "cell_type": "code",
   "execution_count": null,
   "metadata": {},
   "outputs": [],
   "source": []
  }
 ],
 "metadata": {
  "celltoolbar": "Edit Metadata",
  "kernelspec": {
   "display_name": "Python 3 (ipykernel)",
   "language": "python",
   "name": "python3"
  },
  "language_info": {
   "codemirror_mode": {
    "name": "ipython",
    "version": 3
   },
   "file_extension": ".py",
   "mimetype": "text/x-python",
   "name": "python",
   "nbconvert_exporter": "python",
   "pygments_lexer": "ipython3",
   "version": "3.11.4"
  }
 },
 "nbformat": 4,
 "nbformat_minor": 4
}
