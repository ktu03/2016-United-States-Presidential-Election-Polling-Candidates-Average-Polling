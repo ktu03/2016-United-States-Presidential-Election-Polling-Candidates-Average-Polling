{
 "cells": [
  {
   "cell_type": "code",
   "execution_count": 8,
   "metadata": {
    "editable": false
   },
   "outputs": [],
   "source": [
    "from cs103 import *\n",
    "from typing import NamedTuple, List, Optional\n",
    "from enum import Enum"
   ]
  },
  {
   "cell_type": "markdown",
   "metadata": {
    "editable": false
   },
   "source": [
    "## Compound Worksheet\n",
    "\n",
    "## Part One\n",
    "\n",
    "### Problem 1\n",
    "Suppose you want to design a data definition to represent a university course. A course has a name, a course number (between 0 and 699), a department, and a maximum number of students.\n",
    "\n",
    "**a.** Which of the following is the correct data type definition for Course?\n",
    "\n",
    "```python\n",
    "i.  Course = ['name', 'num', 'dept', 'max_stu']\n",
    "\n",
    "ii. Course = NamedTuple('Course', [('name', str),\n",
    "                                   ('num', int), # in range[0,699]\n",
    "                                   ('dept', str), # 4 uppercase letters\n",
    "                                   ('max_stu', int)]) # in range [0, …)\n",
    "\n",
    "iii. Course = NamedTuple('Course', ['name', 'num', 'dept', 'maxstu'])\n",
    "\n",
    "iv. Course = Enum('Course', ['name', 'num', 'dept', 'maxstu'])\n",
    "```\n",
    "\n",
    "The correct data type definition is:"
   ]
  },
  {
   "cell_type": "code",
   "execution_count": 9,
   "metadata": {},
   "outputs": [],
   "source": [
    "# This cell can be run \n",
    "# your solution goes here\n",
    "Course = NamedTuple('Course', [('name', str),\n",
    "                                   ('num', int), # in range[0,699]\n",
    "                                   ('dept', str), # 4 uppercase letters\n",
    "                                   ('max_stu', int)]) # in range [0, …)"
   ]
  },
  {
   "cell_type": "markdown",
   "metadata": {
    "editable": false
   },
   "source": [
    "**b.** Select all of the following that are valid examples for **Course**:\n",
    "\n",
    "    C1 = ['Algebra', 221, 'MATH', 200]\n",
    "    C2 = Course('Shakespeare', 520, 'ENGL', 45)\n",
    "    C3 = Course('Personality Psychology', 900, 'PSYC', 10)\n",
    "    C4 = Course('Algorithms', 221, 'CPSC', 300)\n",
    "    C5 = Course('Finance', '331', 'COMM', 100)\n",
    "    C6 = Course.name"
   ]
  },
  {
   "cell_type": "markdown",
   "metadata": {},
   "source": [
    "Your solution goes here\n",
    "C2, C4"
   ]
  },
  {
   "cell_type": "markdown",
   "metadata": {
    "editable": false
   },
   "source": [
    "**c.** Write a clear and concise interpretation for **Course**."
   ]
  },
  {
   "cell_type": "code",
   "execution_count": 10,
   "metadata": {},
   "outputs": [],
   "source": [
    "# This cell can be run \n",
    "# your solution goes here\n",
    "\n",
    "#interp. a university course \n",
    "#name is the name of the course, num is the course number, dept is the course department, and max_stu is the maximum number of students in the course"
   ]
  },
  {
   "cell_type": "markdown",
   "metadata": {
    "editable": false
   },
   "source": [
    "**d.** What is the template for Course?"
   ]
  },
  {
   "cell_type": "code",
   "execution_count": 11,
   "metadata": {},
   "outputs": [],
   "source": [
    "# This cell can be run \n",
    "# your solution goes here\n",
    "\n",
    "@typecheck\n",
    "#template based on compound\n",
    "def fn_for_course(c: Course) -> ...:\n",
    "    return ...(c)"
   ]
  },
  {
   "cell_type": "markdown",
   "metadata": {
    "editable": false
   },
   "source": [
    "**e.** What template rules did you follow when you generated the template for **Course**?"
   ]
  },
  {
   "cell_type": "markdown",
   "metadata": {},
   "source": [
    "*The rules for Compound data*"
   ]
  },
  {
   "cell_type": "markdown",
   "metadata": {
    "editable": false
   },
   "source": [
    "### Problem 2\n",
    "Complete the design of a function that takes in a **Course** and determines whether it is an undergraduate course (has a course number <= 499). Be sure to use the HtDF recipe.\n",
    "```python\n",
    "@typecheck\n",
    "def is_undergraduate(c: Course) -> bool:\n",
    "\"\"\"\n",
    "\"\"\"\n",
    "return False #stub\n",
    "```"
   ]
  },
  {
   "cell_type": "code",
   "execution_count": 20,
   "metadata": {},
   "outputs": [
    {
     "ename": "AttributeError",
     "evalue": "'Course' object has no attribute 'num'",
     "output_type": "error",
     "traceback": [
      "\u001b[0;31m---------------------------------------------------------------------------\u001b[0m",
      "\u001b[0;31mAttributeError\u001b[0m                            Traceback (most recent call last)",
      "Cell \u001b[0;32mIn[20], line 16\u001b[0m\n\u001b[1;32m     13\u001b[0m     \u001b[38;5;28;01mreturn\u001b[39;00m c\u001b[38;5;241m.\u001b[39mnum\u001b[38;5;241m<\u001b[39m\u001b[38;5;241m=\u001b[39m\u001b[38;5;241m499\u001b[39m\n\u001b[1;32m     15\u001b[0m start_testing()\n\u001b[0;32m---> 16\u001b[0m expect(\u001b[43mis_undergraduate\u001b[49m\u001b[43m(\u001b[49m\u001b[43mCourse\u001b[49m\u001b[43m(\u001b[49m\u001b[38;5;124;43m\"\u001b[39;49m\u001b[38;5;124;43mChemistry\u001b[39;49m\u001b[38;5;124;43m\"\u001b[39;49m\u001b[43m,\u001b[49m\u001b[43m \u001b[49m\u001b[38;5;241;43m121\u001b[39;49m\u001b[43m,\u001b[49m\u001b[43m \u001b[49m\u001b[38;5;124;43m\"\u001b[39;49m\u001b[38;5;124;43mCHEM\u001b[39;49m\u001b[38;5;124;43m\"\u001b[39;49m\u001b[43m,\u001b[49m\u001b[43m \u001b[49m\u001b[38;5;241;43m200\u001b[39;49m\u001b[43m)\u001b[49m\u001b[43m)\u001b[49m, \u001b[38;5;28;01mTrue\u001b[39;00m)\n\u001b[1;32m     17\u001b[0m expect(is_undergraduate(Course(\u001b[38;5;124m\"\u001b[39m\u001b[38;5;124mMath\u001b[39m\u001b[38;5;124m\"\u001b[39m, \u001b[38;5;241m500\u001b[39m, \u001b[38;5;124m\"\u001b[39m\u001b[38;5;124mMATH\u001b[39m\u001b[38;5;124m\"\u001b[39m, \u001b[38;5;241m450\u001b[39m), \u001b[38;5;241m150\u001b[39m), \u001b[38;5;28;01mFalse\u001b[39;00m)\n\u001b[1;32m     18\u001b[0m summary()\n",
      "File \u001b[0;32m/opt/conda/lib/python3.11/site-packages/cs103/typecheck/typecheck.py:135\u001b[0m, in \u001b[0;36mtypecheck.<locals>.wrapper\u001b[0;34m(*args)\u001b[0m\n\u001b[1;32m    131\u001b[0m     \u001b[38;5;28;01melse\u001b[39;00m:\n\u001b[1;32m    132\u001b[0m         \u001b[38;5;66;03m# Type missing for a parameter.\u001b[39;00m\n\u001b[1;32m    133\u001b[0m         \u001b[38;5;28;01mraise\u001b[39;00m \u001b[38;5;167;01mTypeError\u001b[39;00m(\u001b[38;5;124m\"\u001b[39m\u001b[38;5;124mThe function \u001b[39m\u001b[38;5;130;01m\\x1b\u001b[39;00m\u001b[38;5;124m[34m\u001b[39m\u001b[38;5;132;01m%s\u001b[39;00m\u001b[38;5;130;01m\\x1b\u001b[39;00m\u001b[38;5;124m[0m is missing a type for the parameter \u001b[39m\u001b[38;5;132;01m%s\u001b[39;00m\u001b[38;5;124m.\u001b[39m\u001b[38;5;124m\"\u001b[39m \u001b[38;5;241m%\u001b[39m (fn\u001b[38;5;241m.\u001b[39m\u001b[38;5;18m__name__\u001b[39m, name))\n\u001b[0;32m--> 135\u001b[0m retval \u001b[38;5;241m=\u001b[39m \u001b[43mfn\u001b[49m\u001b[43m(\u001b[49m\u001b[38;5;241;43m*\u001b[39;49m\u001b[43margs\u001b[49m\u001b[43m)\u001b[49m\n\u001b[1;32m    136\u001b[0m \u001b[38;5;28;01mif\u001b[39;00m \u001b[38;5;124m'\u001b[39m\u001b[38;5;124mreturn\u001b[39m\u001b[38;5;124m'\u001b[39m \u001b[38;5;129;01min\u001b[39;00m types:\n\u001b[1;32m    137\u001b[0m     subtype(\u001b[38;5;124m\"\u001b[39m\u001b[38;5;124mthe returned value\u001b[39m\u001b[38;5;124m\"\u001b[39m, retval, types[\u001b[38;5;124m'\u001b[39m\u001b[38;5;124mreturn\u001b[39m\u001b[38;5;124m'\u001b[39m], fn, \u001b[38;5;28;01mTrue\u001b[39;00m)\n",
      "Cell \u001b[0;32mIn[20], line 13\u001b[0m, in \u001b[0;36mis_undergraduate\u001b[0;34m(c)\u001b[0m\n\u001b[1;32m     10\u001b[0m \u001b[38;5;250m\u001b[39m\u001b[38;5;124;03m\"\"\"returns true if the course is an undergraduate course and false if it is not\"\"\"\u001b[39;00m\n\u001b[1;32m     11\u001b[0m \u001b[38;5;66;03m#return False #stub\u001b[39;00m\n\u001b[1;32m     12\u001b[0m \u001b[38;5;66;03m#template from Course\u001b[39;00m\n\u001b[0;32m---> 13\u001b[0m \u001b[38;5;28;01mreturn\u001b[39;00m \u001b[43mc\u001b[49m\u001b[38;5;241;43m.\u001b[39;49m\u001b[43mnum\u001b[49m\u001b[38;5;241m<\u001b[39m\u001b[38;5;241m=\u001b[39m\u001b[38;5;241m499\u001b[39m\n",
      "\u001b[0;31mAttributeError\u001b[0m: 'Course' object has no attribute 'num'"
     ]
    }
   ],
   "source": [
    "# Note: Make sure that the  Course data definition from Q1 runs \n",
    "# with no errors before you design any function. You will need to run\n",
    "# the data definition from Q1 before working on this question; \n",
    "# otherwise, you will receive errors.\n",
    "\n",
    "# your solution goes here\n",
    "\n",
    "@typecheck\n",
    "def is_undergraduate(c: Course) -> bool:\n",
    "    \"\"\"returns true if the course is an undergraduate course and false if it is not\"\"\"\n",
    "    #return False #stub\n",
    "    #template from Course\n",
    "    return c.num<=499\n",
    "\n",
    "start_testing()\n",
    "expect(is_undergraduate(Course(\"Chemistry\", 121, \"CHEM\", 200)), True)\n",
    "expect(is_undergraduate(Course(\"Math\", 500, \"MATH\", 450)), False)\n",
    "summary()\n"
   ]
  },
  {
   "cell_type": "markdown",
   "metadata": {
    "editable": false
   },
   "source": [
    "### Problem 3\n",
    "What would need to change if we decided to represent the 'course code' (like 'CPSC 103') as a single string rather than a department and number? Do you think this is a better or worse choice? Why?\n"
   ]
  },
  {
   "cell_type": "markdown",
   "metadata": {},
   "source": [
    "    We would merge two fields into one (department and number into \"Course Code\"). This is not a better idea as it will be harder to determine if a course is undergraduate or not. It will also be harder to determine the department itself or the number itself"
   ]
  },
  {
   "cell_type": "markdown",
   "metadata": {
    "editable": false
   },
   "source": [
    "### Problem 4\n",
    "Some courses at UBC have a single letter after their number, like 'BIOL 448G', although most don't.\n",
    "Suggest two approaches to changing the Course data definition to allow this and explain which one you think is better."
   ]
  },
  {
   "cell_type": "code",
   "execution_count": 13,
   "metadata": {},
   "outputs": [],
   "source": [
    "# This cell can be run \n",
    "# your solution goes here\n",
    "Course = NamedTuple('Course', [('name', str), ('num', int), ('letter', str),('dept', str),('max_stu', int)])\n",
    "Course = NamedTuple('Course', [('name', str), ('num_with_letter', int),('dept', str),('max_stu', int)])"
   ]
  },
  {
   "cell_type": "markdown",
   "metadata": {},
   "source": [
    "One approach is to include letter as a field. Problems will arrise when there are no letters in the course, which makes no possible value for that field. The better option is to include the letter in the number field so that the last character is evaluated and it will be identified if the course includes a letter after the number."
   ]
  },
  {
   "cell_type": "markdown",
   "metadata": {
    "editable": false
   },
   "source": [
    "## Part Two\n",
    "\n",
    "### Problem 5\n",
    "For each of the kinds of data described, select the type that would best represent that data. If you choose compound, specify how many fields you will need.\n",
    "\n",
    "**a.** A song’s billboard ranking which can be 1-10 or None:\n",
    "\n",
    "    Enumeration      Compound         Optional        Simple Atomic"
   ]
  },
  {
   "cell_type": "markdown",
   "metadata": {},
   "source": [
    "The best Data Type is `[ Optional]`\n"
   ]
  },
  {
   "cell_type": "markdown",
   "metadata": {
    "editable": false
   },
   "source": [
    "**b.** An employee with a name, employee number, and department:\n",
    "\n",
    "    Enumeration      Compound         Optional        Simple Atomic"
   ]
  },
  {
   "cell_type": "markdown",
   "metadata": {},
   "source": [
    "The best Data Type is `[ Compound]`"
   ]
  },
  {
   "cell_type": "markdown",
   "metadata": {
    "editable": false
   },
   "source": [
    "**c.** The email address of an employee:\n",
    "\n",
    "    Enumeration      Compound         Optional        Simple Atomic"
   ]
  },
  {
   "cell_type": "markdown",
   "metadata": {},
   "source": [
    "The best Data Type is `[ Simple Atomic]`"
   ]
  },
  {
   "cell_type": "markdown",
   "metadata": {
    "editable": false
   },
   "source": [
    "**d.** The name, artist, album, and release date of a song:\n",
    "\n",
    "    Enumeration      Compound         Optional        Simple Atomic"
   ]
  },
  {
   "cell_type": "markdown",
   "metadata": {},
   "source": [
    "The best Data Type is `[ Compound]`"
   ]
  },
  {
   "cell_type": "markdown",
   "metadata": {
    "editable": false
   },
   "source": [
    "**e.** The options for someone’s gender on a New Zealand passport (M, F, and X):\n",
    "\n",
    "    Enumeration      Compound         Optional        Simple Atomic"
   ]
  },
  {
   "cell_type": "markdown",
   "metadata": {},
   "source": [
    "The best Data Type is `[ Enumeration]`"
   ]
  },
  {
   "cell_type": "markdown",
   "metadata": {
    "editable": false
   },
   "source": [
    "### Problem 6\n",
    "Design a function that takes a **Course** and a number of students currently enrolled and determines if there are still spaces available. You can assume that the number of students currently enrolled is less than or equal to the maximum number of students for the course. Be sure to use the HtDF recipe."
   ]
  },
  {
   "cell_type": "code",
   "execution_count": 22,
   "metadata": {},
   "outputs": [
    {
     "name": "stdout",
     "output_type": "stream",
     "text": [
      "\u001b[31m\n",
      "---------------------------------------------------------------------------\n",
      "TypecheckError\n",
      "\n",
      "while checking parameter c: \u001b[32m('Chemistry', 121, 'CHEM', 200)\u001b[0m is a \u001b[36mtuple\u001b[0m, not a \u001b[36mCourse\u001b[0m\n",
      "\n",
      "  File \"/tmp/ipykernel_81/96649940.py\", line 9, in <module>\n",
      "    expect(available_spaces((\"Chemistry\", 121, \"CHEM\", 200),140), True)\n",
      "           ^^^^^^^^^^^^^^^^^^^^^^^^^^^^^^^^^^^^^^^^^^^^^^^^^^^^^\n",
      "\n",
      "as expected in\n",
      "\u001b[34m\n",
      "  @typecheck\n",
      "  def available_spaces(c: Course, numStudents: int) -> ...:\n",
      "      \"\"\"returns true if there are still spaces remaining in the course and false if there are none remaining.\"\"\"\n",
      "      return True #stub\n",
      "\n",
      "\u001b[0m\n",
      "Unexpected exception formatting exception. Falling back to standard exception\n"
     ]
    },
    {
     "name": "stderr",
     "output_type": "stream",
     "text": [
      "Traceback (most recent call last):\n",
      "  File \"/opt/conda/lib/python3.11/site-packages/IPython/core/interactiveshell.py\", line 3508, in run_code\n",
      "    exec(code_obj, self.user_global_ns, self.user_ns)\n",
      "  File \"/tmp/ipykernel_81/96649940.py\", line 9, in <module>\n",
      "    expect(available_spaces((\"Chemistry\", 121, \"CHEM\", 200),140), True)\n",
      "           ^^^^^^^^^^^^^^^^^^^^^^^^^^^^^^^^^^^^^^^^^^^^^^^^^^^^^\n",
      "  File \"/opt/conda/lib/python3.11/site-packages/cs103/typecheck/typecheck.py\", line 130, in wrapper\n",
      "    subtype(\"parameter %s\" % name, val, types[name], fn, True)\n",
      "  File \"/opt/conda/lib/python3.11/site-packages/cs103/typecheck/typecheck.py\", line 104, in subtype\n",
      "    raise error_type(va,name,astr(tb), fn,value_description)\n",
      "cs103.typecheck.typecheck.TypecheckError: while checking parameter c: \u001b[32m('Chemistry', 121, 'CHEM', 200)\u001b[0m is a \u001b[36mtuple\u001b[0m, not a \u001b[36mCourse\u001b[0m\n",
      "\n",
      "During handling of the above exception, another exception occurred:\n",
      "\n",
      "Traceback (most recent call last):\n",
      "  File \"/opt/conda/lib/python3.11/site-packages/IPython/core/interactiveshell.py\", line 2103, in showtraceback\n",
      "    stb = value._render_traceback_()\n",
      "          ^^^^^^^^^^^^^^^^^^^^^^^^^^\n",
      "  File \"/opt/conda/lib/python3.11/site-packages/cs103/typecheck/typecheck.py\", line 37, in _render_traceback_\n",
      "    super()._render_traceback_()\n",
      "    ^^^^^^^^^^^^^^^^^^^^^^^^^^\n",
      "AttributeError: 'super' object has no attribute '_render_traceback_'\n"
     ]
    }
   ],
   "source": [
    "# This cell can be run \n",
    "# your solution goes here\n",
    "@typecheck\n",
    "def available_spaces(c: Course, numStudents: int) -> ...:\n",
    "    \"\"\"returns true if there are still spaces remaining in the course and false if there are none remaining.\"\"\"\n",
    "    return True #stub\n",
    "\n",
    "start_testing()\n",
    "expect(available_spaces((\"Chemistry\", 121, \"CHEM\", 200),140), True)\n",
    "summary()"
   ]
  },
  {
   "cell_type": "markdown",
   "metadata": {
    "editable": false
   },
   "source": [
    "### Problem 7\n",
    "We assume that the number of students enrolled is no larger than the maximum number of students in the class. Python has a built-in statement called an `assert` that both documents these assumptions and checks them. `assert name == \"Kofi\"` would check that the variable name had the value `\"Kofi\"` (and would fail with an error if it did not have that value). Design an `assert` you could put at the start of your function (just after your purpose) to document and check the assumption in this function."
   ]
  },
  {
   "cell_type": "markdown",
   "metadata": {},
   "source": [
    "*your solution goes here*"
   ]
  },
  {
   "cell_type": "markdown",
   "metadata": {
    "editable": false
   },
   "source": [
    "### Problem 8\n",
    "Design a data definition to represent a menu item which has a price (in whole dollars) and a description (e.g. “Latte”)."
   ]
  },
  {
   "cell_type": "code",
   "execution_count": null,
   "metadata": {},
   "outputs": [],
   "source": [
    "# This cell can be run \n",
    "# your solution goes here"
   ]
  },
  {
   "cell_type": "markdown",
   "metadata": {
    "editable": false
   },
   "source": [
    "### Problem 9\n",
    "Which course activities have been the most helpful for your learning? Why?"
   ]
  },
  {
   "cell_type": "markdown",
   "metadata": {},
   "source": [
    "*your solution goes here*"
   ]
  },
  {
   "cell_type": "markdown",
   "metadata": {
    "editable": false
   },
   "source": [
    "### Problem 10\n",
    "Which course activities have been the least helpful for your learning? Why?"
   ]
  },
  {
   "cell_type": "markdown",
   "metadata": {},
   "source": [
    "*your solution goes here*"
   ]
  },
  {
   "cell_type": "markdown",
   "metadata": {
    "editable": false
   },
   "source": [
    "### Problem 11\n",
    "If you’ve tried any new learning or study strategies in this class, what have you tried and to what degree is it working for you?"
   ]
  },
  {
   "cell_type": "markdown",
   "metadata": {},
   "source": [
    "*your solution goes here*"
   ]
  },
  {
   "cell_type": "markdown",
   "metadata": {
    "editable": false
   },
   "source": [
    "## Optional Problem\n",
    "\n",
    "### Problem 12\n",
    "Complete the design of a function that returns the header for a calendar entry for a course. e.g.,'CPSC 103: Introduction to Systematic Program Design'. (Note that there's a function str—the same name as the type for strings—to convert values of many different types into strings.)\n",
    "```python\n",
    "@typecheck\n",
    "def calendar_entry(c: Course) -> str:\n",
    "\"\"\"\n",
    "\"\"\"\n",
    "return \"\" #stub\n",
    "```"
   ]
  },
  {
   "cell_type": "code",
   "execution_count": null,
   "metadata": {},
   "outputs": [],
   "source": [
    "# This cell can be run \n",
    "# your solution goes here"
   ]
  },
  {
   "cell_type": "markdown",
   "metadata": {},
   "source": [
    "If problem 12 is generating an error similar to \"Missing one required positional argument: max_stu”, make sure the data definition in problem 4 has been commented out. Then, try submitting your work again."
   ]
  },
  {
   "cell_type": "code",
   "execution_count": null,
   "metadata": {
    "editable": false
   },
   "outputs": [],
   "source": [
    "# NOTE: You should not be able to edit this cell. Just run it to start the process of submiting your code.\n",
    "from cs103 import submit\n",
    "\n",
    "COURSE = 123409\n",
    "ASSIGNMENT = 1615219\n",
    "\n",
    "submit(COURSE, ASSIGNMENT)\n",
    "\n",
    "# If something has gone wrong and you still are not able to submit by running the code above, SUBMIT ANYWAY \n",
    "# by downloading your files and uploading them to Canvas. You can learn how on the page \n",
    "# \"How to submit your Jupyter notebook\" on our Canvas site."
   ]
  }
 ],
 "metadata": {
  "celltoolbar": "Edit Metadata",
  "kernelspec": {
   "display_name": "Python 3 (ipykernel)",
   "language": "python",
   "name": "python3"
  },
  "language_info": {
   "codemirror_mode": {
    "name": "ipython",
    "version": 3
   },
   "file_extension": ".py",
   "mimetype": "text/x-python",
   "name": "python",
   "nbconvert_exporter": "python",
   "pygments_lexer": "ipython3",
   "version": "3.11.4"
  }
 },
 "nbformat": 4,
 "nbformat_minor": 4
}
