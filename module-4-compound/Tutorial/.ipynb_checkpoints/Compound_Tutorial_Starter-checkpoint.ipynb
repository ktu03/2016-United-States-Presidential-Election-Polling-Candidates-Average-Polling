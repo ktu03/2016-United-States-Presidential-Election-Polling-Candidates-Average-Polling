{
 "cells": [
  {
   "cell_type": "code",
   "execution_count": null,
   "metadata": {},
   "outputs": [],
   "source": [
    "from cs103 import *"
   ]
  },
  {
   "cell_type": "markdown",
   "metadata": {},
   "source": [
    "# Compound Tutorial Solution\n",
    "\n",
    "### Pre-Tutorial Work:\n",
    "\n",
    "Read the sample information below and start to think about how to best represent one of the rows as data (i.e. how to best represent the information for a *single year*).\n",
    "\n",
    "[Statistics Canada](https://www150.statcan.gc.ca/t1/tbl1/en/tv.action?pid=3210035801&pickMembers%5B0%5D=1.1&cubeTimeFrame.startYear=1990&cubeTimeFrame.endYear=1993&referencePeriods=19900101%2C19930101)<sup>*</sup> has some historical information about production of potatoes in Canada:\n",
    "\n",
    "|Year|Seeded Area (acres)|Harvested Area (acres)|Average yield (hundredweight per harvested acre)|Production of potatoes, total (hundredweight x 1,000)|Average farm price (dollars per hundredweight)|\n",
    "|---|---|---|---|---|---|\n",
    "|1990|\t300600|\t295800|\t223.9\t|66235\t|6.59|\n",
    "|1991|\t302500|\t293400|\t212.6   |62377\t|6.73|\n",
    "|1992|\t310600|\t305900|\t260.0\t|79528\t|5.28|\n",
    "|1993|\t315500|\t308600|\t236.9\t|73102\t|8.41|\n",
    "\n",
    "<sup>*</sup> Accessed 2023-01-12"
   ]
  },
  {
   "cell_type": "markdown",
   "metadata": {},
   "source": [
    "### Problem 1: \n",
    "\n",
    "Design a data definition called PotatoesHarvest to represent the information from one row (i.e., one year) shown above. \n",
    "\n",
    "Be sure to follow all steps of the HtDD recipe.\n",
    "\n",
    "(**Caution:** the word `yield` is a special word in Python, much like the words `return`, `def`, and `if`. So, you cannot name a variable or field `yield`. You can name it, for example `average_yield`, however!)"
   ]
  },
  {
   "cell_type": "code",
   "execution_count": null,
   "metadata": {},
   "outputs": [],
   "source": [
    "# your solution goes here"
   ]
  },
  {
   "cell_type": "markdown",
   "metadata": {},
   "source": [
    "### Problem 2:\n",
    "\n",
    "You want to determine how many additional million of dollars could have been earned in a given year if the harvested area was equal to the seeded area. Design a function that takes a PotatoesHarvest and returns this value (million of dollars) rounded to two decimal points. \n",
    "\n",
    "**Hint:** To calculate this value, first compute how many acres were seeded but not harvested, then multiply this value by the average acre yield and the price of a hundredweight of potatoes. Make sure that the units used match and your returned value is in millions of dollars.\n",
    "\n",
    "Be sure to follow all steps of the HtDF recipe.  "
   ]
  },
  {
   "cell_type": "code",
   "execution_count": null,
   "metadata": {},
   "outputs": [],
   "source": [
    "# your solution goes here"
   ]
  },
  {
   "cell_type": "markdown",
   "metadata": {},
   "source": [
    "### Problem 3:\n",
    "    \n",
    "Design a function that takes two PotatoesHarvest and returns True if the total production increased from the first to the second. Note that when a function takes in two compound parameters, the template should include all fields from both parameters.\n",
    " \n",
    "Be sure to follow all steps of the HtDF recipe."
   ]
  },
  {
   "cell_type": "code",
   "execution_count": null,
   "metadata": {},
   "outputs": [],
   "source": [
    "# your solution goes here"
   ]
  },
  {
   "cell_type": "markdown",
   "metadata": {},
   "source": [
    "## Submit your solution"
   ]
  },
  {
   "cell_type": "code",
   "execution_count": null,
   "metadata": {
    "deletable": false,
    "editable": false
   },
   "outputs": [],
   "source": [
    "# NOTE: You should not be able to edit this cell. Just run it to start the process of submiting your code.\n",
    "from cs103 import submit\n",
    "\n",
    "COURSE = 123409\n",
    "ASSIGNMENT = 1615216\n",
    "\n",
    "submit(COURSE, ASSIGNMENT)\n",
    "\n",
    "# If your submission fails, SUBMIT ANYWAY by downloading your files and uploading them \n",
    "# to Canvas. You can learn how on the page \"How to submit your Jupyter notebook\" on our \n",
    "# Canvas site."
   ]
  }
 ],
 "metadata": {
  "kernelspec": {
   "display_name": "Python 3 (ipykernel)",
   "language": "python",
   "name": "python3"
  },
  "language_info": {
   "codemirror_mode": {
    "name": "ipython",
    "version": 3
   },
   "file_extension": ".py",
   "mimetype": "text/x-python",
   "name": "python",
   "nbconvert_exporter": "python",
   "pygments_lexer": "ipython3",
   "version": "3.9.13"
  }
 },
 "nbformat": 4,
 "nbformat_minor": 2
}
