{
 "cells": [
  {
   "cell_type": "code",
   "execution_count": 14,
   "metadata": {},
   "outputs": [],
   "source": [
    "from cs103 import *"
   ]
  },
  {
   "cell_type": "markdown",
   "metadata": {},
   "source": [
    "# Compound Tutorial Starter\n",
    "\n",
    "### Pre-Tutorial Work:\n",
    "\n",
    "Read the sample information below and start to think about how to best represent one of the rows as data (i.e. how to best represent the information for a *single year*).\n",
    "\n",
    "[Statistics Canada](https://www150.statcan.gc.ca/t1/tbl1/en/tv.action?pid=3210035801&pickMembers%5B0%5D=1.1&cubeTimeFrame.startYear=1990&cubeTimeFrame.endYear=1993&referencePeriods=19900101%2C19930101)<sup>*</sup> has some historical information about production of potatoes in Canada:\n",
    "\n",
    "|Year|Seeded Area (acres)|Harvested Area (acres)|Average yield (hundredweight per harvested acre)|Production of potatoes, total (hundredweight x 1,000)|Average farm price (dollars per hundredweight)|\n",
    "|---|---|---|---|---|---|\n",
    "|1990|\t300600|\t295800|\t223.9\t|66235\t|6.59|\n",
    "|1991|\t302500|\t293400|\t212.6   |62377\t|6.73|\n",
    "|1992|\t310600|\t305900|\t260.0\t|79528\t|5.28|\n",
    "|1993|\t315500|\t308600|\t236.9\t|73102\t|8.41|\n",
    "\n",
    "<sup>*</sup> Accessed 2023-01-12"
   ]
  },
  {
   "cell_type": "markdown",
   "metadata": {},
   "source": [
    "### Problem 1: \n",
    "\n",
    "Design a data definition called PotatoesHarvest to represent the information from one row (i.e., one year) shown above. \n",
    "\n",
    "Be sure to follow all steps of the HtDD recipe.\n",
    "\n",
    "(**Caution:** the word `yield` is a special word in Python, much like the words `return`, `def`, and `if`. So, you cannot name a variable or field `yield`. You can name it, for example `average_yield`, however!)"
   ]
  },
  {
   "cell_type": "code",
   "execution_count": 15,
   "metadata": {},
   "outputs": [],
   "source": [
    "# your solution goes here\n",
    "from typing import NamedTuple\n",
    "\n",
    "PotatoesHarvest = NamedTuple('PotatoesHarvest',[('year', int),\n",
    "                                                ('seeded_area', int),\n",
    "                                                ('harvested_area', int), \n",
    "                                                ('average_yield', float),\n",
    "                                               ('total_production',int),\n",
    "                                               ('average_farm_price', float)])\n",
    "\n",
    "#interp. statistics on the production of Canadian potatoes\n",
    "#year refers to the year of the statistics, seeded area is in acres, \n",
    "#harvested area is in acres, average yield is in hundredweight per harvested acre, \n",
    "#total production of potatoes is the total amount of potatoes produced,'\n",
    "#average farm price is is in dollars per hundred weight\n",
    "\n",
    "PH1 = PotatoesHarvest(1990, 300600, 295800, 223.9, 66235, 6.59)\n",
    "PH2 = PotatoesHarvest(1991, 302500, 293400, 212.6, 62377, 6.73)\n",
    "PH3 = PotatoesHarvest(1992, 310600, 305900, 260.0, 79258, 5.28)\n",
    "PH4 = PotatoesHarvest(1993, 315500, 308600, 236.9, 73102, 8.41)\n",
    "\n",
    "@typecheck\n",
    "#template based on compound\n",
    "\n",
    "def fn_for_potatoes_harvest(ph: PotatoesHarvest) -> ... :\n",
    "    return ... (ph.year, ph.seeded_area, ph.harvested_area, ph.average_yield, ph.total_production, ph.average_farm_price)\n"
   ]
  },
  {
   "cell_type": "markdown",
   "metadata": {},
   "source": [
    "### Problem 2:\n",
    "\n",
    "You want to determine how many additional million of dollars could have been earned in a given year if the harvested area was equal to the seeded area. Design a function that takes a PotatoesHarvest and returns this value (million of dollars) rounded to two decimal points. \n",
    "\n",
    "**Hint:** To calculate this value, first compute how many acres were seeded but not harvested, then multiply this value by the average acre yield and the price of a hundredweight of potatoes. Make sure that the units used match and your returned value is in millions of dollars.\n",
    "\n",
    "Be sure to follow all steps of the HtDF recipe.  "
   ]
  },
  {
   "cell_type": "code",
   "execution_count": 19,
   "metadata": {},
   "outputs": [
    {
     "name": "stdout",
     "output_type": "stream",
     "text": [
      "\u001b[92m3 of 3 tests passed\u001b[0m\n"
     ]
    }
   ],
   "source": [
    "# your solution goes here\n",
    "from math import *\n",
    "@typecheck\n",
    "def additional_dollars(ph: PotatoesHarvest) -> float:\n",
    "    \"\"\"returns how many additional dollars could have been made if the harvested area of potatoes was equivalent to the seeded area\"\"\"\n",
    "    #return 2.0 #stub\n",
    "    #template based on PotatoesHarvest\n",
    "    return round(((ph.seeded_area - ph.harvested_area) * ph.average_yield * ph.average_farm_price/1000000), 2)\n",
    "\n",
    "start_testing()\n",
    "expect(additional_dollars(PH1), 7.08) \n",
    "expect(additional_dollars(PH2), 13.02)\n",
    "expect(additional_dollars(PH3), 6.45)\n",
    "summary()"
   ]
  },
  {
   "cell_type": "markdown",
   "metadata": {},
   "source": [
    "### Problem 3:\n",
    "    \n",
    "Design a function that takes two PotatoesHarvest and returns True if the second argument has a larger production than the first. Note that when a function takes in two compound parameters, the template should include all fields from both parameters.\n",
    " \n",
    "Be sure to follow all steps of the HtDF recipe."
   ]
  },
  {
   "cell_type": "code",
   "execution_count": 17,
   "metadata": {},
   "outputs": [
    {
     "name": "stdout",
     "output_type": "stream",
     "text": [
      "\u001b[92m2 of 2 tests passed\u001b[0m\n"
     ]
    }
   ],
   "source": [
    "# your solution goes here\n",
    "@typecheck\n",
    "def higher_production(ph1: PotatoesHarvest, ph2: PotatoesHarvest) -> bool:\n",
    "    \"\"\"returns True if the production of the second potatoes harvest is higher than the first, and False otherwise.\"\"\"\n",
    "    #return False #stub\n",
    "    #template based on PotatoesHarvest with additional PotatoesHarvest parameter\n",
    "    return ph2.total_production>ph1.total_production\n",
    "\n",
    "start_testing()\n",
    "expect(higher_production(PH1, PH2), False)\n",
    "expect(higher_production(PH2, PH3), True)\n",
    "summary()\n"
   ]
  },
  {
   "cell_type": "markdown",
   "metadata": {},
   "source": [
    "## Submit your solution"
   ]
  },
  {
   "cell_type": "code",
   "execution_count": 18,
   "metadata": {
    "deletable": false,
    "editable": false
   },
   "outputs": [
    {
     "data": {
      "application/vnd.jupyter.widget-view+json": {
       "model_id": "0146b25a569d4affae2a5e11a07672f7",
       "version_major": 2,
       "version_minor": 0
      },
      "text/plain": [
       "Valid(value=True, description='Token')"
      ]
     },
     "metadata": {},
     "output_type": "display_data"
    },
    {
     "data": {
      "application/vnd.jupyter.widget-view+json": {
       "model_id": "72de4a0afea44ae6a5d587534756821a",
       "version_major": 2,
       "version_minor": 0
      },
      "text/plain": [
       "SelectMultiple(description='Files', index=(0,), layout=Layout(height='100%', width='50%'), options=('Compound_…"
      ]
     },
     "metadata": {},
     "output_type": "display_data"
    },
    {
     "data": {
      "application/vnd.jupyter.widget-view+json": {
       "model_id": "8afe778f3ad9406ab78fce8cad51655a",
       "version_major": 2,
       "version_minor": 0
      },
      "text/plain": [
       "Button(description='submit', icon='check', style=ButtonStyle(), tooltip='submit')"
      ]
     },
     "metadata": {},
     "output_type": "display_data"
    },
    {
     "name": "stdout",
     "output_type": "stream",
     "text": [
      "We are about to submit the files:\n",
      "Compound_Tutorial_Starter.ipynb\n",
      "\n",
      "- We do this by moving only the files you selected to their own space, restarting a kernel,\n",
      "  and running them from top to bottom.\n",
      "- This ensures that the files you submit are exactly what the course staff needs to recreate your output.\n",
      "- We then submit these to Canvas for you and, if successful, give you a link where you can review your submission.\n",
      "- If there is an error, there will be a VERY LONG error message below.\n",
      "  Read our suggestions at the bottom and try to ream the error message bottom up.\n",
      "\n",
      "-----------------------------------------------------------------------------------------------\n",
      "\n",
      "Your assignment was submitted succesfully!\n",
      "Please check your submission at this link: https://canvas.ubc.ca/courses/123409/assignments/1615216/submissions/987277?preview=1&version=3\n",
      "It will be easiest to check your submission using the HTML file at that link.\n",
      "\n",
      "WARNING: We can only see saved changes. ANY UNSAVED CHANGES would not have been submitted.\n",
      "Save before each submission!\n",
      "-----------------------------------------------------------------------------------------------\n",
      "\n"
     ]
    }
   ],
   "source": [
    "# NOTE: You should not be able to edit this cell. Just run it to start the process of submiting your code.\n",
    "from cs103 import submit\n",
    "\n",
    "COURSE = 123409\n",
    "ASSIGNMENT = 1615216\n",
    "\n",
    "submit(COURSE, ASSIGNMENT)\n",
    "\n",
    "# If your submission fails, SUBMIT ANYWAY by downloading your files and uploading them \n",
    "# to Canvas. You can learn how on the page \"How to submit your Jupyter notebook\" on our \n",
    "# Canvas site."
   ]
  },
  {
   "cell_type": "code",
   "execution_count": null,
   "metadata": {},
   "outputs": [],
   "source": []
  }
 ],
 "metadata": {
  "kernelspec": {
   "display_name": "Python 3 (ipykernel)",
   "language": "python",
   "name": "python3"
  },
  "language_info": {
   "codemirror_mode": {
    "name": "ipython",
    "version": 3
   },
   "file_extension": ".py",
   "mimetype": "text/x-python",
   "name": "python",
   "nbconvert_exporter": "python",
   "pygments_lexer": "ipython3",
   "version": "3.11.4"
  }
 },
 "nbformat": 4,
 "nbformat_minor": 2
}
