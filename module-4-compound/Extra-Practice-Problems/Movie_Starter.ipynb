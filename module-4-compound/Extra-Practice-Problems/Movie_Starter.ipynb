{
 "cells": [
  {
   "cell_type": "code",
   "execution_count": null,
   "metadata": {
    "collapsed": true
   },
   "outputs": [],
   "source": [
    "from cs103 import *\n",
    "from typing import NamedTuple"
   ]
  },
  {
   "cell_type": "markdown",
   "metadata": {},
   "source": [
    "## Problem 1: \n",
    "    \n",
    "Design a data definition to represent a movie, including title, budget, and year released. To help you to create some examples, find some interesting movie facts below:\n",
    "\n",
    "- 'Titanic' - budget: 200000000, released: 1997\n",
    "- 'Avatar' - budget: 237000000, released: 2009\n",
    "- 'The Avengers' - budget: 220000000, released: 2012"
   ]
  },
  {
   "cell_type": "code",
   "execution_count": null,
   "metadata": {
    "collapsed": true
   },
   "outputs": [],
   "source": [
    "# your solution to Problem 1 goes here"
   ]
  },
  {
   "cell_type": "markdown",
   "metadata": {},
   "source": [
    "## Problem 2: \n",
    "    \n",
    "You have a list of movies you want to watch and you like to watch your rentals in chronological order. Design a function called newest_movie that takes in two movies and returns the title of the most recently released movie. Note that the rule for templating a function that takes two compound inputs is for the template to include all the accessors for both inputs."
   ]
  },
  {
   "cell_type": "code",
   "execution_count": null,
   "metadata": {
    "collapsed": true
   },
   "outputs": [],
   "source": [
    "# your solution to Problem 2 goes here"
   ]
  }
 ],
 "metadata": {
  "kernelspec": {
   "display_name": "Python 3",
   "language": "python",
   "name": "python3"
  },
  "language_info": {
   "codemirror_mode": {
    "name": "ipython",
    "version": 3
   },
   "file_extension": ".py",
   "mimetype": "text/x-python",
   "name": "python",
   "nbconvert_exporter": "python",
   "pygments_lexer": "ipython3",
   "version": "3.6.6"
  }
 },
 "nbformat": 4,
 "nbformat_minor": 2
}
