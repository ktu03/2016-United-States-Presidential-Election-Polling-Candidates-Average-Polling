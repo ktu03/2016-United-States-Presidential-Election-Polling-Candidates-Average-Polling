{
 "cells": [
  {
   "cell_type": "code",
   "execution_count": 1,
   "metadata": {},
   "outputs": [],
   "source": [
    "from cs103 import *\n",
    "from typing import NamedTuple"
   ]
  },
  {
   "cell_type": "markdown",
   "metadata": {},
   "source": [
    "## Problem 1: \n",
    "    \n",
    "Design a data definition to help a teacher organize their next field trip. On the trip, lunch must be provided for all students. For each student, track their name, their grade (from 1 to 12), and whether or not they have allergies. "
   ]
  },
  {
   "cell_type": "code",
   "execution_count": 2,
   "metadata": {},
   "outputs": [],
   "source": [
    "Student = NamedTuple('Student', [('name',str), \n",
    "                                 ('grade', int),      # in range[1,12]\n",
    "                                 ('allergies', bool)])\n",
    "# interp. a student with name, grade, and whether or not they have allergies\n",
    "\n",
    "S1 = Student('Erika', 12, True)\n",
    "S2 = Student('Albert', 5, True)\n",
    "S3 = Student('Alfred', 5, False)\n",
    "\n",
    "@typecheck\n",
    "def fn_for_student(s: Student) -> ...: # template based on Compound\n",
    "    return ...(s.name,      # str\n",
    "               s.grade,     # int in range[1,12]\n",
    "               s.allergies) # bool"
   ]
  },
  {
   "cell_type": "markdown",
   "metadata": {},
   "source": [
    "## Problem 2: \n",
    "\n",
    "To plan for the field trip, if students are in grade 6 or below, the teacher is responsible for keeping track of their allergies. If a student has allergies, and is in a qualifying grade, their name should be added to a special list. Design a function called add_to_list to produce true if a student's name should be added to this list."
   ]
  },
  {
   "cell_type": "code",
   "execution_count": 3,
   "metadata": {},
   "outputs": [
    {
     "name": "stdout",
     "output_type": "stream",
     "text": [
      "\u001b[92m4 of 4 tests passed\u001b[0m\n"
     ]
    }
   ],
   "source": [
    "@typecheck\n",
    "def add_to_list(s: Student) -> bool:\n",
    "    \"\"\"    \n",
    "    return True if s is in grade 6 or below and has allergies\n",
    "    \"\"\"\n",
    "    # return False  # stub\n",
    "    # template from Student\n",
    "    return (s.grade <= 6) and s.allergies\n",
    "\n",
    "start_testing()\n",
    "\n",
    "expect(add_to_list(Student('Erika', 12, True)), False)\n",
    "expect(add_to_list(Student('Albert', 5, True)), True)\n",
    "expect(add_to_list(Student('Sarah', 6, True)), True)\n",
    "expect(add_to_list(Student('Alfred', 5, False)), False)\n",
    "\n",
    "# show testing summary\n",
    "summary()"
   ]
  }
 ],
 "metadata": {
  "kernelspec": {
   "display_name": "Python 3",
   "language": "python",
   "name": "python3"
  },
  "language_info": {
   "codemirror_mode": {
    "name": "ipython",
    "version": 3
   },
   "file_extension": ".py",
   "mimetype": "text/x-python",
   "name": "python",
   "nbconvert_exporter": "python",
   "pygments_lexer": "ipython3",
   "version": "3.6.6"
  }
 },
 "nbformat": 4,
 "nbformat_minor": 2
}
