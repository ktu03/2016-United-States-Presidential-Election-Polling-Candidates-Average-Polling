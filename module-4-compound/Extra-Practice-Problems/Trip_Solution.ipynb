{
 "cells": [
  {
   "cell_type": "code",
   "execution_count": 1,
   "metadata": {},
   "outputs": [],
   "source": [
    "from cs103 import *\n",
    "from typing import NamedTuple"
   ]
  },
  {
   "cell_type": "markdown",
   "metadata": {},
   "source": [
    "## Problem 1: \n",
    "\n",
    "Design a data definition to help travellers plan their next trip. A trip should specify an origin, destination, mode of transport, and duration (in days). Call your new type Trip."
   ]
  },
  {
   "cell_type": "code",
   "execution_count": 2,
   "metadata": {},
   "outputs": [],
   "source": [
    "Trip = NamedTuple('Trip', [('origin', str), \n",
    "                           ('dest', str), \n",
    "                           ('mode', str), \n",
    "                           ('duration', int)]) # in range [0, ...)\n",
    "# interp. a trip with origin, destination, mode of transport, and duration in days\n",
    "T1 = Trip('Calgary', 'Vancouver', 'plane', 30)\n",
    "T2 = Trip('Vancouver', 'Portland', 'car', 5)\n",
    "T3 = Trip('Portland', 'San Francisco', 'car', 3)\n",
    "\n",
    "@typecheck\n",
    "def fn_for_trip(t: Trip) -> ...: # template based on Compound\n",
    "    return ...(t.origin,    # str\n",
    "               t.dest,      # str\n",
    "               t.mode,      # str\n",
    "               t.duration)  # int"
   ]
  },
  {
   "cell_type": "markdown",
   "metadata": {},
   "source": [
    "## Problem 2: \n",
    "    \n",
    "You have just found out that you have to use all your days off work on your next vacation before they expire at the end of the year. Comparing two options for a trip, you want to take the one that lasts the longest. Design a function that compares two trips and returns the trip with the longest duration, called longest_trip. Note that the rule for templating a function that takes two compound inputs is for the template to include all the accessors for both inputs."
   ]
  },
  {
   "cell_type": "code",
   "execution_count": 3,
   "metadata": {},
   "outputs": [
    {
     "name": "stdout",
     "output_type": "stream",
     "text": [
      "\u001b[92m4 of 4 tests passed\u001b[0m\n"
     ]
    }
   ],
   "source": [
    "@typecheck\n",
    "def longest_trip(t1: Trip, t2: Trip) -> Trip:\n",
    "    \"\"\"\n",
    "    given two trips, return the one with the longer duration\n",
    "    \"\"\"\n",
    "    # return t1  # stub\n",
    "    # template from Trip; fields copied twice for two Trip parameters\n",
    "    \n",
    "    if (t1.duration > t2.duration):\n",
    "        return t1\n",
    "    else:\n",
    "        return t2\n",
    "\n",
    "start_testing()\n",
    "\n",
    "expect(longest_trip(Trip('Calgary', 'Vancouver', 'plane', 30), \n",
    "                    Trip('Vancouver', 'Portland', 'car', 5)), \n",
    "       Trip('Calgary', 'Vancouver', 'plane', 30))\n",
    "expect(longest_trip(Trip('Calgary', 'Vancouver', 'plane', 30), \n",
    "                    Trip('Portland', 'San Francisco', 'car', 3)), \n",
    "       Trip('Calgary', 'Vancouver', 'plane', 30))\n",
    "expect(longest_trip(Trip('Vancouver', 'Portland', 'car', 5), \n",
    "                    Trip('Portland', 'San Francisco', 'car', 3)), \n",
    "       Trip('Vancouver', 'Portland', 'car', 5))\n",
    "expect(longest_trip(Trip('Vancouver', 'Portland', 'car', 5), \n",
    "                    Trip('Portland', 'San Francisco', 'car', 5)), \n",
    "       Trip('Portland', 'San Francisco', 'car', 5)) # we arbitrarily pick the second on ties\n",
    "\n",
    "\n",
    "# show testing summary\n",
    "summary()"
   ]
  }
 ],
 "metadata": {
  "kernelspec": {
   "display_name": "Python 3",
   "language": "python",
   "name": "python3"
  },
  "language_info": {
   "codemirror_mode": {
    "name": "ipython",
    "version": 3
   },
   "file_extension": ".py",
   "mimetype": "text/x-python",
   "name": "python",
   "nbconvert_exporter": "python",
   "pygments_lexer": "ipython3",
   "version": "3.7.3"
  }
 },
 "nbformat": 4,
 "nbformat_minor": 2
}
