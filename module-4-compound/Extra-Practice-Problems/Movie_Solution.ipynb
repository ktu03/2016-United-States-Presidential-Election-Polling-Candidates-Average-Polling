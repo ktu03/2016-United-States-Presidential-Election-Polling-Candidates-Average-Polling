{
 "cells": [
  {
   "cell_type": "code",
   "execution_count": null,
   "metadata": {},
   "outputs": [],
   "source": [
    "from cs103 import *\n",
    "from typing import NamedTuple"
   ]
  },
  {
   "cell_type": "markdown",
   "metadata": {},
   "source": [
    "## Problem 1: \n",
    "    \n",
    "Design a data definition to represent a movie, including title, budget, and year released. To help you to create some examples, find some interesting movie facts below:\n",
    "\n",
    "- 'Titanic' - budget: 200000000, released: 1997\n",
    "- 'Avatar' - budget: 237000000, released: 2009\n",
    "- 'The Avengers' - budget: 220000000, released: 2012"
   ]
  },
  {
   "cell_type": "code",
   "execution_count": null,
   "metadata": {},
   "outputs": [],
   "source": [
    "Movie = NamedTuple('Movie', [('name', str), \n",
    "                             ('budget', int), # in range [0, ...) (float would work too)\n",
    "                             ('year', int)]) # in range [1890, ...) (i.e. 1890 or more recently)\n",
    "# interp. a movie with name, budget and release year\n",
    "M1 = Movie('Titanic', 200000000, 1997)\n",
    "M2 = Movie('Avatar', 237000000, 2009)\n",
    "M3 = Movie('The Avengers', 220000000.0, 2012)\n",
    "\n",
    "@typecheck\n",
    "def fn_for_movie(m: Movie) -> ...: # template based on Compound\n",
    "    return ...(m.name,    # str\n",
    "               m.budget,  # int\n",
    "               m.year)    # int in range  [1890, ...)"
   ]
  },
  {
   "cell_type": "markdown",
   "metadata": {},
   "source": [
    "## Problem 2: \n",
    "    \n",
    "You have a list of movies you want to watch and you like to watch your rentals in chronological order. Design a function called newest_movie that takes in two movies and returns the title of the most recently released movie. Note that the rule for templating a function that takes two compound inputs is for the template to include all the accessors for both inputs."
   ]
  },
  {
   "cell_type": "code",
   "execution_count": null,
   "metadata": {},
   "outputs": [],
   "source": [
    "@typecheck\n",
    "def newest_movie(m1: Movie, m2: Movie) -> str:\n",
    "    \"\"\"\n",
    "    Produce the tile of the most recently released of m1 and m2.\n",
    "    In the event that m1 and m2 have the same release year,\n",
    "    return m2.\n",
    "    \"\"\"\n",
    "    # return ''   # stub\n",
    "    # template from Movie; fields copied twice for two Movie parameters\n",
    "    \n",
    "    if m1.year > m2.year:\n",
    "        return m1.name\n",
    "    else:\n",
    "        return m2.name\n",
    "\n",
    "start_testing()\n",
    "\n",
    "expect(newest_movie(M1, M2), 'Avatar')\n",
    "expect(newest_movie(M2, M3), 'The Avengers')\n",
    "expect(newest_movie(M1, M3), 'The Avengers')\n",
    "expect(newest_movie(M3, Movie('Brave', 185000000.0, 2012)), 'Brave')\n",
    "\n",
    "# show testing summary\n",
    "summary()"
   ]
  }
 ],
 "metadata": {
  "kernelspec": {
   "display_name": "Python 3",
   "language": "python",
   "name": "python3"
  },
  "language_info": {
   "codemirror_mode": {
    "name": "ipython",
    "version": 3
   },
   "file_extension": ".py",
   "mimetype": "text/x-python",
   "name": "python",
   "nbconvert_exporter": "python",
   "pygments_lexer": "ipython3",
   "version": "3.9.4"
  }
 },
 "nbformat": 4,
 "nbformat_minor": 2
}
