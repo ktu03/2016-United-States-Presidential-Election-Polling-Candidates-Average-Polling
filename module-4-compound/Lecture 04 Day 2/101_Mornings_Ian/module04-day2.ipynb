{
 "cells": [
  {
   "cell_type": "code",
   "execution_count": 2,
   "metadata": {},
   "outputs": [],
   "source": [
    "from cs103 import *\n",
    "\n"
   ]
  },
  {
   "cell_type": "markdown",
   "metadata": {},
   "source": [
    "# CPSC 103 - Systematic Program Design\n",
    "# Module 04 Day 2\n",
    "Ian Mitchell, with thanks to Rik Blok and Giulia Toti\n",
    "\n",
    "---"
   ]
  },
  {
   "cell_type": "markdown",
   "metadata": {},
   "source": [
    "# Make-up Monday\n",
    "\n",
    "On Thursday, October 12, 2023 (a week from today):\n",
    "- Your THURSDAY classes will be canceled.  Instead, your MONDAY classes will take place at their regularly scheduled time and location on Thursday October 12.\n",
    "- So **this** lecture will be canceled next Thursday.  (Our lecture next Tuesday October 10 will meet as usual.)\n",
    "- Thursday tutorial classes will be canceled next Thursday.  (Tutorial sections next Wednesday October 11 and Friday October 13 will meet as usual.)\n",
    "- Alternative plans are being developed for students in Thursday sections (T1G, T1H, T1J, T1K, T1M, and T1P **only!**).  May include a Zoom session or attending [another section](https://courses.students.ubc.ca/cs/courseschedule?pname=subjarea&tname=subj-course&dept=CPSC&course=103) on Wednesday October 11 or Friday October 13.  Stay tuned for details.\n",
    "\n",
    "---"
   ]
  },
  {
   "cell_type": "markdown",
   "metadata": {},
   "source": [
    "# Reminders\n",
    "- this Wed-Fri: Module 4 Tutorial Attendance\n",
    "- **Tue 9:30am**: Module 5: Pre-Lecture Assignment\n",
    "- **Tue**: Module 4 (Compound): Worksheet\n",
    "- Wed: Module 4 (Compound): Code Review\n",
    "- Wed: Module 2 (HtDF): Tutorial Resubmission (optional)\n",
    "- Wed: Module 4 (Compound): Tutorial Submission\n",
    "- next Wed-Fri: Module 5 Week 1 Tutorial Attendance\n",
    "\n",
    "\n",
    "See your Canvas calendar (https://canvas.ubc.ca/calendar) for details.\n",
    "\n",
    "---"
   ]
  },
  {
   "cell_type": "markdown",
   "metadata": {},
   "source": [
    "<img style=\"float: right; width:10%\" src=\"https://lthub.ubc.ca/files/2020/07/iClicker-Cloud-Logo.png\">\n",
    "\n",
    "# iClicker check-in\n",
    "How are you doing?  Any trouble keeping up?\n",
    "\n",
    "<!-- formatting: add two spaces at end of line to force linebreak -->\n",
    "  A. 💪 Easy-peasy... you can go faster  \n",
    "  B. 👍 Yup, I got this  \n",
    "  C. 😕 I might have missed a bit here or there  \n",
    "  D. 😟 Hmm, something's not working right  \n",
    "  E. 😵 I have no idea what's going on  \n",
    "\n",
    "---"
   ]
  },
  {
   "cell_type": "markdown",
   "metadata": {},
   "source": [
    "# Cartesian coordinates continued\n",
    "\n",
    "Last class we had created a compound data type to work with the [Cartesian coordinate system](https://en.wikipedia.org/wiki/Cartesian_coordinate_system) in a plane.  Any point can be specified by two numbers: its $x$ and $y$ coordinates."
   ]
  },
  {
   "cell_type": "code",
   "execution_count": 4,
   "metadata": {},
   "outputs": [],
   "source": [
    "# Copied from solution constructed during last class.\n",
    "\n",
    "from typing import NamedTuple\n",
    "\n",
    "CartesianCoord = NamedTuple('CartesianCoord', [('x', float),\n",
    "                                               ('y', float)])\n",
    "# interp. coordinates of a point in the plane.\n",
    "# x is the horizontal coordinate (positive to the right)\n",
    "# and y is the vertical coordinate (positive upward).\n",
    "\n",
    "CC1 = CartesianCoord(9, 3.2)\n",
    "CC_ORIGIN = CartesianCoord(0,0)\n",
    "CC2 = CartesianCoord(-2, -4.2)\n",
    "CC_Y_AXIS = CartesianCoord(0, 99)\n",
    "CC_X_AXIS = CartesianCoord(-7,0)\n",
    "\n",
    "@typecheck\n",
    "def fn_for_cartesian_coord(cc: CartesianCoord) -> ...:\n",
    "    return ...(cc.x, \n",
    "               cc.y)\n"
   ]
  },
  {
   "cell_type": "code",
   "execution_count": null,
   "metadata": {},
   "outputs": [],
   "source": []
  },
  {
   "cell_type": "markdown",
   "metadata": {},
   "source": [
    "# Exercise 2: another function for CartesianCoord\n",
    "\n",
    "**Problem:** Design a function that takes a CartesianCoord variable and returns the corresponding quadrant.\n",
    "\n",
    "<!-- extra code to overlay x & y axis labels.  From https://www.w3schools.com/howto/howto_css_image_text.asp -->\n",
    "\n",
    "<div style=\"float:right;position:relative; margin:auto; text-align:center; width:40%;\">\n",
    "  <a style=\"color:black;\" title=\"W!B:, CC BY-SA 3.0 &lt;http://creativecommons.org/licenses/by-sa/3.0/&gt;, via Wikimedia Commons\" href=\"https://commons.wikimedia.org/wiki/File:Cartesian-coordinate-system-with-quadrant.svg\"><img style=\"vertical-align:middle\" width=\"100%\" alt=\"Cartesian-coordinate-system-with-quadrant\" src=\"https://upload.wikimedia.org/wikipedia/commons/thumb/e/e3/Cartesian-coordinate-system-with-quadrant.svg/512px-Cartesian-coordinate-system-with-quadrant.svg.png\">\n",
    "  <div style=\"position:absolute; top:8px; left:40%; transform:translate(-50%,0%);\">$y$</div>\n",
    "  <div style=\"position:absolute; top:55%; right:16px; transform:translate(0%,-50%);\">$x$</div>\n",
    "</div>\n",
    "    \n",
    "The quadrant corresponds to the coordinates $(x,y)$ as follows:\n",
    "    \n",
    "| $x$ | $y$ | Quadrant |\n",
    "|:---:|:---:|:--------:|\n",
    "| $x>0$ | $y>0$ | 1 |\n",
    "| $x<0$ | $y>0$ | 2 |\n",
    "| $x<0$ | $y<0$ | 3 |\n",
    "| $x>0$ | $y<0$ | 4 |\n",
    "    \n",
    "First, let's create a data definition for quadrant.\n",
    " \n",
    "<div style=\"clear: both;\">\n",
    "</div>\n",
    "    \n",
    "---"
   ]
  },
  {
   "cell_type": "markdown",
   "metadata": {},
   "source": [
    "# Quadrant data definition and a function"
   ]
  },
  {
   "cell_type": "code",
   "execution_count": 6,
   "metadata": {},
   "outputs": [],
   "source": [
    "# Copied from \"sample solution\" in last class's notebook.\n",
    "# This version uses Optional wrapped around an Interval.\n",
    "\n",
    "from typing import Optional\n",
    "\n",
    "Quadrant = Optional[int]  # in range [1,4]\n",
    "# interpr. One of the 4 quadrants in the 2D Cartesian plane, or None if the coordinate lies\n",
    "# along one of the axes.\n",
    "\n",
    "Q_ORIG = None\n",
    "Q1 = 1\n",
    "Q2 = 2\n",
    "Q3 = 3\n",
    "Q4 = 4\n",
    "\n",
    "@typecheck\n",
    "# Template based on Optional\n",
    "def fn_for_quadrant(q: Quadrant) -> ...:\n",
    "    if q is None:\n",
    "        return ...\n",
    "    else:\n",
    "        return ...(q)"
   ]
  },
  {
   "cell_type": "markdown",
   "metadata": {},
   "source": [
    "**Problem:** Design a function that takes a CartesianCoord variable and returns the corresponding quadrant.\n",
    "\n",
    "Now we can use the HtDF recipe to design our function."
   ]
  },
  {
   "cell_type": "code",
   "execution_count": 17,
   "metadata": {},
   "outputs": [
    {
     "name": "stdout",
     "output_type": "stream",
     "text": [
      "\u001b[92m7 of 7 tests passed\u001b[0m\n"
     ]
    }
   ],
   "source": [
    "# Completed HtDF step 1 and some or all of step 2.\n",
    "# TODO: Complete remaining HtDF steps.\n",
    "\n",
    "#template based on Quadrant\n",
    "@typecheck\n",
    "def quadrant_of_coord(cc: CartesianCoord) -> Quadrant:\n",
    "    \"\"\"\n",
    "    Return the planar quadrant associated with \n",
    "    the coordinates cc.  Returns None if either\n",
    "    x or y is zero.\n",
    "    \"\"\"\n",
    "    \n",
    "    #return None # stub\n",
    "    if cc.x > 0 and cc.y > 0:\n",
    "        return 1\n",
    "    elif cc.x < 0 and cc.y > 0:\n",
    "        return 2\n",
    "    elif cc.x < 0 and cc.y < 0:\n",
    "        return 3\n",
    "    elif cc.x > 0 and cc.y < 0:\n",
    "        return 4\n",
    "    else:\n",
    "        return None\n",
    "    \n",
    "start_testing()\n",
    "\n",
    "expect(quadrant_of_coord(CC_ORIGIN), None)\n",
    "expect(quadrant_of_coord(CC_X_AXIS), None)\n",
    "expect(quadrant_of_coord(CC_Y_AXIS), None)\n",
    "expect(quadrant_of_coord(CC1), 1)\n",
    "expect(quadrant_of_coord(CC2), 3)\n",
    "expect(quadrant_of_coord(CartesianCoord(5,-2)), 4)\n",
    "expect(quadrant_of_coord(CartesianCoord(-5,2)), 2)\n",
    "# Do we have enough tests?\n",
    "\n",
    "summary()\n",
    "\n"
   ]
  },
  {
   "cell_type": "markdown",
   "metadata": {},
   "source": [
    "<details class=\"alert alert-info\" style=\"cursor:pointer;\"><summary style=\"display:list-item\">ℹ️ Sample solution (For later.  Don't peek if you want to learn 🙂)</summary>\n",
    "    \n",
    "```python\n",
    "@typecheck\n",
    "def quadrant_from_coord(cc: CartesianCoord) -> Quadrant:\n",
    "    \"\"\"\n",
    "    Returns the quadrant of a CartesianCoord variable `cc`, or None if the coordinate lies along\n",
    "    one of the axes.\n",
    "    \"\"\"\n",
    "    # return 0   # stub\n",
    "    #Template from CartesianCoord   # Once again, the template is based on the input parameter, CartesianCoord\n",
    "    if cc.x > 0 and cc.y > 0:\n",
    "         return 1\n",
    "    elif cc.x < 0 and cc.y > 0:\n",
    "         return 2\n",
    "    elif cc.x < 0 and cc.y < 0:\n",
    "         return 3\n",
    "    elif cc.x > 0 and cc.y < 0:\n",
    "        return 4\n",
    "    else:\n",
    "        return None\n",
    "\n",
    "start_testing()\n",
    "expect(quadrant_from_coord(CC_ORIG), None)\n",
    "expect(quadrant_from_coord(CartesianCoord(1,1)), 1)\n",
    "expect(quadrant_from_coord(CartesianCoord(-1,1)), 2)\n",
    "expect(quadrant_from_coord(CartesianCoord(-1,-1)), 3)\n",
    "expect(quadrant_from_coord(CartesianCoord(1,-1)), 4)\n",
    "expect(quadrant_from_coord(CartesianCoord(1,0)), None)\n",
    "expect(quadrant_from_coord(CartesianCoord(-1,0)), None)\n",
    "expect(quadrant_from_coord(CartesianCoord(0,-1)), None)\n",
    "expect(quadrant_from_coord(CartesianCoord(0,1)), None)\n",
    "summary()\n",
    "```\n",
    "   \n",
    "Notice that we ended up using an `if / elif / else` statement to handle the various cases, even though the template from the input data type `CartesianCoord` was just `return ...(cc.x, cc.y)`.  In CPSC 103 at step 3 (\"template\") of HTDF we will **always** use a template based on the input parameter (or most informative input parameter when there are multiple input parameters).  However, if the output parameter is also a user defined data type, then its template can sometimes provide hints about possible function structure.  In this case, if `Quadrant` were defined as an Optional, then we get a hint that we **may** want to use an `if/else` statement.\n",
    "                               \n",
    "But remember: At step 3 (\"template\") of HTDF you will **always** choose a template based on an input parameter.  You should only consider hints from an output parameter once you get to step 4 (\"implement\") of HTDF.\n",
    "\n",
    "</details>\n",
    "\n",
    "---"
   ]
  },
  {
   "cell_type": "markdown",
   "metadata": {},
   "source": [
    "# Function templates with more than one parameter\n",
    "\n",
    "All the **data templates** we've constructed have a single parameter, of the data type we're designing.\n",
    "\n",
    "But when we design a **function** that uses the data, it may have more than one parameter, of the same or different types.  Which parameter do we choose to copy the data template from?\n",
    "\n",
    "There is no firm rule.  Here are some guidelines:\n",
    "- If one data type is the focus of the function, choose that one.\n",
    "- If one data template is more complicated, choose that one.\n",
    "- Merge data templates from other parameters in.\n",
    "\n",
    "Write a comment to indicate which template you used **and the additional parameter types you merged in**.\n",
    "\n",
    "### Example\n",
    "We have completed HtDF steps 1 (*Stub*) and 2 (*Examples*).  Now you complete step 3 (*Template*)."
   ]
  },
  {
   "cell_type": "code",
   "execution_count": null,
   "metadata": {},
   "outputs": [],
   "source": [
    "@typecheck\n",
    "def coord_is_left_of(cc: CartesianCoord, x_boundary: float) -> bool:\n",
    "    \"\"\"\n",
    "    Returns True if CartesianCoord `cc` is to the left of \n",
    "    (or has smaller x-component than) `x_boundary`.\n",
    "    \"\"\"\n",
    "    #return False # stub\n",
    "    return ... (cc.x,cc.y,x_boundary)\n",
    "    \n",
    "start_testing()\n",
    "\n",
    "expect(coord_is_left_of(CC0, 0), False)\n",
    "expect(coord_is_left_of(CC1, 0.5), False)\n",
    "expect(coord_is_left_of(CC1, 1.5), True)\n",
    "\n",
    "summary()\n",
    "\n"
   ]
  },
  {
   "cell_type": "markdown",
   "metadata": {},
   "source": [
    "<details class=\"alert alert-info\" style=\"cursor:pointer;\"><summary style=\"display:list-item\">ℹ️ Complete code for HtDF Steps 1-3. (For later.  Don't peek if you want to learn 🙂)</summary>\n",
    "    \n",
    "```python\n",
    "@typecheck\n",
    "def coord_is_left_of(cc: CartesianCoord, x_boundary: float) -> bool:\n",
    "    \"\"\"\n",
    "    Returns True if CartesianCoord `cc` is to the left of \n",
    "    (or has smaller x-component than) `x_boundary`.\n",
    "    \"\"\"\n",
    "    # return False # stub\n",
    "    # template from CartesianCoord and additional primitive\n",
    "    return ...(cc.x, cc.y, x_boundary) # template\n",
    "\n",
    "    \n",
    "start_testing()\n",
    "expect(coord_is_left_of(CC0, 0), False)\n",
    "expect(coord_is_left_of(CC1, 0.5), False)\n",
    "expect(coord_is_left_of(CC1, 1.5), True)\n",
    "summary()\n",
    "```\n",
    "    \n",
    "We merged the simple atomic template `return ...(x_boundary)` with the CartesianCoord template `return ...(cc.x, cc.y)`.  Of course, as our data types become more complicated, merging their templates may also be more complicated.  However, it is still worth doing because the merged template makes clear to you during implementation exactly what data is available, and in some cases (such as Optional or Enum) what kind of structure is needed to correctly generate a result.\n",
    "\n",
    "</details>\n",
    "    \n",
    "---"
   ]
  },
  {
   "cell_type": "markdown",
   "metadata": {},
   "source": [
    "<img style=\"float: right; width:10%\" src=\"https://lthub.ubc.ca/files/2020/07/iClicker-Cloud-Logo.png\">\n",
    "\n",
    "# iClicker question\n",
    "\n",
    "<div style=\"float: right; width: 60%\">\n",
    "\n",
    "```python\n",
    "@typecheck\n",
    "def in_quad(cc:CartesianCoord,q:Quadrant)->bool:\n",
    "    \"\"\"\n",
    "    Returns True if the Cartesian coordinate cc\n",
    "    is in quadrant q, otherwise False.\n",
    "    \"\"\"\n",
    "    return True # stub\n",
    "```\n",
    "    \n",
    "</div>\n",
    "\n",
    "We're designing a function that takes a CartesianCoord and a Quadrant and determines if the coordinate is in the quadrant.  The function's stub is shown to the right.\n",
    "\n",
    "Which would be the best template to write (after the stub)?  You may assume sufficient examples have already been provided.\n",
    "\n",
    "<div style=\"width: 100%; display: flex; justify-content: space-between;\">\n",
    "\n",
    "<div style=\"width: 33%\">\n",
    "\n",
    "### (A)\n",
    "```python\n",
    "# template from CartesianCoord with additional parameter from Quadrant\n",
    "return ...(cc.x, cc.y, q)\n",
    "```\n",
    "    \n",
    "</div>\n",
    "\n",
    "<div style=\"width: 33%\">\n",
    "\n",
    "### (B)\n",
    "```python\n",
    "# template from Quadrant with additional parameter from CartesianCoord\n",
    "if q == None:\n",
    "    return ...(cc.x, cc.y)\n",
    "else:\n",
    "    return ...(q, cc.x, cc.y)\n",
    "```\n",
    "    \n",
    "</div>\n",
    "\n",
    "<div style=\"float: left; width: 33%\">\n",
    "\n",
    "### (C)\n",
    "```python\n",
    "# template from CartesianCoord and additional parameter from Quadrant\n",
    "return ...(cc.x, cc.y)\n",
    "if q == None:\n",
    "    return ...\n",
    "else:\n",
    "    return ...(q)\n",
    "```\n",
    "    \n",
    "</div>\n",
    "</div>\n",
    "\n",
    "<!-- formatting: add two spaces at end of line to force linebreak -->\n",
    "\n",
    "<details class=\"alert alert-info\"><summary style=\"cursor:pointer; display:list-item\">ℹ️ Hint (for your review after class)</summary>\n",
    "\n",
    "In this case, both parameters have similar \"focus\" in the function because we're comparing the `CartesianCoord` with the `Quadrant`.  But one of the data templates we're copying from is more complicated than the other.\n",
    "\n",
    "<details class=\"alert alert-info\"><summary style=\"cursor:pointer; display:list-item\">ℹ️ Answer</summary>\n",
    "\n",
    "Because its template is more complicated, we should choose **(B)** to template from `Quadrant` with an additional parameter from `CartesianCoord`.  The full function code is shown below.  Notice that choosing the more complicated template helps simplify the code implementation later.\n",
    "\n",
    "```python\n",
    "@typecheck\n",
    "def in_quad(cc:CartesianCoord,q:Quadrant)->bool:\n",
    "    \"\"\"\n",
    "    Returns True if the Cartesian coordinate cc\n",
    "    is in quadrant q, otherwise False.\n",
    "    \"\"\"\n",
    "    # return True # stub\n",
    "    # template from Quadrant with additional parameter from CartesianCoord\n",
    "    if q == None:                        # original template\n",
    "        # return ...(cc.x, cc.y)         # original template\n",
    "        return cc.x == 0 or cc.y == 0\n",
    "    else:                                # original template\n",
    "        # return ...(q, cc.x, cc.y)      # original template\n",
    "        if q == 1:\n",
    "            return cc.x > 0 and cc.y > 0\n",
    "        elif q == 2:\n",
    "            return cc.x < 0 and cc.y > 0\n",
    "        elif q == 3:\n",
    "            return cc.x < 0 and cc.y < 0\n",
    "        elif q == 4:\n",
    "            return cc.x > 0 and cc.y < 0\n",
    "```\n",
    "\n",
    "</details>\n",
    "\n",
    "</details>\n",
    "\n",
    "---"
   ]
  },
  {
   "cell_type": "markdown",
   "metadata": {},
   "source": [
    "# Exercise 3: function for two CartesianCoord variables\n",
    "\n",
    "**Problem:** Design a function that takes two CartesianCoord variables and computes their distance from each other."
   ]
  },
  {
   "cell_type": "code",
   "execution_count": null,
   "metadata": {},
   "outputs": [],
   "source": []
  },
  {
   "cell_type": "markdown",
   "metadata": {},
   "source": [
    "<details class=\"alert alert-info\" style=\"cursor:pointer;\"><summary style=\"display:list-item\">ℹ️ Sample solution (For later.  Don't peek if you want to learn 🙂)</summary>\n",
    "    \n",
    "```python\n",
    "from math import sqrt\n",
    "\n",
    "@typecheck\n",
    "def distance_between_coord(cc1: CartesianCoord, cc2: CartesianCoord) -> float:\n",
    "    \"\"\"\n",
    "    Computes the distance between two cartesian coordinates\n",
    "    \"\"\"\n",
    "    # return -2    # stub\n",
    "    # Template from CartesianCoord with additional parameter CartesianCoord\n",
    "    # return ...(cc1.x, cc1.y, cc2.x, cc2.y) # template\n",
    "    return sqrt(pow(cc1.x - cc2.x, 2) + pow(cc1.y - cc2.y, 2))\n",
    "\n",
    "start_testing()\n",
    "expect(distance_between_coord(CC1, CC1), 0)\n",
    "expect(distance_between_coord(CartesianCoord(0,2), CartesianCoord(10,2)), 10)\n",
    "expect(distance_between_coord(CC0, CartesianCoord(3,4)), 5)\n",
    "expect(distance_between_coord(CC0, CartesianCoord(-3,-4)), 5)\n",
    "expect(distance_between_coord(CartesianCoord(3,4), CC0), 5)\n",
    "expect(distance_between_coord(CartesianCoord(1.5,2.5), CartesianCoord(2.5,3.5)), sqrt(2))\n",
    "summary()\n",
    "```\n",
    "    \n",
    "</details>\n",
    "\n",
    "---"
   ]
  },
  {
   "cell_type": "markdown",
   "metadata": {},
   "source": [
    "# Exercise 4: function that returns a CartesianCoord variable\n",
    "A function can only return a single object.  But that object can be a compound!  Great way to return multiple, related pieces of information.\n",
    "\n",
    "**Problem:** Design a function that takes two CartesianCoord variables and computes their middle point."
   ]
  },
  {
   "cell_type": "code",
   "execution_count": null,
   "metadata": {},
   "outputs": [],
   "source": [
    "\n"
   ]
  },
  {
   "cell_type": "markdown",
   "metadata": {},
   "source": [
    "<details class=\"alert alert-info\" style=\"cursor:pointer;\"><summary style=\"display:list-item\">ℹ️ Sample solution (For later.  Don't peek if you want to learn 🙂)</summary>\n",
    "    \n",
    "```python\n",
    "@typecheck\n",
    "def midpoint(cc1: CartesianCoord, cc2: CartesianCoord) -> CartesianCoord:\n",
    "    \"\"\"\n",
    "    Given 2 CartesianCoord, cc1 and cc2, returns the midpoint between them.\n",
    "    \"\"\"\n",
    "    # return CartesianCoord(0,0)  # stub\n",
    "    # Template from CartesianCoord with additional parameter CartesianCoord\n",
    "    # return ...(cc1.x, cc1.y, cc2.x, cc2.y) # template\n",
    "    middle_x = (cc1.x + cc2.x)/2\n",
    "    middle_y = (cc1.y + cc2.y)/2\n",
    "    return CartesianCoord(middle_x, middle_y)\n",
    "\n",
    "start_testing()\n",
    "expect(midpoint(CC0, CartesianCoord(3,4)), CartesianCoord(1.5, 2))\n",
    "expect(midpoint(CC1, CC1), CC1)\n",
    "expect(midpoint(CC0, CartesianCoord(3,4)), CartesianCoord(1.5, 2))\n",
    "expect(midpoint(CartesianCoord(5,5), CartesianCoord(-5,-5)), CC0)\n",
    "expect(midpoint(CartesianCoord(-5,-5), CartesianCoord(5,5)), CC0)\n",
    "summary()\n",
    "```\n",
    "    \n",
    "</details>\n",
    "\n",
    "---"
   ]
  },
  {
   "cell_type": "markdown",
   "metadata": {},
   "source": [
    "# Aside: `NamedTuple` variables are immutable\n",
    "Let's try that again, this time storing the result in the fields of a new CartesianCoord variable called `middle`..."
   ]
  },
  {
   "cell_type": "code",
   "execution_count": 28,
   "metadata": {},
   "outputs": [
    {
     "name": "stdout",
     "output_type": "stream",
     "text": [
      "\u001b[92m5 of 5 tests passed\u001b[0m\n"
     ]
    },
    {
     "data": {
      "text/plain": [
       "CartesianCoord(x=4.5, y=0)"
      ]
     },
     "execution_count": 28,
     "metadata": {},
     "output_type": "execute_result"
    }
   ],
   "source": [
    "# Make sure you have defined the function midpoint().\n",
    "\n",
    "def midpoint(cc1: CartesianCoord, cc2: CartesianCoord) -> CartesianCoord:\n",
    "    \"\"\"\n",
    "    Given 2 CartesianCoord, cc1 and cc2, returns the midpoint between them.\n",
    "    \"\"\"\n",
    "    # return CartesianCoord(0,0)  # stub\n",
    "    # Template from CartesianCoord with additional parameter CartesianCoord\n",
    "    # return ...(cc1.x, cc1.y, cc2.x, cc2.y) # template\n",
    "    middle_x = (cc1.x + cc2.x)/2\n",
    "    middle_y = (cc1.y + cc2.y)/2\n",
    "    return CartesianCoord(middle_x, middle_y)\n",
    "\n",
    "start_testing()\n",
    "expect(midpoint(CC_ORIGIN, CartesianCoord(3,4)), CartesianCoord(1.5, 2))\n",
    "expect(midpoint(CC1, CC1), CC1)\n",
    "expect(midpoint(CC_ORIGIN, CartesianCoord(3,4)), CartesianCoord(1.5, 2))\n",
    "expect(midpoint(CartesianCoord(5,5), CartesianCoord(-5,-5)), CC_ORIGIN)\n",
    "expect(midpoint(CartesianCoord(-5,-5), CartesianCoord(5,5)), CC_ORIGIN)\n",
    "summary()\n",
    "\n",
    "# Now create a new variable and assign it the return value of a call to midpoint().\n",
    "#cannot change the value of a field\n",
    "# middle = midpoint(CC_ORIGIN, CC1)\n",
    "\n",
    "# Now project that midpoint on to the x-axis by setting its y coordinate to zero.\n",
    "\n",
    "#middle.y=0\n",
    "# Is there some other way we could create a CartesianCoord with that projected point?\n",
    "middle_proj = CartesianCoord(middle.x,0)\n",
    "middle_proj"
   ]
  },
  {
   "cell_type": "markdown",
   "metadata": {},
   "source": [
    "As we see above, you can't create a `NamedTuple` and then change its field values.  `NamedTuples` are *immutable* in Python (you can not change them after they are created).  Good for \"read-only\" data where we don't want to change what we've stored.  Also has performance benefits when working with lots of data.\n",
    "\n",
    "(Python also provides the `dict` data type.  It is similar to `NamedTuple` but both the fields and the field values are mutable.  Mutability is a mixed blessing, so in CPSC 103 we focus on the simpler immutable `NamedTuple`)\n",
    "\n",
    "---"
   ]
  },
  {
   "cell_type": "markdown",
   "metadata": {},
   "source": [
    "# And that concludes our CartesianCoord compound conversation 😃\n",
    "CartesianCoord is a simple compound with **only 2 fields(!)**, but it already shows how powerful and flexible compound data can be!\n",
    "\n",
    "Compounds...\n",
    "- Are great for representing something complex, with multiple attributes.\n",
    "- Keep related information together.  Easier to keep organized than independent variables (e.g., `cc` instead of `x` and `y`).\n",
    "- Let us return multiple pieces of information from a function.  Remember, a function can only return one instance, but that's ok if it's a *compound*.\n",
    "- Require us to provide all necessary fields to create a new instance.  No chance of missing pieces of information.\n",
    "\n",
    "\n",
    "---"
   ]
  },
  {
   "cell_type": "markdown",
   "metadata": {},
   "source": [
    "<img style=\"float: right; width:10%\" src=\"https://lthub.ubc.ca/files/2020/07/iClicker-Cloud-Logo.png\">\n",
    "\n",
    "# iClicker check-in\n",
    "How are you doing?  Any trouble keeping up?\n",
    "\n",
    "<!-- formatting: add two spaces at end of line to force linebreak -->\n",
    "  A. 💪 Easy-peasy... you can go faster  \n",
    "  B. 👍 Yup, I got this  \n",
    "  C. 😕 I might have missed a bit here or there  \n",
    "  D. 😟 Hmm, something's not working right  \n",
    "  E. 😵 I have no idea what's going on  \n",
    "\n",
    "---"
   ]
  },
  {
   "cell_type": "markdown",
   "metadata": {},
   "source": [
    "# Artist: Compound, enumeration, or simple atomic?\n",
    "\n",
    "Our artist question asks you to represent \"an artist's family name, given name, birthplace, and art form (e.g., oil painting, sculpture, dance)\".\n",
    "\n",
    "What does one value of this type look like? Let's use [Georgia O'Keeffe](https://en.wikipedia.org/wiki/Georgia_O'Keeffe) (the painter, born in Wisconsin) as our example. We'll try solving the problem first with a compound and then with an enumeration and then simple atomic data to try to represent O'Keeffe."
   ]
  },
  {
   "cell_type": "markdown",
   "metadata": {},
   "source": [
    "### Version 1: Artist data definition as a compound"
   ]
  },
  {
   "cell_type": "code",
   "execution_count": 30,
   "metadata": {},
   "outputs": [],
   "source": [
    "from typing import NamedTuple\n",
    "\n",
    "Artist = NamedTuple('Artist', [('family_name', str),\n",
    "                               ('given_name', str),\n",
    "                               ('birthplace', str),\n",
    "                               ('art_form', str)])\n",
    "# interp. an artist with their family name, given name, place of birth,\n",
    "#         and the art form they were best known for.\n",
    "A_MONET = Artist('Monet', 'Claude', 'Paris', 'pastels')\n",
    "A_VAN_GOGH = Artist('van Gogh', 'Vincent', 'Netherlands', 'oil paintings')\n",
    "\n",
    "@typecheck\n",
    "# template based on compound (4 fields)\n",
    "def fn_for_artist(a: Artist) -> ...:\n",
    "    return ...(a.family_name,\n",
    "               a.given_name,\n",
    "               a.birthplace,\n",
    "               a.art_form)\n",
    "\n"
   ]
  },
  {
   "cell_type": "markdown",
   "metadata": {},
   "source": [
    "How do we represent Georgia O'Keeffe with a compound?"
   ]
  },
  {
   "cell_type": "code",
   "execution_count": 31,
   "metadata": {},
   "outputs": [],
   "source": [
    "# Georgia O'Keefe was born in Wisconsin and is known for her watercolors\n",
    "A_O_KEEFFE = Artist(\"O'Keeffe\", 'Georgia', 'Wisconsin', 'watercolours')\n"
   ]
  },
  {
   "cell_type": "markdown",
   "metadata": {},
   "source": [
    "<details class=\"alert alert-info\" style=\"cursor:pointer;\"><summary style=\"display:list-item\">ℹ️ Sample solution (For later.  Don't peek if you want to learn 🙂)</summary>\n",
    "    \n",
    "```python\n",
    "okeeffe = Artist(\"O'Keeffe\", \"Georgia\", \"Wisconsin\", \"Watercolors\")\n",
    "```\n",
    "    \n",
    "</details>\n",
    "\n",
    "---"
   ]
  },
  {
   "cell_type": "markdown",
   "metadata": {},
   "source": [
    "### Version 2: Artist data definition as an enumeration"
   ]
  },
  {
   "cell_type": "code",
   "execution_count": null,
   "metadata": {},
   "outputs": [],
   "source": [
    "from enum import Enum\n",
    "\n",
    "Artist = Enum('Artist', ['family_name', 'given_name', 'birthplace', 'art_form'])\n",
    "# interp. an aspect of an artist, one of their family name, their given name\n",
    "# their birthplace, or their art form.\n",
    "# Examples are redundant for enumerations.\n",
    "\n",
    "\n",
    "# template based on enumeration (4 cases)\n",
    "@typecheck\n",
    "def fn_for_artist(a: Artist) -> ...:\n",
    "    if a == Artist.family_name:\n",
    "        return ...\n",
    "    elif a == Artist.given_name:\n",
    "        return ...\n",
    "    elif a == Artist.birthplace:\n",
    "        return ...\n",
    "    elif a == Artist.art_form:\n",
    "        return ...\n",
    "    \n",
    "    "
   ]
  },
  {
   "cell_type": "markdown",
   "metadata": {},
   "source": [
    "How do we represent Georgia O'Keeffe with an enumeration?"
   ]
  },
  {
   "cell_type": "code",
   "execution_count": null,
   "metadata": {},
   "outputs": [],
   "source": [
    "# Georgia O'Keefe was born in Wisconsin and is known for her watercolors\n",
    "Artist.family_name = 'georgia'\n"
   ]
  },
  {
   "cell_type": "markdown",
   "metadata": {},
   "source": [
    "<details class=\"alert alert-info\" style=\"cursor:pointer;\"><summary style=\"display:list-item\">ℹ️ Sample solution (For later.  Don't peek if you want to learn 🙂)</summary>\n",
    "    \n",
    "We cannot: We can only choose one of the four *values* `Artist.family_name`, `Artist.given_name`, `Artist.birthplace` and `Artist.art_form` and those four *values* are unable to store any of the actual information about Georgia O'Keeffe (or any other artist).\n",
    "    \n",
    "For example, how does the variable `okeeffe` defined below represent the artist?\n",
    "```python\n",
    "okeeffe = Artist.family_name\n",
    "```\n",
    "\n",
    "<details class=\"alert alert-info\" style=\"cursor:pointer;\"><summary style=\"display:list-item\">Answer</summary>\n",
    "It doesn't.\n",
    "</details>\n",
    "</details>\n",
    "\n",
    "---"
   ]
  },
  {
   "cell_type": "markdown",
   "metadata": {},
   "source": [
    "### Version 3: Artist data definition as a simple atomic"
   ]
  },
  {
   "cell_type": "code",
   "execution_count": null,
   "metadata": {},
   "outputs": [],
   "source": [
    "Artist = str\n",
    "# interp. an artist with their family name then given name followed by \"born in\"\n",
    "# and their birthplace and \"known for\" and their art form.\n",
    "A_MONET = 'Monet Claude born in Paris known for pastels'\n",
    "A_VAN_GOGH = 'van Gogh Vincent born in Netherlands known for oil paintings'\n",
    "\n",
    "@typecheck\n",
    "# template based on atomic non-distinct\n",
    "def fn_for_artist(a: Artist) -> ...:\n",
    "    return ...(a)\n",
    "\n",
    "# How do we represent Georgia O'Keeffe?\n",
    "\n"
   ]
  },
  {
   "cell_type": "markdown",
   "metadata": {},
   "source": [
    "How do we represent Georgia O'Keeffe with simple atomic data?"
   ]
  },
  {
   "cell_type": "code",
   "execution_count": null,
   "metadata": {},
   "outputs": [],
   "source": [
    "# Georgia O'Keefe was born in Wisconsin and is known for her watercolors\n",
    "A_GEORGIA - \"Georgia O'Keefe born in Wisconsin known for her watercolors\"\n"
   ]
  },
  {
   "cell_type": "markdown",
   "metadata": {},
   "source": [
    "<details class=\"alert alert-info\" style=\"cursor:pointer;\"><summary style=\"display:list-item\">ℹ️ Sample solution (For later.  Don't peek if you want to learn 🙂)</summary>\n",
    "        \n",
    "This one is a little better, but we are piling all information in a string instead of having it nicely organized in fields. That makes it much more difficult to work with.  It also means I could accidentally leave pieces of information out with no consequences.\n",
    "    \n",
    "For example, what is wrong with the following value for variable `okeeffee`?\n",
    "\n",
    "```python\n",
    "okeeffe = \"Georgia O'Keeffe\"\n",
    "```\n",
    "\n",
    "<details class=\"alert alert-info\" style=\"cursor:pointer;\"><summary style=\"display:list-item\">Answer</summary>\n",
    "\n",
    "It is missing `' born in '`, the birthplace, `' known for '`, and the art form.\n",
    "\n",
    "</details>\n",
    "</details>\n",
    "\n",
    "---"
   ]
  },
  {
   "cell_type": "markdown",
   "metadata": {},
   "source": [
    "# Freestyle 🙂\n",
    "\n",
    "Think of something you're interested in, something meaningful to you.  Music?  Movies?  Books?  Sports?  Burritos?\n",
    "\n",
    "How could you design a data definition to represent information about that domain in a compound?\n",
    "\n",
    "In the cell below, start designing your data with the HtDD recipe!\n",
    "\n",
    "You should probably limit yourself to four or five fields to keep the task manageable.  Maybe one of those fields will be an enumeration or an optional."
   ]
  },
  {
   "cell_type": "code",
   "execution_count": null,
   "metadata": {},
   "outputs": [],
   "source": [
    "# freestyle!\n",
    "\n"
   ]
  }
 ],
 "metadata": {
  "kernelspec": {
   "display_name": "Python 3 (ipykernel)",
   "language": "python",
   "name": "python3"
  },
  "language_info": {
   "codemirror_mode": {
    "name": "ipython",
    "version": 3
   },
   "file_extension": ".py",
   "mimetype": "text/x-python",
   "name": "python",
   "nbconvert_exporter": "python",
   "pygments_lexer": "ipython3",
   "version": "3.11.4"
  }
 },
 "nbformat": 4,
 "nbformat_minor": 4
}
