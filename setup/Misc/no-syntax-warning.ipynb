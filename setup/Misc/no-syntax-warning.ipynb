{
 "cells": [
  {
   "cell_type": "markdown",
   "metadata": {},
   "source": [
    "**You only need to run this file once for the duration of time you are in the course.**"
   ]
  },
  {
   "cell_type": "code",
   "execution_count": null,
   "metadata": {},
   "outputs": [],
   "source": [
    "import IPython\n",
    "\n",
    "# Configuration\n",
    "CONFIG_FILE_NAME = \"ipython_config.py\"\n",
    "BACKUP_COPY = \"{}.$(date -Iseconds).bak.XXXXXXXX\".format(CONFIG_FILE_NAME)\n",
    "CONFIG_FILE_CONTENTS = \"\"\"import warnings\n",
    "\n",
    "c = get_config()\n",
    "c.InteractiveShellApp.matplotlib = \"inline\"\n",
    "\n",
    "warnings.filterwarnings('ignore', \"\\'ellipsis\\' object is not callable\", SyntaxWarning)\n",
    "\"\"\"\n",
    "CONFIG_FILE_HEREDOC = \"\"\"<< EOF\n",
    "{}\n",
    "EOF\"\"\".format(CONFIG_FILE_CONTENTS)\n",
    "\n",
    "# Locate the directory for the configuration file.\n",
    "ipython_dir_list = !ipython locate profile\n",
    "assert len(ipython_dir_list) > 0, \"There must be a location for the IPython profile, but it is missing.\"\n",
    "assert len(ipython_dir_list) == 1, \"There must be a unique location for the IPython profile, but it appears multiple are present: {}.\".format(ipython_dir_list)\n",
    "ipython_dir = ipython_dir_list[0]\n",
    "\n",
    "# Back up the existing configuration file, out of an abundance of caution!\n",
    "!cp \"{ipython_dir}/{CONFIG_FILE_NAME}\" \"$(mktemp {ipython_dir}/{BACKUP_COPY})\"\n",
    "\n",
    "# Insert the new configuration file.\n",
    "!cat > \"{ipython_dir}/{CONFIG_FILE_NAME}\" {CONFIG_FILE_HEREDOC}\n",
    "\n",
    "print(\"\\x1b[36m\\u2713 Setup succeeded! :)\")"
   ]
  }
 ],
 "metadata": {
  "anaconda-cloud": {},
  "kernelspec": {
   "display_name": "Python 3 (ipykernel)",
   "language": "python",
   "name": "python3"
  },
  "language_info": {
   "codemirror_mode": {
    "name": "ipython",
    "version": 3
   },
   "file_extension": ".py",
   "mimetype": "text/x-python",
   "name": "python",
   "nbconvert_exporter": "python",
   "pygments_lexer": "ipython3",
   "version": "3.9.9"
  }
 },
 "nbformat": 4,
 "nbformat_minor": 4
}
