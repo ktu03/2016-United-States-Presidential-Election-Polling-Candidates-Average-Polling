{
 "cells": [
  {
   "cell_type": "markdown",
   "metadata": {},
   "source": [
    "#  Tutorial Questions - Intro to Python\n",
    "\n",
    "**Pre-Tutorial Work:**\n",
    "\n",
    "None this week."
   ]
  },
  {
   "cell_type": "markdown",
   "metadata": {},
   "source": [
    "## Problem 1\n",
    "\n",
    "Write a statement that finds the third character of the value stored in the variable `dessert` and assigns it to a new variable. Make sure to choose a meaningful name for your new variable. Your statement should still find that third character even if you change the text assigned to the variable `dessert` on line 2 below!"
   ]
  },
  {
   "cell_type": "code",
   "execution_count": 1,
   "metadata": {},
   "outputs": [],
   "source": [
    "# Given variable\n",
    "dessert = \"chocolate\"\n",
    "\n",
    "# solution\n",
    "third_char = season[2]"
   ]
  },
  {
   "cell_type": "markdown",
   "metadata": {},
   "source": [
    "## Problem 2\n",
    "\n",
    "Write a code fragment (i.e. one or more lines of code) that calculates the average of the three weight in lbs. Your code fragment should still calculate the correct average even if you change the values assigned to the three variables `weight1`, `weight2`, and `weight3`."
   ]
  },
  {
   "cell_type": "code",
   "execution_count": 2,
   "metadata": {},
   "outputs": [],
   "source": [
    "weight1 = 141\n",
    "weight2 = 98\n",
    "weight3 = 182\n",
    "\n",
    "# solution\n",
    "average = (weight1 + weight2 + weight3)/3"
   ]
  },
  {
   "cell_type": "markdown",
   "metadata": {},
   "source": [
    "## Problem 3\n",
    "\n",
    "Write the step-by-step evaluation of the expression `13 >=(16-2) and 2*3 < 10`. \n",
    "\n",
    "Note that you are allowed to elide steps as seen in Example 3 in\n",
    "Section 3.2.2 of the Evaluation Rules document in the Language Module on Canvas."
   ]
  },
  {
   "cell_type": "code",
   "execution_count": 1,
   "metadata": {},
   "outputs": [
    {
     "data": {
      "text/plain": [
       "False"
      ]
     },
     "execution_count": 1,
     "metadata": {},
     "output_type": "execute_result"
    }
   ],
   "source": [
    "# Original expression\n",
    "13 >= (16-2) and 2*3 < 10\n",
    "\n",
    "# solution\n",
    "13 >= 14 and 2*3 < 10\n",
    "False and 2*3 < 10\n",
    "False and 6 < 10\n",
    "False and True\n",
    "False"
   ]
  },
  {
   "cell_type": "markdown",
   "metadata": {},
   "source": [
    "## Problem 4\n",
    "\n",
    "We want to design a code fragment that does the following: It adds 8% sales tax to a price (the price is in cents) if `add_tax` is `True`. If `add_tax` is `False`, no tax should be added. Unfortunately, the code below contains one or more errors. Debug (fix) the code fragment until it is correct and runs without errors."
   ]
  },
  {
   "cell_type": "code",
   "execution_count": 2,
   "metadata": {},
   "outputs": [
    {
     "data": {
      "text/plain": [
       "10800.0"
      ]
     },
     "execution_count": 2,
     "metadata": {},
     "output_type": "execute_result"
    }
   ],
   "source": [
    "price = 10000\n",
    "add_tax = True\n",
    "\n",
    "if add_tax:\n",
    "    price = price + price * .08\n",
    "    \n",
    "price"
   ]
  },
  {
   "cell_type": "markdown",
   "metadata": {},
   "source": [
    "## Problem 5\n",
    "\n",
    "Write a function that takes a price, adds 8% tax, and returns the total including the tax. Solving problem 4 will help with this problem, but this is a bit different from problem 4. (For example, we are creating a function not a code fragment, and we add the tax no matter what, not depending on `add_tax`.)\n",
    "\n",
    "To check that your function works, you'll want to call it with some different inputs and see what the results are!"
   ]
  },
  {
   "cell_type": "code",
   "execution_count": 1,
   "metadata": {},
   "outputs": [],
   "source": [
    "def add_tax(price):\n",
    "    return price + price * 0.08"
   ]
  },
  {
   "cell_type": "code",
   "execution_count": 4,
   "metadata": {},
   "outputs": [
    {
     "data": {
      "text/plain": [
       "108.0"
      ]
     },
     "execution_count": 4,
     "metadata": {},
     "output_type": "execute_result"
    }
   ],
   "source": [
    "# make one call to your function here\n",
    "add_tax(100)  # should produce 108"
   ]
  },
  {
   "cell_type": "code",
   "execution_count": 5,
   "metadata": {},
   "outputs": [
    {
     "data": {
      "text/plain": [
       "88.56"
      ]
     },
     "execution_count": 5,
     "metadata": {},
     "output_type": "execute_result"
    }
   ],
   "source": [
    "# make another call to your function here\n",
    "add_tax(82)  # should produce 82 + 12%, which my calculator/phone tells me is 88.56"
   ]
  },
  {
   "cell_type": "code",
   "execution_count": 13,
   "metadata": {},
   "outputs": [
    {
     "data": {
      "text/plain": [
       "0.10800000000000001"
      ]
     },
     "execution_count": 13,
     "metadata": {},
     "output_type": "execute_result"
    }
   ],
   "source": [
    "# NOTE: depending on what price the function is called with, you may encounter\n",
    "#       a result you don't expect:\n",
    "\n",
    "add_tax(0.1) # we should expect 0.108!\n",
    "             # that's not what we get though. this isn't the programmer's fault!\n",
    "             # this happens because of how floating point numbers are represented\n",
    "             # in python."
   ]
  },
  {
   "cell_type": "markdown",
   "metadata": {},
   "source": [
    "This error isn't something you should worry much about in this course. However, if you're interested, click [here](https://www.geeksforgeeks.org/floating-point-error-in-python/) for a quick summary on floating point errors in Python."
   ]
  },
  {
   "cell_type": "markdown",
   "metadata": {},
   "source": [
    "## Problem 6\n",
    "\n",
    "Now you want a function that will take a price (perhaps from an activity for which you'll share the cost with friends), adds tax, and then splits the bill over some number of people.\n",
    "\n",
    "We've got the function started for you, but you must complete it. Your function *must* call the function you defined in problem 5. Again, to check that `split_cost` works, you'll want to call it with a few different inputs and see what the results are.\n",
    "\n",
    "By the way, there's no need to define that function from problem 5 again. As long as you've run the cell above that defines the function, you can call the function in the cell below."
   ]
  },
  {
   "cell_type": "code",
   "execution_count": 7,
   "metadata": {},
   "outputs": [],
   "source": [
    "def split_cost(num_people_to_split, cost):\n",
    "    total_cost = add_tax(cost)\n",
    "    cost_per_person = total_cost / num_people_to_split\n",
    "    return cost_per_person\n"
   ]
  },
  {
   "cell_type": "code",
   "execution_count": 8,
   "metadata": {},
   "outputs": [
    {
     "data": {
      "text/plain": [
       "21.6"
      ]
     },
     "execution_count": 8,
     "metadata": {},
     "output_type": "execute_result"
    }
   ],
   "source": [
    "# example for split_cost\n",
    "split_cost(5, 100) # expect the result 21.6"
   ]
  },
  {
   "cell_type": "code",
   "execution_count": 9,
   "metadata": {},
   "outputs": [
    {
     "data": {
      "text/plain": [
       "21.6"
      ]
     },
     "execution_count": 9,
     "metadata": {},
     "output_type": "execute_result"
    }
   ],
   "source": [
    "# example for split_cost\n",
    "split_cost(1, 20) # expect the result 21.6"
   ]
  },
  {
   "cell_type": "code",
   "execution_count": 10,
   "metadata": {},
   "outputs": [
    {
     "data": {
      "text/plain": [
       "10.8"
      ]
     },
     "execution_count": 10,
     "metadata": {},
     "output_type": "execute_result"
    }
   ],
   "source": [
    "# example for split_cost\n",
    "split_cost(2, 20) # expect the result 10.8"
   ]
  }
 ],
 "metadata": {
  "kernelspec": {
   "display_name": "Python 3 (ipykernel)",
   "language": "python",
   "name": "python3"
  },
  "language_info": {
   "codemirror_mode": {
    "name": "ipython",
    "version": 3
   },
   "file_extension": ".py",
   "mimetype": "text/x-python",
   "name": "python",
   "nbconvert_exporter": "python",
   "pygments_lexer": "ipython3",
   "version": "3.9.13"
  }
 },
 "nbformat": 4,
 "nbformat_minor": 2
}
