{
 "cells": [
  {
   "cell_type": "code",
   "execution_count": 4,
   "metadata": {
    "editable": false
   },
   "outputs": [],
   "source": [
    "from cs103 import *\n",
    "from ipynb.fs.full.date_fact import * # required so we can use the code in date_fact.ipynb"
   ]
  },
  {
   "cell_type": "markdown",
   "metadata": {
    "editable": false
   },
   "source": [
    "If you encounter a \"ModuleNotFound: No module named ipynb\" error when you run the cell above, be sure to run the setup/Misc/setup.ipynb file. Then, come back to this file and restart your kernel (Kernel -> Restart). After that, the error should go away when you run the cell above."
   ]
  },
  {
   "cell_type": "markdown",
   "metadata": {
    "editable": false
   },
   "source": [
    "## Introduction to Python Worksheet\n",
    "\n",
    "**Note:** We suggest that you make a prediction for what will happen before testing it in Jupyter, and then test in Jupyter to see if your understanding was correct.\n",
    "\n",
    "There will be some cells in this notebook (e.g., the cells that contain the question prompt) that you will not be able to edit. "
   ]
  },
  {
   "cell_type": "markdown",
   "metadata": {
    "editable": false
   },
   "source": [
    " 1. What type of data is each of the following values?"
   ]
  },
  {
   "cell_type": "markdown",
   "metadata": {},
   "source": [
    "Double click to edit the table \n",
    "\n",
    "|Value|Type (float, int, str or bool)|\n",
    "|:-------------:|:-------------:|\n",
    "|10.0 | float|\n",
    "|'pi' |str|\t\n",
    "|17 |int|\t\n",
    "|'3.14' |str|\t\n",
    "|True |bool|\n",
    "|'False' |str|\n",
    "|-0.001 |float|"
   ]
  },
  {
   "cell_type": "markdown",
   "metadata": {
    "editable": false
   },
   "source": [
    "2. What are the first three things you like to look for to figure out what type of data a value is? (There's no one right answer, but it's good to think about your strategies.)"
   ]
  },
  {
   "cell_type": "markdown",
   "metadata": {},
   "source": [
    "*Your solution goes here.*\n",
    "1. Check for quotation marks, if there is then it is a string\n",
    "2. Check if there are decimals, if there is a decimal then it is a floating point number\n",
    "3. Check if it says True or False, if there is (without quotation marks) then it is a boolean value\n"
   ]
  },
  {
   "cell_type": "markdown",
   "metadata": {
    "editable": false
   },
   "source": [
    "3. For each of the following expressions, indicate what value it will evaluate to."
   ]
  },
  {
   "cell_type": "markdown",
   "metadata": {},
   "source": [
    "| Expression | Value |\n",
    "|:-------------:|:-------------:|\n",
    "|3 * 4 + 7 | 19|\n",
    "|3 * 1.5 | 4.5|\t\n",
    "|4 * 1.0 |4.0|\t\n",
    "|4.0 + '1' |error message, cannot be evaluated|\t\n",
    "|4.0 / 2.0 + 1.0 |3.0|\n",
    "|10 / 2 + 3 |8.0|\n"
   ]
  },
  {
   "cell_type": "markdown",
   "metadata": {
    "editable": false
   },
   "source": [
    "4. Highlight all of the expressions below that will evaluate to the value True.\n",
    "\n",
    "To highlight the expression use the `<mark>text</mark>` tag . Example: <mark> expression1 </mark>  (Double click to see the example)"
   ]
  },
  {
   "cell_type": "markdown",
   "metadata": {},
   "source": [
    "| <br></br>|<br></br>|<br></br>|\n",
    "|:-----------------:|:-----------------:|:-----------------:|\n",
    "|2 > 3       |      <mark>10.0 > 9.999</mark>      |     3 == 3.0 |\n",
    "|<mark>5.0 == 5.0</mark>     |     <mark>1.0 + 1.0 == 2.0</mark>  |      <mark>not False</mark> |\n",
    "|not (10 < 20)   |   4.0 == 3 + 1      |     <mark>3.0 != 4.0</mark> |\n",
    "|<mark>False or True</mark>    |    False and True  |     <mark>True and True</mark> |\n",
    "|<mark>(4 < 8 and 3 + 1 == 4) or 1 != 2 </mark>    |      <mark>2 > 1 or 2 > 4</mark> | |\n",
    "\n"
   ]
  },
  {
   "cell_type": "markdown",
   "metadata": {
    "editable": false
   },
   "source": [
    "5. The following code is evaluated in order. In the boxes on the right, provide the value that the expression on the left will evaluate to."
   ]
  },
  {
   "cell_type": "markdown",
   "metadata": {},
   "source": [
    "\n",
    "```python\n",
    "\n",
    "a = 3\n",
    "a + 2       --> # 5\n",
    "a = a + 1\n",
    "b = 2\n",
    "a == 4      --> # True\n",
    "a + b       --> # 6\n",
    "a = a + b\n",
    "b           --> # 2\n",
    "a           --> # 6\n",
    "\n",
    "```"
   ]
  },
  {
   "cell_type": "markdown",
   "metadata": {
    "editable": false
   },
   "source": [
    "6. The following code is evaluated in order. In the boxes on the right, provide the value that the expression on the left will evaluate to."
   ]
  },
  {
   "cell_type": "markdown",
   "metadata": {},
   "source": [
    "```python\n",
    "\n",
    "x = 1\n",
    "y = 4        --> 4\n",
    "x + 4\n",
    "y = 2\n",
    "y == 4       --> # False\n",
    "x + y        --> # 3\n",
    "x = y + 3\n",
    "x            --> # 5\n",
    "y            --> # 2\n",
    "\n",
    "```"
   ]
  },
  {
   "cell_type": "markdown",
   "metadata": {
    "editable": false
   },
   "source": [
    "7. For each of the following expressions, indicate what value the expression will be evaluated to, or if it will produce an error."
   ]
  },
  {
   "cell_type": "markdown",
   "metadata": {},
   "source": [
    "```python\n",
    "\n",
    "   Expression      |         Value \n",
    "\n",
    "'hello' + 'world'  |# 'helloworld'\n",
    "'hello' * 3        |# 'hellohellohello'\t\n",
    "'hello' + 3.0      |# error\n",
    "'hello' * '3'      |# error\t\n",
    "'world'[2]         |# 'r'\n",
    "'world'[:2]        |# 'wo'\n",
    "'world'[2:]        |# 'rld'\n",
    "'helloworld'[-1]   |# 'd'\n",
    "\n",
    "```\n"
   ]
  },
  {
   "cell_type": "markdown",
   "metadata": {
    "editable": false
   },
   "source": [
    "8. Using str1, str2 and str3 and basic string operations, write an expression that will evaluate to each of the following strings."
   ]
  },
  {
   "cell_type": "code",
   "execution_count": 2,
   "metadata": {},
   "outputs": [],
   "source": [
    "str1 = 'University '\n",
    "str2 = 'of '\n",
    "str3 = 'British Columbia'"
   ]
  },
  {
   "cell_type": "markdown",
   "metadata": {
    "editable": false
   },
   "source": [
    "**A.** 'University of British Columbia'"
   ]
  },
  {
   "cell_type": "code",
   "execution_count": 3,
   "metadata": {},
   "outputs": [
    {
     "data": {
      "text/plain": [
       "'University of British Columbia'"
      ]
     },
     "execution_count": 3,
     "metadata": {},
     "output_type": "execute_result"
    }
   ],
   "source": [
    "# your solution goes here\n",
    "str1 + str2 + str3"
   ]
  },
  {
   "cell_type": "markdown",
   "metadata": {
    "editable": false
   },
   "source": [
    "**B.** 'Universe'"
   ]
  },
  {
   "cell_type": "code",
   "execution_count": 4,
   "metadata": {},
   "outputs": [
    {
     "data": {
      "text/plain": [
       "'Universe'"
      ]
     },
     "execution_count": 4,
     "metadata": {},
     "output_type": "execute_result"
    }
   ],
   "source": [
    "# your solution goes here\n",
    "str1[:7] + 'e'"
   ]
  },
  {
   "cell_type": "markdown",
   "metadata": {
    "editable": false
   },
   "source": [
    "9. What is the value stored in result when each of the following code fragments have run?"
   ]
  },
  {
   "cell_type": "markdown",
   "metadata": {
    "editable": false
   },
   "source": [
    "**A.**\n",
    "```python\n",
    "value = 13\n",
    "result = 'default'\n",
    "\n",
    "if value == 7:\n",
    "    result = 'lucky'\n",
    "elif value == 13:\n",
    "    result = 'unlucky'\n",
    "else:\n",
    "    result = 'boring'\n",
    "```"
   ]
  },
  {
   "cell_type": "code",
   "execution_count": 5,
   "metadata": {},
   "outputs": [
    {
     "data": {
      "text/plain": [
       "'unlucky'"
      ]
     },
     "execution_count": 5,
     "metadata": {},
     "output_type": "execute_result"
    }
   ],
   "source": [
    "# your solution goes here\n",
    "'unlucky'"
   ]
  },
  {
   "cell_type": "markdown",
   "metadata": {
    "editable": false
   },
   "source": [
    "**B.**\n",
    "```python\n",
    "temp = 35.0\n",
    "result = 'default'\n",
    "\n",
    "if temp < 10.0:\n",
    "    result = 'too cold'\n",
    "elif temp > 25.0:\n",
    "    result = 'too hot'\n",
    "elif temp > 30.0:\n",
    "    result = 'way too hot'\n",
    "else:\n",
    "    result = 'just right'\n",
    "```"
   ]
  },
  {
   "cell_type": "code",
   "execution_count": null,
   "metadata": {},
   "outputs": [],
   "source": [
    "# your solution goes here\n",
    "'way too hot'"
   ]
  },
  {
   "cell_type": "markdown",
   "metadata": {
    "editable": false
   },
   "source": [
    "10. Define a function that adds 2 to a number."
   ]
  },
  {
   "cell_type": "code",
   "execution_count": 10,
   "metadata": {},
   "outputs": [
    {
     "data": {
      "text/plain": [
       "4"
      ]
     },
     "execution_count": 10,
     "metadata": {},
     "output_type": "execute_result"
    }
   ],
   "source": [
    "# your solution goes here\n",
    "def add_2(number: int) -> int:\n",
    "    \"\"\"returns the sum of a number and 2\"\"\"\n",
    "    sum = number + 2\n",
    "    return sum"
   ]
  },
  {
   "cell_type": "markdown",
   "metadata": {
    "editable": false
   },
   "source": [
    "11. Using the Facts API from class, define a function that accepts a number and returns a fact about a number. The output of your function should also include information about the number that was used to generate the fact. \n",
    "\n",
    "For example, imagine the fact returned about the number 0 is the string “is the additive identity”. To make the statement a bit easier to understand, we also want to include which number the fact is talking about. Our goal is to have our function return something like “The number 0 is the additive identity”."
   ]
  },
  {
   "cell_type": "code",
   "execution_count": 1,
   "metadata": {},
   "outputs": [],
   "source": [
    "# your solution goes here\n",
    "def numberFact(number: int) -> int:\n",
    "    \"\"\"returns a fact about a number\"\"\"\n",
    "    fact = get_number_fact(number)\n",
    "    return \"The number \" + str(number) + \" is \" + get_number_fact(number) + \".\" "
   ]
  },
  {
   "cell_type": "markdown",
   "metadata": {
    "editable": false
   },
   "source": [
    "12.\t\n",
    "\n",
    "**A.** Write a line of code that calls the function you wrote in problem 11 and assigns the result to a new variable."
   ]
  },
  {
   "cell_type": "code",
   "execution_count": 12,
   "metadata": {},
   "outputs": [
    {
     "data": {
      "text/plain": [
       "'The number 2 is the third Fibonacci number, and the third and fifth Perrin numbers.'"
      ]
     },
     "execution_count": 12,
     "metadata": {},
     "output_type": "execute_result"
    }
   ],
   "source": [
    "# your solution goes here\n",
    "x = numberFact(2)"
   ]
  },
  {
   "cell_type": "markdown",
   "metadata": {},
   "source": [
    "**B.** Write a line of code that calls the function you wrote in problem 11 with different inputs. Assign the result to a new variable."
   ]
  },
  {
   "cell_type": "code",
   "execution_count": 14,
   "metadata": {},
   "outputs": [
    {
     "data": {
      "text/plain": [
       "'The number 7 is the smallest number of sides of a regular polygon that is not constructible by straightedge and compass.'"
      ]
     },
     "execution_count": 14,
     "metadata": {},
     "output_type": "execute_result"
    }
   ],
   "source": [
    "# your solution goes here\n",
    "y = numberFact(7)"
   ]
  },
  {
   "cell_type": "markdown",
   "metadata": {
    "editable": false
   },
   "source": [
    "**C.** Write a line of code that calls the function from problem 11 twice (with different inputs). Connect the two sentences with the word “and”. Don't worry about capitalization issues (but definitely ask us if you want to know how to resolve it!)."
   ]
  },
  {
   "cell_type": "code",
   "execution_count": 17,
   "metadata": {},
   "outputs": [
    {
     "data": {
      "text/plain": [
       "'The number 4 is the second square number, the second centered triangular number and the number 10 is a semi-meandric number.'"
      ]
     },
     "execution_count": 17,
     "metadata": {},
     "output_type": "execute_result"
    }
   ],
   "source": [
    "# your solution goes here\n",
    "numberFact(4)[:-1] + \" and \" + \"t\" + numberFact(10)[1:]"
   ]
  },
  {
   "cell_type": "markdown",
   "metadata": {
    "editable": false
   },
   "source": [
    "13. Define a function that takes a string parameter s and returns `'short'` if s is 3 characters long or less, `'medium'` if it is 7 characters or less, and `'long'` otherwise. (Check out the Language Module to look for a function that gives you the length of a string.)"
   ]
  },
  {
   "cell_type": "code",
   "execution_count": 26,
   "metadata": {},
   "outputs": [],
   "source": [
    "# your solution goes here\n",
    "def short_or_long(string: str)-> str:\n",
    "    \"\"\"returns the result if a string is short, medium, or long\"\"\"\n",
    "    if len(string)<=3:\n",
    "        result = \"short\"\n",
    "    elif len(string)<=7:\n",
    "        result=\"medium\"\n",
    "    else:\n",
    "        result=\"long\"\n",
    "    return result\n",
    "        "
   ]
  },
  {
   "cell_type": "markdown",
   "metadata": {
    "editable": false
   },
   "source": [
    "14. \n",
    "\n",
    "**A.** Write a line of code to call the function you defined in problem 13 with some string value as its argument."
   ]
  },
  {
   "cell_type": "code",
   "execution_count": 27,
   "metadata": {},
   "outputs": [
    {
     "data": {
      "text/plain": [
       "'medium'"
      ]
     },
     "execution_count": 27,
     "metadata": {},
     "output_type": "execute_result"
    }
   ],
   "source": [
    "# your solution goes here\n",
    "short_or_long(\"thanks\")"
   ]
  },
  {
   "cell_type": "markdown",
   "metadata": {
    "editable": false
   },
   "source": [
    "**B.** Write a line of code to call the function you defined in problem 13 with a different string value that will produce a different returned result."
   ]
  },
  {
   "cell_type": "code",
   "execution_count": 28,
   "metadata": {},
   "outputs": [
    {
     "data": {
      "text/plain": [
       "'long'"
      ]
     },
     "execution_count": 28,
     "metadata": {},
     "output_type": "execute_result"
    }
   ],
   "source": [
    "# your solution goes here\n",
    "short_or_long(\"instantaneous\")"
   ]
  },
  {
   "cell_type": "markdown",
   "metadata": {
    "editable": false
   },
   "source": [
    "**C.** Write a line of code to call the function you defined in problem 13 with a third string value that will produce a third, different returned result."
   ]
  },
  {
   "cell_type": "code",
   "execution_count": 29,
   "metadata": {},
   "outputs": [
    {
     "data": {
      "text/plain": [
       "'short'"
      ]
     },
     "execution_count": 29,
     "metadata": {},
     "output_type": "execute_result"
    }
   ],
   "source": [
    "# your solution goes here\n",
    "short_or_long(\"hi\")"
   ]
  },
  {
   "cell_type": "markdown",
   "metadata": {
    "editable": false
   },
   "source": [
    "15. Define a function that takes a string parameter word and returns its plural according to the following rules:\n",
    "- if the string ends in ‘s’, make no changes\n",
    "- if the string ends in ‘o’, add ‘es’\n",
    "- if the string ends in ‘f’, remove the f, and add ‘ves’\n",
    "- otherwise, add ‘s’\n",
    "\n",
    "Also include enough calls to your function to check that it is working correctly in all the possible cases. (In Jupyter, you’ll likely want to put each of these calls in its own cell so that running the cells shows you all the results of\n",
    "these calls.)\n",
    "\n",
    "Be sure to look at the \"Python Language Rules: Modules 1 and 2\" page on Canvas for more information on string operators. "
   ]
  },
  {
   "cell_type": "code",
   "execution_count": 2,
   "metadata": {},
   "outputs": [],
   "source": [
    "# Your solution here\n",
    "def plural(string: str)->str:\n",
    "    \"\"\"returns the plural of a string\"\"\"\n",
    "    if (string[-1]=='s'):\n",
    "        string = string\n",
    "    elif (string[-1]=='o'):\n",
    "        string = string + \"es\"\n",
    "    elif (string[-1]=='f'):\n",
    "        string = string[:-1] + 'ves'\n",
    "    else:\n",
    "        string = string + 's'\n",
    "    return string\n",
    "        \n",
    "    \n",
    "    "
   ]
  },
  {
   "cell_type": "code",
   "execution_count": 35,
   "metadata": {},
   "outputs": [
    {
     "data": {
      "text/plain": [
       "'elves'"
      ]
     },
     "execution_count": 35,
     "metadata": {},
     "output_type": "execute_result"
    }
   ],
   "source": [
    "plural(\"elf\")"
   ]
  },
  {
   "cell_type": "code",
   "execution_count": 36,
   "metadata": {},
   "outputs": [
    {
     "data": {
      "text/plain": [
       "'sees'"
      ]
     },
     "execution_count": 36,
     "metadata": {},
     "output_type": "execute_result"
    }
   ],
   "source": [
    "plural(\"sees\")"
   ]
  },
  {
   "cell_type": "code",
   "execution_count": 37,
   "metadata": {},
   "outputs": [
    {
     "data": {
      "text/plain": [
       "'goes'"
      ]
     },
     "execution_count": 37,
     "metadata": {},
     "output_type": "execute_result"
    }
   ],
   "source": [
    "plural(\"go\")"
   ]
  },
  {
   "cell_type": "code",
   "execution_count": 38,
   "metadata": {},
   "outputs": [
    {
     "data": {
      "text/plain": [
       "'makes'"
      ]
     },
     "execution_count": 38,
     "metadata": {},
     "output_type": "execute_result"
    }
   ],
   "source": [
    "plural(\"make\")"
   ]
  },
  {
   "cell_type": "markdown",
   "metadata": {
    "editable": false
   },
   "source": [
    "16. Write the step-by-step evaluation of the following expression. Use the notation from the Evaluation Rules document from the Language module on Canvas\n",
    "\n",
    "**Note:** no need to underline the expressions"
   ]
  },
  {
   "cell_type": "markdown",
   "metadata": {
    "editable": false
   },
   "source": [
    "```python\n",
    "3.0 * (10.0 / 5.0) + 10.0\n",
    "```"
   ]
  },
  {
   "cell_type": "markdown",
   "metadata": {},
   "source": [
    "*Your solution goes here.*\n",
    "\n",
    "```python\n",
    "3.0 * 2.0 + 10.0\n",
    "6.0 + 10.0\n",
    "16.0\n",
    "```"
   ]
  },
  {
   "cell_type": "markdown",
   "metadata": {
    "editable": false
   },
   "source": [
    "17. Write the step-by-step evaluation of the line `foo(9.0/2.0)`:\n",
    "```python\n",
    "def foo(x):\n",
    "        if x > 5:\n",
    "            return x*2\n",
    "        elif x < 2:\n",
    "            return x + 7\n",
    "        else:\n",
    "            return x\n",
    "```\n",
    "\n",
    "```python\n",
    "foo(9.0/2.0)\n",
    "```\n",
    "\n",
    "When answering this question below, be sure to use the code formatting option in Markdown (double click this cell to see how we can indicate which parts are code. This code formatting option makes it easier for you to express indents.\n",
    "\n",
    "\n",
    "Alternatively, you can write your solution on a piece of paper and take a picture of it. Upload the picture to Jupyter and then insert it in the cell below by going to Edit -> Insert Image."
   ]
  },
  {
   "cell_type": "code",
   "execution_count": null,
   "metadata": {},
   "outputs": [],
   "source": [
    "*Your solution goes here*"
   ]
  },
  {
   "cell_type": "markdown",
   "metadata": {
    "editable": false
   },
   "source": [
    "Notes:\n",
    "- To trace evaluation of a function call: evaluate all of its argument expressions to values (like 20 rather than 4* 5); then, go off to the side, make a note of what the parameters’ values are, and trace the evaluation of the body of the function separately. When you get to a return and have traced evaluation of its expression to a simple value (like return True or return 6), go back to your original evaluation trace and replace the underlined function call with the returned value.\n",
    "- To trace evaluation of an if/elif/else statement, find the branch (the if, elif, or else) to execute, if any, and trace through its body (the statements indented within that branch). In more detail: first trace evaluation of the if’s condition expression to a single value True or False. If True, replace the whole statement with body of the if, deleting any elif or else. If it’s False, delete the if part of the statement and its body. If that removes the if statement entirely, you’re done with that statement. If not, it will leave you with an elif or an else. If it’s an elif, just change it into an if and keep going. If it’s an else, replace the whole statement with the body of the else."
   ]
  },
  {
   "cell_type": "markdown",
   "metadata": {
    "editable": false
   },
   "source": [
    "18. Is there anything you’d like to share with us so that we can help you achieve your goals in this class? For example, family or other commitments, personal needs such as needing to sit close to the front of class, etc."
   ]
  },
  {
   "cell_type": "markdown",
   "metadata": {},
   "source": [
    "*Your solution goes here*\n",
    "\n",
    "I just wanted to say that I hope the course goes smoothly so that I am able to have a balance between academic and leisure life. Last year I put too much focus on academics and did not have time to do anything fun, so I hope that this year I can regain the balance."
   ]
  },
  {
   "cell_type": "markdown",
   "metadata": {
    "editable": false
   },
   "source": [
    "19. What are you finding most helpful as you begin to learn how to program in Python?"
   ]
  },
  {
   "cell_type": "markdown",
   "metadata": {},
   "source": [
    "*Your solution goes here*\n",
    "\n",
    "Having access to the how-to documents."
   ]
  },
  {
   "cell_type": "markdown",
   "metadata": {
    "editable": false
   },
   "source": [
    "20. What are you finding most difficult about learning Python?"
   ]
  },
  {
   "cell_type": "markdown",
   "metadata": {},
   "source": [
    "*Your solution goes here*\n",
    "\n",
    "Boolean evaluation"
   ]
  },
  {
   "cell_type": "code",
   "execution_count": null,
   "metadata": {
    "editable": false
   },
   "outputs": [],
   "source": [
    "# NOTE: You should not be able to edit this cell. \n",
    "# Just run it to start the process of submiting your code.\n",
    "\n",
    "# Be sure to submit BOTH the worksheet AND the date_fact.ipynb file or else you\n",
    "# will see errors on Canvas.\n",
    "# To submit multiple files, hold down cmd/ctrl when selecting the files you want to submit.\n",
    "from cs103 import submit\n",
    "\n",
    "COURSE = 123409\n",
    "ASSIGNMENT = 1615204\n",
    "\n",
    "submit(COURSE, ASSIGNMENT)\n",
    "\n",
    "# If something has gone wrong and you still are not able to submit by running the code above, SUBMIT ANYWAY \n",
    "# by downloading your files and uploading them to Canvas. You can learn how on the page \n",
    "# \"How to submit your Jupyter notebook\" on our Canvas site."
   ]
  },
  {
   "cell_type": "markdown",
   "metadata": {
    "editable": false
   },
   "source": [
    "<font color=blue>  If you are finished you can begin working on the pre-class work for next class </font>"
   ]
  }
 ],
 "metadata": {
  "celltoolbar": "Edit Metadata",
  "kernelspec": {
   "display_name": "Python 3 (ipykernel)",
   "language": "python",
   "name": "python3"
  },
  "language_info": {
   "codemirror_mode": {
    "name": "ipython",
    "version": 3
   },
   "file_extension": ".py",
   "mimetype": "text/x-python",
   "name": "python",
   "nbconvert_exporter": "python",
   "pygments_lexer": "ipython3",
   "version": "3.11.4"
  }
 },
 "nbformat": 4,
 "nbformat_minor": 4
}
