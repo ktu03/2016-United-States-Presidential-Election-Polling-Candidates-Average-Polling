{
 "cells": [
  {
   "cell_type": "code",
   "execution_count": 1,
   "id": "ace052b2",
   "metadata": {},
   "outputs": [],
   "source": [
    "from cs103 import *\n",
    "import requests"
   ]
  },
  {
   "cell_type": "code",
   "execution_count": 2,
   "id": "bd71527f",
   "metadata": {},
   "outputs": [],
   "source": [
    "@typecheck\n",
    "def get_date_fact(month: int, day: int) -> str:\n",
    "    \"\"\"Fetches a fact about the given day of the year from http://numbersapi.com/\n",
    "    month is in the range [1,12], where 1 is Jan, 2 is Feb, etc.\n",
    "    \n",
    "    day is a legitimate day for the given month (and so in the range [1,31] at most).\n",
    "    Returns a sentence fragment that can end a fact about the date with no verb or closing punctuation.\"\"\"\n",
    "    result = requests.get(f\"http://numbersapi.com/{month}/{day}/date?fragment\")\n",
    "    result.raise_for_status()\n",
    "    return result.text\n",
    "\n",
    "@typecheck\n",
    "def get_number_fact(number: int) -> str:\n",
    "    \"\"\"Fetches a fact about the given number from http://numbersapi.com/\n",
    "\n",
    "    Returns a sentence fragment that can end a fact about the date with no verb or closing punctuation.\"\"\"\n",
    "    result = requests.get(f\"http://numbersapi.com/{number}/math?fragment\")\n",
    "    result.raise_for_status()\n",
    "    return result.text\n",
    "\n",
    "@typecheck\n",
    "def get_year_fact(year: int) -> str:\n",
    "    \"\"\"Fetches a fact about the given year from http://numbersapi.com/\n",
    "    \n",
    "    Returns a sentence fragment that can end a fact about the date with no verb or closing punctuation.\"\"\"\n",
    "    result = requests.get(f\"http://numbersapi.com/{year}/year?fragment\")\n",
    "    result.raise_for_status()\n",
    "    return result.text\n"
   ]
  }
 ],
 "metadata": {
  "kernelspec": {
   "display_name": "Python 3 (ipykernel)",
   "language": "python",
   "name": "python3"
  },
  "language_info": {
   "codemirror_mode": {
    "name": "ipython",
    "version": 3
   },
   "file_extension": ".py",
   "mimetype": "text/x-python",
   "name": "python",
   "nbconvert_exporter": "python",
   "pygments_lexer": "ipython3",
   "version": "3.9.9"
  }
 },
 "nbformat": 4,
 "nbformat_minor": 5
}
