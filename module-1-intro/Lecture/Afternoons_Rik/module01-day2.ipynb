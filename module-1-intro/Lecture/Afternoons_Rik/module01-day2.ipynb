{
 "cells": [
  {
   "cell_type": "code",
   "execution_count": null,
   "metadata": {
    "slideshow": {
     "slide_type": "slide"
    }
   },
   "outputs": [],
   "source": [
    "# You must run this cell once before you run any of the other cells in this file\n",
    "\n",
    "# Needed (once per notebook) to enable incredible cs103 powers!!\n",
    "from cs103 import * \n",
    "\n",
    "# This indicates we are going to use some code from the date_fact.py file\n",
    "from date_fact import *"
   ]
  },
  {
   "cell_type": "markdown",
   "metadata": {},
   "source": [
    "# CPSC 103 - Systematic Program Design\n",
    "# Module 01 Day 2\n",
    "Rik Blok, with thanks to Prof. Giulia Toti\n",
    "\n",
    "---"
   ]
  },
  {
   "cell_type": "markdown",
   "metadata": {},
   "source": [
    "# Reminders\n",
    "- Mon: Module 1 (Intro): Worksheet\n",
    "- Mon: Module 2: Pre-Lecture Assignment\n",
    "- Mon: Syllabus Quiz\n",
    "- Wed: Module 1 (Intro): Code Review\n",
    "- Wed: Module 1 (Intro): Tutorial\n",
    "\n",
    "---"
   ]
  },
  {
   "cell_type": "markdown",
   "metadata": {},
   "source": [
    "# Module 1: Learning Goals\n",
    "\n",
    "At the end of this module, you will be able to:\n",
    "\n",
    "- Write statements that operate on primitive data including numbers, strings and booleans.\n",
    "- Write variable definitions and function definitions.\n",
    "- Write out the step-by-step evaluation of simple statements including function calls.\n",
    "- Use Jupyter notebooks to run Python code.\n",
    "\n",
    "---"
   ]
  },
  {
   "cell_type": "markdown",
   "metadata": {},
   "source": [
    "# iClicker check-in\n",
    "How are you doing?  Any trouble keeping up?\n",
    "\n",
    "<!-- formatting: add two spaces at end of line to force linebreak -->\n",
    "  A. 💪 Easy-peasy... you can go faster  \n",
    "  B. 👍 Yup, I got this  \n",
    "  C. 😕 I might have missed a bit here or there  \n",
    "  D. 😟 Hmm, something's not working right  \n",
    "  E. 😵 I have no idea what's going on  \n",
    "\n",
    "---"
   ]
  },
  {
   "cell_type": "markdown",
   "metadata": {},
   "source": [
    "# Date facts\n",
    "\n",
    "Let's check some fun facts that happened on a date. We will use the the API http://numbersapi.com/. Think of an API as a way for us to communicate with another computer to get the information we need. \n",
    "\n",
    "To use any supplied function we need to know its *signature*, or its...\n",
    "- name,\n",
    "- arguments, and\n",
    "- return value.\n",
    "\n",
    "The code inside the file `date_fact.py` (imported at the start of this notebook) gives us the following functions:\n",
    "\n",
    "- `get_date_fact(month: int, day: int) -> str`\n",
    "\n",
    "\n",
    "- `get_number_fact(number: int) -> str`\n",
    "\n",
    "\n",
    "- `get_year_fact(year: int) -> str`\n",
    "\n",
    "---"
   ]
  },
  {
   "cell_type": "code",
   "execution_count": null,
   "metadata": {
    "scrolled": true
   },
   "outputs": [],
   "source": [
    "# Get some trivia from the year you were born!\n",
    "\n",
    "# First, take a look at the names of the functions. Out of the three\n",
    "# functions listed above, which one do you think we should use?\n",
    "\n",
    "# Now, look at the signature of the function you have chosen.\n",
    "# What kind of information does it ask for (hint: what parameters are listed\n",
    "# in the signature)?\n",
    "\n",
    "# Try to call (i.e., use) the function!\n",
    "get_year_fact(2000)"
   ]
  },
  {
   "cell_type": "markdown",
   "metadata": {},
   "source": [
    "# Include the year\n",
    "Notice how the output from the function does not include the year. \n",
    "\n",
    "The argument does not necessarily need to be included in the output of a function. We can include it if we want, but it is not mandated.\n",
    "\n",
    "Let's change the output to display a sentence that also states the year, like \"In 2000, ...\"."
   ]
  },
  {
   "cell_type": "code",
   "execution_count": null,
   "metadata": {},
   "outputs": [],
   "source": []
  },
  {
   "cell_type": "markdown",
   "metadata": {},
   "source": [
    "# Changing things up\n",
    "What happens if we want to find facts from another year?\n",
    "\n",
    "Is there an easier way to change the value of the year without having to remember all the places the year appeared in?\n",
    "\n",
    "<details>\n",
    "\n",
    "- Recall, we've seen a few different primitive types: `int`, `float`, and `str`\n",
    "- Different types don't always mix:\n",
    "    - `1 + 1 ` ⇒ `2` ✓\n",
    "    - `'1' + '1'` ⇒ `'11'` ✓\n",
    "    - `'1' + 1` ⇒ Syntax error ✗\n",
    "- You might find the `str` function useful.  It converts a number into a string\n",
    "\n",
    "</details>"
   ]
  },
  {
   "cell_type": "code",
   "execution_count": null,
   "metadata": {},
   "outputs": [],
   "source": []
  },
  {
   "cell_type": "markdown",
   "metadata": {},
   "source": [
    "# What happened on your date of birth?\n",
    "Write some code to find an event that happened on your birth date (month and day). Follow the same steps as before.\n",
    "\n",
    "1. Take a look at the names of the functions. Out of the three functions listed above, which one should we use?\n",
    "2. Take a look at the signature. What pieces of information is the function asking for? What kinds of data types are they?\n",
    "3. Try to call the function!"
   ]
  },
  {
   "cell_type": "code",
   "execution_count": null,
   "metadata": {},
   "outputs": [],
   "source": []
  },
  {
   "cell_type": "markdown",
   "metadata": {},
   "source": [
    "Now, try to include information about your date of birth before the fun fact in a sentence! For example, if your birthday was on *September 16* and the fact produced for this particular day is\n",
    "> 'the Cape Verde Islands, Mozambique, and Sao Tome and Principe join the United Nations'\n",
    "\n",
    "then your code should produce \n",
    "> 'On 9/16 the Cape Verde Islands, Mozambique, and Sao Tome and Principe join the United Nations.'\n",
    "\n",
    "Can you do this in a way that makes it easy for us to change the values for the birth month and day?"
   ]
  },
  {
   "cell_type": "code",
   "execution_count": null,
   "metadata": {},
   "outputs": [],
   "source": []
  },
  {
   "cell_type": "markdown",
   "metadata": {},
   "source": [
    "# Improving on greatness\n",
    "Let's make the output better. \n",
    "\n",
    "Instead of using numbers to describe a month, let's use the month's abbreviated (3- or 4-letter) name.  For example, instead of '9/16' let's write 'Sept 16'.\n",
    "\n",
    "For this task we'll use the `if/elif/else` statement, first introduced in question 16 of the Module 1 (Intro) worksheet, due on Monday."
   ]
  },
  {
   "cell_type": "code",
   "execution_count": null,
   "metadata": {},
   "outputs": [],
   "source": []
  },
  {
   "cell_type": "markdown",
   "metadata": {},
   "source": [
    "<details>\n",
    "\n",
    "- `elif` stands for `else if` so it only gets checked if none of the previous condition(s) were `True`.\n",
    "- What if the user enters an invalid number for the month (not 1..12)?  How should we handle that case?\n",
    "\n",
    "</details>"
   ]
  },
  {
   "cell_type": "markdown",
   "metadata": {},
   "source": [
    "# Swapping variables\n",
    "Let's get more familiar with how variables store data.  In Computer Science we often need to swap the contents of two variables, `x` and `y`.  So, after the swap, `x` now holds what was originally in `y`, and vice versa.\n",
    "\n",
    "How can we do that?"
   ]
  },
  {
   "cell_type": "code",
   "execution_count": null,
   "metadata": {},
   "outputs": [],
   "source": [
    "x = 5\n",
    "y = 10\n",
    "\n",
    "# Write a program below to swap the contents of x and y\n",
    "# Your program should work regardless of what x and y contain\n"
   ]
  },
  {
   "cell_type": "markdown",
   "metadata": {},
   "source": [
    "<details>\n",
    "\n",
    "Make sure you understand why we can't just write something like\n",
    "```python\n",
    "    x = y\n",
    "    y = x\n",
    "```\n",
    "\n",
    "We need a temporary swap space.\n",
    "\n",
    "</details>\n",
    "\n",
    "---"
   ]
  },
  {
   "cell_type": "markdown",
   "metadata": {},
   "source": [
    "# Writing your own functions\n",
    "\n",
    "So far, we have learned that functions are pretty great! \n",
    "- Code re-use: They allow us to perform an action without having to rewrite the code every time\n",
    "- Abstraction: We can use other people's functions without knowing how they work, just what arguments they need and what they return\n",
    "\n",
    "Naturally, you will want to be able to write your own functions.\n",
    "\n",
    "---"
   ]
  },
  {
   "cell_type": "markdown",
   "metadata": {},
   "source": [
    "# Checking the sign\n",
    "\n",
    "**Problem:** Check if a number is positive or negative.\n",
    "\n",
    "**Task:** \n",
    "1. Assign a number to a new variable.\n",
    "2. Create a blank string variable `output`.\n",
    "3. Fill the `output` with text that indicates whether `number` is positive or negative.\n",
    "4. Display the contents of `output`."
   ]
  },
  {
   "cell_type": "code",
   "execution_count": null,
   "metadata": {},
   "outputs": [],
   "source": [
    "# 1. Assign a number to a new variable.\n",
    "number = 3\n",
    "\n",
    "# 2. Create a blank string variable output.\n",
    "output = ''\n",
    "\n",
    "# 3. Fill the output with text that indicates whether number is positive or negative.\n"
   ]
  },
  {
   "cell_type": "markdown",
   "metadata": {},
   "source": [
    "<details>\n",
    "\n",
    "- `elif` stands for \"else if\".\n",
    "- How should we handle zero?\n",
    "\n",
    "</details>\n",
    "\n",
    "---"
   ]
  },
  {
   "cell_type": "markdown",
   "metadata": {},
   "source": [
    "# Let's do it again, but make a function\n",
    "<img src=\"module01-worker720.gif\" width=\"100%\" align=\"center\">"
   ]
  },
  {
   "cell_type": "markdown",
   "metadata": {},
   "source": [
    "# Checking the sign (refactored)\n",
    "\n",
    "**Problem:** Check if a number is positive or negative.\n",
    "\n",
    "**Task:** \n",
    "\n",
    "Write a function that:\n",
    "1. Takes a number as an argument.\n",
    "2. Creates a local string variable `output`.\n",
    "3. Fills the `output` with text that indicates whether `number` is positive or negative.\n",
    "4. Returns the contents of `output`."
   ]
  },
  {
   "cell_type": "code",
   "execution_count": null,
   "metadata": {},
   "outputs": [],
   "source": []
  },
  {
   "cell_type": "markdown",
   "metadata": {},
   "source": [
    "<details>\n",
    "\n",
    "- Notice how the statements contained within the function (its *body*) are indented.\n",
    "- The argument type (`int`) and function return type (`str`) aren't required here.  But we'll require them later so we're introducing them here.\n",
    "- How could we rewrite the function so that it doesn't need the local variable `output`?\n",
    "\n",
    "</details>\n",
    "\n",
    "---"
   ]
  },
  {
   "cell_type": "markdown",
   "metadata": {},
   "source": [
    "Now, test it by calling it with a few different numbers (or variables)."
   ]
  },
  {
   "cell_type": "code",
   "execution_count": null,
   "metadata": {},
   "outputs": [],
   "source": []
  },
  {
   "cell_type": "markdown",
   "metadata": {},
   "source": [
    "# iClicker question\n",
    "Imagine you want to write a function to compute how many one-Litre cans of paint are needed to paint a wall.  Which of the following are good arguments for this function?  Select **ALL** that apply.\n",
    "\n",
    "<!-- formatting: add two spaces at end of line to force linebreak -->\n",
    "\n",
    "A. Height of the wall  \n",
    "B. Width of the wall  \n",
    "C. Thickness of the wall  \n",
    "D. Size of a can  \n",
    "E. Number of cans needed  \n",
    "\n",
    "<details>\n",
    "\n",
    "- The size of the can is already given in the problem.\n",
    "- The function should return the number of cans needed.\n",
    "\n",
    "</details>\n",
    "\n",
    "---"
   ]
  },
  {
   "cell_type": "markdown",
   "metadata": {},
   "source": [
    "# iClicker question\n",
    "We want to write a function that repeats a given string.  Which of the following are correct?  Select **ALL** that apply.  Try to answer this question based on your knowledge, without running the code.\n",
    "\n",
    "<!-- formatting: add two spaces at end of line to force linebreak -->\n",
    "\n",
    "```python\n",
    "`A.`  def 2_times(thing):\n",
    "          return thing+thing\n",
    "`B.`  def repeat_it(string):\n",
    "          string*2\n",
    "`C.`  def repeat_string_once2(string):\n",
    "          return 'string' + 'string'\n",
    "`D.`  def repeat_string_once(string):\n",
    "          return string*2\n",
    "`E.`  def repeat(s):\n",
    "          new_s = s + s\n",
    "          return new_s\n",
    "```\n",
    "\n",
    "<details>\n",
    "\n",
    "- Python identifiers (e.g., variable and function names) must begin with a letter or an underscore\n",
    "- What do you expect will happen if you call some of these functions with numbers instead of strings?  Try it!  Were you right?\n",
    "- In option E you created a `new_s` variable in the function.  Can you access that variable after calling the function?\n",
    "- Option E contains two statements in the function.  Notice they both have the same indentation.\n",
    "\n",
    "</details>\n",
    "\n",
    "---"
   ]
  },
  {
   "cell_type": "code",
   "execution_count": null,
   "metadata": {},
   "outputs": [],
   "source": [
    "# Reproduce those functions here and try calling them!  (Watch your indentation!)\n",
    "\n"
   ]
  },
  {
   "cell_type": "markdown",
   "metadata": {},
   "source": [
    "# iClicker check-in\n",
    "How are you doing?  Any trouble keeping up?\n",
    "\n",
    "<!-- formatting: add two spaces at end of line to force linebreak -->\n",
    "  A. 💪 Easy-peasy... you can go faster  \n",
    "  B. 👍 Yup, I got this  \n",
    "  C. 😕 I might have missed a bit here or there  \n",
    "  D. 😟 Hmm, something's not working right  \n",
    "  E. 😵 I have no idea what's going on  \n",
    "\n",
    "---"
   ]
  },
  {
   "cell_type": "markdown",
   "metadata": {},
   "source": [
    "# Bonus iClicker question: `sqrt`\n",
    "Recall question 10 from the pre-class reading quiz:\n",
    "```python\n",
    "x = 9\n",
    "sqrt(9) # a built-in math function that returns the square root of its input\n",
    "```\n",
    "What is the value of `x` after the function call?  (If it helps, you can add the code to the cell below and run it.)\n",
    "\n",
    "<!-- formatting: add two spaces at end of line to force linebreak -->\n",
    "  A. 9  \n",
    "  B. 3  \n",
    "  C. 3.0  \n",
    "  D. Something else  \n",
    "  \n",
    "<details>\n",
    "\n",
    "- Notice, we want the value of `x`, not the result of the expression.\n",
    "- What's the purpose of the `from math import *` statement below?\n",
    "\n",
    "</details>"
   ]
  },
  {
   "cell_type": "code",
   "execution_count": null,
   "metadata": {},
   "outputs": [],
   "source": [
    "from math import *\n"
   ]
  },
  {
   "cell_type": "code",
   "execution_count": null,
   "metadata": {},
   "outputs": [],
   "source": []
  }
 ],
 "metadata": {
  "kernelspec": {
   "display_name": "Python 3 (ipykernel)",
   "language": "python",
   "name": "python3"
  },
  "language_info": {
   "codemirror_mode": {
    "name": "ipython",
    "version": 3
   },
   "file_extension": ".py",
   "mimetype": "text/x-python",
   "name": "python",
   "nbconvert_exporter": "python",
   "pygments_lexer": "ipython3",
   "version": "3.9.13"
  }
 },
 "nbformat": 4,
 "nbformat_minor": 4
}
