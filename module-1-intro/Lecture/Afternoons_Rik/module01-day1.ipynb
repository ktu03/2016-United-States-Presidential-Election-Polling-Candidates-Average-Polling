{
 "cells": [
  {
   "cell_type": "code",
   "execution_count": null,
   "metadata": {
    "slideshow": {
     "slide_type": "slide"
    }
   },
   "outputs": [],
   "source": [
    "# You must run this cell once before you run any of the other cells in this file\n",
    "\n",
    "# Needed (once per notebook) to enable incredible cs103 powers!!\n",
    "from cs103 import * \n",
    "\n",
    "# This indicates we are going to use some code from the date_fact.py file\n",
    "from date_fact import *"
   ]
  },
  {
   "cell_type": "markdown",
   "metadata": {},
   "source": [
    "# CPSC 103 - Systematic Program Design\n",
    "# Module 01 Day 1\n",
    "Rik Blok, with thanks to Prof. Giulia Toti\n",
    "\n",
    "---"
   ]
  },
  {
   "cell_type": "markdown",
   "metadata": {},
   "source": [
    "# Reminders\n",
    "- Wed: Setup Tutorial\n",
    "- Mon: Module 1 (Intro): Worksheet\n",
    "- Mon: Module 2: Pre-Lecture Assignment\n",
    "- Mon: Syllabus Quiz\n",
    "\n",
    "---"
   ]
  },
  {
   "cell_type": "markdown",
   "metadata": {},
   "source": [
    "# Module 1: Learning Goals\n",
    "\n",
    "At the end of this module, you will be able to:\n",
    "\n",
    "- Write statements that operate on primitive data including numbers, strings and booleans.\n",
    "- Write variable definitions and function definitions.\n",
    "- Write out the step-by-step evaluation of simple statements including function calls.\n",
    "- Use Jupyter notebooks to run Python code.\n",
    "\n",
    "---"
   ]
  },
  {
   "cell_type": "markdown",
   "metadata": {},
   "source": [
    "# In-class interaction\n",
    "## iClicker Cloud\n",
    "- We'll use this tool for polls, check-ins, etc.\n",
    "- Not graded\n",
    "- Let's try it out: https://join.iclicker.com/HBJO\n",
    "- If that doesn't work, start at https://student.iclicker.com and search:\n",
    "  - “University of British Columbia”\n",
    "  - “CPSC 103”\n",
    "\n",
    "---"
   ]
  },
  {
   "cell_type": "markdown",
   "metadata": {},
   "source": [
    "# Module 1 Pre-lecture review\n",
    "In the pre-lecture reading you learned about:\n",
    "- Expressions <!-- a piece of code that represents a value, e.g., 2 + 4 * 3 -->\n",
    "- Precedence rules <!-- order that operations are applied.  Removes ambiguity from expressions. E.g., BEDMAS/PEMDAS/BODMAS -->\n",
    "- String indexing `[]` <!-- accessing characters in a string.  For slicing, remember: str[include:exclude] -->\n",
    "- Assignment\n",
    "- Function definition\n",
    "- How to call functions\n",
    "\n",
    "<details>\n",
    "\n",
    "- Expression: a piece of code that represents a value, e.g., 2 + 4 * 3\n",
    "- Precedence rules: order that operations are applied.  Removes ambiguity from expressions. E.g., BEDMAS/PEMDAS/BODMAS\n",
    "- String indexing `[]`: access characters in a string.  For slicing, remember: str[include:exclude]\n",
    "\n",
    "</details>\n",
    "\n",
    "---"
   ]
  },
  {
   "cell_type": "markdown",
   "metadata": {},
   "source": [
    "# iClicker question\n",
    "In the pre-lecture assignment, you defined a function that takes one string as input and returns the string repeated.  Which of the following calls your function with the input `'cat'` and assigns the result to a variable named `repeated_str`?\n",
    "\n",
    "<!-- formatting: add two spaces at end of line to force linebreak -->\n",
    "  A. `def repeat_str(str): repeated_str = str * 2`  \n",
    "  B. `repeated_str = repeat_str('cat’)` <!-- CORRECT -->  \n",
    "  C. `repeated_str = repeat_str`  \n",
    "  D. `repeated_str = 'catcat'`  \n",
    "  E. `repeat_str('cat’)`  \n",
    "  \n",
    "<details>\n",
    "\n",
    "  A. Function definition, not call.  Also, no return value  \n",
    "\n",
    "</details>\n",
    "\n",
    "---"
   ]
  },
  {
   "cell_type": "markdown",
   "metadata": {},
   "source": [
    "# iClicker question\n",
    "You want to check if `a` is equal to `b` and then assign the result (`True` or `False`) to another variable `c`.  What is the correct Python code?\n",
    "\n",
    "<!-- formatting: add two spaces at end of line to force linebreak -->\n",
    "  A. `a == b =  c`  \n",
    "  B. `c == b =  a`  \n",
    "  C. `c =  b == a`  <!-- CORRECT -->  \n",
    "  D. `a =  b == c`  \n",
    "\n",
    "<details>\n",
    "\n",
    "- `=` means ‘gets’ (assignment)\n",
    "- `==` means ‘is equal to’\n",
    "- Variable receiving assignment must be on left of `=`\n",
    "- Note that in Python, assignment does not return a value (so A & B would produce errors)\n",
    "\n",
    "</details>\n",
    "\n",
    "---"
   ]
  },
  {
   "cell_type": "markdown",
   "metadata": {},
   "source": [
    "## A little about programming\n",
    "\n",
    "A program is a sequence of instructions that allows you to perform a task. If you say the exact sequence of words, you will get the computer to do what you want. It’s a bit like magic!\n",
    "\n",
    "Here are the major pros and cons about programming:\n",
    "- PRO: The program will do exactly what you tell it to do.\n",
    "- CON: The program will do *exactly* what you tell it to do.\n",
    "\n",
    "Highly recommended: [Module 1 screencasts](https://www.youtube.com/playlist?list=PLuXokptvWfg1H7-Vz8nK_LvBILHz_dG5F) (can also be found in Canvas modules)\n",
    "\n",
    "---"
   ]
  },
  {
   "cell_type": "markdown",
   "metadata": {},
   "source": [
    "# What happens inside the computer?\n",
    "When our Python code runs, what does it do? Having a model of what happens so we can \"trace what the code will do\" to help us figure out what code to write to accomplish our goals and what's happening when our code goes wrong.\n",
    "\n",
    "So, when we want to understand what code does, we need three things:\n",
    "\n",
    "- The code itself.\n",
    "- Which line of code we're working on now.\n",
    "- The memory of the computer (variables and their values)."
   ]
  },
  {
   "cell_type": "code",
   "execution_count": null,
   "metadata": {},
   "outputs": [],
   "source": [
    "# Let's trace this code to understand what's happening.\n",
    "# To do that, we'll want to draw out the \"memory\" of the computer,\n",
    "# the place with all those slots that hold variables' values.\n",
    "\n",
    "a = 1\n",
    "\n",
    "b = a + 10\n",
    "\n",
    "a = a + 10\n",
    "\n",
    "a == b       # What does this evaluate to?\n",
    "\n",
    "\n",
    "b = a + b\n",
    "\n",
    "a = 100\n",
    "\n",
    "a + b        # What does this evaluate to?"
   ]
  },
  {
   "cell_type": "markdown",
   "metadata": {},
   "source": [
    "## Code trace\n",
    "\n",
    "| Line | `a` | `b` |\n",
    "|------|-----|-----|\n",
    "| 5    |     |     |\n",
    "\n",
    "<details>\n",
    "\n",
    "- To see a value, put the expression at the end of a code cell and Jupyter will report it.  (In this class we won't use the `print` statement.)\n",
    "\n",
    "</details>\n",
    "\n",
    "It's much more important with these that we trace code on paper than on the computer, but we will eventually run the cell as well. You can also try the online Python Tutor: http://www.pythontutor.com/visualize.html\n",
    "\n",
    "<details>\n",
    "\n",
    "- But note that Python Tutor doesn't have access to custom libraries (imports) like our `cs103` library.\n",
    "\n",
    "</details>\n",
    "\n",
    "---"
   ]
  },
  {
   "cell_type": "markdown",
   "metadata": {},
   "source": [
    "# Exercise 1\n",
    "\n",
    "Try these for yourself in the code cell below:\n",
    "- put 10 in variable `a`\n",
    "- put 66 in variable `y`\n",
    "- copy value stored in `y` to `x`\n",
    "- evaluate `x > y`"
   ]
  },
  {
   "cell_type": "code",
   "execution_count": null,
   "metadata": {},
   "outputs": [],
   "source": []
  },
  {
   "cell_type": "markdown",
   "metadata": {},
   "source": [
    "# Exercise 2\n",
    "- put \"y\" in variable `x`\n",
    "- test if `y` is equal to `x`\n",
    "\n",
    "Note that `y` exists because we ran the cell above. Check what happens if you restart the notebook and run this cell first."
   ]
  },
  {
   "cell_type": "code",
   "execution_count": null,
   "metadata": {},
   "outputs": [],
   "source": []
  },
  {
   "cell_type": "markdown",
   "metadata": {},
   "source": [
    "# Exercise 3\n",
    "- put your name in a variable `name`\n",
    "- test if `name` is greater than \"Julia\"\n",
    "\n",
    "<details>\n",
    "\n",
    "- What happens if you forget the quotes around your name?  Why?\n",
    "    \n",
    "</details>\n",
    "\n",
    "What does it mean for one string to be greater than another?\n",
    "\n",
    "For the values associated to each character, you can look up an [ASCII table](https://commons.wikimedia.org/wiki/File:ASCII-Table-wide.svg#/media/File:ASCII-Table-wide.svg).\n",
    "\n",
    "<details>\n",
    "\n",
    "- Is \"Rik\" greater than \"rik\"?  Why or why not?\n",
    "    \n",
    "</details>\n",
    "\n"
   ]
  },
  {
   "cell_type": "code",
   "execution_count": null,
   "metadata": {},
   "outputs": [],
   "source": []
  },
  {
   "cell_type": "markdown",
   "metadata": {},
   "source": [
    "# iClicker question\n",
    "We'll use functions next.  Before we dive in, though, what is a *function* in Python? \n",
    "\n",
    "<!-- formatting: add two spaces at end of line to force linebreak -->\n",
    "  A. A collection of related data  \n",
    "  B. A loop that repeats a set of instructions  \n",
    "  C. A conditional statement that runs depending on certain conditions  \n",
    "  D. A variable that stores a value  \n",
    "  E. A block of code that performs a specific task  \n",
    "\n",
    "<details>\n",
    "\n",
    "We'll define them many ways, and they'll be the heart of everything we do. For now, though, let's say that a function is \"something interesting the Python programming language knows how to do, which we can ask it to do by name\".\n",
    "\n",
    "</details>\n",
    "\n",
    "---\n",
    "\n"
   ]
  },
  {
   "cell_type": "markdown",
   "metadata": {},
   "source": [
    "# Date Facts\n",
    "\n",
    "Let's check some fun facts that happened on a date. We will use the the API http://numbersapi.com/. Think of an API a way for us to communicate with another computer to get the information we need. \n",
    "\n",
    "To use any supplied function we need to know its *signature*, or its...\n",
    "- name,\n",
    "- arguments, and\n",
    "- return value.\n",
    "\n",
    "The code inside the file `date_fact.py` (imported at the start of this notebook) gives us the following functions:\n",
    "\n",
    "- `get_date_fact(month: int, day: int) -> str`\n",
    "\n",
    "\n",
    "- `get_number_fact(number: int) -> str`\n",
    "\n",
    "\n",
    "- `get_year_fact(year: int) -> str`\n",
    "\n",
    "---"
   ]
  },
  {
   "cell_type": "code",
   "execution_count": null,
   "metadata": {
    "scrolled": true
   },
   "outputs": [],
   "source": [
    "# Get some trivia from the year you were born!\n",
    "\n",
    "# First, take a look at the names of the functions. Out of the three\n",
    "# functions listed above, which one do you think we should use?\n",
    "\n",
    "# Now, look at the signature of the function you have chosen.\n",
    "# What kind of information does it ask for (hint: what parameters are listed\n",
    "# in the signature)?\n",
    "\n",
    "# Try to call (i.e., use) the function!\n"
   ]
  },
  {
   "cell_type": "markdown",
   "metadata": {},
   "source": [
    "# iClicker question\n",
    "Terminology check: What do you call the value you called the function with?\n",
    "\n",
    "<!-- formatting: add two spaces at end of line to force linebreak -->\n",
    "  A. String  \n",
    "  B. Function  \n",
    "  C. Literal  \n",
    "  D. Variable  \n",
    "  E. Primitive  \n",
    "\n",
    "<details>\n",
    "\n",
    "Answer will depend on the code you wrote, but is probably a *literal* (i.e., a constant), or a *variable*.\n",
    "\n",
    "</details>\n",
    "\n",
    "---"
   ]
  },
  {
   "cell_type": "markdown",
   "metadata": {},
   "source": [
    "# Quick Pause\n",
    "Notice how the output from the function does not include the year. \n",
    "\n",
    "The argument does not necessarily need to be included in the output of a function. We can include it if we want, but it is not mandated.\n",
    "\n",
    "Let's change the output to display a sentence that also states the year."
   ]
  },
  {
   "cell_type": "code",
   "execution_count": null,
   "metadata": {},
   "outputs": [],
   "source": []
  },
  {
   "cell_type": "markdown",
   "metadata": {},
   "source": [
    "# Changing Things Up\n",
    "What happens if we want to find facts from another year?\n",
    "\n",
    "Is there an easier way to change the value of the year without having to remember all the places the year appeared in?\n",
    "\n",
    "<details>\n",
    "\n",
    "- Recall, we've seen a few different primitive types: `int`, `float`, and `str`\n",
    "- Different types don't always mix\n",
    "- You might find the `str` function useful.  It converts a number into a string\n",
    "\n",
    "</details>"
   ]
  },
  {
   "cell_type": "code",
   "execution_count": null,
   "metadata": {},
   "outputs": [],
   "source": [
    "year = 2000\n",
    "\n",
    "# Rewrite your expression above so that it uses the variable `year`\n"
   ]
  },
  {
   "cell_type": "markdown",
   "metadata": {},
   "source": [
    "# iClicker check-in\n",
    "How are you doing?  Any trouble keeping up?\n",
    "\n",
    "<!-- formatting: add two spaces at end of line to force linebreak -->\n",
    "  A. 💪 Easy-peasy... you can go faster  \n",
    "  B. 👍 Yup, I got this  \n",
    "  C. 😕 I might have missed a bit here or there  \n",
    "  D. 😟 Hmm, something's not working right  \n",
    "  E. 😵 I have no idea what's going on  \n",
    "\n",
    "---"
   ]
  }
 ],
 "metadata": {
  "kernelspec": {
   "display_name": "Python 3 (ipykernel)",
   "language": "python",
   "name": "python3"
  },
  "language_info": {
   "codemirror_mode": {
    "name": "ipython",
    "version": 3
   },
   "file_extension": ".py",
   "mimetype": "text/x-python",
   "name": "python",
   "nbconvert_exporter": "python",
   "pygments_lexer": "ipython3",
   "version": "3.9.13"
  }
 },
 "nbformat": 4,
 "nbformat_minor": 4
}
