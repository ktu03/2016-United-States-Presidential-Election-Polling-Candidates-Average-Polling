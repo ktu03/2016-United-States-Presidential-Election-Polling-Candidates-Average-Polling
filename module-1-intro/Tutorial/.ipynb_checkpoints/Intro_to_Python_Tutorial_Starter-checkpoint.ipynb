{
 "cells": [
  {
   "cell_type": "markdown",
   "metadata": {},
   "source": [
    "#  Tutorial Questions - Intro to Python\n",
    "\n",
    "**Pre-Tutorial Work:**\n",
    "\n",
    "None this week."
   ]
  },
  {
   "cell_type": "markdown",
   "metadata": {},
   "source": [
    "## Problem 1\n",
    "\n",
    "Write a statement that finds the third character of the value stored in the variable `dessert` and assigns it to a new variable. Make sure to choose a meaningful name for your new variable. Your statement should still find that third character even if you change the text assigned to the variable `dessert` on line 2 below!"
   ]
  },
  {
   "cell_type": "code",
   "execution_count": 32,
   "metadata": {},
   "outputs": [],
   "source": [
    "# Given variable\n",
    "dessert = \"chocolate\"\n",
    "# your solution goes here\n",
    "third_character_dessert = dessert[2]\n",
    "third_character_dessert"
   ]
  },
  {
   "cell_type": "markdown",
   "metadata": {},
   "source": [
    "## Problem 2\n",
    "\n",
    "Write a code fragment (i.e. one or more lines of code) that calculates the average of the three weight in lbs. Your code fragment should still calculate the correct average even if you change the values assigned to the three variables `weight1`, `weight2`, and `weight3`."
   ]
  },
  {
   "cell_type": "code",
   "execution_count": 6,
   "metadata": {},
   "outputs": [
    {
     "data": {
      "text/plain": [
       "140.33333333333334"
      ]
     },
     "execution_count": 6,
     "metadata": {},
     "output_type": "execute_result"
    }
   ],
   "source": [
    "weight1 = 141\n",
    "weight2 = 98\n",
    "weight3 = 182\n",
    "\n",
    "# your solution goes here\n",
    "average_weight=(weight1+weight2+weight3)/3\n",
    "average_weight"
   ]
  },
  {
   "cell_type": "markdown",
   "metadata": {},
   "source": [
    "## Problem 3\n",
    "\n",
    "Write the step-by-step evaluation of the expression `13 >=(16-2) and 2*3 < 10`. \n",
    "\n",
    "Note that you are allowed to elide steps as seen in Example 3 in\n",
    "Section 3.2.2 of the Evaluation Rules document in the Language Module on Canvas."
   ]
  },
  {
   "cell_type": "code",
   "execution_count": 17,
   "metadata": {},
   "outputs": [
    {
     "data": {
      "text/plain": [
       "False"
      ]
     },
     "execution_count": 17,
     "metadata": {},
     "output_type": "execute_result"
    }
   ],
   "source": [
    "# Original expression\n",
    "13 >=(16-2) and 2*3 < 10\n",
    "\n",
    "# your solution goes here\n",
    "13>=14 and 2*3<10\n",
    "13>=14 and 6<10\n",
    "False and True"
   ]
  },
  {
   "cell_type": "markdown",
   "metadata": {},
   "source": [
    "## Problem 4\n",
    "\n",
    "We want to design a code fragment that does the following: It adds 8% sales tax to a price (the price is in cents) if `add_tax` is `True`. If `add_tax` is `False`, no tax should be added. Unfortunately, the code below contains one or more errors. Debug (fix) the code fragment until it is correct and runs without errors."
   ]
  },
  {
   "cell_type": "code",
   "execution_count": null,
   "metadata": {
    "editable": false
   },
   "outputs": [],
   "source": [
    "# This cell is meant as a copy for you to\n",
    "# use if you want to revert your answer back to the\n",
    "# provided code. \n",
    "\n",
    "# We've commented out the code to prevent it from causing issues when you try\n",
    "# to submit your work.\n",
    "\n",
    "# Put your actual answer in the cell below.\n",
    "\n",
    "# price = 10000\n",
    "# add_tax = True\n",
    "\n",
    "# if add_tax\n",
    "#     price = price * .8\n",
    "    \n",
    "# price"
   ]
  },
  {
   "cell_type": "code",
   "execution_count": 33,
   "metadata": {},
   "outputs": [
    {
     "data": {
      "text/plain": [
       "69.12"
      ]
     },
     "execution_count": 33,
     "metadata": {},
     "output_type": "execute_result"
    }
   ],
   "source": [
    "price = 10000\n",
    "add_tax = True\n",
    "\n",
    "if add_tax:\n",
    "    price = price + price * 0.08\n",
    "    \n",
    "price"
   ]
  },
  {
   "cell_type": "markdown",
   "metadata": {},
   "source": [
    "## Problem 5\n",
    "\n",
    "Write a function that takes a price, adds 8% tax, and returns the total including the tax. Solving problem 4 will help with this problem, but this is a bit different from problem 4. (For example, we are creating a function not a code fragment, and we add the tax no matter what, not depending on `add_tax`.)\n",
    "\n",
    "To check that your function works, you'll want to call it with some different inputs and see what the results are!"
   ]
  },
  {
   "cell_type": "code",
   "execution_count": 21,
   "metadata": {},
   "outputs": [],
   "source": [
    "# your solution goes here\n",
    "def price_with_tax(price: float)->float:\n",
    "    \"\"\"returns a price that includes 8% tax\"\"\"\n",
    "    price = price*1.08\n",
    "    return price\n"
   ]
  },
  {
   "cell_type": "code",
   "execution_count": 23,
   "metadata": {},
   "outputs": [
    {
     "data": {
      "text/plain": [
       "108.0"
      ]
     },
     "execution_count": 23,
     "metadata": {},
     "output_type": "execute_result"
    }
   ],
   "source": [
    "# make one call to your function here\n",
    "price_with_tax(100.0)"
   ]
  },
  {
   "cell_type": "code",
   "execution_count": 24,
   "metadata": {},
   "outputs": [
    {
     "data": {
      "text/plain": [
       "37.260000000000005"
      ]
     },
     "execution_count": 24,
     "metadata": {},
     "output_type": "execute_result"
    }
   ],
   "source": [
    "# make another call to your function here\n",
    "price_with_tax(34.5)\n",
    "# do both calls work correctly when you run them?"
   ]
  },
  {
   "cell_type": "markdown",
   "metadata": {},
   "source": [
    "## Problem 6\n",
    "\n",
    "Now you want a function that will take a price (perhaps from an activity for which you'll share the cost with friends), adds tax, and then splits the bill over some number of people.\n",
    "\n",
    "We've got the function started for you, but you must complete it. Your function *must* call the function you defined in problem 5. Again, to check that `split_cost` works, you'll want to call it with a few different inputs and see what the results are.\n",
    "\n",
    "By the way, there's no need to define that function from problem 5 again. As long as you've run the cell above that defines the function, you can call the function in the cell below."
   ]
  },
  {
   "cell_type": "code",
   "execution_count": 25,
   "metadata": {},
   "outputs": [],
   "source": [
    "# your solution (the function) goes here\n",
    "def split_cost(num_people_to_split, cost):\n",
    "    # Try this in three steps.\n",
    "    \n",
    "    # 1) Figure out the total cost, with tax. CALL the function you wrote above to do this.\n",
    "    #    You do NOT need to define the function again to do that. Now that you've run your\n",
    "    #    cell above, you can call that function just like you call the round function!\n",
    "    #    You'll need to start with the base cost. You HAVE that already stored in one of the\n",
    "    #    parameters. (What if someone calls this function with a different value? No problem!\n",
    "    #    The parameter always starts with the argument value the function was called with!)\n",
    "    #    Store the result in a well-named variable.\n",
    "    total_cost = price_with_tax(cost)\n",
    "    # 2) Figure out the amount each person owes. You have the total cost in the variable from\n",
    "    #    step 1. You have the number of people to split the cost among from one of the parameters.\n",
    "    #    Store your result in another well-named variable.\n",
    "    amount_owing = total_cost/num_people_to_split\n",
    "    # 3) Return the result. The return statement on the next line is wrong. You'll want to fix it! :)\n",
    "    return amount_owing\n",
    "\n",
    "# P.S. You could write this function all as a single return line. There's no prize for shortest\n",
    "# code, however. Write it in a way that you and others will find it easiest to read."
   ]
  },
  {
   "cell_type": "code",
   "execution_count": 28,
   "metadata": {},
   "outputs": [
    {
     "data": {
      "text/plain": [
       "1.08"
      ]
     },
     "execution_count": 28,
     "metadata": {},
     "output_type": "execute_result"
    }
   ],
   "source": [
    "# your solution (one call to the the function) goes here\n",
    "split_cost(2,2)"
   ]
  },
  {
   "cell_type": "code",
   "execution_count": 31,
   "metadata": {},
   "outputs": [
    {
     "data": {
      "text/plain": [
       "16.2"
      ]
     },
     "execution_count": 31,
     "metadata": {},
     "output_type": "execute_result"
    }
   ],
   "source": [
    "# your solution (a second call to the the function) goes here\n",
    "split_cost(5,75)"
   ]
  },
  {
   "cell_type": "code",
   "execution_count": 30,
   "metadata": {},
   "outputs": [
    {
     "data": {
      "text/plain": [
       "10.8"
      ]
     },
     "execution_count": 30,
     "metadata": {},
     "output_type": "execute_result"
    }
   ],
   "source": [
    "# your solution (a third call to the the function) goes here\n",
    "split_cost(10,100)"
   ]
  },
  {
   "cell_type": "code",
   "execution_count": 34,
   "metadata": {
    "deletable": false,
    "editable": false
   },
   "outputs": [
    {
     "data": {
      "application/vnd.jupyter.widget-view+json": {
       "model_id": "4ba4d1e5c228451296537ed2df5a7781",
       "version_major": 2,
       "version_minor": 0
      },
      "text/plain": [
       "Valid(value=True, description='Token')"
      ]
     },
     "metadata": {},
     "output_type": "display_data"
    },
    {
     "data": {
      "application/vnd.jupyter.widget-view+json": {
       "model_id": "4d78aea2edb0451b92431c47925d8685",
       "version_major": 2,
       "version_minor": 0
      },
      "text/plain": [
       "SelectMultiple(description='Files', index=(0,), layout=Layout(height='100%', width='50%'), options=('Intro_to_…"
      ]
     },
     "metadata": {},
     "output_type": "display_data"
    },
    {
     "data": {
      "application/vnd.jupyter.widget-view+json": {
       "model_id": "09bf2eeda69741489b5f73740fb94096",
       "version_major": 2,
       "version_minor": 0
      },
      "text/plain": [
       "Button(description='submit', icon='check', style=ButtonStyle(), tooltip='submit')"
      ]
     },
     "metadata": {},
     "output_type": "display_data"
    },
    {
     "name": "stdout",
     "output_type": "stream",
     "text": [
      "We are about to submit the files:\n",
      "Intro_to_Python_Tutorial_Starter.ipynb\n",
      "\n",
      "- We do this by moving only the files you selected to their own space, restarting a kernel,\n",
      "  and running them from top to bottom.\n",
      "- This ensures that the files you submit are exactly what the course staff needs to recreate your output.\n",
      "- We then submit these to Canvas for you and, if successful, give you a link where you can review your submission.\n",
      "- If there is an error, there will be a VERY LONG error message below.\n",
      "  Read our suggestions at the bottom and try to ream the error message bottom up.\n",
      "\n",
      "-----------------------------------------------------------------------------------------------\n",
      "\n",
      "Your assignment was submitted succesfully!\n",
      "Please check your submission at this link: https://canvas.ubc.ca/courses/123409/assignments/1615201/submissions/987277?preview=1&version=1\n",
      "It will be easiest to check your submission using the HTML file at that link.\n",
      "\n",
      "WARNING: We can only see saved changes. ANY UNSAVED CHANGES would not have been submitted.\n",
      "Save before each submission!\n",
      "-----------------------------------------------------------------------------------------------\n",
      "\n"
     ]
    }
   ],
   "source": [
    "# NOTE: You should not be able to edit this cell. Just run it to start the process of submiting your code.\n",
    "from cs103 import submit\n",
    "\n",
    "COURSE = 123409\n",
    "ASSIGNMENT = 1615201\n",
    "\n",
    "submit(COURSE, ASSIGNMENT)\n",
    "\n",
    "# If something has gone wrong and you still are not able to submit by running the code above, SUBMIT ANYWAY \n",
    "# by downloading your files and uploading them to Canvas. You can learn how on the page \n",
    "# \"How to submit your Jupyter notebook\" on our Canvas site."
   ]
  },
  {
   "cell_type": "code",
   "execution_count": null,
   "metadata": {},
   "outputs": [],
   "source": []
  }
 ],
 "metadata": {
  "kernelspec": {
   "display_name": "Python 3 (ipykernel)",
   "language": "python",
   "name": "python3"
  },
  "language_info": {
   "codemirror_mode": {
    "name": "ipython",
    "version": 3
   },
   "file_extension": ".py",
   "mimetype": "text/x-python",
   "name": "python",
   "nbconvert_exporter": "python",
   "pygments_lexer": "ipython3",
   "version": "3.11.4"
  }
 },
 "nbformat": 4,
 "nbformat_minor": 2
}
