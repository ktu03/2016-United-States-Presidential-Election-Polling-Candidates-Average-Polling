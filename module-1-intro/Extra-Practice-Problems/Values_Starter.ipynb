{
 "cells": [
  {
   "cell_type": "markdown",
   "metadata": {},
   "source": [
    "## Problem\n",
    "Below is a transcript of some python calls. Each time you see `## var = ??`, fill in the `??` with the current value of the variable. Assume that you have the following functions defined and ready to use.\n",
    "\n",
    "```python\n",
    "def add_five(x):\n",
    "    x = x + 5\n",
    "\n",
    "def sqr(x):\n",
    "    x = x**2\n",
    "```"
   ]
  },
  {
   "cell_type": "code",
   "execution_count": null,
   "metadata": {},
   "outputs": [],
   "source": [
    "a = 5\n",
    "b = 7\n",
    "a + b\n",
    "## a = ??\n",
    "## b = ??\n",
    "a = a + b\n",
    "b == a\n",
    "## a = ??\n",
    "## b = ??\n",
    "add_five(a)\n",
    "sqr(b)\n",
    "## a = ??\n",
    "## b = ??"
   ]
  }
 ],
 "metadata": {
  "kernelspec": {
   "display_name": "Python 3 (ipykernel)",
   "language": "python",
   "name": "python3"
  },
  "language_info": {
   "codemirror_mode": {
    "name": "ipython",
    "version": 3
   },
   "file_extension": ".py",
   "mimetype": "text/x-python",
   "name": "python",
   "nbconvert_exporter": "python",
   "pygments_lexer": "ipython3",
   "version": "3.9.9"
  }
 },
 "nbformat": 4,
 "nbformat_minor": 2
}
