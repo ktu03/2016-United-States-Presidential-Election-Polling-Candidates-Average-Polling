{
 "cells": [
  {
   "cell_type": "code",
   "execution_count": 1,
   "metadata": {
    "slideshow": {
     "slide_type": "slide"
    }
   },
   "outputs": [],
   "source": [
    "# You must run this cell once before you run any of the other cells in this file\n",
    "\n",
    "# Needed (once per notebook) to enable incredible cs103 powers!!\n",
    "from cs103 import *\n"
   ]
  },
  {
   "cell_type": "markdown",
   "metadata": {},
   "source": [
    "# CPSC 103 - Systematic Program Design\n",
    "# Module 01 Day 1\n",
    "Ian Mitchell, with thanks to Rik Blok and Giulia Toti\n",
    "\n",
    "---"
   ]
  },
  {
   "cell_type": "markdown",
   "metadata": {},
   "source": [
    "# Reminders\n",
    "- Wed-Fri: Module 1 Tutorial Attendance\n",
    "- Wed: Setup Tutorial\n",
    "- Mon: Module 2: Pre-Lecture Assignment\n",
    "- Mon: Syllabus Quiz\n",
    "- Mon: Module 1 (Intro): Worksheet\n",
    "\n",
    "See your Canvas calendar (https://canvas.ubc.ca/calendar) for details.\n",
    "\n",
    "---"
   ]
  },
  {
   "cell_type": "markdown",
   "metadata": {},
   "source": [
    "# Module 1: Learning Goals\n",
    "\n",
    "At the end of this module, you will be able to:\n",
    "\n",
    "- Write statements that operate on primitive data including numbers, strings and booleans.\n",
    "- Write variable definitions and function definitions.\n",
    "- Write out the step-by-step evaluation of simple statements including function calls.\n",
    "- Use Jupyter notebooks to run Python code.\n",
    "\n",
    "---"
   ]
  },
  {
   "cell_type": "markdown",
   "metadata": {},
   "source": [
    "<img style=\"float: right; width:10%\" src=\"https://lthub.ubc.ca/files/2020/07/iClicker-Cloud-Logo.png\">\n",
    "\n",
    "# In-class interaction\n",
    "## Reminder: iClicker Cloud\n",
    "- We'll use this tool for polls, check-ins, etc.\n",
    "- Let's try it out: https://join.iclicker.com/FNGU\n",
    "- If that doesn't work, start at https://student.iclicker.com and search:\n",
    "  - “University of British Columbia”\n",
    "  - “CPSC 103”\n",
    "\n",
    "<div class=\"alert alert-success\">\n",
    "\n",
    "### ✅ Graded for effort\n",
    "\n",
    "iClicker polls are awarded flex points for effort: 1 flex for each response.  They aren't scored for correctness, so just focus on trying to get the right answer for the learning benefits.  Don't be tempted to look at the hint/solution in the notebook... those are meant for review after class.\n",
    "    \n",
    "</div>\n"
   ]
  },
  {
   "cell_type": "markdown",
   "metadata": {},
   "source": [
    "---\n",
    "# Module 1 Pre-lecture review\n",
    "In the pre-lecture reading you learned about:\n",
    "- Expressions <!-- a piece of code that represents a value, e.g., 2 + 4 * 3 -->\n",
    "- Precedence rules <!-- order that operations are applied.  Removes ambiguity from expressions. E.g., BEDMAS/PEMDAS/BODMAS -->\n",
    "- String indexing `[]` <!-- accessing characters in a string.  For slicing, remember: str[include:exclude] -->\n",
    "- Assignment\n",
    "- Function definition\n",
    "- How to call functions\n",
    "\n",
    "### Questions: \n",
    "1. What is an \"expression\"?\n",
    "2. What are \"precedence rules\"?\n",
    "3. What is \"string indexing\"?\n",
    "\n",
    "<details class=\"alert alert-info\"><summary style=\"cursor:pointer; display:list-item\">ℹ️ Answers (For your review after class.  Don't peek if you want to learn 🙂)</summary>\n",
    "    \n",
    "1. **Expression**: a piece of code that represents a value, e.g., 2 + 4 * 3\n",
    "2. **Precedence rules**: order that operations are applied.  Removes ambiguity from expressions. E.g., BEDMAS/PEMDAS/BODMAS\n",
    "3. **String indexing** `[]`: access characters in a string.  For slicing, remember: str[include:exclude]\n",
    "\n",
    "</details>\n",
    "\n",
    "---"
   ]
  },
  {
   "cell_type": "markdown",
   "metadata": {},
   "source": [
    "<img style=\"float: right; width:10%\" src=\"https://lthub.ubc.ca/files/2020/07/iClicker-Cloud-Logo.png\">\n",
    "\n",
    "# iClicker question\n",
    "In the pre-lecture assignment, you defined a function that takes one string as input and returns the string repeated.  Which of the following calls your function with the input `'cat'` and assigns the result to a variable named `repeated_str`?\n",
    "\n",
    "<ol style=\"list-style-type:upper-alpha\">\n",
    "    <li><code>def repeat_str(str): repeated_str = str * 2</code></li>\n",
    "    <li><code>repeated_str = repeat_str('cat’)</code> <!-- CORRECT --> </li>\n",
    "    <li><code>repeated_str = repeat_str</code></li>\n",
    "    <li><code>repeated_str = 'catcat'</code></li>\n",
    "    <li><code>repeat_str('cat’)</code></li>\n",
    "</ol>\n",
    "  \n",
    "<details class=\"alert alert-info\"><summary style=\"cursor:pointer; display:list-item\">ℹ️ Hint (for your review after class)</summary>\n",
    "    \n",
    "Option A represents a function definition, not a call.  Also, in this example, it has no return value.  \n",
    "\n",
    "</details>\n",
    "\n",
    "---"
   ]
  },
  {
   "cell_type": "markdown",
   "metadata": {},
   "source": [
    "<img style=\"float: right; width:10%\" src=\"https://lthub.ubc.ca/files/2020/07/iClicker-Cloud-Logo.png\">\n",
    "\n",
    "# iClicker question\n",
    "You want to check if `a` is equal to `b` and then assign the result (`True` or `False`) to another variable `c`.  What is the correct Python code?\n",
    "\n",
    "<ol style=\"list-style-type:upper-alpha\">\n",
    "    <li><code>a == b =  c</code></li>\n",
    "    <li><code>c == b =  a</code></li>\n",
    "    <li><code>c =  b == a</code> <!-- CORRECT --> </li>\n",
    "    <li><code>a =  b == c</code></li>\n",
    "</ol>\n",
    "        \n",
    "<details class=\"alert alert-info\"><summary style=\"cursor:pointer; display:list-item\">ℹ️ Hint (for your review after class)</summary>\n",
    "    \n",
    "- `=` means ‘gets’ (assignment)\n",
    "- `==` means ‘is equal to’\n",
    "- Variable receiving assignment must be on left of `=`\n",
    "- Assignment (`=`) has lower precedence than comparison (`==`) so comparison is performed first.\n",
    "\n",
    "</details>\n",
    "\n",
    "---"
   ]
  },
  {
   "cell_type": "markdown",
   "metadata": {},
   "source": [
    "## A little about programming\n",
    "\n",
    "A program is a sequence of instructions that allows you to perform a task. If you say the exact sequence of words, you will get the computer to do what you want. It’s a bit like magic!\n",
    "\n",
    "Here are the major pros and cons about programming:\n",
    "- PRO: The program will do exactly what you tell it to do.\n",
    "- CON: The program will do *exactly* what you tell it to do.\n",
    "\n",
    "Highly recommended: [Module 1 screencasts](https://www.youtube.com/playlist?list=PLuXokptvWfg1H7-Vz8nK_LvBILHz_dG5F) (can also be found in Canvas modules)\n",
    "\n",
    "---"
   ]
  },
  {
   "cell_type": "markdown",
   "metadata": {},
   "source": [
    "# What happens inside the computer?\n",
    "When our Python code runs, what does it do? Having a mental model of what happens so we can \"trace what the code will do\" to help us figure out what code to write to accomplish our goals and what's happening when our code goes wrong.\n",
    "\n",
    "So, when we want to understand what code does, we need three things:\n",
    "\n",
    "- The code itself.\n",
    "- Which line of code we're working on now.\n",
    "- The memory of the computer (variables and their values)."
   ]
  },
  {
   "cell_type": "code",
   "execution_count": 2,
   "metadata": {},
   "outputs": [
    {
     "data": {
      "text/plain": [
       "122"
      ]
     },
     "execution_count": 2,
     "metadata": {},
     "output_type": "execute_result"
    }
   ],
   "source": [
    "# Let's trace this code to understand what's happening.\n",
    "# To do that, we'll want to draw out the \"memory\" of the computer,\n",
    "# the place with all those slots that hold variables' values.\n",
    "\n",
    "a = 1\n",
    "\n",
    "b = a + 10\n",
    "\n",
    "a = a + 10\n",
    "\n",
    "a == b       # What does this evaluate to?\n",
    "\n",
    "b = a + b\n",
    "\n",
    "a = 100\n",
    "\n",
    "a + b        # What does this evaluate to?\n"
   ]
  },
  {
   "cell_type": "markdown",
   "metadata": {},
   "source": [
    "## Code trace\n",
    "\n",
    "<div class=\"alert alert-success\">\n",
    "\n",
    "### ✅ Edit this table\n",
    "\n",
    "Double-click or hit [Enter] to begin editing this cell.  When done, press [Shift]-[Enter] or the [▶️ Run] toolbar button to format the cell.\n",
    "    \n",
    "</div>\n",
    "\n",
    "\n",
    "| Line | `a` | `b` |\n",
    "|------|-----|-----|\n",
    "|    5 |     |     |\n",
    "|    7 |     |     |\n",
    "|    9 |     |     |\n",
    "|   11 |     |     |\n",
    "|   13 |     |     |\n",
    "|   15 |     |     |\n",
    "|   17 |     |     |\n",
    "\n",
    "<details class=\"alert alert-info\"><summary style=\"cursor:pointer; display:list-item\">ℹ️ Sample solution (For later.  Don't peek if you want to learn 🙂)</summary>\n",
    "    \n",
    "| Line | `a` | `b` |\n",
    "|------|-----|-----|\n",
    "|    5 |   1 |     |\n",
    "|    7 |     |  11 |\n",
    "|    9 |  11 |     |\n",
    "|   11 |     |     |\n",
    "|   13 |     |  22 |\n",
    "|   15 | 100 |     |\n",
    "|   17 |     |     |\n",
    "\n",
    "</details>\n",
    "\n",
    "To see a value, put the expression at the end of a code cell and Jupyter will report it (eg., the result of `a+b` is reported when you run the cell).\n",
    "\n",
    "<div class=\"alert alert-danger\">\n",
    "\n",
    "### ⛔ No `print` allowed\n",
    "\n",
    "You might have already learned the Python `print` statement to show a result on the screen.  \n",
    "    \n",
    "To encourage best practices, we'll try to only use [pure functions](https://en.wikipedia.org/wiki/Pure_function) – \"recipes\" that only return values and don't have any other side effects.  Specifically, they don't perform any input or output.\n",
    "\n",
    "So, in this course you are not permitted to use the `print` statement.  If you find yourself thinking that you need the print statement, you are doing it wrong.\n",
    "\n",
    "</div>\n",
    "\n",
    "It's much more important with these that we trace code on paper than on the computer, but we will eventually run the cell as well. You can also try the online Python Tutor: http://www.pythontutor.com/visualize.html\n",
    "\n",
    "<div class=\"alert alert-warning\">\n",
    "\n",
    "⚠️ But note that Python Tutor can't import custom libraries like our `cs103` library.\n",
    "\n",
    "</div>\n",
    "\n",
    "---"
   ]
  },
  {
   "cell_type": "markdown",
   "metadata": {},
   "source": [
    "# Exercise 1\n",
    "\n",
    "Try these for yourself in the code cell below:\n",
    "- put 10 in variable `a`\n",
    "- put 66 in variable `y`\n",
    "- copy value stored in `y` to `x`\n",
    "- evaluate `x > y`"
   ]
  },
  {
   "cell_type": "code",
   "execution_count": null,
   "metadata": {},
   "outputs": [],
   "source": [
    "\n"
   ]
  },
  {
   "cell_type": "markdown",
   "metadata": {},
   "source": [
    "<details class=\"alert alert-info\"><summary style=\"cursor:pointer; display:list-item\">ℹ️ Sample solution (For later.  Don't peek if you want to learn 🙂)</summary>\n",
    "    \n",
    "```python\n",
    "a = 10\n",
    "y = 66\n",
    "x = y\n",
    "x > y\n",
    "```\n",
    "    \n",
    "</details>\n",
    "\n",
    "---"
   ]
  },
  {
   "cell_type": "markdown",
   "metadata": {},
   "source": [
    "# Exercise 2\n",
    "- put \"y\" in variable `x`\n",
    "- test if `y` is equal to `x`\n",
    "\n",
    "Note that `y` exists because we ran the cell above. Check what happens if you restart the notebook and run this cell first."
   ]
  },
  {
   "cell_type": "code",
   "execution_count": null,
   "metadata": {},
   "outputs": [],
   "source": [
    "\n"
   ]
  },
  {
   "cell_type": "markdown",
   "metadata": {},
   "source": [
    "<details class=\"alert alert-info\"><summary style=\"cursor:pointer; display:list-item\">ℹ️ Sample solution (For later.  Don't peek if you want to learn 🙂)</summary>\n",
    "    \n",
    "```python\n",
    "x = \"y\"\n",
    "y == x\n",
    "```\n",
    "    \n",
    "</details>\n",
    "\n",
    "---"
   ]
  },
  {
   "cell_type": "markdown",
   "metadata": {},
   "source": [
    "# Exercise 3\n",
    "1. Put your name in a variable `name`.\n",
    "2. Test if `name` is greater than \" Rik\".\n",
    "\n",
    "## Questions\n",
    "1. What happens if you forget the quotes around your name?  Why?\n",
    "2. What does it mean for one string to be greater than another?\n",
    "3. Is your name greater than \" Rik\"?  Why or why not?\n",
    "\n",
    "For the values associated to each character, you can look up an  [ASCII table](https://en.wikipedia.org/wiki/ASCII#Printable_characters).\n"
   ]
  },
  {
   "cell_type": "code",
   "execution_count": null,
   "metadata": {},
   "outputs": [],
   "source": [
    "\n"
   ]
  },
  {
   "cell_type": "markdown",
   "metadata": {},
   "source": [
    "<details class=\"alert alert-info\"><summary style=\"cursor:pointer; display:list-item\">ℹ️ Sample solution (For later.  Don't peek if you want to learn 🙂)</summary>\n",
    "    \n",
    "```python\n",
    "name = \"Ian\n",
    "name > \" Rik\"\n",
    "```\n",
    "    \n",
    "</details>\n",
    "\n",
    "---"
   ]
  }
 ],
 "metadata": {
  "kernelspec": {
   "display_name": "Python 3 (ipykernel)",
   "language": "python",
   "name": "python3"
  },
  "language_info": {
   "codemirror_mode": {
    "name": "ipython",
    "version": 3
   },
   "file_extension": ".py",
   "mimetype": "text/x-python",
   "name": "python",
   "nbconvert_exporter": "python",
   "pygments_lexer": "ipython3",
   "version": "3.11.4"
  }
 },
 "nbformat": 4,
 "nbformat_minor": 4
}
