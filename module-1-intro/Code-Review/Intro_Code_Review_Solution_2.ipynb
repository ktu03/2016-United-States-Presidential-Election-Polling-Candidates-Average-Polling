{
 "cells": [
  {
   "cell_type": "code",
   "execution_count": 5,
   "metadata": {
    "editable": false
   },
   "outputs": [
    {
     "ename": "IndentationError",
     "evalue": "expected an indented block after 'if' statement on line 8 (3481310654.py, line 9)",
     "output_type": "error",
     "traceback": [
      "\u001b[0;36m  Cell \u001b[0;32mIn[5], line 9\u001b[0;36m\u001b[0m\n\u001b[0;31m    True\u001b[0m\n\u001b[0m    ^\u001b[0m\n\u001b[0;31mIndentationError\u001b[0m\u001b[0;31m:\u001b[0m expected an indented block after 'if' statement on line 8\n"
     ]
    }
   ],
   "source": [
    "# This cell is uneditable so you can refer \n",
    "# back to the original version of the solution.\n",
    "\n",
    "# Given variables\n",
    "animal1 = \"ants\"\n",
    "animal2 = \"apes\"\n",
    "\n",
    "if len(animal1)==len(animal2):\n",
    "True\n",
    "\n",
    "if animal1 [0]==animal2 [0]: \n",
    "True\n",
    "else:\n",
    "False"
   ]
  },
  {
   "cell_type": "code",
   "execution_count": 11,
   "metadata": {},
   "outputs": [],
   "source": [
    "# Given variables\n",
    "animal1 = \"ants\"\n",
    "animal2 = \"apes\"\n",
    "\n",
    "if len(animal1)==len(animal2):\n",
    "    True\n",
    "\n",
    "if animal1 [0]==animal2 [0]: \n",
    "    True\n",
    "else:\n",
    "    False\n"
   ]
  },
  {
   "cell_type": "code",
   "execution_count": null,
   "metadata": {},
   "outputs": [],
   "source": []
  }
 ],
 "metadata": {
  "kernelspec": {
   "display_name": "Python 3 (ipykernel)",
   "language": "python",
   "name": "python3"
  },
  "language_info": {
   "codemirror_mode": {
    "name": "ipython",
    "version": 3
   },
   "file_extension": ".py",
   "mimetype": "text/x-python",
   "name": "python",
   "nbconvert_exporter": "python",
   "pygments_lexer": "ipython3",
   "version": "3.11.4"
  }
 },
 "nbformat": 4,
 "nbformat_minor": 2
}
