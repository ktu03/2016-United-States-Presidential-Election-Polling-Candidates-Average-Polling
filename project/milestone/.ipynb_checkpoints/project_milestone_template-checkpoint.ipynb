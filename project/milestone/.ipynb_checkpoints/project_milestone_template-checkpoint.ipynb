{
 "cells": [
  {
   "cell_type": "markdown",
   "metadata": {
    "editable": false
   },
   "source": [
    "# Project Milestone Template"
   ]
  },
  {
   "cell_type": "markdown",
   "metadata": {
    "editable": false
   },
   "source": [
    "### Step 1a: Planning \n",
    "#### Identify the information in the file your program will read\n",
    "\n",
    "Describe (all) the information that is available. Be sure to note any surprising or unusual features. (For example, some information sources have missing data, which may be blank or flagged using values like -99, NaN, or something else.)"
   ]
  },
  {
   "cell_type": "markdown",
   "metadata": {},
   "source": [
    "<font color=\"blue\">\n",
    "    \n",
    "The cycle of the American election, which is 2016 for all polls as this was presidential polls conducted from 2016. There is a forecast date, which is November 1st 2016 for all polls as they are forecasted after all the polls close, which is close to that day. There is a state that the poll was conducted which is the location indicator in this context. The start and end dates indicate when the poll started conducting information, and when it stopped. The pollster is the source and the media/organization that conducted the poll. The branch represents the branch of government in which this election is for, which is by default President for all polls. The matchup indicates who's polling numbers will be assessed in the poll, and for all of them it is Trump, Clinton, and Johnson. The type of poll is Polls Plus for all of them which is a type that combines the economic index with the polls. \n",
    "\n",
    "</font>"
   ]
  },
  {
   "cell_type": "markdown",
   "metadata": {
    "editable": false
   },
   "source": [
    "### Step 1b: Planning \n",
    "#### Brainstorm ideas for what your program will produce\n",
    "#### Select the idea you will build on for subsequent steps\n",
    "\n",
    "You must brainstorm at least three ideas for graphs or charts that your program could produce and choose the one that you'd like to work on. You can choose between a line chart, histogram, bar chart, scatterplot, or pie chart.\n",
    "\n",
    "If you would like to change your project idea from what was described in the proposal, you will need to get permission from your project TA. This is intended to help ensure that your new project idea will meet the requirements of the project. Please see the project proposal for things to be aware of when communicating with your project TA."
   ]
  },
  {
   "cell_type": "markdown",
   "metadata": {},
   "source": [
    "<font color=\"blue\">\n",
    "    \n",
    "1. A bar chart with each candidate's names on the x-axis and their average polling number on the y-axis\n",
    "2. A pie chart where the proportion of the total score for each candidate are represented by each sector. For example, if there are 700 polls, the total score would be 700*100 (since polls are measured by percentage). The candidates score out of 100 for all 700 polls are added up and divided by the total score which how large their sector will be on the pie chart.\n",
    "3. A line chart of the candidates' polling scores overtime. Each line will represent the trend in poll numbers throughout the course of the campaign.\n",
    "    \n",
    "I will build on idea 1.\n",
    "\n",
    "</font>"
   ]
  },
  {
   "cell_type": "markdown",
   "metadata": {},
   "source": [
    "### Step 1c: Planning \n",
    "#### Write or draw examples of what your program will produce\n",
    "\n",
    "You must include a **hand-drawn image** that shows what your chart or plot will look like. You can insert an image using Edit -> Insert Image."
   ]
  },
  {
   "cell_type": "markdown",
   "metadata": {},
   "source": [
    "Insert your image into this cell."
   ]
  },
  {
   "cell_type": "markdown",
   "metadata": {
    "editable": false
   },
   "source": [
    "### Step 2a: Building\n",
    "#### Document which information you will represent in your data definitions\n",
    "\n",
    "Before you design data definitions in the code cell below, you must explicitly document here which information in the file you chose to represent and why that information is crucial to the chart or graph that you'll produce when you complete step 2c."
   ]
  },
  {
   "cell_type": "markdown",
   "metadata": {},
   "source": [
    "<font color=\"blue\">\n",
    "    \n",
    "I will be using information from the matchup, state, adj_pollclinton, adj_polltrump, and adj_polljohnson tabs. The matchup is the same for all polls which include the names of all candidates. The names are crucial as they will each represent a single bar on the bar chart. Each poll has a state of either \"US\" or any individual state in the United States. If the state indicates \"US\", that means it is a nationwide poll. If the state is not \"US\", then it is an individual state so it is a statewide poll. The overall polling scores of nationwide and statewide polls are weighted evenly into the final average polling score so knowing if it is a statewide or nationwide poll is absolutely necessary. Adj_pollclinton, adj_polltrump, and adj_polljohnson are the adjusted polling scores for each candidate. All the polls are of type polls plus, which combines the polls with an economic index and adjusts accordingly to ensure more accuracy. Therefore, the polling numbers used in the calculations will be the adjusted ones as it will include more sophisticated numbers.\n",
    "\n",
    "\n",
    "</font>"
   ]
  },
  {
   "cell_type": "markdown",
   "metadata": {
    "editable": false
   },
   "source": [
    "#### Design the data definitions"
   ]
  },
  {
   "cell_type": "code",
   "execution_count": 1,
   "metadata": {},
   "outputs": [],
   "source": [
    "from cs103 import *\n",
    "import csv\n",
    "from typing import NamedTuple, List\n",
    "from enum import Enum"
   ]
  },
  {
   "cell_type": "code",
   "execution_count": 2,
   "metadata": {},
   "outputs": [],
   "source": [
    "##################\n",
    "# Data Definitions\n",
    "\n",
    "PollBoundary = Enum('PollBoundary',[\"statewide\", \"nationwide\"])\n",
    "\n",
    "#interp. a poll boundary that can be statewide (Statewide) or nationwide (Nationwide)\n",
    "#examples are redundant for enumerations\n",
    "\n",
    "@typecheck\n",
    "def fn_for_poll_boundary(pb: PollBoundary)-> ...:\n",
    "    #template from enumeration (2 fields)\n",
    "    if pb==PollBoundary.statewide:\n",
    "        return ...\n",
    "    elif pb==PollBoundary.nationwide:\n",
    "        return ...\n",
    "    \n",
    "PresidentialPoll = NamedTuple('PresidentialPoll',[('boundary', PollBoundary),\n",
    "                                                  ('clinton_polling', float), #in range [0,100]\n",
    "                                                  ('trump_polling',float), #in range [0,100]\n",
    "                                                 ('johnson_polling',float)]) #in range [0,100]\n",
    "\n",
    "\n",
    "#interp. a presidential poll from 2016 that includes the poll boundary (PollBoundary) which can be statewide or nationwide, \n",
    "#and the polling score for each candidate (clinton_polling,trump_polling,johnson_poll)\n",
    "\n",
    "PP_0 = PresidentialPoll(PollBoundary.statewide, 44.7,44.3,2.1)\n",
    "PP_1 = PresidentialPoll(PollBoundary.nationwide, 34.5,48.9,1.8)\n",
    "PP_2 = PresidentialPoll(PollBoundary.statewide, 0, 89.9,3.5)\n",
    "PP_3 = PresidentialPoll(PollBoundary.nationwide,76.9,0,13.4)\n",
    "PP_4 = PresidentialPoll(PollBoundary.statewide,43.8,50.1,0)\n",
    "\n",
    "@typecheck\n",
    "def fn_for_presidential_poll(pp: PresidentialPoll) -> ...:\n",
    "    #template from Compound (4 fields) and reference rule \n",
    "    return...(fn_for_poll_boundary(pp.boundary),clinton_polling,trump_polling,johnson_polling)\n",
    "\n",
    "PresidentialPollList = List[PresidentialPoll]\n",
    "# interp. a list of presidential polls\n",
    "\n",
    "LOPP0 = []\n",
    "LOPP1 = [PP_0,PP_1]\n",
    "LOPP2 = [PP_0,PP_2,PP_4]\n",
    "LOPP3 = [PP_1,PP_3]\n",
    "\n",
    "\n",
    "@typecheck\n",
    "def fn_for_lopp(lopp: List[PresidentialPoll]) -> ...:\n",
    "    #template from arbitrary-sized and reference rule\n",
    "    #description of accumulator\n",
    "    acc = ... #type:\n",
    "    for pp in lopp:\n",
    "        acc = ...(fn_for_presidential_poll(pp), acc)\n",
    "    return...(acc)\n"
   ]
  },
  {
   "cell_type": "markdown",
   "metadata": {
    "editable": false
   },
   "source": [
    "### Step 2b: Building\n",
    "#### Design a function to read the information and store it as data in your program\n",
    "\n",
    "Complete this step in the code cell below. Your `read` function should remove any row with invalid or missing data but otherwise keep all the rows. I.e., you should **not** design the `read` function such that it only returns the rows you need for step 2c.\n",
    "\n",
    "You can choose to continue to build on this file when completing the final submission for the project (as opposed to copying your code over to the `project_final_submission_template.ipynb` file). However, if this is the approach you are taking, please go to the `project_final_submission_template.ipynb` file and read through the \"Step 2b and 2c: Building\" section. This section contains crucial information about common issues students encounter. We expect that you will be familiar with this information."
   ]
  },
  {
   "cell_type": "code",
   "execution_count": 8,
   "metadata": {},
   "outputs": [
    {
     "name": "stdout",
     "output_type": "stream",
     "text": [
      "\u001b[92m2 of 2 tests passed\u001b[0m\n",
      "\u001b[92m2 of 2 tests passed\u001b[0m\n",
      "\u001b[92m4 of 4 tests passed\u001b[0m\n",
      "\u001b[92m16 of 16 tests passed\u001b[0m\n",
      "\u001b[92m1 of 1 tests passed\u001b[0m\n"
     ]
    }
   ],
   "source": [
    "###########\n",
    "# Functions\n",
    "\n",
    "@typecheck\n",
    "def parse_poll_boundary(s: str) -> PollBoundary:\n",
    "    \"\"\"\n",
    "    returns string s as a PollBoundary\n",
    "    Assume s is the name of a US state or \"U.S.\"\n",
    "    \"\"\"\n",
    "    #return PollBoundary.nationwide #stub\n",
    "    #template from atomic non-distinct\n",
    "    #return...(s)\n",
    "    if s==\"U.S.\":\n",
    "        return PollBoundary.nationwide\n",
    "    else:\n",
    "        return PollBoundary.statewide\n",
    "\n",
    "start_testing()\n",
    "expect(parse_poll_boundary(\"U.S.\"), PollBoundary.nationwide)\n",
    "expect(parse_poll_boundary(\"Pennsylvania\"), PollBoundary.statewide)\n",
    "summary()\n",
    "\n",
    "@typecheck\n",
    "def begins_with_digit(s: str) -> bool:\n",
    "    \"\"\"\n",
    "    returns True if the given string (s) begins with a digit to represent the string form of a integer,\n",
    "    False otherwise\n",
    "    \"\"\"\n",
    "    #template from Atomic Non-Distinct\n",
    "    #return...(s)\n",
    "    return (s[0]==\"0\") or (s[0]==\"1\") or (s[0]==\"2\") or (s[0]==\"3\")or (s[0]==\"4\") or (s[0]==\"5\") or (s[0]==\"6\") or (s[0]==\"7\") or (s[0]==\"8\") or (s[0]==\"9\")\n",
    "\n",
    "start_testing()\n",
    "expect(begins_with_digit(\"7876\"), True)\n",
    "expect(begins_with_digit(\"Hi\"), False)\n",
    "summary()\n",
    "@typecheck\n",
    "def is_reliable(row: List[str]) -> bool:\n",
    "    \"\"\"\n",
    "    row[17],row[18],row[19] must exist (non-empty) and be the string form of a float\n",
    "    row[5] must be a non-empty string that is only letters\n",
    "    An empty string for row[17],row[18], or row[19] is not reliable as it does not represent meaningful data or \n",
    "    a float in string form and to assume it means 0 is too ambiguous \n",
    "    An empty string for row[5] is not reliable as it contains no letters\n",
    "    \n",
    "    \"\"\"\n",
    "    #return False #stub\n",
    "    #template from atomic with indexing\n",
    "    if (row[17]!=\"\"  and row[18]!=\"\" and row[19]!=\"\") and (begins_with_digit(row[17])) and (begins_with_digit(row[18]))  and (begins_with_digit(row[19])) and row[5]!=\"\":\n",
    "        return (float(row[17])>=0  and float(row[17])<=100) and (float(row[18])>=0  and float(row[18])<=100) and(float(row[19])>=0  and float(row[19])<=100) and ((float(row[17]) + float(row[18])+float(row[19]))<=100)and (row[5]!=\"\") \n",
    "    else:\n",
    "        return False\n",
    "\n",
    "@typecheck\n",
    "def read(filename: str) -> List[PresidentialPoll]:\n",
    "    \"\"\"    \n",
    "    reads information from the specified file and returns a list of presidential polls\n",
    "    \n",
    "    REQUIREMENTS:\n",
    "    Polling numbers must be present for each candidate in each row,\n",
    "    a state name or the country name must be present,\n",
    "    polling numbers are above or equal to 0, and below or equal to 100,\n",
    "    AND polling numbers cannot sum to a value higher than 100\n",
    "    \n",
    "    All rows of data that do not meet the requirements above are eliminated\n",
    "    \n",
    "    \"\"\"\n",
    "    #return []  #stub\n",
    "    # Template from HtDAP\n",
    "    # lopp contains the result so far\n",
    "    lopp = [] # type: List[PresidentialPoll]\n",
    "\n",
    "    with open(filename) as csvfile:\n",
    "        \n",
    "        reader = csv.reader(csvfile)\n",
    "        next(reader) # skip header line\n",
    "\n",
    "        for row in reader:\n",
    "            # you may not need to store all the rows, and you may need\n",
    "            # to convert some of the strings to other types\n",
    "            if is_reliable(row):\n",
    "                pp = PresidentialPoll(parse_poll_boundary(row[5]), float(row[17]), float(row[18]), float(row[19]))\n",
    "                lopp.append(pp)\n",
    "    return lopp\n",
    "\n",
    "start_testing()\n",
    "expect(read(\"Test 1\"),[])\n",
    "expect(read(\"Test 2\"),[PresidentialPoll(PollBoundary.nationwide,42.6414,40.86509,5.675099)])\n",
    "expect(read(\"Test 3\"),[PresidentialPoll(PollBoundary.nationwide,44.6508,42.26663,6.114222), \n",
    "                       PresidentialPoll(PollBoundary.nationwide,42.21983,41.6954,4.220173)])\n",
    "expect(read(\"Test 4\"),[PresidentialPoll(PollBoundary.statewide,48.7235,37.14857,3.46675),\n",
    "                      PresidentialPoll(PollBoundary.statewide,46.50486,43.77117,4.347528),\n",
    "                      PresidentialPoll(PollBoundary.statewide,43.52856,40.8773,3.347528),\n",
    "                      PresidentialPoll(PollBoundary.statewide,46.4776,44.02984,2.208402),\n",
    "                      PresidentialPoll(PollBoundary.statewide,29.71767,48.16943,7.46675),\n",
    "                      PresidentialPoll(PollBoundary.statewide,45.69044,41.73809,5.090873),\n",
    "                      PresidentialPoll(PollBoundary.statewide,44.5381,43.29323,4.049983),\n",
    "                      PresidentialPoll(PollBoundary.statewide,42.75185,39.2192,6.605309),\n",
    "                      PresidentialPoll(PollBoundary.nationwide,47.3027,40.27811,4.22873),\n",
    "                      PresidentialPoll(PollBoundary.statewide,51.70619,24.21046,7.46675),\n",
    "                      PresidentialPoll(PollBoundary.statewide,45.72622,41.74498,6.001086),\n",
    "                      PresidentialPoll(PollBoundary.statewide,44.51923,39.05433,6.591003),\n",
    "                      PresidentialPoll(PollBoundary.statewide,29.72481,57.14391,5.46675),\n",
    "                      PresidentialPoll(PollBoundary.nationwide,45.80878,41.3288,3.190963)])   \n",
    "summary()\n",
    "\n",
    "\n",
    "\n",
    "start_testing()\n",
    "expect(is_reliable([\"2016\",\"President\",\"polls-plus\",\"Clinton vs. Trump vs. Johnson\",\"11/1/16\",\"Florida\",\"10/25/2016\",\"10/31/2016\",\"A\",\"B\",\"C\",\"D\",\"E\",\"F\",\"G\",\"H\",\"I\",\"34.6\",\"30.1\",\"3.7\",\"J\",\"K\",\"L\",\"M\",\"N\",\"O\",\"P\"]), True)\n",
    "expect(is_reliable([\"2016\",\"President\",\"polls-plus\",\"Clinton vs. Trump vs. Johnson\",\"11/1/16\",\"U.S.\",\"10/25/2016\",\"10/31/2016\",\"A\",\"B\",\"C\",\"D\",\"E\",\"J\",\"G\",\"H\",\"I\",\"14.7\",\"60.8\",\"10.6\",\"J\",\"K\",\"L\",\"M\",\"N\",\"O\",\"P\"]), True)\n",
    "expect(is_reliable([\"2016\",\"President\",\"polls-plus\",\"Clinton vs. Trump vs. Johnson\",\"11/1/16\",\"\",\"10/25/2016\",\"10/31/2016\",\"A\",\"B\",\"C\",\"D\",\"E\",\"F\",\"G\",\"H\",\"I\",\"14.7\",\"60.8\",\"10.6\",\"A\",\"B\",\"C\",\"D\",\"E\",\"F\",\"G\"]), False)\n",
    "expect(is_reliable([\"2016\",\"President\",\"polls-plus\",\"Clinton vs. Trump vs. Johnson\",\"11/1/16\",\"U.S.\",\"10/25/2016\",\"10/31/2016\",\"D\",\"i\",\"A\",\"B\",\"C\",\"D\",\"E\",\"F\",\"G\",\"H\",\"40.3\",\"20.9\",\"A\",\"B\",\"C\",\"D\",\"E\",\"F\",\"G\"]), False)\n",
    "expect(is_reliable([\"2016\",\"President\",\"polls-plus\",\"Clinton vs. Trump vs. Johnson\",\"11/1/16\",\"Ohio\",\"10/25/2016\",\"10/31/2016\",\"A\",\"B\",\"C\",\"D\",\"E\",\"F\",\"G\",\"H\",\"I\",\"33.1\",\"R\",\"30.5\",\"A\",\"B\",\"C\",\"D\",\"E\",\"F\",\"G\"]), False)\n",
    "expect(is_reliable([\"2016\",\"President\",\"polls-plus\",\"Clinton vs. Trump vs. Johnson\",\"11/1/16\",\"California\",\"10/25/2016\",\"10/31/2016\",\"A\",\"B\",\"C\",\"D\",\"E\",\"F\",\"G\",\"H\",\"I\",\"45.5\",\"50.0\",\"A\",\"B\",\"C\",\"D\",\"E\",\"F\",\"G\",\"H\"]), False)\n",
    "expect(is_reliable([\"2016\",\"President\",\"polls-plus\",\"Clinton vs. Trump vs. Johnson\",\"11/1/16\",\"V\",\"10/25/2016\",\"10/31/2016\",\"A\",\"B\",\"C\",\"D\",\"E\",\"F\",\"G\",\"H\",\"I\",\"h\",\"47.0\",\"20.0\",\"A\",\"B\",\"C\",\"D\",\"E\",\"J\",\"K\",\"L\"]), False)\n",
    "expect(is_reliable([\"2016\",\"President\",\"polls-plus\",\"Clinton vs. Trump vs. Johnson\",\"11/1/16\",\"X\",\"10/25/2016\",\"10/31/2016\",\"A\",\"B\",\"C\",\"D\",\"E\",\"F\",\"G\",\"H\",\"I\",\"70.3\",\"B\",\"3.9\",\"S\",\"A\",\"E\",\"H\",\"K\",\"I\",\"O\"]), False)\n",
    "expect(is_reliable([\"2016\",\"President\",\"polls-plus\",\"Clinton vs. Trump vs. Johnson\",\"11/1/16\",\"Indiana\",\"10/25/2016\",\"10/31/2016\",\"A\",\"B\",\"C\",\"D\",\"E\",\"F\",\"G\",\"H\",\"I\",\"L\",\"34.5\",\"D\",\"R\",\"T\",\"Y\",\"I\",\"Q\",\"W\",\"E\"]), False)\n",
    "# expect(is_reliable([]), False)\n",
    "expect(is_reliable([\"2016\",\"President\",\"polls-plus\",\"Clinton vs. Trump vs. Johnson\",\"11/1/16\",\"J\",\"10/25/2016\",\"10/31/2016\",\"A\",\"B\",\"C\",\"D\",\"E\",\"F\",\"G\",\"H\",\"I\",\"J\",\"K\",\"L\",\"M\",\"N\",\"O\",\"P\",\"Q\",\"R\",\"S\",\"T\"]), False)\n",
    "expect(is_reliable([\"2016\",\"President\",\"polls-plus\",\"Clinton vs. Trump vs. Johnson\",\"11/1/16\",\"Arkansas\",\"10/25/2016\",\"10/31/2016\",\"A\",\"B\",\"C\",\"D\",\"E\",\"F\",\"G\",\"H\",\"I\",\"J\",\"K\",\"L\",\"M\",\"N\",\"O\",\"P\",\"Q\",\"R\",\"S\"]), False)\n",
    "expect(is_reliable([\"2016\",\"President\",\"polls-plus\",\"Clinton vs. Trump vs. Johnson\",\"11/1/16\",\"K\",\"10/25/2016\",\"10/31/2016\",\"A\",\"B\",\"C\",\"D\",\"E\",\"F\",\"G\",\"H\",\"I\",\"33.6\",\"J\",\"K\",\"L\",\"M\",\"N\",\"O\",\"P\",\"Q\",\"R\"]), False)\n",
    "expect(is_reliable([\"2016\",\"President\",\"polls-plus\",\"Clinton vs. Trump vs. Johnson\",\"11/1/16\",\"M\",\"10/25/2016\",\"10/31/2016\",\"A\",\"B\",\"C\",\"D\",\"E\",\"F\",\"G\",\"H\",\"I\",\"J\",\"76.7\",\"K\",\"L\",\"M\",\"N\",\"O\",\"P\",\"Q\",\"R\"]), False)\n",
    "expect(is_reliable([\"2016\",\"President\",\"polls-plus\",\"Clinton vs. Trump vs. Johnson\",\"11/1/16\",\"N\",\"10/25/2016\",\"10/31/2016\",\"A\",\"B\",\"C\",\"D\",\"E\",\"F\",\"G\",\"H\",\"I\",\"J\",\"\",\"23.4\",\"K\",\"L\",\"M\",\"N\",\"O\",\"P\",\"Q\"]), False)\n",
    "expect(is_reliable([\"2016\",\"President\",\"polls-plus\",\"Clinton vs. Trump vs. Johnson\",\"11/1/16\",\"Texas\",\"10/25/2016\",\"10/31/2016\",\"A\",\"B\",\"C\",\"D\",\"E\",\"F\",\"G\",\"H\",\"I\",\"30.5\",\"50.3\",\"40.5\",\"J\",\"K\",\"L\",\"M\",\"N\",\"O\",\"P\"]), False)\n",
    "expect(is_reliable([\"2016\",\"President\",\"polls-plus\",\"Clinton vs. Trump vs. Johnson\",\"11/1/16\",\"Texas\",\"10/25/2016\",\"10/31/2016\",\"A\",\"B\",\"C\",\"D\",\"E\",\"F\",\"G\",\"H\",\"I\",\"1.5\",\"4.3\",\"7.5\",\"J\",\"K\",\"L\",\"M\",\"N\",\"O\",\"P\"]), True)\n",
    "summary()\n",
    "# Begin testing\n",
    "start_testing()\n",
    "\n",
    "# Examples and tests for read\n",
    "expect(..., ...)\n",
    "\n",
    "# show testing summary\n",
    "summary()"
   ]
  },
  {
   "cell_type": "code",
   "execution_count": 4,
   "metadata": {
    "deletable": false
   },
   "outputs": [
    {
     "data": {
      "application/vnd.jupyter.widget-view+json": {
       "model_id": "8132d441ddca41e8950924207b49e193",
       "version_major": 2,
       "version_minor": 0
      },
      "text/plain": [
       "Valid(value=True, description='Token')"
      ]
     },
     "metadata": {},
     "output_type": "display_data"
    },
    {
     "data": {
      "application/vnd.jupyter.widget-view+json": {
       "model_id": "cea81690cd0d4be69e3adfec5bf91bcc",
       "version_major": 2,
       "version_minor": 0
      },
      "text/plain": [
       "SelectMultiple(description='Files', index=(0,), layout=Layout(height='100%', width='50%'), options=('project_m…"
      ]
     },
     "metadata": {},
     "output_type": "display_data"
    },
    {
     "data": {
      "application/vnd.jupyter.widget-view+json": {
       "model_id": "75408d822e5a403abe4c65f84053ae7d",
       "version_major": 2,
       "version_minor": 0
      },
      "text/plain": [
       "Button(description='submit', icon='check', style=ButtonStyle(), tooltip='submit')"
      ]
     },
     "metadata": {},
     "output_type": "display_data"
    }
   ],
   "source": [
    "# Be sure to select ALL THE FILES YOU NEED (including csv's) \n",
    "# when you submit. Also, UNLIKE USUAL, YOU CAN EDIT THIS CELL!\n",
    "# That's in case you want to switch the ASSIGNMENT code for the final\n",
    "# submission. Run this cell to start the submission process.\n",
    "from cs103 import submit\n",
    "\n",
    "COURSE = 123409\n",
    "ASSIGNMENT = 1615245\n",
    "#ASSIGNMENT = 1615244 # UNCOMMENT for final submission and COMMENT line above\n",
    "\n",
    "submit(COURSE, ASSIGNMENT)\n",
    "\n",
    "# If your submission fails, SUBMIT by downloading your files and uploading them to \n",
    "# Canvas. You can learn how on the page \"How to submit your Jupyter notebook\" on \n",
    "# our Canvas site."
   ]
  },
  {
   "cell_type": "markdown",
   "metadata": {
    "editable": false
   },
   "source": [
    "# Please double check your submission on Canvas to ensure that the right files (Jupyter file + CSVs) have been submitted and that the files do not contain unexpected errors.\n",
    "\n",
    "<font color=\"red\">**You should always check your submission on Canvas. It is your responsibility to ensure that the correct file has been submitted for grading.**</font> Regrade or accomodation requests using reasoning such as \"I didn't realize I submitted the wrong file\"/\"I didn't realize the submission didn't work\"/\"I didn't realize I didn't save before submitting so some of my work is missing\" will not be considered."
   ]
  },
  {
   "cell_type": "code",
   "execution_count": null,
   "metadata": {},
   "outputs": [],
   "source": []
  },
  {
   "cell_type": "code",
   "execution_count": null,
   "metadata": {},
   "outputs": [],
   "source": []
  }
 ],
 "metadata": {
  "kernelspec": {
   "display_name": "Python 3 (ipykernel)",
   "language": "python",
   "name": "python3"
  },
  "language_info": {
   "codemirror_mode": {
    "name": "ipython",
    "version": 3
   },
   "file_extension": ".py",
   "mimetype": "text/x-python",
   "name": "python",
   "nbconvert_exporter": "python",
   "pygments_lexer": "ipython3",
   "version": "3.11.4"
  }
 },
 "nbformat": 4,
 "nbformat_minor": 2
}
