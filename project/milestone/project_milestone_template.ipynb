{
 "cells": [
  {
   "cell_type": "markdown",
   "metadata": {
    "editable": false
   },
   "source": [
    "# Project Milestone Template"
   ]
  },
  {
   "cell_type": "markdown",
   "metadata": {
    "editable": false
   },
   "source": [
    "### Step 1a: Planning \n",
    "#### Identify the information in the file your program will read\n",
    "\n",
    "Describe (all) the information that is available. Be sure to note any surprising or unusual features. (For example, some information sources have missing data, which may be blank or flagged using values like -99, NaN, or something else.)"
   ]
  },
  {
   "cell_type": "markdown",
   "metadata": {},
   "source": [
    "<font color=\"blue\">\n",
    "    \n",
    "The cycle of the American election, which is 2016 for all polls as this was presidential polls conducted from 2016. There is a forecast date, which is November 1st 2016 for all polls as they are forecasted after all the polls close, which is close to that day. There is a state that the poll was conducted which is the location indicator in this context. The start and end dates indicate when the poll started conducting information, and when it stopped. The pollster is the source and the media/organization that conducted the poll. The branch represents the branch of government in which this election is for, which is by default President for all polls. The matchup indicates who's polling numbers will be assessed in the poll, and for all of them it is Trump, Clinton, and Johnson. The type of poll is Polls Plus for all of them which is a type that combines the economic index with the polls. \n",
    "\n",
    "</font>"
   ]
  },
  {
   "cell_type": "markdown",
   "metadata": {
    "editable": false
   },
   "source": [
    "### Step 1b: Planning \n",
    "#### Brainstorm ideas for what your program will produce\n",
    "#### Select the idea you will build on for subsequent steps\n",
    "\n",
    "You must brainstorm at least three ideas for graphs or charts that your program could produce and choose the one that you'd like to work on. You can choose between a line chart, histogram, bar chart, scatterplot, or pie chart.\n",
    "\n",
    "If you would like to change your project idea from what was described in the proposal, you will need to get permission from your project TA. This is intended to help ensure that your new project idea will meet the requirements of the project. Please see the project proposal for things to be aware of when communicating with your project TA."
   ]
  },
  {
   "cell_type": "markdown",
   "metadata": {},
   "source": [
    "<font color=\"blue\">\n",
    "    \n",
    "1. A bar chart with each candidate's names on the x-axis and their average polling number on the y-axis\n",
    "2. A pie chart where the proportion of the total score for each candidate are represented by each sector. For example, if there are 700 polls, the total score would be 700*100 (since polls are measured by percentage). The candidates score out of 100 for all 700 polls are added up and divided by the total score which how large their sector will be on the pie chart.\n",
    "3. A line chart of the candidates' polling scores overtime. Each line will represent the trend in poll numbers throughout the course of the campaign.\n",
    "    \n",
    "I will build on idea 1.\n",
    "\n",
    "</font>"
   ]
  },
  {
   "cell_type": "markdown",
   "metadata": {},
   "source": [
    "### Step 1c: Planning \n",
    "#### Write or draw examples of what your program will produce\n",
    "\n",
    "You must include a **hand-drawn image** that shows what your chart or plot will look like. You can insert an image using Edit -> Insert Image."
   ]
  },
  {
   "cell_type": "markdown",
   "metadata": {},
   "source": [
    "Insert your image into this cell."
   ]
  },
  {
   "cell_type": "markdown",
   "metadata": {
    "editable": false
   },
   "source": [
    "### Step 2a: Building\n",
    "#### Document which information you will represent in your data definitions\n",
    "\n",
    "Before you design data definitions in the code cell below, you must explicitly document here which information in the file you chose to represent and why that information is crucial to the chart or graph that you'll produce when you complete step 2c."
   ]
  },
  {
   "cell_type": "markdown",
   "metadata": {},
   "source": [
    "<font color=\"blue\">\n",
    "    \n",
    "I will be using information from the matchup, state, adj_pollclinton, adj_polltrump, and adj_polljohnson tabs. The matchup is the same for all polls which include the names of all candidates. The names are crucial as they will each represent a single bar on the bar chart. Each poll has a state of either \"US\" or any individual state in the United States. If the state indicates \"US\", that means it is a nationwide poll. If the state is not \"US\", then it is an individual state so it is a statewide poll. The overall polling scores of nationwide and statewide polls are weighted evenly into the final average polling score so knowing if it is a statewide or nationwide poll is absolutely necessary. Adj_pollclinton, adj_polltrump, and adj_polljohnson are the adjusted polling scores for each candidate. All the polls are of type polls plus, which combines the polls with an economic index and adjusts accordingly to ensure more accuracy. Therefore, the polling numbers used in the calculations will be the adjusted ones as it will include more sophisticated numbers.\n",
    "\n",
    "\n",
    "</font>"
   ]
  },
  {
   "cell_type": "markdown",
   "metadata": {
    "editable": false
   },
   "source": [
    "#### Design the data definitions"
   ]
  },
  {
   "cell_type": "code",
   "execution_count": 1,
   "metadata": {},
   "outputs": [],
   "source": [
    "from cs103 import *\n",
    "import csv\n",
    "from typing import NamedTuple, List\n",
    "from enum import Enum"
   ]
  },
  {
   "cell_type": "code",
   "execution_count": 16,
   "metadata": {},
   "outputs": [],
   "source": [
    "##################\n",
    "# Data Definitions\n",
    "\n",
    "PollBoundary = Enum('PollBoundary',[\"statewide\", \"nationwide\"])\n",
    "\n",
    "#interp. a poll boundary that can be statewide (Statewide) or nationwide (Nationwide)\n",
    "#examples are redundant for enumerations\n",
    "\n",
    "@typecheck\n",
    "def fn_for_poll_boundary(pb: PollBoundary)-> ...:\n",
    "    #template from enumeration (2 fields)\n",
    "    if pb==PollBoundary.statewide:\n",
    "        return...\n",
    "    elif pb==PollBoundary.nationwide:\n",
    "        return...\n",
    "    \n",
    "PresidentialPoll = NamedTuple('PresidentialPoll',[('boundary',PollBoundary),\n",
    "                                                  ('clinton_polling', float), #in range [0,100]\n",
    "                                                  ('trump_polling',float), #in range [0,100]\n",
    "                                                 ('johnson_polling',float)]) #in range [0,100]\n",
    "\n",
    "\n",
    "#interp. a presidential poll from 2016 that includes the poll boundary (PollBoundary) which can be statewide or nationwide, \n",
    "#and the polling score for each candidate (clinton_polling,trump_polling,johnson_poll)\n",
    "\n",
    "PP_0 = PresidentialPoll(PollBoundary.statewide, 44.7,44.3,2.1)\n",
    "PP_1 = PresidentialPoll(PollBoundary.nationwide, 34.5,48.9,1.8)\n",
    "PP_2 = PresidentialPoll(PollBoundary.statewide, 0, 89.9,3.5)\n",
    "PP_3 = PresidentialPoll(PollBoundary.nationwide,76.9,0,13.4)\n",
    "PP_4 = PresidentialPoll(PollBoundary.statewide,43.8,50.1,0)\n",
    "\n",
    "@typecheck\n",
    "def fn_for_presidential_poll(pp: PresidentialPoll) -> ...:\n",
    "    #template from Compound (4 fields) and reference rule \n",
    "    return...(fn_for_poll_boundary(pp.boundary),clinton_polling,trump_polling,johnson_polling)\n",
    "\n",
    "PresidentialPollList = List[PresidentialPoll]\n",
    "# interp. a list of presidential polls\n",
    "\n",
    "LOPP0 = []\n",
    "LOPP1 = [PP_0,PP_1]\n",
    "LOPP2 = [PP_0,PP_2,PP_4]\n",
    "LOPP3 = [PP_1,PP_3]\n",
    "\n",
    "\n",
    "@typecheck\n",
    "def fn_for_lopp(lopp: List[PresidentialPoll]) -> ...:\n",
    "    #template from arbitrary-sized and reference rule\n",
    "    #description of accumulator\n",
    "    acc = ... #type:\n",
    "    for pp in lopp:\n",
    "        acc = ...(fn_for_presidential_poll(pp), acc)\n",
    "    return...(acc)\n"
   ]
  },
  {
   "cell_type": "markdown",
   "metadata": {
    "editable": false
   },
   "source": [
    "### Step 2b: Building\n",
    "#### Design a function to read the information and store it as data in your program\n",
    "\n",
    "Complete this step in the code cell below. Your `read` function should remove any row with invalid or missing data but otherwise keep all the data. I.e., you should **not** design the `read` function such that it only returns the data you need for step 2c.\n",
    "\n",
    "You can choose to continue to build on this file when completing the final submission for the project (as opposed to copying your code over to the `project_final_submission_template.ipynb` file). However, if this is the approach you are taking, please go to the `project_final_submission_template.ipynb` file and read through the \"Step 2b and 2c: Building\" section. This section contains crucial information about common issues students encounter. We expect that you will be familiar with this information."
   ]
  },
  {
   "cell_type": "code",
   "execution_count": 62,
   "metadata": {},
   "outputs": [
    {
     "name": "stdout",
     "output_type": "stream",
     "text": [
      "\u001b[92m2 of 2 tests passed\u001b[0m\n",
      "\u001b[92m3 of 3 tests passed\u001b[0m\n",
      "\u001b[92m16 of 16 tests passed\u001b[0m\n",
      "\u001b[92m1 of 1 tests passed\u001b[0m\n"
     ]
    }
   ],
   "source": [
    "###########\n",
    "# Functions\n",
    "\n",
    "@typecheck\n",
    "def parse_poll_boundary(s: str) -> PollBoundary:\n",
    "    \"\"\"\n",
    "    returns string s as a PollBoundary\n",
    "    Assume s is the name of a US state or \"U.S.\"\n",
    "    \"\"\"\n",
    "    #return PollBoundary.nationwide #stub\n",
    "    #template from atomic non-distinct\n",
    "    #return...(s)\n",
    "    if s==\"U.S.\":\n",
    "        return PollBoundary.nationwide\n",
    "    else:\n",
    "        return PollBoundary.statewide\n",
    "\n",
    "start_testing()\n",
    "expect(parse_poll_boundary(\"U.S.\"), PollBoundary.nationwide)\n",
    "expect(parse_poll_boundary(\"Pennsylvania\"), PollBoundary.statewide)\n",
    "summary()\n",
    "\n",
    "@typecheck\n",
    "def read(filename: str) -> List[PresidentialPoll]:\n",
    "    \"\"\"    \n",
    "    reads information from the specified file and returns a list of presidential polls\n",
    "    \"\"\"\n",
    "    #return []  #stub\n",
    "    # Template from HtDAP\n",
    "    # lopp contains the result so far\n",
    "    lopp = [] # type: List[PresidentialPoll]\n",
    "\n",
    "    with open(filename) as csvfile:\n",
    "        \n",
    "        reader = csv.reader(csvfile)\n",
    "        next(reader) # skip header line\n",
    "\n",
    "        for row in reader:\n",
    "            # you may not need to store all the rows, and you may need\n",
    "            # to convert some of the strings to other types\n",
    "            if is_reliable(row):\n",
    "                pp = PresidentialPoll(parse_poll_boundary(row[5]), float(row[17]), float(row[18]), float(row[19]))\n",
    "                lopp.append(pp)\n",
    "    return lopp\n",
    "\n",
    "start_testing()\n",
    "expect(read(\"Test 1\"),[])\n",
    "expect(read(\"Test 2\"),[PresidentialPoll(PollBoundary.nationwide,42.6414,40.86509,5.675099)])\n",
    "expect(read(\"Test 3\"),[PresidentialPoll(PollBoundary.nationwide,44.6508,42.26663,6.114222), PresidentialPoll(PollBoundary.nationwide,42.21983,41.6954,4.220173)])\n",
    "    \n",
    "summary()\n",
    "\n",
    "\n",
    "@typecheck\n",
    "def is_reliable(row: List[str]) -> bool:\n",
    "    \"\"\"\n",
    "    returns True if there is a polling number present for each candidate (row[13],row[14],row[15]),\n",
    "    a state name or the country name present (row[5]),\n",
    "    polling numbers are above or equal to 0, and below or equal to 100,\n",
    "    AND polling numbers cannot sum to a value higher than 100\n",
    "    \n",
    "    Specifically, row[13],row[14],row[15] must exist (non-empty), represent polling numbers, \n",
    "    and be the string form of an float\n",
    "    \n",
    "    An empty string for row[13],row[14], or row[15] is not reliable as it does not represent a number\n",
    "    and to assume it means 0 is too ambiguous as the sample sizes of each poll makes the possibility\n",
    "    of a candidate to poll at purely 0% is too low.\n",
    "    An empty string for row[5] is not reliable as it does not represent a state or the country\n",
    "    so it cannot be decided whether or not the poll is statewide or nationwide \n",
    "    A polling number below 0 is not reliable as that is not a possible score and a polling number above 100\n",
    "    is also not reliable as a candidate cannot have more than 100% of the total distribution of polling scores\n",
    "    \n",
    "    \"\"\"\n",
    "    #return False #stub\n",
    "    #template from atomic with indexing\n",
    "    if (row[17]!=\"\" and row[18]!=\"\" and row[19]!=\"\"):\n",
    "        return (float(row[17])>=0  and float(row[17])<=100) and (float(row[18])>=0  and float(row[18])<=100) and(float(row[19])>=0  and float(row[19])<=100) and ((float(row[17]) + float(row[18])+float(row[19]))<=100)and (row[5]!=\"\") \n",
    "    else:\n",
    "        return False\n",
    "start_testing()\n",
    "expect(is_reliable([\"2016\",\"President\",\"polls-plus\",\"Clinton vs. Trump vs. Johnson\",\"11/1/16\",\"Florida\",\"10/25/2016\",\"10/31/2016\",\"\",\"\",\"\",\"\",\"\",\"\",\"\",\"\",\"\",\"34.6\",\"30.1\",\"3.7\",\"\",\"\",\"\",\"\",\"\",\"\",\"\"]), True)\n",
    "expect(is_reliable([\"2016\",\"President\",\"polls-plus\",\"Clinton vs. Trump vs. Johnson\",\"11/1/16\",\"U.S.\",\"10/25/2016\",\"10/31/2016\",\"\",\"\",\"\",\"\",\"\",\"\",\"\",\"\",\"\",\"14.7\",\"60.8\",\"10.6\",\"\",\"\",\"\",\"\",\"\",\"\",\"\"]), True)\n",
    "expect(is_reliable([\"2016\",\"President\",\"polls-plus\",\"Clinton vs. Trump vs. Johnson\",\"11/1/16\",\"\",\"10/25/2016\",\"10/31/2016\",\"14.7\",\"60.8\",\"10.6\",\"\",\"\",\"\",\"\",\"\",\"\",\"\"]), False)\n",
    "expect(is_reliable([\"2016\",\"President\",\"polls-plus\",\"Clinton vs. Trump vs. Johnson\",\"11/1/16\",\"U.S.\",\"10/25/2016\",\"10/31/2016\",\"\",\"40.3\",\"20.9\",\"\",\"\",\"\",\"\",\"\",\"\",\"\"]), False)\n",
    "expect(is_reliable([\"2016\",\"President\",\"polls-plus\",\"Clinton vs. Trump vs. Johnson\",\"11/1/16\",\"Ohio\",\"10/25/2016\",\"10/31/2016\",\"33.1\",\"\",\"30.5\",\"\",\"\",\"\",\"\",\"\",\"\",\"\"]), False)\n",
    "expect(is_reliable([\"2016\",\"President\",\"polls-plus\",\"Clinton vs. Trump vs. Johnson\",\"11/1/16\",\"California\",\"10/25/2016\",\"10/31/2016\",\"45.5\",\"50.0\",\"\",\"\",\"\",\"\",\"\",\"\",\"\",\"\"]), False)\n",
    "expect(is_reliable([\"2016\",\"President\",\"polls-plus\",\"Clinton vs. Trump vs. Johnson\",\"11/1/16\",\"\",\"10/25/2016\",\"10/31/2016\",\"47.0\",\"20.0\",\"\",\"\",\"\",\"\",\"\",\"\",\"\",\"\"]), False)\n",
    "expect(is_reliable([\"2016\",\"President\",\"polls-plus\",\"Clinton vs. Trump vs. Johnson\",\"11/1/16\",\"\",\"10/25/2016\",\"10/31/2016\",\"70.3\",\"\",\"3.9\",\"\",\"\",\"\",\"\",\"\",\"\",\"\"]), False)\n",
    "expect(is_reliable([\"2016\",\"President\",\"polls-plus\",\"Clinton vs. Trump vs. Johnson\",\"11/1/16\",\"Indiana\",\"10/25/2016\",\"10/31/2016\",\"\",\"34.5\",\"\",\"\",\"\",\"\",\"\",\"\",\"\",\"\"]), False)\n",
    "# expect(is_reliable([]), False)\n",
    "expect(is_reliable([\"2016\",\"President\",\"polls-plus\",\"Clinton vs. Trump vs. Johnson\",\"11/1/16\",\"\",\"10/25/2016\",\"10/31/2016\",\"\",\"\",\"\",\"\",\"\",\"\",\"\",\"\",\"\",\"\",\"\",\"\",\"\",\"\",\"\",\"\",\"\",\"\",\"\",\"\"]), False)\n",
    "expect(is_reliable([\"2016\",\"President\",\"polls-plus\",\"Clinton vs. Trump vs. Johnson\",\"11/1/16\",\"Arkansas\",\"10/25/2016\",\"10/31/2016\",\"\",\"\",\"\",\"\",\"\",\"\",\"\",\"\",\"\",\"\",\"\",\"\",\"\",\"\",\"\",\"\",\"\",\"\",\"\"]), False)\n",
    "expect(is_reliable([\"2016\",\"President\",\"polls-plus\",\"Clinton vs. Trump vs. Johnson\",\"11/1/16\",\"\",\"10/25/2016\",\"10/31/2016\",\"\",\"\",\"\",\"\",\"\",\"\",\"\",\"\",\"\",\"33.6\",\"\",\"\",\"\",\"\",\"\",\"\",\"\",\"\",\"\"]), False)\n",
    "expect(is_reliable([\"2016\",\"President\",\"polls-plus\",\"Clinton vs. Trump vs. Johnson\",\"11/1/16\",\"\",\"10/25/2016\",\"10/31/2016\",\"\",\"\",\"\",\"\",\"\",\"\",\"\",\"\",\"\",\"\",\"76.7\",\"\",\"\",\"\",\"\",\"\",\"\",\"\",\"\"]), False)\n",
    "expect(is_reliable([\"2016\",\"President\",\"polls-plus\",\"Clinton vs. Trump vs. Johnson\",\"11/1/16\",\"\",\"10/25/2016\",\"10/31/2016\",\"\",\"\",\"\",\"\",\"\",\"\",\"\",\"\",\"\",\"\",\"\",\"23.4\",\"\",\"\",\"\",\"\",\"\",\"\",\"\"]), False)\n",
    "expect(is_reliable([\"2016\",\"President\",\"polls-plus\",\"Clinton vs. Trump vs. Johnson\",\"11/1/16\",\"Texas\",\"10/25/2016\",\"10/31/2016\",\"\",\"\",\"\",\"\",\"\",\"\",\"\",\"\",\"\",\"30.5\",\"50.3\",\"40.5\",\"\",\"\",\"\",\"\",\"\",\"\",\"\"]), False)\n",
    "expect(is_reliable([\"2016\",\"President\",\"polls-plus\",\"Clinton vs. Trump vs. Johnson\",\"11/1/16\",\"Texas\",\"10/25/2016\",\"10/31/2016\",\"\",\"\",\"\",\"\",\"\",\"\",\"\",\"\",\"\",\"1.5\",\"4.3\",\"7.5\",\"\",\"\",\"\",\"\",\"\",\"\",\"\"]), True)\n",
    "summary()\n",
    "# Begin testing\n",
    "start_testing()\n",
    "\n",
    "# Examples and tests for read\n",
    "expect(..., ...)\n",
    "\n",
    "# show testing summary\n",
    "summary()"
   ]
  },
  {
   "cell_type": "code",
   "execution_count": 63,
   "metadata": {
    "deletable": false
   },
   "outputs": [
    {
     "data": {
      "application/vnd.jupyter.widget-view+json": {
       "model_id": "3c8d2a3ddc6740cdbe4789a96a389a88",
       "version_major": 2,
       "version_minor": 0
      },
      "text/plain": [
       "Valid(value=True, description='Token')"
      ]
     },
     "metadata": {},
     "output_type": "display_data"
    },
    {
     "data": {
      "application/vnd.jupyter.widget-view+json": {
       "model_id": "27e7ae2856ba412a8be63942dda22ff7",
       "version_major": 2,
       "version_minor": 0
      },
      "text/plain": [
       "SelectMultiple(description='Files', index=(0,), layout=Layout(height='100%', width='50%'), options=('project_m…"
      ]
     },
     "metadata": {},
     "output_type": "display_data"
    },
    {
     "data": {
      "application/vnd.jupyter.widget-view+json": {
       "model_id": "947aaad2fc814516a0eb61e83c5e2221",
       "version_major": 2,
       "version_minor": 0
      },
      "text/plain": [
       "Button(description='submit', icon='check', style=ButtonStyle(), tooltip='submit')"
      ]
     },
     "metadata": {},
     "output_type": "display_data"
    }
   ],
   "source": [
    "# Be sure to select ALL THE FILES YOU NEED (including csv's) \n",
    "# when you submit. Also, UNLIKE USUAL, YOU CAN EDIT THIS CELL!\n",
    "# That's in case you want to switch the ASSIGNMENT code for the final\n",
    "# submission. Run this cell to start the submission process.\n",
    "from cs103 import submit\n",
    "\n",
    "COURSE = 123409\n",
    "ASSIGNMENT = 1615245\n",
    "#ASSIGNMENT = 1615244 # UNCOMMENT for final submission and COMMENT line above\n",
    "\n",
    "submit(COURSE, ASSIGNMENT)\n",
    "\n",
    "# If your submission fails, SUBMIT by downloading your files and uploading them to \n",
    "# Canvas. You can learn how on the page \"How to submit your Jupyter notebook\" on \n",
    "# our Canvas site."
   ]
  },
  {
   "cell_type": "markdown",
   "metadata": {
    "editable": false
   },
   "source": [
    "# Please double check your submission on Canvas to ensure that the right files (Jupyter file + CSVs) have been submitted and that the files do not contain unexpected errors.\n",
    "\n",
    "<font color=\"red\">**You should always check your submission on Canvas. It is your responsibility to ensure that the correct file has been submitted for grading.**</font> Regrade or accomodation requests using reasoning such as \"I didn't realize I submitted the wrong file\"/\"I didn't realize the submission didn't work\"/\"I didn't realize I didn't save before submitting so some of my work is missing\" will not be considered."
   ]
  },
  {
   "cell_type": "code",
   "execution_count": null,
   "metadata": {},
   "outputs": [],
   "source": []
  },
  {
   "cell_type": "code",
   "execution_count": null,
   "metadata": {},
   "outputs": [],
   "source": []
  }
 ],
 "metadata": {
  "kernelspec": {
   "display_name": "Python 3 (ipykernel)",
   "language": "python",
   "name": "python3"
  },
  "language_info": {
   "codemirror_mode": {
    "name": "ipython",
    "version": 3
   },
   "file_extension": ".py",
   "mimetype": "text/x-python",
   "name": "python",
   "nbconvert_exporter": "python",
   "pygments_lexer": "ipython3",
   "version": "3.11.4"
  }
 },
 "nbformat": 4,
 "nbformat_minor": 2
}
