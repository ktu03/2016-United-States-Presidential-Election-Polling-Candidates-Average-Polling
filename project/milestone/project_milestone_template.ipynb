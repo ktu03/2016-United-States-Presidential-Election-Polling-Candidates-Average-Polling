{
 "cells": [
  {
   "cell_type": "markdown",
   "metadata": {
    "editable": false
   },
   "source": [
    "# Project Milestone Template"
   ]
  },
  {
   "cell_type": "markdown",
   "metadata": {
    "editable": false
   },
   "source": [
    "### Step 1a: Planning \n",
    "#### Identify the information in the file your program will read\n",
    "\n",
    "Describe (all) the information that is available. Be sure to note any surprising or unusual features. (For example, some information sources have missing data, which may be blank or flagged using values like -99, NaN, or something else.)"
   ]
  },
  {
   "cell_type": "markdown",
   "metadata": {},
   "source": [
    "<font color=\"blue\">\n",
    "    \n",
    "Put your answer here. Please don't delete the two HTML tags on either end of this paragraph. It's to make your answer blue so the TAs can easily spot it.\n",
    "\n",
    "</font>"
   ]
  },
  {
   "cell_type": "markdown",
   "metadata": {
    "editable": false
   },
   "source": [
    "### Step 1b: Planning \n",
    "#### Brainstorm ideas for what your program will produce\n",
    "#### Select the idea you will build on for subsequent steps\n",
    "\n",
    "You must brainstorm at least three ideas for graphs or charts that your program could produce and choose the one that you'd like to work on. You can choose between a line chart, histogram, bar chart, scatterplot, or pie chart.\n",
    "\n",
    "If you would like to change your project idea from what was described in the proposal, you will need to get permission from your project TA. This is intended to help ensure that your new project idea will meet the requirements of the project. Please see the project proposal for things to be aware of when communicating with your project TA."
   ]
  },
  {
   "cell_type": "markdown",
   "metadata": {},
   "source": [
    "<font color=\"blue\">\n",
    "    \n",
    "Put your answer here. Please don't delete the two HTML tags on either end of this paragraph. It's to make your answer blue so the TAs can easily spot it.\n",
    "\n",
    "</font>"
   ]
  },
  {
   "cell_type": "markdown",
   "metadata": {},
   "source": [
    "### Step 1c: Planning \n",
    "#### Write or draw examples of what your program will produce\n",
    "\n",
    "You must include a **hand-drawn image** that shows what your chart or plot will look like. You can insert an image using Edit -> Insert Image."
   ]
  },
  {
   "cell_type": "markdown",
   "metadata": {},
   "source": [
    "Insert your image into this cell."
   ]
  },
  {
   "cell_type": "markdown",
   "metadata": {
    "editable": false
   },
   "source": [
    "### Step 2a: Building\n",
    "#### Document which information you will represent in your data definitions\n",
    "\n",
    "Before you design data definitions in the code cell below, you must explicitly document here which information in the file you chose to represent and why that information is crucial to the chart or graph that you'll produce when you complete step 2c."
   ]
  },
  {
   "cell_type": "markdown",
   "metadata": {},
   "source": [
    "<font color=\"blue\">\n",
    "    \n",
    "Put your answer here. Please don't delete the two HTML tags on either end of this paragraph. It's to make your answer blue so the TAs can easily spot it.\n",
    "\n",
    "</font>"
   ]
  },
  {
   "cell_type": "markdown",
   "metadata": {
    "editable": false
   },
   "source": [
    "#### Design the data definitions"
   ]
  },
  {
   "cell_type": "code",
   "execution_count": null,
   "metadata": {},
   "outputs": [],
   "source": [
    "from cs103 import *\n",
    "import csv\n",
    "from typing import NamedTuple, List"
   ]
  },
  {
   "cell_type": "code",
   "execution_count": null,
   "metadata": {},
   "outputs": [],
   "source": [
    "##################\n",
    "# Data Definitions\n",
    "\n",
    "Consumed = ...\n",
    "\n",
    "\n",
    "\n",
    "# List[Consumed]\n",
    "# interp. a list of Consumed\n",
    "\n",
    "LOC0 = []\n",
    "\n",
    "@typecheck\n",
    "def fn_for_loc(loc: List[Consumed]) -> ...:\n",
    "    ... # choose which template body to use for List[Consumed]\n"
   ]
  },
  {
   "cell_type": "markdown",
   "metadata": {
    "editable": false
   },
   "source": [
    "### Step 2b: Building\n",
    "#### Design a function to read the information and store it as data in your program\n",
    "\n",
    "Complete this step in the code cell below. Your `read` function should remove any row with invalid or missing data but otherwise keep all the data. I.e., you should **not** design the `read` function such that it only returns the data you need for step 2c.\n",
    "\n",
    "You can choose to continue to build on this file when completing the final submission for the project (as opposed to copying your code over to the `project_final_submission_template.ipynb` file). However, if this is the approach you are taking, please go to the `project_final_submission_template.ipynb` file and read through the \"Step 2b and 2c: Building\" section. This section contains crucial information about common issues students encounter. We expect that you will be familiar with this information."
   ]
  },
  {
   "cell_type": "code",
   "execution_count": null,
   "metadata": {},
   "outputs": [],
   "source": [
    "###########\n",
    "# Functions\n",
    "\n",
    "@typecheck\n",
    "def read(filename: str) -> List[Consumed]:\n",
    "    \"\"\"    \n",
    "    reads information from the specified file and returns ...\n",
    "    \"\"\"\n",
    "    #return []  #stub\n",
    "    # Template from HtDAP\n",
    "    # loc contains the result so far\n",
    "    loc = [] # type: List[Consumed]\n",
    "\n",
    "    with open(filename) as csvfile:\n",
    "        \n",
    "        reader = csv.reader(csvfile)\n",
    "        next(reader) # skip header line\n",
    "\n",
    "        for row in reader:\n",
    "            # you may not need to store all the rows, and you may need\n",
    "            # to convert some of the strings to other types\n",
    "            c = Consumed(row[0], ... ,row[n])\n",
    "            loc.append(c)\n",
    "    \n",
    "    return loc\n",
    "\n",
    "\n",
    "# Begin testing\n",
    "start_testing()\n",
    "\n",
    "# Examples and tests for read\n",
    "expect(..., ...)\n",
    "\n",
    "# show testing summary\n",
    "summary()"
   ]
  },
  {
   "cell_type": "code",
   "execution_count": null,
   "metadata": {
    "deletable": false
   },
   "outputs": [],
   "source": [
    "# Be sure to select ALL THE FILES YOU NEED (including csv's) \n",
    "# when you submit. Also, UNLIKE USUAL, YOU CAN EDIT THIS CELL!\n",
    "# That's in case you want to switch the ASSIGNMENT code for the final\n",
    "# submission. Run this cell to start the submission process.\n",
    "from cs103 import submit\n",
    "\n",
    "COURSE = 123409\n",
    "ASSIGNMENT = 1615245\n",
    "#ASSIGNMENT = 1615244 # UNCOMMENT for final submission and COMMENT line above\n",
    "\n",
    "submit(COURSE, ASSIGNMENT)\n",
    "\n",
    "# If your submission fails, SUBMIT by downloading your files and uploading them to \n",
    "# Canvas. You can learn how on the page \"How to submit your Jupyter notebook\" on \n",
    "# our Canvas site."
   ]
  },
  {
   "cell_type": "markdown",
   "metadata": {
    "editable": false
   },
   "source": [
    "# Please double check your submission on Canvas to ensure that the right files (Jupyter file + CSVs) have been submitted and that the files do not contain unexpected errors.\n",
    "\n",
    "<font color=\"red\">**You should always check your submission on Canvas. It is your responsibility to ensure that the correct file has been submitted for grading.**</font> Regrade or accomodation requests using reasoning such as \"I didn't realize I submitted the wrong file\"/\"I didn't realize the submission didn't work\"/\"I didn't realize I didn't save before submitting so some of my work is missing\" will not be considered."
   ]
  }
 ],
 "metadata": {
  "kernelspec": {
   "display_name": "Python 3 (ipykernel)",
   "language": "python",
   "name": "python3"
  },
  "language_info": {
   "codemirror_mode": {
    "name": "ipython",
    "version": 3
   },
   "file_extension": ".py",
   "mimetype": "text/x-python",
   "name": "python",
   "nbconvert_exporter": "python",
   "pygments_lexer": "ipython3",
   "version": "3.11.4"
  }
 },
 "nbformat": 4,
 "nbformat_minor": 2
}
