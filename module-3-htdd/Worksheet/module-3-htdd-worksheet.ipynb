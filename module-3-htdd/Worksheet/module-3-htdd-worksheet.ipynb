{
 "cells": [
  {
   "cell_type": "code",
   "execution_count": null,
   "metadata": {
    "editable": false
   },
   "outputs": [],
   "source": [
    "from cs103 import *\n",
    "from typing import Optional\n",
    "from enum import Enum"
   ]
  },
  {
   "cell_type": "markdown",
   "metadata": {
    "editable": false
   },
   "source": [
    "## How to Design Data Worksheet\n",
    "\n",
    "### Part One\n",
    "\n",
    "\n",
    "### Problem 1\n",
    "Suppose you are writing a data definition to represent the number of passengers on a plane. The plane can hold at most 250 passengers. In the four parts below, you’ll work through creating that data definition.\n",
    "\n",
    "**a.** Which of the following is the best data type definition?\n",
    "\n",
    "       i. NumPassengers = int\n",
    "      ii. NumPassengers = float # in range(0, 250.0)\n",
    "     iii. NumPassengers = float\n",
    "      iv. NumPassengers = int # in range[0, 250]\n"
   ]
  },
  {
   "cell_type": "markdown",
   "metadata": {},
   "source": [
    "Double click to edit this cell\n",
    "\n",
    "The best data type definition is `[ your solution goes here]`"
   ]
  },
  {
   "cell_type": "markdown",
   "metadata": {
    "editable": false
   },
   "source": [
    "**b.** Write a clear and concise interpretation for **NumPassengers**"
   ]
  },
  {
   "cell_type": "markdown",
   "metadata": {},
   "source": [
    "*your solution goes here*"
   ]
  },
  {
   "cell_type": "markdown",
   "metadata": {
    "editable": false
   },
   "source": [
    "**c.** Choose a complete set of examples for **NumPassengers** from the options below. Write your justification for choosing the examples you do.\n",
    "\n",
    "    NP1 = 0\n",
    "    NP2 = 1\n",
    "    NP3 = 100\n",
    "    NP4 = 249\n",
    "    NP5 = 250"
   ]
  },
  {
   "cell_type": "markdown",
   "metadata": {},
   "source": [
    "*Your solution goes here*\n",
    "\n",
    "Justification: \n"
   ]
  },
  {
   "cell_type": "markdown",
   "metadata": {
    "editable": false
   },
   "source": [
    "**d.** Write the template function for **NumPassengers**"
   ]
  },
  {
   "cell_type": "markdown",
   "metadata": {},
   "source": [
    "*Your solution goes here*\n"
   ]
  },
  {
   "cell_type": "markdown",
   "metadata": {
    "editable": false
   },
   "source": [
    "### Problem 2\n",
    "For each of the kinds of data described, choose the type that would best represent that data. Justify why you chose each answer.\n",
    "\n",
    "**a.** The number of girls in a primary school class of 52 students:\n",
    "\n",
    "    Simple Atomic      Interval      Enumeration      Optional "
   ]
  },
  {
   "cell_type": "markdown",
   "metadata": {},
   "source": [
    "The best data type to represent this data is `[ your solution goes here]`\n",
    "\n",
    "Justification: \n"
   ]
  },
  {
   "cell_type": "markdown",
   "metadata": {
    "editable": false
   },
   "source": [
    "**b.** A TV that is either off or set to a source between 1 and 20:\n",
    "\n",
    "    Simple Atomic      Interval      Enumeration     Optional"
   ]
  },
  {
   "cell_type": "markdown",
   "metadata": {},
   "source": [
    "The best data type to represent this data is `[ your solution goes here]`\n",
    "\n",
    "Justification: "
   ]
  },
  {
   "cell_type": "markdown",
   "metadata": {
    "editable": false
   },
   "source": [
    "**c.** One of the three primary colours (red, blue or yellow):\n",
    "\n",
    "    Simple Atomic      Interval      Enumeration     Optional"
   ]
  },
  {
   "cell_type": "markdown",
   "metadata": {},
   "source": [
    "The best data type to represent this data is `[ your solution goes here]`\n",
    "\n",
    "Justification: "
   ]
  },
  {
   "cell_type": "markdown",
   "metadata": {
    "editable": false
   },
   "source": [
    "**d.** The name of a sports team (in any league or sport):\n",
    "\n",
    "    Simple Atomic      Interval      Enumeration     Optional"
   ]
  },
  {
   "cell_type": "markdown",
   "metadata": {},
   "source": [
    "The best data type to represent this data is `[ your solution goes here]`\n",
    "\n",
    "Justification: "
   ]
  },
  {
   "cell_type": "markdown",
   "metadata": {
    "editable": false
   },
   "source": [
    "**e.** The distance of a rocket ship from earth:\n",
    "\n",
    "    Simple Atomic      Interval      Enumeration     Optional"
   ]
  },
  {
   "cell_type": "markdown",
   "metadata": {},
   "source": [
    "The best data type to represent this data is `[ your solution goes here]`\n",
    "\n",
    "Justification: "
   ]
  },
  {
   "cell_type": "markdown",
   "metadata": {
    "editable": false
   },
   "source": [
    "**f.** One of the four directions – North, East, South or West:\n",
    "\n",
    "    Simple Atomic      Interval      Enumeration     Optional"
   ]
  },
  {
   "cell_type": "markdown",
   "metadata": {},
   "source": [
    "The best data type to represent this data is `[ your solution goes here]`\n",
    "\n",
    "Justification: "
   ]
  },
  {
   "cell_type": "markdown",
   "metadata": {
    "editable": false
   },
   "source": [
    "**g.** A student’s grade in a course – either Fail, or a percentage between 50 and 100:\n",
    "\n",
    "    Simple Atomic      Interval      Enumeration     Optional"
   ]
  },
  {
   "cell_type": "markdown",
   "metadata": {},
   "source": [
    "The best data type to represent this data is `[ your solution goes here]`\n",
    "\n",
    "Justification: "
   ]
  },
  {
   "cell_type": "markdown",
   "metadata": {
    "editable": false
   },
   "source": [
    "### Problem 3\n",
    "Pick one part in the previous question where you had the most trouble deciding between two choices, indicate which part and choices those were, and justify why you settled on your final choice."
   ]
  },
  {
   "cell_type": "markdown",
   "metadata": {},
   "source": [
    "*your solution goes here*"
   ]
  },
  {
   "cell_type": "markdown",
   "metadata": {
    "editable": false
   },
   "source": [
    "## Part Two\n",
    "\n",
    "### Problem 4\n",
    "Design a complete data definition to represent the temperature shown on a thermometer that can show a temperature as low as -50 and as high as 50 degrees Celsius."
   ]
  },
  {
   "cell_type": "code",
   "execution_count": null,
   "metadata": {},
   "outputs": [],
   "source": [
    "# This cell can be run \n",
    "# your solution goes here"
   ]
  },
  {
   "cell_type": "markdown",
   "metadata": {
    "editable": false
   },
   "source": [
    "### Problem 5\n",
    "Suppose you are writing a data definition to represent the seven continents in the world. (This will get a bit long; we promise on exams that if you have to handwrite the cases, we’ll have no more than four cases!)\n",
    "\n",
    "**a.** Which of the following is the best data type definition?\n",
    "```python\n",
    "i.   Continent = str\n",
    "\n",
    "ii.  Continent = float # in range[0.0, 6.0]\n",
    "\n",
    "iii. from enum import Enum\n",
    "     Continent = Enum('Continent', ['afr', 'ant', 'asia','aus', 'eu', 'na', 'sa'])\n",
    "    \n",
    "iv.  from enum import Enum\n",
    "     Continent = ('afr', 'ant', 'asia', 'aus', 'eu', 'na','sa')\n",
    "```\n",
    "\n",
    "The best Data Type Definition is:"
   ]
  },
  {
   "cell_type": "code",
   "execution_count": null,
   "metadata": {},
   "outputs": [],
   "source": [
    "# This cell can be run \n",
    "# your solution goes here "
   ]
  },
  {
   "cell_type": "markdown",
   "metadata": {
    "editable": false
   },
   "source": [
    "**b.** Write a clear and concise interpretation for **Continent**"
   ]
  },
  {
   "cell_type": "code",
   "execution_count": null,
   "metadata": {},
   "outputs": [],
   "source": [
    "# interpretation.  *your solution goes here*"
   ]
  },
  {
   "cell_type": "markdown",
   "metadata": {
    "editable": false
   },
   "source": [
    "**c.** How many examples are necessary for **Continent**?"
   ]
  },
  {
   "cell_type": "markdown",
   "metadata": {},
   "source": [
    "*your solution goes here*"
   ]
  },
  {
   "cell_type": "markdown",
   "metadata": {
    "editable": false
   },
   "source": [
    "**d.** Write the template function for **Continent**."
   ]
  },
  {
   "cell_type": "code",
   "execution_count": null,
   "metadata": {},
   "outputs": [],
   "source": [
    "# This cell can be run \n",
    "# your solution goes here"
   ]
  },
  {
   "cell_type": "markdown",
   "metadata": {
    "editable": false
   },
   "source": [
    "### Problem 6\n",
    "Now that you have designed a complete data definition for Continent, complete the design a function that takes a Continent and returns True if any part of it is north of the equator. Note that parts of North America, South America, Africa, Europe, and Asia are north of the equator. (Again, this will get a little long. Again, we promise not to make you handwrite this many cases on an exam!)\n",
    "```python\n",
    "@typecheck\n",
    "def is_northern(c: Continent) -> bool:\n",
    "\"\"\"\n",
    "return True if any part of the continent is north of the equator\n",
    "\"\"\"\n",
    "return False #stub\n",
    "```"
   ]
  },
  {
   "cell_type": "code",
   "execution_count": null,
   "metadata": {},
   "outputs": [],
   "source": [
    "# Note: Make sure that the  Continent Data Definition runs\n",
    "# with no errors before you design any function. \n",
    "\n",
    "# your solution goes here "
   ]
  },
  {
   "cell_type": "markdown",
   "metadata": {
    "editable": false
   },
   "source": [
    "### Problem 7\n",
    "Why do the return statements in the template for **Continent** not include the parameter name? (In other words, assuming your parameter’s name is c, why do they only say `“return ...”`, rather than `“return ...(c)”`?)"
   ]
  },
  {
   "cell_type": "markdown",
   "metadata": {},
   "source": [
    "*your solution goes here*"
   ]
  },
  {
   "cell_type": "markdown",
   "metadata": {
    "editable": false
   },
   "source": [
    "### Problem 8\n",
    "We say that examples are “redundant” for an enumeration. “Redundant” here means “repeating what has already been provided”. Where and how is **all** of the usual value of examples already fulfilled by other parts of the data definition of an enumeration?"
   ]
  },
  {
   "cell_type": "markdown",
   "metadata": {},
   "source": [
    "*your solution goes here*"
   ]
  },
  {
   "cell_type": "markdown",
   "metadata": {
    "editable": false
   },
   "source": [
    "### Problem 9\n",
    "When you’re designing a function that takes a user-defined type (i.e. a type that is defined by a data definition, not by Python), in which steps of the HtDF recipe do you need to consult the data definition? For each step, which part(s) of the data definition are you consulting? (This is open to interpretation! Fortunately, it’s also graded for completeness. Do your best to give meaningful, well-considered answers.)\n",
    "\n",
    "                         "
   ]
  },
  {
   "cell_type": "markdown",
   "metadata": {},
   "source": [
    "Double click to edit this table\n",
    "\n",
    "|Step|Consult the data definition? | Which part of the data definition do you need to consult?|\n",
    "|:--:|:----------------------------:|:----------------------:|\n",
    "|Signature|                         |                        |\n",
    "|Purpose|                           |                        |\n",
    "|Stub|                              |                        |\n",
    "|Examples/Tests|                    |                        |\n",
    "|Template|                          |                        |\n",
    "|Body|                              |                        |     "
   ]
  },
  {
   "cell_type": "markdown",
   "metadata": {
    "editable": false
   },
   "source": [
    "### Problem 10\n",
    "Suppose you want to write a data definition to represent a runner’s position in a race of 500. The runner can be ranked from 1st to 500th place, or “Did Not Finish”.\n",
    "\n",
    "**a.** Which of the following is the best type comment and/or enumeration definition?\n",
    "```python\n",
    "i.   Position = float\n",
    "\n",
    "ii.  from enum import Enum\n",
    "     Position = Enum('Position', ['DNF', 1-500])\n",
    "    \n",
    "iii. Position = Optional[int] # in range[1, 500]\n",
    "\n",
    "iv.  Position = Optional[float] # in range[1.0-500.0]\n",
    "```\n",
    "\n",
    "\n",
    "The best type comment and/or enumeration definition is:"
   ]
  },
  {
   "cell_type": "code",
   "execution_count": null,
   "metadata": {},
   "outputs": [],
   "source": [
    "# This cell can be run \n",
    "# your solution goes here"
   ]
  },
  {
   "cell_type": "markdown",
   "metadata": {
    "editable": false
   },
   "source": [
    "**b.** Write a clear and concise interpretation for **Position**:"
   ]
  },
  {
   "cell_type": "code",
   "execution_count": null,
   "metadata": {},
   "outputs": [],
   "source": [
    "#interpretation.   *your solution goes here*"
   ]
  },
  {
   "cell_type": "markdown",
   "metadata": {
    "editable": false
   },
   "source": [
    "**c.** Select a complete set of examples for **Position** from the options below. Provide a justification for each example that you chose.\n",
    "\n",
    "    # Examples are redundant\n",
    "    P1 = 0\n",
    "    P2 = 1\n",
    "    P3 = 250\n",
    "    P4 = 499\n",
    "    P5 = 500\n",
    "    P6 = 501\n",
    "    P7 = None\n",
    "    P8 = 'DNF'"
   ]
  },
  {
   "cell_type": "markdown",
   "metadata": {},
   "source": [
    "*Your solution goes here*\n",
    "\n",
    "Justification: "
   ]
  },
  {
   "cell_type": "markdown",
   "metadata": {
    "editable": false
   },
   "source": [
    "**d.** Write the template function for **Position**."
   ]
  },
  {
   "cell_type": "code",
   "execution_count": null,
   "metadata": {},
   "outputs": [],
   "source": [
    "# This cell can be run \n",
    "# your solution goes here"
   ]
  },
  {
   "cell_type": "markdown",
   "metadata": {
    "editable": false
   },
   "source": [
    "### Problem 11\n",
    "Now that you’ve worked with many different kinds of templates, why do you think that templating is an important step of designing functions?"
   ]
  },
  {
   "cell_type": "markdown",
   "metadata": {},
   "source": [
    "*Your solution goes here*"
   ]
  },
  {
   "cell_type": "markdown",
   "metadata": {
    "editable": false
   },
   "source": [
    "### Problem 12\n",
    "What questions are arising for you as you work through the course activities?"
   ]
  },
  {
   "cell_type": "markdown",
   "metadata": {},
   "source": [
    "*Your solution goes here*"
   ]
  },
  {
   "cell_type": "markdown",
   "metadata": {
    "editable": false
   },
   "source": [
    "### Problem 13\n",
    "How will you get answers to these questions?"
   ]
  },
  {
   "cell_type": "markdown",
   "metadata": {},
   "source": [
    "*Your solution goes here*"
   ]
  },
  {
   "cell_type": "markdown",
   "metadata": {
    "editable": false
   },
   "source": [
    "## Optional Extra Practice Questions (nothing in this part is graded)\n",
    "\n",
    "\n",
    "### Problem 14\n",
    "Data definitions typically have more than one function associated with them. List at least four different functions that might take a NumPassengers as a parameter. (It may help to think of various roles that deal with airplanes: ticket-booking services, gate-check agents, safety inspectors, flight simulation designers, etc.)"
   ]
  },
  {
   "cell_type": "markdown",
   "metadata": {},
   "source": [
    "*Your solution goes here*"
   ]
  },
  {
   "cell_type": "markdown",
   "metadata": {
    "editable": false
   },
   "source": [
    "### Problem 15\n",
    "Design a function that takes a temperature (as defined in your solution to *Problem 4*) and determines whether it’s a comfortable temperature for people."
   ]
  },
  {
   "cell_type": "code",
   "execution_count": null,
   "metadata": {},
   "outputs": [],
   "source": [
    "# This cell can be run \n",
    "# your solution goes here"
   ]
  },
  {
   "cell_type": "markdown",
   "metadata": {
    "editable": false
   },
   "source": [
    "### Problem 16\n",
    "What would need to change in your data definition for a thermometer (from *Problem 4*) if the thermometer’s specification was changed to go from -50 to 100 Celsius? If the scale was changed from Celsius to Fahrenheit and the endpoints (-50 and 50) were changed?"
   ]
  },
  {
   "cell_type": "code",
   "execution_count": null,
   "metadata": {},
   "outputs": [],
   "source": [
    "# This cell can be run \n",
    "# your solution goes here"
   ]
  },
  {
   "cell_type": "markdown",
   "metadata": {
    "editable": false
   },
   "source": [
    "### Problem 17\n",
    "Design a complete data definition to represent a species of animal."
   ]
  },
  {
   "cell_type": "code",
   "execution_count": null,
   "metadata": {},
   "outputs": [],
   "source": [
    "# This cell can be run \n",
    "# your solution goes here"
   ]
  },
  {
   "cell_type": "markdown",
   "metadata": {
    "editable": false
   },
   "source": [
    "### Problem 18\n",
    "Design a data definition to represent a chess piece’s position on the board. For this design, a chess piece can be on one of the 64 squares of the board (numbered 1 through 64), or the opponent can already have taken it."
   ]
  },
  {
   "cell_type": "code",
   "execution_count": null,
   "metadata": {},
   "outputs": [],
   "source": [
    "# This cell can be run \n",
    "# your solution goes here"
   ]
  },
  {
   "cell_type": "markdown",
   "metadata": {
    "editable": false
   },
   "source": [
    "### Problem 19\n",
    "The best answer to Problem 10a is iii. Why is the data definition that makes use of `Optional` a better choice for this design problem than representing the information as an interval `int[1, 501]` with an interpretation saying “the rank of a runner in a 500-person race (1st through 500th) or, if the value is 501, the runner did not finish”?"
   ]
  },
  {
   "cell_type": "markdown",
   "metadata": {},
   "source": [
    "*your solution goes here*"
   ]
  },
  {
   "cell_type": "code",
   "execution_count": null,
   "metadata": {
    "editable": false
   },
   "outputs": [],
   "source": [
    "# NOTE: You should not be able to edit this cell. Just run it to start the process of submiting your code.\n",
    "from cs103 import submit\n",
    "\n",
    "COURSE = 123409\n",
    "ASSIGNMENT = 1615214\n",
    "\n",
    "submit(COURSE, ASSIGNMENT)\n",
    "\n",
    "# If something has gone wrong and you still are not able to submit by running the code above, SUBMIT ANYWAY \n",
    "# by downloading your files and uploading them to Canvas. You can learn how on the page \n",
    "# \"How to submit your Jupyter notebook\" on our Canvas site."
   ]
  }
 ],
 "metadata": {
  "celltoolbar": "Edit Metadata",
  "kernelspec": {
   "display_name": "Python 3",
   "language": "python",
   "name": "python3"
  },
  "language_info": {
   "codemirror_mode": {
    "name": "ipython",
    "version": 3
   },
   "file_extension": ".py",
   "mimetype": "text/x-python",
   "name": "python",
   "nbconvert_exporter": "python",
   "pygments_lexer": "ipython3",
   "version": "3.8.8"
  }
 },
 "nbformat": 4,
 "nbformat_minor": 4
}
