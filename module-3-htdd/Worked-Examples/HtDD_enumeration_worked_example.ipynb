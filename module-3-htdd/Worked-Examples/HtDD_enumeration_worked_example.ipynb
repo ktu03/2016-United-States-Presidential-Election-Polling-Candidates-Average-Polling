{
 "cells": [
  {
   "cell_type": "code",
   "execution_count": 1,
   "metadata": {},
   "outputs": [],
   "source": [
    "from cs103 import *"
   ]
  },
  {
   "cell_type": "markdown",
   "metadata": {},
   "source": [
    "## Problem:\n",
    "\n",
    "Design a data definition to represent the species of animals that a partiular veterinary office will see. This office will take dogs, cats, rabbits, and birds as patients."
   ]
  },
  {
   "cell_type": "markdown",
   "metadata": {},
   "source": [
    "### Identify the inherent structure of the information\n",
    "\n",
    "The first thing I need to think about is the structure of the information that I need to represent as data in my program. Here, I'm asked to represent a kind of animal. In this case, all of the kinds of animals that I'm asked to represent are listed (dog, cat, rabbit, bird). Since the list contains a fixed number of distinct items (four, to be exact), I know that I should use an enumeration.\n"
   ]
  },
  {
   "cell_type": "markdown",
   "metadata": {},
   "source": [
    "### Step 1: A data type definition with type comments where Python's types are not specific enough\n",
    "\n",
    "The next thing I need to do is choose a type name for the new type that I will create. I want it to be meaningful so that someone who is reading my program can easily understand what this type represents. In this case, I'll choose `AnimalSpecies`. It's specific enough that someone reading my program could infer what information it is representing.\n",
    "\n",
    "Since each of the species names are reasonably short, I'll use the full species names in my enumeration. If I was enumerating species with long names (e.g. elephant, crococile, alligator, mountain lion), I would likely choose to abbreviate them in the data type definition."
   ]
  },
  {
   "cell_type": "code",
   "execution_count": 2,
   "metadata": {},
   "outputs": [],
   "source": [
    "from enum import Enum\n",
    "\n",
    "AnimalSpecies = Enum('AnimalSpecies', ['dog', 'cat', 'rabbit', 'bird'])"
   ]
  },
  {
   "cell_type": "markdown",
   "metadata": {},
   "source": [
    "### Step 2: An interpretation that describes the correspondence between information and data\n",
    "\n",
    "Now I need to write an interpretation that describes how the data in the program should be interpreted as information. This is important because people who read the program need to know what information each piece of data represents. \n",
    "\n",
    "For this example, the type name already does a good job of indicating what information an example of `AnimalSpecies` represents, but it's still important to be explicit in our interpretation. In this case, we're using the full species name in the enumeration so it's obvious that `Animal.dog` represent dog, `Animal.cat` represents cat, etc. If I had chosen to abbreviate these species names I'd need to be clear here about which abbreviation represents each species."
   ]
  },
  {
   "cell_type": "code",
   "execution_count": 3,
   "metadata": {},
   "outputs": [],
   "source": [
    "from enum import Enum\n",
    "\n",
    "AnimalSpecies = Enum('AnimalSpecies', ['dog', 'cat', 'rabbit', 'bird'])\n",
    "# interp. a species of animal (either dog, cat, rabbit, or bird)"
   ]
  },
  {
   "cell_type": "markdown",
   "metadata": {},
   "source": [
    "### Step 3: One or more examples of the data\n",
    "\n",
    "For enumerations, I just need to make a comment that says examples are redundant for enumerations. This is because all of the examples are already given in the data type definition so repeating them here would be redundant."
   ]
  },
  {
   "cell_type": "code",
   "execution_count": 4,
   "metadata": {},
   "outputs": [],
   "source": [
    "from enum import Enum\n",
    "\n",
    "AnimalSpecies = Enum('Animal', ['dog', 'cat', 'rabbit', 'bird'])\n",
    "# interp. a species of animal (either dog, cat, rabbit, or bird)\n",
    "# examples are redundant for enumerations"
   ]
  },
  {
   "cell_type": "markdown",
   "metadata": {},
   "source": [
    "### Step 4: A template for a one-argument function operating on data of this type\n",
    "\n",
    "Since I know I will be working on a template, the first thing I'll do is open the Data Driven Templates page. I have to figure out which rule(s) I need to apply. I know that `AnimalSpecies` is an enumeration and when I look at the table I see that an enumeration is an example of the One Of rule. So, I need to apply the One Of rule.\n",
    "\n",
    "Now I can start writing the template. The template name follows a formula; it's `fn_for_type_name`, so in this case I know that the name needs to be `fn_for_animal_species`. I'm writing a template function that takes a single argument of type `AnimalSpecies`, so I know I need exactly one parameter that is of the type `AnimalSpecies`. Since this is a template function, I don't know what the return type will be so I'll use `...` for the return type.\n",
    "\n",
    "```python\n",
    "@typecheck\n",
    "def fn_for_animal_species(species: AnimalSpecies) -> ...:\n",
    "```\n",
    "\n",
    "Now I need to fill in the template function's body. This is where I go back to the table from the Data Driven templates page and look at the One Of row. In the second column, I see that the body of this function needs an `if`/`elif` with one condition for each subclass of the One Of. For this enumeration, this means that I need one condition for each species of animal. \n",
    "\n",
    "To determine the answer for each condition, I need to think about the type of each subclass. For an enumeration, each subclass is an Atomic Distinct, so I look at the Atomic distinct row in the table and see that the answer should be `return ...`.\n",
    "\n",
    "```python\n",
    "@typecheck\n",
    "def fn_for_animal_species(species: AnimalSpecies) -> ...:\n",
    "    if (species == AnimalSpecies.dog):\n",
    "        return ...\n",
    "    elif (species == AnimalSpecies.cat):\n",
    "        return ...\n",
    "    elif (species == AnimalSpecies.rabbit):\n",
    "        return ...\n",
    "    elif (species == AnimalSpecies.bird):\n",
    "        return ...     \n",
    "```\n",
    "\n",
    "I also need to write down the template rules that I followed. In this case, I followed the One Of rule and the Atomic Distinct rule (4 times)."
   ]
  },
  {
   "cell_type": "code",
   "execution_count": 5,
   "metadata": {},
   "outputs": [],
   "source": [
    "# Final solution\n",
    "\n",
    "from enum import Enum\n",
    "\n",
    "AnimalSpecies = Enum('AnimalSpecies', ['dog', 'cat', 'rabbit', 'bird'])\n",
    "# interp. a species of animal (either dog, cat, rabbit, or bird)\n",
    "# examples are redundant for enumerations\n",
    "\n",
    "@typecheck\n",
    "def fn_for_animal_species(species: AnimalSpecies) -> ...: # template based on the One Of rule and the Atomic\n",
    "    if (species == AnimalSpecies.dog):                           # Distinct rule (4 times)\n",
    "        return ...\n",
    "    elif (species == AnimalSpecies.cat):\n",
    "        return ...\n",
    "    elif (species == AnimalSpecies.rabbit):\n",
    "        return ...\n",
    "    elif (species == AnimalSpecies.bird):\n",
    "        return ..."
   ]
  }
 ],
 "metadata": {
  "kernelspec": {
   "display_name": "Python 3",
   "language": "python",
   "name": "python3"
  },
  "language_info": {
   "codemirror_mode": {
    "name": "ipython",
    "version": 3
   },
   "file_extension": ".py",
   "mimetype": "text/x-python",
   "name": "python",
   "nbconvert_exporter": "python",
   "pygments_lexer": "ipython3",
   "version": "3.6.7"
  }
 },
 "nbformat": 4,
 "nbformat_minor": 2
}
