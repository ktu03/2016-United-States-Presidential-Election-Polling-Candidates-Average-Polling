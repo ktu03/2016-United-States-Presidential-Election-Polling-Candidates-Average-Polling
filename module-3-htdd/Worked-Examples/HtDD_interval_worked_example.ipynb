{
 "cells": [
  {
   "cell_type": "code",
   "execution_count": 1,
   "metadata": {},
   "outputs": [],
   "source": [
    "from cs103 import *"
   ]
  },
  {
   "cell_type": "markdown",
   "metadata": {},
   "source": [
    "## Problem:\n",
    "\n",
    "Design a data definition to represent someone's salary."
   ]
  },
  {
   "cell_type": "markdown",
   "metadata": {},
   "source": [
    "### Identify the inherent structure of the information\n",
    "\n",
    "The first thing I need to think about is the structure of the information that I need to represent as data in my program. Here, I'm asked to represent someone's salary. The problem statement doesn't specify whether it's a weekly salary, monthly salary, annual salary, or salary for some other time period. I need to decide which of these makes the most sense. Since most people mean annual salary when they discuss salaries, I will work on representing someone's annual salary as information in my program.\n",
    "\n",
    "Now, I need to think more specifically about the information that I will want to represent. What range of values may I need to represent? Many people don't work, so I may need to represent a salary of \\\\$0 per year. I won't ever need to represent a negative salary because no one could possibly have a negative salary. I don't know what the highest paid person in the world makes, so it's not possible for me to determine a maximum value. Most people probably have salaries that are in whole dollars (e.g. \\\\$50,000 per year not \\\\$50,000.24 per year). However, some people may have salaries that include a non-zero number of cents. I need to make a decision here; do I want to be able to represent salaries that have some number of cents or is it good enough to round to the closest dollar? This may depend on the way in which the data definition will be used. If I was creating a data definition that would actually be used in a company's payroll system, I would need to come up with a precise way of storing the number of dollars and cents in someone's annual salary. Often salary increases are given as a percentage, so even if someone's starting salary was in whole dollars (with no cents), they may end up with a non-integer salary after some number of salary increases. Since this example will not be used in an actual payroll program, I think it's sufficient to think of someone's salary in whole dollars. That means that I'll have to round to the nearest integer any time I'm updating a salary in a program that uses this data definition. \n",
    "\n",
    "All of that thinking about what information I need to represent leads me to the kind of data definition that I will need to create. I've now decided that the information I want to represent is whole dollars with a minimum of zero and no maximum. I can represent that as data in my program with an interval of integers that has a minimum of zero and no maximum."
   ]
  },
  {
   "cell_type": "markdown",
   "metadata": {},
   "source": [
    "### Step 1: A data type definition with type comments where Python's types are not specific enough\n",
    "\n",
    "The first thing I need to do is choose a type name for the new type that I will create. I want it to be meaningful so that someone who is reading my program can easily understand what this type represents. I could choose salary, but that leaves some ambiguity about whether it's a monthly or annual salary (or some other time period). I think that AnnualSalary is a good name. It's reasonably concise while also being clear and descriptive. \n",
    "\n",
    "I need to show that an AnnualSalary is an integer that is greater than zero, so I'll use an interval."
   ]
  },
  {
   "cell_type": "code",
   "execution_count": 2,
   "metadata": {},
   "outputs": [],
   "source": [
    "AnnualSalary = int # in range [0, ...)"
   ]
  },
  {
   "cell_type": "markdown",
   "metadata": {},
   "source": [
    "### Step 2: An interpretation that describes the correspondence between information and data\n",
    "\n",
    "Now I need to write an interpretation that describes how the data in the program should be interpreted as information. This is important because people who read the program need to know what information each piece of data represents. \n",
    "\n",
    "I can start with \"a person's annual salary\", but that isn't sufficient because it doesn't indicate the units of the information that is represented. Is this salary in Canadian dollars? Euros? Yen? The problem statement didn't specify, so I will choose Canadian dollars since we're in Canada."
   ]
  },
  {
   "cell_type": "code",
   "execution_count": 3,
   "metadata": {},
   "outputs": [],
   "source": [
    "AnnualSalary = int # in range [0, ...]\n",
    "# interp. a person's annual salary in Canadian dollars"
   ]
  },
  {
   "cell_type": "markdown",
   "metadata": {},
   "source": [
    "### Step 3: One or more examples of the data\n",
    "\n",
    "I know that I need to provide sufficient examples to illustrate how the type represents information. In this case, since it's an interval with a minimum of zero and no maximum, I will choose to use two examples. One will illustrate the minimum (0) and the other is a typical value (any reasonable example that is non-zero)."
   ]
  },
  {
   "cell_type": "code",
   "execution_count": 4,
   "metadata": {},
   "outputs": [],
   "source": [
    "AnnualSalary = int # in range [0, ...]\n",
    "# interp. a person's annual salary in Canadian dollars\n",
    "\n",
    "AS1 = 34500\n",
    "AS2 = 0"
   ]
  },
  {
   "cell_type": "markdown",
   "metadata": {},
   "source": [
    "### Step 4: A template for a one-argument function operating on data of this type\n",
    "\n",
    "Since I know I will be working on a template, the first thing I'll do is open the Data Driven Templates page. I have to figure out which rule(s) I need to apply. I know that `AnnualSalary` is an interval and when I look at the table I see that an interval is an example of Atomic Non-Distinct. So, I need to apply the Atomic Non-Distinct rule.\n",
    "\n",
    "Now I can start writing the template. The template name follows a formula; it's `fn_for_type_name`, so in this case I know that the name needs to be `fn_for_annual_salary`. I'm writing a template function that takes a single argument of type `AnnualSalary`, so I know I need exactly one parameter that is of the type `AnnualSalary`. Since this is a template function, I don't know what the return type will be so I'll use `...` for the return type.\n",
    "\n",
    "```python\n",
    "@typecheck\n",
    "def fn_for_annual_salary(sal: AnnualSalary) -> ...:\n",
    "```\n",
    "\n",
    "Now I need to fill in the template function's body. This is where I go back to the table from the Data Driven templates page and look at the Atomic Non-Distinct row. In the second column, I see that the body of this function needs to be `return ...(parameter_name)`. In this case, the parameter name is `sal`, so I will replace `parameter_name` with `sal`.\n",
    "\n",
    "```python\n",
    "@typecheck\n",
    "def fn_for_annual_salary(sal: AnnualSalary) -> ...:\n",
    "    return ...(sal)\n",
    "```\n",
    "\n",
    "Finally, I need to write the template rule(s) that I followed when I created this template. In this example, I followed the Atomic Non-Distinct rule."
   ]
  },
  {
   "cell_type": "code",
   "execution_count": 5,
   "metadata": {},
   "outputs": [],
   "source": [
    "# Final solution\n",
    "\n",
    "AnnualSalary = int # in range [0, ...]\n",
    "# interp. a person's annual salary in Canadian dollars\n",
    "\n",
    "AS1 = 34500\n",
    "AS2 = 0\n",
    "\n",
    "@typecheck\n",
    "def fn_for_annual_salary(sal: AnnualSalary) -> ...:  # template based on Atomic Non-Distinct\n",
    "    return ...(sal)"
   ]
  }
 ],
 "metadata": {
  "kernelspec": {
   "display_name": "Python 3",
   "language": "python",
   "name": "python3"
  },
  "language_info": {
   "codemirror_mode": {
    "name": "ipython",
    "version": 3
   },
   "file_extension": ".py",
   "mimetype": "text/x-python",
   "name": "python",
   "nbconvert_exporter": "python",
   "pygments_lexer": "ipython3",
   "version": "3.6.7"
  }
 },
 "nbformat": 4,
 "nbformat_minor": 2
}
