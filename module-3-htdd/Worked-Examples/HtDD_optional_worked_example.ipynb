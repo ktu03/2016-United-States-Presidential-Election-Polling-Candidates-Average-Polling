{
 "cells": [
  {
   "cell_type": "markdown",
   "metadata": {},
   "source": [
    "## Problem:\n",
    "\n",
    "Design a data definition to represent a response to a particular question on a survey. Survey respondents are not required to answer this question, so they may not may not have provided a textual answer."
   ]
  },
  {
   "cell_type": "markdown",
   "metadata": {},
   "source": [
    "### Identify the inherent structure of the information\n",
    "\n",
    "The first thing I need to think about is the structure of the information that I need to represent as data in my program. Here, I'm asked to represent a textual survey response, but respondents are not required to provide an answer to the question so some responses may be missing. Since there is a special case in which there is no information, I know that I want to use an optional. An optional allows me to represent the normal case (in this example, a textual response to the problem) and the special case (as `None`). For this example, we can represent the textual response with a str. "
   ]
  },
  {
   "cell_type": "markdown",
   "metadata": {},
   "source": [
    "### Step 1: A data type definition with type comments where Python's types are not specific enough\n",
    "\n",
    "The first thing I need to do is choose a type name for the new type that I will create. I want it to be meaningful so that someone who is reading my program can easily understand what this type represents. I'll use `Response`, although, as always, there are also other good choices for the type name (e.g. `SurveyResponse`).\n",
    "\n",
    "I'm now ready to write the data type definition. I know I need an `Optional[str]` and that I want to use the name `Response`."
   ]
  },
  {
   "cell_type": "code",
   "execution_count": 1,
   "metadata": {},
   "outputs": [],
   "source": [
    "from cs103 import *\n",
    "from typing import Optional\n",
    "\n",
    "Response = Optional[str]"
   ]
  },
  {
   "cell_type": "markdown",
   "metadata": {},
   "source": [
    "### Step 2: An interpretation that describes the correspondence between information and data\n",
    "\n",
    "Now I need to write an interpretation that describes how the data in the program should be interpreted as information. This is important because people who read the program need to know what information each piece of data represents. \n",
    "\n",
    "I can start with \"a person's response to a survey question\", but that doesn't describe how to interpret the special value `None` as information. I need to make sure that the interpretation *fully* describes how to interpret the data as information."
   ]
  },
  {
   "cell_type": "code",
   "execution_count": 2,
   "metadata": {},
   "outputs": [],
   "source": [
    "from cs103 import *\n",
    "from typing import Optional\n",
    "\n",
    "Response = Optional[str]\n",
    "# interp. a person's response to a survey question. None means that they did not answer the question."
   ]
  },
  {
   "cell_type": "markdown",
   "metadata": {},
   "source": [
    "### Step 3: One or more examples of the data\n",
    "\n",
    "I know that I need to provide sufficient examples to illustrate how the type represents information. In this case, since it's an optional, I know I need to use `None` as an example and I need at least one example of the normal case (a `str`)."
   ]
  },
  {
   "cell_type": "code",
   "execution_count": 3,
   "metadata": {},
   "outputs": [],
   "source": [
    "from cs103 import *\n",
    "from typing import Optional\n",
    "\n",
    "Response = Optional[str]\n",
    "# interp. a person's response to a survey question. None means that they did not answer the question.\n",
    "\n",
    "R1 = None\n",
    "R2 = \"This restaurant is fantastic\"\n",
    "R3 = \"Terrible service\""
   ]
  },
  {
   "cell_type": "markdown",
   "metadata": {},
   "source": [
    "### Step 4: A template for a one-argument function operating on data of this type\n",
    "\n",
    "Since I know I will be working on a template, the first thing I'll do is open the Data Driven Templates page. I have to figure out which rule(s) I need to apply. I know that `Response` is an Optional and when I look at the table I see that an Optional is an example of the One Of rule. So, I need to apply the One Of rule.\n",
    "\n",
    "Now I can start writing the template. The template name follows a formula; it's `fn_for_type_name`, so in this case I know that the name needs to be `fn_for_response`. I'm writing a template function that takes a single argument of type `Response`, so I know I need exactly one parameter that is of the type `Response`. Since this is a template function, I don't know what the return type will be so I'll use `...` for the return type.\n",
    "\n",
    "```python\n",
    "@typecheck\n",
    "def fn_for_response(resp: Response) -> ...:\n",
    "```\n",
    "\n",
    "Now I need to fill in the template function's body. This is where I go back to the table from the Data Driven templates page and look at the One Of row. In the second column, I see that the body of this function needs an `if`/`elif` with one condition for each subclass of the One Of. For this Optional, this means that I need one condition for the `None` case and one for the normal case (`str`). \n",
    "\n",
    "```python\n",
    "@typecheck\n",
    "def fn_for_response(resp: Response) -> ...:\n",
    "    if resp is None:\n",
    "        ...\n",
    "    else:\n",
    "        ...\n",
    "```\n",
    "\n",
    "Now I need to decide what the answer for each condition should be. Again, I will look at the table on the Data Driven Templates page. `None` is an example of Atomic Distinct, so I will look to the second column in this row and see that the answer needs to be `return ...`. `str` is an example of Atomic Non-Distinct, so I will look to the second column in the row and see that the answer needs to be `return ...(resp)`.\n",
    "\n",
    "```python\n",
    "@typecheck\n",
    "def fn_for_response(resp: Response) -> ...:\n",
    "    if resp is None:\n",
    "        return ...\n",
    "    else:\n",
    "        return ...(resp)\n",
    "```\n",
    "\n",
    "Finally, I need to write the rules that I followed when creating this template. Looking back, I can see that I followed the One Of rule, the Atomic distinct rule (the `None` case), and the Atomic Non-Distinct rule (the normal case, `str`)."
   ]
  },
  {
   "cell_type": "code",
   "execution_count": 4,
   "metadata": {},
   "outputs": [],
   "source": [
    "# Final solution\n",
    "\n",
    "from cs103 import *\n",
    "from typing import Optional\n",
    "\n",
    "Response = Optional[str]\n",
    "# interp. a person's response to a survey question. None means that they did not answer the question.\n",
    "\n",
    "R1 = None\n",
    "R2 = \"This restaurant is fantastic\"\n",
    "R3 = \"Terrible service\"\n",
    "\n",
    "@typecheck\n",
    "def fn_for_response(resp: Response) -> ...:  # template based on One Of, Atomic Distinct, and Atomic Non-Distinct\n",
    "    if resp is None:\n",
    "        return ...\n",
    "    else:\n",
    "        return ...(resp)"
   ]
  }
 ],
 "metadata": {
  "kernelspec": {
   "display_name": "Python 3",
   "language": "python",
   "name": "python3"
  },
  "language_info": {
   "codemirror_mode": {
    "name": "ipython",
    "version": 3
   },
   "file_extension": ".py",
   "mimetype": "text/x-python",
   "name": "python",
   "nbconvert_exporter": "python",
   "pygments_lexer": "ipython3",
   "version": "3.6.7"
  }
 },
 "nbformat": 4,
 "nbformat_minor": 2
}
