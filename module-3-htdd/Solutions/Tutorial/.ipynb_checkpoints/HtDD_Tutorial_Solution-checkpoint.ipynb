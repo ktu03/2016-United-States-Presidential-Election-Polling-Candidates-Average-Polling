{
 "cells": [
  {
   "cell_type": "code",
   "execution_count": 1,
   "metadata": {},
   "outputs": [],
   "source": [
    "from cs103 import *\n",
    "# add any needed imports here\n",
    "from enum import Enum"
   ]
  },
  {
   "cell_type": "markdown",
   "metadata": {},
   "source": [
    "## Tutorial Solution - HtDD"
   ]
  },
  {
   "cell_type": "markdown",
   "metadata": {},
   "source": [
    "### Problem 1a:\n",
    "\n",
    "According to [Wikipedia](https://en.wikipedia.org/wiki/List_of_COVID-19_vaccine_authorizations)<sup>*</sup>:\n",
    "> Ten vaccines have been approved for emergency or full use by at least one stringent regulatory authority recognized by the World Health Organization (WHO): Pfizer–BioNTech, Oxford–AstraZeneca, Sinopharm BIBP, Moderna, Janssen, CoronaVac, Covaxin, Novavax, Convidecia, and Sanofi–GSK.\n",
    "\n",
    "Design a data definition to represent one of the available COVID-19 vaccines.  Be sure to follow all steps of the HtDD recipe.\n",
    "\n",
    "<sup>*</sup> Accessed 2023-01-11"
   ]
  },
  {
   "cell_type": "code",
   "execution_count": 2,
   "metadata": {},
   "outputs": [],
   "source": [
    "# your solution goes here\n",
    "Vaccine = Enum('Vaccine', ['PfiBio', 'OxAstZen', 'SinBIBP', 'Mod', 'Jan', 'CorVac', 'Cov', 'Nov', 'Con', 'SanGSK'])\n",
    "# interp. one of the available COVID-19 vaccines, where \n",
    "# PfiBio    stands for Pfizer–BioNTech, \n",
    "# OxAstZen  stands for Oxford–AstraZeneca, \n",
    "# SinBIBP   stands for Sinopharm BIBP, \n",
    "# Mod       stands for Moderna, \n",
    "# Jan       stands for Janssen, \n",
    "# CorVac    stands for CoronaVac, \n",
    "# Cov       stands for Covaxin, \n",
    "# Nov       stands for Novavax, \n",
    "# Con       stands for Convidecia, and \n",
    "# SanGSK    stands for Sanofi–GSK.\n",
    "\n",
    "# examples are redundant for enumerations\n",
    "\n",
    "# template based on enumeration (10 cases) and atomic distinct (10 times)\n",
    "@typecheck\n",
    "def fn_for_vaccine(v: Vaccine) -> ...:\n",
    "    if v == Vaccine.PfiBio:\n",
    "        return ...\n",
    "    elif v == Vaccine.OxAstZen:\n",
    "        return ...\n",
    "    elif v == Vaccine.SinBIBP:\n",
    "        return ...\n",
    "    elif v == Vaccine.Mod:\n",
    "        return ...\n",
    "    elif v == Vaccine.Jan:\n",
    "        return ...\n",
    "    elif v == Vaccine.CorVac:\n",
    "        return ...\n",
    "    elif v == Vaccine.Cov:\n",
    "        return ...\n",
    "    elif v == Vaccine.Nov:\n",
    "        return ...\n",
    "    elif v == Vaccine.Con:\n",
    "        return ...\n",
    "    elif v == Vaccine.SanGSK:\n",
    "        return ..."
   ]
  },
  {
   "cell_type": "markdown",
   "metadata": {},
   "source": [
    "### Problem 1b:\n",
    "\n",
    "According to [Wikipedia](https://en.wikipedia.org/wiki/List_of_COVID-19_vaccine_authorizations)<sup>*</sup> the following five vaccines have been approved for full use by the Government of Canada: Pfizer–BioNTech, Oxford–AstraZeneca, Moderna, Janssen, and Novavax.  The other five have been approved only for limited use or not approved.\n",
    "\n",
    "Design a function that takes a vaccine (from Problem 1a) and returns true if the vaccine has been approved for full use by the Government of Canada. \n",
    "\n",
    "Be sure to follow all steps of the HtDF recipe.\n",
    "\n",
    "<sup>*</sup> Accessed 2023-01-11"
   ]
  },
  {
   "cell_type": "code",
   "execution_count": 3,
   "metadata": {},
   "outputs": [
    {
     "name": "stdout",
     "output_type": "stream",
     "text": [
      "\u001b[92m5 of 5 tests passed\u001b[0m\n"
     ]
    }
   ],
   "source": [
    "# your solution goes here\n",
    "@typecheck\n",
    "def is_fully_accepted_canada(v: Vaccine) -> bool:\n",
    "    \"\"\"\n",
    "    returns True true if the vaccine is one of those accepted by the Government of \n",
    "    Canada for the purpose of travel to and within Canada, and False otherwise\n",
    "    \"\"\"\n",
    "    #return False #stub\n",
    "    # template from Vaccine\n",
    "    if v == Vaccine.PfiBio:\n",
    "        return True\n",
    "    elif v == Vaccine.OxAstZen:\n",
    "        return True\n",
    "    elif v == Vaccine.SinBIBP:\n",
    "        return False\n",
    "    elif v == Vaccine.Mod:\n",
    "        return True\n",
    "    elif v == Vaccine.Jan:\n",
    "        return True\n",
    "    elif v == Vaccine.CorVac:\n",
    "        return False\n",
    "    elif v == Vaccine.Cov:\n",
    "        return False\n",
    "    elif v == Vaccine.Nov:\n",
    "        return True\n",
    "    elif v == Vaccine.Con:\n",
    "        return False\n",
    "    elif v == Vaccine.SanGSK:\n",
    "        return False\n",
    "start_testing()\n",
    "\n",
    "expect(is_fully_accepted_canada(Vaccine.PfiBio), True)\n",
    "expect(is_fully_accepted_canada(Vaccine.Mod), True)\n",
    "expect(is_fully_accepted_canada(Vaccine.OxAstZen), True)\n",
    "expect(is_fully_accepted_canada(Vaccine.Con), False)\n",
    "expect(is_fully_accepted_canada(Vaccine.SanGSK), False)\n",
    "\n",
    "summary()"
   ]
  },
  {
   "cell_type": "markdown",
   "metadata": {},
   "source": [
    "### Problem 2a:\n",
    "\n",
    "Design a data definition to represent the number of months since a person last received a vaccine dose. Specifically, a person may have received their latest dose zero or more months ago. It is also possible for their vaccination status to be unknown. (That is, the number of months can be a non-negative integer value or a special value indicating that it is unknown when they received their last dose.)\n",
    "\n",
    "Be sure to follow all steps of the HtDD recipe."
   ]
  },
  {
   "cell_type": "code",
   "execution_count": 4,
   "metadata": {},
   "outputs": [],
   "source": [
    "# your solution goes here\n",
    "from typing import Optional\n",
    "\n",
    "MonthsSinceLastDose = Optional[int]  # in range[0, ...)\n",
    "# interp. the number of months since a person last receieved a vaccine dose,\n",
    "# zero or more.\n",
    "# A value of None indicates that the person's vaccination status is unknown.\n",
    "MSLD_UNKNOWN = None\n",
    "\n",
    "# template based on optional\n",
    "@typecheck\n",
    "def fn_for_months_since_last_dose(msld: MonthsSinceLastDose) -> ...:\n",
    "    if msld is None:\n",
    "        return ...\n",
    "    else:\n",
    "        return ...(msld)"
   ]
  },
  {
   "cell_type": "markdown",
   "metadata": {},
   "source": [
    "### Problem 2b:\n",
    "Design a function that takes the number of months since the last dose (from Problem 2a) and returns True if the person is due for a booster shot, and False otherwise. For the purpose of this exercise, a person is due for a booster shot if it has been 6 or more months since their last dose, or if their vaccination status is unknown.\n",
    "\n",
    "Be sure to follow all steps of the HtDF recipe."
   ]
  },
  {
   "cell_type": "code",
   "execution_count": 5,
   "metadata": {},
   "outputs": [
    {
     "name": "stdout",
     "output_type": "stream",
     "text": [
      "\u001b[92m5 of 5 tests passed\u001b[0m\n"
     ]
    }
   ],
   "source": [
    "# your solution goes here\n",
    "@typecheck\n",
    "def booster_needed(msld: MonthsSinceLastDose) -> bool:\n",
    "    \"\"\"\n",
    "    returns True if 6 or more months have elapsed since the last dose, \n",
    "    or if the vaccination status is unknown. Otherwise, returns False.\n",
    "    \"\"\"\n",
    "    if msld is None:\n",
    "        return True\n",
    "    else:\n",
    "        return msld >= 6\n",
    "    \n",
    "start_testing()\n",
    "\n",
    "expect(booster_needed(None), True)\n",
    "expect(booster_needed(0), False)\n",
    "expect(booster_needed(5), False)\n",
    "expect(booster_needed(6), True)\n",
    "expect(booster_needed(999), True)\n",
    "\n",
    "summary()\n",
    "\n"
   ]
  },
  {
   "cell_type": "markdown",
   "metadata": {},
   "source": [
    "## Submit your solution"
   ]
  }
 ],
 "metadata": {
  "kernelspec": {
   "display_name": "Python 3 (ipykernel)",
   "language": "python",
   "name": "python3"
  },
  "language_info": {
   "codemirror_mode": {
    "name": "ipython",
    "version": 3
   },
   "file_extension": ".py",
   "mimetype": "text/x-python",
   "name": "python",
   "nbconvert_exporter": "python",
   "pygments_lexer": "ipython3",
   "version": "3.9.13"
  }
 },
 "nbformat": 4,
 "nbformat_minor": 2
}
