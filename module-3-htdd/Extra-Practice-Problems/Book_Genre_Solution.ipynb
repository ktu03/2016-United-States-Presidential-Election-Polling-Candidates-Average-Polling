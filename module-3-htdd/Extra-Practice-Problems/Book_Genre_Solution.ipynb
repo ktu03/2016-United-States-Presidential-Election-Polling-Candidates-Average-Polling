{
 "cells": [
  {
   "cell_type": "code",
   "execution_count": null,
   "metadata": {
    "collapsed": true
   },
   "outputs": [],
   "source": [
    "from cs103 import *"
   ]
  },
  {
   "cell_type": "markdown",
   "metadata": {},
   "source": [
    "# Problem 1:\n",
    "\n",
    "Design a data definition to represent the following common genres of fiction\n",
    "books: classic, drama, fantasy, historical, mystery, and science fiction.\n",
    "\n",
    "Be sure to follow all steps of the HtDD recipe."
   ]
  },
  {
   "cell_type": "code",
   "execution_count": null,
   "metadata": {},
   "outputs": [],
   "source": [
    "from enum import Enum\n",
    "\n",
    "BookGenre = Enum('BookGenre', ['classic', 'drama', 'fantasy','historical', \n",
    "                               'mystery', 'science'])\n",
    "# interp. a fiction book genre is either classic, drama, fantasy, historical, \n",
    "# mystery, or science fiction.\n",
    "# examples are redundant for enumerations\n",
    "\n",
    "@typecheck\n",
    "def fn_for_book_genre(bg: BookGenre) -> ...:   # template rules used, One-Of (6 cases),\n",
    "    if bg == BookGenre.classic:              # and atomic distinct (6 times)\n",
    "        return ...\n",
    "    elif bg == BookGenre.drama:\n",
    "        return ...\n",
    "    elif bg == BookGenre.fantasy:\n",
    "        return ...\n",
    "    elif bg == BookGenre.historical:\n",
    "        return ...\n",
    "    elif bg == BookGenre.mystery:\n",
    "        return ...\n",
    "    elif bg == BookGenre.science:\n",
    "        return ..."
   ]
  },
  {
   "cell_type": "markdown",
   "metadata": {},
   "source": [
    "# Problem 2:\n",
    "    \n",
    "Using your data definition from Problem 1, design a function that consumes \n",
    "a book genre and produces True if that genre is your favourite. Your function\n",
    "should produce False for all other book genres.\n",
    "\n",
    "Note, our solution indicates that Historical is our favourite genre, but you could have chosen any of them.\n",
    "\n",
    "Be sure to follow all steps of the HtDF recipe."
   ]
  },
  {
   "cell_type": "code",
   "execution_count": null,
   "metadata": {},
   "outputs": [],
   "source": [
    "@typecheck\n",
    "def fav_genre(bg: BookGenre) -> bool:\n",
    "    \"\"\"\n",
    "    return True if given book genre is historical, otherwise False\n",
    "    \"\"\"\n",
    "    # return False #stub\n",
    "    # template from BookGenre\n",
    "    if (bg == BookGenre.classic):\n",
    "        return False\n",
    "    elif (bg == BookGenre.drama):\n",
    "        return False\n",
    "    elif (bg == BookGenre.fantasy):\n",
    "        return False\n",
    "    elif (bg == BookGenre.historical):\n",
    "        return True\n",
    "    elif (bg == BookGenre.mystery):\n",
    "        return False\n",
    "    elif (bg == BookGenre.science):\n",
    "        return False\n",
    "\n",
    "# Start testing\n",
    "start_testing()\n",
    "\n",
    "expect(fav_genre(BookGenre.classic), False)\n",
    "expect(fav_genre(BookGenre.drama), False)\n",
    "expect(fav_genre(BookGenre.fantasy), False)\n",
    "expect(fav_genre(BookGenre.historical), True)\n",
    "expect(fav_genre(BookGenre.mystery), False)\n",
    "expect(fav_genre(BookGenre.science), False)\n",
    "\n",
    "# Show testing summary\n",
    "summary()"
   ]
  }
 ],
 "metadata": {
  "kernelspec": {
   "display_name": "Python 3 (ipykernel)",
   "language": "python",
   "name": "python3"
  },
  "language_info": {
   "codemirror_mode": {
    "name": "ipython",
    "version": 3
   },
   "file_extension": ".py",
   "mimetype": "text/x-python",
   "name": "python",
   "nbconvert_exporter": "python",
   "pygments_lexer": "ipython3",
   "version": "3.9.12"
  }
 },
 "nbformat": 4,
 "nbformat_minor": 2
}
