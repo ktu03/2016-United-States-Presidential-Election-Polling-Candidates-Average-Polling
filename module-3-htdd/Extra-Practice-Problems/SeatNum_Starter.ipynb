{
 "cells": [
  {
   "cell_type": "code",
   "execution_count": 2,
   "metadata": {},
   "outputs": [],
   "source": [
    "from cs103 import *"
   ]
  },
  {
   "cell_type": "markdown",
   "metadata": {},
   "source": [
    "Problem 1:\n",
    "\n",
    "Imagine that you are designing a program to manage ticket sales for a theatre. (Also imagine that the theatre is perfectly rectangular in shape!)\n",
    "\n",
    "Design a data definition to represent a seat number in a row, where each row has 32 seats. (Just the seat number, not the row number.) Call your newly defined type SeatNum. Be sure to follow the HtDD recipe. "
   ]
  },
  {
   "cell_type": "code",
   "execution_count": 3,
   "metadata": {},
   "outputs": [],
   "source": [
    "# your solution to problem 1 goes here\n",
    "SeatNum = int #in range[1,32]\n",
    "#interp. a seat number in a row for a theatre that can be between 1 and 32, inclusive\n",
    "SN1=1\n",
    "SN2=32\n",
    "SN3=16\n",
    "\n",
    "@typecheck\n",
    "#template based on Atomic Non-Distinct\n",
    "def fn_for_seat_num(sn: SeatNum) ->...:\n",
    "    return...(sn)"
   ]
  },
  {
   "cell_type": "markdown",
   "metadata": {},
   "source": [
    "Problem 2:\n",
    "\n",
    "Using the data definition from Problem 1, design a function that returns True if a given seat is an aisle seat."
   ]
  },
  {
   "cell_type": "code",
   "execution_count": 4,
   "metadata": {},
   "outputs": [
    {
     "name": "stdout",
     "output_type": "stream",
     "text": [
      "\u001b[92m3 of 3 tests passed\u001b[0m\n"
     ]
    }
   ],
   "source": [
    "#  your solution to problem 2 goes here\n",
    "@typecheck\n",
    "def aisle_seat(sn:SeatNum) -> bool:\n",
    "    \"\"\"\n",
    "    returns True if a given seat number (sn) is an aisle seat (1 or 32), False otherwise\n",
    "    \"\"\"\n",
    "    #return False #stub\n",
    "    #return...(sn) #template from SeatNum\n",
    "    return (sn==1) or (sn==32)\n",
    "\n",
    "start_testing()\n",
    "expect(aisle_seat(SN1), True)\n",
    "expect(aisle_seat(SN2), True)\n",
    "expect(aisle_seat(SN3), False)\n",
    "summary()"
   ]
  },
  {
   "cell_type": "code",
   "execution_count": null,
   "metadata": {},
   "outputs": [],
   "source": []
  }
 ],
 "metadata": {
  "kernelspec": {
   "display_name": "Python 3 (ipykernel)",
   "language": "python",
   "name": "python3"
  },
  "language_info": {
   "codemirror_mode": {
    "name": "ipython",
    "version": 3
   },
   "file_extension": ".py",
   "mimetype": "text/x-python",
   "name": "python",
   "nbconvert_exporter": "python",
   "pygments_lexer": "ipython3",
   "version": "3.11.4"
  }
 },
 "nbformat": 4,
 "nbformat_minor": 2
}
