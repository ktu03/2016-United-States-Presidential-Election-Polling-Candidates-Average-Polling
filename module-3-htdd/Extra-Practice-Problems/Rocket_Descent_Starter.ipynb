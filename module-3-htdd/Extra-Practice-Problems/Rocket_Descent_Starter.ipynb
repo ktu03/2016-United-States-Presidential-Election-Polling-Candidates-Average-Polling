{
 "cells": [
  {
   "cell_type": "code",
   "execution_count": 2,
   "metadata": {},
   "outputs": [],
   "source": [
    "from cs103 import *"
   ]
  },
  {
   "cell_type": "markdown",
   "metadata": {},
   "source": [
    "Problem 1: \n",
    "\n",
    "You are designing a program to track a rocket's journey as it descends 100 kilometers to Earth. The rocket can be up to 100 km away from earth, or it can have already landed.\n",
    "\n",
    "Design a data definition to represent the rocket's remaining descent. Call it RocketDescent."
   ]
  },
  {
   "cell_type": "code",
   "execution_count": 4,
   "metadata": {},
   "outputs": [],
   "source": [
    "# your solution goes here\n",
    "from typing import Optional\n",
    "RocketDescent = Optional[int] #in range (0,100]\n",
    "#interp. a rocket's distance from Earth as it descends, or None if it has already landed\n",
    "RD0 = None\n",
    "RD1 = 100\n",
    "RD2 = 50\n",
    "RD3 = 1\n",
    "@typecheck\n",
    "#template based on Optional and Atomic Non-Distinct\n",
    "def fn_for_rocket_descent(rd: RocketDescent)->...:\n",
    "    if rd==None:\n",
    "        return...\n",
    "    else:\n",
    "        return...(rd)"
   ]
  },
  {
   "cell_type": "code",
   "execution_count": null,
   "metadata": {},
   "outputs": [],
   "source": []
  }
 ],
 "metadata": {
  "kernelspec": {
   "display_name": "Python 3 (ipykernel)",
   "language": "python",
   "name": "python3"
  },
  "language_info": {
   "codemirror_mode": {
    "name": "ipython",
    "version": 3
   },
   "file_extension": ".py",
   "mimetype": "text/x-python",
   "name": "python",
   "nbconvert_exporter": "python",
   "pygments_lexer": "ipython3",
   "version": "3.11.4"
  }
 },
 "nbformat": 4,
 "nbformat_minor": 2
}
