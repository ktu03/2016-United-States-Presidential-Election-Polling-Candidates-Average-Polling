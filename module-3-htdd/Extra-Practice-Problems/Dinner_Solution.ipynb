{
 "cells": [
  {
   "cell_type": "code",
   "execution_count": null,
   "metadata": {
    "collapsed": true
   },
   "outputs": [],
   "source": [
    "from cs103 import *"
   ]
  },
  {
   "cell_type": "markdown",
   "metadata": {},
   "source": [
    "## Problem 1:\n",
    "\n",
    "Suppose you are working on an automated delivery system for an airline\n",
    "catering service. There are three dinner options for each passenger:\n",
    "chicken, pasta, or vegetarian. \n",
    "\n",
    "Design a data definition to represent a dinner order. \n",
    "\n",
    "Be sure to follow all steps of the HtDD recipe. "
   ]
  },
  {
   "cell_type": "code",
   "execution_count": null,
   "metadata": {},
   "outputs": [],
   "source": [
    "from enum import Enum\n",
    "\n",
    "DinnerOrder = Enum('DinnerOrder', ['chicken', 'pasta', 'vegetarian'])\n",
    "# interp. a dinner order that is either chicken, pasta, or vegetarian\n",
    "# examples are redundant for enumerations\n",
    "\n",
    "@typecheck\n",
    "def fn_for_dinner_order(do: DinnerOrder) -> ...:    # template based on One Of (3 cases) \n",
    "    if do == DinnerOrder.chicken:                 # and Atomic Distinct (3 times)\n",
    "        return ...\n",
    "    elif do == DinnerOrder.pasta:\n",
    "        return ...\n",
    "    elif do == DinnerOrder.vegetarian:\n",
    "        return ..."
   ]
  },
  {
   "cell_type": "markdown",
   "metadata": {},
   "source": [
    "## Problem 2:\n",
    "\n",
    "Using your data definition from Problem 1, design a function that takes in\n",
    "a dinner order and returns a message for the flight attendants saying what\n",
    "the passenger ordered.\n",
    "\n",
    "For example, if the input was chicken dinner, then it would return \"The passenger \n",
    "ordered chicken.\""
   ]
  },
  {
   "cell_type": "code",
   "execution_count": null,
   "metadata": {},
   "outputs": [],
   "source": [
    "@typecheck\n",
    "def dinner_order_message(do: DinnerOrder) -> str: \n",
    "    \"\"\"\n",
    "    return a message stating what the passenger ordered for dinner\n",
    "    \"\"\"\n",
    "    # return \"\" #stub\n",
    "    # template from DinnerOrder  \n",
    "    if do == DinnerOrder.chicken:                 \n",
    "        return \"The passenger ordered chicken.\"\n",
    "    elif do == DinnerOrder.pasta:\n",
    "        return \"The passenger ordered pasta.\"\n",
    "    elif do == DinnerOrder.vegetarian:\n",
    "        return \"The passenger ordered a vegetarian meal.\"\n",
    "        \n",
    "# Start testing\n",
    "start_testing()\n",
    "\n",
    "expect(dinner_order_message(DinnerOrder.chicken), \"The passenger ordered chicken.\")\n",
    "expect(dinner_order_message(DinnerOrder.pasta), \"The passenger ordered pasta.\")\n",
    "expect(dinner_order_message(DinnerOrder.vegetarian), \"The passenger ordered a vegetarian meal.\")\n",
    "\n",
    "# Show testing summary\n",
    "summary()"
   ]
  }
 ],
 "metadata": {
  "kernelspec": {
   "display_name": "Python 3 (ipykernel)",
   "language": "python",
   "name": "python3"
  },
  "language_info": {
   "codemirror_mode": {
    "name": "ipython",
    "version": 3
   },
   "file_extension": ".py",
   "mimetype": "text/x-python",
   "name": "python",
   "nbconvert_exporter": "python",
   "pygments_lexer": "ipython3",
   "version": "3.9.9"
  }
 },
 "nbformat": 4,
 "nbformat_minor": 2
}
