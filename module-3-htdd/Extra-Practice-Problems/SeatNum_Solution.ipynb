{
 "cells": [
  {
   "cell_type": "code",
   "execution_count": null,
   "metadata": {
    "collapsed": true
   },
   "outputs": [],
   "source": [
    "from cs103 import *"
   ]
  },
  {
   "cell_type": "markdown",
   "metadata": {},
   "source": [
    "Problem 1:\n",
    "\n",
    "Imagine that you are designing a program to manage ticket sales for a theatre. (Also imagine that the theatre is perfectly rectangular in shape!)\n",
    "\n",
    "Design a data definition to represent a seat number in a row, where each row has 32 seats. (Just the seat number, not the row number.) Call your newly defined type SeatNum. Be sure to follow the HtDD recipe. "
   ]
  },
  {
   "cell_type": "code",
   "execution_count": null,
   "metadata": {
    "collapsed": true
   },
   "outputs": [],
   "source": [
    "SeatNum = int # in range [0, 31]\n",
    "# interp. a seat in a row, the first seat being 0, the last 31\n",
    "S1 = 0\n",
    "S2 = 15\n",
    "S3 = 31\n",
    "\n",
    "@typecheck\n",
    "def fn_for_seat_num(sn: SeatNum) -> ...:   # template based on atomic non-distinct\n",
    "    return ...(sn)"
   ]
  },
  {
   "cell_type": "markdown",
   "metadata": {},
   "source": [
    "Problem 2:\n",
    "\n",
    "Using the data definition from Problem 1, design a function that returns True if a given seat is an aisle seat."
   ]
  },
  {
   "cell_type": "code",
   "execution_count": null,
   "metadata": {},
   "outputs": [],
   "source": [
    "@typecheck\n",
    "def is_aisle(sn: SeatNum) -> bool:\n",
    "    \"\"\"\n",
    "    returns True if the seat is on an aisle\n",
    "    \"\"\"\n",
    "    # return False #stub\n",
    "    # template from SeatNum\n",
    "    return sn == 0 or sn == 31\n",
    "\n",
    "start_testing()\n",
    "\n",
    "expect(is_aisle(0), True)\n",
    "expect(is_aisle(31), True)\n",
    "expect(is_aisle(12), False)\n",
    "\n",
    "# show testing summary\n",
    "summary()"
   ]
  }
 ],
 "metadata": {
  "kernelspec": {
   "display_name": "Python 3",
   "language": "python",
   "name": "python3"
  },
  "language_info": {
   "codemirror_mode": {
    "name": "ipython",
    "version": 3
   },
   "file_extension": ".py",
   "mimetype": "text/x-python",
   "name": "python",
   "nbconvert_exporter": "python",
   "pygments_lexer": "ipython3",
   "version": "3.6.4"
  }
 },
 "nbformat": 4,
 "nbformat_minor": 2
}
