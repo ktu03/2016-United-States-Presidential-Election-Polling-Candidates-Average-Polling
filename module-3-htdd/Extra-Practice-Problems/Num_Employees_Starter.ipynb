{
 "cells": [
  {
   "cell_type": "code",
   "execution_count": 2,
   "metadata": {},
   "outputs": [],
   "source": [
    "from cs103 import *"
   ]
  },
  {
   "cell_type": "markdown",
   "metadata": {},
   "source": [
    "Problem 1: \n",
    "\n",
    "Suppose you work in the Human Resources department at a ski lodge. Because\n",
    "the lodge is busier at certain times of the year, the number of employees\n",
    "fluctuates. There are always more than 10, but the maximum is 50. \n",
    "\n",
    "Design a data definiton to represent the number of ski lodge employees. \n",
    "\n",
    "Be sure to follow all steps of the HtDD recipe."
   ]
  },
  {
   "cell_type": "code",
   "execution_count": 4,
   "metadata": {},
   "outputs": [],
   "source": [
    "# your solution to Problem 1 goes here   \n",
    "EmployeeAmount = int #in range(10,50]\n",
    "#interp. the number of ski lodge employees which can be more than 10, but no more than 50\n",
    "EA1 = 10\n",
    "EA2 = 50\n",
    "EA3 = 25\n",
    "EA4 = 2\n",
    "@typecheck\n",
    "#template based on atomic non-distinct\n",
    "def fn_for_employee_amount(ea: EmployeeAmount)->...:\n",
    "    return...(ea)"
   ]
  },
  {
   "cell_type": "markdown",
   "metadata": {},
   "source": [
    "Problem 2: \n",
    "\n",
    "Using your data definition from Problem 1, design a function that takes in\n",
    "a number of employees and calculates the total monthly payroll. Each \n",
    "employee is paid $1,500 per month. \n",
    "\n",
    "Be sure to follow all steps of the HtDF recipe. "
   ]
  },
  {
   "cell_type": "code",
   "execution_count": 5,
   "metadata": {},
   "outputs": [
    {
     "name": "stdout",
     "output_type": "stream",
     "text": [
      "\u001b[92m3 of 3 tests passed\u001b[0m\n"
     ]
    }
   ],
   "source": [
    "# your solution to Problem 2 goes here\n",
    "@typecheck\n",
    "def payroll(ea: EmployeeAmount)->int:\n",
    "    \"\"\"returns the monthly payroll given the amount of employees(ea) where one employee is paid $1500 per month\"\"\"\n",
    "    #return 1000 #stub\n",
    "    #return ...(ea) #template from Employee Amount\n",
    "    return 1500 * ea\n",
    "\n",
    "start_testing()\n",
    "expect(payroll(10),15000)\n",
    "expect(payroll(50),75000)\n",
    "expect(payroll(20),30000)\n",
    "summary()"
   ]
  },
  {
   "cell_type": "code",
   "execution_count": null,
   "metadata": {},
   "outputs": [],
   "source": []
  }
 ],
 "metadata": {
  "kernelspec": {
   "display_name": "Python 3 (ipykernel)",
   "language": "python",
   "name": "python3"
  },
  "language_info": {
   "codemirror_mode": {
    "name": "ipython",
    "version": 3
   },
   "file_extension": ".py",
   "mimetype": "text/x-python",
   "name": "python",
   "nbconvert_exporter": "python",
   "pygments_lexer": "ipython3",
   "version": "3.11.4"
  }
 },
 "nbformat": 4,
 "nbformat_minor": 2
}
