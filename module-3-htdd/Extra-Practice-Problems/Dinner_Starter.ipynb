{
 "cells": [
  {
   "cell_type": "code",
   "execution_count": null,
   "metadata": {
    "collapsed": true
   },
   "outputs": [],
   "source": [
    "from cs103 import *"
   ]
  },
  {
   "cell_type": "markdown",
   "metadata": {},
   "source": [
    "## Problem 1:\n",
    "\n",
    "Suppose you are working on an automated delivery system for an airline\n",
    "catering service. There are three dinner options for each passenger:\n",
    "chicken, pasta, or vegetarian. \n",
    "\n",
    "Design a data definition to represent a dinner order. \n",
    "\n",
    "Be sure to follow all steps of the HtDD recipe. "
   ]
  },
  {
   "cell_type": "code",
   "execution_count": 5,
   "metadata": {},
   "outputs": [],
   "source": [
    "# your solution to Problem 1 goes here\n",
    "from cs103 import *\n",
    "from enum import Enum\n",
    "Dinner = Enum('Dinner',['chicken','pasta','vegetarian'])\n",
    "#interp. a dinner ordered by a passenger that can be chicken, pasta, or vegetarian\n",
    "#examples are redundant for enumerations\n",
    "@typecheck\n",
    "#template based on one of (3 cases) and atomic distinct (3 times)\n",
    "def fn_for_dinner(d: Dinner) ->...:\n",
    "    \"\"\"\n",
    "    ...\n",
    "    \"\"\"\n",
    "    if d==Dinner.chicken:\n",
    "        return ...\n",
    "    elif d==Dinner.pasta:\n",
    "        return ...\n",
    "    elif d==Dinner.vegetarian:\n",
    "        return...\n",
    "    "
   ]
  },
  {
   "cell_type": "markdown",
   "metadata": {},
   "source": [
    "## Problem 2:\n",
    "\n",
    "Using your data definition from Problem 1, design a function that takes in\n",
    "a dinner order and returns a message for the flight attendants saying what\n",
    "the passenger ordered.\n",
    "\n",
    "For example, if the input was chicken dinner, then it would return \"The passenger \n",
    "ordered chicken.\""
   ]
  },
  {
   "cell_type": "code",
   "execution_count": 4,
   "metadata": {},
   "outputs": [
    {
     "name": "stdout",
     "output_type": "stream",
     "text": [
      "\u001b[92m3 of 3 tests passed\u001b[0m\n"
     ]
    }
   ],
   "source": [
    "# your solution to Problem 2 goes here\n",
    "@typecheck\n",
    "def dinner_message(d: Dinner)->str:\n",
    "    \"\"\"returns a string that is a message indicating what dinner (d) a passenger ordered\"\"\"\n",
    "    #return \"hi\" #stub\n",
    "    if d==Dinner.chicken:\n",
    "        return \"The passenger ordered chicken\"\n",
    "    elif d==Dinner.pasta:\n",
    "        return \"The passenger ordered pasta\"\n",
    "    elif d==Dinner.vegetarian:\n",
    "        return \"The passenger ordered a vegetarian meal\"\n",
    "\n",
    "start_testing()\n",
    "expect(dinner_message(Dinner.chicken), \"The passenger ordered chicken\")\n",
    "expect(dinner_message(Dinner.pasta), \"The passenger ordered pasta\")\n",
    "expect(dinner_message(Dinner.vegetarian), \"The passenger ordered a vegetarian meal\")\n",
    "summary()\n"
   ]
  },
  {
   "cell_type": "code",
   "execution_count": null,
   "metadata": {},
   "outputs": [],
   "source": []
  }
 ],
 "metadata": {
  "kernelspec": {
   "display_name": "Python 3 (ipykernel)",
   "language": "python",
   "name": "python3"
  },
  "language_info": {
   "codemirror_mode": {
    "name": "ipython",
    "version": 3
   },
   "file_extension": ".py",
   "mimetype": "text/x-python",
   "name": "python",
   "nbconvert_exporter": "python",
   "pygments_lexer": "ipython3",
   "version": "3.11.4"
  }
 },
 "nbformat": 4,
 "nbformat_minor": 2
}
