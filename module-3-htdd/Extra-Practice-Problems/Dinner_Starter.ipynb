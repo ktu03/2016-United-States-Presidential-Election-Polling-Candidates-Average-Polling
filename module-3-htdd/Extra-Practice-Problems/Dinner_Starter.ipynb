{
 "cells": [
  {
   "cell_type": "code",
   "execution_count": null,
   "metadata": {
    "collapsed": true
   },
   "outputs": [],
   "source": [
    "from cs103 import *"
   ]
  },
  {
   "cell_type": "markdown",
   "metadata": {},
   "source": [
    "## Problem 1:\n",
    "\n",
    "Suppose you are working on an automated delivery system for an airline\n",
    "catering service. There are three dinner options for each passenger:\n",
    "chicken, pasta, or vegetarian. \n",
    "\n",
    "Design a data definition to represent a dinner order. \n",
    "\n",
    "Be sure to follow all steps of the HtDD recipe. "
   ]
  },
  {
   "cell_type": "code",
   "execution_count": null,
   "metadata": {},
   "outputs": [],
   "source": [
    "# your solution to Problem 1 goes here"
   ]
  },
  {
   "cell_type": "markdown",
   "metadata": {},
   "source": [
    "## Problem 2:\n",
    "\n",
    "Using your data definition from Problem 1, design a function that takes in\n",
    "a dinner order and returns a message for the flight attendants saying what\n",
    "the passenger ordered.\n",
    "\n",
    "For example, if the input was chicken dinner, then it would return \"The passenger \n",
    "ordered chicken.\""
   ]
  },
  {
   "cell_type": "code",
   "execution_count": null,
   "metadata": {},
   "outputs": [],
   "source": [
    "# your solution to Problem 2 goes here"
   ]
  }
 ],
 "metadata": {
  "kernelspec": {
   "display_name": "Python 3 (ipykernel)",
   "language": "python",
   "name": "python3"
  },
  "language_info": {
   "codemirror_mode": {
    "name": "ipython",
    "version": 3
   },
   "file_extension": ".py",
   "mimetype": "text/x-python",
   "name": "python",
   "nbconvert_exporter": "python",
   "pygments_lexer": "ipython3",
   "version": "3.9.9"
  }
 },
 "nbformat": 4,
 "nbformat_minor": 2
}
