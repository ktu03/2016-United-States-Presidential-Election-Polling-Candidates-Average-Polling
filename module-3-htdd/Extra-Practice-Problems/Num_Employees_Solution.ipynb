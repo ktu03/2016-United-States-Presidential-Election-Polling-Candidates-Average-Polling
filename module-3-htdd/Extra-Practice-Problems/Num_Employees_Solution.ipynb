{
 "cells": [
  {
   "cell_type": "code",
   "execution_count": null,
   "metadata": {
    "collapsed": true
   },
   "outputs": [],
   "source": [
    "from cs103 import *"
   ]
  },
  {
   "cell_type": "markdown",
   "metadata": {},
   "source": [
    "Problem 1: \n",
    "\n",
    "Suppose you work in the Human Resources department at a ski lodge. Because\n",
    "the lodge is busier at certain times of the year, the number of employees\n",
    "fluctuates. There are always more than 10, but the maximum is 50. \n",
    "\n",
    "Design a data definiton to represent the number of ski lodge employees. \n",
    "\n",
    "Be sure to follow all steps of the HtDD recipe."
   ]
  },
  {
   "cell_type": "code",
   "execution_count": null,
   "metadata": {
    "collapsed": false
   },
   "outputs": [],
   "source": [
    "NumEmployees = int # in range (10, 50]\n",
    "# interp. a number of ski lodge employees that is greater than 10 and \n",
    "# no more than 50\n",
    "\n",
    "NE1 = 11\n",
    "NE2 = 25\n",
    "NE3 = 50\n",
    "\n",
    "@typecheck\n",
    "def fn_for_num_employees(ne: NumEmployees) -> ...: # template based on Atomic Non-Distinct\n",
    "    return ...(ne)    "
   ]
  },
  {
   "cell_type": "markdown",
   "metadata": {},
   "source": [
    "Problem 2: \n",
    "\n",
    "Using your data definition from Problem 1, design a function that takes in\n",
    "a number of employees and calculates the total monthly payroll. Each \n",
    "employee is paid $1,500 per month. \n",
    "\n",
    "Be sure to follow all steps of the HtDF recipe. "
   ]
  },
  {
   "cell_type": "code",
   "execution_count": null,
   "metadata": {
    "collapsed": false
   },
   "outputs": [],
   "source": [
    "@typecheck\n",
    "def monthly_payroll(e: NumEmployees) -> int:\n",
    "    \"\"\"\n",
    "    returns the total monthly payroll for given ne\n",
    "    \"\"\"\n",
    "    # return 0 #stub\n",
    "    # template from NumEmployees\n",
    "    return 1500 * e\n",
    "\n",
    "# Start testing\n",
    "start_testing()\n",
    "\n",
    "expect(monthly_payroll(11), 11 * 1500)\n",
    "expect(monthly_payroll(25), 25 * 1500)\n",
    "expect(monthly_payroll(50), 50 * 1500)\n",
    "\n",
    "# Show testing summary\n",
    "summary()"
   ]
  }
 ],
 "metadata": {
  "kernelspec": {
   "display_name": "Python 3",
   "language": "python",
   "name": "python3"
  },
  "language_info": {
   "codemirror_mode": {
    "name": "ipython",
    "version": 3
   },
   "file_extension": ".py",
   "mimetype": "text/x-python",
   "name": "python",
   "nbconvert_exporter": "python",
   "pygments_lexer": "ipython3",
   "version": "3.5.2"
  }
 },
 "nbformat": 4,
 "nbformat_minor": 2
}
