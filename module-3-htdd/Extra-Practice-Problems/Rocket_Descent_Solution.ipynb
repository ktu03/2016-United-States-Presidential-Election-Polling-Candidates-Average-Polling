{
 "cells": [
  {
   "cell_type": "code",
   "execution_count": null,
   "metadata": {},
   "outputs": [],
   "source": [
    "from cs103 import *"
   ]
  },
  {
   "cell_type": "markdown",
   "metadata": {},
   "source": [
    "Problem 1: \n",
    "\n",
    "You are designing a program to track a rocket's journey as it descends 100 kilometers to Earth. The rocket can be up to 100 km away from earth, or it can have already landed.\n",
    "\n",
    "Design a data definition to represent the rocket's remaining descent. Call it RocketDescent."
   ]
  },
  {
   "cell_type": "code",
   "execution_count": null,
   "metadata": {},
   "outputs": [],
   "source": [
    "from typing import Optional \n",
    "\n",
    "RocketDescent = Optional[float] # in range (0.0, 100.0]\n",
    "# interp. a rocket's distance from earth as it descends, None means it has already landed\n",
    "\n",
    "RD0 = None\n",
    "RD1 = 0.001\n",
    "RD2 = 50\n",
    "RD3 = 100\n",
    "\n",
    "@typecheck\n",
    "def fn_for_rocket_descent(rd: RocketDescent) -> ...:\n",
    "    # template based on one-of, atomic distinct, and atomic non-distinct (an Optional)\n",
    "    if rd is None:\n",
    "        return ...\n",
    "    else:\n",
    "        return ...(rd)"
   ]
  }
 ],
 "metadata": {
  "kernelspec": {
   "display_name": "Python 3",
   "language": "python",
   "name": "python3"
  },
  "language_info": {
   "codemirror_mode": {
    "name": "ipython",
    "version": 3
   },
   "file_extension": ".py",
   "mimetype": "text/x-python",
   "name": "python",
   "nbconvert_exporter": "python",
   "pygments_lexer": "ipython3",
   "version": "3.6.4"
  }
 },
 "nbformat": 4,
 "nbformat_minor": 2
}
