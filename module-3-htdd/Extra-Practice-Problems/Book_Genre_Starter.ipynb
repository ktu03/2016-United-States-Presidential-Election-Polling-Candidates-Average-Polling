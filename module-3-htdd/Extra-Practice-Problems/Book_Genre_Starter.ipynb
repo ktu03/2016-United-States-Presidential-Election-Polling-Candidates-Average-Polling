{
 "cells": [
  {
   "cell_type": "code",
   "execution_count": 2,
   "metadata": {},
   "outputs": [],
   "source": [
    "from cs103 import *"
   ]
  },
  {
   "cell_type": "markdown",
   "metadata": {},
   "source": [
    "Problem 1:\n",
    "\n",
    "Design a data definition to represent the following common genres of fiction\n",
    "books: classic, drama, fantasy, historical, mystery, and science fiction.\n",
    "\n",
    "Be sure to follow all steps of the HtDD recipe."
   ]
  },
  {
   "cell_type": "code",
   "execution_count": 4,
   "metadata": {},
   "outputs": [],
   "source": [
    "# your solution to problem 1 goes here\n",
    "\n",
    "from enum import Enum\n",
    "Genre = Enum('Genre',['classic','drama','fantasy','historical','mystery','science_fiction'])\n",
    "#interp. a genre for a book that can either be classic, drama, fantasy, historical, mystery, or science fiction\n",
    "\n",
    "@typecheck\n",
    "#template based on one of (6 cases) and atomic distinct\n",
    "def fn_for_genre(bg: Genre) -> ...:\n",
    "    \"\"\"\n",
    "    ...\n",
    "    \"\"\"\n",
    "    if bg==Genre.classic:\n",
    "        return...\n",
    "    elif bg==Genre.drama:\n",
    "        return...\n",
    "    elif bg==Genre.fantasy:\n",
    "        return...\n",
    "    elif bg==Genre.historical:\n",
    "        return...\n",
    "    elif bg==Genre.mystery:\n",
    "        return...\n",
    "    elif bg==Genre.science_fiction:\n",
    "        return..."
   ]
  },
  {
   "cell_type": "markdown",
   "metadata": {},
   "source": [
    "Problem 2:\n",
    "    \n",
    "Using your data definition from Problem 1, design a function that consumes \n",
    "a book genre and produces True if that genre is your favourite. Your function\n",
    "should produce False for all other book genres.\n",
    "\n",
    "Note, our solution indicates that Historical is our favourite genre, but you could have chosen any of them.\n",
    "\n",
    "Be sure to follow all steps of the HtDF recipe."
   ]
  },
  {
   "cell_type": "code",
   "execution_count": 5,
   "metadata": {},
   "outputs": [
    {
     "name": "stdout",
     "output_type": "stream",
     "text": [
      "\u001b[92m6 of 6 tests passed\u001b[0m\n"
     ]
    }
   ],
   "source": [
    "# your solution to problem 2 goes here\n",
    "@typecheck\n",
    "def favourite_genre(bg: Genre) -> bool:\n",
    "    \"\"\"returns True if the genre of a book bg is fantasy, False otherwise.\"\"\"\n",
    "    #return False #stub\n",
    "    #template based on Genre\n",
    "    if bg==Genre.classic:\n",
    "        return False\n",
    "    elif bg==Genre.drama:\n",
    "        return False\n",
    "    elif bg==Genre.fantasy:\n",
    "        return True\n",
    "    elif bg==Genre.historical:\n",
    "        return False\n",
    "    elif bg==Genre.mystery:\n",
    "        return False\n",
    "    elif bg==Genre.science_fiction:\n",
    "        return False\n",
    "start_testing()\n",
    "expect(favourite_genre(Genre.fantasy),True)\n",
    "expect(favourite_genre(Genre.classic),False)\n",
    "expect(favourite_genre(Genre.historical),False)\n",
    "expect(favourite_genre(Genre.mystery),False)\n",
    "expect(favourite_genre(Genre.science_fiction),False)\n",
    "expect(favourite_genre(Genre.drama),False)\n",
    "summary()"
   ]
  },
  {
   "cell_type": "code",
   "execution_count": null,
   "metadata": {},
   "outputs": [],
   "source": []
  }
 ],
 "metadata": {
  "kernelspec": {
   "display_name": "Python 3 (ipykernel)",
   "language": "python",
   "name": "python3"
  },
  "language_info": {
   "codemirror_mode": {
    "name": "ipython",
    "version": 3
   },
   "file_extension": ".py",
   "mimetype": "text/x-python",
   "name": "python",
   "nbconvert_exporter": "python",
   "pygments_lexer": "ipython3",
   "version": "3.11.4"
  }
 },
 "nbformat": 4,
 "nbformat_minor": 2
}
