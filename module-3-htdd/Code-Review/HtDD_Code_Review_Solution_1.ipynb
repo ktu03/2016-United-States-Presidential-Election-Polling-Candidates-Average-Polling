{
 "cells": [
  {
   "cell_type": "code",
   "execution_count": null,
   "metadata": {
    "editable": false
   },
   "outputs": [],
   "source": [
    "# This cell is uneditable so you can refer back to the original version of the solution.\n",
    "\n",
    "from cs103 import *\n",
    "from typing import Optional\n",
    "\n",
    "MiddleName = Optional[str]\n",
    "# interp. a person's middle name, None means that they do not have a middle name\n",
    "\n",
    "MN1 = None\n",
    "MN2 = \"James\"\n",
    "MN3 = \"Stacy\"\n",
    "\n",
    "# template based on One Of, Atomic Distinct, and Atomic Non-Distinct\n",
    "@typecheck\n",
    "def fn_for_middle_name(mn: MiddleName) -> ...:\n",
    "    if mn is None:\n",
    "        return ...\n",
    "    else:\n",
    "        return ...(mn)"
   ]
  },
  {
   "cell_type": "code",
   "execution_count": null,
   "metadata": {},
   "outputs": [],
   "source": [
    "# This cell is editable.\n",
    "\n",
    "from cs103 import *\n",
    "from typing import Optional\n",
    "\n",
    "MiddleName = Optional[str]\n",
    "# interp. a person's middle name, None means that they do not have a middle name\n",
    "\n",
    "MN1 = None\n",
    "MN2 = \"James\"\n",
    "MN3 = \"Stacy\"\n",
    "\n",
    "# template based on One Of, Atomic Distinct, and Atomic Non-Distinct\n",
    "@typecheck\n",
    "def fn_for_middle_name(mn: MiddleName) -> ...:\n",
    "    if mn is None:\n",
    "        return ...\n",
    "    else:\n",
    "        return ...(mn)"
   ]
  }
 ],
 "metadata": {
  "kernelspec": {
   "display_name": "Python 3 (ipykernel)",
   "language": "python",
   "name": "python3"
  },
  "language_info": {
   "codemirror_mode": {
    "name": "ipython",
    "version": 3
   },
   "file_extension": ".py",
   "mimetype": "text/x-python",
   "name": "python",
   "nbconvert_exporter": "python",
   "pygments_lexer": "ipython3",
   "version": "3.9.9"
  }
 },
 "nbformat": 4,
 "nbformat_minor": 2
}
