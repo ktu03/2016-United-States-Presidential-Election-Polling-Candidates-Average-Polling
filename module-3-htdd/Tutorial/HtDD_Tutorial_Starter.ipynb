{
 "cells": [
  {
   "cell_type": "code",
   "execution_count": null,
   "metadata": {},
   "outputs": [],
   "source": [
    "from cs103 import *\n",
    "# add any needed imports here\n"
   ]
  },
  {
   "cell_type": "markdown",
   "metadata": {},
   "source": [
    "## Tutorial Solution - HtDD"
   ]
  },
  {
   "cell_type": "markdown",
   "metadata": {},
   "source": [
    "### Problem 1a:\n",
    "\n",
    "According to [Wikipedia](https://en.wikipedia.org/wiki/List_of_COVID-19_vaccine_authorizations)<sup>*</sup>:\n",
    "> Ten vaccines have been approved for emergency or full use by at least one stringent regulatory authority recognized by the World Health Organization (WHO): Pfizer–BioNTech, Oxford–AstraZeneca, Sinopharm BIBP, Moderna, Janssen, CoronaVac, Covaxin, Novavax, Convidecia, and Sanofi–GSK.\n",
    "\n",
    "Design a data definition to represent one of the available COVID-19 vaccines.  Be sure to follow all steps of the HtDD recipe.\n",
    "\n",
    "<sup>*</sup> Accessed 2023-01-11"
   ]
  },
  {
   "cell_type": "code",
   "execution_count": null,
   "metadata": {},
   "outputs": [],
   "source": [
    "# your solution goes here"
   ]
  },
  {
   "cell_type": "markdown",
   "metadata": {},
   "source": [
    "### Problem 1b:\n",
    "\n",
    "According to [Wikipedia](https://en.wikipedia.org/wiki/List_of_COVID-19_vaccine_authorizations)<sup>*</sup> the following five vaccines have been approved for full use by the Government of Canada: Pfizer–BioNTech, Oxford–AstraZeneca, Moderna, Janssen, and Novavax.  The other five have been approved only for limited use or not approved.\n",
    "\n",
    "Design a function that takes a vaccine (from Problem 1a) and returns true if the vaccine has been approved for full use by the Government of Canada. \n",
    "\n",
    "Be sure to follow all steps of the HtDF recipe.\n",
    "\n",
    "<sup>*</sup> Accessed 2023-01-11"
   ]
  },
  {
   "cell_type": "code",
   "execution_count": null,
   "metadata": {},
   "outputs": [],
   "source": [
    "# your solution goes here"
   ]
  },
  {
   "cell_type": "markdown",
   "metadata": {},
   "source": [
    "### Problem 2a:\n",
    "\n",
    "Design a data definition to represent the number of months since a person last received a vaccine dose. Specifically, a person may have received their latest dose zero or more months ago. It is also possible for their vaccination status to be unknown. (That is, the number of months can be a non-negative integer value or a special value indicating that it is unknown when they received their last dose.)\n",
    "\n",
    "Be sure to follow all steps of the HtDD recipe."
   ]
  },
  {
   "cell_type": "code",
   "execution_count": null,
   "metadata": {},
   "outputs": [],
   "source": [
    "# your solution goes here"
   ]
  },
  {
   "cell_type": "markdown",
   "metadata": {},
   "source": [
    "### Problem 2b:\n",
    "Design a function that takes the number of months since the last dose (from Problem 2a) and returns True if the person is due for a booster shot, and False otherwise. For the purpose of this exercise, a person is due for a booster shot if it has been 6 or more months since their last dose, or if their vaccination status is unknown.\n",
    "\n",
    "Be sure to follow all steps of the HtDF recipe."
   ]
  },
  {
   "cell_type": "code",
   "execution_count": null,
   "metadata": {},
   "outputs": [],
   "source": [
    "# your solution goes here"
   ]
  },
  {
   "cell_type": "markdown",
   "metadata": {},
   "source": [
    "## Submit your solution"
   ]
  },
  {
   "cell_type": "code",
   "execution_count": null,
   "metadata": {
    "deletable": false,
    "editable": false
   },
   "outputs": [],
   "source": [
    "# NOTE: You should not be able to edit this cell. Just run it to start the process of submiting your code.\n",
    "from cs103 import submit\n",
    "\n",
    "COURSE = 123409\n",
    "ASSIGNMENT = 1615211\n",
    "\n",
    "submit(COURSE, ASSIGNMENT)\n",
    "\n",
    "# If your submission fails, SUBMIT ANYWAY by downloading your files and uploading them \n",
    "# to Canvas. You can learn how on the page \"How to submit your Jupyter notebook\" on our \n",
    "# Canvas site."
   ]
  }
 ],
 "metadata": {
  "kernelspec": {
   "display_name": "Python 3",
   "language": "python",
   "name": "python3"
  },
  "language_info": {
   "codemirror_mode": {
    "name": "ipython",
    "version": 3
   },
   "file_extension": ".py",
   "mimetype": "text/x-python",
   "name": "python",
   "nbconvert_exporter": "python",
   "pygments_lexer": "ipython3",
   "version": "3.8.8"
  }
 },
 "nbformat": 4,
 "nbformat_minor": 2
}
