{
 "cells": [
  {
   "cell_type": "code",
   "execution_count": 1,
   "metadata": {},
   "outputs": [],
   "source": [
    "from cs103 import *\n",
    "# add any needed imports here\n"
   ]
  },
  {
   "cell_type": "markdown",
   "metadata": {},
   "source": [
    "## Tutorial Solution - HtDD"
   ]
  },
  {
   "cell_type": "markdown",
   "metadata": {},
   "source": [
    "### Problem 1a:\n",
    "\n",
    "According to [Wikipedia](https://en.wikipedia.org/wiki/List_of_COVID-19_vaccine_authorizations)<sup>*</sup>:\n",
    "> Ten vaccines have been approved for emergency or full use by at least one stringent regulatory authority recognized by the World Health Organization (WHO): Pfizer–BioNTech, Oxford–AstraZeneca, Sinopharm BIBP, Moderna, Janssen, CoronaVac, Covaxin, Novavax, Convidecia, and Sanofi–GSK.\n",
    "\n",
    "Design a data definition to represent one of the available COVID-19 vaccines.  Be sure to follow all steps of the HtDD recipe.\n",
    "\n",
    "<sup>*</sup> Accessed 2023-01-11"
   ]
  },
  {
   "cell_type": "code",
   "execution_count": 3,
   "metadata": {},
   "outputs": [],
   "source": [
    "# your solution goes here\n",
    "from enum import Enum\n",
    "Vaccine = Enum('Vaccine', ['Pfizer_BioNTech', 'Oxford_AstraZeneca', 'Sinopharm_BIBP', 'Moderna', 'Janssen', 'CoronaVac','Covaxin','Novavax', 'Convidecia', 'Sanofi_GSK'])\n",
    "\n",
    "#interp. a COVID-19 vaccine that has been approved by the World Health Organization\n",
    "\n",
    "#examples are redundant for enumerations\n",
    "\n",
    "@typecheck\n",
    "\n",
    "#template based on Atomic Distinct and one of the 10 cases\n",
    "def fn_for_vaccine(v: Vaccine) -> ... :\n",
    "    \"\"\"purpose\"\"\"\n",
    "    if v == Vaccine.Pfizer_BioNTech:\n",
    "        return ...\n",
    "    elif v == VaccineOxford_AstraZeneca:\n",
    "        return ...\n",
    "    elif v == Vaccine.Sinopharm_BIBP:\n",
    "        return ...\n",
    "    elif v == Vaccine.Moderna:\n",
    "        return ...\n",
    "    elif v == Vaccine.Janssen:\n",
    "        return ...\n",
    "    elif v == Vaccine.Coronavac:\n",
    "        return ...\n",
    "    elif v == Vaccine.Covaxin:\n",
    "        return ...\n",
    "    elif v == Vaccine.Novavax:\n",
    "        return ...\n",
    "    elif v == Vaccine.Convidecia:\n",
    "        return ...\n",
    "    elif v == Vaccine.Sanofi_GSK:\n",
    "        return ...\n"
   ]
  },
  {
   "cell_type": "markdown",
   "metadata": {},
   "source": [
    "### Problem 1b:\n",
    "\n",
    "According to [Wikipedia](https://en.wikipedia.org/wiki/List_of_COVID-19_vaccine_authorizations)<sup>*</sup> the following five vaccines have been approved for full use by the Government of Canada: Pfizer–BioNTech, Oxford–AstraZeneca, Moderna, Janssen, and Novavax.  The other five have been approved only for limited use or not approved.\n",
    "\n",
    "Design a function that takes a vaccine (from Problem 1a) and returns true if the vaccine has been approved for full use by the Government of Canada. \n",
    "\n",
    "Be sure to follow all steps of the HtDF recipe.\n",
    "\n",
    "<sup>*</sup> Accessed 2023-01-11"
   ]
  },
  {
   "cell_type": "code",
   "execution_count": 10,
   "metadata": {},
   "outputs": [
    {
     "name": "stdout",
     "output_type": "stream",
     "text": [
      "\u001b[92m2 of 2 tests passed\u001b[0m\n"
     ]
    }
   ],
   "source": [
    "# your solution goes here\n",
    "\n",
    "def approval(v: Vaccine) -> bool:\n",
    "    \"\"\"determines if a COVID-19 vaccine has been approved by Health Canada or not\"\"\"\n",
    "    #return True #stub\n",
    "\n",
    "    #template from Vaccine\n",
    "    if v == Vaccine.Pfizer_BioNTech:\n",
    "        return True\n",
    "    elif v == Vaccine.Oxford_AstraZeneca:\n",
    "        return True\n",
    "    elif v == Vaccine.Sinopharm_BIBP:\n",
    "        return False\n",
    "    elif v == Vaccine.Moderna:\n",
    "        return True\n",
    "    elif v == Vaccine.Janssen:\n",
    "        return True\n",
    "    elif v == Vaccine.CoronaVac:\n",
    "        return False\n",
    "    elif v == Vaccine.Covaxin:\n",
    "        return False\n",
    "    elif v == Vaccine.Novavax:\n",
    "        return True\n",
    "    elif v == Vaccine.Convidecia:\n",
    "        return False\n",
    "    elif v == Vaccine.Sanofi_GSK:\n",
    "        return False\n",
    "start_testing()\n",
    "expect(approval(Vaccine.Pfizer_BioNTech), True)\n",
    "expect(approval(Vaccine.Sanofi_GSK), False)\n",
    "summary()"
   ]
  },
  {
   "cell_type": "markdown",
   "metadata": {},
   "source": [
    "### Problem 2a:\n",
    "\n",
    "Design a data definition to represent the number of months since a person last received a vaccine dose. Specifically, a person may have received their latest dose zero or more months ago. It is also possible for their vaccination status to be unknown. (That is, the number of months can be a non-negative integer value or a special value indicating that it is unknown when they received their last dose.)\n",
    "\n",
    "Be sure to follow all steps of the HtDD recipe."
   ]
  },
  {
   "cell_type": "code",
   "execution_count": null,
   "metadata": {},
   "outputs": [],
   "source": [
    "# your solution goes here\n",
    "from typing import Optional\n",
    "\n",
    "Number_Of_Months = Optional[int] #in range [0,12]\n",
    "#interp. the number of months since somebody received their latest dose of the COVID-19 vaccine\n",
    "#or an unknown vaccination status\n",
    "\n",
    "M0 = None\n",
    "M2 = 2\n",
    "M4 = 4\n",
    "M7 = 7\n",
    "M10 = 10\n",
    "\n",
    "@typecheck\n",
    "#template based on Atomic and Non-\n",
    "def fn_for_number_of_months(months: Number_Of_Months):\n",
    "    if months == None:\n",
    "        return ...\n",
    "    else:\n",
    "        return ..."
   ]
  },
  {
   "cell_type": "markdown",
   "metadata": {},
   "source": [
    "### Problem 2b:\n",
    "Design a function that takes the number of months since the last dose (from Problem 2a) and returns True if the person is due for a booster shot, and False otherwise. For the purpose of this exercise, a person is due for a booster shot if it has been 6 or more months since their last dose, or if their vaccination status is unknown.\n",
    "\n",
    "Be sure to follow all steps of the HtDF recipe."
   ]
  },
  {
   "cell_type": "code",
   "execution_count": null,
   "metadata": {},
   "outputs": [],
   "source": [
    "# your solution goes here"
   ]
  },
  {
   "cell_type": "markdown",
   "metadata": {},
   "source": [
    "## Submit your solution"
   ]
  },
  {
   "cell_type": "code",
   "execution_count": null,
   "metadata": {
    "deletable": false,
    "editable": false
   },
   "outputs": [],
   "source": [
    "# NOTE: You should not be able to edit this cell. Just run it to start the process of submiting your code.\n",
    "from cs103 import submit\n",
    "\n",
    "COURSE = 123409\n",
    "ASSIGNMENT = 1615211\n",
    "\n",
    "submit(COURSE, ASSIGNMENT)\n",
    "\n",
    "# If your submission fails, SUBMIT ANYWAY by downloading your files and uploading them \n",
    "# to Canvas. You can learn how on the page \"How to submit your Jupyter notebook\" on our \n",
    "# Canvas site."
   ]
  }
 ],
 "metadata": {
  "kernelspec": {
   "display_name": "Python 3 (ipykernel)",
   "language": "python",
   "name": "python3"
  },
  "language_info": {
   "codemirror_mode": {
    "name": "ipython",
    "version": 3
   },
   "file_extension": ".py",
   "mimetype": "text/x-python",
   "name": "python",
   "nbconvert_exporter": "python",
   "pygments_lexer": "ipython3",
   "version": "3.11.4"
  }
 },
 "nbformat": 4,
 "nbformat_minor": 2
}
