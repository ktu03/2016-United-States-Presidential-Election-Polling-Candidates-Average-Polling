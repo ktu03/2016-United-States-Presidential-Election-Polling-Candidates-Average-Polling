{
 "cells": [
  {
   "cell_type": "code",
   "execution_count": 2,
   "metadata": {},
   "outputs": [],
   "source": [
    "from cs103 import *\n",
    "# add any needed imports here\n"
   ]
  },
  {
   "cell_type": "markdown",
   "metadata": {},
   "source": [
    "## Tutorial Solution - HtDD"
   ]
  },
  {
   "cell_type": "markdown",
   "metadata": {},
   "source": [
    "### Problem 1a:\n",
    "\n",
    "According to [Wikipedia](https://en.wikipedia.org/wiki/List_of_COVID-19_vaccine_authorizations)<sup>*</sup>:\n",
    "> Ten vaccines have been approved for emergency or full use by at least one stringent regulatory authority recognized by the World Health Organization (WHO): Pfizer–BioNTech, Oxford–AstraZeneca, Sinopharm BIBP, Moderna, Janssen, CoronaVac, Covaxin, Novavax, Convidecia, and Sanofi–GSK.\n",
    "\n",
    "Design a data definition to represent one of the available COVID-19 vaccines.  Be sure to follow all steps of the HtDD recipe.\n",
    "\n",
    "<sup>*</sup> Accessed 2023-01-11"
   ]
  },
  {
   "cell_type": "code",
   "execution_count": 11,
   "metadata": {},
   "outputs": [],
   "source": [
    "# your solution goes here\n",
    "from enum import Enum\n",
    "Vaccine = Enum('Vaccine', ['pb', 'oa', 'sb', 'm', 'j', 'cv','cx','n', 'cd', 'sg'])\n",
    "\n",
    "#interp. a COVID-19 vaccine been approved by the World Health Organization that is either Pfizer-BioNTech ('pb'), Oxford-AstraZeneca ('oa'), Sinopharm BIBP ('sb'), Moderna ('m'), Janssen ('j'), CoronaVac ('cv'), Covaxin ('cx'), Novavax ('n'), Convadecia ('cd'), or Sanofi-GSK ('sg')  \n",
    "#examples are redundant for enumerations\n",
    "\n",
    "@typecheck\n",
    "\n",
    "#template based on Atomic Distinct and Enumeration (10 cases)\n",
    "def fn_for_vaccine(v: Vaccine) -> ... :\n",
    "    if v == Vaccine.pb:\n",
    "        return ...\n",
    "    elif v == Vaccine.oa:\n",
    "        return ...\n",
    "    elif v == Vaccine.sb:\n",
    "        return ...\n",
    "    elif v == Vaccine.m:\n",
    "        return ...\n",
    "    elif v == Vaccine.j:\n",
    "        return ...\n",
    "    elif v == Vaccine.cv:\n",
    "        return ...\n",
    "    elif v == Vaccine.cx:\n",
    "        return ...\n",
    "    elif v == Vaccine.n:\n",
    "        return ...\n",
    "    elif v == Vaccine.cd:\n",
    "        return ...\n",
    "    elif v == Vaccine.sg:\n",
    "        return ...\n"
   ]
  },
  {
   "cell_type": "markdown",
   "metadata": {},
   "source": [
    "### Problem 1b:\n",
    "\n",
    "According to [Wikipedia](https://en.wikipedia.org/wiki/List_of_COVID-19_vaccine_authorizations)<sup>*</sup> the following five vaccines have been approved for full use by the Government of Canada: Pfizer–BioNTech, Oxford–AstraZeneca, Moderna, Janssen, and Novavax.  The other five have been approved only for limited use or not approved.\n",
    "\n",
    "Design a function that takes a vaccine (from Problem 1a) and returns true if the vaccine has been approved for full use by the Government of Canada. \n",
    "\n",
    "Be sure to follow all steps of the HtDF recipe.\n",
    "\n",
    "<sup>*</sup> Accessed 2023-01-11"
   ]
  },
  {
   "cell_type": "code",
   "execution_count": 16,
   "metadata": {},
   "outputs": [
    {
     "name": "stdout",
     "output_type": "stream",
     "text": [
      "\u001b[92m2 of 2 tests passed\u001b[0m\n"
     ]
    }
   ],
   "source": [
    "# your solution goes here\n",
    "\n",
    "def approval(v: Vaccine) -> bool:\n",
    "    \"\"\"determines if a COVID-19 vaccine has been approved by Health Canada or not\"\"\"\n",
    "    #return True #stub\n",
    "\n",
    "    #template from Vaccine\n",
    "    if v == Vaccine.pb:\n",
    "        return True\n",
    "    elif v == Vaccine.oa:\n",
    "        return True\n",
    "    elif v == Vaccine.sb:\n",
    "        return False\n",
    "    elif v == Vaccine.m:\n",
    "        return True\n",
    "    elif v == Vaccine.j:\n",
    "        return True\n",
    "    elif v == Vaccine.cv:\n",
    "        return False\n",
    "    elif v == Vaccine.cx:\n",
    "        return False\n",
    "    elif v == Vaccine.n:\n",
    "        return True\n",
    "    elif v == Vaccine.cd:\n",
    "        return False\n",
    "    elif v == Vaccine.sg:\n",
    "        return False\n",
    "start_testing()\n",
    "expect(approval(Vaccine.pb), True)\n",
    "expect(approval(Vaccine.sg), False)\n",
    "summary()"
   ]
  },
  {
   "cell_type": "markdown",
   "metadata": {},
   "source": [
    "### Problem 2a:\n",
    "\n",
    "Design a data definition to represent the number of months since a person last received a vaccine dose. Specifically, a person may have received their latest dose zero or more months ago. It is also possible for their vaccination status to be unknown. (That is, the number of months can be a non-negative integer value or a special value indicating that it is unknown when they received their last dose.)\n",
    "\n",
    "Be sure to follow all steps of the HtDD recipe."
   ]
  },
  {
   "cell_type": "code",
   "execution_count": 8,
   "metadata": {},
   "outputs": [],
   "source": [
    "# your solution goes here\n",
    "from typing import Optional\n",
    "\n",
    "NumberOfMonths = Optional[int] #in range [0,12]\n",
    "#interp. the number of months since somebody received their latest dose of the COVID-19 vaccine\n",
    "#or an unknown vaccination status\n",
    "\n",
    "M0 = None\n",
    "M2 = 2\n",
    "M4 = 4\n",
    "M7 = 7\n",
    "M10 = 10\n",
    "\n",
    "@typecheck\n",
    "#template based on Optional and Atomic Non-Distinct\n",
    "def fn_for_number_of_months(months: NumberOfMonths) -> ...:\n",
    "    if months == None:\n",
    "        return ...\n",
    "    else:\n",
    "        return ..."
   ]
  },
  {
   "cell_type": "markdown",
   "metadata": {},
   "source": [
    "### Problem 2b:\n",
    "Design a function that takes the number of months since the last dose (from Problem 2a) and returns True if the person is due for a booster shot, and False otherwise. For the purpose of this exercise, a person is due for a booster shot if it has been 6 or more months since their last dose, or if their vaccination status is unknown.\n",
    "\n",
    "Be sure to follow all steps of the HtDF recipe."
   ]
  },
  {
   "cell_type": "code",
   "execution_count": 15,
   "metadata": {},
   "outputs": [
    {
     "name": "stdout",
     "output_type": "stream",
     "text": [
      "\u001b[92m3 of 3 tests passed\u001b[0m\n"
     ]
    }
   ],
   "source": [
    "# your solution goes here\n",
    "@typecheck\n",
    "\n",
    "def due_for_dose(months: NumberOfMonths) -> bool:\n",
    "    \"\"\"determines if a person is due for a COVID-19 booster dose\"\"\"\n",
    "    #return True #stub\n",
    "    #template from Number Of Months\n",
    "    if months == None:\n",
    "        return True\n",
    "    else:\n",
    "        if months>=6:\n",
    "            return True\n",
    "        else:\n",
    "            return False\n",
    "    \n",
    "\n",
    "start_testing()\n",
    "expect(due_for_dose(7), True)\n",
    "expect(due_for_dose(2), False)\n",
    "expect(due_for_dose(None), True)\n",
    "summary()"
   ]
  },
  {
   "cell_type": "markdown",
   "metadata": {},
   "source": [
    "## Submit your solution"
   ]
  },
  {
   "cell_type": "code",
   "execution_count": 14,
   "metadata": {
    "deletable": false,
    "editable": false
   },
   "outputs": [
    {
     "data": {
      "application/vnd.jupyter.widget-view+json": {
       "model_id": "f61d2aaed7684a069ab4c3ff355ed341",
       "version_major": 2,
       "version_minor": 0
      },
      "text/plain": [
       "Valid(value=True, description='Token')"
      ]
     },
     "metadata": {},
     "output_type": "display_data"
    },
    {
     "data": {
      "application/vnd.jupyter.widget-view+json": {
       "model_id": "dfad946e18d940f9827c9d1171aa3032",
       "version_major": 2,
       "version_minor": 0
      },
      "text/plain": [
       "SelectMultiple(description='Files', index=(0,), layout=Layout(height='100%', width='50%'), options=('HtDD_Tuto…"
      ]
     },
     "metadata": {},
     "output_type": "display_data"
    },
    {
     "data": {
      "application/vnd.jupyter.widget-view+json": {
       "model_id": "deaca4f12f3248269efc23bfe651676f",
       "version_major": 2,
       "version_minor": 0
      },
      "text/plain": [
       "Button(description='submit', icon='check', style=ButtonStyle(), tooltip='submit')"
      ]
     },
     "metadata": {},
     "output_type": "display_data"
    },
    {
     "name": "stdout",
     "output_type": "stream",
     "text": [
      "We are about to submit the files:\n",
      "HtDD_Tutorial_Starter.ipynb\n",
      "\n",
      "- We do this by moving only the files you selected to their own space, restarting a kernel,\n",
      "  and running them from top to bottom.\n",
      "- This ensures that the files you submit are exactly what the course staff needs to recreate your output.\n",
      "- We then submit these to Canvas for you and, if successful, give you a link where you can review your submission.\n",
      "- If there is an error, there will be a VERY LONG error message below.\n",
      "  Read our suggestions at the bottom and try to ream the error message bottom up.\n",
      "\n",
      "-----------------------------------------------------------------------------------------------\n",
      "\n",
      "Your assignment was submitted succesfully!\n",
      "Please check your submission at this link: https://canvas.ubc.ca/courses/123409/assignments/1615211/submissions/987277?preview=1&version=1\n",
      "It will be easiest to check your submission using the HTML file at that link.\n",
      "\n",
      "WARNING: We can only see saved changes. ANY UNSAVED CHANGES would not have been submitted.\n",
      "Save before each submission!\n",
      "-----------------------------------------------------------------------------------------------\n",
      "\n",
      "We are about to submit the files:\n",
      "HtDD_Tutorial_Starter.ipynb\n",
      "\n",
      "- We do this by moving only the files you selected to their own space, restarting a kernel,\n",
      "  and running them from top to bottom.\n",
      "- This ensures that the files you submit are exactly what the course staff needs to recreate your output.\n",
      "- We then submit these to Canvas for you and, if successful, give you a link where you can review your submission.\n",
      "- If there is an error, there will be a VERY LONG error message below.\n",
      "  Read our suggestions at the bottom and try to ream the error message bottom up.\n",
      "\n",
      "-----------------------------------------------------------------------------------------------\n",
      "\n",
      "Your assignment was submitted succesfully!\n",
      "Please check your submission at this link: https://canvas.ubc.ca/courses/123409/assignments/1615211/submissions/987277?preview=1&version=2\n",
      "It will be easiest to check your submission using the HTML file at that link.\n",
      "\n",
      "WARNING: We can only see saved changes. ANY UNSAVED CHANGES would not have been submitted.\n",
      "Save before each submission!\n",
      "-----------------------------------------------------------------------------------------------\n",
      "\n"
     ]
    }
   ],
   "source": [
    "# NOTE: You should not be able to edit this cell. Just run it to start the process of submiting your code.\n",
    "from cs103 import submit\n",
    "\n",
    "COURSE = 123409\n",
    "ASSIGNMENT = 1615211\n",
    "\n",
    "submit(COURSE, ASSIGNMENT)\n",
    "\n",
    "# If your submission fails, SUBMIT ANYWAY by downloading your files and uploading them \n",
    "# to Canvas. You can learn how on the page \"How to submit your Jupyter notebook\" on our \n",
    "# Canvas site."
   ]
  },
  {
   "cell_type": "code",
   "execution_count": null,
   "metadata": {},
   "outputs": [],
   "source": []
  }
 ],
 "metadata": {
  "kernelspec": {
   "display_name": "Python 3 (ipykernel)",
   "language": "python",
   "name": "python3"
  },
  "language_info": {
   "codemirror_mode": {
    "name": "ipython",
    "version": 3
   },
   "file_extension": ".py",
   "mimetype": "text/x-python",
   "name": "python",
   "nbconvert_exporter": "python",
   "pygments_lexer": "ipython3",
   "version": "3.11.4"
  }
 },
 "nbformat": 4,
 "nbformat_minor": 2
}
