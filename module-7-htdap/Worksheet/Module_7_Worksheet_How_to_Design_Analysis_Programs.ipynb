{
 "cells": [
  {
   "cell_type": "markdown",
   "metadata": {},
   "source": [
    "# HTDAP Worksheet"
   ]
  },
  {
   "cell_type": "markdown",
   "metadata": {},
   "source": [
    "1. You have a file that contains information about the percentage of women who have received bachelors degrees in different fields. [Step 1a] Take a moment to write a description about what information you have access to in this file."
   ]
  },
  {
   "cell_type": "markdown",
   "metadata": {},
   "source": []
  },
  {
   "cell_type": "markdown",
   "metadata": {},
   "source": [
    "2. [Step 1b] Now, brainstorm and write down at least three substantially different outputs a program operating on this information might produce. You can think about calculations that might be interesting, graphs you can produce, or anything else that interests you about the information. Draw example pictures for any graphs and use Insert Image in the Edit menu to get them into this Jupyter notebook."
   ]
  },
  {
   "cell_type": "markdown",
   "metadata": {},
   "source": []
  },
  {
   "cell_type": "markdown",
   "metadata": {},
   "source": [
    "3. [Step 1b] Suppose you want to write a program to find the year that had the biggest difference between the percent of degrees in Math and Statistics that were awarded to women and the percent of degrees in Physical Sciences that were awarded to women. [Step 1c] Write an example of what this program would produce. (You’ll need to look at the file which is available in the folder that this worksheet is found in.)"
   ]
  },
  {
   "cell_type": "code",
   "execution_count": null,
   "metadata": {},
   "outputs": [],
   "source": []
  },
  {
   "cell_type": "markdown",
   "metadata": {},
   "source": [
    "4. Imagine you had a research, communication, or advocacy goal working with this information. How might you involve other people who are representative of your audience in Steps 1b and 1c in order to better accomplish your goal? (You may have such a goal for your project!)"
   ]
  },
  {
   "cell_type": "markdown",
   "metadata": {},
   "source": []
  },
  {
   "cell_type": "markdown",
   "metadata": {},
   "source": [
    "5. [Step 2a] Look back at your answer to question 1 and from the information you have available to you, determine which information you will need to store as data in your program. You need to store all the information that you need in order to calculate or create the output described in Question 3."
   ]
  },
  {
   "cell_type": "markdown",
   "metadata": {},
   "source": []
  },
  {
   "cell_type": "markdown",
   "metadata": {},
   "source": [
    "6. [Step 2a] Now it’s time to think about the data definitions you will need in order to store the information from the file as data. Look your answer to question 5 and decide how many data definitions you will need to design in order to store this information as data in your program. Then complete the design of the data definitions."
   ]
  },
  {
   "cell_type": "code",
   "execution_count": null,
   "metadata": {},
   "outputs": [],
   "source": []
  },
  {
   "cell_type": "markdown",
   "metadata": {},
   "source": [
    "7. [Step 2b] Now you need to design a function that will read the file (named percent-bachelors-degrees-women-usa.csv) and store the information as data in your program. We have copied the template from the HtDAP page for your reference. At this stage you should complete the read function design. (Note that the below cell will not run without errors as-is because it's a template. You may need to comment out part of it as you are working on read.)"
   ]
  },
  {
   "cell_type": "code",
   "execution_count": null,
   "metadata": {},
   "outputs": [],
   "source": [
    "# Analysis Program Template\n",
    "# If you design a function based on this template (a main or read),\n",
    "# just say \"Template from HtDAP\"\n",
    "\n",
    "from cs103 import *\n",
    "from typing import NamedTuple, List\n",
    "import csv\n",
    "\n",
    "##################\n",
    "# Data Definitions\n",
    "\n",
    "Consumed = ...\n",
    "\n",
    "# List[Consumed]\n",
    "# interp. a list of Consumed\n",
    "\n",
    "LOC0 = []\n",
    "\n",
    "@typecheck\n",
    "def fn_for_loc(loc: List[Consumed]) -> ...:\n",
    "... # choose which template body to use for List[Consumed]\n",
    "\n",
    "Produced = ... # (sometimes you will need a type for the\n",
    "# value(s) that are produced)\n",
    "\n",
    "\n",
    "\n",
    "###########\n",
    "# Functions\n",
    "\n",
    "@typecheck\n",
    "def main(filename: str) -> ...: \n",
    "    \"\"\"\n",
    "    Reads the file from given filename, analyzes the data,\n",
    "    returns the result\n",
    "    \"\"\"\n",
    "    # Template from HtDAP, based on composition\n",
    "    return analyze(read(filename))\n",
    "\n",
    "\n",
    "@typecheck\n",
    "def read(filename: str) -> List[Consumed]:\n",
    "    \"\"\"\n",
    "    reads information from the specified file and returns ...\n",
    "    \"\"\"\n",
    "    # return [] #stub\n",
    "    # Template from HtDAP\n",
    "    # loc contains the result so far\n",
    "    loc = [] # type: List[Consumed]\n",
    "    with open(filename) as csvfile:\n",
    "        reader = csv.reader(csvfile)\n",
    "        next(reader) # skip header line\n",
    "        for row_data in reader:\n",
    "            # you may not need to store all the strings in the\n",
    "            # current row, and you may need to convert some\n",
    "            # of the strings to other types\n",
    "            c = Consumed(row_data[0], ... , row_data[n])\n",
    "            loc.append(c)\n",
    "    return loc\n",
    "\n",
    "@typecheck\n",
    "def analyze(loc: List[Consumed]) -> Produced: # You will often want to rename this function!\n",
    "    \"\"\"\n",
    "    ...\n",
    "    \"\"\"\n",
    "    return ...\n",
    "\n",
    "\n",
    "# Begin testing\n",
    "start_testing()\n",
    "\n",
    "# Examples and tests for main\n",
    "expect(..., ...)\n",
    "\n",
    "# Examples and tests for read\n",
    "expect(..., ...)\n",
    "\n",
    "# Examples and tests for analyze\n",
    "expect(..., ...)\n",
    "\n",
    "# show testing summary\n",
    "summary() # It may be easier to read your tests if you wrap each set in start_testing/summary."
   ]
  },
  {
   "cell_type": "markdown",
   "metadata": {},
   "source": [
    "8. In your project, you will likely have a single information file that is the target information you want to analyse. If your code returns the correct result on that data, it has achieved its purpose. Why bother creating one or more small subsets of that data for testing?"
   ]
  },
  {
   "cell_type": "markdown",
   "metadata": {},
   "source": []
  },
  {
   "cell_type": "markdown",
   "metadata": {},
   "source": [
    "9. [Step 2c] Now design the analyze function. (Note, you should rename it based on the particular analysis that your program will do.) Think about how many helper functions you will need to write, based on your data definitions and the helper rules. Look back through all the work you’ve done so far to help you decide exactly what your function should produce. At this point, you should also complete the main function design. (You can complete this in the cell above between questions 7 and 8.)"
   ]
  },
  {
   "cell_type": "markdown",
   "metadata": {},
   "source": [
    "10. What we choose to report has substantial impact on what others learn from our results. In this problem, we looked at differences in the percentage of degrees that were awarded to women from two disciplines. Explain why the presence of disciplines with very small numbers of students in the program might make this a misleading result."
   ]
  },
  {
   "cell_type": "markdown",
   "metadata": {},
   "source": []
  },
  {
   "cell_type": "markdown",
   "metadata": {},
   "source": [
    "11. Is the planning phase of the HtDAP (How to Design Analysis Programs) recipe helping you design larger programs?"
   ]
  },
  {
   "cell_type": "markdown",
   "metadata": {},
   "source": []
  },
  {
   "cell_type": "markdown",
   "metadata": {},
   "source": [
    "12. If so, how?"
   ]
  },
  {
   "cell_type": "markdown",
   "metadata": {},
   "source": []
  },
  {
   "cell_type": "code",
   "execution_count": null,
   "metadata": {
    "editable": false
   },
   "outputs": [],
   "source": [
    "# NOTE: You should not be able to edit this cell. Just run it to start the process of submiting your code.\n",
    "from cs103 import submit\n",
    "\n",
    "COURSE = 123409\n",
    "ASSIGNMENT = 1615235\n",
    "\n",
    "submit(COURSE, ASSIGNMENT)\n",
    "\n",
    "# If something has gone wrong and you still are not able to submit by running the code above, SUBMIT ANYWAY \n",
    "# by downloading your files and uploading them to Canvas. You can learn how on the page \n",
    "# \"How to submit your Jupyter notebook\" on our Canvas site."
   ]
  }
 ],
 "metadata": {
  "celltoolbar": "Edit Metadata",
  "kernelspec": {
   "display_name": "Python 3 (ipykernel)",
   "language": "python",
   "name": "python3"
  },
  "language_info": {
   "codemirror_mode": {
    "name": "ipython",
    "version": 3
   },
   "file_extension": ".py",
   "mimetype": "text/x-python",
   "name": "python",
   "nbconvert_exporter": "python",
   "pygments_lexer": "ipython3",
   "version": "3.9.13"
  }
 },
 "nbformat": 4,
 "nbformat_minor": 4
}
