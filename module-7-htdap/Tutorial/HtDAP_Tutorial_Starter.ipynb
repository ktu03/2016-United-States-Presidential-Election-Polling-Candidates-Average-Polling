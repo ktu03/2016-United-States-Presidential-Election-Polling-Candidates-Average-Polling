{
 "cells": [
  {
   "cell_type": "code",
   "execution_count": 2,
   "metadata": {},
   "outputs": [],
   "source": [
    "from cs103 import *"
   ]
  },
  {
   "cell_type": "markdown",
   "metadata": {},
   "source": [
    "# Tutorial Starter - Analysis Programs\n",
    "\n",
    "## Pre-Tutorial Work\n",
    "\n",
    "None this week"
   ]
  },
  {
   "cell_type": "markdown",
   "metadata": {},
   "source": [
    "## Overview\n",
    "\n",
    "We are again continuing to use the file  containing information about government grants.\n",
    "\n",
    "Take a look at the file [report-government-grant-year-to-date.csv](report-government-grant-year-to-date.csv) in this notebook's folder to see how it is structured. Two files containing small subsets of this information have also been  provided for testing purposes:\n",
    "* [report-government-grant-year-to-date-test1.csv](report-government-grant-year-to-date-test1.csv) and\n",
    "* [report-government-grant-year-to-date-test2.csv](report-government-grant-year-to-date-test2.csv). \n",
    "\n",
    "(You may find that the file downloads to your computer instead of opening in the browser.  In that case, locate the downloaded `.csv` file and open it with a spreadsheet program, such as Microsoft Excel or Apple Numbers.  You can also find the original information [here](https://catalogue.data.gov.bc.ca/dataset/gaming-grants-paid-to-community-organizations/).)\n",
    "\n",
    "Now that you have looked at the complete file, we'll complete the planning steps of the HtDAP recipe. "
   ]
  },
  {
   "cell_type": "markdown",
   "metadata": {},
   "source": [
    "## Step 1: Planning\n",
    "#### Step 1a: Identify the information in the file your program will read\n",
    "The file contains information about BC community gaming grants between April 1, 2017 and July 13, 2018. For each grant, the city, organization name, payment amount (in CAD), grant type, and grant sector (area) is included."
   ]
  },
  {
   "cell_type": "markdown",
   "metadata": {},
   "source": [
    "#### Step 1b: Write a description of what your program will produce\n",
    "\n",
    "Here are some ideas of what a program operating on this information might produce:\n",
    "* We might find the city that received the most grant money.\n",
    "* We might find the area that received the largest number of grants.\n",
    "* We might find the area that received the largest single grant.\n",
    "* We might find the total amount of grant money allocated to the city of Vancouver.\n",
    "* We might find the average amount of grant money allocated to the grant area Arts and Culture.\n",
    "* We might find the amount of the largest grant allocated to the grant area Sport.\n",
    "\n",
    "We are going to focus on the last idea and find the amount of the largest grant allocated to the grant area Sport."
   ]
  },
  {
   "cell_type": "markdown",
   "metadata": {},
   "source": [
    "#### Step 1c: Write or draw examples of what your program will produce\n",
    "Here's an  example that shows the kind of output we expect from this program:\n",
    "```python\n",
    "expect(main('report-government-grant-year-to-date.csv'), 12450)\n",
    "```\n",
    "\n",
    "The value shown here is just an example, demonstrating the expected format.  The value `12450` was chosen arbitrarily."
   ]
  },
  {
   "cell_type": "markdown",
   "metadata": {},
   "source": [
    "## Problem 1\n",
    "\n",
    "Now it's time to start building the program. Using the planning steps completed above, determine the information that you will need to represent in your program as data. \n",
    "\n",
    "You must clearly state which pieces of information you will choose to repesent. You should refer to the previous data definitions that we've used, but only store the information that you'll need to solve this particular problem. **However**, we want it to be easy – **without changing the `read` function or data definitions** – to switch to finding the largest grant money from another grant area. (This may impact what you store as data!)\n",
    "\n",
    "Then complete the design of data definition(s) to represent that information. "
   ]
  },
  {
   "cell_type": "code",
   "execution_count": null,
   "metadata": {},
   "outputs": [],
   "source": [
    "# your solution goes here\n",
    "\n"
   ]
  },
  {
   "cell_type": "markdown",
   "metadata": {},
   "source": [
    "## Problem 2a\n",
    "\n",
    "Once you have your data definition(s) from Problem 1, design a function that reads\n",
    "the information from the file and stores it as data in your program. \n",
    "\n",
    "You should begin by copying the template from the HtDAP page, then complete the \n",
    "design of the `main` and `read` functions (but not the analysis helper function for `main`). When testing your functions, you may use the provided testing files:\n",
    "* [report-government-grant-year-to-date-test1.csv](report-government-grant-year-to-date-test1.csv) and\n",
    "* [report-government-grant-year-to-date-test2.csv](report-government-grant-year-to-date-test2.csv). \n"
   ]
  },
  {
   "cell_type": "code",
   "execution_count": null,
   "metadata": {},
   "outputs": [],
   "source": [
    "import csv\n",
    "\n",
    "# your solution goes here\n",
    "\n"
   ]
  },
  {
   "cell_type": "markdown",
   "metadata": {
    "collapsed": true
   },
   "source": [
    "## Problem 2b\n",
    "\n",
    "To finish your program, complete the design of the analysis function(s). For this particular problem, find the largest amount of grant money allocated to the area Sport.\n",
    "\n",
    "Think about your data definitions and the helper rules to determine how many helper functions you will need to write when designing this function. "
   ]
  },
  {
   "cell_type": "code",
   "execution_count": null,
   "metadata": {},
   "outputs": [],
   "source": [
    "# RETURN to the cell above to complete your design of the analysis functions.\n",
    "# Do not design them here.\n",
    "\n",
    "# Call your program with the full dataset to determine the largest grant money allocated to the area Sport.\n"
   ]
  },
  {
   "cell_type": "markdown",
   "metadata": {},
   "source": [
    "## Submit your solution"
   ]
  },
  {
   "cell_type": "code",
   "execution_count": null,
   "metadata": {
    "deletable": false,
    "editable": false
   },
   "outputs": [],
   "source": [
    "# NOTE: You should not be able to edit this cell. Just run it to start the process of submiting your code.\n",
    "from cs103 import submit\n",
    "\n",
    "COURSE = 123409\n",
    "ASSIGNMENT = 1615232\n",
    "\n",
    "submit(COURSE, ASSIGNMENT)\n",
    "\n",
    "# If your submission fails, SUBMIT ANYWAY by downloading your files and uploading them to \n",
    "# Canvas. You can learn how on the page \"How to submit your Jupyter notebook\" on our \n",
    "# Canvas site."
   ]
  }
 ],
 "metadata": {
  "kernelspec": {
   "display_name": "Python 3 (ipykernel)",
   "language": "python",
   "name": "python3"
  },
  "language_info": {
   "codemirror_mode": {
    "name": "ipython",
    "version": 3
   },
   "file_extension": ".py",
   "mimetype": "text/x-python",
   "name": "python",
   "nbconvert_exporter": "python",
   "pygments_lexer": "ipython3",
   "version": "3.11.4"
  }
 },
 "nbformat": 4,
 "nbformat_minor": 2
}
