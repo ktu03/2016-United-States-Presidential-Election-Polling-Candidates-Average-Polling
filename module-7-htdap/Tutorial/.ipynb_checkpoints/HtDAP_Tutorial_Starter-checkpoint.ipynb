{
 "cells": [
  {
   "cell_type": "code",
   "execution_count": 39,
   "metadata": {},
   "outputs": [],
   "source": [
    "from cs103 import *"
   ]
  },
  {
   "cell_type": "markdown",
   "metadata": {},
   "source": [
    "# Tutorial Starter - Analysis Programs\n",
    "\n",
    "## Pre-Tutorial Work\n",
    "\n",
    "None this week"
   ]
  },
  {
   "cell_type": "markdown",
   "metadata": {},
   "source": [
    "## Overview\n",
    "\n",
    "We are again continuing to use the file  containing information about government grants.\n",
    "\n",
    "Take a look at the file [report-government-grant-year-to-date.csv](report-government-grant-year-to-date.csv) in this notebook's folder to see how it is structured. Two files containing small subsets of this information have also been  provided for testing purposes:\n",
    "* [report-government-grant-year-to-date-test1.csv](report-government-grant-year-to-date-test1.csv) and\n",
    "* [report-government-grant-year-to-date-test2.csv](report-government-grant-year-to-date-test2.csv). \n",
    "\n",
    "(You may find that the file downloads to your computer instead of opening in the browser.  In that case, locate the downloaded `.csv` file and open it with a spreadsheet program, such as Microsoft Excel or Apple Numbers.  You can also find the original information [here](https://catalogue.data.gov.bc.ca/dataset/gaming-grants-paid-to-community-organizations/).)\n",
    "\n",
    "Now that you have looked at the complete file, we'll complete the planning steps of the HtDAP recipe. "
   ]
  },
  {
   "cell_type": "markdown",
   "metadata": {},
   "source": [
    "## Step 1: Planning\n",
    "#### Step 1a: Identify the information in the file your program will read\n",
    "The file contains information about BC community gaming grants between April 1, 2017 and July 13, 2018. For each grant, the city, organization name, payment amount (in CAD), grant type, and grant sector (area) is included."
   ]
  },
  {
   "cell_type": "markdown",
   "metadata": {},
   "source": [
    "#### Step 1b: Write a description of what your program will produce\n",
    "\n",
    "Here are some ideas of what a program operating on this information might produce:\n",
    "* We might find the city that received the most grant money.\n",
    "* We might find the area that received the largest number of grants.\n",
    "* We might find the area that received the largest single grant.\n",
    "* We might find the total amount of grant money allocated to the city of Vancouver.\n",
    "* We might find the average amount of grant money allocated to the grant area Arts and Culture.\n",
    "* We might find the amount of the largest grant allocated to the grant area Sport.\n",
    "\n",
    "We are going to focus on the last idea and find the amount of the largest grant allocated to the grant area Sport."
   ]
  },
  {
   "cell_type": "markdown",
   "metadata": {},
   "source": [
    "#### Step 1c: Write or draw examples of what your program will produce\n",
    "Here's an  example that shows the kind of output we expect from this program:\n",
    "```python\n",
    "expect(main('report-government-grant-year-to-date.csv'), 12450)\n",
    "```\n",
    "\n",
    "The value shown here is just an example, demonstrating the expected format.  The value `12450` was chosen arbitrarily."
   ]
  },
  {
   "cell_type": "markdown",
   "metadata": {},
   "source": [
    "## Problem 1\n",
    "\n",
    "Now it's time to start building the program. Using the planning steps completed above, determine the information that you will need to represent in your program as data. \n",
    "\n",
    "You must clearly state which pieces of information you will choose to repesent. You should refer to the previous data definitions that we've used, but only store the information that you'll need to solve this particular problem. **However**, we want it to be easy – **without changing the `read` function or data definitions** – to switch to finding the largest grant money from another grant area. (This may impact what you store as data!)\n",
    "\n",
    "Then complete the design of data definition(s) to represent that information. "
   ]
  },
  {
   "cell_type": "code",
   "execution_count": 40,
   "metadata": {},
   "outputs": [],
   "source": [
    "# your solution goes here\n",
    "\n",
    "#the grant area and amount will be used\n",
    "\n",
    "from typing import NamedTuple, List\n",
    "\n",
    "GovernmentGrant = NamedTuple('GovernmentGrant', [('area', str),       \n",
    "                                                 ('amt', int)])     # in range[0, ...)\n",
    "# interp. government grant data from BC that includes the grant area ('area') and payment amount ('amt') \n",
    "#in CAD\n",
    "\n",
    "SPORTS_ONE = GovernmentGrant('Sports',16500)\n",
    "ARTS_ONE = GovernmentGrant('Arts',17560)\n",
    "HUMAN_RESOURCES = GovernmentGrant('Human and Social Services', 14379)\n",
    "\n",
    "# template based on compound\n",
    "def fn_for_government_grant(gg: GovernmentGrant) -> ...:\n",
    "    return ...(gg.area,\n",
    "               gg.amt)\n",
    "\n",
    "# List[GovernmentGrant]\n",
    "# interp. a list of government grants\n",
    "\n",
    "L0 = []\n",
    "L1 = [SPORTS_ONE,ARTS_ONE,HUMAN_RESOURCES]\n",
    "\n",
    "# template based on arbitrary-sized and the reference rule\n",
    "def fn_for_logg(logg: List[GovernmentGrant]) -> ...:\n",
    "    # description of the acc\n",
    "    acc = ... # type: ...\n",
    "    for gg in logg:\n",
    "        acc = ...(acc, fn_for_government_grant(gg))\n",
    "    return ...(acc)"
   ]
  },
  {
   "cell_type": "markdown",
   "metadata": {},
   "source": [
    "## Problem 2a\n",
    "\n",
    "Once you have your data definition(s) from Problem 1, design a function that reads\n",
    "the information from the file and stores it as data in your program. \n",
    "\n",
    "You should begin by copying the template from the HtDAP page, then complete the \n",
    "design of the `main` and `read` functions (but not the analysis helper function for `main`). When testing your functions, you may use the provided testing files:\n",
    "* [report-government-grant-year-to-date-test1.csv](report-government-grant-year-to-date-test1.csv) and\n",
    "* [report-government-grant-year-to-date-test2.csv](report-government-grant-year-to-date-test2.csv). \n"
   ]
  },
  {
   "cell_type": "code",
   "execution_count": 67,
   "metadata": {},
   "outputs": [
    {
     "name": "stdout",
     "output_type": "stream",
     "text": [
      "\u001b[92m33 of 33 tests passed\u001b[0m\n"
     ]
    }
   ],
   "source": [
    "import csv\n",
    "\n",
    "# your solution goes here\n",
    "\n",
    "#Template from HtDAP\n",
    "\n",
    "\n",
    "@typecheck\n",
    "def filter_for_grant_area(logg: List[GovernmentGrant], grant_area: str) -> List[GovernmentGrant]:\n",
    "    \"\"\"\n",
    "    Reads the given list of government grants (logg) and returns a filtered list that only includes\n",
    "    government grants from the given grant area (grant_area)\n",
    "    \"\"\"\n",
    "    #return [] #stub\n",
    "    #template from List[GovernmentGrant] with additional parameter str\n",
    "    #grant_area_grants is the list of government grants from logg \n",
    "    #that have a grant area of grant_area seen so far\n",
    "    grant_area_grants = [] #type: List[GovernmentGrant]\n",
    "    \n",
    "    for gg in logg:\n",
    "        if does_area_match(gg.area, grant_area):\n",
    "            grant_area_grants.append(gg)\n",
    "    return grant_area_grants\n",
    "\n",
    "@typecheck\n",
    "def does_area_match(area1: str, area2: str) -> bool:\n",
    "    \"\"\"\n",
    "    returns True if area1 is the same as area2,\n",
    "    False otherwise\n",
    "    \"\"\"\n",
    "    #return True #stub\n",
    "    #template from atomic non-distinct\n",
    "    #return...(area1,area2)\n",
    "    return area1==area2\n",
    "\n",
    "@typecheck\n",
    "def find_largest_amount(logg: List[GovernmentGrant]) -> int:\n",
    "    \"\"\"\n",
    "    returns the largest amount of the government grants in logg\n",
    "    If there is a tie, the government grant processed earlier is the largest one identified\n",
    "    \"\"\"\n",
    "    #return 0 #stub\n",
    "    #template from List[GovernmentGrant]\n",
    "    #largest is the largest amount of a government grant seen so far in logg\n",
    "    largest = 0 #type: int\n",
    "    for gg in logg:\n",
    "        if is_larger(gg.amt,largest):\n",
    "            largest = gg.amt\n",
    "    return largest\n",
    "\n",
    "@typecheck\n",
    "def is_larger(n1: int, n2: int) -> bool:\n",
    "    \"\"\"\n",
    "    returns True if n1 is larger than n2, \n",
    "    False otherwise\n",
    "    \"\"\"\n",
    "    #return False #stub\n",
    "    #template from atomic non-distinct\n",
    "    #return...(n1, n2)\n",
    "    return n1>n2\n",
    "    \n",
    "    \n",
    "\n",
    "@typecheck\n",
    "\n",
    "def find_largest_grant_in_area(logg: List[GovernmentGrant], grant_area: str) -> int:\n",
    "    \"\"\"\n",
    "    Reads the government grants from the given filename and returns the largest amount of a government grant from \n",
    "    the given grant area (grant_area)\n",
    "    If there is a tie, the government grant processed earlier is the largest one identified\n",
    "    \"\"\"\n",
    "    #return 0 #stub\n",
    "    #template from composition\n",
    "    only_grants_of_grant_area = filter_for_grant_area(logg, grant_area)\n",
    "    \n",
    "    largest_amount = find_largest_amount(only_grants_of_grant_area)\n",
    "    \n",
    "    return largest_amount\n",
    "    \n",
    "    \n",
    "    \n",
    "    \n",
    "    \n",
    "@typecheck\n",
    "\n",
    "def is_reliable(row: List[str]) -> bool:\n",
    "    \"\"\"\n",
    "    returns True if row[2] is the string form of an integer above 0\n",
    "    \n",
    "    ASSUMES: row is a full row of values from a government grant information file\n",
    "    Specifically, row[2] and row[4] must exist \n",
    "    \n",
    "    If row[2] is not an integer above 0 than it is not reliable as it does not represent a payment amount for a government grant (you cannot pay 0)\n",
    "    \"\"\"\n",
    "    #return True #stub\n",
    "    #template treats row as atomic and uses indexing\n",
    "    #return...(row) #template\n",
    "    return (row[2][0]==\"1\") or (row[2][0]==\"2\") or (row[2][0]==\"3\") or (row[2][0]==\"4\") or (row[2][0]==\"5\") or (row[2][0]==\"6\") or (row[2][0]==\"7\") or (row[2][0]==\"8\") or (row[2][0]==\"9\")\n",
    "\n",
    "@typecheck\n",
    "def main(filename: str, grant_area: str) -> int:\n",
    "    \"\"\"\n",
    "    Reads the government grants from the given filename and returns the largest amount of a government grant from \n",
    "    the given grant area (grant_area)\n",
    "    If there is a tie, \n",
    "    \"\"\"\n",
    "    #return 0 #stub\n",
    "    # Template from HtDAP, based on composition\n",
    "    return find_largest_grant_in_area(read(filename), grant_area)\n",
    "    \n",
    "\n",
    "\n",
    "@typecheck\n",
    "def read(filename: str) -> List[GovernmentGrant]:\n",
    "    \"\"\"    \n",
    "    reads information from the specified file and returns a list of government grants\n",
    "    \"\"\"\n",
    "    # return []  #stub\n",
    "    # Template from HtDAP\n",
    "    # logg contains the result so far\n",
    "    logg = [] # type: List[GovernmentGrant]\n",
    "\n",
    "    with open(filename) as csvfile:\n",
    "        \n",
    "        reader = csv.reader(csvfile)\n",
    "        next(reader) # skip header line\n",
    "\n",
    "        for row in reader:\n",
    "            # you may not need to store all the strings in the \n",
    "            # current row, and you may need to convert some\n",
    "            # of the strings to other types\n",
    "            if is_reliable(row):\n",
    "                gg = GovernmentGrant(row[4],parse_int(row[2]))\n",
    "                logg.append(gg)\n",
    "    \n",
    "    return logg\n",
    "\n",
    "\n",
    "# Begin testing\n",
    "start_testing()\n",
    "\n",
    "# Examples and tests for main\n",
    "expect(main(\"report-government-grant-year-to-date-test1.csv\",\"Sport\"),28500)\n",
    "expect(main(\"report-government-grant-year-to-date-test1.csv\",\"Arts and Culture\"),3000)\n",
    "expect(main(\"report-government-grant-year-to-date-test1.csv\",\"Human and Social Services\"),5000)\n",
    "expect(main(\"report-government-grant-year-to-date-test2.csv\",\"Sport\"),15000)\n",
    "expect(main(\"report-government-grant-year-to-date-test2.csv\",\"Arts and Culture\"),16500)\n",
    "expect(main(\"report-government-grant-year-to-date-test2.csv\",\"Human and Social Services\"),36000)\n",
    "expect(main(\"report-government-grant-year-to-date-test2.csv\",\"Human and Hospitality Services\"),0)\n",
    "\n",
    "# Examples and tests for read\n",
    "expect(read(\"report-government-grant-year-to-date-test1.csv\"),[GovernmentGrant(\"Sport\",28500),\n",
    "                                                               GovernmentGrant(\"Arts and Culture\",3000),\n",
    "                                                              GovernmentGrant(\"Human and Social Services\",5000)])\n",
    "expect(read(\"report-government-grant-year-to-date-test2.csv\"),[GovernmentGrant(\"Sport\",15000),\n",
    "                                                               GovernmentGrant(\"Human and Social Services\",36000),\n",
    "                                                              GovernmentGrant(\"Arts and Culture\",16500),\n",
    "                                                              GovernmentGrant(\"Arts and Culture\",13000)])\n",
    "\n",
    "#Examples and tests for is_reliable\n",
    "expect(is_reliable([\"Burnaby\",\"Sports Club Burnaby\",\"3000\",\"Community Gaming Grant\",\"Sport\"]), True)\n",
    "expect(is_reliable([\"Richmond\",\"Arts Club Richmond\",\"Hi\",\"Community Gaming Grant\",\"Arts and Culture\"]), False)\n",
    "expect(is_reliable([\"Victoria\",\"People's Club Victoria\",\"0\",\"Community Gaming Grant\",\"0\"]), False)\n",
    "\n",
    "#Examples and tests for find_largest_grant_in_area\n",
    "expect(find_largest_grant_in_area([GovernmentGrant(\"Sport\",76000),\n",
    "                                   GovernmentGrant(\"Arts and Culture\",76000),\n",
    "                                  GovernmentGrant(\"Human and Social Services\",72)],\"Sport\"),76000)\n",
    "expect(find_largest_grant_in_area([GovernmentGrant(\"Sport\",76000),\n",
    "                                   GovernmentGrant(\"Arts and Culture\",76000),\n",
    "                                  GovernmentGrant(\"Human and Social Services\",72)],\"Arts and Culture\"),76000)\n",
    "expect(find_largest_grant_in_area([GovernmentGrant(\"Sport\",76000),\n",
    "                                   GovernmentGrant(\"Arts and Culture\",76000),\n",
    "                                  GovernmentGrant(\"Human and Social Services\",72)],\"Human and Social Services\"),72)\n",
    "expect(find_largest_grant_in_area([GovernmentGrant(\"Sport\",76000),\n",
    "                                   GovernmentGrant(\"Arts and Culture\",76000),\n",
    "                                  GovernmentGrant(\"Human and Social Services\",72),\n",
    "                                  GovernmentGrant(\"Sport\",87000),\n",
    "                                  GovernmentGrant(\"Sport\",65000),\n",
    "                                  GovernmentGrant(\"Arts and Culture\",679),\n",
    "                                  GovernmentGrant(\"Human and Social Services\",6000)],\"Sport\"),87000)\n",
    "expect(find_largest_grant_in_area([GovernmentGrant(\"Sport\",76000),\n",
    "                                   GovernmentGrant(\"Arts and Culture\",76000),\n",
    "                                  GovernmentGrant(\"Human and Social Services\",72),\n",
    "                                  GovernmentGrant(\"Sport\",87000),\n",
    "                                  GovernmentGrant(\"Sport\",65000),\n",
    "                                  GovernmentGrant(\"Arts and Culture\",679),\n",
    "                                  GovernmentGrant(\"Human and Social Services\",6000)],\"Arts and Culture\"),76000)\n",
    "expect(find_largest_grant_in_area([GovernmentGrant(\"Sport\",76000),\n",
    "                                   GovernmentGrant(\"Arts and Culture\",76000),\n",
    "                                  GovernmentGrant(\"Human and Social Services\",72),\n",
    "                                  GovernmentGrant(\"Sport\",87000),\n",
    "                                  GovernmentGrant(\"Sport\",65000),\n",
    "                                  GovernmentGrant(\"Arts and Culture\",679),\n",
    "                                  GovernmentGrant(\"Human and Social Services\",6000)],\"Human and Social Services\"),6000)\n",
    "expect(find_largest_grant_in_area([GovernmentGrant(\"Sport\",76000),\n",
    "                                  GovernmentGrant(\"Sport\",87000),\n",
    "                                  GovernmentGrant(\"Sport\",65000),\n",
    "                                  GovernmentGrant(\"Human and Social Services\",6000)],\"Arts and Culture\"),0)\n",
    "expect(find_largest_grant_in_area([GovernmentGrant(\"Sport\",87000),\n",
    "                                   GovernmentGrant(\"Arts and Culture\",76000),\n",
    "                                  GovernmentGrant(\"Human and Social Services\",72),\n",
    "                                  GovernmentGrant(\"Sport\",87000),\n",
    "                                  GovernmentGrant(\"Sport\",65000),\n",
    "                                  GovernmentGrant(\"Arts and Culture\",679),\n",
    "                                  GovernmentGrant(\"Human and Social Services\",6000)],\"Sport\"),87000)\n",
    "expect(find_largest_grant_in_area([],\"Sport\"),0)\n",
    "\n",
    "#Examples and tests for is_larger\n",
    "expect(is_larger(0,1), False)\n",
    "expect(is_larger(2,1), True)\n",
    "expect(is_larger(1,1), False)\n",
    "\n",
    "#Examples and tests for find_largest_amount\n",
    "\n",
    "expect(find_largest_amount([GovernmentGrant(\"Arts and Culture\",7000),\n",
    "                                   GovernmentGrant(\"Arts and Culture\",8000),\n",
    "                                  GovernmentGrant(\"Human and Social Services\",72)]),8000)\n",
    "expect(find_largest_amount([GovernmentGrant(\"Sport\",7000),\n",
    "                                   GovernmentGrant(\"Sport\",7000),\n",
    "                                  GovernmentGrant(\"Human and Social Services\",6858)]),7000)\n",
    "expect(find_largest_amount([]),0)\n",
    "\n",
    "#Examples and tests for does_area_match\n",
    "expect(does_area_match(\"Sport\",\"Sport\"), True)\n",
    "expect(does_area_match(\"Sport\",\"Arts and Culture\"), False)\n",
    "\n",
    "#Examples and tests for does_area_match\n",
    "\n",
    "#Examples and tests for filter_for_grant_area\n",
    "expect(filter_for_grant_area([], \"Sport\"),[])\n",
    "expect(filter_for_grant_area([GovernmentGrant(\"Sport\",87000),\n",
    "                                   GovernmentGrant(\"Arts and Culture\",76000),\n",
    "                                  GovernmentGrant(\"Human and Social Services\",72),\n",
    "                                  GovernmentGrant(\"Sport\",87000),\n",
    "                                  GovernmentGrant(\"Sport\",65000),\n",
    "                                  GovernmentGrant(\"Arts and Culture\",679),\n",
    "                                  GovernmentGrant(\"Human and Social Services\",6000)], \"Sport\"),\n",
    "                                   [GovernmentGrant(\"Sport\",87000),\n",
    "                                    GovernmentGrant(\"Sport\",87000),\n",
    "                                    GovernmentGrant(\"Sport\",65000)])\n",
    "expect(filter_for_grant_area([GovernmentGrant(\"Human and Social Services\",87000),\n",
    "                                   GovernmentGrant(\"Human and Social Services\",76000),\n",
    "                                  GovernmentGrant(\"Human and Social Services\",72),\n",
    "                                  GovernmentGrant(\"Sport\",87000),\n",
    "                                  GovernmentGrant(\"Sport\",65000),\n",
    "                                  GovernmentGrant(\"Human and Social Services\",679),\n",
    "                                  GovernmentGrant(\"Human and Social Services\",6000)], \"Arts and Culture\"),\n",
    "                                   [])\n",
    "expect(filter_for_grant_area([GovernmentGrant(\"Human and Social Services\",87000),\n",
    "                                   GovernmentGrant(\"Arts and Culture\",76000),\n",
    "                                  GovernmentGrant(\"Sport\",72),\n",
    "                                  GovernmentGrant(\"Sport\",87000),\n",
    "                                  GovernmentGrant(\"Sport\",65000),\n",
    "                                  GovernmentGrant(\"Sport\",679),\n",
    "                                  GovernmentGrant(\"Arts and Culture\",6000)], \"Human and Social Services\"),\n",
    "                                   [GovernmentGrant(\"Human and Social Services\",87000)])\n",
    "# show testing summary\n",
    "summary()  # It may be easier to read your tests if you wrap each set in start_testing/summary.\n"
   ]
  },
  {
   "cell_type": "markdown",
   "metadata": {
    "collapsed": true
   },
   "source": [
    "## Problem 2b\n",
    "\n",
    "To finish your program, complete the design of the analysis function(s). For this particular problem, find the largest amount of grant money allocated to the area Sport.\n",
    "\n",
    "Think about your data definitions and the helper rules to determine how many helper functions you will need to write when designing this function. "
   ]
  },
  {
   "cell_type": "code",
   "execution_count": 70,
   "metadata": {},
   "outputs": [
    {
     "data": {
      "text/plain": [
       "250000"
      ]
     },
     "execution_count": 70,
     "metadata": {},
     "output_type": "execute_result"
    }
   ],
   "source": [
    "# RETURN to the cell above to complete your design of the analysis functions.\n",
    "# Do not design them here.\n",
    "\n",
    "# Call your program with the full dataset to determine the largest grant money allocated to the area Sport.\n",
    "main(\"report-government-grant-year-to-date.csv\", \"Sport\")"
   ]
  },
  {
   "cell_type": "markdown",
   "metadata": {},
   "source": [
    "## Submit your solution"
   ]
  },
  {
   "cell_type": "code",
   "execution_count": 43,
   "metadata": {
    "deletable": false,
    "editable": false
   },
   "outputs": [
    {
     "data": {
      "application/vnd.jupyter.widget-view+json": {
       "model_id": "2c857b03eac347b59385d3191c7f57f8",
       "version_major": 2,
       "version_minor": 0
      },
      "text/plain": [
       "Valid(value=True, description='Token')"
      ]
     },
     "metadata": {},
     "output_type": "display_data"
    },
    {
     "data": {
      "application/vnd.jupyter.widget-view+json": {
       "model_id": "2779cc5752f94fff84edad5f76b56753",
       "version_major": 2,
       "version_minor": 0
      },
      "text/plain": [
       "SelectMultiple(description='Files', index=(0,), layout=Layout(height='100%', width='50%'), options=('HtDAP_Tut…"
      ]
     },
     "metadata": {},
     "output_type": "display_data"
    },
    {
     "data": {
      "application/vnd.jupyter.widget-view+json": {
       "model_id": "d3c6e68f8423456f932f1b4bb2f99e8b",
       "version_major": 2,
       "version_minor": 0
      },
      "text/plain": [
       "Button(description='submit', icon='check', style=ButtonStyle(), tooltip='submit')"
      ]
     },
     "metadata": {},
     "output_type": "display_data"
    }
   ],
   "source": [
    "# NOTE: You should not be able to edit this cell. Just run it to start the process of submiting your code.\n",
    "from cs103 import submit\n",
    "\n",
    "COURSE = 123409\n",
    "ASSIGNMENT = 1615232\n",
    "\n",
    "submit(COURSE, ASSIGNMENT)\n",
    "\n",
    "# If your submission fails, SUBMIT ANYWAY by downloading your files and uploading them to \n",
    "# Canvas. You can learn how on the page \"How to submit your Jupyter notebook\" on our \n",
    "# Canvas site."
   ]
  }
 ],
 "metadata": {
  "kernelspec": {
   "display_name": "Python 3 (ipykernel)",
   "language": "python",
   "name": "python3"
  },
  "language_info": {
   "codemirror_mode": {
    "name": "ipython",
    "version": 3
   },
   "file_extension": ".py",
   "mimetype": "text/x-python",
   "name": "python",
   "nbconvert_exporter": "python",
   "pygments_lexer": "ipython3",
   "version": "3.11.4"
  }
 },
 "nbformat": 4,
 "nbformat_minor": 2
}
