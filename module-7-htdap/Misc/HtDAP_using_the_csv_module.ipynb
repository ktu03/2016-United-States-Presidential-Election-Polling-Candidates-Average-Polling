{
 "cells": [
  {
   "cell_type": "markdown",
   "metadata": {},
   "source": [
    "# Using the `csv` Module\n",
    "\n",
    "When you are designing an analysis program, you will need to read information from a file. There are many ways to do this; in CPSC 103 we recommend that you use Python's `csv` module. \n",
    "\n",
    "This notebook will provide some explanation of how you can use the `csv` module. For our example, we'll use the information in the `csv` (\"Comma-Separated Values\") file named `csv_module_example.csv`. The file contains some information about children, their ages, and their favourite fruit. You should download it from edX (it's in the same unit as this notebook) and upload it to Jupyter. Make sure it's in the same Jupyter folder as this notebook, otherwise you'll get an error when you try to read the file.\n",
    "\n",
    "Here is the information that is in the file:\n",
    "\n",
    "    Name        Age    Favourite Fruit\n",
    "    Alyaa       12     apple\n",
    "    Benjamin    3      \n",
    "    Qian        7      banana\n",
    "    Ying        4      nectarine\n",
    "    Jae         9      cantaloupe\n",
    "    Helen       10.2   watermelon\n",
    "\n",
    "By the time you get to Step 2b (design a function to read the information and store it as data in your program), you will already have done a lot of work for your analysis program. For example, you will have already defined the data definitions that you'll use to store the information as data in your program. \n",
    "\n",
    "Note that this sample information is not perfectly clean. It's missing Benjamin's favourite fruit and Helen's age is listed as `10.2` whereas all the other ages are listed in whole numbers. When we designed our data definitions, we had to decide how we would store the information as data. We chose to store the age as an `Optional[int]`. With this choice, if we don't get the kind of data we expect, we'll store `None`. We chose to store the `fav_fruit` as a string. If one of the pieces of information is missing (as it is for Benjamin), we'll store the empty string. We could have made different choices. For example, if the information was really key to the problem that we were trying to solve we could have chosen to discard any row that was missing the information. \n",
    "\n",
    "Here are the two data definitions that we'll need."
   ]
  },
  {
   "cell_type": "code",
   "execution_count": 1,
   "metadata": {},
   "outputs": [],
   "source": [
    "from typing import List, NamedTuple, Optional\n",
    "import csv\n",
    "from cs103 import *\n",
    "\n",
    "Child = NamedTuple('Child', [('name', str),\n",
    "                             ('age', Optional[int]),\n",
    "                             ('fav_fruit', str)])\n",
    "# interp. a child with his/her name, age, and favourite fruit\n",
    "\n",
    "ALYAA = Child('Alyaa', 12, 'apple')\n",
    "BENJAMIN = Child('Benjamin', 3, '')\n",
    "\n",
    "# template based on compound\n",
    "@typecheck\n",
    "def fn_for_child(c: Child) -> ...:\n",
    "    return ...(c.name, \n",
    "               c.age,\n",
    "               c.fav_fruit)\n",
    "\n",
    "\n",
    "# List[Child]\n",
    "# interp. a list of children\n",
    "\n",
    "LOC0 = []\n",
    "LOC1 = [ALYAA, BENJAMIN]\n",
    "\n",
    "# template based on arbitrary-sized and the reference rule\n",
    "@typecheck\n",
    "def fn_for_loc(loc: List[Child]) -> ...:\n",
    "    # description of the acc\n",
    "    acc = ... # type: ...\n",
    "    for c in loc:\n",
    "        ...(acc, fn_for_child(c))\n",
    "    return ...(acc)"
   ]
  },
  {
   "cell_type": "markdown",
   "metadata": {},
   "source": [
    "Now that we have some sample data definitions that we can use to store the information from our file as data in our program, let's read the data!\n",
    "\n",
    "Here is the template for read from the How to Design Analysis Programs template:\n",
    "\n",
    "```python\n",
    "@typecheck\n",
    "def read(filename: str) -> List[Consumed]:\n",
    "    \"\"\"    \n",
    "    reads information from the specified file and returns ...\n",
    "    \"\"\"\n",
    "    #return []  #stub\n",
    "    # Template from HtDAP\n",
    "    # loc contains the result so far\n",
    "    loc = [] # type: List[Consumed]\n",
    "\n",
    "    with open(filename) as csvfile:\n",
    "        \n",
    "        reader = csv.reader(csvfile, delimiter=',')\n",
    "        next(reader) # skip header line\n",
    "\n",
    "        for row in reader:\n",
    "            # you may not need to store all the strings in the \n",
    "            # current row, and you may need to convert some\n",
    "            # of the strings to other types\n",
    "            c = Consumed(row[0], ... ,row[n])\n",
    "            loc.append(c)\n",
    "    \n",
    "    return loc\n",
    "```\n",
    "\n",
    "**Note:** if you run that code in a cell you will get an error since the type Consumed isn't defined. That's ok because when we update the function we'll update the return type to match our specific example."
   ]
  },
  {
   "cell_type": "markdown",
   "metadata": {},
   "source": [
    "We'll take a few steps to fill out this template for our particular information source.\n",
    "\n",
    "**Set Up the Accumulator**\n",
    "\n",
    "The first thing we need to update is the type, and possibly the name, of the accumulator. This is the variable that you'll use to store the data as you read the information in from the file. In our case, we're reading information about children and want our function to return a list of children.\n",
    "\n",
    "So, we'll use the type `List[Child]` for our accumulator.\n",
    "\n",
    "**Skip Header Lines**\n",
    "\n",
    "We next need to look at our information file and check how many header lines it contains. A header line is a line that does not contain information that we want to store as data in our program. There is usually one header line that contains the headings for each column in the csv file, but some files have more header lines and some have none. If our file had no header lines, we'd want to remove `next(reader) # skip header line` from the template. If our file had three header lines, we'd need to add in two more calls to `next(reader)` so that we'd skip all the header lines.\n",
    "\n",
    "Our csv file has one header line; so, we'll leave the single `next(reader)` line in place.\n",
    "\n",
    "**Convert Each Needed Piece of Information**\n",
    "\n",
    "Now we need to decide what we need to do for each individual piece of information. The csv reader allows us to loop over the rows in the file with a for loop, just as we usually do with arbitrary-sized data. It gives us access to each row in the file as a `List[str]` and we can access individual pieces of information by indexing into the list. For example, we can access the name of a child with `row[0]`, since the name is the first piece of information in each row. Similarly, we can access the age of a child, represented as a string, with `row[1]`.  Since the age of a child is a number we need to use the `parse_int` function to convert the string in `row[1]` to an `int`. If it can't be converted to an `int`, `parse_int` will return `None`. There may be more pieces of information in each row of the file than you actually need. For example, even if your information file contains 10 columns, you may only want to store four of them as data in your program. If that's the case, you just need to carefully choose which elements from the list you need to access.\n",
    "\n",
    "In our case, we need all three columns but use `parse_int` to convert the second column (`row[1]`) into an integer.\n",
    "\n",
    "**Create a `Consumed` and Append It to the Accumulator**\n",
    "\n",
    "Finally, for each row in the file, we need to create data of the type we use to represent one row.\n",
    "\n",
    "In our case, our version of the `Consumed` type is `Child`. We make one and append it to our accumulator."
   ]
  },
  {
   "cell_type": "code",
   "execution_count": 2,
   "metadata": {},
   "outputs": [],
   "source": [
    "@typecheck\n",
    "def read(filename: str) -> List[Child]:\n",
    "    \"\"\"    \n",
    "    reads information from the specified file and returns a list of children\n",
    "    \"\"\"\n",
    "    #return []  #stub\n",
    "    # Template from HtDAP\n",
    "    # loc contains the result so far\n",
    "    loc = [] # type: List[Child]\n",
    "\n",
    "    with open(filename) as csvfile:\n",
    "        \n",
    "        reader = csv.reader(csvfile)\n",
    "        next(reader) # skip header line\n",
    "\n",
    "        for row in reader:\n",
    "            # Create a Child with the first column left as a string,\n",
    "            # the second column (age) converted to an Optional[int],\n",
    "            # and the third column also left as a string, which might\n",
    "            # be empty.\n",
    "            c = Child(row[0], parse_int(row[1]), row[2])\n",
    "            \n",
    "            # Append the Child to the accumulator.\n",
    "            loc.append(c)\n",
    "    \n",
    "    return loc"
   ]
  },
  {
   "cell_type": "markdown",
   "metadata": {},
   "source": [
    "You may run into other issues when you're reading information from your file (e.g. unexpected formatting). If you have trouble with your read function, please come to office hours or post on the discussion forum so that we can help you.\n",
    "\n",
    "Don't forget to test your read function! Create two or three small csv files that illustrate the likely types of data and variance in data that your program will have to handle. For example, your files should contain some missing values as it's very common for subsets of information to be missing.\n",
    "\n",
    "For example, here is a test for the sample file distributed with this notebook:"
   ]
  },
  {
   "cell_type": "code",
   "execution_count": 3,
   "metadata": {},
   "outputs": [
    {
     "name": "stdout",
     "output_type": "stream",
     "text": [
      "\u001b[92m1 of 1 tests passed\u001b[0m\n"
     ]
    }
   ],
   "source": [
    "start_testing()\n",
    "\n",
    "expect(read('csv_module_example.csv'), [Child('Alyaa', 12, 'apple'),\n",
    "                                        Child('Benjamin', 3, ''),\n",
    "                                        Child('Qian', 7, 'banana'),\n",
    "                                        Child('Ying', 4, 'nectarine'),\n",
    "                                        Child('Jae', 9, 'cantaloupe'),\n",
    "                                        Child('Helen', None, 'watermelon')])\n",
    "\n",
    "summary()"
   ]
  }
 ],
 "metadata": {
  "kernelspec": {
   "display_name": "Python 3 (ipykernel)",
   "language": "python",
   "name": "python3"
  },
  "language_info": {
   "codemirror_mode": {
    "name": "ipython",
    "version": 3
   },
   "file_extension": ".py",
   "mimetype": "text/x-python",
   "name": "python",
   "nbconvert_exporter": "python",
   "pygments_lexer": "ipython3",
   "version": "3.9.13"
  }
 },
 "nbformat": 4,
 "nbformat_minor": 2
}
