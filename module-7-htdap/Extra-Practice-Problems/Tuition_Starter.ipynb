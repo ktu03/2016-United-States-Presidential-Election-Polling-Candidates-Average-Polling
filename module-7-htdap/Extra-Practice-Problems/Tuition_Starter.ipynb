{
 "cells": [
  {
   "cell_type": "markdown",
   "metadata": {},
   "source": [
    "## Problem 1: \n",
    "\n",
    "Look through the CSV file tuition.csv. You want to write a data analysis program that will determine which university has the biggest difference between domestic and internation tuition. Your program will read the csv file into data definitions that you will write, and then eventually produce the name of the university with the biggest tuition difference. \n",
    "\n",
    "Complete the planning steps of the HtDAP recipe: 1a: identify the information, 1b: write a description of what the program will produce, and 1c: write some examples."
   ]
  },
  {
   "cell_type": "markdown",
   "metadata": {},
   "source": [
    "Your solution goes here (double click anywhere in the cell to edit).\n",
    "\n",
    "1a: The information provides the names of each university, it's domestic tuition cost and international tuition cost.\n",
    "\n",
    "1b: The program will return the name of the university that has the largest difference between domestic and international tuition\n",
    "\n",
    "1c: For example, \"University of Victoria\""
   ]
  },
  {
   "cell_type": "markdown",
   "metadata": {},
   "source": [
    "## Problem 2: \n",
    "    \n",
    "Next, complete the data definitions (Step 2a of the HtDAP template). "
   ]
  },
  {
   "cell_type": "code",
   "execution_count": 21,
   "metadata": {},
   "outputs": [],
   "source": [
    "# Analysis Program Template\n",
    "from cs103 import *\n",
    "from typing import NamedTuple, List\n",
    "import csv\n",
    "\n",
    "##################\n",
    "# Data Definitions\n",
    "\n",
    "University = NamedTuple('University',[('name', str), \n",
    "                                     ('domestic_tuition', int), #in range (0, ...)\n",
    "                                     ('international_tuition', int)]) #in range(0, ...)\n",
    "\n",
    "#interp. a university with a name, domestic tuition cost, and internation tuition cost\n",
    "\n",
    "U1 = University('Kwantlen Polytechnic University',4010,15750)\n",
    "U2 = University('Simon Fraser University',5322,19648)\n",
    "U3 = University('The University of Northern British Columbia',5011,11053)\n",
    "U4 = University('Vancouver Island University',4177,13200)\n",
    "U5 = University('Vancouver Valley University',4177,13200)\n",
    "\n",
    "@typecheck\n",
    "#template from Optional (3 fields)\n",
    "def fn_for_university(u: University) -> ...:\n",
    "    return ... (u.name, u.domestic_tuition, u.international_tuition)\n",
    "\n",
    "# List[University]\n",
    "# interp. a list of universities\n",
    "\n",
    "LOU0 = []\n",
    "LOU1 = [U1, U2]\n",
    "LOU2 = [U1,U2,U3,U4]\n",
    "\n",
    "@typecheck\n",
    "def fn_for_lou(lou: List[University]) -> ...:\n",
    "    #template from arbitrary-sized and reference rule\n",
    "    #description of accumulator\n",
    "    acc = ... #type:\n",
    "    for u in lou:\n",
    "        acc = ...(fn_for_university(u), acc)\n",
    "    return acc\n",
    "\n",
    "\n",
    "\n",
    "Produced = ...   # (sometimes you will need a type for the \n",
    "                 # value(s) that are produced)"
   ]
  },
  {
   "cell_type": "markdown",
   "metadata": {},
   "source": [
    "## Problem 3: \n",
    "\n",
    "Now complete the remaining steps of the HtDAP recipe by designing the main, read, and analyze functions. Remember to rename your analyze function so that its name meaningfully describes its functionality."
   ]
  },
  {
   "cell_type": "code",
   "execution_count": 22,
   "metadata": {},
   "outputs": [
    {
     "name": "stdout",
     "output_type": "stream",
     "text": [
      "\u001b[92m10 of 10 tests passed\u001b[0m\n"
     ]
    }
   ],
   "source": [
    "###########\n",
    "# Functions\n",
    "\n",
    "@typecheck\n",
    "def main(filename: str) -> str:\n",
    "    \"\"\"\n",
    "    Reads the file from given filename, analyzes the data,\n",
    "    returns the result\n",
    "    \"\"\"\n",
    "    # Template from HtDAP, based on function composition\n",
    "    return largest_tuition_difference(read(filename))\n",
    "\n",
    "@typecheck\n",
    "def read(filename: str) -> List[University]:\n",
    "    \"\"\"    \n",
    "    reads information from the specified file and returns ...\n",
    "    \"\"\"\n",
    "    #return []  #stub\n",
    "    # Template from HtDAP\n",
    "    # lou contains the result so far\n",
    "    lou = [] # type: List[University]\n",
    "\n",
    "    with open(filename) as csvfile:\n",
    "        \n",
    "        reader = csv.reader(csvfile)\n",
    "        next(reader) # skip header line\n",
    "\n",
    "        for row_data in reader:\n",
    "            # you may not need to store all the strings in the\n",
    "            # current row, and you may need to convert some\n",
    "            # of the strings to other types\n",
    "            u = University(row_data[0], parse_int(row_data[1]) , parse_int(row_data[2]))\n",
    "            lou.append(u)\n",
    "    \n",
    "    return lou\n",
    "\n",
    "@typecheck\n",
    "def largest_tuition_difference(lou: List[University]) -> str:\n",
    "    \"\"\"\n",
    "    returns the name of the university with the largest domestic and international tuition cost difference\n",
    "    ASSUMES lou is a non-empty list\n",
    "    \"\"\"\n",
    "    #return \"\" #stub\n",
    "    #template from composition\n",
    "    #university is the university with the largest domestic and international tuition difference seen so far in lou\n",
    "    university = lou[0]\n",
    "    for u in lou:\n",
    "        if (tuition_difference_greater(u, university)):\n",
    "            university = u\n",
    "    return university.name\n",
    "\n",
    "@typecheck\n",
    "def tuition_difference_greater(u1: University, u2: University) -> bool:\n",
    "    \"\"\"\n",
    "    returns True is the domestic and international tuition cost difference for u1 is greater than u2,\n",
    "    False otherwise\n",
    "    \"\"\"\n",
    "    #template from University with additional parameter\n",
    "    return ((u1.international_tuition-u1.domestic_tuition)>(u2.international_tuition-u2.domestic_tuition))\n",
    "\n",
    "# Begin testing\n",
    "start_testing()\n",
    "\n",
    "# Examples and tests for main\n",
    "expect(main(\"tuition_test1.csv\"), \"Kwantlen Polytechnic University\")\n",
    "expect(main(\"tuition_test2.csv\"), \"University of the Fraser Valley\")\n",
    "expect(main(\"tuition.csv\"), \"The University of British Columbia\")\n",
    "# Examples and tests for read\n",
    "expect(read(\"tuition_test1.csv\"), [University('Kwantlen Polytechnic University',4010,15750),\n",
    "                                  University('Emily Carr Institute of Art and Design',3864,3864)])\n",
    "expect(read(\"tuition_test2.csv\"), [University('University of the Fraser Valley',4100,14700),\n",
    "                                  University('Vancouver Island University',4177,13200)])\n",
    "# Examples and tests for largest_tuition_difference\n",
    "expect(largest_tuition_difference([University('Kwantlen Polytechnic University',4010,15750),\n",
    "                                  University('Emily Carr Institute of Art and Design',3864,3864)]), \"Kwantlen Polytechnic University\")\n",
    "expect(largest_tuition_difference([University('University of the Fraser Valley',4100,14700),\n",
    "                                  University('Vancouver Island University',4177,13200)]), \"University of the Fraser Valley\")\n",
    "\n",
    "\n",
    "# Examples and tests for largest_tuition_difference\n",
    "expect(tuition_difference_greater(U1, U2), False)\n",
    "expect(tuition_difference_greater(U4, U5), False)\n",
    "expect(tuition_difference_greater(U2, U1), True)\n",
    "# show testing summary\n",
    "summary()"
   ]
  },
  {
   "cell_type": "code",
   "execution_count": null,
   "metadata": {},
   "outputs": [],
   "source": []
  }
 ],
 "metadata": {
  "kernelspec": {
   "display_name": "Python 3 (ipykernel)",
   "language": "python",
   "name": "python3"
  },
  "language_info": {
   "codemirror_mode": {
    "name": "ipython",
    "version": 3
   },
   "file_extension": ".py",
   "mimetype": "text/x-python",
   "name": "python",
   "nbconvert_exporter": "python",
   "pygments_lexer": "ipython3",
   "version": "3.11.4"
  }
 },
 "nbformat": 4,
 "nbformat_minor": 2
}
