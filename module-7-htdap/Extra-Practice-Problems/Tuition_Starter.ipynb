{
 "cells": [
  {
   "cell_type": "markdown",
   "metadata": {},
   "source": [
    "## Problem 1: \n",
    "\n",
    "Look through the CSV file tuition.csv. You want to write a data analysis program that will determine which university has the biggest difference between domestic and internation tuition. Your program will read the csv file into data definitions that you will write, and then eventually produce the name of the university with the biggest tuition difference. \n",
    "\n",
    "Complete the planning steps of the HtDAP recipe: 1a: identify the information, 1b: write a description of what the program will produce, and 1c: write some examples."
   ]
  },
  {
   "cell_type": "markdown",
   "metadata": {},
   "source": [
    "Your solution goes here (double click anywhere in the cell to edit)."
   ]
  },
  {
   "cell_type": "markdown",
   "metadata": {},
   "source": [
    "## Problem 2: \n",
    "    \n",
    "Next, complete the data definitions (Step 2a of the HtDAP template). "
   ]
  },
  {
   "cell_type": "code",
   "execution_count": null,
   "metadata": {},
   "outputs": [],
   "source": [
    "# Analysis Program Template\n",
    "from cs103 import *\n",
    "from typing import NamedTuple, List\n",
    "import csv\n",
    "\n",
    "##################\n",
    "# Data Definitions\n",
    "\n",
    "Consumed = ...\n",
    "\n",
    "\n",
    "\n",
    "# List[Consumed]\n",
    "# interp. a list of Consumed\n",
    "\n",
    "LOC0 = []\n",
    "\n",
    "@typecheck\n",
    "def fn_for_loc(loc: List[Consumed]) -> ...:\n",
    "    ... # choose which template body to use for List[Consumed]\n",
    "\n",
    "\n",
    "\n",
    "Produced = ...   # (sometimes you will need a type for the \n",
    "                 # value(s) that are produced)"
   ]
  },
  {
   "cell_type": "markdown",
   "metadata": {},
   "source": [
    "## Problem 3: \n",
    "\n",
    "Now complete the remaining steps of the HtDAP recipe by designing the main, read, and analyze functions. Remember to rename your analyze function so that its name meaningfully describes its functionality."
   ]
  },
  {
   "cell_type": "code",
   "execution_count": null,
   "metadata": {
    "collapsed": true
   },
   "outputs": [],
   "source": [
    "###########\n",
    "# Functions\n",
    "\n",
    "@typecheck\n",
    "def main(filename: str) -> ...:\n",
    "    \"\"\"\n",
    "    Reads the file from given filename, analyzes the data,\n",
    "    returns the result\n",
    "    \"\"\"\n",
    "    # Template from HtDAP, based on function composition\n",
    "    return analyze(read(filename))\n",
    "\n",
    "@typecheck\n",
    "def read(filename: str) -> List[Consumed]:\n",
    "    \"\"\"    \n",
    "    reads information from the specified file and returns ...\n",
    "    \"\"\"\n",
    "    #return []  #stub\n",
    "    # Template from HtDAP\n",
    "    # loc contains the result so far\n",
    "    loc = [] # type: List[Consumed]\n",
    "\n",
    "    with open(filename) as csvfile:\n",
    "        \n",
    "        reader = csv.reader(csvfile)\n",
    "        next(reader) # skip header line\n",
    "\n",
    "        for row in reader:\n",
    "            # you may not need to store all the rows, and you may need\n",
    "            # to convert some of the strings to other types\n",
    "            c = Consumed(row[0], ... ,row[n])\n",
    "            loc.append(c)\n",
    "    \n",
    "    return loc\n",
    "\n",
    "@typecheck\n",
    "def analyze(loc: List[Consumed]) -> Produced:\n",
    "    \"\"\"\n",
    "    ... \n",
    "    \"\"\"\n",
    "    return ...\n",
    "\n",
    "# Begin testing\n",
    "start_testing()\n",
    "\n",
    "# Examples and tests for main\n",
    "expect(..., ...)\n",
    "# Examples and tests for read\n",
    "expect(..., ...)\n",
    "# Examples and tests for analyze\n",
    "expect(..., ...)\n",
    "\n",
    "\n",
    "# show testing summary\n",
    "summary()"
   ]
  }
 ],
 "metadata": {
  "kernelspec": {
   "display_name": "Python 3",
   "language": "python",
   "name": "python3"
  },
  "language_info": {
   "codemirror_mode": {
    "name": "ipython",
    "version": 3
   },
   "file_extension": ".py",
   "mimetype": "text/x-python",
   "name": "python",
   "nbconvert_exporter": "python",
   "pygments_lexer": "ipython3",
   "version": "3.6.6"
  }
 },
 "nbformat": 4,
 "nbformat_minor": 2
}
