{
 "cells": [
  {
   "cell_type": "markdown",
   "metadata": {},
   "source": [
    "## Problem 1: \n",
    "\n",
    "Look through the CSV file tuition.csv. You want to write a data analysis program that will determine which university has the biggest difference between domestic and internation tuition. Your program will read the csv file into data definitions that you will write, and then eventually produce the name of the university with the biggest tuition difference. \n",
    "\n",
    "Complete the planning steps of the HtDAP recipe: 1a: identify the information, 1b: write a description of what the program will produce, and 1c: write some examples."
   ]
  },
  {
   "cell_type": "markdown",
   "metadata": {},
   "source": [
    "## Step 1a\n",
    "This file contains information about international and domestic tuition fees at universities.\n",
    "\n",
    "## Step 1b\n",
    "The problem statement told us what our program should output - the name of the university that has the biggest difference between its domestic and international tuition.\n",
    "\n",
    "## Step 1c\n",
    "```\n",
    "expect(main('tuition_test1.csv'), 'Kwantlen Polytechnic University')\n",
    "```"
   ]
  },
  {
   "cell_type": "markdown",
   "metadata": {},
   "source": [
    "## Problem 2: \n",
    "    \n",
    "Next, complete the data definitions (Step 2a of the HtDAP template). "
   ]
  },
  {
   "cell_type": "code",
   "execution_count": 1,
   "metadata": {},
   "outputs": [],
   "source": [
    "# Analysis Program Template\n",
    "from cs103 import *\n",
    "from typing import NamedTuple, List\n",
    "import csv\n",
    "\n",
    "##################\n",
    "# Data Definitions\n",
    "\n",
    "University = NamedTuple('University', [('name', str), \n",
    "                                       ('domt', int),  # in range[0, ...)\n",
    "                                       ('intt', int)]) # in range[0, ...)\n",
    "# interp. a university with name, domestic tuition in Canadian dollars\n",
    "# and international tuition in Canadian dollars\n",
    "U1 = University('University of British Columbia', 4988, 22578)\n",
    "U2 = University('Kwantlen Polytechnic University', 4010, 15750)\n",
    "U3 = University('Emily Carr Institute of Art and Design', 3864, 3864)\n",
    "U4 = University('University of the Fraser Valley', 4100, 14700)\n",
    "U5 = University('Vancouver Island University', 4177, 13200)\n",
    "\n",
    "# template based on compound\n",
    "@typecheck\n",
    "def fn_for_univeristy(u: University) -> ...:\n",
    "    return ... (u.name,\n",
    "                u.domt,\n",
    "                u.intt)\n",
    "\n",
    "\n",
    "# List[University]\n",
    "# interp. a list of universities\n",
    "\n",
    "LOU0 = []\n",
    "LOU1 = [U1, U2]\n",
    "\n",
    "# template based on arbitrary-sized and the reference rule\n",
    "@typecheck\n",
    "def fn_for_lou(lou: List[University]) -> ...:\n",
    "    # description of the acc\n",
    "    acc = ... # type: ...\n",
    "    for u in lou:\n",
    "        acc = ... (acc, fn_for_university(u))\n",
    "    return ...(acc)"
   ]
  },
  {
   "cell_type": "markdown",
   "metadata": {},
   "source": [
    "## Problem 3: \n",
    "\n",
    "Now complete the remaining steps of the HtDAP recipe by designing the main, read, and analyze functions. Remember to rename your analyze function so that its name meaningfully describes its functionality."
   ]
  },
  {
   "cell_type": "code",
   "execution_count": 2,
   "metadata": {},
   "outputs": [
    {
     "name": "stdout",
     "output_type": "stream",
     "text": [
      "\u001b[92m8 of 8 tests passed\u001b[0m\n"
     ]
    }
   ],
   "source": [
    "###########\n",
    "# Functions\n",
    "\n",
    "@typecheck\n",
    "def main(filename: str) -> str:\n",
    "    \"\"\"\n",
    "    Reads the university information from the file with the given name, \n",
    "    returns the name of the university with the biggest difference between international\n",
    "    and domestic tuition\n",
    "    \"\"\"\n",
    "    # Template from HtDAP, based on function composition\n",
    "    return largest_tuition_difference(read(filename))\n",
    "\n",
    "@typecheck\n",
    "def read(filename: str) -> List[University]:\n",
    "    \"\"\"    \n",
    "    reads information from the specified file and returns a list of universities\n",
    "    \"\"\"\n",
    "    #return []  #stub\n",
    "    # Template from HtDAP\n",
    "    # lou contains the result so far\n",
    "    lou = [] # type: List[University]\n",
    "\n",
    "    with open(filename) as csvfile:\n",
    "        \n",
    "        reader = csv.reader(csvfile)\n",
    "        next(reader) # skip header line\n",
    "\n",
    "        for row in reader:\n",
    "            u = University(row[0], parse_int(row[1]), parse_int(row[2]))\n",
    "            lou.append(u)\n",
    "    \n",
    "    return lou\n",
    "\n",
    "@typecheck\n",
    "def largest_tuition_difference(lou: List[University]) -> str:\n",
    "    \"\"\"\n",
    "    returns the name of the university that has the biggest difference between\n",
    "    domestic and international tuition cost. Returns '' if lou is empty.\n",
    "    \"\"\"\n",
    "    #return \"\" #stub\n",
    "    # template from List[University]\n",
    "    if len(lou) == 0:\n",
    "        return ''\n",
    "                           \n",
    "    # acc contains the university with the largest tuition difference seen so far\n",
    "    acc = lou[0] # type: University\n",
    "    for u in lou:\n",
    "        if (tuition_difference(acc) < tuition_difference(u)):\n",
    "            acc = u\n",
    "    return acc.name\n",
    "\n",
    "@typecheck\n",
    "def tuition_difference(u: University) -> int:\n",
    "    \"\"\"\n",
    "    returns the difference between international and domestic tuition\n",
    "    \"\"\"\n",
    "    # return 0 #stub\n",
    "    # template from University\n",
    "    return u.intt - u.domt\n",
    "\n",
    "# Begin testing\n",
    "start_testing()\n",
    "\n",
    "# Examples and tests for main\n",
    "expect(main('tuition_test1.csv'), 'Kwantlen Polytechnic University')\n",
    "expect(main('tuition_test2.csv'), 'University of the Fraser Valley')\n",
    "\n",
    "# Examples and tests for read\n",
    "expect(read('tuition_test1.csv'), [U2, U3])\n",
    "expect(read('tuition_test2.csv'), [U4, U5])\n",
    "\n",
    "# Examples and tests for largest_tuition_difference\n",
    "expect(largest_tuition_difference([]), '')\n",
    "expect(largest_tuition_difference([U2, U3]), 'Kwantlen Polytechnic University')\n",
    "\n",
    "# Examples and tests for tuition_difference\n",
    "expect(tuition_difference(U2), 11740)\n",
    "expect(tuition_difference(U3), 0)\n",
    "\n",
    "# show testing summary\n",
    "summary()"
   ]
  }
 ],
 "metadata": {
  "kernelspec": {
   "display_name": "Python 3",
   "language": "python",
   "name": "python3"
  },
  "language_info": {
   "codemirror_mode": {
    "name": "ipython",
    "version": 3
   },
   "file_extension": ".py",
   "mimetype": "text/x-python",
   "name": "python",
   "nbconvert_exporter": "python",
   "pygments_lexer": "ipython3",
   "version": "3.6.6"
  }
 },
 "nbformat": 4,
 "nbformat_minor": 2
}
