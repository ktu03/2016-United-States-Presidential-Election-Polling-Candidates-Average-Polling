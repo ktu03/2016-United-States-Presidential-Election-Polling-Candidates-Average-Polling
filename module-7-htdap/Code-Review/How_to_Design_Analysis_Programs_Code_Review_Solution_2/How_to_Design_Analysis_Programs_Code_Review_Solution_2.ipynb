{
 "cells": [
  {
   "cell_type": "markdown",
   "metadata": {
    "editable": false
   },
   "source": [
    "## How to Design Analysis Programs Code Review Solution #2\n",
    "\n",
    "## Problem:\n",
    "\n",
    "We are going to provide responses to Step 1a, 1b, 1c, and Step 2a. You need to complete Step 2b, read the information from the file and store it as data in your program. You **DO NOT** need to complete the main or analysis functions (but you're free to do so for practice!). You **MUST** complete the read function.\n"
   ]
  },
  {
   "cell_type": "markdown",
   "metadata": {
    "editable": false
   },
   "source": [
    "### Step 1a: Identify the information in the file your program will read\n",
    "This file is shared by the City of Vancouver on their [Open Data page](http://data.vancouver.ca/datacatalogue/index.htm). It contains information about Community and Farmers Markets in Vancouver.\n",
    "\n",
    "Each row represents one market with its:\n",
    " - year (when the information is from)\n",
    " - type\n",
    " - location\n",
    " - operator\n",
    " - address\n",
    " - website\n",
    " - day\n",
    " - time\n",
    " - the months it operates\n",
    " - the number of stalls it has\n",
    " - its offerings\n",
    "\n",
    " \n",
    "### Step 1b: Write a description of what your program will produce\n",
    "Ideas for what program might produce:\n",
    " - a list of all the markets that sell cheese\n",
    " - a list of all the markets that are open on Wednesdays\n",
    " - a list of all the markets that are open on Saturdays in October\n",
    " - an address for a market that is open on Sundays at 11am\n",
    " - the number of markets that are open on Wednesdays\n",
    "\n",
    "In this program we will produce a list of all the locations of the markets that are open on Wednesdays.\n",
    "\n",
    "### Step 1c: Write or draw examples of what your program will produce\n",
    "\n",
    "```python\n",
    "expect(main(\"CommunityFoodMarketsandFarmersMarkets.csv\"), \n",
    "      [\"Mt Pleasant Neighbourhood House\", \n",
    "       \"South Granville Senior's Centre\",\n",
    "       \"Marpole, St. Augustine's Church\",\n",
    "       \"Main Street Farmers Market\",\n",
    "       \"Oak Street Farmers Market\",\n",
    "       \"Good Foods Market\"\n",
    "       \"Mt Pleasant Neighbourhood House\",\n",
    "       \"St Augustine's Anglican Church\",\n",
    "       \"Main St Station Farmers Market\",\n",
    "       \"Oak Street Farmers Market\",\n",
    "       \"Main St Station Farmers Market\",\n",
    "       \"Oak Street Farmers Market\"]\n",
    "```\n"
   ]
  },
  {
   "cell_type": "markdown",
   "metadata": {
    "editable": false
   },
   "source": [
    "### Step 2a - Design data definitions\n",
    "\n",
    "From the information available, all that we need to solve the problem is the location and the day. So, that's all we'll store in our data definition. We'll call our consumed type `Market`."
   ]
  },
  {
   "cell_type": "code",
   "execution_count": 1,
   "metadata": {
    "editable": false
   },
   "outputs": [],
   "source": [
    "# This cell is uneditable so you can refer back to the original version of the solution.\n",
    "\n",
    "from cs103 import *\n",
    "from typing import NamedTuple, List\n",
    "import csv\n",
    "\n",
    "Market = NamedTuple('Market', [('location', str),\n",
    "                               ('day', str)])   \n",
    "# interp. a market with its location and day\n",
    "M1 = Market('Oak Street Farmers Market', 'Wednesday')\n",
    "M2 = Market('Main St Station Farmers Market', 'Wednesday')\n",
    "M3 = Market('Trout Lake Farmers Market', 'Saturday')\n",
    "\n",
    "# template based on compound\n",
    "@typecheck\n",
    "def fn_for_market(m: Market) -> ...:\n",
    "    return ...(m.location,\n",
    "               m.day)\n",
    "\n",
    "# List[Market]\n",
    "# interp. a list of markets\n",
    "LOM0 = []\n",
    "LOM1 = [M1, M2, M3]\n",
    "\n",
    "# template based on arbitrary-sized and the reference rule\n",
    "@typecheck\n",
    "def fn_for_lom(lom: List[Market]) -> ...:\n",
    "    # description of the acc\n",
    "    acc = ...   # type: ...\n",
    "    for m in lom:\n",
    "        ...(acc, fn_for_market(m))\n",
    "        \n",
    "    return ...(acc)"
   ]
  },
  {
   "cell_type": "code",
   "execution_count": 2,
   "metadata": {
    "editable": false
   },
   "outputs": [
    {
     "ename": "TypeError",
     "evalue": "decoding str is not supported",
     "output_type": "error",
     "traceback": [
      "\u001b[0;31m---------------------------------------------------------------------------\u001b[0m",
      "\u001b[0;31mTypeError\u001b[0m                                 Traceback (most recent call last)",
      "Cell \u001b[0;32mIn[2], line 29\u001b[0m\n\u001b[1;32m     22\u001b[0m     \u001b[38;5;28;01mreturn\u001b[39;00m los\n\u001b[1;32m     24\u001b[0m \u001b[38;5;66;03m#start_testing()\u001b[39;00m\n\u001b[1;32m     25\u001b[0m \u001b[38;5;66;03m#expect(read(\"CommunityFoodMarketsandFarmersMarkets_test1.csv\"), [Market('Kitsilano Farmers Market', 'Sunday'),\u001b[39;00m\n\u001b[1;32m     26\u001b[0m \u001b[38;5;66;03m#                                                                 Market('Main St Station Farmers Market', 'Wednesday')])\u001b[39;00m\n\u001b[1;32m     27\u001b[0m \u001b[38;5;66;03m#summary()\u001b[39;00m\n\u001b[0;32m---> 29\u001b[0m \u001b[43mRead\u001b[49m\u001b[43m(\u001b[49m\u001b[38;5;124;43m\"\u001b[39;49m\u001b[38;5;124;43mCommunityFoodMarketsandFarmersMarkets_test1.csv\u001b[39;49m\u001b[38;5;124;43m\"\u001b[39;49m\u001b[43m)\u001b[49m\n",
      "Cell \u001b[0;32mIn[2], line 19\u001b[0m, in \u001b[0;36mRead\u001b[0;34m(filename)\u001b[0m\n\u001b[1;32m     16\u001b[0m     \u001b[38;5;28mnext\u001b[39m(reader) \u001b[38;5;66;03m# skip header line\u001b[39;00m\n\u001b[1;32m     18\u001b[0m     \u001b[38;5;28;01mfor\u001b[39;00m row_data \u001b[38;5;129;01min\u001b[39;00m reader:\n\u001b[0;32m---> 19\u001b[0m         s \u001b[38;5;241m=\u001b[39m \u001b[38;5;28;43mstr\u001b[39;49m\u001b[43m(\u001b[49m\u001b[43mrow_data\u001b[49m\u001b[43m[\u001b[49m\u001b[38;5;241;43m2\u001b[39;49m\u001b[43m]\u001b[49m\u001b[43m,\u001b[49m\u001b[43m \u001b[49m\u001b[43mrow_data\u001b[49m\u001b[43m[\u001b[49m\u001b[38;5;241;43m11\u001b[39;49m\u001b[43m]\u001b[49m\u001b[43m)\u001b[49m\n\u001b[1;32m     20\u001b[0m         los\u001b[38;5;241m.\u001b[39mappend(s)\n\u001b[1;32m     22\u001b[0m \u001b[38;5;28;01mreturn\u001b[39;00m los\n",
      "\u001b[0;31mTypeError\u001b[0m: decoding str is not supported"
     ]
    }
   ],
   "source": [
    "# This cell is uneditable so you can refer back to the original version of the solution.\n",
    "\n",
    "def Read(filename: str) -> List[str]:\n",
    "    \"\"\"    \n",
    "    reads information from the specified file and returns a list of Markets\n",
    "    \"\"\"\n",
    "    #return [] #stub\n",
    "    # Template from HtDAP\n",
    "    \n",
    "    # los contains the result so far\n",
    "    los = [] # type: List[str]\n",
    "\n",
    "    with open(filename) as csvfile:\n",
    "        \n",
    "        reader = csv.reader(csvfile, delimiter=',')\n",
    "        next(reader) # skip header line\n",
    "\n",
    "        for row_data in reader:\n",
    "            s = str(row_data[2], row_data[11])\n",
    "            los.append(s)\n",
    "    \n",
    "    return los\n",
    "\n",
    "#start_testing()\n",
    "#expect(read(\"CommunityFoodMarketsandFarmersMarkets_test1.csv\"), [Market('Kitsilano Farmers Market', 'Sunday'),\n",
    "#                                                                 Market('Main St Station Farmers Market', 'Wednesday')])\n",
    "#summary()\n",
    "\n",
    "Read(\"CommunityFoodMarketsandFarmersMarkets_test1.csv\")"
   ]
  },
  {
   "cell_type": "code",
   "execution_count": null,
   "metadata": {},
   "outputs": [],
   "source": [
    "# Feel free to edit this cell as needed.\n",
    "\n",
    "def Read(filename: str) -> List[str]:\n",
    "    \"\"\"    \n",
    "    reads information from the specified file and returns a list of Markets\n",
    "    \"\"\"\n",
    "    #return [] #stub\n",
    "    # Template from HtDAP\n",
    "    \n",
    "    # los contains the result so far\n",
    "    los = [] # type: List[str]\n",
    "\n",
    "    with open(filename) as csvfile:\n",
    "        \n",
    "        reader = csv.reader(csvfile, delimiter=',')\n",
    "        next(reader) # skip header line\n",
    "\n",
    "        for row_data in reader:\n",
    "            s = str(row_data[2], row_data[11])\n",
    "            los.append(s)\n",
    "    \n",
    "    return los\n",
    "\n",
    "#start_testing()\n",
    "#expect(read(\"CommunityFoodMarketsandFarmersMarkets_test1.csv\"), [Market('Kitsilano Farmers Market', 'Sunday'),\n",
    "#                                                                 Market('Main St Station Farmers Market', 'Wednesday')])\n",
    "#summary()\n",
    "\n",
    "Read(\"CommunityFoodMarketsandFarmersMarkets_test1.csv\")"
   ]
  }
 ],
 "metadata": {
  "kernelspec": {
   "display_name": "Python 3 (ipykernel)",
   "language": "python",
   "name": "python3"
  },
  "language_info": {
   "codemirror_mode": {
    "name": "ipython",
    "version": 3
   },
   "file_extension": ".py",
   "mimetype": "text/x-python",
   "name": "python",
   "nbconvert_exporter": "python",
   "pygments_lexer": "ipython3",
   "version": "3.11.4"
  }
 },
 "nbformat": 4,
 "nbformat_minor": 2
}
