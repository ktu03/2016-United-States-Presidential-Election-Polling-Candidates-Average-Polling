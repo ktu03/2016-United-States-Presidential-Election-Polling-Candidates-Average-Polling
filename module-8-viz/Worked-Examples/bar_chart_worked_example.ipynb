{
 "cells": [
  {
   "cell_type": "markdown",
   "metadata": {},
   "source": [
    "# Bar Chart\n",
    "\n",
    "Here's an example of a function that displays a bar chart. This chart is showing the results of a made up test for people in different age groups. "
   ]
  },
  {
   "cell_type": "code",
   "execution_count": 1,
   "metadata": {},
   "outputs": [],
   "source": [
    "from cs103 import *\n",
    "from typing import List\n",
    "\n",
    "# List[int]\n",
    "# interp. a list of integers\n",
    "L0 = []\n",
    "L1 = [3, -2]\n",
    "\n",
    "# template based on arbitrary-sized\n",
    "@typecheck\n",
    "def fn_for_loi(loi: List[int]) -> ...:\n",
    "    # description of accumulator\n",
    "    acc = ... # type: ...\n",
    "    \n",
    "    for i in loi:\n",
    "        acc = ...(i, acc)\n",
    "    \n",
    "    return ...(acc)"
   ]
  },
  {
   "cell_type": "code",
   "execution_count": 2,
   "metadata": {},
   "outputs": [
    {
     "data": {
      "image/png": "[encoded data removed]",
      "text/plain": [
       "<Figure size 432x288 with 1 Axes>"
      ]
     },
     "metadata": {
      "needs_background": "light"
     },
     "output_type": "display_data"
    },
    {
     "data": {
      "image/png": "[encoded data removed]",
      "text/plain": [
       "<Figure size 432x288 with 1 Axes>"
      ]
     },
     "metadata": {
      "needs_background": "light"
     },
     "output_type": "display_data"
    },
    {
     "data": {
      "image/png": "[encoded data removed]",
      "text/plain": [
       "<Figure size 432x288 with 1 Axes>"
      ]
     },
     "metadata": {
      "needs_background": "light"
     },
     "output_type": "display_data"
    },
    {
     "name": "stdout",
     "output_type": "stream",
     "text": [
      "\u001b[92m10 of 10 tests passed\u001b[0m\n"
     ]
    }
   ],
   "source": [
    "# Note that here we're importing matplotlib.pyplot as plt. That means we need to use the name \n",
    "# plt whenever we want to use the pyplot library. In other examples, we've imported it as pyplot \n",
    "# and that would mean we need to use the name pyplot whenever we want to use the pyplot library.\n",
    "import matplotlib.pyplot as plt\n",
    "\n",
    "@typecheck\n",
    "def display_bar_chart(means: List[int]) -> None:\n",
    "    \"\"\"\n",
    "    display a bar chart showing the mean scores for the test by age group\n",
    "    \n",
    "    the age groups are assumed to start at 0 and span 10 years (e.g. 0-9, 10-19, etc.)\n",
    "    \"\"\"\n",
    "    # return None #stub\n",
    "    # Template based on visualization\n",
    "    \n",
    "    # the width of each bar\n",
    "    bar_width = 9\n",
    "    \n",
    "    # the middle coordinate for each of the bars for the bar chart\n",
    "    # we want to space them every 10 pixels, since we used a bar width of 9.\n",
    "    middle_of_bars = produce_num_sequence(means, 5, bar_width + 1)\n",
    "    \n",
    "    # Notice that you could write a function to produce middle_of_bars.\n",
    "    # (Imagine we gave you the array means above and asked \"design\n",
    "    # a function to produce a list of the same length as means\n",
    "    # containing multiples of 10 like [0, 10, 20, 30, ...]\". Could\n",
    "    # you design that function?)\n",
    "    \n",
    "    # the opacity for the bars. It must be between 0 and 1, and higher numbers are more opaque (darker)\n",
    "    opacity = 0.8\n",
    "    \n",
    "    # create the first bar chart\n",
    "    rects1 = plt.bar(middle_of_bars, \n",
    "                     means,                         # list containing the height for each bar, here the means\n",
    "                     bar_width,\n",
    "                     alpha=opacity,                 # set the opacity\n",
    "                     color='b')                     # set the colour (here, blue)\n",
    "\n",
    "    # set the labels for the x-axis, y-axis, and plot title\n",
    "    plt.xlabel('Age Group')\n",
    "    plt.ylabel('Scores')\n",
    "    plt.title('Scores by age')\n",
    "    \n",
    "    # set the range for the axes\n",
    "    # [x-min, x-max, y-min, y-max]\n",
    "    plt.axis([0,79,0,100])\n",
    "    \n",
    "    # set the x-coordinate for positioning the labels. Here, we want each label to be in the middle of each bar\n",
    "    x_coord_labels = middle_of_bars\n",
    "    \n",
    "    # set the labels for each 'tick' on the x-axis\n",
    "    tick_labels = produce_age_labels(means)\n",
    "    \n",
    "    plt.xticks(x_coord_labels, tick_labels)\n",
    "    \n",
    "    # show the plot\n",
    "    plt.show()\n",
    "    \n",
    "    # by default, Python returns None if it gets to the end of a function and there is no call to return\n",
    "    # so we could have omitted the next line of code. It also returns None when there is a return \n",
    "    # statement that does not explicitly return a value (like we have here)\n",
    "    return\n",
    "    \n",
    "# Note that this can be used with List[int] for values as well.\n",
    "# In fact, it doesn't really matter what values is a list of, but we haven't learned how to note that.\n",
    "@typecheck\n",
    "def produce_num_sequence(values: List[float], initial: float, gap: float) -> List[float]:\n",
    "    \"\"\"\n",
    "    Produce a list of numbers like [initial, initial + gap, initial + 2*gap, ...] of the same\n",
    "    length as values, e.g., to give alignment coordinates for a plot. The number\n",
    "    of numbers in the list is equal to len(values). The first value is initial. The gap between values\n",
    "    is gap.\n",
    "    \n",
    "    E.g., [5,15,25,35,45,55,65,75] for 8 values, initial == 5, and gap == 10.\n",
    "    \"\"\"\n",
    "    #return []  #stub\n",
    "    # Template from List[float] with two additional parameters\n",
    "    \n",
    "    # nums is the numbers for the values seen so far\n",
    "    nums = []  # type: List[int]\n",
    "    \n",
    "    # next_num is the next number to use\n",
    "    next_num = initial\n",
    "    \n",
    "    for val in values:\n",
    "        nums.append(next_num)\n",
    "        next_num = next_num + gap\n",
    "    \n",
    "    return nums\n",
    "\n",
    "@typecheck\n",
    "def produce_age_labels(values: List[int]) -> List[str]:\n",
    "    \"\"\"\n",
    "    produce appropriate labels for the age ranges for the given values\n",
    "    \n",
    "    Starts at the 0-9 age range and continues from there, e.g., ['0-9', '10-19', '20-29'] for 3 values\n",
    "    \"\"\"\n",
    "    #return []  #stub\n",
    "    # Template from List[int]\n",
    "    \n",
    "    # labels is the labels for the values seen so far\n",
    "    labels = []  # type: List[str]\n",
    "    \n",
    "    # range_start is the start of the next age range\n",
    "    range_start = 0\n",
    "    \n",
    "    for val in values:\n",
    "        next_range_start = range_start + 10\n",
    "        labels.append(produce_label(range_start, next_range_start))\n",
    "        range_start = next_range_start\n",
    "    \n",
    "    return labels\n",
    "\n",
    "@typecheck\n",
    "def produce_label(start: int, end: int) -> str:\n",
    "    \"\"\"\n",
    "    return a label for the age range [start, end)\n",
    "    \n",
    "    assumes end > start\n",
    "    \"\"\"\n",
    "    #return \"\"  #stub\n",
    "    # template based on atomic non-distinct (two parameters)\n",
    "    return str(start) + \"-\" + str(end - 1)\n",
    "\n",
    "start_testing()\n",
    "\n",
    "# Notice that these display_bar_chart tests only check that display_bar_chart returns None directly.\n",
    "# We need to visually inspect the output to see if the plot matches with what we expect.\n",
    "# So, we document in text, by \"drawing\" the output in text, or by adding a Markdown cell and using\n",
    "# the \"Edit\" menu's \"Insert Image\" option there to paste in a sketch of the plot that's expected.\n",
    "\n",
    "# Should produce an empty graph with x axis \"Age Group\", y axis \"Scores\", and label for the graph \"Scores by age\"\n",
    "expect(display_bar_chart([]), None)\n",
    "\n",
    "# Should look vaguely like this, with the same title/labels described above:\n",
    "#\n",
    "#     |\n",
    "# 100 |\n",
    "#     |\n",
    "#     |\n",
    "#     |\n",
    "#     |\n",
    "#  50 |\n",
    "#     |\n",
    "#     |  *\n",
    "#     |  *\n",
    "#     |  *\n",
    "#     +--------------------------------------------\n",
    "#\n",
    "#       0-9\n",
    "expect(display_bar_chart([30]), None)\n",
    "\n",
    "# Should look vaguely like this, with the same title/labels described above:\n",
    "#\n",
    "#     |\n",
    "# 100 |\n",
    "#     |\n",
    "#     |             *\n",
    "#     |             *\n",
    "#     |             *\n",
    "#  50 |  *    *     *\n",
    "#     |  *    *     *\n",
    "#     |  *    *     *\n",
    "#     |  *    *     *     *\n",
    "#     |  *    *     *     *\n",
    "#     +--------------------------------------------\n",
    "#\n",
    "#       0-9 10-19 20-29 30-39\n",
    "expect(display_bar_chart([50, 50, 80, 20]), None)\n",
    "\n",
    "expect(produce_num_sequence([], 5, 10), [])\n",
    "expect(produce_num_sequence([1, 10, 3], 5, 10), [5, 15, 25])\n",
    "expect(produce_num_sequence([1, 10, 3], 0.5, 3.5), [0.5, 4.0, 7.5])\n",
    "\n",
    "expect(produce_age_labels([]), [])\n",
    "expect(produce_age_labels([1, 10, 3]), ['0-9', '10-19', '20-29'])\n",
    "\n",
    "expect(produce_label(0, 10), '0-9')\n",
    "expect(produce_label(3, 42), '3-41')\n",
    "\n",
    "summary()"
   ]
  },
  {
   "cell_type": "code",
   "execution_count": 3,
   "metadata": {},
   "outputs": [
    {
     "data": {
      "image/png": "[encoded data removed]",
      "text/plain": [
       "<Figure size 432x288 with 1 Axes>"
      ]
     },
     "metadata": {
      "needs_background": "light"
     },
     "output_type": "display_data"
    }
   ],
   "source": [
    "# It's not clear what \"real\" information we wanted to visualize, but let's imagine that\n",
    "# the list [43, 49, 53, 65, 76, 68, 75, 74] was our target. We could plot it like this:\n",
    "display_bar_chart([43, 49, 53, 65, 76, 68, 75, 74])\n",
    "\n",
    "# Running this cell produces a bar chart that shows this information below.."
   ]
  },
  {
   "cell_type": "markdown",
   "metadata": {},
   "source": [
    "# Two bar charts on the same plot\n",
    "\n",
    "We can also create two bar charts on the same plot. In this case, we're showing the results of a made up memory experiment. This imaginary experiment had five control groups and five treatment groups. The bar chart is showing the mean score on a memory test for each group as well as the error bars."
   ]
  },
  {
   "cell_type": "code",
   "execution_count": 4,
   "metadata": {},
   "outputs": [
    {
     "data": {
      "image/png": "[encoded data removed]",
      "text/plain": [
       "<Figure size 432x288 with 1 Axes>"
      ]
     },
     "metadata": {
      "needs_background": "light"
     },
     "output_type": "display_data"
    },
    {
     "data": {
      "image/png": "[encoded data removed]",
      "text/plain": [
       "<Figure size 432x288 with 1 Axes>"
      ]
     },
     "metadata": {
      "needs_background": "light"
     },
     "output_type": "display_data"
    },
    {
     "name": "stdout",
     "output_type": "stream",
     "text": [
      "\u001b[92m2 of 2 tests passed\u001b[0m\n"
     ]
    }
   ],
   "source": [
    "import matplotlib.pyplot as plt\n",
    "\n",
    "@typecheck\n",
    "def display_two_charts(means_treatment: List[int], \n",
    "                       means_control: List[int],\n",
    "                       group_labels: List[str]) -> None:\n",
    "    \"\"\"\n",
    "    Plot a bar graph with treatment and control means side-by-side labelled by group\n",
    "    \n",
    "    Assumes all three list parameters are the same (non-zero) length.\n",
    "    \"\"\"\n",
    "    #return None  #stub\n",
    "    # Template based on visualization\n",
    "    \n",
    "    # the width of each bar\n",
    "    bar_width = 0.35\n",
    "    \n",
    "    # the middle coordinate for each of the bars for the first bar chart (treatment groups)\n",
    "    middle_of_bars_treatment = produce_num_sequence(means_treatment, 0, 1)\n",
    "    \n",
    "    # the middle coordinate for each of the bars for the second bar chart (control groups). Note that each \n",
    "    # entry in the list is exactly bar_width greater than the corresponding entry in the \n",
    "    # middle_of_bars_treatment list\n",
    "    middle_of_bars_control = produce_num_sequence(means_treatment, bar_width, 1)\n",
    "    \n",
    "    # the opacity for the bars. It must be between 0 and 1, and higher numbers are more\n",
    "    # opaque (darker)\n",
    "    opacity = 0.4\n",
    "    \n",
    "    # create the first bar chart\n",
    "    rects1 = plt.bar(middle_of_bars_treatment, \n",
    "                     means_treatment,                # list containing the height for each bar, here the means\n",
    "                     bar_width,\n",
    "                     alpha=opacity,                  # set the opacity\n",
    "                     align='edge',\n",
    "                     color='b',                      # set the colour (here, blue)\n",
    "                     label='Treatment')\n",
    "\n",
    "    rects2 = plt.bar(middle_of_bars_control, \n",
    "                     means_control, \n",
    "                     bar_width,\n",
    "                     alpha=opacity,\n",
    "                     align='edge',\n",
    "                     color='r',                       # notice that we use a different colour (red)\n",
    "                     label='Control')\n",
    "\n",
    "    # set the labels for the x-axis, y-axis, and plot title\n",
    "    plt.xlabel('Group')\n",
    "    plt.ylabel('Scores')\n",
    "    plt.title('Scores by group and condition')\n",
    "\n",
    "    # set the axes for our chart\n",
    "    plt.axis([0,5,0,40])\n",
    "\n",
    "    # set the labels for each 'tick' on the x-axis\n",
    "    plt.xticks(middle_of_bars_control, group_labels)\n",
    "    \n",
    "    # we want to show the legend because this plot contains two bar charts. The arguments will place\n",
    "    # the legend to the right of the plot\n",
    "    plt.legend(loc='upper right')\n",
    "    \n",
    "    # show the plot\n",
    "    plt.show()\n",
    "    \n",
    "    return\n",
    "\n",
    "\n",
    "start_testing()\n",
    "\n",
    "# Should produce a graph with y axis \"Scores\", x axis \"Group\", title \"Scores by group and condition\",\n",
    "# and a legend (showing the color for * is treatment and for # is control) that looks roughly like:\n",
    "#\n",
    "#  40 |   #             \n",
    "#     |   #\n",
    "#  20 |  *#\n",
    "#     |  *#\n",
    "#     +--------------------------\n",
    "#       TEST\n",
    "#\n",
    "expect(display_two_charts([20], [40], ['TEST']), None)\n",
    "\n",
    "# Should produce a graph with axes/title/legend as above that looks roughly like:\n",
    "#\n",
    "#  40 |                 \n",
    "#     |          *    \n",
    "#  20 |   *   *  *\n",
    "#     |   *#  *# *#\n",
    "#     +--------------------------\n",
    "#         X   Y  Z\n",
    "#\n",
    "expect(display_two_charts([20, 20, 30], [10, 10, 10], ['X', 'Y', 'Z']), None)\n",
    "\n",
    "\n",
    "# Note that the following test will fail with an error:\n",
    "# expect(display_two_charts([], [], []), None)\n",
    "#\n",
    "# The reason is to do with attaching a legend to a bar graph.\n",
    "# To create the legend, matplotlib needs to access one of the plotted \n",
    "# data points as the \"template\" for what the legend should look like. \n",
    "# With no data points, that fails.\n",
    "\n",
    "\n",
    "summary()"
   ]
  },
  {
   "cell_type": "code",
   "execution_count": 5,
   "metadata": {},
   "outputs": [
    {
     "data": {
      "image/png": "[encoded data removed]",
      "text/plain": [
       "<Figure size 432x288 with 1 Axes>"
      ]
     },
     "metadata": {
      "needs_background": "light"
     },
     "output_type": "display_data"
    }
   ],
   "source": [
    "# We'll imagine that this is the \"target\" graph we were trying to create:\n",
    "display_two_charts([20, 35, 30, 35, 27], [25, 32, 34, 20, 25], ['A', 'B', 'C', 'D', 'E'])\n",
    "\n",
    "# Running this cell will produce the graph:"
   ]
  }
 ],
 "metadata": {
  "kernelspec": {
   "display_name": "Python 3",
   "language": "python",
   "name": "python3"
  },
  "language_info": {
   "codemirror_mode": {
    "name": "ipython",
    "version": 3
   },
   "file_extension": ".py",
   "mimetype": "text/x-python",
   "name": "python",
   "nbconvert_exporter": "python",
   "pygments_lexer": "ipython3",
   "version": "3.6.6"
  }
 },
 "nbformat": 4,
 "nbformat_minor": 2
}
