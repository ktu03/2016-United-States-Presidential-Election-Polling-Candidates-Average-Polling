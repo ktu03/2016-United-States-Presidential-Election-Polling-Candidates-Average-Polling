{
 "cells": [
  {
   "cell_type": "markdown",
   "metadata": {},
   "source": [
    "# Problem Description\n",
    "\n",
    "Design a program that uses \"Benford's Law\" to investigate whether there may have been fraudulent voting data released in the 2009 Iranian Presidential Election. [Benford's Law](https://en.wikipedia.org/wiki/Benford%27s_law) describes the expected distribution of \"leading digits\" of numbers in commonly occurring numerical data.\n",
    "\n",
    "The leading digit of a number is the leftmost digit in that number. For example, the leading digit of 12,982 is 1, while the leading digit of 370 is 3. Note that for positive integers, the leading digit can never be 0.\n",
    "\n",
    "Benford's Law predicts that leading 1's are more common than leading 2's, leading 2's more common than leading 3's, 3's more common than 4's, and so forth. The particular predicted frequency is described below.\n",
    "\n",
    "In particular, you should produce a histogram of the number of leading digits that are 1's, 2's, 3's, 4's, 5's, 6's, 7's, 8's, and 9's in votes for Karrubi in the file `2009-iranian-presidential-election-votes.csv` and then compare that to the [plot of the expected frequencies in the Benford's Law article](https://en.wikipedia.org/wiki/Benford%27s_law#/media/File:Rozklad_benforda.svg).\n",
    "\n",
    "The information comes from http://www.irantracker.org/analysis/2009-iranian-presidential-election-results-city.\n",
    "\n",
    "*Note: We have completed all except the visualization piece of the problem for you! Use a histogram for the visualization piece.*"
   ]
  },
  {
   "cell_type": "markdown",
   "metadata": {},
   "source": [
    "## Planning\n",
    "\n",
    "### Step 1a: Identify the information in the file your program will read\n",
    "\n",
    "This file contains information on the number of votes cast in each of a large set of cities in Iran in the 2009 presidential election for candidates Ahmadinejad, Rezai, Karrubi, and Mousavi, the total number of votes cast, the number of votes voided (presumably for over-voting, under-voting, or the like), and the number of legitimate (non-voided) votes.\n",
    "\n",
    "Each row represents one city and, along with the counts above, has the city's name and the province containing the city."
   ]
  },
  {
   "cell_type": "markdown",
   "metadata": {},
   "source": [
    "### Step 1b: Write a description of what your program will produce\n",
    "\n",
    "This information might allow us to compute who wins the elections, the vote totals per candidate, produce a list of the cities with the most support for each candidate, color provinces on a map according to how much support each candidate received, or many other analyses.\n",
    "\n",
    "However, we've been asked to perform a very specific analysis, charting the frequency of leading digits in the information. Because it will make it easier to find the leading digit, we'll actually convert the data to strings at one point. (The \"leading digit\" of a string `s` is just `s[0]`!)"
   ]
  },
  {
   "cell_type": "markdown",
   "metadata": {},
   "source": [
    "### Step 1c: Write or draw examples of what your program will produce\n",
    "\n",
    "We'll use the small file to show what we might produce. Here's the information in that file:\n",
    "\n",
    "```CSV\n",
    "Province,City,Ahmadinejad,Rezai,Karrubi,Mousavi,Total Votes Cast,Voided Votes,Legitimate Votes\n",
    "East Azerbaijan,Azar Shahr,37203,453,138,18312,56712,606,56106\n",
    "West Azerbaijan,Aromia,234600,3727,3544,199682,445344,3791,441553\n",
    "Ardabil,Ardabil,137220,4411,1115,140582,285700,2372,283328\n",
    "Kermanshah,West Islamabad,50878,897,669,32525,85833,864,84969\n",
    "Yazd,Abir Koh,21659,187,51,6376,28473,200,28273\n",
    "```\n",
    "\n",
    "The leading digits for Karrubi are: `[1, 3, 1, 6, 5]`. So, we might make a histogram like this:\n",
    "\n",
    "      |\n",
    "    3 |   \n",
    "      |   \n",
    "    2 |  *\n",
    "      |  *\n",
    "    1 |  *     *     *  *\n",
    "      |  *     *     *  *\n",
    "      +-----------------------------\n",
    "         1  2  3  4  5  6  7  8  9"
   ]
  },
  {
   "cell_type": "markdown",
   "metadata": {},
   "source": [
    "## Building the Program\n",
    "\n",
    "### Step 2a: Design data definitions\n",
    "\n",
    "We only need Karrubi's vote totals from the information available. That makes our `Consumed` type particularly simple, just an `int`. We'll assume the integer is positive."
   ]
  },
  {
   "cell_type": "code",
   "execution_count": 1,
   "metadata": {},
   "outputs": [],
   "source": [
    "from cs103 import *\n",
    "from typing import NamedTuple, List\n",
    "import csv\n",
    "\n",
    "##################\n",
    "# Data Definitions\n",
    "\n",
    "\n",
    "\n",
    "# List[int]\n",
    "# interp. a list of vote counts for Karrubi\n",
    "# Note: we assume each integer is positive (no negative numbers or, critically, 0's).\n",
    "L0 = []\n",
    "L1 = [138, 3544, 1115, 669, 51]  # Karrubi's totals in our small file\n",
    "\n",
    "# Template based on arbitrary-sized\n",
    "@typecheck\n",
    "def fn_for_loi(loi: List[int]) -> ...:\n",
    "    # description of the acc\n",
    "    acc = ...      # type: ...\n",
    "    for i in loi:\n",
    "        acc = ...(i, acc)\n",
    "    \n",
    "    return ...(acc)\n",
    "\n",
    "# This will also come in handy:\n",
    "\n",
    "# List[str]\n",
    "# interp. a list of strings\n",
    "LOS0 = []\n",
    "LOS1 = [\"18312\", \"199682\", \"140582\", \"32525\", \"6376\"]\n",
    "\n",
    "# Template based on arbitrary-sized\n",
    "@typecheck\n",
    "def fn_for_los(los: List[str]) -> ...:\n",
    "    # description of the acc\n",
    "    acc = ...      # type: ...\n",
    "    for s in los:\n",
    "        acc = ...(s, acc)\n",
    "    \n",
    "    return ...(acc)\n"
   ]
  },
  {
   "cell_type": "markdown",
   "metadata": {},
   "source": [
    "### Step 2b: Design a function to read the information and store it as data in your program"
   ]
  },
  {
   "cell_type": "code",
   "execution_count": 2,
   "metadata": {},
   "outputs": [
    {
     "name": "stdout",
     "output_type": "stream",
     "text": [
      "\u001b[92m3 of 3 tests passed\u001b[0m\n"
     ]
    }
   ],
   "source": [
    "@typecheck\n",
    "def read(filename: str) -> List[int]:\n",
    "    \"\"\"    \n",
    "    reads information from the specified file and returns a list of Karrubi's vote totals\n",
    "    \"\"\"\n",
    "    #return []  #stub\n",
    "    # Template from HtDAP\n",
    "    \n",
    "    # loi contains the result so far\n",
    "    loi = [] # type: List[int]\n",
    "\n",
    "    with open(filename) as csvfile:\n",
    "        \n",
    "        reader = csv.reader(csvfile)\n",
    "        \n",
    "        # skip header line\n",
    "        next(reader) \n",
    "\n",
    "        for row in reader:\n",
    "            # Karrubi's totals are in the 5th column, i.e., the one numbered 4.\n",
    "            i = parse_int(row[4])\n",
    "            loi.append(i)\n",
    "    \n",
    "    return loi\n",
    "\n",
    "start_testing()\n",
    "\n",
    "expect(read('2009-iranian-presidential-election-votes-small.csv'), L1)\n",
    "expect(read('2009-iranian-presidential-election-votes-tiny.csv'), [345])\n",
    "\n",
    "# We'll make sure we can read this (at all) without checking what the specific results are.\n",
    "expect(len(read('2009-iranian-presidential-election-votes.csv')), 366)\n",
    "\n",
    "summary()"
   ]
  },
  {
   "cell_type": "markdown",
   "metadata": {},
   "source": [
    "### Step 2c: Design functions to analyze the data\n",
    "\n",
    "Our main analysis function will plot Karrubi's histogram; so `plot_karrubi_histogram`.\n",
    "\n",
    "However, to get to that point, we'll need to get the leading digits of votes for Karrubi. So, we'll break this into a function composition. First `get_leading_digits` and then `plot_histogram`.\n",
    "\n",
    "Here are the functions to pull the leading digits:"
   ]
  },
  {
   "cell_type": "code",
   "execution_count": 3,
   "metadata": {},
   "outputs": [
    {
     "name": "stdout",
     "output_type": "stream",
     "text": [
      "\u001b[92m11 of 11 tests passed\u001b[0m\n"
     ]
    }
   ],
   "source": [
    "@typecheck\n",
    "def get_leading_digit(i: int) -> int:\n",
    "    \"\"\"\n",
    "    produce a the leading digit of i\n",
    "    \n",
    "    Note: assumes i is positive; so, the result must be between 1 and 9.\n",
    "    \"\"\"\n",
    "    #return i  #stub\n",
    "    #template based on atomic non-distinct\n",
    "    \n",
    "    # This is a nifty trick, but not one we'd expect you to \n",
    "    # think of on your own!\n",
    "    return int(str(i)[0])\n",
    "\n",
    "@typecheck\n",
    "def get_leading_digits(loi: List[int]) -> List[int]:\n",
    "    \"\"\"\n",
    "    produce a list of only the leading digits of each number\n",
    "    \n",
    "    Note: assumes the elements of loi are positive; so, the results will all be 1 through 9.\n",
    "    \"\"\"\n",
    "    #return loi  #stub\n",
    "    #template from List[int]\n",
    "    \n",
    "    # The leading digits of the numbers seen so far:\n",
    "    digits_so_far = []      # type: List[int]\n",
    "    \n",
    "    for i in loi:\n",
    "        digits_so_far.append(get_leading_digit(i))\n",
    "    \n",
    "    return digits_so_far\n",
    "\n",
    "\n",
    "# Begin testing\n",
    "start_testing()\n",
    "\n",
    "expect(get_leading_digits([]), [])\n",
    "expect(get_leading_digits(L1), [1, 3, 1, 6, 5])\n",
    "\n",
    "expect(get_leading_digit(132), 1)\n",
    "expect(get_leading_digit(2145), 2)\n",
    "expect(get_leading_digit(3095409), 3)\n",
    "expect(get_leading_digit(4096), 4)\n",
    "expect(get_leading_digit(5), 5)\n",
    "expect(get_leading_digit(60923408), 6)\n",
    "expect(get_leading_digit(70), 7)\n",
    "expect(get_leading_digit(8210), 8)\n",
    "expect(get_leading_digit(9), 9)\n",
    "\n",
    "# show testing summary\n",
    "summary()"
   ]
  },
  {
   "cell_type": "markdown",
   "metadata": {},
   "source": [
    "# DONE: COMPLETE THIS FUNCTION!\n",
    "\n",
    "Here is where you should complete the `plot_histogram` function that takes in an array of leading digits and plots it as a histogram.\n",
    "\n",
    "For the `main` and `plot_karrubi_histogram` functions below, and one more test each (which may be a very small one!)."
   ]
  },
  {
   "cell_type": "code",
   "execution_count": 4,
   "metadata": {},
   "outputs": [
    {
     "data": {
      "image/png": "[encoded data removed]",
      "text/plain": [
       "<Figure size 432x288 with 1 Axes>"
      ]
     },
     "metadata": {
      "needs_background": "light"
     },
     "output_type": "display_data"
    },
    {
     "data": {
      "image/png": "[encoded data removed]",
      "text/plain": [
       "<Figure size 432x288 with 1 Axes>"
      ]
     },
     "metadata": {
      "needs_background": "light"
     },
     "output_type": "display_data"
    },
    {
     "name": "stdout",
     "output_type": "stream",
     "text": [
      "\u001b[92m2 of 2 tests passed\u001b[0m\n"
     ]
    }
   ],
   "source": [
    "import matplotlib.pyplot as pyplot\n",
    "\n",
    "@typecheck\n",
    "def plot_histogram(leading_digits: List[int]) -> None:\n",
    "    \"\"\"\n",
    "    Plots a histogram of the given list of integers.\n",
    "    The numbers must be in the range 1 through 9.\n",
    "    \n",
    "    Creates a plot and returns None.\n",
    "    \"\"\"\n",
    "    #return None  #stub\n",
    "    # Template from visualization\n",
    "    pyplot.title('Leading Digits of Karrubi Vote Counts')\n",
    "    pyplot.xlabel('Leading Digit')\n",
    "    pyplot.ylabel('Number of Cities')\n",
    "    pyplot.hist(leading_digits, [1, 2, 3, 4, 5, 6, 7, 8, 9, 10], alpha = 0.8)\n",
    "    pyplot.xticks([1.5, 2.5, 3.5, 4.5, 5.5, 6.5, 7.5, 8.5, 9.5], [1, 2, 3, 4, 5, 6, 7, 8, 9])    \n",
    "    pyplot.show()\n",
    "\n",
    "start_testing()\n",
    "\n",
    "# This should produce an empty graph with: x-axis \"Leading Digit\",\n",
    "# y-axis \"Number of Cities\", title \"Leading Digits of Karrubi Vote Counts\",\n",
    "# and ticks neatly spaced and labeled 1, 2, ..., 9 across the x axis.\n",
    "expect(plot_histogram([]), None)\n",
    "    \n",
    "\n",
    "# For testing, we run it and compare the resulting histogram against this sketch:\n",
    "\n",
    "#      |\n",
    "#    3 |   \n",
    "#      |   \n",
    "#    2 |  *\n",
    "#      |  *\n",
    "#    1 |  *     *     *  *\n",
    "#      |  *     *     *  *\n",
    "#      +-----------------------------\n",
    "#         1  2  3  4  5  6  7  8  9\n",
    "\n",
    "expect(plot_histogram([1, 3, 1, 6, 5]), None)\n",
    "\n",
    "summary()"
   ]
  },
  {
   "cell_type": "markdown",
   "metadata": {},
   "source": [
    "Here are the analysis and main. Note that because we produce a visualization, `expect` is of limited use for testing. Instead, we write the expects and then visually inspect the results against our sketches or descriptions."
   ]
  },
  {
   "cell_type": "code",
   "execution_count": 5,
   "metadata": {},
   "outputs": [
    {
     "data": {
      "image/png": "[encoded data removed]",
      "text/plain": [
       "<Figure size 432x288 with 1 Axes>"
      ]
     },
     "metadata": {
      "needs_background": "light"
     },
     "output_type": "display_data"
    },
    {
     "data": {
      "image/png": "[encoded data removed]",
      "text/plain": [
       "<Figure size 432x288 with 1 Axes>"
      ]
     },
     "metadata": {
      "needs_background": "light"
     },
     "output_type": "display_data"
    },
    {
     "data": {
      "image/png": "[encoded data removed]",
      "text/plain": [
       "<Figure size 432x288 with 1 Axes>"
      ]
     },
     "metadata": {
      "needs_background": "light"
     },
     "output_type": "display_data"
    },
    {
     "data": {
      "image/png": "[encoded data removed]",
      "text/plain": [
       "<Figure size 432x288 with 1 Axes>"
      ]
     },
     "metadata": {
      "needs_background": "light"
     },
     "output_type": "display_data"
    },
    {
     "name": "stdout",
     "output_type": "stream",
     "text": [
      "\u001b[92m4 of 4 tests passed\u001b[0m\n"
     ]
    }
   ],
   "source": [
    "# Because our goal is to create a plot, we return nothing (None).\n",
    "@typecheck\n",
    "def main(filename: str) -> None:\n",
    "    \"\"\"\n",
    "    Reads the file from given filename, analyzes the data,\n",
    "    and plots a histogram of Karrubi's leading digits in the votes.\n",
    "    \n",
    "    Does not return anything!\n",
    "    \"\"\"\n",
    "    # template based on function composition (from HtDAP)\n",
    "    plot_karrubi_histogram(read(filename))\n",
    "\n",
    "@typecheck\n",
    "def plot_karrubi_histogram(karrubi_votes: List[int]) -> None:\n",
    "    \"\"\"\n",
    "    Plots a histogram of the leading digits of the votes for Karrubi.\n",
    "    \n",
    "    Does not return anything!\n",
    "    \"\"\"\n",
    "    #return None  #stub\n",
    "    # template based on function composition\n",
    "    plot_histogram(get_leading_digits(karrubi_votes))\n",
    "\n",
    "\n",
    "start_testing()\n",
    "\n",
    "# This should produce an ALMOST empty graph with: x-axis \"Leading Digit\",\n",
    "# y-axis \"Number of Cities\", title \"Leading Digits of Karrubi Vote Counts\",\n",
    "# and ticks neatly spaced and labeled 1, 2, ..., 9 across the x axis.\n",
    "#\n",
    "# It will have a bar on 3 going up to 1 and no other bars.\n",
    "expect(main('2009-iranian-presidential-election-votes-tiny.csv'), None)\n",
    "\n",
    "# This should produce an empty graph with: x-axis \"Leading Digit\",\n",
    "# y-axis \"Number of Cities\", title \"Leading Digits of Karrubi Vote Counts\",\n",
    "# and ticks neatly spaced and labeled 1, 2, ..., 9 across the x axis.\n",
    "expect(plot_karrubi_histogram([]), None)\n",
    "\n",
    "\n",
    "# Testing plot_karrubi_histogram and main against this sketch:\n",
    "\n",
    "#      |\n",
    "#    3 |   \n",
    "#      |   \n",
    "#    2 |  *\n",
    "#      |  *\n",
    "#    1 |  *     *     *  *\n",
    "#      |  *     *     *  *\n",
    "#      +-----------------------------\n",
    "#         1  2  3  4  5  6  7  8  9\n",
    "\n",
    "expect(main('2009-iranian-presidential-election-votes-small.csv'), None)\n",
    "expect(plot_karrubi_histogram(L1), None)\n",
    "summary()"
   ]
  },
  {
   "cell_type": "markdown",
   "metadata": {},
   "source": [
    "## The Actual Plot"
   ]
  },
  {
   "cell_type": "code",
   "execution_count": 6,
   "metadata": {},
   "outputs": [
    {
     "data": {
      "image/png": "[encoded data removed]",
      "text/plain": [
       "<Figure size 432x288 with 1 Axes>"
      ]
     },
     "metadata": {
      "needs_background": "light"
     },
     "output_type": "display_data"
    }
   ],
   "source": [
    "main('2009-iranian-presidential-election-votes.csv')\n",
    "\n",
    "# One of the pieces of evidence of fraud was the large deviation\n",
    "# from the expected result in the 7's place. (It's harder to see,\n",
    "# but the 2's place was also problematic.)"
   ]
  }
 ],
 "metadata": {
  "kernelspec": {
   "display_name": "Python 3",
   "language": "python",
   "name": "python3"
  },
  "language_info": {
   "codemirror_mode": {
    "name": "ipython",
    "version": 3
   },
   "file_extension": ".py",
   "mimetype": "text/x-python",
   "name": "python",
   "nbconvert_exporter": "python",
   "pygments_lexer": "ipython3",
   "version": "3.6.6"
  }
 },
 "nbformat": 4,
 "nbformat_minor": 2
}
