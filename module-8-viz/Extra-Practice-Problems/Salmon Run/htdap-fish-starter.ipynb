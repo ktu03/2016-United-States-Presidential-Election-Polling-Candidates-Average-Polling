{
 "cells": [
  {
   "cell_type": "markdown",
   "metadata": {},
   "source": [
    "# Problem\n",
    "\n",
    "Work through the How to Design Analysis Programs recipe for the problem below. We have given you a solution for Step 1b, but you'll need to do the rest yourself."
   ]
  },
  {
   "cell_type": "markdown",
   "metadata": {},
   "source": [
    "# Problem Description\n",
    "\n",
    "You have information from Fisheries and Oceans Canada on the salmon run in a particular tributary of the Fraser River in the following form:\n",
    "\n",
    "| Year | Average Flow Rate (Fraser) | Average Flow Rate (tributary mouth) | Blocks | Salmon Return | Tagging  |\n",
    "|------|----------------------------|-------------------------------------|--------|---------------|----------|\n",
    "| 1908 |                       3.22 |                                     |      4 |           4.2 | Physical |\n",
    "| 1909 |                       4.89 |                                1.72 |      4 |           4.9 | Physical |\n",
    "| 1910 |                       3.70 |                                0.25 |      5 |           3.2 | Chemical |\n",
    "| 1911 |                       3.48 |                                0.55 |      5 |           3.4 | Radio    |\n",
    "\n",
    "Note that flow rate for the tributary is only available for certain years and blank otherwise. Assume that only the tagging methods shown here are used.\n",
    "\n",
    "Notes: Flow rates are in 1000 cubic metres/second. Blocks are blockages (dams and other major obstructions) along the tributary. Estimated salmon rates of return are listed in percentages (e.g., 4.2%). Salmon were tagged using the method list in that particular year.\n",
    "\n",
    "This information is available in `csv` format in the file `fish.csv`."
   ]
  },
  {
   "cell_type": "markdown",
   "metadata": {},
   "source": [
    "## Planning\n",
    "\n",
    "### Step 1a: Identify the information in the file your program will read\n",
    "\n",
    "**The year of the data, the average flow rate for Fraser River, the average flow rate for the tributary mouth, the number of blocks (blockages), the salmon rates of return, and the tagging method**"
   ]
  },
  {
   "cell_type": "markdown",
   "metadata": {},
   "source": [
    "### Step 1b: Write a description of what your program will produce\n",
    "\n",
    "Here are a few things we might do with this data:\n",
    "\n",
    "1. Plot tributary flow against the year (only for years for which we have tributary flow information).\n",
    "2. List the years when the salmon run was above average.\n",
    "3. Graph tributary flow divided by Fraser flow vs. time\n",
    "4. Filter the data to the years with radio tagging.\n",
    "\n",
    "\n",
    "We'll choose to focus on #1.\n",
    "\n",
    "Normally, we'd only represent the information that we need to solve the current problem. However, for this problem we'll represent *all* the information in the file as data so that we get extra practice with data definitions."
   ]
  },
  {
   "cell_type": "markdown",
   "metadata": {},
   "source": [
    "### Step 1c: Write or draw examples of what your program will produce\n",
    "\n",
    "**Your solution goes here**\n",
    "\n"
   ]
  },
  {
   "cell_type": "markdown",
   "metadata": {},
   "source": [
    "## Building the Program\n",
    "\n",
    "### Step 2a: Design data definitions\n",
    "\n",
    "Since we decided to store all the information in the file as data in our program, we want to represent all of the pieces of each row. We also need a separate data definition for the tagging method and for the flow rate. "
   ]
  },
  {
   "cell_type": "code",
   "execution_count": null,
   "metadata": {},
   "outputs": [],
   "source": [
    "from cs103 import *\n",
    "from typing import NamedTuple, List, Optional\n",
    "from enum import Enum\n",
    "import csv\n",
    "\n",
    "##################\n",
    "# Data Definitions\n",
    "\n",
    "FlowRate = Optional[float]\n",
    "\n",
    "#interp. the flow rate of a river/tributary\n",
    "\n",
    "FR0 = 0\n",
    "FR1 = 3.4\n",
    "FR2 = 5.7\n",
    "FR3 = 6.7\n",
    "FR4 = 10.2\n",
    "\n",
    "@typecheck\n",
    "def fn_for_flow_rate(fr: FlowRate) -> ...:\n",
    "    \n",
    "    #template from Optional\n",
    "    if fr == None:\n",
    "        return...\n",
    "    else:\n",
    "        return ...(fr)\n",
    "\n",
    "\n",
    "TaggingMethod = Enum('TaggingMethod', ['Physical', 'Chemical', 'Radio'])\n",
    "\n",
    "#interp. the tagging method for salmon that can be physical, chemical, or radio\n",
    "\n",
    "#examples are redundant for enumerations\n",
    "\n",
    "@typecheck\n",
    "def fn_for_tagging_method(tm: TaggingMethod) -> ...:\n",
    "    #template from enumeration (3 times)\n",
    "    if tm == TaggingMethod.Physical:\n",
    "        return... \n",
    "    elif tm == TaggingMethod.Chemical:\n",
    "        return ...\n",
    "    elif tm == TaggingMethod.Radio:\n",
    "        return...\n",
    "\n",
    "    \n",
    "SalmonRun = NamedTuple('SalmonRun', [('year', int), \n",
    "                                     ('fraser_flow_rate', FlowRate), \n",
    "                                     ('tributary_flow_rate', FlowRate),\n",
    "                                    ('blocks', int),\n",
    "                                    ('salmon_return_rate', float),\n",
    "                                    ('tagging', TaggingMethod)])\n",
    "\n",
    "#interp. the salmon run of a tributary in the Fraser River with a year (year), average flow rate for the Fraser River (fraser_flow_rate),\n",
    "#average flow rate for the tributary mouth (tributary_flow_rate), number of blockages (blocks), the salmon return rate (salmon_return_rate), and the tagging method (tagging)\n",
    "\n",
    "SR0 = SalmonRun(1999, 4.7, 2.4, 4, 4.5, TaggingMethod.Physical)\n",
    "SR1 = SalmonRun(2008, None, 2.9, 9, 5.6, TaggingMethod.Chemical)\n",
    "SR2 = SalmonRun(2018, 6.5, None, 3, 7.6, TaggingMethod.Radio)\n",
    "SR3 = SalmonRun(2020, None, None, 10, 7.3, TaggingMethod.Radio)\n",
    "\n",
    "@typecheck\n",
    "def fn_for_salmon_run(sr: SalmonRun) -> ...:\n",
    "    #template based on Compound (6 fields) and reference rule\n",
    "    return ...(sr.year, \n",
    "               fn_for_flow_rate(sr.fraser_flow_rate), \n",
    "               fn_for_flow_rate(sr.tributary_flow_rate), \n",
    "              sr.blocks,\n",
    "              sr.salmon_return_rate,\n",
    "              fn_for_tagging_method(sr.TaggingMethod))\n"
   ]
  },
  {
   "cell_type": "markdown",
   "metadata": {},
   "source": [
    "### Step 2b: Design a function to read the information and store it as data in your program"
   ]
  },
  {
   "cell_type": "code",
   "execution_count": null,
   "metadata": {},
   "outputs": [],
   "source": [
    "# Your solution goes here (Note: you'll need to think carefully about \n",
    "# how to parse the tagging method)\n",
    "\n",
    "\n",
    "@typecheck\n",
    "def read(filename: str) -> List[SalmonRun]:\n",
    "    \"\"\"\n",
    "    reads information from the specified file and returns the result\n",
    "    \"\"\"\n",
    "    #return [] #stub\n",
    "    # Template from HtDAP\n",
    "    # losr contains the result so far\n",
    "    losr = [] # type: List[SalmonRun]\n",
    "    with open(filename) as csvfile:\n",
    "        reader = csv.reader(csvfile)\n",
    "        next(reader) # skip header line\n",
    "        for row in reader:\n",
    "            # you may not need to store all the rows, and you may need\n",
    "            # to convert some of the strings to other types\n",
    "            sr = SalmonRun(parse_int(row[0]), parse_float(row[1]), parse_float(row[2]) parse_int(row[3]) ,parse_float(row[4]), parse_tagging_method(row[5]))\n",
    "            loc.append(c)\n",
    "    return loc"
   ]
  },
  {
   "cell_type": "markdown",
   "metadata": {},
   "source": [
    "### Step 2c: Design functions to analyze the data\n",
    "\n",
    "Our main analysis function will first filter out the years with no tributary information and then plot the tributary rate vs. year for what remains. "
   ]
  },
  {
   "cell_type": "code",
   "execution_count": null,
   "metadata": {},
   "outputs": [],
   "source": [
    "import matplotlib.pyplot as pyplot\n",
    "\n",
    "def is_re\n",
    "# Your solution goes here"
   ]
  },
  {
   "cell_type": "code",
   "execution_count": null,
   "metadata": {},
   "outputs": [],
   "source": [
    "# Calling our main function so that we can see what it shows\n",
    "main('fish.csv')"
   ]
  }
 ],
 "metadata": {
  "kernelspec": {
   "display_name": "Python 3 (ipykernel)",
   "language": "python",
   "name": "python3"
  },
  "language_info": {
   "codemirror_mode": {
    "name": "ipython",
    "version": 3
   },
   "file_extension": ".py",
   "mimetype": "text/x-python",
   "name": "python",
   "nbconvert_exporter": "python",
   "pygments_lexer": "ipython3",
   "version": "3.11.4"
  }
 },
 "nbformat": 4,
 "nbformat_minor": 2
}
