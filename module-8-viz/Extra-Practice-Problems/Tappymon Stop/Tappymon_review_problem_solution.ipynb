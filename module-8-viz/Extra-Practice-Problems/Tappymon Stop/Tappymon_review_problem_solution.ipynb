{
 "cells": [
  {
   "cell_type": "markdown",
   "metadata": {},
   "source": [
    "# Problem Description\n",
    "\n",
    "You have information on creatures from the wildly popular game \"Tappymon Stop\" in the following form:\n",
    "\n",
    "| Creature    | Type  | Attack Name | Attack Damage | Attack Duration (s) |\n",
    "|-------------|-------|-------------|---------------|---------------------|\n",
    "| Slowtap     | Water | Sploosh     |             5 |                   2 |\n",
    "| Seatras     | Water | Spray       |             8 |                 1.1 |\n",
    "| Slowsis     | Water | Sploosh     |            10 |                   2 |\n",
    "| Ceevee      | Earth | Pwoosh      |            15 |                 5.5 |\n",
    "| Fireworkeon | Fire  | Fwoosh      |            35 |                   6 |\n",
    "\n",
    "Assume that the only types of Tappymon Stop creatures are Water, Fire, and Earth. However, there are many creature and attack names, and more are frequently added.\n",
    "\n",
    "This information is available in `csv` format in the file `tappy.csv`."
   ]
  },
  {
   "cell_type": "markdown",
   "metadata": {},
   "source": [
    "## Planning\n",
    "\n",
    "### Step 1a: Identify the information in the file your program will read\n",
    "\n",
    "The files contain information on creatures in the game Tappymon stop, each with its name, its type (one of Water, Fire, and Earth), its attack name, damage (in points per attack), and duration (in seconds for the attack). Damage is always an integer, but attack duration may not be."
   ]
  },
  {
   "cell_type": "markdown",
   "metadata": {},
   "source": [
    "### Step 1b: Write a description of what your program will produce\n",
    "\n",
    "Here are a few things we might do with this data:\n",
    "\n",
    "5. Find all the creatures with a given attack name.\n",
    "6. Chart the \"damage per second\" (attack damage divided by attack duration) vs. damage\n",
    "7. Create a scatterplot of duration vs. damage.\n",
    "\n",
    "We'll focus on the second of these, but we'll represent *all* the information in the file for future use in other analyses.\n",
    "\n",
    "**We will make the assumption that (as in the example above) the information is provided in sorted order by attack damage.**"
   ]
  },
  {
   "cell_type": "markdown",
   "metadata": {},
   "source": [
    "### Step 1c: Write or draw examples of what your program will produce\n",
    "\n",
    "We'll use the small example above to show what we might produce.\n",
    "\n",
    "Plotting this data, it might look a bit like the following:\n",
    "\n",
    "          |                                                \n",
    "        9 |                                                   \n",
    "          |      *                                           \n",
    "        6 |     / \\                         *\n",
    "          |    |   *----\\ /----------------/                        \n",
    "        3 |    |         *                    \n",
    "          |   *                              \n",
    "          +------------------------------------------------\n",
    "              5   10   15   20   25   30   35   40"
   ]
  },
  {
   "cell_type": "markdown",
   "metadata": {},
   "source": [
    "## Building the Program\n",
    "\n",
    "### Step 2a: Design data definitions\n",
    "\n"
   ]
  },
  {
   "cell_type": "code",
   "execution_count": 1,
   "metadata": {},
   "outputs": [],
   "source": [
    "from cs103 import *\n",
    "from typing import NamedTuple, List\n",
    "from enum import Enum\n",
    "import csv\n",
    "\n",
    "##################\n",
    "# Data Definitions\n",
    "\n",
    "CreatureType = Enum('CreatureType', ['Fire', 'Earth', 'Water'])\n",
    "# interp. the category of a creature\n",
    "# examples are redundant for enumerations\n",
    "\n",
    "# template based on one of (3 cases) and atomic distinct (3x)\n",
    "@typecheck\n",
    "def fn_for_creature_type(ct: CreatureType) -> ...:\n",
    "    if ct == CreatureType.Fire:\n",
    "        return ...\n",
    "    elif ct == CreatureType.Earth:\n",
    "        return ...\n",
    "    elif ct == CreatureType.Water:\n",
    "        return ...\n",
    "    \n",
    "    \n",
    "\n",
    "Creature = NamedTuple('Creature', [('name', str),\n",
    "                                   ('ctype', CreatureType),\n",
    "                                   ('attack', str),\n",
    "                                   ('dmg', int),\n",
    "                                   ('duration', float)])\n",
    "# interp. information about a Tappymon Stop creature, with the name of\n",
    "# the creature, its type, its attack name, damage, and duration (in seconds).\n",
    "#\n",
    "# We assume duration is greater than 0.\n",
    "C_SLOWTAP = Creature('Slowtap', CreatureType.Water, 'Sploosh', 5, 2)\n",
    "C_SEATRAS = Creature('Seatras', CreatureType.Water, 'Spray', 8, 1.1)\n",
    "C_SLOWSIS = Creature('Slowsis', CreatureType.Water, 'Sploosh', 10, 2)\n",
    "C_CEEVEE = Creature('Ceevee', CreatureType.Earth, 'Pwoosh', 15, 5.5)\n",
    "C_FIREWORKEON = Creature('Fireworkeon', CreatureType.Fire, 'Fwoosh', 35, 6)\n",
    "\n",
    "# template based on compound (5 fields) and reference rule (once)\n",
    "@typecheck\n",
    "def fn_for_creature(c: Creature) -> ...:\n",
    "    return ...(c.name,\n",
    "               fn_for_creature_type(c.ctype),\n",
    "               c.attack,\n",
    "               c.dmg,\n",
    "               c.duration)\n",
    "\n",
    "# List[Creature]\n",
    "# interp. a list of Tappymon Stop creature data\n",
    "LOC0 = []\n",
    "LOC1 = [C_SLOWTAP, C_SLOWSIS, C_CEEVEE]\n",
    "LOC2 = [C_SLOWTAP, C_SEATRAS, C_SLOWSIS, C_CEEVEE, C_FIREWORKEON]\n",
    "\n",
    "# template based on arbitrary-sized and reference rule\n",
    "@typecheck\n",
    "def fn_for_loc(loc: List[Creature]) -> ...:\n",
    "    # description of the acc\n",
    "    acc = ...      # type: ...\n",
    "    for c in loc:\n",
    "        acc = ...(fn_for_creature(c), acc)\n",
    "    \n",
    "    return ...(acc)"
   ]
  },
  {
   "cell_type": "markdown",
   "metadata": {},
   "source": [
    "### Step 2b: Design a function to read the information and store it as data in your program"
   ]
  },
  {
   "cell_type": "code",
   "execution_count": 2,
   "metadata": {},
   "outputs": [
    {
     "name": "stdout",
     "output_type": "stream",
     "text": [
      "\u001b[92m6 of 6 tests passed\u001b[0m\n"
     ]
    }
   ],
   "source": [
    "@typecheck\n",
    "def read(filename: str) -> List[Creature]:\n",
    "    \"\"\"    \n",
    "    reads information from the specified file and returns a list of creatures\n",
    "    \"\"\"\n",
    "    # return []  #stub\n",
    "    # Template from HtDAP\n",
    "    # loc contains the result so far\n",
    "    loc = [] # type: List[Creature]\n",
    "\n",
    "    with open(filename) as csvfile:\n",
    "        \n",
    "        reader = csv.reader(csvfile)\n",
    "        \n",
    "        # skip header line\n",
    "        next(reader) \n",
    "\n",
    "        for row in reader:\n",
    "            c = Creature(row[0],                         # name\n",
    "                         parse_creature_type(row[1]),    # type\n",
    "                         row[2],                         # attack name\n",
    "                         parse_int(row[3]),              # damage\n",
    "                         parse_float(row[4]))            # duration\n",
    "            loc.append(c)\n",
    "    \n",
    "    return loc\n",
    "\n",
    "@typecheck\n",
    "def parse_creature_type(input: str) -> CreatureType:\n",
    "    \"\"\"\n",
    "    convert input (which must be one of \"Fire\", \"Earth\", or \"Water\") into\n",
    "    the corresponding CreatureType.\n",
    "    \"\"\"\n",
    "    #return CreatureType.Fire  #stub\n",
    "    #template from atomic non-distinct (with guidance from CreatureType)\n",
    "    if input == \"Fire\":\n",
    "        return CreatureType.Fire\n",
    "    elif input == \"Earth\":\n",
    "        return CreatureType.Earth\n",
    "    elif input == \"Water\":\n",
    "        return CreatureType.Water\n",
    "\n",
    "start_testing()\n",
    "\n",
    "expect(read(\"empty_tappy.csv\"), [])\n",
    "expect(read(\"short_tappy.csv\"), LOC1)\n",
    "expect(read(\"tappy.csv\"), LOC2)\n",
    "\n",
    "expect(parse_creature_type(\"Fire\"), CreatureType.Fire)\n",
    "expect(parse_creature_type(\"Earth\"), CreatureType.Earth)\n",
    "expect(parse_creature_type(\"Water\"), CreatureType.Water)\n",
    "\n",
    "summary()\n"
   ]
  },
  {
   "cell_type": "markdown",
   "metadata": {},
   "source": [
    "### Step 2c: Design functions to analyze the data\n",
    "\n",
    "Our main analysis function will plot the damage per second (DPS) versus damage. To do that, we need to extract the damages and the DPS's. To do the latter, we need to find the DPS of a Tappymon Creature.\n"
   ]
  },
  {
   "cell_type": "code",
   "execution_count": 3,
   "metadata": {},
   "outputs": [
    {
     "data": {
      "image/png": "[encoded data removed]",
      "text/plain": [
       "<Figure size 432x288 with 1 Axes>"
      ]
     },
     "metadata": {
      "needs_background": "light"
     },
     "output_type": "display_data"
    },
    {
     "data": {
      "image/png": "[encoded data removed]",
      "text/plain": [
       "<Figure size 432x288 with 1 Axes>"
      ]
     },
     "metadata": {
      "needs_background": "light"
     },
     "output_type": "display_data"
    },
    {
     "name": "stdout",
     "output_type": "stream",
     "text": [
      "\u001b[92m8 of 8 tests passed\u001b[0m\n"
     ]
    }
   ],
   "source": [
    "import matplotlib.pyplot as pyplot\n",
    "\n",
    "@typecheck\n",
    "def plot_dps_vs_dmg(creature_data: List[Creature]) -> None:\n",
    "    \"\"\"\n",
    "    Plots the damage per second (DPS) vs. damage of each creature. \n",
    "    Assumes creature_data is sorted by damage.\n",
    "    \n",
    "    Draws the plot and returns None.\n",
    "    \"\"\"\n",
    "    #return None  #stub\n",
    "    # Template based on visualization\n",
    "    # We divided off two distinct subtasks into helper functions: \n",
    "    # + getting the damage of each creature\n",
    "    # + getting the damage-per-second of each creature\n",
    "    \n",
    "    pyplot.title('DPS vs. Damage')\n",
    "    pyplot.ylabel('DPS (damage per second)')\n",
    "    pyplot.xlabel('Damage')\n",
    "    pyplot.plot(get_dmg_list(creature_data), get_dps_list(creature_data))\n",
    "    pyplot.show()\n",
    "    \n",
    "\n",
    "@typecheck\n",
    "def get_dmg_list(loc: List[Creature]) -> List[int]:\n",
    "    \"\"\"\n",
    "    produce the damage of each Creature in the list\n",
    "    \"\"\"\n",
    "    #return []  #stub\n",
    "    #template from List[Creature]\n",
    "    \n",
    "    # dmgs is a list of the damages seen so far\n",
    "    dmgs = []   # type: List[int]\n",
    "    for c in loc:\n",
    "        dmgs.append(c.dmg)\n",
    "    \n",
    "    return dmgs\n",
    "\n",
    "@typecheck\n",
    "def get_dps_list(loc: List[Creature]) -> List[float]:\n",
    "    \"\"\"\n",
    "    produce the DPS (damage per second) of each Creature in the list\n",
    "    \"\"\"\n",
    "    #return []  #stub\n",
    "    #template from List[Creature]\n",
    "    \n",
    "    # dps_list is a list of the dps's seen so far\n",
    "    dps_list = []   # type: List[float]\n",
    "    for c in loc:\n",
    "        dps_list.append(calc_dps(c))\n",
    "    \n",
    "    return dps_list\n",
    "\n",
    "@typecheck\n",
    "def calc_dps(c: Creature) -> float:\n",
    "    \"\"\"\n",
    "    find the DPS (damage per second) of a creature\n",
    "    \"\"\"\n",
    "    #return 1  #stub\n",
    "    #template from Creature\n",
    "    return c.dmg / c.duration\n",
    "\n",
    "start_testing()\n",
    "\n",
    "# Should produce an empty plot with x-axis \"Damage\", \n",
    "# y-axis \"DPS (damage per second)\", and title \"DPS vs. Damage\".\n",
    "expect(plot_dps_vs_dmg([]), None)\n",
    "\n",
    "\n",
    "# See the sketched plot in step 1c above for roughly what this should look like.\n",
    "expect(plot_dps_vs_dmg(LOC2), None)\n",
    "\n",
    "expect(get_dmg_list([]), [])\n",
    "expect(get_dmg_list(LOC1), [5, 10, 15])\n",
    "\n",
    "expect(get_dps_list([]), [])\n",
    "expect(get_dps_list(LOC1), [2.5, 5, 15/5.5])\n",
    "\n",
    "expect(calc_dps(C_SLOWTAP), 2.5)\n",
    "expect(calc_dps(C_CEEVEE), 15/5.5)\n",
    "\n",
    "summary()"
   ]
  },
  {
   "cell_type": "markdown",
   "metadata": {},
   "source": [
    "Note that we're not asking you for the `main` function, though it may be good practice to design it anyway!\n",
    "\n",
    "Briefly, the `main` function would use composition to link together the `read` function with the `plot_dps_vs_dmg` function. For testing, you can use two of the sample files already consturcted for `read`."
   ]
  }
 ],
 "metadata": {
  "kernelspec": {
   "display_name": "Python 3",
   "language": "python",
   "name": "python3"
  },
  "language_info": {
   "codemirror_mode": {
    "name": "ipython",
    "version": 3
   },
   "file_extension": ".py",
   "mimetype": "text/x-python",
   "name": "python",
   "nbconvert_exporter": "python",
   "pygments_lexer": "ipython3",
   "version": "3.6.6"
  }
 },
 "nbformat": 4,
 "nbformat_minor": 2
}
