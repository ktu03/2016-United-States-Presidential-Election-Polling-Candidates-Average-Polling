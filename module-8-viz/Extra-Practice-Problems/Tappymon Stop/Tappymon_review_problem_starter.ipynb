{
 "cells": [
  {
   "cell_type": "markdown",
   "metadata": {},
   "source": [
    "# Problem Description\n",
    "\n",
    "You have information on creatures from the wildly popular game \"Tappymon Stop\" in the following form:\n",
    "\n",
    "| Creature    | Type  | Attack Name | Attack Damage | Attack Duration (s) |\n",
    "|-------------|-------|-------------|---------------|---------------------|\n",
    "| Slowtap     | Water | Sploosh     |             5 |                   2 |\n",
    "| Seatras     | Water | Spray       |             8 |                 1.1 |\n",
    "| Slowsis     | Water | Sploosh     |            10 |                   2 |\n",
    "| Ceevee      | Earth | Pwoosh      |            15 |                 5.5 |\n",
    "| Fireworkeon | Fire  | Fwoosh      |            35 |                   6 |\n",
    "\n",
    "Assume that the only types of Tappymon Stop creatures are Water, Fire, and Earth. However, there are many creature and attack names, and more are frequently added.\n",
    "\n",
    "This information is available in `csv` format in the file `tappy.csv`."
   ]
  },
  {
   "cell_type": "markdown",
   "metadata": {},
   "source": [
    "## Planning\n",
    "\n",
    "### Step 1a: Identify the information in the file your program will read\n",
    "\n",
    "The files contain information on creatures in the game Tappymon stop, each with its name, its type (one of Water, Fire, and Earth), its attack name, damage (in points per attack), and duration (in seconds for the attack). Damage is always an integer, but attack duration may not be."
   ]
  },
  {
   "cell_type": "markdown",
   "metadata": {},
   "source": [
    "### Step 1b: Write a description of what your program will produce\n",
    "\n",
    "Here are a few things we might do with this data:\n",
    "\n",
    "5. Find all the creatures with a given attack name.\n",
    "6. Chart the \"damage per second\" (attack damage divided by attack duration) vs. damage\n",
    "7. Create a scatterplot of duration vs. damage.\n",
    "\n",
    "We'll focus on the second of these, but we'll represent *all* the information in the file for future use in other analyses.\n",
    "\n",
    "**We will make the assumption that (as in the example above) the information is provided in sorted order by attack damage.**"
   ]
  },
  {
   "cell_type": "markdown",
   "metadata": {},
   "source": [
    "### Step 1c: Write or draw examples of what your program will produce\n",
    "\n",
    "We'll use the small example above to show what we might produce.\n",
    "\n",
    "Plotting this data, it might look a bit like the following:\n",
    "\n",
    "          |                                                \n",
    "        9 |                                                   \n",
    "          |      *                                           \n",
    "        6 |     / \\                         *\n",
    "          |    |   *----\\ /----------------/                        \n",
    "        3 |    |         *                    \n",
    "          |   *                              \n",
    "          +------------------------------------------------\n",
    "              5   10   15   20   25   30   35   40"
   ]
  },
  {
   "cell_type": "markdown",
   "metadata": {},
   "source": [
    "## Building the Program\n",
    "\n",
    "### Step 2a: Design data definitions\n",
    "\n"
   ]
  },
  {
   "cell_type": "code",
   "execution_count": 1,
   "metadata": {},
   "outputs": [],
   "source": [
    "from cs103 import *\n",
    "from typing import NamedTuple, List\n",
    "from enum import Enum\n",
    "import csv\n"
   ]
  },
  {
   "cell_type": "markdown",
   "metadata": {},
   "source": [
    "### Step 2b: Design a function to read the information and store it as data in your program"
   ]
  },
  {
   "cell_type": "code",
   "execution_count": null,
   "metadata": {},
   "outputs": [],
   "source": []
  },
  {
   "cell_type": "markdown",
   "metadata": {},
   "source": [
    "### Step 2c: Design functions to analyze the data\n",
    "\n",
    "Our main analysis function will plot the damage per second (DPS) versus damage. To do that, we need to extract the damages and the DPS's. To do the latter, we need to find the DPS of a Tappymon Creature.\n"
   ]
  },
  {
   "cell_type": "code",
   "execution_count": 2,
   "metadata": {},
   "outputs": [],
   "source": [
    "import matplotlib.pyplot as pyplot\n",
    "\n"
   ]
  },
  {
   "cell_type": "markdown",
   "metadata": {},
   "source": [
    "Note that we're not asking you for the `main` function, though it may be good practice to design it anyway!"
   ]
  }
 ],
 "metadata": {
  "kernelspec": {
   "display_name": "Python 3",
   "language": "python",
   "name": "python3"
  },
  "language_info": {
   "codemirror_mode": {
    "name": "ipython",
    "version": 3
   },
   "file_extension": ".py",
   "mimetype": "text/x-python",
   "name": "python",
   "nbconvert_exporter": "python",
   "pygments_lexer": "ipython3",
   "version": "3.6.6"
  }
 },
 "nbformat": 4,
 "nbformat_minor": 2
}
