{
 "cells": [
  {
   "cell_type": "markdown",
   "metadata": {
    "editable": false
   },
   "source": [
    "# Visualization Code Review Solution #1"
   ]
  },
  {
   "cell_type": "markdown",
   "metadata": {
    "editable": false
   },
   "source": [
    "## Problem: \n",
    "\n",
    "\n",
    "Design a function that displays a line chart to show a child's growth over time. "
   ]
  },
  {
   "cell_type": "code",
   "execution_count": null,
   "metadata": {
    "editable": false
   },
   "outputs": [],
   "source": [
    "# This cell is uneditable so you can refer back to the original version of the solution.\n",
    "\n",
    "from cs103 import *\n",
    "from typing import List\n",
    "\n",
    "# List[int]\n",
    "# interp. a list of ints\n",
    "L0 = []\n",
    "L1 = [2, -5, 0]\n",
    "\n",
    "# template based on arbitrary-sized\n",
    "@typecheck\n",
    "def fn_for_loi(loi: List[int]) -> ...:\n",
    "    # description of accumulator\n",
    "    acc = ...    # type: ...\n",
    "    \n",
    "    for i in loi:\n",
    "        acc = ...(i, acc)\n",
    "        \n",
    "    return ...(acc)"
   ]
  },
  {
   "cell_type": "code",
   "execution_count": null,
   "metadata": {
    "editable": false
   },
   "outputs": [],
   "source": [
    "# This cell is uneditable so you can refer back to the original version of the solution.\n",
    "\n",
    "# Given data \n",
    "ages = [2,3,4,5,6,7,8,9,10,11,12,13] # in years\n",
    "\n",
    "heights = [87, 96, 104, 110, 116, 121, 128, 132, 138, 143, 150, 155] # in centimetres\n",
    "\n"
   ]
  },
  {
   "cell_type": "code",
   "execution_count": null,
   "metadata": {
    "editable": false
   },
   "outputs": [],
   "source": [
    "# This cell is uneditable so you can refer back to the original version of the solution.\n",
    "\n",
    "import matplotlib.pyplot as pyplot\n",
    "\n",
    "#@typecheck\n",
    "\n",
    "def child_growth(ChildAges: List[int], ChildHeights: List[int])->Image:\n",
    "\n",
    "#returns Image #stub\n",
    "# Template based on visualization\n",
    "    return pyplot.plot(ages, ChildHeights)\n",
    "\n",
    "#pyplot.xlabel('Ages')\n",
    "#pyplot.ylabel('Heights')\n",
    "#pyplot.title('Childs Height over Time')\n",
    "\n",
    "\n",
    "#start_testing()\n",
    "#expect(child_growth(Ages, Heights), Image)\n",
    "#summary()"
   ]
  },
  {
   "cell_type": "code",
   "execution_count": null,
   "metadata": {},
   "outputs": [],
   "source": [
    "# Feel free to edit this cell as needed.\n",
    "\n",
    "import matplotlib.pyplot as pyplot\n",
    "\n",
    "#@typecheck\n",
    "\n",
    "def child_growth(ChildAges: List[int], ChildHeights: List[int])->Image:\n",
    "\n",
    "#returns Image #stub\n",
    "# Template based on visualization\n",
    "    return pyplot.plot(ages, ChildHeights)\n",
    "\n",
    "#pyplot.xlabel('Ages')\n",
    "#pyplot.ylabel('Heights')\n",
    "#pyplot.title('Childs Height over Time')\n",
    "\n",
    "\n",
    "#start_testing()\n",
    "#expect(child_growth(Ages, Heights), Image)\n",
    "#summary()"
   ]
  }
 ],
 "metadata": {
  "kernelspec": {
   "display_name": "Python 3 (ipykernel)",
   "language": "python",
   "name": "python3"
  },
  "language_info": {
   "codemirror_mode": {
    "name": "ipython",
    "version": 3
   },
   "file_extension": ".py",
   "mimetype": "text/x-python",
   "name": "python",
   "nbconvert_exporter": "python",
   "pygments_lexer": "ipython3",
   "version": "3.9.9"
  }
 },
 "nbformat": 4,
 "nbformat_minor": 2
}
