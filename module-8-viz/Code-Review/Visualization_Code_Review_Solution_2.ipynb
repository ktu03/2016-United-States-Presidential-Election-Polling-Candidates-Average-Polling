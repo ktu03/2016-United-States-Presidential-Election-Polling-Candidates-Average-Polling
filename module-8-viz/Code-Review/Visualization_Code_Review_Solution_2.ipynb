{
 "cells": [
  {
   "cell_type": "markdown",
   "metadata": {
    "editable": false
   },
   "source": [
    "# Visualization Code Review Solution #2"
   ]
  },
  {
   "cell_type": "markdown",
   "metadata": {
    "editable": false
   },
   "source": [
    "## Problem: \n",
    "\n",
    "\n",
    "Design a function that displays a line chart to show a child's growth over time. "
   ]
  },
  {
   "cell_type": "code",
   "execution_count": null,
   "metadata": {
    "editable": false
   },
   "outputs": [],
   "source": [
    "# This cell is uneditable so you can refer back to the original version of the solution.\n",
    "\n",
    "from cs103 import *\n",
    "from typing import List\n",
    "\n",
    "# List[int]\n",
    "# interp. a list of ints\n",
    "L0 = []\n",
    "L1 = [2, -5, 0]\n",
    "\n",
    "# template based on arbitrary-sized\n",
    "@typecheck\n",
    "def fn_for_loi(loi: List[int]) -> ...:\n",
    "    # description of accumulator\n",
    "    acc = ...    # type: ...\n",
    "    \n",
    "    for i in loi:\n",
    "        acc = ...(i, acc)\n",
    "        \n",
    "    return ...(acc)"
   ]
  },
  {
   "cell_type": "code",
   "execution_count": null,
   "metadata": {
    "editable": false
   },
   "outputs": [],
   "source": [
    "# This cell is uneditable so you can refer back to the original version of the solution.\n",
    "\n",
    "# Given data \n",
    "ages = [2,3,4,5,6,7,8,9,10,11,12,13] # in years\n",
    "\n",
    "heights = [87, 96, 104, 110, 116, 121, 128, 132, 138, 143, 150, 155] # in centimetres"
   ]
  },
  {
   "cell_type": "code",
   "execution_count": null,
   "metadata": {
    "editable": false
   },
   "outputs": [],
   "source": [
    "# This cell is uneditable so you can refer back to the original version of the solution.\n",
    "\n",
    "import numpy as np\n",
    "import matplotlib.pyplot as plt\n",
    "\n",
    "\n",
    "plt.plot([2,3,4,5,6,7,8,9,10,11,12,13],[87, 96, 104, 110, 116, 121, 128, 132, 138, 143, 150, 155], 'b--')\n",
    "\n",
    "#plt.title('')\n",
    "plt.xlabel('Ages in Years')\n",
    "plt.ylabel('Heights in cm')\n",
    "plt.axis([0, 14, 80, 160])\n",
    "plt.grid(True)\n",
    "plt.show()"
   ]
  },
  {
   "cell_type": "code",
   "execution_count": null,
   "metadata": {},
   "outputs": [],
   "source": [
    "# Feel free to edit this cell as needed.\n",
    "\n",
    "import numpy as np\n",
    "import matplotlib.pyplot as plt\n",
    "\n",
    "\n",
    "plt.plot([2,3,4,5,6,7,8,9,10,11,12,13],[87, 96, 104, 110, 116, 121, 128, 132, 138, 143, 150, 155], 'b--')\n",
    "\n",
    "#plt.title('')\n",
    "plt.xlabel('Ages in Years')\n",
    "plt.ylabel('Heights in cm')\n",
    "plt.axis([0, 14, 80, 160])\n",
    "plt.grid(True)\n",
    "plt.show()"
   ]
  }
 ],
 "metadata": {
  "kernelspec": {
   "display_name": "Python 3",
   "language": "python",
   "name": "python3"
  },
  "language_info": {
   "codemirror_mode": {
    "name": "ipython",
    "version": 3
   },
   "file_extension": ".py",
   "mimetype": "text/x-python",
   "name": "python",
   "nbconvert_exporter": "python",
   "pygments_lexer": "ipython3",
   "version": "3.9.1"
  }
 },
 "nbformat": 4,
 "nbformat_minor": 2
}
