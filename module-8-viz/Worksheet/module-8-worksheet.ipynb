{
 "cells": [
  {
   "cell_type": "code",
   "execution_count": null,
   "id": "greater-message",
   "metadata": {},
   "outputs": [],
   "source": [
    "import matplotlib.pyplot as plt\n",
    "from cs103 import *\n",
    "from typing import List, NamedTuple\n",
    "import csv"
   ]
  },
  {
   "cell_type": "markdown",
   "id": "affected-secretariat",
   "metadata": {
    "editable": false
   },
   "source": [
    "# Module 8 Visualization Worksheet\n",
    "This worksheet is organized differently than the previous worksheets.\n",
    "\n",
    "**You must complete Part One.** Part One requires you to create a line chart, which is the kind of plot we will ask you to create on the midterm and/or final exam.\n",
    "\n",
    "You must complete **at least ONE** of the problems from Part Two to earn full participation marks for this worksheet. We recommend that you think about your project and work on the plot that will be most appropriate for your project."
   ]
  },
  {
   "cell_type": "markdown",
   "id": "specialized-apartment",
   "metadata": {
    "editable": false
   },
   "source": [
    "# Part One\n",
    "Imagine you are studying the population cycles of predator and prey. One example of predator-prey interaction is between the lynx and snowshoe hare populations in Canada. To visualize this relationship, you need to plot the populations of these two species on the same graph using the following data (note that population numbers are given in thousands).\n",
    "\n",
    "Be sure to give your graph a title, a legend, axes labels, and contrasting colours for the two plotted lines.\n",
    "\n",
    "Data source:\n",
    "[http://www-rohan.sdsu.edu/~jmahaffy/courses/f09/math636/lectures/lotka/qualde2.html#predatorprey](http://www-rohan.sdsu.edu/~jmahaffy/courses/f09/math636/lectures/lotka/qualde2.html#predatorprey)\n",
    "\n",
    "Note: we won’t ask you to plot multiple lines on the same plot on an exam."
   ]
  },
  {
   "cell_type": "code",
   "execution_count": 1,
   "id": "norman-september",
   "metadata": {},
   "outputs": [],
   "source": [
    "# Given data\n",
    "time_in_years = [1900, 1901, 1902, 1903, 1904, 1905, 1906, 1907, 1908, 1909,\n",
    "                 1910, 1911, 1912, 1913, 1914, 1915, 1916, 1917, 1918, 1919,\n",
    "                 1920]\n",
    "hare_population = [30, 47.2, 70.2, 77.4, 36.3, 20.6, 18.1, 21.4, 22, \n",
    "                   25.4, 27.1, 40.3, 57, 76.6, 52.3, 19.5, 11.2, 7.6, \n",
    "                   14.6, 16.2, 24.7]\n",
    "lynx_population = [4, 6.1, 9.8, 35.2, 59.4, 41.7, 19, 13, 8.3, 9.1, \n",
    "                   7.4, 8, 12.3, 19.5, 45.7, 51.1, 29.7, 15.8, 9.7, \n",
    "                   10.1, 8.6]"
   ]
  },
  {
   "cell_type": "markdown",
   "id": "manual-buddy",
   "metadata": {
    "editable": false
   },
   "source": [
    "A starter file for this problem, line_chart_starter.ipynb, is available on Canvas and in the module-8-viz/Worksheet/Line Chart folder on Syzygy."
   ]
  },
  {
   "cell_type": "code",
   "execution_count": 2,
   "id": "attended-seeker",
   "metadata": {},
   "outputs": [],
   "source": [
    "# Copy and paste your solution here."
   ]
  },
  {
   "cell_type": "markdown",
   "id": "mobile-humanity",
   "metadata": {
    "editable": false
   },
   "source": [
    "# Part Two\n",
    "You can find the starter and data files for each of bar chart, histogram, and scatterplot in the [module-8-viz/Worksheet/ folder on Syzygy](http://www.students.cs.ubc.ca/~cs-103/redirect/?target=module-8-viz/Worksheet). Feel free to work on the graph in the appropriate folder and then copy/paste the answer below. \n",
    "\n",
    "Be sure to copy over the CSV files to the same folder before submitting your work."
   ]
  },
  {
   "cell_type": "code",
   "execution_count": 3,
   "id": "compressed-district",
   "metadata": {},
   "outputs": [],
   "source": [
    "# Copy and paste your solution here."
   ]
  },
  {
   "cell_type": "code",
   "execution_count": null,
   "id": "indian-demonstration",
   "metadata": {
    "editable": false
   },
   "outputs": [],
   "source": [
    "# NOTE: You should not be able to edit this cell. Just run it to start the process of submiting your code.\n",
    "from cs103 import submit\n",
    "\n",
    "COURSE = 123409\n",
    "ASSIGNMENT = 1615241\n",
    "\n",
    "submit(COURSE, ASSIGNMENT)\n",
    "\n",
    "# If something has gone wrong and you still are not able to submit by running the code above, SUBMIT ANYWAY \n",
    "# by downloading your files and uploading them to Canvas. You can learn how on the page \n",
    "# \"How to submit your Jupyter notebook\" on our Canvas site."
   ]
  }
 ],
 "metadata": {
  "celltoolbar": "Edit Metadata",
  "kernelspec": {
   "display_name": "Python 3",
   "language": "python",
   "name": "python3"
  },
  "language_info": {
   "codemirror_mode": {
    "name": "ipython",
    "version": 3
   },
   "file_extension": ".py",
   "mimetype": "text/x-python",
   "name": "python",
   "nbconvert_exporter": "python",
   "pygments_lexer": "ipython3",
   "version": "3.8.8"
  }
 },
 "nbformat": 4,
 "nbformat_minor": 5
}
