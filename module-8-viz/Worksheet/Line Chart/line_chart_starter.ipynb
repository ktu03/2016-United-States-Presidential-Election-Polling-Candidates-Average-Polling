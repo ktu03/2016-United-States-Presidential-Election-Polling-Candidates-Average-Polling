{
 "cells": [
  {
   "cell_type": "markdown",
   "metadata": {},
   "source": [
    "## Problem: \n",
    "\n",
    "\n",
    "Imagine you are studying the population cycles of predator and prey. One example of predator-prey interaction is between the lynx and snowshoe hare populations in Canada. To visualize this relationship, you need to plot the populations of these two species on the same graph using the following data (note that population numbers are given in thousands).\n",
    "\n",
    "Be sure to give your graph a title, a legend, axes labels, and contrasting colours for the two plotted lines.\n",
    "\n",
    "Data source: \n",
    "http://www-rohan.sdsu.edu/~jmahaffy/courses/f09/math636/lectures/lotka/qualde2.html#predatorprey"
   ]
  },
  {
   "cell_type": "code",
   "execution_count": 1,
   "metadata": {
    "collapsed": true
   },
   "outputs": [],
   "source": [
    "# Given data \n",
    "time_in_years = [1900, 1901, 1902, 1903, 1904, 1905, 1906, 1907, 1908, 1909, \n",
    "                1910, 1911, 1912, 1913, 1914, 1915, 1916, 1917, 1918, 1919, 1920]\n",
    "\n",
    "hare_population = [30, 47.2, 70.2, 77.4, 36.3, 20.6, 18.1, 21.4, 22, 25.4, 27.1, \n",
    "                   40.3, 57, 76.6, 52.3, 19.5, 11.2, 7.6, 14.6, 16.2, 24.7]\n",
    "\n",
    "lynx_population = [4, 6.1, 9.8, 35.2, 59.4, 41.7, 19, 13, 8.3, 9.1, 7.4, \n",
    "                   8, 12.3, 19.5, 45.7, 51.1, 29.7, 15.8, 9.7, 10.1, 8.6]"
   ]
  },
  {
   "cell_type": "code",
   "execution_count": null,
   "metadata": {
    "collapsed": true
   },
   "outputs": [],
   "source": [
    "import matplotlib.pyplot as plt\n",
    "from cs103 import *\n",
    "from typing import List\n",
    "\n",
    "# your solution goes here. Remember to have at least two test cases (of which one might be empty or very nearly so!)\n",
    "# for your plotting function."
   ]
  }
 ],
 "metadata": {
  "kernelspec": {
   "display_name": "Python 3 (ipykernel)",
   "language": "python",
   "name": "python3"
  },
  "language_info": {
   "codemirror_mode": {
    "name": "ipython",
    "version": 3
   },
   "file_extension": ".py",
   "mimetype": "text/x-python",
   "name": "python",
   "nbconvert_exporter": "python",
   "pygments_lexer": "ipython3",
   "version": "3.9.9"
  }
 },
 "nbformat": 4,
 "nbformat_minor": 2
}
