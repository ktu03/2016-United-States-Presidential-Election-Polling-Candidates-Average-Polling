{
 "cells": [
  {
   "cell_type": "markdown",
   "metadata": {},
   "source": [
    "## TODO: Finish `show_scatterplot` and test it and `main`"
   ]
  },
  {
   "cell_type": "code",
   "execution_count": null,
   "metadata": {},
   "outputs": [],
   "source": [
    "from cs103 import *\n",
    "import csv\n",
    "from typing import List, NamedTuple\n",
    "import matplotlib.pyplot as plt\n",
    "\n",
    "\n",
    "MedicalRecord = NamedTuple('MedicalRecord', [('height', float),  # in range [0.0, ...)\n",
    "                                             ('weight', float)]) # in range [0.0, ...)\n",
    "# interp. a record of a person's height in inches and weight in pounds\n",
    "\n",
    "MR0 = MedicalRecord(65.78331, 112.9925)\n",
    "MR1 = MedicalRecord(71.51521, 136.4873)\n",
    "MR2 = MedicalRecord(69.39874, 153.0269)\n",
    "MR3 = MedicalRecord(68.2166, 142.3354)\n",
    "\n",
    "# template based on compound (2 fields)\n",
    "@typecheck\n",
    "def fn_for_medical_record(mr: MedicalRecord) -> ...:\n",
    "    return ...(mr.height,\n",
    "               mr.weight)\n",
    "\n",
    "# List[MedicalRecord]\n",
    "# interp. a list of medical records\n",
    "\n",
    "L0 = []\n",
    "L1 = [MR0, MR1]\n",
    "\n",
    "# template based on arbitrary-sized and the reference rule\n",
    "@typecheck\n",
    "def fn_for_lomr(lomr: List[MedicalRecord]) -> ...:\n",
    "    # description of the acc\n",
    "    acc = ... # type: ...\n",
    "    for mr in lomr:\n",
    "        acc = ...(acc,fn_for_medical_record(mr))\n",
    "    return ...(acc)"
   ]
  },
  {
   "cell_type": "code",
   "execution_count": null,
   "metadata": {},
   "outputs": [],
   "source": [
    "@typecheck\n",
    "def main(filename: str) -> None:\n",
    "    \"\"\"\n",
    "    Reads the medical records from given filename and shows a scatterplot\n",
    "    of the heights and weights\n",
    "    \"\"\"\n",
    "    # Template from HtDAP, based on composition\n",
    "    return show_scatterplot(read(filename))\n",
    "\n",
    "@typecheck\n",
    "def show_scatterplot(lomr: List[MedicalRecord]) -> None:\n",
    "    \"\"\"\n",
    "    creates a scatterplot of the heights and weights, returns None\n",
    "    \"\"\"\n",
    "    return None  #stub\n",
    "\n",
    "    \n",
    "@typecheck\n",
    "def read(filename: str) -> List[MedicalRecord]:\n",
    "    \"\"\"    \n",
    "    reads information from the specified file and returns a list of medical records\n",
    "    \"\"\"\n",
    "    # return []  #stub\n",
    "    # Template from HtDAP\n",
    "    # lomr contains the result so far\n",
    "    lomr = [] # type: List[MedicalRecord]\n",
    "\n",
    "    with open(filename) as csvfile:\n",
    "        \n",
    "        reader = csv.reader(csvfile)\n",
    "        next(reader) # skip header line\n",
    "\n",
    "        for row in reader:\n",
    "            mr = MedicalRecord(parse_float(row[1]), parse_float(row[2])) # we don't need the information from column 0\n",
    "            lomr.append(mr)\n",
    "    \n",
    "    return lomr\n",
    "\n",
    "\n",
    "    \n",
    "# Begin testing\n",
    "start_testing()\n",
    "\n",
    "# TODO: tests for show_scatterplot and main!\n",
    "\n",
    "# Examples and tests for read\n",
    "expect(read(\"heights_and_weights_test1.csv\"), [MR0, MR1])\n",
    "expect(read(\"heights_and_weights_test2.csv\"), [MR2, MR3])\n",
    "\n",
    "\n",
    "\n",
    "# show testing summary\n",
    "summary()"
   ]
  },
  {
   "cell_type": "code",
   "execution_count": null,
   "metadata": {},
   "outputs": [],
   "source": [
    "# Call on the big data file:\n",
    "main(\"heights_and_weights.csv\")"
   ]
  }
 ],
 "metadata": {
  "kernelspec": {
   "display_name": "Python 3 (ipykernel)",
   "language": "python",
   "name": "python3"
  },
  "language_info": {
   "codemirror_mode": {
    "name": "ipython",
    "version": 3
   },
   "file_extension": ".py",
   "mimetype": "text/x-python",
   "name": "python",
   "nbconvert_exporter": "python",
   "pygments_lexer": "ipython3",
   "version": "3.9.9"
  }
 },
 "nbformat": 4,
 "nbformat_minor": 2
}
