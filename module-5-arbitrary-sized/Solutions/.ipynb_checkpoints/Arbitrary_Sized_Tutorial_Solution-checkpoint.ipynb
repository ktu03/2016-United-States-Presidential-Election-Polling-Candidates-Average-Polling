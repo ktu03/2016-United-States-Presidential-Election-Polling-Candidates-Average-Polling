{
 "cells": [
  {
   "cell_type": "code",
   "execution_count": 1,
   "metadata": {},
   "outputs": [],
   "source": [
    "from cs103 import *"
   ]
  },
  {
   "cell_type": "markdown",
   "metadata": {},
   "source": [
    "## Pre-Tutorial Work:\n",
    "\n",
    "Complete Part One of the in-class worksheet.\n",
    "\n",
    "## Problem 1\n",
    "\n",
    "A function `any_positive` has been designed using our HtDF method.  For each of the examples given below, fill in the trace table and show the value stored in the variable `res` and the portion of the list that has been “seen” so far each time the body of the loop is executed. Just fill in \"n/a\" for cells that make no sense, but notice that even if the loop never runs, we can still ask about \"just before the first time through the loop\", which is when the `for` loop notices that there are no elements of `loi`."
   ]
  },
  {
   "cell_type": "code",
   "execution_count": 2,
   "metadata": {},
   "outputs": [
    {
     "name": "stdout",
     "output_type": "stream",
     "text": [
      "\u001b[92m5 of 5 tests passed\u001b[0m\n"
     ]
    }
   ],
   "source": [
    "from cs103 import *\n",
    "from typing import List\n",
    "\n",
    "@typecheck\n",
    "def any_positive(loi: List[int]) -> bool:\n",
    "    \"\"\"\n",
    "    return True if any element in loi is positive\n",
    "    \"\"\"\n",
    "    # return False #stub\n",
    "    # template from List[int]\n",
    "    \n",
    "    res = False\n",
    "    for i in loi:\n",
    "        if i > 0:\n",
    "            res = True\n",
    "    return res\n",
    "    \n",
    "start_testing()\n",
    "\n",
    "expect(any_positive([]), False)\n",
    "expect(any_positive([7, -4, 8]), True)\n",
    "expect(any_positive([3, 2, 1]), True)\n",
    "expect(any_positive([6, 8, 10]), True)\n",
    "expect(any_positive([-11, -12, -13]), False)\n",
    "\n",
    "summary()"
   ]
  },
  {
   "cell_type": "markdown",
   "metadata": {},
   "source": [
    "### Trace table\n",
    "\n",
    "Your solution goes here.  To edit this table, double click in the cell.  As an example, we have filled in the first row.\n",
    "\n",
    "| Example         | just before 1st time through the loop | just before 2nd time  | just before 3rd time  | just before 4th time |\n",
    "|-----------------|---|---|---|---|\n",
    "| `[]`            | `res = False`, have seen `[]` | n/a                              | n/a                                 | n/a                                     |\n",
    "| `[7, -4, 8]`    | `res = False`, have seen `[]` | `res = True`, have seen `[7]`    | `res = True`, have seen `[7,-4]`     | `res = True`, have seen `[7,-4,8]`       |\n",
    "| `[3, 2, 1]`     | `res = False`, have seen `[]` | `res = True`, have seen `[3]`    | `res = True`, have seen `[3,2]`    | `res = True`, have seen `[3,2,1]`     |\n",
    "| `[6, 8, 10]`    | `res = False`, have seen `[]` | `res = True`, have seen `[6]`  | `res = True`, have seen `[6,8]` | `res = True`, have seen `[6,8,10]`   |\n",
    "| `[-11,-12,-13]` | `res = False`, have seen `[]` | `res = False`, have seen `[-11]` | `res = False`, have seen `[-11,-12]` | `res = False`, have seen `[-11,-12,-13]` |"
   ]
  },
  {
   "cell_type": "markdown",
   "metadata": {},
   "source": [
    "## Problem 2\n",
    "\n",
    "Below is an alternative implementation for `any_positive`. Note that the signature and purpose are the same, but the function name has been changed to `any_positive2` and the implementation is different.\n",
    "\n",
    "For each of the examples in the function design `any_positive2` below, fill in the trace table and show the portion of the list that has been “seen” so far each time the body of the loop is executed. \n",
    "\n"
   ]
  },
  {
   "cell_type": "code",
   "execution_count": 3,
   "metadata": {},
   "outputs": [
    {
     "name": "stdout",
     "output_type": "stream",
     "text": [
      "\u001b[92m5 of 5 tests passed\u001b[0m\n"
     ]
    }
   ],
   "source": [
    "from cs103 import *\n",
    "from typing import List\n",
    "\n",
    "@typecheck\n",
    "def any_positive2(loi: List[int]) -> bool:\n",
    "    \"\"\"\n",
    "    return True if any element in loi is positive\n",
    "    \"\"\"\n",
    "    # return False #stub\n",
    "    # template from List[int]\n",
    "    \n",
    "    for i in loi:\n",
    "        if i > 0:\n",
    "            return True\n",
    "    return False\n",
    "    \n",
    "start_testing()\n",
    "\n",
    "expect(any_positive2([]), False)\n",
    "expect(any_positive2([7, -4, 8]), True)\n",
    "expect(any_positive2([3, 2, 1]), True)\n",
    "expect(any_positive2([6, 8, 10]), True)\n",
    "expect(any_positive2([-11,- 12, -13]), False)\n",
    "\n",
    "summary()"
   ]
  },
  {
   "cell_type": "markdown",
   "metadata": {},
   "source": [
    "### Trace table\n",
    "\n",
    "Your solution goes here.  To edit this table, double click in the cell. As an example, we have filled in the first row.\n",
    "\n",
    "| Example         |  just before 1st time through the loop | just before 2nd time  | just before 3rd time  |  just before 4th time |\n",
    "|-----------------|---|---|---|---|\n",
    "| `[]`            | have seen `[]` | n/a               | n/a                  | n/a                      |\n",
    "| `[7,-4,8]`      | have seen `[]` | n/a               | n/a                  | n/a                      |\n",
    "| `[3,2,1]`       | have seen `[]` | n/a               | n/a                  | n/a                      |\n",
    "| `[6,8,10]`      | have seen `[]` | n/a               | n/a               | n/a                      |\n",
    "| `[-11,-12,-13]` | have seen `[]` | have seen `[-11]` | have seen `[-11,-12]` | have seen `[-11,-12,-13]` |\n",
    "\n",
    "Notice that in this version, we never get to \"just before\" the next time through the loop once we see our first positive number!"
   ]
  },
  {
   "cell_type": "markdown",
   "metadata": {},
   "source": [
    "## Problem 3\n",
    "\n",
    "**PROBLEMS 3 AND 4 RELY ON MODULE 5 WEEK 2 MATERIAL!** You're welcome to start early, but we'll focus on this in the second week rather than the first. (A good stopping point might be to design the data definition below as if it were a list that contains a primitive type. Then, in the pre-reading for the second class, you'll see how to modify that data definition to follow the *reference rule*.)\n",
    "\n",
    "Below is a table of information on government grants provided to charitable/community organizations from lottery funding. You are going to build on the GovernmentGrant data definition (given below) that is appropriate to store one row of information from this table in order to create a data type that can store an arbitrary number of community grants. \n",
    "\n",
    "Note: the GovernmentGrant type is based on the information about gaming grants in BC between April 1, 2017 to July 13, 2018.\n",
    "\n",
    "| City      |Organization|Grant Type|Grant Area|Grant Subarea|Payment Amount|\n",
    "|-----------|---|---|---|---|---|\n",
    "|Abbotsford | Abbotsford Agrifair |\tGovernment Grant | Arts and Culture | Fairs, Festivals, Museums\t| 80000|\n",
    "|Burnaby    | Burnaby Arts Council |\tGovernment Grant | Arts and Culture | Adult Arts and Culture | 15100|\n",
    "|Vancouver  | All Bodies Dance Society |\tGovernment Grant | Arts and Culture | Adult Arts and Culture | 12000|\n",
    "|Richmond   | BC Youth Music Society | Government Grant | Arts and Culture | Adult Arts and Culture\t| 31500|\n",
    "|Richmond   | Richmond Ravens Female Hockey Association | Government Grant | Sport | Sports for Youth | 42000|\n",
    "\n",
    "Source: [DataBC](https://catalogue.data.gov.bc.ca/dataset/gaming-grants-paid-to-community-organizations) (accessed: 2023-01-13), modified for the purpose of this tutorial."
   ]
  },
  {
   "cell_type": "code",
   "execution_count": 4,
   "metadata": {},
   "outputs": [],
   "source": [
    "from typing import NamedTuple, List\n",
    "\n",
    "GovernmentGrant = NamedTuple('GovernmentGrant', [('city', str),\n",
    "                                                 ('org', str),\n",
    "                                                 ('type', str),\n",
    "                                                 ('area', str),\n",
    "                                                 ('subarea', str),\n",
    "                                                 ('amt', int)])    # in range[0, ...)\n",
    "# interp. government grant data from BC. includes the city, organization ('org'), grant type ('type'),\n",
    "#         grant area ('area'), grant subarea ('subarea'), and payment amount ('amt') in CAD\n",
    "AGRIFAIR = GovernmentGrant(\"Abbotsford\", \n",
    "                           \"Abbotsford Agrifair\", \n",
    "                           \"Government Grant\", \n",
    "                           \"Arts and Culture\", \n",
    "                           \"Fairs, Festivals, Museums\", \n",
    "                           80000)\n",
    "\n",
    "ARTS_COUNCIL = GovernmentGrant(\"Burnaby\",\n",
    "                               \"Burnaby Arts Council\", \n",
    "                               \"Government Grant\", \n",
    "                               \"Arts and Culture\", \n",
    "                               \"Adult Arts and Culture\", \n",
    "                               15100)\n",
    "\n",
    "ALL_BODIES = GovernmentGrant(\"Vancouver\", \n",
    "                             \"All Bodies Dance Society\", \n",
    "                             \"Government Grant\", \n",
    "                             \"Arts and Culture\", \n",
    "                             \"Adult Arts and Culture\",   \n",
    "                             12000)\n",
    "\n",
    "YOUTH_MUSIC = GovernmentGrant(\"Richmond\", \n",
    "                              \"BC Youth Music Society\", \n",
    "                              \"Government Grant\", \n",
    "                              \"Arts and Culture\", \n",
    "                              \"Adult Arts and Culture\",   \n",
    "                              31500)\n",
    "\n",
    "RAVENS_HOCKEY = GovernmentGrant(\"Richmond\", \n",
    "                                \"Richmond Ravens Female Hockey Association\", \n",
    "                                \"Government Grant\", \n",
    "                                \"Sport\", \n",
    "                                \"Sports for Youth\",   \n",
    "                                42000)\n",
    "\n",
    "# template based on compound\n",
    "@typecheck\n",
    "def fn_for_government_grant(gg: GovernmentGrant) -> ...:\n",
    "    return ...(gg.city,\n",
    "               gg.org,\n",
    "               gg.type,\n",
    "               gg.area,\n",
    "               gg.subarea,\n",
    "               gg.amt)"
   ]
  },
  {
   "cell_type": "markdown",
   "metadata": {},
   "source": [
    "**Design a data definition to represent an arbitrary number of government grants.** Remember to follow the HtDD recipe."
   ]
  },
  {
   "cell_type": "code",
   "execution_count": 5,
   "metadata": {},
   "outputs": [],
   "source": [
    "# your solution goes here\n",
    "\n",
    "# List[GovernmentGrant]\n",
    "# interp. a list of data about government grants\n",
    "\n",
    "L0 = []\n",
    "L1 = [AGRIFAIR, ARTS_COUNCIL, ALL_BODIES, YOUTH_MUSIC]\n",
    "\n",
    "# template based on arbitrary-sized and the reference rule\n",
    "@typecheck\n",
    "def fn_for_logg(logg: List[GovernmentGrant]) -> ...:\n",
    "    # description of the acc\n",
    "    acc = ... # type: ...\n",
    "    for gg in logg:\n",
    "        acc = ...(acc, fn_for_government_grant(gg))\n",
    "    return ...(acc)"
   ]
  },
  {
   "cell_type": "markdown",
   "metadata": {},
   "source": [
    "## Problem 4\n",
    "\n",
    "Design a function that takes a list of government grants and finds the name of the grant subarea that received the largest grant. If two or more are tied, return the first one.\n",
    "\n",
    "Hints:\n",
    "1. You may assume that the input list is not empty. (In that case, be sure to *state* that assumption in your function's purpose! Otherwise callers of your function may think they can pass in an empty list.)\n",
    "2. You may want to design your loop to find the *whole* grant (ie, the entire compound value) with the largest dollar value. Once you've done that, is there a way to get just that grant subarea's name after the loop?"
   ]
  },
  {
   "cell_type": "code",
   "execution_count": 6,
   "metadata": {},
   "outputs": [
    {
     "name": "stdout",
     "output_type": "stream",
     "text": [
      "\u001b[92m3 of 3 tests passed\u001b[0m\n",
      "\u001b[92m4 of 4 tests passed\u001b[0m\n"
     ]
    }
   ],
   "source": [
    "# your solution goes here\n",
    "\n",
    "@typecheck\n",
    "def larger_grant(gg1: GovernmentGrant, gg2: GovernmentGrant) -> bool:\n",
    "    \"\"\"\n",
    "    return True if gg1 has a larger grant than gg2, False otherwise\n",
    "    \"\"\"\n",
    "    #return False #stub\n",
    "    # template from GovernmentGrant (all selectors from both inputs)\n",
    "    return gg1.amt > gg2.amt\n",
    "\n",
    "\n",
    "@typecheck\n",
    "def received_largest_grant(logg: List[GovernmentGrant]) -> str:\n",
    "    \"\"\"\n",
    "    return the name of the subarea that received the largest grant\n",
    "    ASSUME: logg is not empty\n",
    "    \"\"\"\n",
    "    #return \"\" #stub\n",
    "    # template from List[GovernmentGrant]\n",
    "    \n",
    "    # acc contains the GovernmentGrant with the largest grant seen so far\n",
    "    acc = logg[0] # type: GovernmentGrant\n",
    "    for gg in logg:\n",
    "        if larger_grant(gg, acc):\n",
    "            acc = gg\n",
    "    return acc.subarea\n",
    "\n",
    "\n",
    "start_testing()\n",
    "\n",
    "expect(larger_grant(AGRIFAIR, ALL_BODIES), True)\n",
    "expect(larger_grant(ALL_BODIES, AGRIFAIR), False)\n",
    "expect(larger_grant(AGRIFAIR, AGRIFAIR), False)\n",
    "\n",
    "summary()\n",
    "\n",
    "start_testing()\n",
    "\n",
    "expect(received_largest_grant([AGRIFAIR]), \"Fairs, Festivals, Museums\")\n",
    "expect(received_largest_grant([ALL_BODIES, AGRIFAIR]), \"Fairs, Festivals, Museums\")\n",
    "expect(received_largest_grant([ARTS_COUNCIL, \n",
    "                               RAVENS_HOCKEY]), \"Sports for Youth\")\n",
    "expect(received_largest_grant([ARTS_COUNCIL, \n",
    "                               ALL_BODIES, \n",
    "                               YOUTH_MUSIC,\n",
    "                               RAVENS_HOCKEY]), \"Sports for Youth\")\n",
    "\n",
    "# NOTE: you should also consider making examples outside of what is given in the \n",
    "# table if you feel that there is a test case that is not being represented.\n",
    "\n",
    "summary()"
   ]
  },
  {
   "cell_type": "markdown",
   "metadata": {},
   "source": [
    "## Submit your solution"
   ]
  }
 ],
 "metadata": {
  "kernelspec": {
   "display_name": "Python 3 (ipykernel)",
   "language": "python",
   "name": "python3"
  },
  "language_info": {
   "codemirror_mode": {
    "name": "ipython",
    "version": 3
   },
   "file_extension": ".py",
   "mimetype": "text/x-python",
   "name": "python",
   "nbconvert_exporter": "python",
   "pygments_lexer": "ipython3",
   "version": "3.9.13"
  }
 },
 "nbformat": 4,
 "nbformat_minor": 2
}
