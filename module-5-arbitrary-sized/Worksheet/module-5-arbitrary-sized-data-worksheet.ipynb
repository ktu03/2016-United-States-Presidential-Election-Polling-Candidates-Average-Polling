{
 "cells": [
  {
   "cell_type": "code",
   "execution_count": null,
   "metadata": {
    "editable": false
   },
   "outputs": [],
   "source": [
    "from cs103 import *\n",
    "from typing import NamedTuple, List, Optional\n",
    "from enum import Enum"
   ]
  },
  {
   "cell_type": "markdown",
   "metadata": {
    "editable": false
   },
   "source": [
    "## Arbitrary Sized Data Worksheet\n",
    "\n",
    "## Part One\n",
    "\n",
    "### Problem 1\n",
    "Let’s trace a loop to understand how it works and why! For each of the examples in this function design, fill in the trace table below to show the value stored in the variable max and the portion of the list that has been “seen” so far each time the body of the loop is executed. We’ve done the first example. Note that you won’t always need to fill in every box.\n",
    "\n",
    "```python\n",
    "@typecheck\n",
    "def maximum(loi: List[int]) -> int:\n",
    "    \"\"\"\n",
    "    return the maximum integer in a list of positive\n",
    "    integers (loi), or -1 if loi is empty\n",
    "    \"\"\"\n",
    "    # template from List[int]\n",
    "    # max stores the maximum integer seen so far in loi\n",
    "    max = -1 # type: int\n",
    "    for i in loi:\n",
    "        if i > max:\n",
    "            max = i\n",
    "    return max\n",
    "\n",
    "start_testing()\n",
    "expect(maximum([1, 2, 3]), 3) # example a\n",
    "expect(maximum([]), -1) # example b\n",
    "expect(maximum([11, 2, 3]), 11) # example c\n",
    "expect(maximum([3, 9, 4]), 9) # example d\n",
    "expect(maximum([1, 7, 3, 2, 11]), 11) # example e\n",
    "summary()\n",
    "```"
   ]
  },
  {
   "cell_type": "markdown",
   "metadata": {},
   "source": [
    "Double click to edit this table\n",
    "\n",
    "|Example|Just before the first time through the loop| Just before the second time through the loop|Just before the third time through the loop| Just before the fourth time through the loop|Just before the fifth time through the loop|\n",
    "|:-------:|:-------:|:-------:|:-------:|:-------:|:-------:|\n",
    "|[1, 2, 3]|max = -1<br /> []|max = 1<br /> [1] | max = 2<br /> [1, 2] | max = 3<br /> [1, 2, 3]| *never happens*|\n",
    "|[]       |           |            |                |                  |                |\n",
    "|[11, 2, 3]|          |            |                |                  |                |\n",
    "|[3, 9, 4]|           |            |                |                  |                |\n",
    "|[1, 7, 3,2, 11]      |            |                |                  |                |"
   ]
  },
  {
   "cell_type": "markdown",
   "metadata": {
    "editable": false
   },
   "source": [
    "### Problem 2\n",
    "Label 1) the accumulator, 2) the list that is looped over, and 3) the body of the loop in the below code snippet.\n",
    "```python\n",
    "words = [\"phone\", \"desk\", \"computer\"]\n",
    "res = \"\"\n",
    "for w in words:\n",
    "    res = res + w + \" \"\n",
    "```"
   ]
  },
  {
   "cell_type": "markdown",
   "metadata": {},
   "source": [
    "1) the accumulator:  ` *your solution goes here* `\n",
    "\n",
    "2) the list that is looped over: ` *your solution goes here* `\n",
    "\n",
    "3) the body of the loop: ` *your solution goes here* `"
   ]
  },
  {
   "cell_type": "markdown",
   "metadata": {
    "editable": false
   },
   "source": [
    "### Problem 3\n",
    "What value is stored in the variable `res` once the code snippet from Question 2 has executed?"
   ]
  },
  {
   "cell_type": "markdown",
   "metadata": {},
   "source": [
    "*your solution goes here*"
   ]
  },
  {
   "cell_type": "markdown",
   "metadata": {
    "editable": false
   },
   "source": [
    "### Problem 4\n",
    "Fill in the accumulator type and description in the function design given below.\n",
    "\n",
    "```python\n",
    "def multiply_all(loi: List[int]) -> int:\n",
    "    \"\"\"\n",
    "    return the product of all the integers in loi\n",
    "    \"\"\"\n",
    "    # return 1 # stub\n",
    "    # template from List[int]\n",
    "    # product ________________________________________________\n",
    "    product = 1 # type: _______\n",
    "    for i in loi:\n",
    "        product = product * i\n",
    "    return product\n",
    "start_testing()\n",
    "expect(multiply_all([]), 1)\n",
    "expect(multiply_all([1, 2, 3]), 6)\n",
    "expect(multiply_all([9, 1, 3]), 27)\n",
    "expect(multiply_all([4, 1, 2]), 8)\n",
    "expect(multiply_all([4, 1, 2, 2]), 16)\n",
    "summary()\n",
    "```\n",
    "**Note:** The function in this cell is for reference only. Please edit the code in the cell below"
   ]
  },
  {
   "cell_type": "code",
   "execution_count": null,
   "metadata": {},
   "outputs": [],
   "source": [
    "@typecheck\n",
    "def multiply_all(loi: List[int]) -> int:\n",
    "    \"\"\"\n",
    "    return the product of all the integers in loi\n",
    "    \"\"\"\n",
    "    # return 1 # stub\n",
    "    # template from List[int]\n",
    "    # product ________________________________________________\n",
    "    product = 1 # type: _______\n",
    "    for i in loi:\n",
    "        product = product * i\n",
    "    return product\n",
    "\n",
    "start_testing()\n",
    "expect(multiply_all([]), 1)\n",
    "expect(multiply_all([1, 2, 3]), 6)\n",
    "expect(multiply_all([9, 1, 3]), 27)\n",
    "expect(multiply_all([4, 1, 2]), 8)\n",
    "expect(multiply_all([4, 1, 2, 2]), 16)\n",
    "summary()\n"
   ]
  },
  {
   "cell_type": "markdown",
   "metadata": {
    "editable": false
   },
   "source": [
    "### Problem 5\n",
    "For each of the examples in the function design below, how many times will the body of the `for loop` be executed when the function is called? (The body of the `for loop` is marked.)\n",
    "\n",
    "```python\n",
    "@typecheck\n",
    "def contains(loi: List[int], x: int) -> bool:\n",
    "    \"\"\"\n",
    "    return True if loi contains x and False otherwise\n",
    "    \"\"\"\n",
    "    # return False # stub\n",
    "    # template from List[int] with additional parameter\n",
    "    for i in loi:\n",
    "        if i == x:           # BODY OF THE\n",
    "            return True      # FOR LOOP\n",
    "    return False\n",
    "\n",
    "start_testing()\n",
    "expect(contains([], 4), False)\n",
    "expect(contains([2, 3, 4], 4), True)\n",
    "expect(contains([9, 1, 3], 4), False)\n",
    "expect(contains([9, 1, 3], 1), True)\n",
    "expect(contains([4, 1, 2], 4), True)\n",
    "expect(contains([4, 1, 2, 7], 7), True)\n",
    "summary()\n",
    "```"
   ]
  },
  {
   "cell_type": "markdown",
   "metadata": {},
   "source": [
    "*your solution goes here*"
   ]
  },
  {
   "cell_type": "markdown",
   "metadata": {
    "editable": false
   },
   "source": [
    "### Problem 6\n",
    "What questions do you still have about for loops? Please make sure to get answers to these questions via the discussion forum, office hours, or your tutorial before the second lecture on this topic."
   ]
  },
  {
   "cell_type": "markdown",
   "metadata": {},
   "source": [
    "*your solution goes here*"
   ]
  },
  {
   "cell_type": "markdown",
   "metadata": {
    "editable": false
   },
   "source": [
    "## Part Two\n",
    "\n",
    "### Problem 7\n",
    "Suppose you want to design a data definition to represent a list of strings.\n",
    "\n",
    "**a.** Which of the following is the correct data type definition?\n",
    "\n",
    "    i.   # List[strings]\n",
    "    ii.  # List\n",
    "    iii. # List[String]\n",
    "    iv.  # List[str]"
   ]
  },
  {
   "cell_type": "markdown",
   "metadata": {},
   "source": [
    "The correct data type definition is `[ your solution goes here]`"
   ]
  },
  {
   "cell_type": "markdown",
   "metadata": {
    "editable": false
   },
   "source": [
    "**b.** What is the interpretation for your data definition?"
   ]
  },
  {
   "cell_type": "code",
   "execution_count": null,
   "metadata": {},
   "outputs": [],
   "source": [
    "# interpretation. *your solution goes here*"
   ]
  },
  {
   "cell_type": "markdown",
   "metadata": {
    "editable": false
   },
   "source": [
    "**c.** Select the examples from the options below that you would include in your data definition. Write a justification for choosing each example.\n",
    "\n",
    "    LOS0 = []\n",
    "    LOS1 = [\"\"]\n",
    "    LOS2 = [\"a\"]\n",
    "    LOS3 = [\"a\", \"cat\"]\n",
    "    LOS4 = [\"a\", \"cat\", \"banana\"]"
   ]
  },
  {
   "cell_type": "markdown",
   "metadata": {},
   "source": [
    "*your solution goes here*\n",
    "\n",
    "Justification: "
   ]
  },
  {
   "cell_type": "markdown",
   "metadata": {
    "editable": false
   },
   "source": [
    "**d.** Write the template for your data definition. Don’t forget to include the template rules used."
   ]
  },
  {
   "cell_type": "code",
   "execution_count": null,
   "metadata": {},
   "outputs": [],
   "source": [
    "# This cell can be run \n",
    "# your solution goes here"
   ]
  },
  {
   "cell_type": "markdown",
   "metadata": {
    "editable": false
   },
   "source": [
    "### Problem 8\n",
    "Now you want to design a function that takes a list of strings, as defined in Problem 7.\n",
    "\n",
    "**a.** Complete the stub, including signature and purpose, and examples/tests of a function called `any_empty`, which returns True if at least one of the strings in the list is empty (i.e. has length 0). **Be careful**: an empty list and a list containing an empty string are different things. (The empty list has 0 elements; the list containing an empty string has 1 element!)"
   ]
  },
  {
   "cell_type": "code",
   "execution_count": null,
   "metadata": {},
   "outputs": [],
   "source": [
    "# This cell can be run \n",
    "# your solution goes here"
   ]
  },
  {
   "cell_type": "markdown",
   "metadata": {
    "editable": false
   },
   "source": [
    "**b.** Which of the following are correct function bodies for `any_empty`? (i.e. are consistent with the template and are correct)\n",
    "\n",
    "```python\n",
    "i\n",
    "@typecheck\n",
    "def any_empty(los: List[str]) -> bool:\n",
    "    for s in los:\n",
    "        res = res and (len(s) == 0)\n",
    "    return res\n",
    "\n",
    "ii\n",
    "@typecheck\n",
    "def any_empty(los: List[str]) -> bool:\n",
    "    # res will be set to True if any of\n",
    "    # the strings in the list are empty\n",
    "    res = False # type: bool\n",
    "    for s in los:\n",
    "        if (len(s) == 0):\n",
    "            res = True\n",
    "    return res\n",
    "\n",
    "iii\n",
    "@typecheck\n",
    "def any_empty(los: List[str]) -> bool:\n",
    "    for s in los:\n",
    "        if len(s) == 0:\n",
    "            return True\n",
    "    return False\n",
    "```"
   ]
  },
  {
   "cell_type": "markdown",
   "metadata": {},
   "source": [
    "*your solution goes here*"
   ]
  },
  {
   "cell_type": "markdown",
   "metadata": {
    "editable": false
   },
   "source": [
    "### Problem 9\n",
    "Two of the answers to Problem 8b are correct. Decide which solution you think is better and why."
   ]
  },
  {
   "cell_type": "markdown",
   "metadata": {},
   "source": [
    "*your solution goes here*"
   ]
  },
  {
   "cell_type": "markdown",
   "metadata": {
    "editable": false
   },
   "source": [
    "### Problem 10\n",
    "As you look at more and more code, how do you think it will change the way you understand and apply the CPSC 103 design recipes?"
   ]
  },
  {
   "cell_type": "markdown",
   "metadata": {},
   "source": [
    "*your solution goes here*"
   ]
  },
  {
   "cell_type": "markdown",
   "metadata": {
    "editable": false
   },
   "source": [
    "## Part Three\n",
    "\n",
    "### Problem 11\n",
    "For each of the kinds of data described, circle the type that would best represent that data. If you choose Arbitrary-Sized, specify what type of list you would use (i.e., List[str], List[int] etc.). If you choose compound, specify how many fields you will need. In each case, the description is of a **single** value of the kind of data being considered.\n",
    "\n",
    "**a.** The names of every student in a school:\n",
    "\n",
    "    Arbitrary-Sized        Compound         Optional         Enumeration"
   ]
  },
  {
   "cell_type": "markdown",
   "metadata": {},
   "source": [
    "The best Data Type is `[ your solution goes here]`"
   ]
  },
  {
   "cell_type": "markdown",
   "metadata": {
    "editable": false
   },
   "source": [
    "**b.** A bus stop with its location and stop number:\n",
    "\n",
    "    Arbitrary-Sized        Compound         Optional         Enumeration"
   ]
  },
  {
   "cell_type": "markdown",
   "metadata": {},
   "source": [
    "The best Data Type is `[ your solution goes here]`"
   ]
  },
  {
   "cell_type": "markdown",
   "metadata": {
    "editable": false
   },
   "source": [
    "**c.** All the bus stops on a particular bus route.\n",
    "\n",
    "    Arbitrary-Sized        Compound         Optional         Enumeration"
   ]
  },
  {
   "cell_type": "markdown",
   "metadata": {},
   "source": [
    "The best Data Type is `[ your solution goes here]`"
   ]
  },
  {
   "cell_type": "markdown",
   "metadata": {
    "editable": false
   },
   "source": [
    "**d.** A person’s annual salary, with a special representation if they are not currently working:\n",
    "\n",
    "    Arbitrary-Sized        Compound         Optional         Enumeration"
   ]
  },
  {
   "cell_type": "markdown",
   "metadata": {},
   "source": [
    "The best Data Type is `[ your solution goes here]`"
   ]
  },
  {
   "cell_type": "markdown",
   "metadata": {
    "editable": false
   },
   "source": [
    "**e.** The numbers of every player on a sports team:\n",
    "\n",
    "    Arbitrary-Sized        Compound         Optional         Enumeration"
   ]
  },
  {
   "cell_type": "markdown",
   "metadata": {},
   "source": [
    "The best Data Type is `[ your solution goes here]`"
   ]
  },
  {
   "cell_type": "markdown",
   "metadata": {
    "editable": false
   },
   "source": [
    "**f.** The price and name of an inventory item:\n",
    "\n",
    "    Arbitrary-Sized        Compound         Optional         Enumeration"
   ]
  },
  {
   "cell_type": "markdown",
   "metadata": {},
   "source": [
    "The best Data Type is `[ your solution goes here]`"
   ]
  },
  {
   "cell_type": "markdown",
   "metadata": {
    "editable": false
   },
   "source": [
    "**g.** The logos of all the stores in a mall (you can assume that there exists some data definition that represents an image):\n",
    "\n",
    "    Arbitrary-Sized        Compound         Optional         Enumeration"
   ]
  },
  {
   "cell_type": "markdown",
   "metadata": {},
   "source": [
    "The best Data Type is `[ your solution goes here]`"
   ]
  },
  {
   "cell_type": "markdown",
   "metadata": {
    "editable": false
   },
   "source": [
    "### Problem 12\n",
    "Below is a data definition for a Course. Design a data definition for a list of courses offered at a university. Be sure to follow all steps of the HtDD recipe."
   ]
  },
  {
   "cell_type": "code",
   "execution_count": null,
   "metadata": {
    "editable": false
   },
   "outputs": [],
   "source": [
    "# This cell can be run \n",
    "\n",
    "Course = NamedTuple('Course', [('name', str),\n",
    "                               ('num', int), # in range[0,699]\n",
    "                               ('dept', str), # 4 uppercase letters\n",
    "                               ('max_stu', int)]) # in range [0, …)\n",
    "# interp. a course's name, number, department that offers it, and maximum\n",
    "# number of students\n",
    "\n",
    "C1 = Course('Shakespeare', 520, 'ENGL', 45)\n",
    "C2 = Course('Algorithms', 221, 'CPSC', 300)\n",
    "C3 = Course('Finance', 331, 'COMM', 100)\n",
    "\n",
    "def fn_for_course(c: Course) -> ...: # template based on compound\n",
    "    return ...(c.name, # str\n",
    "               c.num, # int in range [0, 699]\n",
    "               c.dept, # str 4 uppercase letters\n",
    "               c.max_stu,) # int in rnage [0, ...)"
   ]
  },
  {
   "cell_type": "code",
   "execution_count": null,
   "metadata": {},
   "outputs": [],
   "source": [
    "# your solution goes here\n"
   ]
  },
  {
   "cell_type": "markdown",
   "metadata": {
    "editable": false
   },
   "source": [
    "### Problem 13\n",
    "Design a function that takes a list of courses and returns a list of the course codes of the courses. (The course code includes the department and number, e.g. “CPSC 103”) Be sure to follow the HtDF recipe and remember to follow the reference rule."
   ]
  },
  {
   "cell_type": "code",
   "execution_count": null,
   "metadata": {},
   "outputs": [],
   "source": [
    "# your solution goes here\n"
   ]
  },
  {
   "cell_type": "markdown",
   "metadata": {
    "editable": false
   },
   "source": [
    "### Problem 14\n",
    "Design data definitions to represent a list of shipping containers. Each container has a length, width, and height and is either empty or full."
   ]
  },
  {
   "cell_type": "code",
   "execution_count": null,
   "metadata": {},
   "outputs": [],
   "source": [
    "# your solution goes here"
   ]
  },
  {
   "cell_type": "markdown",
   "metadata": {
    "editable": false
   },
   "source": [
    "### Problem 15\n",
    "Did you use a Boolean or an Enumeration to represent whether the shipping container was empty or full? How would your design change if you switched choices? Which choice do you think is better, and why?"
   ]
  },
  {
   "cell_type": "markdown",
   "metadata": {},
   "source": [
    "*your solution goes here*"
   ]
  },
  {
   "cell_type": "markdown",
   "metadata": {
    "editable": false
   },
   "source": [
    "### Problem 16\n",
    "Design a function that takes a list of shipping containers and returns a list containing the volume of each of the empty containers. Be sure to follow the HtDF recipe, and design any helper functions that might be required by the reference rule. The volume of each container can be calculated as `length*width*height`."
   ]
  },
  {
   "cell_type": "code",
   "execution_count": null,
   "metadata": {},
   "outputs": [],
   "source": [
    "# your solution goes here"
   ]
  },
  {
   "cell_type": "markdown",
   "metadata": {
    "editable": false
   },
   "source": [
    "### Problem 17\n",
    "We could design a single function that takes a Container and returns the volume of an empty Container or None if the Container is full. Is such a function useful here? Why or why not?"
   ]
  },
  {
   "cell_type": "markdown",
   "metadata": {},
   "source": [
    "*your solution goes here*"
   ]
  },
  {
   "cell_type": "markdown",
   "metadata": {
    "editable": false
   },
   "source": [
    "### Problem 18\n",
    "We could also design a single function that takes a list of Containers and returns a list of only those Containers that are empty. Is such a function useful here? Why or why not?"
   ]
  },
  {
   "cell_type": "markdown",
   "metadata": {},
   "source": [
    "*your solution goes here*"
   ]
  },
  {
   "cell_type": "markdown",
   "metadata": {
    "editable": false
   },
   "source": [
    "### Problem 19\n",
    "Which parts of the course are you finding the most difficult?"
   ]
  },
  {
   "cell_type": "markdown",
   "metadata": {},
   "source": [
    "*your solution goes here*"
   ]
  },
  {
   "cell_type": "markdown",
   "metadata": {
    "editable": false
   },
   "source": [
    "### Problem 20\n",
    "What is your strategy for mastering the parts of the course that you are finding to be the most difficult?"
   ]
  },
  {
   "cell_type": "markdown",
   "metadata": {},
   "source": [
    "*your solution goes here*"
   ]
  },
  {
   "cell_type": "code",
   "execution_count": null,
   "metadata": {
    "editable": false
   },
   "outputs": [],
   "source": [
    "# NOTE: You should not be able to edit this cell. Just run it to start the process of submiting your code.\n",
    "from cs103 import submit\n",
    "\n",
    "COURSE = 123409\n",
    "ASSIGNMENT = 1615224\n",
    "\n",
    "submit(COURSE, ASSIGNMENT)\n",
    "\n",
    "# If something has gone wrong and you still are not able to submit by running the code above, SUBMIT ANYWAY \n",
    "# by downloading your files and uploading them to Canvas. You can learn how on the page \n",
    "# \"How to submit your Jupyter notebook\" on our Canvas site."
   ]
  }
 ],
 "metadata": {
  "celltoolbar": "Edit Metadata",
  "kernelspec": {
   "display_name": "Python 3 (ipykernel)",
   "language": "python",
   "name": "python3"
  },
  "language_info": {
   "codemirror_mode": {
    "name": "ipython",
    "version": 3
   },
   "file_extension": ".py",
   "mimetype": "text/x-python",
   "name": "python",
   "nbconvert_exporter": "python",
   "pygments_lexer": "ipython3",
   "version": "3.9.13"
  }
 },
 "nbformat": 4,
 "nbformat_minor": 4
}
