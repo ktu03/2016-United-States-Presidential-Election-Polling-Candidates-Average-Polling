{
 "cells": [
  {
   "cell_type": "code",
   "execution_count": 58,
   "metadata": {
    "editable": false
   },
   "outputs": [],
   "source": [
    "from cs103 import *\n",
    "from typing import NamedTuple, List, Optional\n",
    "from enum import Enum"
   ]
  },
  {
   "cell_type": "markdown",
   "metadata": {
    "editable": false
   },
   "source": [
    "## Arbitrary Sized Data Worksheet\n",
    "\n",
    "## Part One\n",
    "\n",
    "### Problem 1\n",
    "Let’s trace a loop to understand how it works and why! For each of the examples in this function design, fill in the trace table below to show the value stored in the variable max and the portion of the list that has been “seen” so far each time the body of the loop is executed. We’ve done the first example. Note that you won’t always need to fill in every box.\n",
    "\n",
    "```python\n",
    "@typecheck\n",
    "def maximum(loi: List[int]) -> int:\n",
    "    \"\"\"\n",
    "    return the maximum integer in a list of positive\n",
    "    integers (loi), or -1 if loi is empty\n",
    "    \"\"\"\n",
    "    # template from List[int]\n",
    "    # max stores the maximum integer seen so far in loi\n",
    "    max = -1 # type: int\n",
    "    for i in loi:\n",
    "        if i > max:\n",
    "            max = i\n",
    "    return max\n",
    "\n",
    "start_testing()\n",
    "expect(maximum([1, 2, 3]), 3) # example a\n",
    "expect(maximum([]), -1) # example b\n",
    "expect(maximum([11, 2, 3]), 11) # example c\n",
    "expect(maximum([3, 9, 4]), 9) # example d\n",
    "expect(maximum([1, 7, 3, 2, 11]), 11) # example e\n",
    "summary()\n",
    "```"
   ]
  },
  {
   "cell_type": "markdown",
   "metadata": {},
   "source": [
    "Double click to edit this table\n",
    "\n",
    "|Example|Just before the first time through the loop| Just before the second time through the loop|Just before the third time through the loop| Just before the fourth time through the loop|Just before the fifth time through the loop|\n",
    "|:-------:|:-------:|:-------:|:-------:|:-------:|:-------:|\n",
    "|[1, 2, 3]|max = -1<br /> []|max = 1<br /> [1] | max = 2<br /> [1, 2] | max = 3<br /> [1, 2, 3]| *never happens*|\n",
    "|[]       |max = -1<br /> []|*never happens*   |*never happens*       | *never happens*        |   *never happens*|\n",
    "|[11, 2, 3]| max = -1<br /> []     |max=11<br /> [11]| max=11<br /> [11,2] |  max=11<br /> [11,2,3] |*never happens*  |\n",
    "|[3, 9, 4]|max = -1<br /> []       |max = 3<br /> [9]| max = -1<br /> [3,9]| max = -1<br /> [3,9,2] |*never happens*|\n",
    "|[1, 7, 3,2, 11]|max = -1<br /> [] |max = 1<br /> [1]| max = 7<br /> [1,7]| max = 7<br /> [1,7,3]|max = 7<br /> [1,7,3,2]"
   ]
  },
  {
   "cell_type": "markdown",
   "metadata": {
    "editable": false
   },
   "source": [
    "### Problem 2\n",
    "Label 1) the accumulator, 2) the list that is looped over, and 3) the body of the loop in the below code snippet.\n",
    "```python\n",
    "words = [\"phone\", \"desk\", \"computer\"]\n",
    "res = \"\"\n",
    "for w in words:\n",
    "    res = res + w + \" \"\n",
    "```"
   ]
  },
  {
   "cell_type": "markdown",
   "metadata": {},
   "source": [
    "1) the accumulator: *res*\n",
    "\n",
    "2) the list that is looped over: *words*\n",
    "\n",
    "3) the body of the loop: *res=res+w+\" \"*"
   ]
  },
  {
   "cell_type": "markdown",
   "metadata": {
    "editable": false
   },
   "source": [
    "### Problem 3\n",
    "What value is stored in the variable `res` once the code snippet from Question 2 has executed?"
   ]
  },
  {
   "cell_type": "markdown",
   "metadata": {},
   "source": [
    "*\"phone desk computer\"*"
   ]
  },
  {
   "cell_type": "markdown",
   "metadata": {
    "editable": false
   },
   "source": [
    "### Problem 4\n",
    "Fill in the accumulator type and description in the function design given below.\n",
    "\n",
    "```python\n",
    "def multiply_all(loi: List[int]) -> int:\n",
    "    \"\"\"\n",
    "    return the product of all the integers in loi\n",
    "    \"\"\"\n",
    "    # return 1 # stub\n",
    "    # template from List[int]\n",
    "    # product ________________________________________________\n",
    "    product = 1 # type: _______\n",
    "    for i in loi:\n",
    "        product = product * i\n",
    "    return product\n",
    "start_testing()\n",
    "expect(multiply_all([]), 1)\n",
    "expect(multiply_all([1, 2, 3]), 6)\n",
    "expect(multiply_all([9, 1, 3]), 27)\n",
    "expect(multiply_all([4, 1, 2]), 8)\n",
    "expect(multiply_all([4, 1, 2, 2]), 16)\n",
    "summary()\n",
    "```\n",
    "**Note:** The function in this cell is for reference only. Please edit the code in the cell below"
   ]
  },
  {
   "cell_type": "code",
   "execution_count": 59,
   "metadata": {},
   "outputs": [
    {
     "name": "stdout",
     "output_type": "stream",
     "text": [
      "\u001b[92m5 of 5 tests passed\u001b[0m\n"
     ]
    }
   ],
   "source": [
    "@typecheck\n",
    "def multiply_all(loi: List[int]) -> int:\n",
    "    \"\"\"\n",
    "    return the product of all the integers in loi\n",
    "    \"\"\"\n",
    "    # return 1 # stub\n",
    "    # template from List[int]\n",
    "    # product is the product of all integers seen so far in loi\n",
    "    product = 1 # type: int\n",
    "    for i in loi:\n",
    "        product = product * i\n",
    "    return product\n",
    "\n",
    "start_testing()\n",
    "expect(multiply_all([]), 1)\n",
    "expect(multiply_all([1, 2, 3]), 6)\n",
    "expect(multiply_all([9, 1, 3]), 27)\n",
    "expect(multiply_all([4, 1, 2]), 8)\n",
    "expect(multiply_all([4, 1, 2, 2]), 16)\n",
    "summary()\n"
   ]
  },
  {
   "cell_type": "markdown",
   "metadata": {
    "editable": false
   },
   "source": [
    "### Problem 5\n",
    "For each of the examples in the function design below, how many times will the body of the `for loop` be executed when the function is called? (The body of the `for loop` is marked.)\n",
    "\n",
    "```python\n",
    "@typecheck\n",
    "def contains(loi: List[int], x: int) -> bool:\n",
    "    \"\"\"\n",
    "    return True if loi contains x and False otherwise\n",
    "    \"\"\"\n",
    "    # return False # stub\n",
    "    # template from List[int] with additional parameter\n",
    "    for i in loi:\n",
    "        if i == x:           # BODY OF THE\n",
    "            return True      # FOR LOOP\n",
    "    return False\n",
    "\n",
    "start_testing()\n",
    "expect(contains([], 4), False)\n",
    "expect(contains([2, 3, 4], 4), True)\n",
    "expect(contains([9, 1, 3], 4), False)\n",
    "expect(contains([9, 1, 3], 1), True)\n",
    "expect(contains([4, 1, 2], 4), True)\n",
    "expect(contains([4, 1, 2, 7], 7), True)\n",
    "summary()\n",
    "```"
   ]
  },
  {
   "cell_type": "markdown",
   "metadata": {},
   "source": [
    "*0, 1, 0, 1, 1, 1*"
   ]
  },
  {
   "cell_type": "markdown",
   "metadata": {
    "editable": false
   },
   "source": [
    "### Problem 6\n",
    "What questions do you still have about for loops? Please make sure to get answers to these questions via the discussion forum, office hours, or your tutorial before the second lecture on this topic."
   ]
  },
  {
   "cell_type": "markdown",
   "metadata": {},
   "source": [
    "*None*"
   ]
  },
  {
   "cell_type": "markdown",
   "metadata": {
    "editable": false
   },
   "source": [
    "## Part Two\n",
    "\n",
    "### Problem 7\n",
    "Suppose you want to design a data definition to represent a list of strings.\n",
    "\n",
    "**a.** Which of the following is the correct data type definition?\n",
    "\n",
    "    i.   # List[strings]\n",
    "    ii.  # List\n",
    "    iii. # List[String]\n",
    "    iv.  # List[str]"
   ]
  },
  {
   "cell_type": "markdown",
   "metadata": {},
   "source": [
    "The correct data type definition is `[ # List[str]]`"
   ]
  },
  {
   "cell_type": "markdown",
   "metadata": {
    "editable": false
   },
   "source": [
    "**b.** What is the interpretation for your data definition?"
   ]
  },
  {
   "cell_type": "code",
   "execution_count": 54,
   "metadata": {},
   "outputs": [],
   "source": [
    "# interpretation. *a list of strings*"
   ]
  },
  {
   "cell_type": "markdown",
   "metadata": {
    "editable": false
   },
   "source": [
    "**c.** Select the examples from the options below that you would include in your data definition. Write a justification for choosing each example.\n",
    "\n",
    "    LOS0 = []\n",
    "    LOS1 = [\"\"]\n",
    "    LOS2 = [\"a\"]\n",
    "    LOS3 = [\"a\", \"cat\"]\n",
    "    LOS4 = [\"a\", \"cat\", \"banana\"]"
   ]
  },
  {
   "cell_type": "markdown",
   "metadata": {},
   "source": [
    "*LOS0, LOS1, LOS4*\n",
    "\n",
    "Justification: An empty list is needed to ensure that the function can handle these special cases as well as a list with an empty string. Only 1 of LOS2, LOS3, or LOS4 is needed as all of them are lists with actual string items that are not empty."
   ]
  },
  {
   "cell_type": "markdown",
   "metadata": {
    "editable": false
   },
   "source": [
    "**d.** Write the template for your data definition. Don’t forget to include the template rules used."
   ]
  },
  {
   "cell_type": "code",
   "execution_count": 60,
   "metadata": {},
   "outputs": [],
   "source": [
    "# This cell can be run \n",
    "# your solution goes here\n",
    "#List[str]\n",
    "#interp. a list of strings\n",
    "LOS0 = []\n",
    "LOS1 = [\"\"]\n",
    "LOS4 = [\"a\", \"cat\",\"banana\"]\n",
    "@typecheck\n",
    "#template from arbitrary-sized\n",
    "def fn_for_los(los: List[str]) -> ...:\n",
    "    #description of accumulator\n",
    "    acc = ...  #type: ...\n",
    "    for s in los:\n",
    "        return...(s,acc)\n",
    "    return acc"
   ]
  },
  {
   "cell_type": "markdown",
   "metadata": {
    "editable": false
   },
   "source": [
    "### Problem 8\n",
    "Now you want to design a function that takes a list of strings, as defined in Problem 7.\n",
    "\n",
    "**a.** Complete the stub, including signature and purpose, and examples/tests of a function called `any_empty`, which returns True if at least one of the strings in the list is empty (i.e. has length 0). **Be careful**: an empty list and a list containing an empty string are different things. (The empty list has 0 elements; the list containing an empty string has 1 element!)"
   ]
  },
  {
   "cell_type": "code",
   "execution_count": 65,
   "metadata": {},
   "outputs": [
    {
     "name": "stdout",
     "output_type": "stream",
     "text": [
      "\u001b[91mTest failed:\u001b[0m expected False but got True\n",
      "     \u001b[1mLine 9: \u001b[0mexpect(any_empty([]), False)\n",
      "\u001b[91mTest failed:\u001b[0m expected False but got True\n",
      "    \u001b[1mLine 12: \u001b[0mexpect(any_empty([\"hey\", \"donald\", \"hello\"]), False)\n",
      "\u001b[91m2 of 4 tests passed\u001b[0m\n"
     ]
    }
   ],
   "source": [
    "# This cell can be run \n",
    "# your solution goes here\n",
    "\n",
    "@typecheck\n",
    "def any_empty(los: List[str]) -> bool:\n",
    "    \"\"\"returns True if at least one of the strings in los is an empty string, False otherwise.\"\"\"\n",
    "    return True #stub\n",
    "start_testing()\n",
    "expect(any_empty([]), False)\n",
    "expect(any_empty([\"\"]), True)                            \n",
    "expect(any_empty([\"hey\", \"\", \"hello\"]), True)\n",
    "expect(any_empty([\"hey\", \"donald\", \"hello\"]), False)\n",
    "summary()"
   ]
  },
  {
   "cell_type": "markdown",
   "metadata": {
    "editable": false
   },
   "source": [
    "**b.** Which of the following are correct function bodies for `any_empty`? (i.e. are consistent with the template and are correct)\n",
    "\n",
    "```python\n",
    "i\n",
    "@typecheck\n",
    "def any_empty(los: List[str]) -> bool:\n",
    "    for s in los:\n",
    "        res = res and (len(s) == 0)\n",
    "    return res\n",
    "\n",
    "ii\n",
    "@typecheck\n",
    "def any_empty(los: List[str]) -> bool:\n",
    "    # res will be set to True if any of\n",
    "    # the strings in the list are empty\n",
    "    res = False # type: bool\n",
    "    for s in los:\n",
    "        if (len(s) == 0):\n",
    "            res = True\n",
    "    return res\n",
    "\n",
    "iii\n",
    "@typecheck\n",
    "def any_empty(los: List[str]) -> bool:\n",
    "    for s in los:\n",
    "        if len(s) == 0:\n",
    "            return True\n",
    "    return False\n",
    "```"
   ]
  },
  {
   "cell_type": "markdown",
   "metadata": {},
   "source": [
    "*ii, iii*"
   ]
  },
  {
   "cell_type": "markdown",
   "metadata": {
    "editable": false
   },
   "source": [
    "### Problem 9\n",
    "Two of the answers to Problem 8b are correct. Decide which solution you think is better and why."
   ]
  },
  {
   "cell_type": "markdown",
   "metadata": {},
   "source": [
    "*ii and iii are correct. iii is better because it stops iterating the for loop and automatically returns True when the first empty string is detected, this is better for the CPU of the computer and saves time and memory as well.*"
   ]
  },
  {
   "cell_type": "markdown",
   "metadata": {
    "editable": false
   },
   "source": [
    "### Problem 10\n",
    "As you look at more and more code, how do you think it will change the way you understand and apply the CPSC 103 design recipes?"
   ]
  },
  {
   "cell_type": "markdown",
   "metadata": {},
   "source": [
    "*Efficiency is also a task, and not just getting the code to work. Many blocks of code may be correct but there are definitely more efficient ones of the correct ones.*"
   ]
  },
  {
   "cell_type": "markdown",
   "metadata": {
    "editable": false
   },
   "source": [
    "## Part Three\n",
    "\n",
    "### Problem 11\n",
    "For each of the kinds of data described, circle the type that would best represent that data. If you choose Arbitrary-Sized, specify what type of list you would use (i.e., List[str], List[int] etc.). If you choose compound, specify how many fields you will need. In each case, the description is of a **single** value of the kind of data being considered.\n",
    "\n",
    "**a.** The names of every student in a school:\n",
    "\n",
    "    Arbitrary-Sized        Compound         Optional         Enumeration"
   ]
  },
  {
   "cell_type": "markdown",
   "metadata": {},
   "source": [
    "The best Data Type is `[ Arbitrary-Sized]`"
   ]
  },
  {
   "cell_type": "markdown",
   "metadata": {
    "editable": false
   },
   "source": [
    "**b.** A bus stop with its location and stop number:\n",
    "\n",
    "    Arbitrary-Sized        Compound         Optional         Enumeration"
   ]
  },
  {
   "cell_type": "markdown",
   "metadata": {},
   "source": [
    "The best Data Type is `[ Compound]`"
   ]
  },
  {
   "cell_type": "markdown",
   "metadata": {
    "editable": false
   },
   "source": [
    "**c.** All the bus stops on a particular bus route.\n",
    "\n",
    "    Arbitrary-Sized        Compound         Optional         Enumeration"
   ]
  },
  {
   "cell_type": "raw",
   "metadata": {},
   "source": [
    "The best Data Type is `[ Arbitrary-Sized]`"
   ]
  },
  {
   "cell_type": "markdown",
   "metadata": {
    "editable": false
   },
   "source": [
    "**d.** A person’s annual salary, with a special representation if they are not currently working:\n",
    "\n",
    "    Arbitrary-Sized        Compound         Optional         Enumeration"
   ]
  },
  {
   "cell_type": "markdown",
   "metadata": {},
   "source": [
    "The best Data Type is `[ Optional]`"
   ]
  },
  {
   "cell_type": "markdown",
   "metadata": {
    "editable": false
   },
   "source": [
    "**e.** The numbers of every player on a sports team:\n",
    "\n",
    "    Arbitrary-Sized        Compound         Optional         Enumeration"
   ]
  },
  {
   "cell_type": "raw",
   "metadata": {},
   "source": [
    "The best Data Type is `[ Arbitrary-Sized]`"
   ]
  },
  {
   "cell_type": "markdown",
   "metadata": {
    "editable": false
   },
   "source": [
    "**f.** The price and name of an inventory item:\n",
    "\n",
    "    Arbitrary-Sized        Compound         Optional         Enumeration"
   ]
  },
  {
   "cell_type": "markdown",
   "metadata": {},
   "source": [
    "The best Data Type is `[ Compound]`"
   ]
  },
  {
   "cell_type": "markdown",
   "metadata": {
    "editable": false
   },
   "source": [
    "**g.** The logos of all the stores in a mall (you can assume that there exists some data definition that represents an image):\n",
    "\n",
    "    Arbitrary-Sized        Compound         Optional         Enumeration"
   ]
  },
  {
   "cell_type": "markdown",
   "metadata": {},
   "source": [
    "The best Data Type is `[Arbitrary-Sized]`"
   ]
  },
  {
   "cell_type": "markdown",
   "metadata": {
    "editable": false
   },
   "source": [
    "### Problem 12\n",
    "Below is a data definition for a Course. Design a data definition for a list of courses offered at a university. Be sure to follow all steps of the HtDD recipe."
   ]
  },
  {
   "cell_type": "code",
   "execution_count": 67,
   "metadata": {
    "editable": false
   },
   "outputs": [],
   "source": [
    "# This cell can be run \n",
    "\n",
    "Course = NamedTuple('Course', [('name', str),\n",
    "                               ('num', int), # in range[0,699]\n",
    "                               ('dept', str), # 4 uppercase letters\n",
    "                               ('max_stu', int)]) # in range [0, …)\n",
    "# interp. a course's name, number, department that offers it, and maximum\n",
    "# number of students\n",
    "\n",
    "C1 = Course('Shakespeare', 520, 'ENGL', 45)\n",
    "C2 = Course('Algorithms', 221, 'CPSC', 300)\n",
    "C3 = Course('Finance', 331, 'COMM', 100)\n",
    "\n",
    "def fn_for_course(c: Course) -> ...: # template based on compound\n",
    "    return ...(c.name, # str\n",
    "               c.num, # int in range [0, 699]\n",
    "               c.dept, # str 4 uppercase letters\n",
    "               c.max_stu,) # int in rnage [0, ...)"
   ]
  },
  {
   "cell_type": "code",
   "execution_count": 68,
   "metadata": {},
   "outputs": [],
   "source": [
    "# your solution goes here\n",
    "from typing import List\n",
    "#List[Course]\n",
    "#interp. a list of courses\n",
    "LOC0 = []\n",
    "LOC1 = [C1, C2, C3]\n",
    "LOC2 = [Course('Computer Science', 103, 'CPSC', 200 ), Course('Differential Calculus with Applications', 100, 'MATH', 200)]\n",
    "\n",
    "@typecheck\n",
    "#template based on arbitrary-sized and reference rule\n",
    "def fn_for_loc(loc: List[Course]) -> ...:\n",
    "    #description for accumulator\n",
    "    acc = ... #type: ...\n",
    "    for c in loc:\n",
    "        acc = ...(fn_for_course(c), acc)\n",
    "    return...(acc)"
   ]
  },
  {
   "cell_type": "markdown",
   "metadata": {
    "editable": false
   },
   "source": [
    "### Problem 13\n",
    "Design a function that takes a list of courses and returns a list of the course codes of the courses. (The course code includes the department and number, e.g. “CPSC 103”) Be sure to follow the HtDF recipe and remember to follow the reference rule."
   ]
  },
  {
   "cell_type": "code",
   "execution_count": 73,
   "metadata": {},
   "outputs": [
    {
     "name": "stdout",
     "output_type": "stream",
     "text": [
      "\u001b[92m2 of 2 tests passed\u001b[0m\n"
     ]
    }
   ],
   "source": [
    "# your solution goes here\n",
    "@typecheck\n",
    "def course_codes(loc: List[Course]) -> List[str]:\n",
    "    \"\"\"returns a list of all course codes from loc\"\"\"\n",
    "    #return [] #stub\n",
    "    #template from List[Course]\n",
    "    #codes is the course codes of the courses seen in loc so far\n",
    "    codes = [] #type: List[str]\n",
    "    for c in loc:\n",
    "        codes.append(c.dept)\n",
    "    return codes\n",
    "\n",
    "start_testing()\n",
    "expect(course_codes(LOC0), [])\n",
    "expect(course_codes(LOC1), ['ENGL','CPSC','COMM'])\n",
    "summary()"
   ]
  },
  {
   "cell_type": "markdown",
   "metadata": {
    "editable": false
   },
   "source": [
    "### Problem 14\n",
    "Design data definitions to represent a list of shipping containers. Each container has a length, width, and height and is either empty or full."
   ]
  },
  {
   "cell_type": "code",
   "execution_count": 85,
   "metadata": {},
   "outputs": [],
   "source": [
    "# your solution goes here\n",
    "from typing import NamedTuple\n",
    "ShippingContainer = NamedTuple('ShippingContainer',[('length', float), #in range [0,...)\n",
    "                                                    ('width', float), #in range [0,...)\n",
    "                                                    ('height', float), #in range [0,...)\n",
    "                                                    ('empty', bool)])\n",
    "#interp. a shipping container that has a height, width, length, and the condition of either of empty or full\n",
    "SC0 = ShippingContainer(3.4,2.0,5.7, True)\n",
    "SC1 = ShippingContainer(4.4,6.7,8.2, False)\n",
    "SC2 = ShippingContainer(7.7, 2.4, 9.7, True)\n",
    "SC3 = ShippingContainer(0, 0,0, False)\n",
    "\n",
    "@typecheck\n",
    "#template based on Compound (4 fields)\n",
    "def fn_for_shipping_container(sc: ShippingContainer) -> ...:\n",
    "    return...(sc.length,sc.width,sc.height,sc.empty)\n",
    "\n",
    "#List[ShippingContainer]\n",
    "#interp. a list of shipping containers\n",
    "LOSC0 = []\n",
    "LOSC1 = [SC0, SC2]\n",
    "LOSC2 = [SC0, SC2, SC3]\n",
    "LOSC3 = [SC1, SC3]\n",
    "\n",
    "@typecheck\n",
    "#template from arbitrary-sized and reference rule \n",
    "def fn_for_losc(losc: List[ShippingContainer]) -> ...:\n",
    "    #description of accumulator\n",
    "    acc = ... #type: ...\n",
    "    for sc in losc:\n",
    "        acc = ...(fn_for_shipping_container(sc), acc)\n",
    "    return ...(acc)"
   ]
  },
  {
   "cell_type": "markdown",
   "metadata": {
    "editable": false
   },
   "source": [
    "### Problem 15\n",
    "Did you use a Boolean or an Enumeration to represent whether the shipping container was empty or full? How would your design change if you switched choices? Which choice do you think is better, and why?"
   ]
  },
  {
   "cell_type": "markdown",
   "metadata": {},
   "source": [
    "*Boolean is a better choice as the container is empty or full, those are the only 2 possible conditions so using a boolean makes it easier. If enumeration was used then the reference rule would be applied.*"
   ]
  },
  {
   "cell_type": "markdown",
   "metadata": {
    "editable": false
   },
   "source": [
    "### Problem 16\n",
    "Design a function that takes a list of shipping containers and returns a list containing the volume of each of the empty containers. Be sure to follow the HtDF recipe, and design any helper functions that might be required by the reference rule. The volume of each container can be calculated as `length*width*height`."
   ]
  },
  {
   "cell_type": "code",
   "execution_count": 86,
   "metadata": {},
   "outputs": [
    {
     "name": "stdout",
     "output_type": "stream",
     "text": [
      "\u001b[92m3 of 3 tests passed\u001b[0m\n",
      "\u001b[92m4 of 4 tests passed\u001b[0m\n"
     ]
    }
   ],
   "source": [
    "# your solution goes here\n",
    "@typecheck\n",
    "def find_volume(sc: ShippingContainer) -> float:\n",
    "    \"\"\"returns the volume of a given shipping container if it is empty\"\"\"\n",
    "    #return 1.0 #stub\n",
    "    #template from ShippingContainer\n",
    "    return sc.length * sc.width * sc.height\n",
    "\n",
    "start_testing()\n",
    "expect(find_volume(SC0), 3.4*2.0*5.7 )\n",
    "expect(find_volume(SC1), 4.4*6.7*8.2)\n",
    "expect(find_volume(SC3), 0)\n",
    "summary()\n",
    "\n",
    "@typecheck\n",
    "def volumes(losc: List[ShippingContainer]) -> List[float]:\n",
    "    \"\"\"returns a list of volumes for all shipping containers in losc\"\"\"\n",
    "    #return [] #stub\n",
    "    #template from List[ShippingContainer]\n",
    "    #volume is a list containing the volumes of the shipping containers seen so far in losc\n",
    "    volume = [] #type: List[float]\n",
    "    for sc in losc:\n",
    "        if sc.empty:\n",
    "            volume.append(find_volume(sc))\n",
    "    return volume\n",
    "\n",
    "start_testing()\n",
    "expect(volumes(LOSC0), [])\n",
    "expect(volumes(LOSC1), [3.4*2.0*5.7, 7.7* 2.4* 9.7 ])\n",
    "expect(volumes(LOSC2), [3.4*2.0*5.7, 7.7* 2.4* 9.7])\n",
    "expect(volumes(LOSC3), [])\n",
    "summary()\n",
    "\n"
   ]
  },
  {
   "cell_type": "markdown",
   "metadata": {
    "editable": false
   },
   "source": [
    "### Problem 17\n",
    "We could design a single function that takes a Container and returns the volume of an empty Container or None if the Container is full. Is such a function useful here? Why or why not?"
   ]
  },
  {
   "cell_type": "markdown",
   "metadata": {},
   "source": [
    "*You do not need None to be returned for this function as it only includes volumes of empty containers so it is not useful.*"
   ]
  },
  {
   "cell_type": "markdown",
   "metadata": {
    "editable": false
   },
   "source": [
    "### Problem 18\n",
    "We could also design a single function that takes a list of Containers and returns a list of only those Containers that are empty. Is such a function useful here? Why or why not?"
   ]
  },
  {
   "cell_type": "markdown",
   "metadata": {},
   "source": [
    "*Yes that is useful as it helps to filter out what is necessary to process in determining the calculations for each index of the list to be returned.*"
   ]
  },
  {
   "cell_type": "markdown",
   "metadata": {
    "editable": false
   },
   "source": [
    "### Problem 19\n",
    "Which parts of the course are you finding the most difficult?"
   ]
  },
  {
   "cell_type": "markdown",
   "metadata": {},
   "source": [
    "*Using the reference rule*"
   ]
  },
  {
   "cell_type": "markdown",
   "metadata": {
    "editable": false
   },
   "source": [
    "### Problem 20\n",
    "What is your strategy for mastering the parts of the course that you are finding to be the most difficult?"
   ]
  },
  {
   "cell_type": "markdown",
   "metadata": {},
   "source": [
    "*Continue to practice each problem and ask TA's when in doubt*"
   ]
  },
  {
   "cell_type": "code",
   "execution_count": 87,
   "metadata": {
    "editable": false
   },
   "outputs": [
    {
     "data": {
      "application/vnd.jupyter.widget-view+json": {
       "model_id": "569e84e227bc4744a49232eb84fc9a5e",
       "version_major": 2,
       "version_minor": 0
      },
      "text/plain": [
       "Valid(value=True, description='Token')"
      ]
     },
     "metadata": {},
     "output_type": "display_data"
    },
    {
     "data": {
      "application/vnd.jupyter.widget-view+json": {
       "model_id": "9f616ad7a4a146e08c3298f7a9f67371",
       "version_major": 2,
       "version_minor": 0
      },
      "text/plain": [
       "SelectMultiple(description='Files', index=(0,), layout=Layout(height='100%', width='50%'), options=('module-5-…"
      ]
     },
     "metadata": {},
     "output_type": "display_data"
    },
    {
     "data": {
      "application/vnd.jupyter.widget-view+json": {
       "model_id": "48678d152c7141598e51246284c34904",
       "version_major": 2,
       "version_minor": 0
      },
      "text/plain": [
       "Button(description='submit', icon='check', style=ButtonStyle(), tooltip='submit')"
      ]
     },
     "metadata": {},
     "output_type": "display_data"
    },
    {
     "name": "stdout",
     "output_type": "stream",
     "text": [
      "We are about to submit the files:\n",
      "module-5-arbitrary-sized-data-worksheet.ipynb\n",
      "\n",
      "- We do this by moving only the files you selected to their own space, restarting a kernel,\n",
      "  and running them from top to bottom.\n",
      "- This ensures that the files you submit are exactly what the course staff needs to recreate your output.\n",
      "- We then submit these to Canvas for you and, if successful, give you a link where you can review your submission.\n",
      "- If there is an error, there will be a VERY LONG error message below.\n",
      "  Read our suggestions at the bottom and try to ream the error message bottom up.\n",
      "\n",
      "-----------------------------------------------------------------------------------------------\n",
      "\n",
      "Your assignment was submitted succesfully!\n",
      "Please check your submission at this link: https://canvas.ubc.ca/courses/123409/assignments/1615224/submissions/987277?preview=1&version=1\n",
      "It will be easiest to check your submission using the HTML file at that link.\n",
      "\n",
      "WARNING: We can only see saved changes. ANY UNSAVED CHANGES would not have been submitted.\n",
      "Save before each submission!\n",
      "-----------------------------------------------------------------------------------------------\n",
      "\n"
     ]
    }
   ],
   "source": [
    "# NOTE: You should not be able to edit this cell. Just run it to start the process of submiting your code.\n",
    "from cs103 import submit\n",
    "\n",
    "COURSE = 123409\n",
    "ASSIGNMENT = 1615224\n",
    "\n",
    "submit(COURSE, ASSIGNMENT)\n",
    "\n",
    "# If something has gone wrong and you still are not able to submit by running the code above, SUBMIT ANYWAY \n",
    "# by downloading your files and uploading them to Canvas. You can learn how on the page \n",
    "# \"How to submit your Jupyter notebook\" on our Canvas site."
   ]
  },
  {
   "cell_type": "code",
   "execution_count": null,
   "metadata": {},
   "outputs": [],
   "source": []
  }
 ],
 "metadata": {
  "celltoolbar": "Edit Metadata",
  "kernelspec": {
   "display_name": "Python 3 (ipykernel)",
   "language": "python",
   "name": "python3"
  },
  "language_info": {
   "codemirror_mode": {
    "name": "ipython",
    "version": 3
   },
   "file_extension": ".py",
   "mimetype": "text/x-python",
   "name": "python",
   "nbconvert_exporter": "python",
   "pygments_lexer": "ipython3",
   "version": "3.11.4"
  }
 },
 "nbformat": 4,
 "nbformat_minor": 4
}
