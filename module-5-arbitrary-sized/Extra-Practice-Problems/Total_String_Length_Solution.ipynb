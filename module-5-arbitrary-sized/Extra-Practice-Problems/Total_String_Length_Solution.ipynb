{
 "cells": [
  {
   "cell_type": "markdown",
   "metadata": {},
   "source": [
    "Problem 1: Design a data definition for a list of strings."
   ]
  },
  {
   "cell_type": "code",
   "execution_count": 1,
   "metadata": {},
   "outputs": [],
   "source": [
    "from cs103 import *\n",
    "from typing import List\n",
    "\n",
    "# List[str]\n",
    "# interp. a list of strings\n",
    "LOS0 = []\n",
    "LOS1 = ['hello', 'my', 'name', 'is', 'Erika']\n",
    "\n",
    "# template based on arbitrary-sized\n",
    "@typecheck\n",
    "def fn_for_los(los: List[str]) -> ...:\n",
    "    # description of the acc\n",
    "    acc = ... # type: \n",
    "    for s in los:\n",
    "        acc = ...(s, acc)\n",
    "    return ...(acc)"
   ]
  },
  {
   "cell_type": "markdown",
   "metadata": {},
   "source": [
    "Problem 2: \n",
    "    \n",
    "Design a function called total_string_length that takes a list of strings and determines the total number of characters (single letters) in the list. "
   ]
  },
  {
   "cell_type": "code",
   "execution_count": 2,
   "metadata": {},
   "outputs": [
    {
     "name": "stdout",
     "output_type": "stream",
     "text": [
      "\u001b[92m2 of 2 tests passed\u001b[0m\n"
     ]
    }
   ],
   "source": [
    "@typecheck\n",
    "def total_string_length(los: List[str]) -> int:\n",
    "    \"\"\"\n",
    "    return the total number of characters in los\n",
    "    \"\"\"\n",
    "    \n",
    "    # return 0.0  #stub\n",
    "    # template from List[str]\n",
    "    \n",
    "    # total_length contains the sum of the lengths of the strings seen so far in los\n",
    "    total_length = 0 # type: int\n",
    "    for s in los:\n",
    "        # We use the += operator here. total_length += len(s) is essentially the\n",
    "        # same as total_length = total_length + len(s). Feel free to use either!\n",
    "        total_length += len(s)\n",
    "    return total_length \n",
    "\n",
    "start_testing()\n",
    "\n",
    "expect(total_string_length([]), 0)\n",
    "expect(total_string_length(['hello', 'my', 'name', 'is', 'Erika']), 18)\n",
    "\n",
    "# show testing summary\n",
    "summary()"
   ]
  }
 ],
 "metadata": {
  "kernelspec": {
   "display_name": "Python 3 (ipykernel)",
   "language": "python",
   "name": "python3"
  },
  "language_info": {
   "codemirror_mode": {
    "name": "ipython",
    "version": 3
   },
   "file_extension": ".py",
   "mimetype": "text/x-python",
   "name": "python",
   "nbconvert_exporter": "python",
   "pygments_lexer": "ipython3",
   "version": "3.9.9"
  }
 },
 "nbformat": 4,
 "nbformat_minor": 2
}
