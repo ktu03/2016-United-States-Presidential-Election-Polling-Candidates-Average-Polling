{
 "cells": [
  {
   "cell_type": "markdown",
   "metadata": {},
   "source": [
    "# Problem 1\n",
    "\n",
    "Design a data definition for a list of strings.\n",
    "\n",
    "Be sure to follow all steps of the HtDD recipe."
   ]
  },
  {
   "cell_type": "code",
   "execution_count": null,
   "metadata": {},
   "outputs": [],
   "source": [
    "from cs103 import * \n",
    "from typing import List\n",
    "\n",
    "# List[str] \n",
    "# interp. a list of images\n",
    "LOS0 = []\n",
    "LOS1 = [\"cat\", \"dog\", \"computer\", \"apple\"]\n",
    "\n",
    "# template based on arbitrary-sized\n",
    "@typecheck\n",
    "def fn_for_los(los: List[str]) -> ...:\n",
    "    # description of the acc\n",
    "    acc = ... # type:\n",
    "    for s in los:\n",
    "        acc = ...(s, acc)\n",
    "    return ...(acc)"
   ]
  },
  {
   "cell_type": "markdown",
   "metadata": {},
   "source": [
    "# Problem 2\n",
    "\n",
    "Using your data definition from Problem 1, design a function that takes a list of string and returns a new string composed by the first letters of each string. For example, given [\"cat\", \"dog\", \"computer\", \"apple\"], the function should return \"cdca\".\n",
    "\n",
    "Be sure to follow all steps of the HtDF recipe."
   ]
  },
  {
   "cell_type": "code",
   "execution_count": null,
   "metadata": {},
   "outputs": [],
   "source": [
    "@typecheck\n",
    "def first_letters(los: List[str]) -> str:\n",
    "    \"\"\"\n",
    "    returns a single string with all first letters of ech string in los\n",
    "    \"\"\"\n",
    "    #return \"A\" # stub\n",
    "\n",
    "    # template from List[str]\n",
    "    # acc is a single string containing all first letters from all strings seen so far from loi \n",
    "    acc = \"\" # type: str\n",
    "    for s in los:\n",
    "        acc = acc + s[0]\n",
    "    return acc\n",
    "\n",
    "# Start testing\n",
    "start_testing()\n",
    "\n",
    "expect(first_letters(LOS0), \"\")\n",
    "expect(first_letters(LOS1),\"cdca\")\n",
    "\n",
    "# Show testing summary\n",
    "summary()"
   ]
  }
 ],
 "metadata": {
  "kernelspec": {
   "display_name": "Python 3 (ipykernel)",
   "language": "python",
   "name": "python3"
  },
  "language_info": {
   "codemirror_mode": {
    "name": "ipython",
    "version": 3
   },
   "file_extension": ".py",
   "mimetype": "text/x-python",
   "name": "python",
   "nbconvert_exporter": "python",
   "pygments_lexer": "ipython3",
   "version": "3.9.9"
  }
 },
 "nbformat": 4,
 "nbformat_minor": 2
}
