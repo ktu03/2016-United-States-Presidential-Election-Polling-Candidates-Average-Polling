{
 "cells": [
  {
   "cell_type": "code",
   "execution_count": 1,
   "metadata": {},
   "outputs": [],
   "source": [
    "from cs103 import *\n",
    "from typing import List\n",
    "\n",
    "# List[float] \n",
    "# interp. a list of numbers\n",
    "LOF1 = []\n",
    "LOF2 = [1, 2, 3, 4]\n",
    "LOF3 = [-2, 3.4, 7, -22.3]\n",
    "\n",
    "# template based on arbitrary-sized\n",
    "@typecheck\n",
    "def fn_for_lof(lof: List[float]) -> ...:\n",
    "    # description of the acc\n",
    "    acc = ... # type:\n",
    "    for f in lof:\n",
    "        acc = ...(f, acc)\n",
    "    return ...(acc)"
   ]
  },
  {
   "cell_type": "markdown",
   "metadata": {},
   "source": [
    "Problem\n",
    "\n",
    "Design a function that takes a list of floats and returns the largest number in the list. You may assume that all numbers in the list are greater than 0. If the list is empty, return 0. Call your function largest_number."
   ]
  },
  {
   "cell_type": "code",
   "execution_count": 2,
   "metadata": {},
   "outputs": [
    {
     "name": "stdout",
     "output_type": "stream",
     "text": [
      "\u001b[92m3 of 3 tests passed\u001b[0m\n"
     ]
    }
   ],
   "source": [
    "@typecheck\n",
    "def largest_number(lof: List[float]) -> float:\n",
    "    \"\"\"\n",
    "    produce the largest number in the list\n",
    "    ASSUME: all numbers are greater than zero\n",
    "    \"\"\"\n",
    "    # return 0.0  #stub\n",
    "    # template from List[float]\n",
    "    \n",
    "    # largest is the largest number in lof seen so far\n",
    "    largest = 0.0 # type: float\n",
    "    for f in lof:\n",
    "        if f > largest:\n",
    "            largest = f\n",
    "    return largest\n",
    "\n",
    "start_testing()\n",
    "\n",
    "expect(largest_number([]), 0)\n",
    "expect(largest_number([1, 2, 3, 4]), 4)\n",
    "expect(largest_number([2.5, 33.7, 92.1, 25.5]), 92.1)\n",
    "\n",
    "\n",
    "# show testing summary\n",
    "summary()"
   ]
  }
 ],
 "metadata": {
  "kernelspec": {
   "display_name": "Python 3 (ipykernel)",
   "language": "python",
   "name": "python3"
  },
  "language_info": {
   "codemirror_mode": {
    "name": "ipython",
    "version": 3
   },
   "file_extension": ".py",
   "mimetype": "text/x-python",
   "name": "python",
   "nbconvert_exporter": "python",
   "pygments_lexer": "ipython3",
   "version": "3.9.9"
  }
 },
 "nbformat": 4,
 "nbformat_minor": 2
}
