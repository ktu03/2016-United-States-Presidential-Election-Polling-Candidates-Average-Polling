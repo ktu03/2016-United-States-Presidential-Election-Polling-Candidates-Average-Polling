{
 "cells": [
  {
   "cell_type": "markdown",
   "metadata": {},
   "source": [
    "## Minimum Height Restrictions at the PNE\n",
    "\n",
    "Lists can refer to other types defined in a data definition, but so can several other types of data. Specifically, Optionals and Compounds can refer to other data definitions. In those cases, you follow the same reference rule as with lists!\n",
    "\n",
    "Here's an example problem to practice that:\n",
    "\n",
    "**Problem:** Determine if a person with a particular height in feet and inches (with no fractions) should be allowed on a ride that may have a minimum height (in feet and inches with no fractions). Not all rides have a minimum height. If there is no minimum height, then anyone is allowed to ride.\n",
    "\n",
    "Note: You could decide that the minimum height restriction on a ride with no minimum height restriction is a height of 0 feet and 0 inches. That's potentially a great solution! It simplifies how our data is represented while still being intuitive to human readers of our code. (It's pretty clear to a human reader that a height restriction of \"zero\" means no height restriction.)\n",
    "\n",
    "However, **we want you to design a solution that designates \"no height restriction\" as a special case**. On the one hand, this is a solution that makes clear that we will want to treat such rides qualitatively differently from ones that do have height restrictions (i.e., zero really is *different* from anything non-zero). On the other hand, if you don't do it that way, you won't get the practice we want! 😁"
   ]
  },
  {
   "cell_type": "code",
   "execution_count": 1,
   "metadata": {},
   "outputs": [],
   "source": [
    "# SPOILER: We give you the feet/inches definition, since it's just a plain old compound!\n",
    "\n",
    "from cs103 import *\n",
    "from typing import NamedTuple\n",
    "\n",
    "Height = NamedTuple('Height', [('feet', int),     # in range [0, ...)\n",
    "                               ('inches', int)])  # in range [0, 12)\n",
    "# interp. a person's height in feet and inches. There are 12 inches in a foot;\n",
    "# so, inches can only be 0 through 11.\n",
    "H_5_10 = Height(5, 10)\n",
    "H_5_3 = Height(5, 3)\n",
    "H_4_8 = Height(4, 8)\n",
    "\n",
    "# template based on compound (2 fields)\n",
    "@typecheck\n",
    "def fn_for_height(h: Height) -> ...:\n",
    "    return ...(h.feet,\n",
    "               h.inches)"
   ]
  },
  {
   "cell_type": "code",
   "execution_count": 2,
   "metadata": {},
   "outputs": [],
   "source": [
    "from typing import Optional\n",
    "\n",
    "MinHeight = Optional[Height]\n",
    "# interp. the minimum height of a person allowed on a ride, or\n",
    "#         None if there is no minimum.\n",
    "MH_None = None\n",
    "MH_5_10 = H_5_10\n",
    "\n",
    "@typecheck\n",
    "# template based on optional with reference rule\n",
    "def fn_for_min_height(mh: MinHeight) -> ...:\n",
    "    if mh is None:\n",
    "        return ...\n",
    "    else:\n",
    "        return fn_for_height(mh)"
   ]
  },
  {
   "cell_type": "code",
   "execution_count": 3,
   "metadata": {},
   "outputs": [
    {
     "name": "stdout",
     "output_type": "stream",
     "text": [
      "\u001b[92m6 of 6 tests passed\u001b[0m\n",
      "\u001b[92m5 of 5 tests passed\u001b[0m\n"
     ]
    }
   ],
   "source": [
    "# We ask that your polished solutions to problems with helper functions\n",
    "# put the helpers below their \"main\" functions. This is the least\n",
    "# critical step of the design, however. So, do it last!\n",
    "#\n",
    "# To make it work, you MUST collect the tests at the bottom of the cell!\n",
    "\n",
    "@typecheck\n",
    "def can_ride(h: Height, mh: MinHeight) -> bool:\n",
    "    \"\"\"\n",
    "    return True if h is tall enough to ride on a ride with minimum height mh\n",
    "    (which means no matter what if mh is None and otherwise only if h >= mh)\n",
    "    \"\"\"\n",
    "    #return True #stub\n",
    "    # Template from MinHeight with additional parameter h\n",
    "    \n",
    "    # Note that we chose to template based on the more complex parameter and left\n",
    "    # the other as just h.\n",
    "    \n",
    "    if mh is None:\n",
    "        return True\n",
    "    else:\n",
    "        # Now mh is just a Height. So, we can call a helper!\n",
    "        return is_at_least_as_tall(h, mh)\n",
    "\n",
    "# Notice that is_at_least_as_tall doesn't care about rides\n",
    "# or minimum heights. It \"knows\" as little as we can, which\n",
    "# makes it easier to design.\n",
    "#\n",
    "# Aside: it would work in the body to just say h1 >= h2,\n",
    "# but that's just a coincidence. DO NOT RELY ON IT;\n",
    "# we may deduct marks for an answer that works that way\n",
    "# as a bad DESIGN, even if it's working code.\n",
    "@typecheck\n",
    "def is_at_least_as_tall(h1: Height, h2: Height) -> bool:\n",
    "    \"\"\"\n",
    "    return True if h1 is as tall or taller than h2\n",
    "    \"\"\"\n",
    "    #return True #stub\n",
    "    # Template from Height, twice\n",
    "    if h1.feet == h2.feet:\n",
    "        return h1.inches >= h2.inches\n",
    "    else:\n",
    "        return h1.feet > h2.feet\n",
    "\n",
    "start_testing()\n",
    "expect(can_ride(Height(5, 7), None), True)  # Anyone can ride\n",
    "expect(can_ride(Height(5, 7), Height(5, 7)), True)   # it's a minimum; so, ties are OK\n",
    "expect(can_ride(Height(5, 7), Height(5, 3)), True)   # taller but within the same foot\n",
    "expect(can_ride(Height(5, 7), Height(4, 11)), True)  # taller even though inches is smaller\n",
    "expect(can_ride(Height(5, 3), Height(5, 7)), False)  # shorter but within the same foot\n",
    "expect(can_ride(Height(4, 11), Height(5, 7)), False) # shorter even though inches is larger\n",
    "summary()\n",
    "\n",
    "\n",
    "start_testing()\n",
    "expect(is_at_least_as_tall(Height(5, 7), Height(5, 7)), True)   # it's a minimum; so, ties are OK\n",
    "expect(is_at_least_as_tall(Height(5, 7), Height(5, 3)), True)   # taller but within the same foot\n",
    "expect(is_at_least_as_tall(Height(5, 7), Height(4, 11)), True)  # taller even though inches is smaller\n",
    "expect(is_at_least_as_tall(Height(5, 3), Height(5, 7)), False)  # shorter but within the same foot\n",
    "expect(is_at_least_as_tall(Height(4, 11), Height(5, 7)), False) # shorter even though inches is larger\n",
    "summary()"
   ]
  }
 ],
 "metadata": {
  "kernelspec": {
   "display_name": "Python 3 (ipykernel)",
   "language": "python",
   "name": "python3"
  },
  "language_info": {
   "codemirror_mode": {
    "name": "ipython",
    "version": 3
   },
   "file_extension": ".py",
   "mimetype": "text/x-python",
   "name": "python",
   "nbconvert_exporter": "python",
   "pygments_lexer": "ipython3",
   "version": "3.9.9"
  }
 },
 "nbformat": 4,
 "nbformat_minor": 2
}
