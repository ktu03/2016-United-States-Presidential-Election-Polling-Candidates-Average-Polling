{
 "cells": [
  {
   "cell_type": "markdown",
   "metadata": {},
   "source": [
    "## Minimum Height Restrictions at the PNE\n",
    "\n",
    "Lists can refer to other types defined in a data definition, but so can several other types of data. Specifically, Optionals and Compounds can refer to other data definitions. In those cases, you follow the same reference rule as with lists!\n",
    "\n",
    "Here's an example problem to practice that:\n",
    "\n",
    "**Problem:** Determine if a person with a particular height in feet and inches (with no fractions) should be allowed on a ride that may have a minimum height (in feet and inches with no fractions). Not all rides have a minimum height. If there is no minimum height, then anyone is allowed to ride.\n",
    "\n",
    "Note: You could decide that the minimum height restriction on a ride with no minimum height restriction is a height of 0 feet and 0 inches. That's potentially a great solution! It simplifies how our data is represented while still being intuitive to human readers of our code. (It's pretty clear to a human reader that a height restriction of \"zero\" means no height restriction.)\n",
    "\n",
    "However, **we want you to design a solution that designates \"no height restriction\" as a special case**. On the one hand, this is a solution that makes clear that we will want to treat such rides qualitatively differently from ones that do have height restrictions (i.e., zero really is *different* from anything non-zero). On the other hand, if you don't do it that way, you won't get the practice we want! 😁"
   ]
  },
  {
   "cell_type": "code",
   "execution_count": 2,
   "metadata": {},
   "outputs": [],
   "source": [
    "# SPOILER: We give you the feet/inches definition, since it's just a plain old compound!\n",
    "\n",
    "from cs103 import *\n",
    "from typing import NamedTuple\n",
    "\n",
    "Height = NamedTuple('Height', [('feet', int),     # in range [0, ...)\n",
    "                               ('inches', int)])  # in range [0, 12)\n",
    "# interp. a person's height in feet and inches. There are 12 inches in a foot;\n",
    "# so, inches can only be 0 through 11.\n",
    "H_5_10 = Height(5, 10)\n",
    "H_5_3 = Height(5, 3)\n",
    "H_4_8 = Height(4, 8)\n",
    "\n",
    "# template based on compound (2 fields)\n",
    "@typecheck\n",
    "def fn_for_height(h: Height) -> ...:\n",
    "    return ...(h.feet,\n",
    "               h.inches)"
   ]
  },
  {
   "cell_type": "code",
   "execution_count": null,
   "metadata": {},
   "outputs": [],
   "source": [
    "# Function\n",
    "\n",
    "@typecheck\n",
    "def can_ride(rider: Height, minimum: ...) -> bool:\n",
    "    \"\"\"\n",
    "    determine whether rider is tall enough to go on a ride with the given minimum\n",
    "    restriction on height (return True if yes and False if no)\n",
    "    \"\"\"\n",
    "    return True  #stub\n",
    "\n",
    "start_testing()\n",
    "expect(can_ride(Height(5, 10), ...), ...)\n",
    "summary()"
   ]
  }
 ],
 "metadata": {
  "kernelspec": {
   "display_name": "Python 3 (ipykernel)",
   "language": "python",
   "name": "python3"
  },
  "language_info": {
   "codemirror_mode": {
    "name": "ipython",
    "version": 3
   },
   "file_extension": ".py",
   "mimetype": "text/x-python",
   "name": "python",
   "nbconvert_exporter": "python",
   "pygments_lexer": "ipython3",
   "version": "3.9.9"
  }
 },
 "nbformat": 4,
 "nbformat_minor": 2
}
