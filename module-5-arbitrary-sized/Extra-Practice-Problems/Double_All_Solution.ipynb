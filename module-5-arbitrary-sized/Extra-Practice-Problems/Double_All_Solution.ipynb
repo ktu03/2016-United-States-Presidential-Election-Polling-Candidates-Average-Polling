{
 "cells": [
  {
   "cell_type": "code",
   "execution_count": 1,
   "metadata": {},
   "outputs": [],
   "source": [
    "from cs103 import *\n",
    "from typing import List\n",
    "\n",
    "# List[float] \n",
    "# interp. a list of numbers\n",
    "LOF1 = []\n",
    "LOF2 = [1, 2, 3, 4]\n",
    "LOF3 = [-2, 3.4, 7, -22.3]\n",
    "\n",
    "# template based on arbitrary-sized\n",
    "@typecheck\n",
    "def fn_for_lof(lof: List[float]) -> ...:\n",
    "    # description of the acc\n",
    "    acc = ... # type:\n",
    "    for f in lof:\n",
    "        acc = ...(f, acc)\n",
    "    return ...(acc)\n"
   ]
  },
  {
   "cell_type": "markdown",
   "metadata": {
    "collapsed": true
   },
   "source": [
    "Problem:\n",
    "    \n",
    "Design a function that takes a list of floats and doubles every number in the list. Call it double_all. \n"
   ]
  },
  {
   "cell_type": "code",
   "execution_count": 2,
   "metadata": {},
   "outputs": [
    {
     "name": "stdout",
     "output_type": "stream",
     "text": [
      "\u001b[92m3 of 3 tests passed\u001b[0m\n"
     ]
    }
   ],
   "source": [
    "@typecheck\n",
    "def double_all(lof: List[float]) -> List[float]:\n",
    "    \"\"\"\n",
    "    return lof with every element doubled\n",
    "    \"\"\"\n",
    "    \n",
    "    # return []  #stub\n",
    "    # template from List[float]\n",
    "    \n",
    "    # acc contains doubles of all the numbers from lof that have been seen so far\n",
    "    acc = [] # type List[float]\n",
    "    for f in lof:\n",
    "        acc.append(2*f)\n",
    "    return acc\n",
    "\n",
    "start_testing()\n",
    "\n",
    "expect(double_all([]), [])\n",
    "expect(double_all([1, 3, 4, 5]), [2, 6, 8, 10])\n",
    "expect(double_all([-3, 2.7, 50]), [-6, 5.4, 100])\n",
    "\n",
    "\n",
    "# show testing summary\n",
    "summary()"
   ]
  }
 ],
 "metadata": {
  "kernelspec": {
   "display_name": "Python 3 (ipykernel)",
   "language": "python",
   "name": "python3"
  },
  "language_info": {
   "codemirror_mode": {
    "name": "ipython",
    "version": 3
   },
   "file_extension": ".py",
   "mimetype": "text/x-python",
   "name": "python",
   "nbconvert_exporter": "python",
   "pygments_lexer": "ipython3",
   "version": "3.9.9"
  }
 },
 "nbformat": 4,
 "nbformat_minor": 2
}
