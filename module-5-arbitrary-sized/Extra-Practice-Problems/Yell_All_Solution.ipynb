{
 "cells": [
  {
   "cell_type": "code",
   "execution_count": 1,
   "metadata": {},
   "outputs": [],
   "source": [
    "from cs103 import *\n",
    "from typing import List\n",
    "\n",
    "# List[str]\n",
    "# interp. a list of strings\n",
    "LOS0 = []\n",
    "LOS1 = ['hello', 'my', 'name', 'is', 'Erika']\n",
    "\n",
    "# template based on arbitrary-sized\n",
    "@typecheck\n",
    "def fn_for_los(los: List[str]) -> ...:\n",
    "    # description of the acc\n",
    "    acc = ... # type: \n",
    "    for s in los:\n",
    "        acc = ...(s, acc)\n",
    "    return ...(acc)"
   ]
  },
  {
   "cell_type": "markdown",
   "metadata": {},
   "source": [
    "Problem:\n",
    "\n",
    "Design a function that takes a list of strings and \"yells\" each word by adding \"!\" to the end of each string. Call your function yell_all."
   ]
  },
  {
   "cell_type": "code",
   "execution_count": 2,
   "metadata": {},
   "outputs": [
    {
     "name": "stdout",
     "output_type": "stream",
     "text": [
      "\u001b[92m2 of 2 tests passed\u001b[0m\n"
     ]
    }
   ],
   "source": [
    "@typecheck\n",
    "def yell_all(los: List[str]) -> List[str]:\n",
    "    \"\"\"\n",
    "    add '!' to the end of every string in los\n",
    "    \"\"\"\n",
    "    # return []  #stub\n",
    "    # template from List[str]\n",
    "    \n",
    "    # acc contains the result so far (list of strings seen so far from los with \"!\" appended to them)\n",
    "    acc = [] # type: List[str]\n",
    "    for s in los:\n",
    "        acc.append(s + '!')\n",
    "    return acc\n",
    "\n",
    "start_testing()\n",
    "\n",
    "expect(yell_all([]), [])\n",
    "expect(yell_all(['yay','wow', 'amazing', 'fantastic!']), ['yay!', 'wow!', 'amazing!', 'fantastic!!'])\n",
    "\n",
    "# show testing summary\n",
    "summary()"
   ]
  }
 ],
 "metadata": {
  "kernelspec": {
   "display_name": "Python 3 (ipykernel)",
   "language": "python",
   "name": "python3"
  },
  "language_info": {
   "codemirror_mode": {
    "name": "ipython",
    "version": 3
   },
   "file_extension": ".py",
   "mimetype": "text/x-python",
   "name": "python",
   "nbconvert_exporter": "python",
   "pygments_lexer": "ipython3",
   "version": "3.9.9"
  }
 },
 "nbformat": 4,
 "nbformat_minor": 2
}
