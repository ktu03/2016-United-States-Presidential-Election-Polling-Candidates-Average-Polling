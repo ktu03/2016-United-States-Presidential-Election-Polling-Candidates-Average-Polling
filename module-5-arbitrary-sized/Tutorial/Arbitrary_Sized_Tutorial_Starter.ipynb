{
 "cells": [
  {
   "cell_type": "code",
   "execution_count": 2,
   "metadata": {},
   "outputs": [],
   "source": [
    "from cs103 import *"
   ]
  },
  {
   "cell_type": "markdown",
   "metadata": {},
   "source": [
    "## Pre-Tutorial Work:\n",
    "\n",
    "Complete Part One of the in-class worksheet.\n",
    "\n",
    "## Problem 1\n",
    "\n",
    "A function `any_positive` has been designed using our HtDF method.  For each of the examples given below, fill in the trace table and show the value stored in the variable `res` and the portion of the list that has been “seen” so far each time the body of the loop is executed. Just fill in \"n/a\" for cells that make no sense, but notice that even if the loop never runs, we can still ask about \"just before the first time through the loop\", which is when the `for` loop notices that there are no elements of `loi`."
   ]
  },
  {
   "cell_type": "code",
   "execution_count": 3,
   "metadata": {},
   "outputs": [
    {
     "name": "stdout",
     "output_type": "stream",
     "text": [
      "\u001b[92m5 of 5 tests passed\u001b[0m\n"
     ]
    }
   ],
   "source": [
    "from cs103 import *\n",
    "from typing import List\n",
    "\n",
    "@typecheck\n",
    "def any_positive(loi: List[int]) -> bool:\n",
    "    \"\"\"\n",
    "    return True if any element in loi is positive\n",
    "    \"\"\"\n",
    "    # return False #stub\n",
    "    # template from List[int]\n",
    "    \n",
    "    res = False\n",
    "    for i in loi:\n",
    "        if i > 0:\n",
    "            res = True\n",
    "    return res\n",
    "    \n",
    "start_testing()\n",
    "\n",
    "expect(any_positive([]), False)\n",
    "expect(any_positive([7, -4, 8]), True)\n",
    "expect(any_positive([3, 2, 1]), True)\n",
    "expect(any_positive([6, 8, 10]), True)\n",
    "expect(any_positive([-11, -12, -13]), False)\n",
    "\n",
    "summary()"
   ]
  },
  {
   "cell_type": "markdown",
   "metadata": {},
   "source": [
    "### Trace table\n",
    "\n",
    "Your solution goes here.  To edit this table, double click in the cell. As an example, we have filled in the first row.\n",
    "\n",
    "| Example         | just before 1st time through the loop  | just before 2nd time  | just before 3rd time  |  just before 4th time |\n",
    "|-----------------|---|---|---|---|\n",
    "| `[]`            | `res = False`, have seen `[]`  | n/a  | n/a  | n/a  |\n",
    "| `[7, -4, 8]`    |  res = False, have seen [ ]| res=True, have seen [7]  |  res = False, have seen [7,-4] | res = True, have seen [7,-4,8]  |\n",
    "| `[3, 2, 1]`     |  res = False, have seen [ ]| res = True, have seen [3]  | res = True, have seen [3, 2]  | res = True, have seen [3,2,1]  |\n",
    "| `[6, 8, 10]`    | res = False, have seen [ ]  | res = True, have seen [6]  |  res = True, have seen [6, 8] | res = True, have seen [6,8,10]  |\n",
    "| `[-11,-12,-13]` | res = False, have seen []  | res = False, have seen [-11]  | res = False, have seen [-11, -12]  | res = False, have seen [-11,-12,-13]  |"
   ]
  },
  {
   "cell_type": "markdown",
   "metadata": {},
   "source": [
    "## Problem 2\n",
    "\n",
    "Below is an alternative implementation for `any_positive`. Note that the signature and purpose are the same, but the function name has been changed to `any_positive2` and the implementation is different.\n",
    "\n",
    "For each of the examples in the function design `any_positive2` below, fill in the trace table and show the portion of the list that has been “seen” so far each time the body of the loop is executed. "
   ]
  },
  {
   "cell_type": "code",
   "execution_count": 40,
   "metadata": {},
   "outputs": [
    {
     "name": "stdout",
     "output_type": "stream",
     "text": [
      "\u001b[92m5 of 5 tests passed\u001b[0m\n"
     ]
    }
   ],
   "source": [
    "from cs103 import *\n",
    "from typing import List\n",
    "\n",
    "@typecheck\n",
    "def any_positive2(loi: List[int]) -> bool:\n",
    "    \"\"\"\n",
    "    return True if any element in loi is positive\n",
    "    \"\"\"\n",
    "    # return False #stub\n",
    "    # template from List[int]\n",
    "    \n",
    "    for i in loi:\n",
    "        if i > 0:\n",
    "            return True\n",
    "    return False\n",
    "    \n",
    "start_testing()\n",
    "\n",
    "expect(any_positive2([]), False)\n",
    "expect(any_positive2([7, -4, 8]), True)\n",
    "expect(any_positive2([3, 2, 1]), True)\n",
    "expect(any_positive2([6, 8, 10]), True)\n",
    "expect(any_positive2([-11, -12, -13]), False)\n",
    "\n",
    "summary()"
   ]
  },
  {
   "cell_type": "markdown",
   "metadata": {},
   "source": [
    "### Trace table\n",
    "\n",
    "Your solution goes here.  To edit this table, double click in the cell.  As an example, we have filled in the first row.\n",
    "\n",
    "| Example         |  just before 1st time through the loop | just before 2nd time  | just before 3rd time  |  just before 4th time |\n",
    "|-----------------|---|---|---|---|\n",
    "| `[]`            | have seen `[]` | n/a               | n/a                  | n/a                      |\n",
    "| `[7,-4,8]`      | have seen `[]` | have seen `[7]` | n/a | n/a | \n",
    "| `[3,2,1]`       | have seen `[]` | have seen `[3]` | n/a | n/a |\n",
    "| `[6,8,10]`      | have seen `[]` | have seen `[6]` | n/a | n/a |\n",
    "| `[-11,-12,-13]` | have seen `[]` | have seen `[-11]` | have seen `[-11,-12]` | have seen `[-11,-12,-13]` |"
   ]
  },
  {
   "cell_type": "markdown",
   "metadata": {},
   "source": [
    "## Problem 3\n",
    "\n",
    "**PROBLEMS 3 AND 4 RELY ON MODULE 5 WEEK 2 MATERIAL!** You're welcome to start early, but we'll focus on this in the second week rather than the first. (A good stopping point might be to design the data definition below as if it were a list that contains a primitive type. Then, in the pre-reading for the second class, you'll see how to modify that data definition to follow the *reference rule*.)\n",
    "\n",
    "Below is a table of information on government grants provided to charitable/community organizations from lottery funding. You are going to build on the GovernmentGrant data definition (given below) that is appropriate to store one row of information from this table in order to create a data type that can store an arbitrary number of community grants. \n",
    "\n",
    "Note: the GovernmentGrant type is based on the information about gaming grants in BC between April 1, 2017 to July 13, 2018.\n",
    "\n",
    "| City      |Organization|Grant Type|Grant Area|Grant Subarea|Payment Amount|\n",
    "|-----------|---|---|---|---|---|\n",
    "|Abbotsford | Abbotsford Agrifair |\tGovernment Grant | Arts and Culture | Fairs, Festivals, Museums\t| 80000|\n",
    "|Burnaby    | Burnaby Arts Council |\tGovernment Grant | Arts and Culture | Adult Arts and Culture | 15100|\n",
    "|Vancouver  | All Bodies Dance Society |\tGovernment Grant | Arts and Culture | Adult Arts and Culture | 12000|\n",
    "|Richmond   | BC Youth Music Society | Government Grant | Arts and Culture | Adult Arts and Culture\t| 31500|\n",
    "|Richmond   | Richmond Ravens Female Hockey Association | Government Grant | Sport | Sports for Youth | 42000|\n",
    "\n",
    "Source: [DataBC](https://catalogue.data.gov.bc.ca/dataset/gaming-grants-paid-to-community-organizations) (accessed: 2023-01-13), modified for the purpose of this tutorial."
   ]
  },
  {
   "cell_type": "code",
   "execution_count": 5,
   "metadata": {},
   "outputs": [],
   "source": [
    "from typing import NamedTuple, List\n",
    "\n",
    "GovernmentGrant = NamedTuple('GovernmentGrant', [('city', str),\n",
    "                                                 ('org', str),\n",
    "                                                 ('type', str),\n",
    "                                                 ('area', str),\n",
    "                                                 ('subarea', str),\n",
    "                                                 ('amt', int)])    # in range[0, ...)\n",
    "# interp. government grant data from BC. includes the city, organization ('org'), grant type ('type'),\n",
    "#         grant area ('area'), grant subarea ('subarea'), and payment amount ('amt') in CAD\n",
    "AGRIFAIR = GovernmentGrant(\"Abbotsford\", \n",
    "                           \"Abbotsford Agrifair\", \n",
    "                           \"Government Grant\", \n",
    "                           \"Arts and Culture\", \n",
    "                           \"Fairs, Festivals, Museums\", \n",
    "                           80000)\n",
    "\n",
    "ARTS_COUNCIL = GovernmentGrant(\"Burnaby\",\n",
    "                               \"Burnaby Arts Council\", \n",
    "                               \"Government Grant\", \n",
    "                               \"Arts and Culture\", \n",
    "                               \"Adult Arts and Culture\", \n",
    "                               15100)\n",
    "\n",
    "ALL_BODIES = GovernmentGrant(\"Vancouver\", \n",
    "                             \"All Bodies Dance Society\", \n",
    "                             \"Government Grant\", \n",
    "                             \"Arts and Culture\", \n",
    "                             \"Adult Arts and Culture\",   \n",
    "                             12000)\n",
    "\n",
    "YOUTH_MUSIC = GovernmentGrant(\"Richmond\", \n",
    "                              \"BC Youth Music Society\", \n",
    "                              \"Government Grant\", \n",
    "                              \"Arts and Culture\", \n",
    "                              \"Adult Arts and Culture\",   \n",
    "                              31500)\n",
    "\n",
    "RAVENS_HOCKEY = GovernmentGrant(\"Richmond\", \n",
    "                                \"Richmond Ravens Female Hockey Association\", \n",
    "                                \"Government Grant\", \n",
    "                                \"Sport\", \n",
    "                                \"Sports for Youth\",   \n",
    "                                42000)\n",
    "\n",
    "# template based on compound\n",
    "@typecheck\n",
    "def fn_for_government_grant(gg: GovernmentGrant) -> ...:\n",
    "    return ...(gg.city,\n",
    "               gg.org,\n",
    "               gg.type,\n",
    "               gg.area,\n",
    "               gg.subarea,\n",
    "               gg.amt)"
   ]
  },
  {
   "cell_type": "markdown",
   "metadata": {},
   "source": [
    "**Design a data definition to represent an arbitrary number of government grants.** Remember to follow the HtDD recipe."
   ]
  },
  {
   "cell_type": "code",
   "execution_count": 36,
   "metadata": {},
   "outputs": [],
   "source": [
    "# your solution goes here\n",
    "\n",
    "#List[GovernmentGrant]\n",
    "#interp. a list of government grants\n",
    "\n",
    "LOGG0 = []\n",
    "LOGG1 = [AGRIFAIR, ARTS_COUNCIL, ALL_BODIES, YOUTH_MUSIC, RAVENS_HOCKEY]\n",
    "LOGG2 = [GovernmentGrant(\"Fort Mcmurray\", \"Canadian Red Cross\", \"Government Grant\", \"Sports\", \"Mens Sports\", 2000), RAVENS_HOCKEY]\n",
    "LOGG3 = [GovernmentGrant(\"Vancouver\", \"Unicef\", \"Government Grant\", \"Sports\", \"Women's Sports\", 5000), GovernmentGrant(\"Edmonton\", \"David Suzuki Foundaton\", \"Government Grant\",\"Sports\", \"Children's Sports\", 5000)]\n",
    "LOGG4 = [GovernmentGrant(\"Waterloo\", \"Canadian Cancer Society\", \"Government Grant\", \"Health\", \"Respiratory Health\", 7000), GovernmentGrant(\"Burnaby\", \"David Suzuki Foundaton\", \"Government Grant\",\"Health\", \"Children's Mental Health\", 7000), GovernmentGrant(\"Calgary\", \"Greenpeace\", \"Government Grant\",\"Sports\", \"Children's Sports\", 7000),  GovernmentGrant(\"Toronto\", \"CSA\", \"Government Grant\",\"Health\", \"Adult's Mental Health\", 800)]\n",
    "#template based on Compound (6 fields) and reference rule\n",
    "@typecheck\n",
    "def fn_for_logg(logg: List[GovernmentGrant]) -> ...:\n",
    "    #description of the accumulator\n",
    "    acc = ... #type...\n",
    "    for gg in logg:\n",
    "        acc = ...(fn_for_government_grant(gg), acc)\n",
    "    return ...(acc)\n",
    "    "
   ]
  },
  {
   "cell_type": "markdown",
   "metadata": {},
   "source": [
    "## Problem 4\n",
    "\n",
    "Design a function that takes a list of government grants and finds the name of the grant subarea that received the largest grant. If two or more are tied, return the first one.\n",
    "\n",
    "Hints:\n",
    "1. You may assume that the input list is not empty. (In that case, be sure to *state* that assumption in your function's purpose! Otherwise callers of your function may think they can pass in an empty list.)\n",
    "2. You may want to design your loop to find the *whole* grant (ie, the entire compound value) with the largest dollar value. Once you've done that, is there a way to get just that grant subarea's name after the loop?"
   ]
  },
  {
   "cell_type": "code",
   "execution_count": 42,
   "metadata": {},
   "outputs": [
    {
     "name": "stdout",
     "output_type": "stream",
     "text": [
      "\u001b[92m3 of 3 tests passed\u001b[0m\n"
     ]
    }
   ],
   "source": [
    "# your solution goes here\n",
    "\n",
    "@typecheck\n",
    "def largest_grant_subarea(logg: List[GovernmentGrant]) -> str:\n",
    "    \"\"\"returns the subarea that received the largest government grant in logg, assuming logg is not an empty list.\n",
    "    If there is a tie, the name of the first processed government grant in logg is returned\"\"\"\n",
    "    #return \"\" #stub\n",
    "    #template from List[GovernmentGrant]\n",
    "    #grant is the name of the subarea of the largest government grant (in amount) seen so far in logg\n",
    "    grant = logg[0] #type: GovernmentGrant\n",
    "    for gg in logg:\n",
    "        if gg.amt>grant.amt:\n",
    "            grant=gg\n",
    "    return grant.subarea\n",
    "    \n",
    "start_testing()\n",
    "expect(largest_grant_subarea(LOGG1), \"Fairs, Festivals, Museums\" )\n",
    "expect(largest_grant_subarea(LOGG3), \"Women's Sports\")\n",
    "expect(largest_grant_subarea(LOGG4), \"Respiratory Health\")\n",
    "summary()\n",
    "\n"
   ]
  },
  {
   "cell_type": "markdown",
   "metadata": {},
   "source": [
    "## Submit your solution"
   ]
  },
  {
   "cell_type": "code",
   "execution_count": 38,
   "metadata": {
    "deletable": false,
    "editable": false
   },
   "outputs": [
    {
     "data": {
      "application/vnd.jupyter.widget-view+json": {
       "model_id": "5ef36548d2324528b09eb6087bce0083",
       "version_major": 2,
       "version_minor": 0
      },
      "text/plain": [
       "Valid(value=True, description='Token')"
      ]
     },
     "metadata": {},
     "output_type": "display_data"
    },
    {
     "data": {
      "application/vnd.jupyter.widget-view+json": {
       "model_id": "49e667d8825f45d9a3115c421c86d736",
       "version_major": 2,
       "version_minor": 0
      },
      "text/plain": [
       "SelectMultiple(description='Files', index=(0,), layout=Layout(height='100%', width='50%'), options=('Arbitrary…"
      ]
     },
     "metadata": {},
     "output_type": "display_data"
    },
    {
     "data": {
      "application/vnd.jupyter.widget-view+json": {
       "model_id": "4282900b6ed341ec9f2be7a74bc74d5a",
       "version_major": 2,
       "version_minor": 0
      },
      "text/plain": [
       "Button(description='submit', icon='check', style=ButtonStyle(), tooltip='submit')"
      ]
     },
     "metadata": {},
     "output_type": "display_data"
    }
   ],
   "source": [
    "# NOTE: You should not be able to edit this cell. Just run it to start the process of submiting your code.\n",
    "from cs103 import submit\n",
    "\n",
    "COURSE = 123409\n",
    "ASSIGNMENT = 1615221\n",
    "\n",
    "submit(COURSE, ASSIGNMENT)\n",
    "\n",
    "# If your submission fails,  SUBMIT ANYWAY by downloading your files and uploading them \n",
    "# to Canvas. You can learn how on the page \"How to submit your Jupyter notebook\" on our \n",
    "# Canvas site."
   ]
  },
  {
   "cell_type": "code",
   "execution_count": null,
   "metadata": {},
   "outputs": [],
   "source": []
  }
 ],
 "metadata": {
  "kernelspec": {
   "display_name": "Python 3 (ipykernel)",
   "language": "python",
   "name": "python3"
  },
  "language_info": {
   "codemirror_mode": {
    "name": "ipython",
    "version": 3
   },
   "file_extension": ".py",
   "mimetype": "text/x-python",
   "name": "python",
   "nbconvert_exporter": "python",
   "pygments_lexer": "ipython3",
   "version": "3.11.4"
  }
 },
 "nbformat": 4,
 "nbformat_minor": 2
}
