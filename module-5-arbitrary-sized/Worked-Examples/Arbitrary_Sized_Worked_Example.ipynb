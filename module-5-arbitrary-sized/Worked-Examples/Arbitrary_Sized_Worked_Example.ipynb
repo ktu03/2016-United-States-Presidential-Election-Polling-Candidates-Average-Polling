{
 "cells": [
  {
   "cell_type": "code",
   "execution_count": null,
   "metadata": {},
   "outputs": [],
   "source": [
    "from cs103 import *"
   ]
  },
  {
   "cell_type": "markdown",
   "metadata": {
    "collapsed": true
   },
   "source": [
    "### Problem 1: \n",
    "\n",
    "Suppose you're a photographer and you want to be able to store information about the digital photographs that you've taken. Design a data definition called Photograph. Each photograph must include the file size in MB, the name of the file in which it is stored, and the location where it was taken.\n",
    "\n",
    "Below we've completed this design, following all steps of the HtDD recipe. \n"
   ]
  },
  {
   "cell_type": "code",
   "execution_count": null,
   "metadata": {},
   "outputs": [],
   "source": [
    "from cs103 import * \n",
    "from typing import NamedTuple\n",
    "\n",
    "Photograph = NamedTuple('Photograph', [('file_name', str),\n",
    "                                       ('file_size',float),  # in range [0, ...) (i.e. positive)\n",
    "                                       ('loc', str)])\n",
    "# interp. a photograph's file name, file size in MB, and location in which it was taken\n",
    "\n",
    "P1 = Photograph(\"IMG_1234.jpg\", 934.2, \"Vancouver, BC\")\n",
    "P2 = Photograph(\"cuddly_cats.jpg\", 554.9, \"Burnaby, BC\")\n",
    "\n",
    "@typecheck\n",
    "def fn_for_photograph(p: Photograph) -> ...: # template based on Compound\n",
    "    return ...(p.file_name, # str\n",
    "               p.file_size, # float in range [0, ...)\n",
    "               p.loc)       # str"
   ]
  },
  {
   "cell_type": "markdown",
   "metadata": {},
   "source": [
    "### Problem 2\n",
    "\n",
    "Design a data definition for a list of photographs."
   ]
  },
  {
   "cell_type": "markdown",
   "metadata": {},
   "source": [
    "#### Step 0\n",
    "\n",
    "Since the problem asks me to design a data definition, the first thing I'll do is open the [How to Design Data Recipe](https://edge.edx.org/courses/course-v1:UBC+CPSC103-201+2016W2/courseware/3e4b71b1e89b448fb5723aacde8eb8b3/1a60d7c7c8534d44af1d1bb7cc9f1355/) page. The first step of the recipe is to identify the inherent structure of the information. In this case, the problem is quite clear that we'll need to create a data definition that can hold an arbitrary number of Photographs. "
   ]
  },
  {
   "cell_type": "markdown",
   "metadata": {},
   "source": [
    "#### Step 1: A data type definition with type comments where Python's types are not specific enough.\n",
    "\n",
    "I will use Python's `List` type and do not need to create a new data type definition because I think that using `List[Photograph]` is just an meaningful as any other type name that I could choose.\n",
    "\n",
    "```python\n",
    "# List[Photograph]\n",
    "```"
   ]
  },
  {
   "cell_type": "markdown",
   "metadata": {},
   "source": [
    "#### Step 2: an interpretation comment that describes the correspondence between information and data\n",
    "\n",
    "It's usually fairly straightforward to write the interpretation for an arbitrary-sized data definition. We can follow the pattern of \"a list of X\" where X is the type that is stored in the list.\n",
    "\n",
    "```python\n",
    "# List[Photograph]\n",
    "# interp. a list of photographs\n",
    "```"
   ]
  },
  {
   "cell_type": "markdown",
   "metadata": {},
   "source": [
    "#### Step 3: one or more examples of the data\n",
    "\n",
    "Here, we want to write enough examples to demonstrate how the type represents information. When we're designing an arbitrary-sized data definition, we always want to include the empty list as an example as well as at least one non-empty example. It's important to include the empty list because it's a bit of a special case; when someone thinks of a list of photographs they may not necessary think of an empty list but it is a case that we want to consider.\n",
    "\n",
    "We could create our examples using the data examples from the `Photograph` data definition or we could create new `Photograph` examples to use. I'll show examples of both. \n",
    "\n",
    "\n",
    "```python\n",
    "# List[Photograph]\n",
    "# interp. a list of photographs\n",
    "\n",
    "L0 = []\n",
    "L1 = [P1, P2] # an example that uses the data examples from Photograph\n",
    "L2 = [Photograph(\"sunset.jpg\", 410.2, \"Maui, HI\"),          # an example that uses new \n",
    "      Photograph(\"main_mall.jpg\", 1412.9, \"Vancouver, BC\")] # examples of Photographs\n",
    "```"
   ]
  },
  {
   "cell_type": "markdown",
   "metadata": {},
   "source": [
    "#### Step 4: A template for a one-argument function operating on data of this type\n",
    "\n",
    "Now we need to write the template. First I'll start with the def line. I know that my template function's name should start with `fn_for` because that's our naming convention. In this case, I'll use `fn_for_lop` where lop stands for list of photographs. I know that my template function needs to take one argument, so therefore needs to have one parameter. I'll call the parameter `lop` since it's type is `List[Photograph]`. (As always, I'll also include a `@typecheck`.)\n",
    "\n",
    "```python\n",
    "@typecheck\n",
    "def fn_for_lop(lop: List[Photograph]) -> ...:\n",
    "```\n",
    "\n",
    "Then, I'll open the [Data Driven Templates page](https://edge.edx.org/courses/course-v1:UBC+CPSC103-201+2016W2/courseware/3e4b71b1e89b448fb5723aacde8eb8b3/d7f77da1e018418a9346814a8b9df430/). Now I need to look through the table for the Arbitrary-Sized row since I'm working on designing an arbitrary-sized data definition. I see that my template needs to include an accumulator and a for loop. (There are other templates that you could use although you are not required to learn how to use them for this course. See the [Alternate Data Definitions page](https://edge.edx.org/courses/course-v1:UBC+CPSC103-201+2016W2/courseware/3e4b71b1e89b448fb5723aacde8eb8b3/d0a4b66ba0b54778bfbb984f8910d109/) if you are interested.) I can copy the body of the template from the table if I'm careful to make the necessary edits (e.g. references to the parameter name).\n",
    "\n",
    "```python\n",
    "@typecheck\n",
    "def fn_for_lop(lop: List[Photograph]) -> ...:\n",
    "    # description of the accumulator\n",
    "    acc = ...      # type: ...\n",
    "    for p in lop:\n",
    "        acc = ...(p, acc)\n",
    "    return ...(acc)\n",
    "```\n",
    "\n",
    "Now, I need to think about whether my template contains any references to other non-primitive types. In this case it does because it is referring to a `Photograph`, `p`, in the for loop. So, I need to follow the \"Other Non-Primitive Type Reference\" rule and insert a call to `Photograph`'s template function.\n",
    "\n",
    "```python\n",
    "@typecheck\n",
    "def fn_for_lop(lop: List[Photograph]) -> ...:\n",
    "    # description of the accumulator\n",
    "    acc = ...      # type: ...\n",
    "    for p in lop:\n",
    "        acc = ...(fn_for_photograph(p), acc)\n",
    "    return ...(acc)\n",
    "```\n",
    "\n",
    "Finally, I need to write the template rules that I used. I used the arbitrary-sized rule and the reference rule.\n",
    "\n",
    "```python\n",
    "@typecheck\n",
    "def fn_for_lop(lop: List[Photograph]) -> ...: # template based on arbitrary-sized  \n",
    "    # description of the accumulator          # and the reference rule\n",
    "    acc = ...      # type: ...\n",
    "    for p in lop:\n",
    "        acc = ...(fn_for_photograph(p), acc)\n",
    "    return ...(acc)\n",
    "```"
   ]
  },
  {
   "cell_type": "markdown",
   "metadata": {},
   "source": [
    "A final solution is below"
   ]
  },
  {
   "cell_type": "code",
   "execution_count": null,
   "metadata": {},
   "outputs": [],
   "source": [
    "from typing import List\n",
    "\n",
    "# List[Photograph]\n",
    "# interp. a list of photographs\n",
    "\n",
    "L0 = []\n",
    "L1 = [P1, P2] # an example that uses the data examples from Photograph\n",
    "L2 = [Photograph(\"sunset.jpg\", 410.2, \"Maui, HI\"),          # an example that uses new \n",
    "      Photograph(\"main_mall.jpg\", 1412.9, \"Vancouver, BC\")] # examples of Photographs\n",
    "\n",
    "@typecheck\n",
    "def fn_for_lop(lop: List[Photograph]) -> ...: # template based on arbitrary-sized and the \n",
    "    # description of the accumulator          # reference rule\n",
    "    acc = ...      # type: ...\n",
    "    for p in lop:\n",
    "        acc = ...(fn_for_photograph(p), acc)\n",
    "    return ...(acc)"
   ]
  },
  {
   "cell_type": "markdown",
   "metadata": {},
   "source": [
    "### Problem 3:\n",
    "\n",
    "Suppose you want to be able to filter your photographs by location.  Design a function that takes a list of photographs and a location (as a string) and returns a list that includes only the photographs that were taken at the given location. \n",
    "\n",
    "Be sure to take advantage of the data definitions from the previous problems, and follow all steps of the HtDF recipe. "
   ]
  },
  {
   "cell_type": "markdown",
   "metadata": {},
   "source": [
    "Since this problem is asking me to design a function, the first thing I'll do is open the [How to Design Functions page](https://edge.edx.org/courses/course-v1:UBC+CPSC103-201+2016W2/courseware/3e4b71b1e89b448fb5723aacde8eb8b3/f4508859471441398254cb38befd8091/).\n",
    "\n",
    "#### Step 1: stub, including signature and purpose\n",
    "\n",
    "I first need to choose a meaningful function name. The problem statement says that the function will filter based on location, so I'll choose `filter_by_location`. The problem statement says that this function takes a list of photographs and a location (as a string), so I know that my function needs two parameters. The problem statement also conveniently gave me their types as well as the return type so I can  fill in the signature as well. \n",
    "\n",
    "```python\n",
    "@typecheck\n",
    "def filter_by_location(lop: List[Photograph], location: str) -> List[Photograph]:\n",
    "```\n",
    "\n",
    "I also need to write a purpose statement and fill in the body of the stub. The problem statement gives me all of the information that I need to write the purpose. \n",
    "\n",
    "In order to complete the body of the stub, I need to look at the return type for this function. I can see from my signature that it returns `List[Photograph]`, so the stub can return anything that is of the type `List[Photograph]`. The empty list is an example of a `List[Photograph]` and it's quick to type so I'll use it. \n",
    "\n",
    "```python\n",
    "@typecheck\n",
    "def filter_by_location(lop: List[Photograph], location: str) -> List[Photograph]:\n",
    "    \"\"\"\n",
    "    return a list containing the photographs from lop that were taken at location\n",
    "    \"\"\"\n",
    "    return []\n",
    "```"
   ]
  },
  {
   "cell_type": "markdown",
   "metadata": {},
   "source": [
    "#### Step 2: examples\n",
    "\n",
    "I now need to write examples for this function. I want to write examples that are thorough enough that they demonstrate the different behaviours of the function. \n",
    "\n",
    "Since one of the arguments to this function is a `List`, it's important to start with an example that takes the empty list first. We want to test the empty case first because often bugs that occur in the empty case also occur in other cases but are much easier to find and debug in the empty case.\n",
    "\n",
    "I also want to include a test where at least one of the photographs from the input list does end up in the output list. I will scroll up to look at my data examples. I see that L1 contains P1 and P2 and that P1 was taken in Vancouver, BC and P2 was taken in Burnaby, BC. I'll write two examples for this list; one that filters for photographs that were taken in Vancouver and one that filters for photographs that were taken in Burnaby.\n",
    "\n",
    "I also want to consider the case that none of the photographs in the list were taken in the given location. I should write a test for that case, too.\n",
    "\n",
    "```python\n",
    "start_testing()\n",
    "\n",
    "expect(filter_by_location([], \"Vancouver, BC\"), [])\n",
    "expect(filter_by_location(L1, \"Vancouver, BC\"), [P1])\n",
    "expect(filter_by_location(L1, \"Burnaby, BC\"), [P2])\n",
    "expect(filter_by_location(L1, \"Port Moody, BC\"), [])\n",
    "\n",
    "summary()\n",
    "```"
   ]
  },
  {
   "cell_type": "markdown",
   "metadata": {},
   "source": [
    "Our partial solution is below. This is a very important partially complete state because we can run our examples now. It's important to run the examples before we comment out the stub so that we can see if they are syntactically correct and that the type checking passes (e.g. that we haven't passed the wrong type to this function or expected the wrong type to be returned from this function)."
   ]
  },
  {
   "cell_type": "code",
   "execution_count": null,
   "metadata": {},
   "outputs": [],
   "source": [
    "@typecheck\n",
    "def filter_by_location(lop: List[Photograph], location: str) -> List[Photograph]:\n",
    "    \"\"\"\n",
    "    return a list containing the photographs from lop that were taken at location\n",
    "    \"\"\"\n",
    "    return []\n",
    "\n",
    "start_testing()\n",
    "\n",
    "expect(filter_by_location([], \"Vancouver, BC\"), [])\n",
    "expect(filter_by_location(L1, \"Vancouver, BC\"), [P1])\n",
    "expect(filter_by_location(L1, \"Burnaby, BC\"), [P2])\n",
    "expect(filter_by_location(L1, \"Port Moody, BC\"), [])\n",
    "\n",
    "summary()"
   ]
  },
  {
   "cell_type": "markdown",
   "metadata": {},
   "source": [
    "Our tests are failing, but that's to be expected because the stub is always returning []. We can see that there are no errors, so it's ok to continue with the rest of the design.\n",
    "\n",
    "#### Step 3: template\n",
    "\n",
    "Since this function takes a list, we'll use the template from the list data definition. I need to copy the template from `List[Photograph]`, write a note about where I copied the template from, comment out the body of the stub, and add in the additional parameter.\n",
    "\n",
    "```python\n",
    "@typecheck\n",
    "def filter_by_location(lop: List[Photograph], location: str) -> List[Photograph]:\n",
    "    \"\"\"\n",
    "    return a list containing the photographs from lop that were taken at location\n",
    "    \"\"\"\n",
    "    # return [] #stub\n",
    "    # template from List[Photograph] with additional parameter\n",
    "\n",
    "    # description of the accumulator          \n",
    "    acc = ...      # type: ...\n",
    "    for p in lop:\n",
    "        acc = ...(fn_for_photograph(p), acc, location)\n",
    "    return ...(acc)\n",
    "    \n",
    "start_testing()\n",
    "\n",
    "expect(filter_by_location([], \"Vancouver, BC\"), [])\n",
    "expect(filter_by_location(L1, \"Vancouver, BC\"), [P1])\n",
    "expect(filter_by_location(L1, \"Burnaby, BC\"), [P2])\n",
    "expect(filter_by_location(L1, \"Port Moody, BC\"), [])\n",
    "\n",
    "summary()\n",
    "```"
   ]
  },
  {
   "cell_type": "markdown",
   "metadata": {},
   "source": [
    "#### Step 4: code the function body\n",
    "\n",
    "Now I need to complete the function body. The first thing I should consider is whether I need an accumulator or not. In this case, I do need an accumulator because I need to store the list of photographs that are taken in the given location so that I can return it at the end of the function. That tells me that the type of the accumulator is `List[Photograph]` and that the initial value must be `[]` since there aren't any photographs to be returned before we start iterating through the list.\n",
    "\n",
    "Now I will look at the body of the for loop. I have to figure out how to determine whether I should add a photograph to the list. The template contains a call to Photograph's template function, which is a very strong hint that I will need to design a helper function here. Let's think about what we need to do... We need to compare the given location with the current photograph's location and if they are the same we want to put the photograph in the accumulator since the accumulator is building up the (eventual) result. Since we need to access a field of photograph **and** do a comparison to the field, we **do** need a helper function. I will edit the template accordingly. Note that I've included a call to `in_location`, but that function doesn't exist yet. I will need to fully design that function before this code will run.\n",
    "\n",
    "```python\n",
    "@typecheck\n",
    "def filter_by_location(lop: List[Photograph], location: str) -> List[Photograph]:\n",
    "    \"\"\"\n",
    "    return a list containing the photographs from lop that were taken at location\n",
    "    \"\"\"\n",
    "    # return [] #stub\n",
    "    # template from List[Photograph] with additional parameter\n",
    "\n",
    "    # description of the accumulator          \n",
    "    acc = []      # type: List[Photograph]\n",
    "    for p in lop:\n",
    "        if in_location(p, location):\n",
    "            acc.append(p)\n",
    "    return ...(acc)\n",
    "    \n",
    "start_testing()\n",
    "\n",
    "expect(filter_by_location([], \"Vancouver, BC\"), [])\n",
    "expect(filter_by_location(L1, \"Vancouver, BC\"), [P1])\n",
    "expect(filter_by_location(L1, \"Burnaby, BC\"), [P2])\n",
    "expect(filter_by_location(L1, \"Port Moody, BC\"), [])\n",
    "\n",
    "summary()\n",
    "```"
   ]
  },
  {
   "cell_type": "markdown",
   "metadata": {},
   "source": [
    "Below is the complete solution, including the fully designed helper function. "
   ]
  },
  {
   "cell_type": "code",
   "execution_count": null,
   "metadata": {},
   "outputs": [],
   "source": [
    "@typecheck\n",
    "def in_location(p: Photograph, location: str) -> bool:\n",
    "    \"\"\"\n",
    "    return True if p was taken in location\n",
    "    \"\"\"\n",
    "    # return False #stub\n",
    "    # template from Photograph with additional parameter\n",
    "    return p.loc == location\n",
    "\n",
    "@typecheck\n",
    "def filter_by_location(lop: List[Photograph], location: str) -> List[Photograph]:\n",
    "    \"\"\"\n",
    "    return a list containing the photographs from lop that were taken at location\n",
    "    \"\"\"\n",
    "    # return [] #stub\n",
    "    # template from List[Photograph] with additional parameter\n",
    "\n",
    "    # acc is the result so far          \n",
    "    acc = []      # type: List[Photograph]\n",
    "    for p in lop:\n",
    "        if in_location(p, location):\n",
    "            acc.append(p)\n",
    "    return acc\n",
    "    \n",
    "start_testing()\n",
    "\n",
    "expect(in_location(P1, \"Vancouver, BC\"), True)\n",
    "expect(in_location(P1, \"Burnaby, BC\"), False)\n",
    "\n",
    "expect(filter_by_location([], \"Vancouver, BC\"), [])\n",
    "expect(filter_by_location(L1, \"Vancouver, BC\"), [P1])\n",
    "expect(filter_by_location(L1, \"Burnaby, BC\"), [P2])\n",
    "expect(filter_by_location(L1, \"Port Moody, BC\"), [])\n",
    "\n",
    "summary()"
   ]
  }
 ],
 "metadata": {
  "kernelspec": {
   "display_name": "Python 3",
   "language": "python",
   "name": "python3"
  },
  "language_info": {
   "codemirror_mode": {
    "name": "ipython",
    "version": 3
   },
   "file_extension": ".py",
   "mimetype": "text/x-python",
   "name": "python",
   "nbconvert_exporter": "python",
   "pygments_lexer": "ipython3",
   "version": "3.6.8"
  }
 },
 "nbformat": 4,
 "nbformat_minor": 2
}
