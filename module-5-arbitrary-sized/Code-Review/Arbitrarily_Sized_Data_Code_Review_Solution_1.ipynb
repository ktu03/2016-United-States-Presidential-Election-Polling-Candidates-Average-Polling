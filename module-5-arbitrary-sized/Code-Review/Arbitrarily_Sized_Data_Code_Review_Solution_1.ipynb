{
 "cells": [
  {
   "cell_type": "code",
   "execution_count": null,
   "metadata": {
    "editable": false
   },
   "outputs": [],
   "source": [
    "from cs103 import *"
   ]
  },
  {
   "cell_type": "markdown",
   "metadata": {
    "editable": false
   },
   "source": [
    "## Problem 1:\n",
    "\n",
    "Use the data definition for an expense that is given below and design a data definition for a list of expenses."
   ]
  },
  {
   "cell_type": "code",
   "execution_count": null,
   "metadata": {
    "editable": false
   },
   "outputs": [],
   "source": [
    "# This cell is uneditable so you can refer back to the original version of the solution.\n",
    "\n",
    "from typing import List\n",
    "from typing import NamedTuple\n",
    "\n",
    "Expense = NamedTuple('Expense', [('type', str),\n",
    "                                 ('cost', float), # in range [0, ...)\n",
    "                                 ('discretionary', bool)])\n",
    "# interp. a expense, including its type, how much it costs, and whether\n",
    "#         it's discretionary\n",
    "E1 = Expense('rent', 700, False)\n",
    "E2 = Expense('entertainment', 100, True)\n",
    "\n",
    "@typecheck\n",
    "def fn_for_expense(e: Expense) -> ...: # template based on Compound\n",
    "    return ...(e.type,\n",
    "               e.cost,\n",
    "               e.discretionary)\n",
    "\n",
    "# Put your solution here\n",
    "\n",
    "#list[Expense]\n",
    "#interp. a list of expenses \n",
    "\n",
    "L0 = []\n",
    "L1 = [E1,E2]\n",
    "\n",
    "@typecheck\n",
    "def fn_for_loe(loe: List[Expense]) -> ...: # template based on arbitrary-sized\n",
    "    #description of the accumulator\n",
    "    acc = ...            #type: ...         # and the reference rule\n",
    "    for e in loe:\n",
    "        ...(fn_for_expense(e), acc)\n",
    "        \n",
    "    return ...(acc)"
   ]
  },
  {
   "cell_type": "code",
   "execution_count": null,
   "metadata": {},
   "outputs": [],
   "source": [
    "# This is an editable version of the question. Feel free to edit this as needed.\n",
    "\n",
    "from typing import List\n",
    "from typing import NamedTuple\n",
    "\n",
    "Expense = NamedTuple('Expense', [('type', str),\n",
    "                                 ('cost', float), # in range [0, ...)\n",
    "                                 ('discretionary', bool)])\n",
    "# interp. a expense, including its type, how much it costs, and whether\n",
    "#         it's discretionary\n",
    "E1 = Expense('rent', 700, False)\n",
    "E2 = Expense('entertainment', 100, True)\n",
    "\n",
    "@typecheck\n",
    "def fn_for_expense(e: Expense) -> ...: # template based on Compound\n",
    "    return ...(e.type,\n",
    "               e.cost,\n",
    "               e.discretionary)\n",
    "\n",
    "# Put your solution here\n",
    "\n",
    "#list[Expense]\n",
    "#interp. a list of expenses \n",
    "\n",
    "L0 = []\n",
    "L1 = [E1,E2]\n",
    "\n",
    "@typecheck\n",
    "def fn_for_loe(loe: List[Expense]) -> ...: # template based on arbitrary-sized\n",
    "    #description of the accumulator\n",
    "    acc = ...            #type: ...         # and the reference rule\n",
    "    for e in loe:\n",
    "        ...(fn_for_expense(e), acc)\n",
    "        \n",
    "    return ...(acc)"
   ]
  },
  {
   "cell_type": "markdown",
   "metadata": {
    "editable": false
   },
   "source": [
    "## Problem 2:\n",
    "\n",
    "You want to work on your monthly budget and be able to figure out if you can afford all of your expenses. Design a function that takes a list of expenses and your monthly budget and determines whether you can afford all of the expenses."
   ]
  },
  {
   "cell_type": "code",
   "execution_count": null,
   "metadata": {
    "editable": false
   },
   "outputs": [],
   "source": [
    "# This cell is uneditable so you can refer back to the original version of the solution.\n",
    "\n",
    "from cs103 import *\n",
    "\n",
    "# your solution goes here\n",
    "@typecheck\n",
    "def afford_expenses(loe: List[Expense], b: float) -> bool:\n",
    "    '''\n",
    "    returns true if you can afford all your expenses by comparing it with your monthly budget(b)\n",
    "    '''\n",
    "    #return False #stub\n",
    "    #template from List[Expense] with additional parameter b\n",
    "    \n",
    "    res = 0\n",
    "    for e in loe:\n",
    "        res = res + e.cost # note that this is sometimes represented as res += e.cost\n",
    "        if res > b:\n",
    "            return False\n",
    "    return True\n",
    "       \n",
    "start_testing()\n",
    "expect (afford_expenses([], 500), True)\n",
    "expect (afford_expenses([E1, E2], 725.5), False)\n",
    "expect (afford_expenses([E2], 80), False)\n",
    "expect (afford_expenses([E1], 10000), True)\n",
    "\n",
    "summary()"
   ]
  },
  {
   "cell_type": "code",
   "execution_count": null,
   "metadata": {},
   "outputs": [],
   "source": [
    "# This cell is editable. Feel free to edit the cell as needed.\n",
    "\n",
    "from cs103 import *\n",
    "\n",
    "# your solution goes here\n",
    "@typecheck\n",
    "def afford_expenses(loe: List[Expense], b: float) -> bool:\n",
    "    '''\n",
    "    returns true if you can afford all your expenses by comparing it with your monthly budget(b)\n",
    "    '''\n",
    "    #return False #stub\n",
    "    #template from List[Expense] with additional parameter b\n",
    "    \n",
    "    res = 0\n",
    "    for e in loe:\n",
    "        res = res + e.cost # note that this is sometimes represented as res += e.cost\n",
    "        if res > b:\n",
    "            return False\n",
    "    return True\n",
    "       \n",
    "start_testing()\n",
    "expect (afford_expenses([], 500), True)\n",
    "expect (afford_expenses([E1, E2], 725.5), False)\n",
    "expect (afford_expenses([E2], 80), False)\n",
    "expect (afford_expenses([E1], 10000), True)\n",
    "\n",
    "summary()"
   ]
  }
 ],
 "metadata": {
  "kernelspec": {
   "display_name": "Python 3 (ipykernel)",
   "language": "python",
   "name": "python3"
  },
  "language_info": {
   "codemirror_mode": {
    "name": "ipython",
    "version": 3
   },
   "file_extension": ".py",
   "mimetype": "text/x-python",
   "name": "python",
   "nbconvert_exporter": "python",
   "pygments_lexer": "ipython3",
   "version": "3.9.9"
  }
 },
 "nbformat": 4,
 "nbformat_minor": 2
}
