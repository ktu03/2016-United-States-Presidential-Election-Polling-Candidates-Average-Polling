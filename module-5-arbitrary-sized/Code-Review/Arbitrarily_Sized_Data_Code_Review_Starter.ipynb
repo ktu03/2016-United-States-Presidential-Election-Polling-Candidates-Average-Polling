{
 "cells": [
  {
   "cell_type": "code",
   "execution_count": null,
   "metadata": {
    "collapsed": true,
    "editable": false
   },
   "outputs": [],
   "source": [
    "from cs103 import *"
   ]
  },
  {
   "cell_type": "markdown",
   "metadata": {
    "editable": false
   },
   "source": [
    "## Problem 1:\n",
    "\n",
    "Use the data definition for an expense that is given below and design a data definition for a list of expenses."
   ]
  },
  {
   "cell_type": "code",
   "execution_count": null,
   "metadata": {
    "collapsed": true,
    "editable": false
   },
   "outputs": [],
   "source": [
    "# This cell is uneditable.\n",
    "\n",
    "from typing import List\n",
    "from typing import NamedTuple\n",
    "\n",
    "Expense = NamedTuple('Expense', [('type', str),\n",
    "                                 ('cost', float), # in range [0, ...)\n",
    "                                 ('discretionary', bool)])\n",
    "# interp. a expense, including its type, how much is costs, and whether\n",
    "#         it's discretionary\n",
    "E1 = Expense('rent', 700, False)\n",
    "E2 = Expense('entertainment', 100, True)\n",
    "\n",
    "@typecheck\n",
    "def fn_for_expense(e: Expense) -> ...: # template based on Compound\n",
    "    return ...(e.type,\n",
    "               e.cost,\n",
    "               e.discretionary)"
   ]
  },
  {
   "cell_type": "code",
   "execution_count": null,
   "metadata": {},
   "outputs": [],
   "source": [
    "# your solution goes here"
   ]
  },
  {
   "cell_type": "markdown",
   "metadata": {
    "editable": false
   },
   "source": [
    "## Problem 2:\n",
    "\n",
    "You want to work on your monthly budget and be able to figure out if you can afford all of your expenses. Design a function that takes a list of expenses and your monthly budget and determines whether you can afford all of the expenses."
   ]
  },
  {
   "cell_type": "code",
   "execution_count": null,
   "metadata": {
    "collapsed": true
   },
   "outputs": [],
   "source": [
    "from cs103 import *\n",
    "\n",
    "# your solution goes here"
   ]
  }
 ],
 "metadata": {
  "kernelspec": {
   "display_name": "Python 3 (ipykernel)",
   "language": "python",
   "name": "python3"
  },
  "language_info": {
   "codemirror_mode": {
    "name": "ipython",
    "version": 3
   },
   "file_extension": ".py",
   "mimetype": "text/x-python",
   "name": "python",
   "nbconvert_exporter": "python",
   "pygments_lexer": "ipython3",
   "version": "3.9.9"
  }
 },
 "nbformat": 4,
 "nbformat_minor": 2
}
