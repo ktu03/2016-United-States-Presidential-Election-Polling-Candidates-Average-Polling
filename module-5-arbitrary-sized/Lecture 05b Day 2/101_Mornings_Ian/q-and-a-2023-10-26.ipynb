{
 "cells": [
  {
   "cell_type": "code",
   "execution_count": 1,
   "id": "a507dc0b-d56c-48d8-abb4-6ef0344a255b",
   "metadata": {},
   "outputs": [],
   "source": [
    "from cs103 import *"
   ]
  },
  {
   "cell_type": "code",
   "execution_count": 2,
   "id": "d604482d-55e3-4880-9b0b-6337a469be6b",
   "metadata": {},
   "outputs": [],
   "source": [
    "# Question and Answer Session! 2023/10/26\n",
    "\n",
    "# Problem:\n",
    "# A classlist for a class can either contain a list of the names of the students\n",
    "# or it can have some special value to indicate that the class is not available for\n",
    "# registration.\n",
    "#\n",
    "# Design a function that takes a classlist and the name of a student and determines\n",
    "# whether the student is registered in that class.\n",
    "\n"
   ]
  },
  {
   "cell_type": "code",
   "execution_count": 5,
   "id": "72721dd8-60e4-4995-b4ca-7ec18b5cf173",
   "metadata": {},
   "outputs": [],
   "source": [
    "from typing import List\n",
    "\n",
    "StudentNames = List[str]\n",
    "# interp. a list of student names\n",
    "SN_EMPTY = []\n",
    "SN1 = ['Steve', 'Steven', 'Sachi'] # a few students\n",
    "\n",
    "# Template from arbitrary-sized\n",
    "@typecheck\n",
    "def fn_for_student_names(sn: StudentNames) -> ...:\n",
    "    # description of the accumulator\n",
    "    acc = ...  # type: ...\n",
    "\n",
    "    for name in sn:\n",
    "        acc = ...(name, acc)\n",
    "\n",
    "    return ...(acc)"
   ]
  },
  {
   "cell_type": "code",
   "execution_count": 7,
   "id": "d6bd12bd-9e6f-4a8f-814d-7e5442eae5bc",
   "metadata": {},
   "outputs": [],
   "source": [
    "from typing import Optional\n",
    "\n",
    "ClassList = Optional[StudentNames]\n",
    "# interp. a classlist for a class, which can either be a list of the names of the\n",
    "# registered students or None to indicate that the class is not available for registration.\n",
    "\n",
    "CL_CLOSED = None # Not open for reg\n",
    "CL_EMPTY = SN_EMPTY\n",
    "CL1 = SN1\n",
    "\n",
    "# Template based on optional and reference rule\n",
    "@typecheck\n",
    "def fn_for_class_list(cl: ClassList) -> ...:\n",
    "    if cl == None:\n",
    "        return ...\n",
    "    else:\n",
    "        return ...(fn_for_student_names(cl))"
   ]
  },
  {
   "cell_type": "code",
   "execution_count": 24,
   "id": "e2d3dd06-87c4-422d-9760-92b3125b3454",
   "metadata": {},
   "outputs": [
    {
     "name": "stdout",
     "output_type": "stream",
     "text": [
      "\u001b[92m6 of 6 tests passed\u001b[0m\n"
     ]
    }
   ],
   "source": [
    "# Dear me, Design a function that takes a StudentNames and a\n",
    "# particular name and determines if that name appears in the list\n",
    "# of names. Oh and name it does_names_contain\n",
    "\n",
    "@typecheck\n",
    "def does_names_contain(names: StudentNames, target_name: str) -> bool:\n",
    "    \"\"\"\n",
    "    returns True if target_name appears in names and otherwise returns False\n",
    "    \"\"\"\n",
    "    #return True # stub\n",
    "    \n",
    "    # found_sf is True if we've found target_name in names so far and False otherwise\n",
    "    found_sf = False  # type: bool\n",
    "\n",
    "    for name in names:\n",
    "        if name == target_name:\n",
    "            found_sf = True\n",
    "\n",
    "    return found_sf\n",
    "\n",
    "start_testing()\n",
    "expect(does_names_contain(SN_EMPTY, 'Rachel'), False)\n",
    "expect(does_names_contain(SN_EMPTY, 'Rik'), False)\n",
    "\n",
    "expect(does_names_contain(['Rik'], 'Rik'), True)\n",
    "expect(does_names_contain(['Rik'], 'Rachel'), False)\n",
    "\n",
    "expect(does_names_contain(SN1, 'Rik'), False)\n",
    "expect(does_names_contain(SN1, 'Steven'), True)\n",
    "\n",
    "summary()"
   ]
  },
  {
   "cell_type": "code",
   "execution_count": 25,
   "id": "de76aca7-0060-4e45-83f6-786636702efa",
   "metadata": {},
   "outputs": [
    {
     "name": "stdout",
     "output_type": "stream",
     "text": [
      "\u001b[92m7 of 7 tests passed\u001b[0m\n"
     ]
    }
   ],
   "source": [
    "# Design a function that takes a classlist and the name of a student and determines\n",
    "# whether the student is registered in that class.\n",
    "\n",
    "#@typecheck\n",
    "def is_registered(cl: ClassList, name: str) -> bool:\n",
    "    \"\"\"\n",
    "    determines whether the student named name appears in cl\n",
    "    \"\"\"\n",
    "    #return False  # stub\n",
    "\n",
    "    # Template from ClassList and additional parameter\n",
    "    if cl == None:\n",
    "        return False\n",
    "    else:\n",
    "        return does_names_contain(cl, name)\n",
    "\n",
    "start_testing()\n",
    "\n",
    "expect(is_registered(CL_CLOSED, 'Ife'), False)\n",
    "expect(is_registered(CL_CLOSED, 'Adam'), False)\n",
    "\n",
    "expect(is_registered(CL_EMPTY, 'Ife'), False)\n",
    "expect(is_registered(CL_EMPTY, 'Adam'), False)\n",
    "\n",
    "expect(is_registered(CL1, 'Ife'), False)\n",
    "expect(is_registered(CL1, 'Sachi'), True)\n",
    "expect(is_registered(CL1, 'Steve'), True)\n",
    "summary()"
   ]
  }
 ],
 "metadata": {
  "kernelspec": {
   "display_name": "Python 3 (ipykernel)",
   "language": "python",
   "name": "python3"
  },
  "language_info": {
   "codemirror_mode": {
    "name": "ipython",
    "version": 3
   },
   "file_extension": ".py",
   "mimetype": "text/x-python",
   "name": "python",
   "nbconvert_exporter": "python",
   "pygments_lexer": "ipython3",
   "version": "3.11.4"
  }
 },
 "nbformat": 4,
 "nbformat_minor": 5
}
